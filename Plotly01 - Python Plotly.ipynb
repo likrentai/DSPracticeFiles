{
 "cells": [
  {
   "cell_type": "markdown",
   "metadata": {},
   "source": [
    "# Plotly, Cufflinks with Pandas\n",
    "* **Plotly** is an open source graphiong library for interactive visualisation plots.\n",
    "* Functions with multiple languages including Python , R, JavaScript, MATLAB, etc.\n",
    "* **Cufflinks** connects plotly with Pandas.\n",
    "* Plotly documentation for Python: https://plotly.com/python/\n",
    "* Plotly Colour Documentation: https://plotly.com/python/colorscales/\n",
    "* Cufflinks Documentation: https://github.com/santosjorge/cufflinks\n",
    "\n",
    "Installation:\n",
    "* **conda/pip install plotly**\n",
    "* **conda/pip install cufflinks**\n",
    "* **conda/pip install chart_studio** (necessary for vsc)\n",
    "* **pip install ipykernel** (Optional)\n",
    "* **pip install --upgrade nbformat** (Optional)\n",
    "___"
   ]
  },
  {
   "cell_type": "code",
   "execution_count": 1,
   "metadata": {
    "collapsed": true
   },
   "outputs": [
    {
     "name": "stdout",
     "output_type": "stream",
     "text": [
      "5.15.0\n"
     ]
    }
   ],
   "source": [
    "# Libraries Import\n",
    "import pandas as pd\n",
    "import numpy as np\n",
    "%matplotlib inline\n",
    "\n",
    "import plotly.express as px\n",
    "import cufflinks as cf\n",
    "from plotly import __version__\n",
    "from plotly.offline import download_plotlyjs, init_notebook_mode, plot, iplot\n",
    "print(__version__)"
   ]
  },
  {
   "cell_type": "code",
   "execution_count": 2,
   "metadata": {
    "collapsed": false
   },
   "outputs": [
    {
     "data": {
      "text/html": [
       "        <script type=\"text/javascript\">\n",
       "        window.PlotlyConfig = {MathJaxConfig: 'local'};\n",
       "        if (window.MathJax && window.MathJax.Hub && window.MathJax.Hub.Config) {window.MathJax.Hub.Config({SVG: {font: \"STIX-Web\"}});}\n",
       "        if (typeof require !== 'undefined') {\n",
       "        require.undef(\"plotly\");\n",
       "        requirejs.config({\n",
       "            paths: {\n",
       "                'plotly': ['https://cdn.plot.ly/plotly-2.24.1.min']\n",
       "            }\n",
       "        });\n",
       "        require(['plotly'], function(Plotly) {\n",
       "            window._Plotly = Plotly;\n",
       "        });\n",
       "        }\n",
       "        </script>\n",
       "        "
      ]
     },
     "metadata": {},
     "output_type": "display_data"
    },
    {
     "data": {
      "text/html": [
       "        <script type=\"text/javascript\">\n",
       "        window.PlotlyConfig = {MathJaxConfig: 'local'};\n",
       "        if (window.MathJax && window.MathJax.Hub && window.MathJax.Hub.Config) {window.MathJax.Hub.Config({SVG: {font: \"STIX-Web\"}});}\n",
       "        if (typeof require !== 'undefined') {\n",
       "        require.undef(\"plotly\");\n",
       "        requirejs.config({\n",
       "            paths: {\n",
       "                'plotly': ['https://cdn.plot.ly/plotly-2.24.1.min']\n",
       "            }\n",
       "        });\n",
       "        require(['plotly'], function(Plotly) {\n",
       "            window._Plotly = Plotly;\n",
       "        });\n",
       "        }\n",
       "        </script>\n",
       "        "
      ]
     },
     "metadata": {},
     "output_type": "display_data"
    }
   ],
   "source": [
    "# Connection for Plotly and Pandas via a JavaScript library to Notebooks\n",
    "init_notebook_mode(connected=True)\n",
    "\n",
    "# For offline use\n",
    "cf.go_offline()"
   ]
  },
  {
   "cell_type": "markdown",
   "metadata": {},
   "source": [
    "___"
   ]
  },
  {
   "cell_type": "code",
   "execution_count": 3,
   "metadata": {
    "collapsed": false
   },
   "outputs": [
    {
     "data": {
      "text/html": [
       "<div>\n",
       "<style scoped>\n",
       "    .dataframe tbody tr th:only-of-type {\n",
       "        vertical-align: middle;\n",
       "    }\n",
       "\n",
       "    .dataframe tbody tr th {\n",
       "        vertical-align: top;\n",
       "    }\n",
       "\n",
       "    .dataframe thead th {\n",
       "        text-align: right;\n",
       "    }\n",
       "</style>\n",
       "<table border=\"1\" class=\"dataframe\">\n",
       "  <thead>\n",
       "    <tr style=\"text-align: right;\">\n",
       "      <th></th>\n",
       "      <th>A</th>\n",
       "      <th>B</th>\n",
       "      <th>C</th>\n",
       "      <th>D</th>\n",
       "    </tr>\n",
       "  </thead>\n",
       "  <tbody>\n",
       "    <tr>\n",
       "      <th>0</th>\n",
       "      <td>-0.517575</td>\n",
       "      <td>-1.617650</td>\n",
       "      <td>0.875773</td>\n",
       "      <td>-0.111388</td>\n",
       "    </tr>\n",
       "    <tr>\n",
       "      <th>1</th>\n",
       "      <td>0.787418</td>\n",
       "      <td>-0.195865</td>\n",
       "      <td>0.810838</td>\n",
       "      <td>1.688999</td>\n",
       "    </tr>\n",
       "    <tr>\n",
       "      <th>2</th>\n",
       "      <td>-0.330324</td>\n",
       "      <td>-1.523922</td>\n",
       "      <td>-1.259651</td>\n",
       "      <td>0.534183</td>\n",
       "    </tr>\n",
       "    <tr>\n",
       "      <th>3</th>\n",
       "      <td>-0.388927</td>\n",
       "      <td>-1.300106</td>\n",
       "      <td>-0.281724</td>\n",
       "      <td>0.627078</td>\n",
       "    </tr>\n",
       "    <tr>\n",
       "      <th>4</th>\n",
       "      <td>1.398014</td>\n",
       "      <td>0.994602</td>\n",
       "      <td>1.013005</td>\n",
       "      <td>0.935312</td>\n",
       "    </tr>\n",
       "  </tbody>\n",
       "</table>\n",
       "</div>"
      ],
      "text/plain": [
       "          A         B         C         D\n",
       "0 -0.517575 -1.617650  0.875773 -0.111388\n",
       "1  0.787418 -0.195865  0.810838  1.688999\n",
       "2 -0.330324 -1.523922 -1.259651  0.534183\n",
       "3 -0.388927 -1.300106 -0.281724  0.627078\n",
       "4  1.398014  0.994602  1.013005  0.935312"
      ]
     },
     "execution_count": 3,
     "metadata": {},
     "output_type": "execute_result"
    }
   ],
   "source": [
    "# Data load set one with numpy random numbers\n",
    "df1 = pd.DataFrame(np.random.randn(100,4), columns='A B C D'.split())\n",
    "df1.head()"
   ]
  },
  {
   "cell_type": "code",
   "execution_count": 4,
   "metadata": {
    "collapsed": true
   },
   "outputs": [
    {
     "data": {
      "text/html": [
       "<div>\n",
       "<style scoped>\n",
       "    .dataframe tbody tr th:only-of-type {\n",
       "        vertical-align: middle;\n",
       "    }\n",
       "\n",
       "    .dataframe tbody tr th {\n",
       "        vertical-align: top;\n",
       "    }\n",
       "\n",
       "    .dataframe thead th {\n",
       "        text-align: right;\n",
       "    }\n",
       "</style>\n",
       "<table border=\"1\" class=\"dataframe\">\n",
       "  <thead>\n",
       "    <tr style=\"text-align: right;\">\n",
       "      <th></th>\n",
       "      <th>Category</th>\n",
       "      <th>Values</th>\n",
       "    </tr>\n",
       "  </thead>\n",
       "  <tbody>\n",
       "    <tr>\n",
       "      <th>0</th>\n",
       "      <td>A</td>\n",
       "      <td>32</td>\n",
       "    </tr>\n",
       "    <tr>\n",
       "      <th>1</th>\n",
       "      <td>B</td>\n",
       "      <td>44</td>\n",
       "    </tr>\n",
       "    <tr>\n",
       "      <th>2</th>\n",
       "      <td>C</td>\n",
       "      <td>50</td>\n",
       "    </tr>\n",
       "  </tbody>\n",
       "</table>\n",
       "</div>"
      ],
      "text/plain": [
       "  Category  Values\n",
       "0        A      32\n",
       "1        B      44\n",
       "2        C      50"
      ]
     },
     "execution_count": 4,
     "metadata": {},
     "output_type": "execute_result"
    }
   ],
   "source": [
    "# Data load set two with prefixed numbers\n",
    "df2 = pd.DataFrame({'Category':['A','B','C'], 'Values':[32,44,50]})\n",
    "df2.head()"
   ]
  },
  {
   "cell_type": "markdown",
   "metadata": {},
   "source": [
    "___\n",
    "## Cufflinks, iplot() & plotly.express\n",
    "* scatter\n",
    "* bar\n",
    "* box\n",
    "* spread\n",
    "* ratio\n",
    "* heatmap\n",
    "* 3d surface\n",
    "* histogram\n",
    "* bubble"
   ]
  },
  {
   "cell_type": "markdown",
   "metadata": {},
   "source": [
    "### 1. Scatter"
   ]
  },
  {
   "cell_type": "code",
   "execution_count": 7,
   "metadata": {},
   "outputs": [
    {
     "data": {
      "application/vnd.plotly.v1+json": {
       "config": {
        "linkText": "Export to plot.ly",
        "plotlyServerURL": "https://plot.ly",
        "showLink": true
       },
       "data": [
        {
         "line": {
          "color": "rgba(255, 153, 51, 1.0)",
          "dash": "solid",
          "shape": "linear",
          "width": 1.3
         },
         "marker": {
          "size": 12,
          "symbol": "circle"
         },
         "mode": "markers",
         "name": "B",
         "text": "",
         "type": "scatter",
         "x": [
          -0.5175747987598753,
          0.7874178240871408,
          -0.3303241596230469,
          -0.3889274484737835,
          1.398014002555591,
          -0.6661487888855997,
          0.4588027927754353,
          0.8072196591789184,
          1.322716974951408,
          -0.2808423448287799,
          1.0285831316657597,
          0.18122064633421675,
          0.3625008667479333,
          1.2408549738805894,
          -1.764253809584876,
          2.221051978185999,
          -0.9588581738948194,
          -0.7498118405572896,
          1.3506818081505532,
          0.99707419977583,
          -1.1645020136815665,
          -1.432780654299108,
          -1.548671010342433,
          -2.1058276816769985,
          0.15139667867171075,
          0.7859406739788566,
          -0.6994742423495774,
          -0.6101040641474186,
          0.15597992281615272,
          -0.21831712753990073,
          0.2364972701689565,
          0.9130927912508556,
          0.27935295737246124,
          -1.1745742820112643,
          0.6167910393644399,
          -0.11590051063274387,
          1.2687850255052535,
          -0.8036047900071129,
          -0.7231022584987874,
          1.1762147641826384,
          -0.4015844744114817,
          0.48119713772290035,
          0.7754986631541783,
          1.5742668468645127,
          0.05694405155320897,
          0.443174145460399,
          -2.19716615002061,
          0.1101530105109855,
          0.14427262993526457,
          0.5815499733705788,
          1.3380803414272335,
          -0.08498165652808194,
          -0.8848523584261805,
          -0.9548391964691753,
          1.5592384184304853,
          0.8727773639529585,
          0.23315622945580555,
          -1.278812328409379,
          0.04992997112168542,
          -1.2867544298043785,
          -0.6847598522949216,
          0.21943101048347305,
          -2.1954679738087113,
          1.2798577609792852,
          -1.6478628376289108,
          -1.0647654341998076,
          -0.1320911904702955,
          0.2608985851302227,
          0.908974410387325,
          -1.656670669424106,
          -1.214959483538708,
          2.333511837794471,
          0.5396550510210347,
          0.2334355443404703,
          0.647051097015659,
          -0.05042806691099681,
          -0.0767931514130902,
          1.0172554712962922,
          1.8147157212242366,
          -0.4639866394238462,
          0.9084562928566613,
          1.3347112150634393,
          0.5814741161205275,
          -0.4885209840949308,
          -1.0630257696725784,
          1.7223113204952538,
          0.1816087506591008,
          -0.31959585295968596,
          -1.2306695598018311,
          0.06799156952462364,
          0.21901466367790484,
          -0.5716084415191679,
          -0.8399758522219853,
          -0.12894790249199567,
          -0.8959612353981341,
          1.5280346068444588,
          1.9100841513993303,
          -0.3813418290442438,
          0.1631572394843557,
          1.1415522455055354
         ],
         "y": [
          -1.6176499144238319,
          -0.1958646669922937,
          -1.5239216513035712,
          -1.3001055699841009,
          0.9946016536869577,
          0.2876272517451415,
          -0.21778829083918622,
          -1.0264427477997906,
          -0.3499782371049708,
          -1.4518300208154018,
          -1.0198193994262221,
          1.2306482324337427,
          1.3879126658546852,
          0.7079832788464391,
          -1.1781540698165822,
          -1.100226852391674,
          -1.2923171106437321,
          -0.8360166651624249,
          -1.3547576933835024,
          -0.6316485677686534,
          0.8322448647889739,
          -0.4578350156271152,
          0.7794114280087318,
          -1.3578759966084877,
          -1.221733366188328,
          1.5430727947697516,
          -0.5757985054336147,
          -2.032385924952694,
          0.5985138743673525,
          0.31870000998575976,
          0.038100410252772735,
          0.40639629963103613,
          -0.35678010516607567,
          0.12166301788369473,
          -1.1997377600735952,
          -2.1043610410761113,
          1.2773685564150732,
          0.35375716055909057,
          1.7374516676304546,
          -1.0818918436799134,
          0.5268789160701783,
          -1.1237568629748722,
          0.4581970822291849,
          -0.41951397363231613,
          0.013453877190553853,
          1.529057441742031,
          1.3016253942793985,
          1.1085255670938885,
          2.5849293161979556,
          -1.6206196744965586,
          -0.17205789496415952,
          -0.7931455578577269,
          1.20326745041183,
          0.39547581966158424,
          -0.853991553314241,
          0.18422117766424848,
          -0.9103155897068166,
          0.5224036669662352,
          0.7341513135943709,
          0.6669059906958148,
          -1.2989869868937267,
          -0.45934044413494945,
          -1.9472060707118293,
          -0.6881785802953827,
          0.22372626834370066,
          -0.059236758681344,
          -0.6609318383556025,
          -0.5453546954035623,
          -0.23578125148294132,
          -0.6394054341104819,
          -0.6312207530994692,
          -0.4968306095351099,
          0.16186221821744526,
          1.066204855698799,
          -0.36887759607969695,
          -1.4645334022172278,
          -1.9423553881080746,
          1.1262505115143044,
          -1.6847452346278207,
          -0.10013047871887834,
          0.48041181460303106,
          0.3440499749428254,
          -0.623085749855274,
          1.4648095115789435,
          0.5727794805806214,
          1.595237308004988,
          0.5379181285195007,
          -1.9506816840556835,
          -0.7638066471582391,
          -1.0701596904885349,
          -0.0017199878192688375,
          -0.9510470410071016,
          1.4156584135229695,
          -0.715781219856494,
          0.1687927168024592,
          -0.012591619332337024,
          0.867522302108549,
          -0.3838047748246692,
          -0.1625743046527574,
          -0.7955276630314176
         ]
        }
       ],
       "layout": {
        "legend": {
         "bgcolor": "#F5F6F9",
         "font": {
          "color": "#4D5663"
         }
        },
        "paper_bgcolor": "#F5F6F9",
        "plot_bgcolor": "#F5F6F9",
        "template": {
         "data": {
          "bar": [
           {
            "error_x": {
             "color": "#2a3f5f"
            },
            "error_y": {
             "color": "#2a3f5f"
            },
            "marker": {
             "line": {
              "color": "#E5ECF6",
              "width": 0.5
             },
             "pattern": {
              "fillmode": "overlay",
              "size": 10,
              "solidity": 0.2
             }
            },
            "type": "bar"
           }
          ],
          "barpolar": [
           {
            "marker": {
             "line": {
              "color": "#E5ECF6",
              "width": 0.5
             },
             "pattern": {
              "fillmode": "overlay",
              "size": 10,
              "solidity": 0.2
             }
            },
            "type": "barpolar"
           }
          ],
          "carpet": [
           {
            "aaxis": {
             "endlinecolor": "#2a3f5f",
             "gridcolor": "white",
             "linecolor": "white",
             "minorgridcolor": "white",
             "startlinecolor": "#2a3f5f"
            },
            "baxis": {
             "endlinecolor": "#2a3f5f",
             "gridcolor": "white",
             "linecolor": "white",
             "minorgridcolor": "white",
             "startlinecolor": "#2a3f5f"
            },
            "type": "carpet"
           }
          ],
          "choropleth": [
           {
            "colorbar": {
             "outlinewidth": 0,
             "ticks": ""
            },
            "type": "choropleth"
           }
          ],
          "contour": [
           {
            "colorbar": {
             "outlinewidth": 0,
             "ticks": ""
            },
            "colorscale": [
             [
              0,
              "#0d0887"
             ],
             [
              0.1111111111111111,
              "#46039f"
             ],
             [
              0.2222222222222222,
              "#7201a8"
             ],
             [
              0.3333333333333333,
              "#9c179e"
             ],
             [
              0.4444444444444444,
              "#bd3786"
             ],
             [
              0.5555555555555556,
              "#d8576b"
             ],
             [
              0.6666666666666666,
              "#ed7953"
             ],
             [
              0.7777777777777778,
              "#fb9f3a"
             ],
             [
              0.8888888888888888,
              "#fdca26"
             ],
             [
              1,
              "#f0f921"
             ]
            ],
            "type": "contour"
           }
          ],
          "contourcarpet": [
           {
            "colorbar": {
             "outlinewidth": 0,
             "ticks": ""
            },
            "type": "contourcarpet"
           }
          ],
          "heatmap": [
           {
            "colorbar": {
             "outlinewidth": 0,
             "ticks": ""
            },
            "colorscale": [
             [
              0,
              "#0d0887"
             ],
             [
              0.1111111111111111,
              "#46039f"
             ],
             [
              0.2222222222222222,
              "#7201a8"
             ],
             [
              0.3333333333333333,
              "#9c179e"
             ],
             [
              0.4444444444444444,
              "#bd3786"
             ],
             [
              0.5555555555555556,
              "#d8576b"
             ],
             [
              0.6666666666666666,
              "#ed7953"
             ],
             [
              0.7777777777777778,
              "#fb9f3a"
             ],
             [
              0.8888888888888888,
              "#fdca26"
             ],
             [
              1,
              "#f0f921"
             ]
            ],
            "type": "heatmap"
           }
          ],
          "heatmapgl": [
           {
            "colorbar": {
             "outlinewidth": 0,
             "ticks": ""
            },
            "colorscale": [
             [
              0,
              "#0d0887"
             ],
             [
              0.1111111111111111,
              "#46039f"
             ],
             [
              0.2222222222222222,
              "#7201a8"
             ],
             [
              0.3333333333333333,
              "#9c179e"
             ],
             [
              0.4444444444444444,
              "#bd3786"
             ],
             [
              0.5555555555555556,
              "#d8576b"
             ],
             [
              0.6666666666666666,
              "#ed7953"
             ],
             [
              0.7777777777777778,
              "#fb9f3a"
             ],
             [
              0.8888888888888888,
              "#fdca26"
             ],
             [
              1,
              "#f0f921"
             ]
            ],
            "type": "heatmapgl"
           }
          ],
          "histogram": [
           {
            "marker": {
             "pattern": {
              "fillmode": "overlay",
              "size": 10,
              "solidity": 0.2
             }
            },
            "type": "histogram"
           }
          ],
          "histogram2d": [
           {
            "colorbar": {
             "outlinewidth": 0,
             "ticks": ""
            },
            "colorscale": [
             [
              0,
              "#0d0887"
             ],
             [
              0.1111111111111111,
              "#46039f"
             ],
             [
              0.2222222222222222,
              "#7201a8"
             ],
             [
              0.3333333333333333,
              "#9c179e"
             ],
             [
              0.4444444444444444,
              "#bd3786"
             ],
             [
              0.5555555555555556,
              "#d8576b"
             ],
             [
              0.6666666666666666,
              "#ed7953"
             ],
             [
              0.7777777777777778,
              "#fb9f3a"
             ],
             [
              0.8888888888888888,
              "#fdca26"
             ],
             [
              1,
              "#f0f921"
             ]
            ],
            "type": "histogram2d"
           }
          ],
          "histogram2dcontour": [
           {
            "colorbar": {
             "outlinewidth": 0,
             "ticks": ""
            },
            "colorscale": [
             [
              0,
              "#0d0887"
             ],
             [
              0.1111111111111111,
              "#46039f"
             ],
             [
              0.2222222222222222,
              "#7201a8"
             ],
             [
              0.3333333333333333,
              "#9c179e"
             ],
             [
              0.4444444444444444,
              "#bd3786"
             ],
             [
              0.5555555555555556,
              "#d8576b"
             ],
             [
              0.6666666666666666,
              "#ed7953"
             ],
             [
              0.7777777777777778,
              "#fb9f3a"
             ],
             [
              0.8888888888888888,
              "#fdca26"
             ],
             [
              1,
              "#f0f921"
             ]
            ],
            "type": "histogram2dcontour"
           }
          ],
          "mesh3d": [
           {
            "colorbar": {
             "outlinewidth": 0,
             "ticks": ""
            },
            "type": "mesh3d"
           }
          ],
          "parcoords": [
           {
            "line": {
             "colorbar": {
              "outlinewidth": 0,
              "ticks": ""
             }
            },
            "type": "parcoords"
           }
          ],
          "pie": [
           {
            "automargin": true,
            "type": "pie"
           }
          ],
          "scatter": [
           {
            "fillpattern": {
             "fillmode": "overlay",
             "size": 10,
             "solidity": 0.2
            },
            "type": "scatter"
           }
          ],
          "scatter3d": [
           {
            "line": {
             "colorbar": {
              "outlinewidth": 0,
              "ticks": ""
             }
            },
            "marker": {
             "colorbar": {
              "outlinewidth": 0,
              "ticks": ""
             }
            },
            "type": "scatter3d"
           }
          ],
          "scattercarpet": [
           {
            "marker": {
             "colorbar": {
              "outlinewidth": 0,
              "ticks": ""
             }
            },
            "type": "scattercarpet"
           }
          ],
          "scattergeo": [
           {
            "marker": {
             "colorbar": {
              "outlinewidth": 0,
              "ticks": ""
             }
            },
            "type": "scattergeo"
           }
          ],
          "scattergl": [
           {
            "marker": {
             "colorbar": {
              "outlinewidth": 0,
              "ticks": ""
             }
            },
            "type": "scattergl"
           }
          ],
          "scattermapbox": [
           {
            "marker": {
             "colorbar": {
              "outlinewidth": 0,
              "ticks": ""
             }
            },
            "type": "scattermapbox"
           }
          ],
          "scatterpolar": [
           {
            "marker": {
             "colorbar": {
              "outlinewidth": 0,
              "ticks": ""
             }
            },
            "type": "scatterpolar"
           }
          ],
          "scatterpolargl": [
           {
            "marker": {
             "colorbar": {
              "outlinewidth": 0,
              "ticks": ""
             }
            },
            "type": "scatterpolargl"
           }
          ],
          "scatterternary": [
           {
            "marker": {
             "colorbar": {
              "outlinewidth": 0,
              "ticks": ""
             }
            },
            "type": "scatterternary"
           }
          ],
          "surface": [
           {
            "colorbar": {
             "outlinewidth": 0,
             "ticks": ""
            },
            "colorscale": [
             [
              0,
              "#0d0887"
             ],
             [
              0.1111111111111111,
              "#46039f"
             ],
             [
              0.2222222222222222,
              "#7201a8"
             ],
             [
              0.3333333333333333,
              "#9c179e"
             ],
             [
              0.4444444444444444,
              "#bd3786"
             ],
             [
              0.5555555555555556,
              "#d8576b"
             ],
             [
              0.6666666666666666,
              "#ed7953"
             ],
             [
              0.7777777777777778,
              "#fb9f3a"
             ],
             [
              0.8888888888888888,
              "#fdca26"
             ],
             [
              1,
              "#f0f921"
             ]
            ],
            "type": "surface"
           }
          ],
          "table": [
           {
            "cells": {
             "fill": {
              "color": "#EBF0F8"
             },
             "line": {
              "color": "white"
             }
            },
            "header": {
             "fill": {
              "color": "#C8D4E3"
             },
             "line": {
              "color": "white"
             }
            },
            "type": "table"
           }
          ]
         },
         "layout": {
          "annotationdefaults": {
           "arrowcolor": "#2a3f5f",
           "arrowhead": 0,
           "arrowwidth": 1
          },
          "autotypenumbers": "strict",
          "coloraxis": {
           "colorbar": {
            "outlinewidth": 0,
            "ticks": ""
           }
          },
          "colorscale": {
           "diverging": [
            [
             0,
             "#8e0152"
            ],
            [
             0.1,
             "#c51b7d"
            ],
            [
             0.2,
             "#de77ae"
            ],
            [
             0.3,
             "#f1b6da"
            ],
            [
             0.4,
             "#fde0ef"
            ],
            [
             0.5,
             "#f7f7f7"
            ],
            [
             0.6,
             "#e6f5d0"
            ],
            [
             0.7,
             "#b8e186"
            ],
            [
             0.8,
             "#7fbc41"
            ],
            [
             0.9,
             "#4d9221"
            ],
            [
             1,
             "#276419"
            ]
           ],
           "sequential": [
            [
             0,
             "#0d0887"
            ],
            [
             0.1111111111111111,
             "#46039f"
            ],
            [
             0.2222222222222222,
             "#7201a8"
            ],
            [
             0.3333333333333333,
             "#9c179e"
            ],
            [
             0.4444444444444444,
             "#bd3786"
            ],
            [
             0.5555555555555556,
             "#d8576b"
            ],
            [
             0.6666666666666666,
             "#ed7953"
            ],
            [
             0.7777777777777778,
             "#fb9f3a"
            ],
            [
             0.8888888888888888,
             "#fdca26"
            ],
            [
             1,
             "#f0f921"
            ]
           ],
           "sequentialminus": [
            [
             0,
             "#0d0887"
            ],
            [
             0.1111111111111111,
             "#46039f"
            ],
            [
             0.2222222222222222,
             "#7201a8"
            ],
            [
             0.3333333333333333,
             "#9c179e"
            ],
            [
             0.4444444444444444,
             "#bd3786"
            ],
            [
             0.5555555555555556,
             "#d8576b"
            ],
            [
             0.6666666666666666,
             "#ed7953"
            ],
            [
             0.7777777777777778,
             "#fb9f3a"
            ],
            [
             0.8888888888888888,
             "#fdca26"
            ],
            [
             1,
             "#f0f921"
            ]
           ]
          },
          "colorway": [
           "#636efa",
           "#EF553B",
           "#00cc96",
           "#ab63fa",
           "#FFA15A",
           "#19d3f3",
           "#FF6692",
           "#B6E880",
           "#FF97FF",
           "#FECB52"
          ],
          "font": {
           "color": "#2a3f5f"
          },
          "geo": {
           "bgcolor": "white",
           "lakecolor": "white",
           "landcolor": "#E5ECF6",
           "showlakes": true,
           "showland": true,
           "subunitcolor": "white"
          },
          "hoverlabel": {
           "align": "left"
          },
          "hovermode": "closest",
          "mapbox": {
           "style": "light"
          },
          "paper_bgcolor": "white",
          "plot_bgcolor": "#E5ECF6",
          "polar": {
           "angularaxis": {
            "gridcolor": "white",
            "linecolor": "white",
            "ticks": ""
           },
           "bgcolor": "#E5ECF6",
           "radialaxis": {
            "gridcolor": "white",
            "linecolor": "white",
            "ticks": ""
           }
          },
          "scene": {
           "xaxis": {
            "backgroundcolor": "#E5ECF6",
            "gridcolor": "white",
            "gridwidth": 2,
            "linecolor": "white",
            "showbackground": true,
            "ticks": "",
            "zerolinecolor": "white"
           },
           "yaxis": {
            "backgroundcolor": "#E5ECF6",
            "gridcolor": "white",
            "gridwidth": 2,
            "linecolor": "white",
            "showbackground": true,
            "ticks": "",
            "zerolinecolor": "white"
           },
           "zaxis": {
            "backgroundcolor": "#E5ECF6",
            "gridcolor": "white",
            "gridwidth": 2,
            "linecolor": "white",
            "showbackground": true,
            "ticks": "",
            "zerolinecolor": "white"
           }
          },
          "shapedefaults": {
           "line": {
            "color": "#2a3f5f"
           }
          },
          "ternary": {
           "aaxis": {
            "gridcolor": "white",
            "linecolor": "white",
            "ticks": ""
           },
           "baxis": {
            "gridcolor": "white",
            "linecolor": "white",
            "ticks": ""
           },
           "bgcolor": "#E5ECF6",
           "caxis": {
            "gridcolor": "white",
            "linecolor": "white",
            "ticks": ""
           }
          },
          "title": {
           "x": 0.05
          },
          "xaxis": {
           "automargin": true,
           "gridcolor": "white",
           "linecolor": "white",
           "ticks": "",
           "title": {
            "standoff": 15
           },
           "zerolinecolor": "white",
           "zerolinewidth": 2
          },
          "yaxis": {
           "automargin": true,
           "gridcolor": "white",
           "linecolor": "white",
           "ticks": "",
           "title": {
            "standoff": 15
           },
           "zerolinecolor": "white",
           "zerolinewidth": 2
          }
         }
        },
        "title": {
         "font": {
          "color": "#4D5663"
         }
        },
        "xaxis": {
         "gridcolor": "#E1E5ED",
         "showgrid": true,
         "tickfont": {
          "color": "#4D5663"
         },
         "title": {
          "font": {
           "color": "#4D5663"
          },
          "text": ""
         },
         "zerolinecolor": "#E1E5ED"
        },
        "yaxis": {
         "gridcolor": "#E1E5ED",
         "showgrid": true,
         "tickfont": {
          "color": "#4D5663"
         },
         "title": {
          "font": {
           "color": "#4D5663"
          },
          "text": ""
         },
         "zerolinecolor": "#E1E5ED"
        }
       }
      },
      "text/html": [
       "<div>                            <div id=\"23400183-9459-45ae-a325-95fe35f9b782\" class=\"plotly-graph-div\" style=\"height:525px; width:100%;\"></div>            <script type=\"text/javascript\">                require([\"plotly\"], function(Plotly) {                    window.PLOTLYENV=window.PLOTLYENV || {};\n",
       "                    window.PLOTLYENV.BASE_URL='https://plot.ly';                                    if (document.getElementById(\"23400183-9459-45ae-a325-95fe35f9b782\")) {                    Plotly.newPlot(                        \"23400183-9459-45ae-a325-95fe35f9b782\",                        [{\"line\":{\"color\":\"rgba(255, 153, 51, 1.0)\",\"dash\":\"solid\",\"shape\":\"linear\",\"width\":1.3},\"marker\":{\"size\":12,\"symbol\":\"circle\"},\"mode\":\"markers\",\"name\":\"B\",\"text\":\"\",\"x\":[-0.5175747987598753,0.7874178240871408,-0.3303241596230469,-0.3889274484737835,1.398014002555591,-0.6661487888855997,0.4588027927754353,0.8072196591789184,1.322716974951408,-0.2808423448287799,1.0285831316657597,0.18122064633421675,0.3625008667479333,1.2408549738805894,-1.764253809584876,2.221051978185999,-0.9588581738948194,-0.7498118405572896,1.3506818081505532,0.99707419977583,-1.1645020136815665,-1.432780654299108,-1.548671010342433,-2.1058276816769985,0.15139667867171075,0.7859406739788566,-0.6994742423495774,-0.6101040641474186,0.15597992281615272,-0.21831712753990073,0.2364972701689565,0.9130927912508556,0.27935295737246124,-1.1745742820112643,0.6167910393644399,-0.11590051063274387,1.2687850255052535,-0.8036047900071129,-0.7231022584987874,1.1762147641826384,-0.4015844744114817,0.48119713772290035,0.7754986631541783,1.5742668468645127,0.05694405155320897,0.443174145460399,-2.19716615002061,0.1101530105109855,0.14427262993526457,0.5815499733705788,1.3380803414272335,-0.08498165652808194,-0.8848523584261805,-0.9548391964691753,1.5592384184304853,0.8727773639529585,0.23315622945580555,-1.278812328409379,0.04992997112168542,-1.2867544298043785,-0.6847598522949216,0.21943101048347305,-2.1954679738087113,1.2798577609792852,-1.6478628376289108,-1.0647654341998076,-0.1320911904702955,0.2608985851302227,0.908974410387325,-1.656670669424106,-1.214959483538708,2.333511837794471,0.5396550510210347,0.2334355443404703,0.647051097015659,-0.05042806691099681,-0.0767931514130902,1.0172554712962922,1.8147157212242366,-0.4639866394238462,0.9084562928566613,1.3347112150634393,0.5814741161205275,-0.4885209840949308,-1.0630257696725784,1.7223113204952538,0.1816087506591008,-0.31959585295968596,-1.2306695598018311,0.06799156952462364,0.21901466367790484,-0.5716084415191679,-0.8399758522219853,-0.12894790249199567,-0.8959612353981341,1.5280346068444588,1.9100841513993303,-0.3813418290442438,0.1631572394843557,1.1415522455055354],\"y\":[-1.6176499144238319,-0.1958646669922937,-1.5239216513035712,-1.3001055699841009,0.9946016536869577,0.2876272517451415,-0.21778829083918622,-1.0264427477997906,-0.3499782371049708,-1.4518300208154018,-1.0198193994262221,1.2306482324337427,1.3879126658546852,0.7079832788464391,-1.1781540698165822,-1.100226852391674,-1.2923171106437321,-0.8360166651624249,-1.3547576933835024,-0.6316485677686534,0.8322448647889739,-0.4578350156271152,0.7794114280087318,-1.3578759966084877,-1.221733366188328,1.5430727947697516,-0.5757985054336147,-2.032385924952694,0.5985138743673525,0.31870000998575976,0.038100410252772735,0.40639629963103613,-0.35678010516607567,0.12166301788369473,-1.1997377600735952,-2.1043610410761113,1.2773685564150732,0.35375716055909057,1.7374516676304546,-1.0818918436799134,0.5268789160701783,-1.1237568629748722,0.4581970822291849,-0.41951397363231613,0.013453877190553853,1.529057441742031,1.3016253942793985,1.1085255670938885,2.5849293161979556,-1.6206196744965586,-0.17205789496415952,-0.7931455578577269,1.20326745041183,0.39547581966158424,-0.853991553314241,0.18422117766424848,-0.9103155897068166,0.5224036669662352,0.7341513135943709,0.6669059906958148,-1.2989869868937267,-0.45934044413494945,-1.9472060707118293,-0.6881785802953827,0.22372626834370066,-0.059236758681344,-0.6609318383556025,-0.5453546954035623,-0.23578125148294132,-0.6394054341104819,-0.6312207530994692,-0.4968306095351099,0.16186221821744526,1.066204855698799,-0.36887759607969695,-1.4645334022172278,-1.9423553881080746,1.1262505115143044,-1.6847452346278207,-0.10013047871887834,0.48041181460303106,0.3440499749428254,-0.623085749855274,1.4648095115789435,0.5727794805806214,1.595237308004988,0.5379181285195007,-1.9506816840556835,-0.7638066471582391,-1.0701596904885349,-0.0017199878192688375,-0.9510470410071016,1.4156584135229695,-0.715781219856494,0.1687927168024592,-0.012591619332337024,0.867522302108549,-0.3838047748246692,-0.1625743046527574,-0.7955276630314176],\"type\":\"scatter\"}],                        {\"legend\":{\"bgcolor\":\"#F5F6F9\",\"font\":{\"color\":\"#4D5663\"}},\"paper_bgcolor\":\"#F5F6F9\",\"plot_bgcolor\":\"#F5F6F9\",\"template\":{\"data\":{\"barpolar\":[{\"marker\":{\"line\":{\"color\":\"#E5ECF6\",\"width\":0.5},\"pattern\":{\"fillmode\":\"overlay\",\"size\":10,\"solidity\":0.2}},\"type\":\"barpolar\"}],\"bar\":[{\"error_x\":{\"color\":\"#2a3f5f\"},\"error_y\":{\"color\":\"#2a3f5f\"},\"marker\":{\"line\":{\"color\":\"#E5ECF6\",\"width\":0.5},\"pattern\":{\"fillmode\":\"overlay\",\"size\":10,\"solidity\":0.2}},\"type\":\"bar\"}],\"carpet\":[{\"aaxis\":{\"endlinecolor\":\"#2a3f5f\",\"gridcolor\":\"white\",\"linecolor\":\"white\",\"minorgridcolor\":\"white\",\"startlinecolor\":\"#2a3f5f\"},\"baxis\":{\"endlinecolor\":\"#2a3f5f\",\"gridcolor\":\"white\",\"linecolor\":\"white\",\"minorgridcolor\":\"white\",\"startlinecolor\":\"#2a3f5f\"},\"type\":\"carpet\"}],\"choropleth\":[{\"colorbar\":{\"outlinewidth\":0,\"ticks\":\"\"},\"type\":\"choropleth\"}],\"contourcarpet\":[{\"colorbar\":{\"outlinewidth\":0,\"ticks\":\"\"},\"type\":\"contourcarpet\"}],\"contour\":[{\"colorbar\":{\"outlinewidth\":0,\"ticks\":\"\"},\"colorscale\":[[0.0,\"#0d0887\"],[0.1111111111111111,\"#46039f\"],[0.2222222222222222,\"#7201a8\"],[0.3333333333333333,\"#9c179e\"],[0.4444444444444444,\"#bd3786\"],[0.5555555555555556,\"#d8576b\"],[0.6666666666666666,\"#ed7953\"],[0.7777777777777778,\"#fb9f3a\"],[0.8888888888888888,\"#fdca26\"],[1.0,\"#f0f921\"]],\"type\":\"contour\"}],\"heatmapgl\":[{\"colorbar\":{\"outlinewidth\":0,\"ticks\":\"\"},\"colorscale\":[[0.0,\"#0d0887\"],[0.1111111111111111,\"#46039f\"],[0.2222222222222222,\"#7201a8\"],[0.3333333333333333,\"#9c179e\"],[0.4444444444444444,\"#bd3786\"],[0.5555555555555556,\"#d8576b\"],[0.6666666666666666,\"#ed7953\"],[0.7777777777777778,\"#fb9f3a\"],[0.8888888888888888,\"#fdca26\"],[1.0,\"#f0f921\"]],\"type\":\"heatmapgl\"}],\"heatmap\":[{\"colorbar\":{\"outlinewidth\":0,\"ticks\":\"\"},\"colorscale\":[[0.0,\"#0d0887\"],[0.1111111111111111,\"#46039f\"],[0.2222222222222222,\"#7201a8\"],[0.3333333333333333,\"#9c179e\"],[0.4444444444444444,\"#bd3786\"],[0.5555555555555556,\"#d8576b\"],[0.6666666666666666,\"#ed7953\"],[0.7777777777777778,\"#fb9f3a\"],[0.8888888888888888,\"#fdca26\"],[1.0,\"#f0f921\"]],\"type\":\"heatmap\"}],\"histogram2dcontour\":[{\"colorbar\":{\"outlinewidth\":0,\"ticks\":\"\"},\"colorscale\":[[0.0,\"#0d0887\"],[0.1111111111111111,\"#46039f\"],[0.2222222222222222,\"#7201a8\"],[0.3333333333333333,\"#9c179e\"],[0.4444444444444444,\"#bd3786\"],[0.5555555555555556,\"#d8576b\"],[0.6666666666666666,\"#ed7953\"],[0.7777777777777778,\"#fb9f3a\"],[0.8888888888888888,\"#fdca26\"],[1.0,\"#f0f921\"]],\"type\":\"histogram2dcontour\"}],\"histogram2d\":[{\"colorbar\":{\"outlinewidth\":0,\"ticks\":\"\"},\"colorscale\":[[0.0,\"#0d0887\"],[0.1111111111111111,\"#46039f\"],[0.2222222222222222,\"#7201a8\"],[0.3333333333333333,\"#9c179e\"],[0.4444444444444444,\"#bd3786\"],[0.5555555555555556,\"#d8576b\"],[0.6666666666666666,\"#ed7953\"],[0.7777777777777778,\"#fb9f3a\"],[0.8888888888888888,\"#fdca26\"],[1.0,\"#f0f921\"]],\"type\":\"histogram2d\"}],\"histogram\":[{\"marker\":{\"pattern\":{\"fillmode\":\"overlay\",\"size\":10,\"solidity\":0.2}},\"type\":\"histogram\"}],\"mesh3d\":[{\"colorbar\":{\"outlinewidth\":0,\"ticks\":\"\"},\"type\":\"mesh3d\"}],\"parcoords\":[{\"line\":{\"colorbar\":{\"outlinewidth\":0,\"ticks\":\"\"}},\"type\":\"parcoords\"}],\"pie\":[{\"automargin\":true,\"type\":\"pie\"}],\"scatter3d\":[{\"line\":{\"colorbar\":{\"outlinewidth\":0,\"ticks\":\"\"}},\"marker\":{\"colorbar\":{\"outlinewidth\":0,\"ticks\":\"\"}},\"type\":\"scatter3d\"}],\"scattercarpet\":[{\"marker\":{\"colorbar\":{\"outlinewidth\":0,\"ticks\":\"\"}},\"type\":\"scattercarpet\"}],\"scattergeo\":[{\"marker\":{\"colorbar\":{\"outlinewidth\":0,\"ticks\":\"\"}},\"type\":\"scattergeo\"}],\"scattergl\":[{\"marker\":{\"colorbar\":{\"outlinewidth\":0,\"ticks\":\"\"}},\"type\":\"scattergl\"}],\"scattermapbox\":[{\"marker\":{\"colorbar\":{\"outlinewidth\":0,\"ticks\":\"\"}},\"type\":\"scattermapbox\"}],\"scatterpolargl\":[{\"marker\":{\"colorbar\":{\"outlinewidth\":0,\"ticks\":\"\"}},\"type\":\"scatterpolargl\"}],\"scatterpolar\":[{\"marker\":{\"colorbar\":{\"outlinewidth\":0,\"ticks\":\"\"}},\"type\":\"scatterpolar\"}],\"scatter\":[{\"fillpattern\":{\"fillmode\":\"overlay\",\"size\":10,\"solidity\":0.2},\"type\":\"scatter\"}],\"scatterternary\":[{\"marker\":{\"colorbar\":{\"outlinewidth\":0,\"ticks\":\"\"}},\"type\":\"scatterternary\"}],\"surface\":[{\"colorbar\":{\"outlinewidth\":0,\"ticks\":\"\"},\"colorscale\":[[0.0,\"#0d0887\"],[0.1111111111111111,\"#46039f\"],[0.2222222222222222,\"#7201a8\"],[0.3333333333333333,\"#9c179e\"],[0.4444444444444444,\"#bd3786\"],[0.5555555555555556,\"#d8576b\"],[0.6666666666666666,\"#ed7953\"],[0.7777777777777778,\"#fb9f3a\"],[0.8888888888888888,\"#fdca26\"],[1.0,\"#f0f921\"]],\"type\":\"surface\"}],\"table\":[{\"cells\":{\"fill\":{\"color\":\"#EBF0F8\"},\"line\":{\"color\":\"white\"}},\"header\":{\"fill\":{\"color\":\"#C8D4E3\"},\"line\":{\"color\":\"white\"}},\"type\":\"table\"}]},\"layout\":{\"annotationdefaults\":{\"arrowcolor\":\"#2a3f5f\",\"arrowhead\":0,\"arrowwidth\":1},\"autotypenumbers\":\"strict\",\"coloraxis\":{\"colorbar\":{\"outlinewidth\":0,\"ticks\":\"\"}},\"colorscale\":{\"diverging\":[[0,\"#8e0152\"],[0.1,\"#c51b7d\"],[0.2,\"#de77ae\"],[0.3,\"#f1b6da\"],[0.4,\"#fde0ef\"],[0.5,\"#f7f7f7\"],[0.6,\"#e6f5d0\"],[0.7,\"#b8e186\"],[0.8,\"#7fbc41\"],[0.9,\"#4d9221\"],[1,\"#276419\"]],\"sequential\":[[0.0,\"#0d0887\"],[0.1111111111111111,\"#46039f\"],[0.2222222222222222,\"#7201a8\"],[0.3333333333333333,\"#9c179e\"],[0.4444444444444444,\"#bd3786\"],[0.5555555555555556,\"#d8576b\"],[0.6666666666666666,\"#ed7953\"],[0.7777777777777778,\"#fb9f3a\"],[0.8888888888888888,\"#fdca26\"],[1.0,\"#f0f921\"]],\"sequentialminus\":[[0.0,\"#0d0887\"],[0.1111111111111111,\"#46039f\"],[0.2222222222222222,\"#7201a8\"],[0.3333333333333333,\"#9c179e\"],[0.4444444444444444,\"#bd3786\"],[0.5555555555555556,\"#d8576b\"],[0.6666666666666666,\"#ed7953\"],[0.7777777777777778,\"#fb9f3a\"],[0.8888888888888888,\"#fdca26\"],[1.0,\"#f0f921\"]]},\"colorway\":[\"#636efa\",\"#EF553B\",\"#00cc96\",\"#ab63fa\",\"#FFA15A\",\"#19d3f3\",\"#FF6692\",\"#B6E880\",\"#FF97FF\",\"#FECB52\"],\"font\":{\"color\":\"#2a3f5f\"},\"geo\":{\"bgcolor\":\"white\",\"lakecolor\":\"white\",\"landcolor\":\"#E5ECF6\",\"showlakes\":true,\"showland\":true,\"subunitcolor\":\"white\"},\"hoverlabel\":{\"align\":\"left\"},\"hovermode\":\"closest\",\"mapbox\":{\"style\":\"light\"},\"paper_bgcolor\":\"white\",\"plot_bgcolor\":\"#E5ECF6\",\"polar\":{\"angularaxis\":{\"gridcolor\":\"white\",\"linecolor\":\"white\",\"ticks\":\"\"},\"bgcolor\":\"#E5ECF6\",\"radialaxis\":{\"gridcolor\":\"white\",\"linecolor\":\"white\",\"ticks\":\"\"}},\"scene\":{\"xaxis\":{\"backgroundcolor\":\"#E5ECF6\",\"gridcolor\":\"white\",\"gridwidth\":2,\"linecolor\":\"white\",\"showbackground\":true,\"ticks\":\"\",\"zerolinecolor\":\"white\"},\"yaxis\":{\"backgroundcolor\":\"#E5ECF6\",\"gridcolor\":\"white\",\"gridwidth\":2,\"linecolor\":\"white\",\"showbackground\":true,\"ticks\":\"\",\"zerolinecolor\":\"white\"},\"zaxis\":{\"backgroundcolor\":\"#E5ECF6\",\"gridcolor\":\"white\",\"gridwidth\":2,\"linecolor\":\"white\",\"showbackground\":true,\"ticks\":\"\",\"zerolinecolor\":\"white\"}},\"shapedefaults\":{\"line\":{\"color\":\"#2a3f5f\"}},\"ternary\":{\"aaxis\":{\"gridcolor\":\"white\",\"linecolor\":\"white\",\"ticks\":\"\"},\"baxis\":{\"gridcolor\":\"white\",\"linecolor\":\"white\",\"ticks\":\"\"},\"bgcolor\":\"#E5ECF6\",\"caxis\":{\"gridcolor\":\"white\",\"linecolor\":\"white\",\"ticks\":\"\"}},\"title\":{\"x\":0.05},\"xaxis\":{\"automargin\":true,\"gridcolor\":\"white\",\"linecolor\":\"white\",\"ticks\":\"\",\"title\":{\"standoff\":15},\"zerolinecolor\":\"white\",\"zerolinewidth\":2},\"yaxis\":{\"automargin\":true,\"gridcolor\":\"white\",\"linecolor\":\"white\",\"ticks\":\"\",\"title\":{\"standoff\":15},\"zerolinecolor\":\"white\",\"zerolinewidth\":2}}},\"title\":{\"font\":{\"color\":\"#4D5663\"}},\"xaxis\":{\"gridcolor\":\"#E1E5ED\",\"showgrid\":true,\"tickfont\":{\"color\":\"#4D5663\"},\"title\":{\"font\":{\"color\":\"#4D5663\"},\"text\":\"\"},\"zerolinecolor\":\"#E1E5ED\"},\"yaxis\":{\"gridcolor\":\"#E1E5ED\",\"showgrid\":true,\"tickfont\":{\"color\":\"#4D5663\"},\"title\":{\"font\":{\"color\":\"#4D5663\"},\"text\":\"\"},\"zerolinecolor\":\"#E1E5ED\"}},                        {\"showLink\": true, \"linkText\": \"Export to plot.ly\", \"plotlyServerURL\": \"https://plot.ly\", \"responsive\": true}                    ).then(function(){\n",
       "                            \n",
       "var gd = document.getElementById('23400183-9459-45ae-a325-95fe35f9b782');\n",
       "var x = new MutationObserver(function (mutations, observer) {{\n",
       "        var display = window.getComputedStyle(gd).display;\n",
       "        if (!display || display === 'none') {{\n",
       "            console.log([gd, 'removed!']);\n",
       "            Plotly.purge(gd);\n",
       "            observer.disconnect();\n",
       "        }}\n",
       "}});\n",
       "\n",
       "// Listen for the removal of the full notebook cells\n",
       "var notebookContainer = gd.closest('#notebook-container');\n",
       "if (notebookContainer) {{\n",
       "    x.observe(notebookContainer, {childList: true});\n",
       "}}\n",
       "\n",
       "// Listen for the clearing of the current output cell\n",
       "var outputEl = gd.closest('.output');\n",
       "if (outputEl) {{\n",
       "    x.observe(outputEl, {childList: true});\n",
       "}}\n",
       "\n",
       "                        })                };                });            </script>        </div>"
      ]
     },
     "metadata": {},
     "output_type": "display_data"
    }
   ],
   "source": [
    "# Show datapoints when hover over\n",
    "# Parameter, size refers to the sizes of the dots\n",
    "df1.iplot(kind='scatter', x='A', y='B', mode='markers', size=12)"
   ]
  },
  {
   "cell_type": "code",
   "execution_count": 23,
   "metadata": {},
   "outputs": [
    {
     "data": {
      "application/vnd.plotly.v1+json": {
       "config": {
        "plotlyServerURL": "https://plot.ly"
       },
       "data": [
        {
         "hovertemplate": "A=%{x}<br>B=%{y}<extra></extra>",
         "legendgroup": "",
         "marker": {
          "color": "#636efa",
          "symbol": "circle"
         },
         "mode": "markers",
         "name": "",
         "orientation": "v",
         "showlegend": false,
         "type": "scatter",
         "x": [
          -1.4747380955937974,
          0.28725077112417235,
          -1.6568846794720122,
          1.381720942647079,
          0.3657833365094521,
          0.026008073073972172,
          -0.5109681143770874,
          -0.30968695071839253,
          0.08056276720583924,
          1.2206461655280683,
          -1.0044961445651543,
          -0.7086123871501985,
          -0.3032080480213653,
          -0.4681810010400497,
          0.4883380048432973,
          -1.0568975335865904,
          -0.6478951720409023,
          -1.1006335991216396,
          -1.1084672870151069,
          1.0115169993247746,
          0.8628879534962799,
          0.49107556584687034,
          -0.21460151922209592,
          -0.21167224031379164,
          -1.0868280793928702,
          0.1813077457259262,
          1.6048411477507714,
          -1.1129128593443407,
          0.13510904054871198,
          0.7363175261488993,
          0.30133889718720347,
          1.0968390103774157,
          -0.9215941053119098,
          1.1452096988910712,
          -0.0969211977387717,
          0.7832229582485118,
          1.0531791723051949,
          -0.6663370851946934,
          -0.7282508718905567,
          -1.688787692138687,
          0.2592955164616916,
          -0.35251940357111267,
          0.5255678646250175,
          0.1591013061134092,
          1.6392683058616393,
          -0.7594873429459711,
          0.3571677103292569,
          -1.9129516673080214,
          0.2812674212385775,
          2.9443484953104657,
          -1.2668238549208235,
          0.41322784242257693,
          1.206697949804835,
          1.0295637127428512,
          0.42415314431239537,
          -1.234242731046262,
          -0.005177234655683374,
          0.40215839443750323,
          0.5734568360798693,
          -0.981071428153688,
          -1.044181132406017,
          -0.5455429283558031,
          0.8723741296130654,
          -1.7382678852503126,
          -2.394203349842937,
          1.1200094352775187,
          -0.6221419105120386,
          0.28050386485521667,
          -0.21614849790735982,
          -0.5457390506690335,
          -2.3191277297140607,
          1.3524213867671204,
          0.12594824702172094,
          -0.02781084118179256,
          -1.0121863416508705,
          -0.1346075258918912,
          -0.2161185225683815,
          -1.4044793440674315,
          0.5103800616622387,
          -0.26035603985135364,
          0.7128604943441633,
          -0.09028399432601468,
          0.5214049330304661,
          -0.050307547047459246,
          -0.139890323143218,
          -1.2155801358748424,
          0.9627948608905095,
          0.8801238599064668,
          0.020185320431986706,
          1.6625023152013685,
          0.3816936279691013,
          0.34509760366963216,
          0.37972886845205844,
          0.4258913685657802,
          -0.22863620193291423,
          -1.4886214993845972,
          0.5486315743498743,
          -0.37552303459747266,
          -1.7087243821390654,
          -0.047214690067770786
         ],
         "xaxis": "x",
         "y": [
          0.21816361565301612,
          -0.18311601650778261,
          -0.8722852429063794,
          0.7996321791414022,
          1.4830013794585655,
          -1.8513851087254878,
          1.613906454791288,
          -1.5827358120075996,
          -0.2852339752587739,
          -1.1655837011030066,
          -1.3316526305662248,
          -0.058152616565652196,
          0.06088486005099269,
          -1.8538715257905751,
          -0.10795630868630458,
          -0.5169453758367406,
          0.05896114763704862,
          1.937674579815131,
          -0.43586910750577423,
          0.6301701523533102,
          0.2487690009306954,
          -0.5768590175830137,
          -0.23048178855369697,
          1.5829241162079017,
          -0.7064465895575457,
          -0.07800414606637208,
          0.9267040564138606,
          -0.9945444848093137,
          1.5232090046065017,
          0.5724140410636237,
          -0.5824132253983889,
          1.4758903927481846,
          0.7894141470303264,
          -0.34231970058963407,
          -0.7810319671697296,
          0.2072844838228586,
          -0.5588365519503141,
          -0.38971140833812906,
          0.21785672555286356,
          1.0289889419787783,
          -1.3145327761543142,
          0.18482300394128667,
          0.325360903405271,
          0.8234367426244258,
          0.7549608081461314,
          -0.24592878896044312,
          -0.8898589213424684,
          1.1296498601309384,
          -0.7646354208473364,
          -1.7613727579525837,
          -0.007885085352440032,
          -0.6550676125914235,
          -1.5382251668563758,
          2.9664757064106833,
          0.05136220368240336,
          0.9053762889413747,
          -0.9014199037894448,
          0.14416787795095554,
          0.5772481753295273,
          1.00066627733789,
          -1.484677774151373,
          -1.0470748306972992,
          -1.0394473595670013,
          1.0139539314489332,
          -0.2266635690751747,
          -2.906894044978705,
          0.3866286493770684,
          -0.22145896800858503,
          0.2723182682770941,
          -0.23515963148068272,
          -0.8867866717522348,
          -0.017926170650252895,
          0.1202193588446371,
          0.5167784095259662,
          -1.1692508750791701,
          0.12401321928940981,
          -0.7738107387476351,
          -0.9566254708018384,
          -0.26444548631561315,
          -1.6766931874405588,
          -1.5626958822528276,
          -1.0537752027800056,
          0.01008372961374793,
          0.07867473793517019,
          -1.6967402907609725,
          -1.896581525083377,
          -0.9524305910705916,
          0.9152100476428011,
          0.5403263954180979,
          -1.1951744668940307,
          -0.7586988875890001,
          -2.764229500397465,
          -1.058834908427951,
          -1.211320125788323,
          -1.4017384442446392,
          0.31423912897978823,
          0.40750676142202613,
          -0.12272730770175873,
          -0.16912280770312685,
          -0.17788138935751074
         ],
         "yaxis": "y"
        }
       ],
       "layout": {
        "legend": {
         "tracegroupgap": 0
        },
        "template": {
         "data": {
          "bar": [
           {
            "error_x": {
             "color": "#2a3f5f"
            },
            "error_y": {
             "color": "#2a3f5f"
            },
            "marker": {
             "line": {
              "color": "#E5ECF6",
              "width": 0.5
             },
             "pattern": {
              "fillmode": "overlay",
              "size": 10,
              "solidity": 0.2
             }
            },
            "type": "bar"
           }
          ],
          "barpolar": [
           {
            "marker": {
             "line": {
              "color": "#E5ECF6",
              "width": 0.5
             },
             "pattern": {
              "fillmode": "overlay",
              "size": 10,
              "solidity": 0.2
             }
            },
            "type": "barpolar"
           }
          ],
          "carpet": [
           {
            "aaxis": {
             "endlinecolor": "#2a3f5f",
             "gridcolor": "white",
             "linecolor": "white",
             "minorgridcolor": "white",
             "startlinecolor": "#2a3f5f"
            },
            "baxis": {
             "endlinecolor": "#2a3f5f",
             "gridcolor": "white",
             "linecolor": "white",
             "minorgridcolor": "white",
             "startlinecolor": "#2a3f5f"
            },
            "type": "carpet"
           }
          ],
          "choropleth": [
           {
            "colorbar": {
             "outlinewidth": 0,
             "ticks": ""
            },
            "type": "choropleth"
           }
          ],
          "contour": [
           {
            "colorbar": {
             "outlinewidth": 0,
             "ticks": ""
            },
            "colorscale": [
             [
              0,
              "#0d0887"
             ],
             [
              0.1111111111111111,
              "#46039f"
             ],
             [
              0.2222222222222222,
              "#7201a8"
             ],
             [
              0.3333333333333333,
              "#9c179e"
             ],
             [
              0.4444444444444444,
              "#bd3786"
             ],
             [
              0.5555555555555556,
              "#d8576b"
             ],
             [
              0.6666666666666666,
              "#ed7953"
             ],
             [
              0.7777777777777778,
              "#fb9f3a"
             ],
             [
              0.8888888888888888,
              "#fdca26"
             ],
             [
              1,
              "#f0f921"
             ]
            ],
            "type": "contour"
           }
          ],
          "contourcarpet": [
           {
            "colorbar": {
             "outlinewidth": 0,
             "ticks": ""
            },
            "type": "contourcarpet"
           }
          ],
          "heatmap": [
           {
            "colorbar": {
             "outlinewidth": 0,
             "ticks": ""
            },
            "colorscale": [
             [
              0,
              "#0d0887"
             ],
             [
              0.1111111111111111,
              "#46039f"
             ],
             [
              0.2222222222222222,
              "#7201a8"
             ],
             [
              0.3333333333333333,
              "#9c179e"
             ],
             [
              0.4444444444444444,
              "#bd3786"
             ],
             [
              0.5555555555555556,
              "#d8576b"
             ],
             [
              0.6666666666666666,
              "#ed7953"
             ],
             [
              0.7777777777777778,
              "#fb9f3a"
             ],
             [
              0.8888888888888888,
              "#fdca26"
             ],
             [
              1,
              "#f0f921"
             ]
            ],
            "type": "heatmap"
           }
          ],
          "heatmapgl": [
           {
            "colorbar": {
             "outlinewidth": 0,
             "ticks": ""
            },
            "colorscale": [
             [
              0,
              "#0d0887"
             ],
             [
              0.1111111111111111,
              "#46039f"
             ],
             [
              0.2222222222222222,
              "#7201a8"
             ],
             [
              0.3333333333333333,
              "#9c179e"
             ],
             [
              0.4444444444444444,
              "#bd3786"
             ],
             [
              0.5555555555555556,
              "#d8576b"
             ],
             [
              0.6666666666666666,
              "#ed7953"
             ],
             [
              0.7777777777777778,
              "#fb9f3a"
             ],
             [
              0.8888888888888888,
              "#fdca26"
             ],
             [
              1,
              "#f0f921"
             ]
            ],
            "type": "heatmapgl"
           }
          ],
          "histogram": [
           {
            "marker": {
             "pattern": {
              "fillmode": "overlay",
              "size": 10,
              "solidity": 0.2
             }
            },
            "type": "histogram"
           }
          ],
          "histogram2d": [
           {
            "colorbar": {
             "outlinewidth": 0,
             "ticks": ""
            },
            "colorscale": [
             [
              0,
              "#0d0887"
             ],
             [
              0.1111111111111111,
              "#46039f"
             ],
             [
              0.2222222222222222,
              "#7201a8"
             ],
             [
              0.3333333333333333,
              "#9c179e"
             ],
             [
              0.4444444444444444,
              "#bd3786"
             ],
             [
              0.5555555555555556,
              "#d8576b"
             ],
             [
              0.6666666666666666,
              "#ed7953"
             ],
             [
              0.7777777777777778,
              "#fb9f3a"
             ],
             [
              0.8888888888888888,
              "#fdca26"
             ],
             [
              1,
              "#f0f921"
             ]
            ],
            "type": "histogram2d"
           }
          ],
          "histogram2dcontour": [
           {
            "colorbar": {
             "outlinewidth": 0,
             "ticks": ""
            },
            "colorscale": [
             [
              0,
              "#0d0887"
             ],
             [
              0.1111111111111111,
              "#46039f"
             ],
             [
              0.2222222222222222,
              "#7201a8"
             ],
             [
              0.3333333333333333,
              "#9c179e"
             ],
             [
              0.4444444444444444,
              "#bd3786"
             ],
             [
              0.5555555555555556,
              "#d8576b"
             ],
             [
              0.6666666666666666,
              "#ed7953"
             ],
             [
              0.7777777777777778,
              "#fb9f3a"
             ],
             [
              0.8888888888888888,
              "#fdca26"
             ],
             [
              1,
              "#f0f921"
             ]
            ],
            "type": "histogram2dcontour"
           }
          ],
          "mesh3d": [
           {
            "colorbar": {
             "outlinewidth": 0,
             "ticks": ""
            },
            "type": "mesh3d"
           }
          ],
          "parcoords": [
           {
            "line": {
             "colorbar": {
              "outlinewidth": 0,
              "ticks": ""
             }
            },
            "type": "parcoords"
           }
          ],
          "pie": [
           {
            "automargin": true,
            "type": "pie"
           }
          ],
          "scatter": [
           {
            "fillpattern": {
             "fillmode": "overlay",
             "size": 10,
             "solidity": 0.2
            },
            "type": "scatter"
           }
          ],
          "scatter3d": [
           {
            "line": {
             "colorbar": {
              "outlinewidth": 0,
              "ticks": ""
             }
            },
            "marker": {
             "colorbar": {
              "outlinewidth": 0,
              "ticks": ""
             }
            },
            "type": "scatter3d"
           }
          ],
          "scattercarpet": [
           {
            "marker": {
             "colorbar": {
              "outlinewidth": 0,
              "ticks": ""
             }
            },
            "type": "scattercarpet"
           }
          ],
          "scattergeo": [
           {
            "marker": {
             "colorbar": {
              "outlinewidth": 0,
              "ticks": ""
             }
            },
            "type": "scattergeo"
           }
          ],
          "scattergl": [
           {
            "marker": {
             "colorbar": {
              "outlinewidth": 0,
              "ticks": ""
             }
            },
            "type": "scattergl"
           }
          ],
          "scattermapbox": [
           {
            "marker": {
             "colorbar": {
              "outlinewidth": 0,
              "ticks": ""
             }
            },
            "type": "scattermapbox"
           }
          ],
          "scatterpolar": [
           {
            "marker": {
             "colorbar": {
              "outlinewidth": 0,
              "ticks": ""
             }
            },
            "type": "scatterpolar"
           }
          ],
          "scatterpolargl": [
           {
            "marker": {
             "colorbar": {
              "outlinewidth": 0,
              "ticks": ""
             }
            },
            "type": "scatterpolargl"
           }
          ],
          "scatterternary": [
           {
            "marker": {
             "colorbar": {
              "outlinewidth": 0,
              "ticks": ""
             }
            },
            "type": "scatterternary"
           }
          ],
          "surface": [
           {
            "colorbar": {
             "outlinewidth": 0,
             "ticks": ""
            },
            "colorscale": [
             [
              0,
              "#0d0887"
             ],
             [
              0.1111111111111111,
              "#46039f"
             ],
             [
              0.2222222222222222,
              "#7201a8"
             ],
             [
              0.3333333333333333,
              "#9c179e"
             ],
             [
              0.4444444444444444,
              "#bd3786"
             ],
             [
              0.5555555555555556,
              "#d8576b"
             ],
             [
              0.6666666666666666,
              "#ed7953"
             ],
             [
              0.7777777777777778,
              "#fb9f3a"
             ],
             [
              0.8888888888888888,
              "#fdca26"
             ],
             [
              1,
              "#f0f921"
             ]
            ],
            "type": "surface"
           }
          ],
          "table": [
           {
            "cells": {
             "fill": {
              "color": "#EBF0F8"
             },
             "line": {
              "color": "white"
             }
            },
            "header": {
             "fill": {
              "color": "#C8D4E3"
             },
             "line": {
              "color": "white"
             }
            },
            "type": "table"
           }
          ]
         },
         "layout": {
          "annotationdefaults": {
           "arrowcolor": "#2a3f5f",
           "arrowhead": 0,
           "arrowwidth": 1
          },
          "autotypenumbers": "strict",
          "coloraxis": {
           "colorbar": {
            "outlinewidth": 0,
            "ticks": ""
           }
          },
          "colorscale": {
           "diverging": [
            [
             0,
             "#8e0152"
            ],
            [
             0.1,
             "#c51b7d"
            ],
            [
             0.2,
             "#de77ae"
            ],
            [
             0.3,
             "#f1b6da"
            ],
            [
             0.4,
             "#fde0ef"
            ],
            [
             0.5,
             "#f7f7f7"
            ],
            [
             0.6,
             "#e6f5d0"
            ],
            [
             0.7,
             "#b8e186"
            ],
            [
             0.8,
             "#7fbc41"
            ],
            [
             0.9,
             "#4d9221"
            ],
            [
             1,
             "#276419"
            ]
           ],
           "sequential": [
            [
             0,
             "#0d0887"
            ],
            [
             0.1111111111111111,
             "#46039f"
            ],
            [
             0.2222222222222222,
             "#7201a8"
            ],
            [
             0.3333333333333333,
             "#9c179e"
            ],
            [
             0.4444444444444444,
             "#bd3786"
            ],
            [
             0.5555555555555556,
             "#d8576b"
            ],
            [
             0.6666666666666666,
             "#ed7953"
            ],
            [
             0.7777777777777778,
             "#fb9f3a"
            ],
            [
             0.8888888888888888,
             "#fdca26"
            ],
            [
             1,
             "#f0f921"
            ]
           ],
           "sequentialminus": [
            [
             0,
             "#0d0887"
            ],
            [
             0.1111111111111111,
             "#46039f"
            ],
            [
             0.2222222222222222,
             "#7201a8"
            ],
            [
             0.3333333333333333,
             "#9c179e"
            ],
            [
             0.4444444444444444,
             "#bd3786"
            ],
            [
             0.5555555555555556,
             "#d8576b"
            ],
            [
             0.6666666666666666,
             "#ed7953"
            ],
            [
             0.7777777777777778,
             "#fb9f3a"
            ],
            [
             0.8888888888888888,
             "#fdca26"
            ],
            [
             1,
             "#f0f921"
            ]
           ]
          },
          "colorway": [
           "#636efa",
           "#EF553B",
           "#00cc96",
           "#ab63fa",
           "#FFA15A",
           "#19d3f3",
           "#FF6692",
           "#B6E880",
           "#FF97FF",
           "#FECB52"
          ],
          "font": {
           "color": "#2a3f5f"
          },
          "geo": {
           "bgcolor": "white",
           "lakecolor": "white",
           "landcolor": "#E5ECF6",
           "showlakes": true,
           "showland": true,
           "subunitcolor": "white"
          },
          "hoverlabel": {
           "align": "left"
          },
          "hovermode": "closest",
          "mapbox": {
           "style": "light"
          },
          "paper_bgcolor": "white",
          "plot_bgcolor": "#E5ECF6",
          "polar": {
           "angularaxis": {
            "gridcolor": "white",
            "linecolor": "white",
            "ticks": ""
           },
           "bgcolor": "#E5ECF6",
           "radialaxis": {
            "gridcolor": "white",
            "linecolor": "white",
            "ticks": ""
           }
          },
          "scene": {
           "xaxis": {
            "backgroundcolor": "#E5ECF6",
            "gridcolor": "white",
            "gridwidth": 2,
            "linecolor": "white",
            "showbackground": true,
            "ticks": "",
            "zerolinecolor": "white"
           },
           "yaxis": {
            "backgroundcolor": "#E5ECF6",
            "gridcolor": "white",
            "gridwidth": 2,
            "linecolor": "white",
            "showbackground": true,
            "ticks": "",
            "zerolinecolor": "white"
           },
           "zaxis": {
            "backgroundcolor": "#E5ECF6",
            "gridcolor": "white",
            "gridwidth": 2,
            "linecolor": "white",
            "showbackground": true,
            "ticks": "",
            "zerolinecolor": "white"
           }
          },
          "shapedefaults": {
           "line": {
            "color": "#2a3f5f"
           }
          },
          "ternary": {
           "aaxis": {
            "gridcolor": "white",
            "linecolor": "white",
            "ticks": ""
           },
           "baxis": {
            "gridcolor": "white",
            "linecolor": "white",
            "ticks": ""
           },
           "bgcolor": "#E5ECF6",
           "caxis": {
            "gridcolor": "white",
            "linecolor": "white",
            "ticks": ""
           }
          },
          "title": {
           "x": 0.05
          },
          "xaxis": {
           "automargin": true,
           "gridcolor": "white",
           "linecolor": "white",
           "ticks": "",
           "title": {
            "standoff": 15
           },
           "zerolinecolor": "white",
           "zerolinewidth": 2
          },
          "yaxis": {
           "automargin": true,
           "gridcolor": "white",
           "linecolor": "white",
           "ticks": "",
           "title": {
            "standoff": 15
           },
           "zerolinecolor": "white",
           "zerolinewidth": 2
          }
         }
        },
        "title": {
         "text": "Dataframe One"
        },
        "xaxis": {
         "anchor": "y",
         "domain": [
          0,
          1
         ],
         "title": {
          "text": "A"
         }
        },
        "yaxis": {
         "anchor": "x",
         "domain": [
          0,
          1
         ],
         "title": {
          "text": "B"
         }
        }
       }
      },
      "text/html": [
       "<div>                            <div id=\"a0ea2742-42f0-45e1-8953-f7062c5ab341\" class=\"plotly-graph-div\" style=\"height:525px; width:100%;\"></div>            <script type=\"text/javascript\">                require([\"plotly\"], function(Plotly) {                    window.PLOTLYENV=window.PLOTLYENV || {};                                    if (document.getElementById(\"a0ea2742-42f0-45e1-8953-f7062c5ab341\")) {                    Plotly.newPlot(                        \"a0ea2742-42f0-45e1-8953-f7062c5ab341\",                        [{\"hovertemplate\":\"A=%{x}\\u003cbr\\u003eB=%{y}\\u003cextra\\u003e\\u003c\\u002fextra\\u003e\",\"legendgroup\":\"\",\"marker\":{\"color\":\"#636efa\",\"symbol\":\"circle\"},\"mode\":\"markers\",\"name\":\"\",\"orientation\":\"v\",\"showlegend\":false,\"x\":[-1.4747380955937974,0.28725077112417235,-1.6568846794720122,1.381720942647079,0.3657833365094521,0.026008073073972172,-0.5109681143770874,-0.30968695071839253,0.08056276720583924,1.2206461655280683,-1.0044961445651543,-0.7086123871501985,-0.3032080480213653,-0.4681810010400497,0.4883380048432973,-1.0568975335865904,-0.6478951720409023,-1.1006335991216396,-1.1084672870151069,1.0115169993247746,0.8628879534962799,0.49107556584687034,-0.21460151922209592,-0.21167224031379164,-1.0868280793928702,0.1813077457259262,1.6048411477507714,-1.1129128593443407,0.13510904054871198,0.7363175261488993,0.30133889718720347,1.0968390103774157,-0.9215941053119098,1.1452096988910712,-0.0969211977387717,0.7832229582485118,1.0531791723051949,-0.6663370851946934,-0.7282508718905567,-1.688787692138687,0.2592955164616916,-0.35251940357111267,0.5255678646250175,0.1591013061134092,1.6392683058616393,-0.7594873429459711,0.3571677103292569,-1.9129516673080214,0.2812674212385775,2.9443484953104657,-1.2668238549208235,0.41322784242257693,1.206697949804835,1.0295637127428512,0.42415314431239537,-1.234242731046262,-0.005177234655683374,0.40215839443750323,0.5734568360798693,-0.981071428153688,-1.044181132406017,-0.5455429283558031,0.8723741296130654,-1.7382678852503126,-2.394203349842937,1.1200094352775187,-0.6221419105120386,0.28050386485521667,-0.21614849790735982,-0.5457390506690335,-2.3191277297140607,1.3524213867671204,0.12594824702172094,-0.02781084118179256,-1.0121863416508705,-0.1346075258918912,-0.2161185225683815,-1.4044793440674315,0.5103800616622387,-0.26035603985135364,0.7128604943441633,-0.09028399432601468,0.5214049330304661,-0.050307547047459246,-0.139890323143218,-1.2155801358748424,0.9627948608905095,0.8801238599064668,0.020185320431986706,1.6625023152013685,0.3816936279691013,0.34509760366963216,0.37972886845205844,0.4258913685657802,-0.22863620193291423,-1.4886214993845972,0.5486315743498743,-0.37552303459747266,-1.7087243821390654,-0.047214690067770786],\"xaxis\":\"x\",\"y\":[0.21816361565301612,-0.18311601650778261,-0.8722852429063794,0.7996321791414022,1.4830013794585655,-1.8513851087254878,1.613906454791288,-1.5827358120075996,-0.2852339752587739,-1.1655837011030066,-1.3316526305662248,-0.058152616565652196,0.06088486005099269,-1.8538715257905751,-0.10795630868630458,-0.5169453758367406,0.05896114763704862,1.937674579815131,-0.43586910750577423,0.6301701523533102,0.2487690009306954,-0.5768590175830137,-0.23048178855369697,1.5829241162079017,-0.7064465895575457,-0.07800414606637208,0.9267040564138606,-0.9945444848093137,1.5232090046065017,0.5724140410636237,-0.5824132253983889,1.4758903927481846,0.7894141470303264,-0.34231970058963407,-0.7810319671697296,0.2072844838228586,-0.5588365519503141,-0.38971140833812906,0.21785672555286356,1.0289889419787783,-1.3145327761543142,0.18482300394128667,0.325360903405271,0.8234367426244258,0.7549608081461314,-0.24592878896044312,-0.8898589213424684,1.1296498601309384,-0.7646354208473364,-1.7613727579525837,-0.007885085352440032,-0.6550676125914235,-1.5382251668563758,2.9664757064106833,0.05136220368240336,0.9053762889413747,-0.9014199037894448,0.14416787795095554,0.5772481753295273,1.00066627733789,-1.484677774151373,-1.0470748306972992,-1.0394473595670013,1.0139539314489332,-0.2266635690751747,-2.906894044978705,0.3866286493770684,-0.22145896800858503,0.2723182682770941,-0.23515963148068272,-0.8867866717522348,-0.017926170650252895,0.1202193588446371,0.5167784095259662,-1.1692508750791701,0.12401321928940981,-0.7738107387476351,-0.9566254708018384,-0.26444548631561315,-1.6766931874405588,-1.5626958822528276,-1.0537752027800056,0.01008372961374793,0.07867473793517019,-1.6967402907609725,-1.896581525083377,-0.9524305910705916,0.9152100476428011,0.5403263954180979,-1.1951744668940307,-0.7586988875890001,-2.764229500397465,-1.058834908427951,-1.211320125788323,-1.4017384442446392,0.31423912897978823,0.40750676142202613,-0.12272730770175873,-0.16912280770312685,-0.17788138935751074],\"yaxis\":\"y\",\"type\":\"scatter\"}],                        {\"template\":{\"data\":{\"histogram2dcontour\":[{\"type\":\"histogram2dcontour\",\"colorbar\":{\"outlinewidth\":0,\"ticks\":\"\"},\"colorscale\":[[0.0,\"#0d0887\"],[0.1111111111111111,\"#46039f\"],[0.2222222222222222,\"#7201a8\"],[0.3333333333333333,\"#9c179e\"],[0.4444444444444444,\"#bd3786\"],[0.5555555555555556,\"#d8576b\"],[0.6666666666666666,\"#ed7953\"],[0.7777777777777778,\"#fb9f3a\"],[0.8888888888888888,\"#fdca26\"],[1.0,\"#f0f921\"]]}],\"choropleth\":[{\"type\":\"choropleth\",\"colorbar\":{\"outlinewidth\":0,\"ticks\":\"\"}}],\"histogram2d\":[{\"type\":\"histogram2d\",\"colorbar\":{\"outlinewidth\":0,\"ticks\":\"\"},\"colorscale\":[[0.0,\"#0d0887\"],[0.1111111111111111,\"#46039f\"],[0.2222222222222222,\"#7201a8\"],[0.3333333333333333,\"#9c179e\"],[0.4444444444444444,\"#bd3786\"],[0.5555555555555556,\"#d8576b\"],[0.6666666666666666,\"#ed7953\"],[0.7777777777777778,\"#fb9f3a\"],[0.8888888888888888,\"#fdca26\"],[1.0,\"#f0f921\"]]}],\"heatmap\":[{\"type\":\"heatmap\",\"colorbar\":{\"outlinewidth\":0,\"ticks\":\"\"},\"colorscale\":[[0.0,\"#0d0887\"],[0.1111111111111111,\"#46039f\"],[0.2222222222222222,\"#7201a8\"],[0.3333333333333333,\"#9c179e\"],[0.4444444444444444,\"#bd3786\"],[0.5555555555555556,\"#d8576b\"],[0.6666666666666666,\"#ed7953\"],[0.7777777777777778,\"#fb9f3a\"],[0.8888888888888888,\"#fdca26\"],[1.0,\"#f0f921\"]]}],\"heatmapgl\":[{\"type\":\"heatmapgl\",\"colorbar\":{\"outlinewidth\":0,\"ticks\":\"\"},\"colorscale\":[[0.0,\"#0d0887\"],[0.1111111111111111,\"#46039f\"],[0.2222222222222222,\"#7201a8\"],[0.3333333333333333,\"#9c179e\"],[0.4444444444444444,\"#bd3786\"],[0.5555555555555556,\"#d8576b\"],[0.6666666666666666,\"#ed7953\"],[0.7777777777777778,\"#fb9f3a\"],[0.8888888888888888,\"#fdca26\"],[1.0,\"#f0f921\"]]}],\"contourcarpet\":[{\"type\":\"contourcarpet\",\"colorbar\":{\"outlinewidth\":0,\"ticks\":\"\"}}],\"contour\":[{\"type\":\"contour\",\"colorbar\":{\"outlinewidth\":0,\"ticks\":\"\"},\"colorscale\":[[0.0,\"#0d0887\"],[0.1111111111111111,\"#46039f\"],[0.2222222222222222,\"#7201a8\"],[0.3333333333333333,\"#9c179e\"],[0.4444444444444444,\"#bd3786\"],[0.5555555555555556,\"#d8576b\"],[0.6666666666666666,\"#ed7953\"],[0.7777777777777778,\"#fb9f3a\"],[0.8888888888888888,\"#fdca26\"],[1.0,\"#f0f921\"]]}],\"surface\":[{\"type\":\"surface\",\"colorbar\":{\"outlinewidth\":0,\"ticks\":\"\"},\"colorscale\":[[0.0,\"#0d0887\"],[0.1111111111111111,\"#46039f\"],[0.2222222222222222,\"#7201a8\"],[0.3333333333333333,\"#9c179e\"],[0.4444444444444444,\"#bd3786\"],[0.5555555555555556,\"#d8576b\"],[0.6666666666666666,\"#ed7953\"],[0.7777777777777778,\"#fb9f3a\"],[0.8888888888888888,\"#fdca26\"],[1.0,\"#f0f921\"]]}],\"mesh3d\":[{\"type\":\"mesh3d\",\"colorbar\":{\"outlinewidth\":0,\"ticks\":\"\"}}],\"scatter\":[{\"fillpattern\":{\"fillmode\":\"overlay\",\"size\":10,\"solidity\":0.2},\"type\":\"scatter\"}],\"parcoords\":[{\"type\":\"parcoords\",\"line\":{\"colorbar\":{\"outlinewidth\":0,\"ticks\":\"\"}}}],\"scatterpolargl\":[{\"type\":\"scatterpolargl\",\"marker\":{\"colorbar\":{\"outlinewidth\":0,\"ticks\":\"\"}}}],\"bar\":[{\"error_x\":{\"color\":\"#2a3f5f\"},\"error_y\":{\"color\":\"#2a3f5f\"},\"marker\":{\"line\":{\"color\":\"#E5ECF6\",\"width\":0.5},\"pattern\":{\"fillmode\":\"overlay\",\"size\":10,\"solidity\":0.2}},\"type\":\"bar\"}],\"scattergeo\":[{\"type\":\"scattergeo\",\"marker\":{\"colorbar\":{\"outlinewidth\":0,\"ticks\":\"\"}}}],\"scatterpolar\":[{\"type\":\"scatterpolar\",\"marker\":{\"colorbar\":{\"outlinewidth\":0,\"ticks\":\"\"}}}],\"histogram\":[{\"marker\":{\"pattern\":{\"fillmode\":\"overlay\",\"size\":10,\"solidity\":0.2}},\"type\":\"histogram\"}],\"scattergl\":[{\"type\":\"scattergl\",\"marker\":{\"colorbar\":{\"outlinewidth\":0,\"ticks\":\"\"}}}],\"scatter3d\":[{\"type\":\"scatter3d\",\"line\":{\"colorbar\":{\"outlinewidth\":0,\"ticks\":\"\"}},\"marker\":{\"colorbar\":{\"outlinewidth\":0,\"ticks\":\"\"}}}],\"scattermapbox\":[{\"type\":\"scattermapbox\",\"marker\":{\"colorbar\":{\"outlinewidth\":0,\"ticks\":\"\"}}}],\"scatterternary\":[{\"type\":\"scatterternary\",\"marker\":{\"colorbar\":{\"outlinewidth\":0,\"ticks\":\"\"}}}],\"scattercarpet\":[{\"type\":\"scattercarpet\",\"marker\":{\"colorbar\":{\"outlinewidth\":0,\"ticks\":\"\"}}}],\"carpet\":[{\"aaxis\":{\"endlinecolor\":\"#2a3f5f\",\"gridcolor\":\"white\",\"linecolor\":\"white\",\"minorgridcolor\":\"white\",\"startlinecolor\":\"#2a3f5f\"},\"baxis\":{\"endlinecolor\":\"#2a3f5f\",\"gridcolor\":\"white\",\"linecolor\":\"white\",\"minorgridcolor\":\"white\",\"startlinecolor\":\"#2a3f5f\"},\"type\":\"carpet\"}],\"table\":[{\"cells\":{\"fill\":{\"color\":\"#EBF0F8\"},\"line\":{\"color\":\"white\"}},\"header\":{\"fill\":{\"color\":\"#C8D4E3\"},\"line\":{\"color\":\"white\"}},\"type\":\"table\"}],\"barpolar\":[{\"marker\":{\"line\":{\"color\":\"#E5ECF6\",\"width\":0.5},\"pattern\":{\"fillmode\":\"overlay\",\"size\":10,\"solidity\":0.2}},\"type\":\"barpolar\"}],\"pie\":[{\"automargin\":true,\"type\":\"pie\"}]},\"layout\":{\"autotypenumbers\":\"strict\",\"colorway\":[\"#636efa\",\"#EF553B\",\"#00cc96\",\"#ab63fa\",\"#FFA15A\",\"#19d3f3\",\"#FF6692\",\"#B6E880\",\"#FF97FF\",\"#FECB52\"],\"font\":{\"color\":\"#2a3f5f\"},\"hovermode\":\"closest\",\"hoverlabel\":{\"align\":\"left\"},\"paper_bgcolor\":\"white\",\"plot_bgcolor\":\"#E5ECF6\",\"polar\":{\"bgcolor\":\"#E5ECF6\",\"angularaxis\":{\"gridcolor\":\"white\",\"linecolor\":\"white\",\"ticks\":\"\"},\"radialaxis\":{\"gridcolor\":\"white\",\"linecolor\":\"white\",\"ticks\":\"\"}},\"ternary\":{\"bgcolor\":\"#E5ECF6\",\"aaxis\":{\"gridcolor\":\"white\",\"linecolor\":\"white\",\"ticks\":\"\"},\"baxis\":{\"gridcolor\":\"white\",\"linecolor\":\"white\",\"ticks\":\"\"},\"caxis\":{\"gridcolor\":\"white\",\"linecolor\":\"white\",\"ticks\":\"\"}},\"coloraxis\":{\"colorbar\":{\"outlinewidth\":0,\"ticks\":\"\"}},\"colorscale\":{\"sequential\":[[0.0,\"#0d0887\"],[0.1111111111111111,\"#46039f\"],[0.2222222222222222,\"#7201a8\"],[0.3333333333333333,\"#9c179e\"],[0.4444444444444444,\"#bd3786\"],[0.5555555555555556,\"#d8576b\"],[0.6666666666666666,\"#ed7953\"],[0.7777777777777778,\"#fb9f3a\"],[0.8888888888888888,\"#fdca26\"],[1.0,\"#f0f921\"]],\"sequentialminus\":[[0.0,\"#0d0887\"],[0.1111111111111111,\"#46039f\"],[0.2222222222222222,\"#7201a8\"],[0.3333333333333333,\"#9c179e\"],[0.4444444444444444,\"#bd3786\"],[0.5555555555555556,\"#d8576b\"],[0.6666666666666666,\"#ed7953\"],[0.7777777777777778,\"#fb9f3a\"],[0.8888888888888888,\"#fdca26\"],[1.0,\"#f0f921\"]],\"diverging\":[[0,\"#8e0152\"],[0.1,\"#c51b7d\"],[0.2,\"#de77ae\"],[0.3,\"#f1b6da\"],[0.4,\"#fde0ef\"],[0.5,\"#f7f7f7\"],[0.6,\"#e6f5d0\"],[0.7,\"#b8e186\"],[0.8,\"#7fbc41\"],[0.9,\"#4d9221\"],[1,\"#276419\"]]},\"xaxis\":{\"gridcolor\":\"white\",\"linecolor\":\"white\",\"ticks\":\"\",\"title\":{\"standoff\":15},\"zerolinecolor\":\"white\",\"automargin\":true,\"zerolinewidth\":2},\"yaxis\":{\"gridcolor\":\"white\",\"linecolor\":\"white\",\"ticks\":\"\",\"title\":{\"standoff\":15},\"zerolinecolor\":\"white\",\"automargin\":true,\"zerolinewidth\":2},\"scene\":{\"xaxis\":{\"backgroundcolor\":\"#E5ECF6\",\"gridcolor\":\"white\",\"linecolor\":\"white\",\"showbackground\":true,\"ticks\":\"\",\"zerolinecolor\":\"white\",\"gridwidth\":2},\"yaxis\":{\"backgroundcolor\":\"#E5ECF6\",\"gridcolor\":\"white\",\"linecolor\":\"white\",\"showbackground\":true,\"ticks\":\"\",\"zerolinecolor\":\"white\",\"gridwidth\":2},\"zaxis\":{\"backgroundcolor\":\"#E5ECF6\",\"gridcolor\":\"white\",\"linecolor\":\"white\",\"showbackground\":true,\"ticks\":\"\",\"zerolinecolor\":\"white\",\"gridwidth\":2}},\"shapedefaults\":{\"line\":{\"color\":\"#2a3f5f\"}},\"annotationdefaults\":{\"arrowcolor\":\"#2a3f5f\",\"arrowhead\":0,\"arrowwidth\":1},\"geo\":{\"bgcolor\":\"white\",\"landcolor\":\"#E5ECF6\",\"subunitcolor\":\"white\",\"showland\":true,\"showlakes\":true,\"lakecolor\":\"white\"},\"title\":{\"x\":0.05},\"mapbox\":{\"style\":\"light\"}}},\"xaxis\":{\"anchor\":\"y\",\"domain\":[0.0,1.0],\"title\":{\"text\":\"A\"}},\"yaxis\":{\"anchor\":\"x\",\"domain\":[0.0,1.0],\"title\":{\"text\":\"B\"}},\"legend\":{\"tracegroupgap\":0},\"title\":{\"text\":\"Dataframe One\"}},                        {\"responsive\": true}                    ).then(function(){\n",
       "                            \n",
       "var gd = document.getElementById('a0ea2742-42f0-45e1-8953-f7062c5ab341');\n",
       "var x = new MutationObserver(function (mutations, observer) {{\n",
       "        var display = window.getComputedStyle(gd).display;\n",
       "        if (!display || display === 'none') {{\n",
       "            console.log([gd, 'removed!']);\n",
       "            Plotly.purge(gd);\n",
       "            observer.disconnect();\n",
       "        }}\n",
       "}});\n",
       "\n",
       "// Listen for the removal of the full notebook cells\n",
       "var notebookContainer = gd.closest('#notebook-container');\n",
       "if (notebookContainer) {{\n",
       "    x.observe(notebookContainer, {childList: true});\n",
       "}}\n",
       "\n",
       "// Listen for the clearing of the current output cell\n",
       "var outputEl = gd.closest('.output');\n",
       "if (outputEl) {{\n",
       "    x.observe(outputEl, {childList: true});\n",
       "}}\n",
       "\n",
       "                        })                };                });            </script>        </div>"
      ]
     },
     "metadata": {},
     "output_type": "display_data"
    }
   ],
   "source": [
    "# Alternative method: px.scatter()\n",
    "fig = px.scatter(df1, x=\"A\", y=\"B\", title=\"Dataframe One\")\n",
    "fig.show()"
   ]
  },
  {
   "cell_type": "markdown",
   "metadata": {},
   "source": [
    "### 2. Bar Plots"
   ]
  },
  {
   "cell_type": "code",
   "execution_count": 10,
   "metadata": {
    "collapsed": false
   },
   "outputs": [
    {
     "data": {
      "application/vnd.plotly.v1+json": {
       "config": {
        "linkText": "Export to plot.ly",
        "plotlyServerURL": "https://plot.ly",
        "showLink": true
       },
       "data": [
        {
         "marker": {
          "color": "rgba(255, 153, 51, 0.6)",
          "line": {
           "color": "rgba(255, 153, 51, 1.0)",
           "width": 1
          }
         },
         "name": "Values",
         "orientation": "v",
         "text": "",
         "type": "bar",
         "x": [
          "A",
          "B",
          "C"
         ],
         "y": [
          32,
          44,
          50
         ]
        }
       ],
       "layout": {
        "legend": {
         "bgcolor": "#F5F6F9",
         "font": {
          "color": "#4D5663"
         }
        },
        "paper_bgcolor": "#F5F6F9",
        "plot_bgcolor": "#F5F6F9",
        "template": {
         "data": {
          "bar": [
           {
            "error_x": {
             "color": "#2a3f5f"
            },
            "error_y": {
             "color": "#2a3f5f"
            },
            "marker": {
             "line": {
              "color": "#E5ECF6",
              "width": 0.5
             },
             "pattern": {
              "fillmode": "overlay",
              "size": 10,
              "solidity": 0.2
             }
            },
            "type": "bar"
           }
          ],
          "barpolar": [
           {
            "marker": {
             "line": {
              "color": "#E5ECF6",
              "width": 0.5
             },
             "pattern": {
              "fillmode": "overlay",
              "size": 10,
              "solidity": 0.2
             }
            },
            "type": "barpolar"
           }
          ],
          "carpet": [
           {
            "aaxis": {
             "endlinecolor": "#2a3f5f",
             "gridcolor": "white",
             "linecolor": "white",
             "minorgridcolor": "white",
             "startlinecolor": "#2a3f5f"
            },
            "baxis": {
             "endlinecolor": "#2a3f5f",
             "gridcolor": "white",
             "linecolor": "white",
             "minorgridcolor": "white",
             "startlinecolor": "#2a3f5f"
            },
            "type": "carpet"
           }
          ],
          "choropleth": [
           {
            "colorbar": {
             "outlinewidth": 0,
             "ticks": ""
            },
            "type": "choropleth"
           }
          ],
          "contour": [
           {
            "colorbar": {
             "outlinewidth": 0,
             "ticks": ""
            },
            "colorscale": [
             [
              0,
              "#0d0887"
             ],
             [
              0.1111111111111111,
              "#46039f"
             ],
             [
              0.2222222222222222,
              "#7201a8"
             ],
             [
              0.3333333333333333,
              "#9c179e"
             ],
             [
              0.4444444444444444,
              "#bd3786"
             ],
             [
              0.5555555555555556,
              "#d8576b"
             ],
             [
              0.6666666666666666,
              "#ed7953"
             ],
             [
              0.7777777777777778,
              "#fb9f3a"
             ],
             [
              0.8888888888888888,
              "#fdca26"
             ],
             [
              1,
              "#f0f921"
             ]
            ],
            "type": "contour"
           }
          ],
          "contourcarpet": [
           {
            "colorbar": {
             "outlinewidth": 0,
             "ticks": ""
            },
            "type": "contourcarpet"
           }
          ],
          "heatmap": [
           {
            "colorbar": {
             "outlinewidth": 0,
             "ticks": ""
            },
            "colorscale": [
             [
              0,
              "#0d0887"
             ],
             [
              0.1111111111111111,
              "#46039f"
             ],
             [
              0.2222222222222222,
              "#7201a8"
             ],
             [
              0.3333333333333333,
              "#9c179e"
             ],
             [
              0.4444444444444444,
              "#bd3786"
             ],
             [
              0.5555555555555556,
              "#d8576b"
             ],
             [
              0.6666666666666666,
              "#ed7953"
             ],
             [
              0.7777777777777778,
              "#fb9f3a"
             ],
             [
              0.8888888888888888,
              "#fdca26"
             ],
             [
              1,
              "#f0f921"
             ]
            ],
            "type": "heatmap"
           }
          ],
          "heatmapgl": [
           {
            "colorbar": {
             "outlinewidth": 0,
             "ticks": ""
            },
            "colorscale": [
             [
              0,
              "#0d0887"
             ],
             [
              0.1111111111111111,
              "#46039f"
             ],
             [
              0.2222222222222222,
              "#7201a8"
             ],
             [
              0.3333333333333333,
              "#9c179e"
             ],
             [
              0.4444444444444444,
              "#bd3786"
             ],
             [
              0.5555555555555556,
              "#d8576b"
             ],
             [
              0.6666666666666666,
              "#ed7953"
             ],
             [
              0.7777777777777778,
              "#fb9f3a"
             ],
             [
              0.8888888888888888,
              "#fdca26"
             ],
             [
              1,
              "#f0f921"
             ]
            ],
            "type": "heatmapgl"
           }
          ],
          "histogram": [
           {
            "marker": {
             "pattern": {
              "fillmode": "overlay",
              "size": 10,
              "solidity": 0.2
             }
            },
            "type": "histogram"
           }
          ],
          "histogram2d": [
           {
            "colorbar": {
             "outlinewidth": 0,
             "ticks": ""
            },
            "colorscale": [
             [
              0,
              "#0d0887"
             ],
             [
              0.1111111111111111,
              "#46039f"
             ],
             [
              0.2222222222222222,
              "#7201a8"
             ],
             [
              0.3333333333333333,
              "#9c179e"
             ],
             [
              0.4444444444444444,
              "#bd3786"
             ],
             [
              0.5555555555555556,
              "#d8576b"
             ],
             [
              0.6666666666666666,
              "#ed7953"
             ],
             [
              0.7777777777777778,
              "#fb9f3a"
             ],
             [
              0.8888888888888888,
              "#fdca26"
             ],
             [
              1,
              "#f0f921"
             ]
            ],
            "type": "histogram2d"
           }
          ],
          "histogram2dcontour": [
           {
            "colorbar": {
             "outlinewidth": 0,
             "ticks": ""
            },
            "colorscale": [
             [
              0,
              "#0d0887"
             ],
             [
              0.1111111111111111,
              "#46039f"
             ],
             [
              0.2222222222222222,
              "#7201a8"
             ],
             [
              0.3333333333333333,
              "#9c179e"
             ],
             [
              0.4444444444444444,
              "#bd3786"
             ],
             [
              0.5555555555555556,
              "#d8576b"
             ],
             [
              0.6666666666666666,
              "#ed7953"
             ],
             [
              0.7777777777777778,
              "#fb9f3a"
             ],
             [
              0.8888888888888888,
              "#fdca26"
             ],
             [
              1,
              "#f0f921"
             ]
            ],
            "type": "histogram2dcontour"
           }
          ],
          "mesh3d": [
           {
            "colorbar": {
             "outlinewidth": 0,
             "ticks": ""
            },
            "type": "mesh3d"
           }
          ],
          "parcoords": [
           {
            "line": {
             "colorbar": {
              "outlinewidth": 0,
              "ticks": ""
             }
            },
            "type": "parcoords"
           }
          ],
          "pie": [
           {
            "automargin": true,
            "type": "pie"
           }
          ],
          "scatter": [
           {
            "fillpattern": {
             "fillmode": "overlay",
             "size": 10,
             "solidity": 0.2
            },
            "type": "scatter"
           }
          ],
          "scatter3d": [
           {
            "line": {
             "colorbar": {
              "outlinewidth": 0,
              "ticks": ""
             }
            },
            "marker": {
             "colorbar": {
              "outlinewidth": 0,
              "ticks": ""
             }
            },
            "type": "scatter3d"
           }
          ],
          "scattercarpet": [
           {
            "marker": {
             "colorbar": {
              "outlinewidth": 0,
              "ticks": ""
             }
            },
            "type": "scattercarpet"
           }
          ],
          "scattergeo": [
           {
            "marker": {
             "colorbar": {
              "outlinewidth": 0,
              "ticks": ""
             }
            },
            "type": "scattergeo"
           }
          ],
          "scattergl": [
           {
            "marker": {
             "colorbar": {
              "outlinewidth": 0,
              "ticks": ""
             }
            },
            "type": "scattergl"
           }
          ],
          "scattermapbox": [
           {
            "marker": {
             "colorbar": {
              "outlinewidth": 0,
              "ticks": ""
             }
            },
            "type": "scattermapbox"
           }
          ],
          "scatterpolar": [
           {
            "marker": {
             "colorbar": {
              "outlinewidth": 0,
              "ticks": ""
             }
            },
            "type": "scatterpolar"
           }
          ],
          "scatterpolargl": [
           {
            "marker": {
             "colorbar": {
              "outlinewidth": 0,
              "ticks": ""
             }
            },
            "type": "scatterpolargl"
           }
          ],
          "scatterternary": [
           {
            "marker": {
             "colorbar": {
              "outlinewidth": 0,
              "ticks": ""
             }
            },
            "type": "scatterternary"
           }
          ],
          "surface": [
           {
            "colorbar": {
             "outlinewidth": 0,
             "ticks": ""
            },
            "colorscale": [
             [
              0,
              "#0d0887"
             ],
             [
              0.1111111111111111,
              "#46039f"
             ],
             [
              0.2222222222222222,
              "#7201a8"
             ],
             [
              0.3333333333333333,
              "#9c179e"
             ],
             [
              0.4444444444444444,
              "#bd3786"
             ],
             [
              0.5555555555555556,
              "#d8576b"
             ],
             [
              0.6666666666666666,
              "#ed7953"
             ],
             [
              0.7777777777777778,
              "#fb9f3a"
             ],
             [
              0.8888888888888888,
              "#fdca26"
             ],
             [
              1,
              "#f0f921"
             ]
            ],
            "type": "surface"
           }
          ],
          "table": [
           {
            "cells": {
             "fill": {
              "color": "#EBF0F8"
             },
             "line": {
              "color": "white"
             }
            },
            "header": {
             "fill": {
              "color": "#C8D4E3"
             },
             "line": {
              "color": "white"
             }
            },
            "type": "table"
           }
          ]
         },
         "layout": {
          "annotationdefaults": {
           "arrowcolor": "#2a3f5f",
           "arrowhead": 0,
           "arrowwidth": 1
          },
          "autotypenumbers": "strict",
          "coloraxis": {
           "colorbar": {
            "outlinewidth": 0,
            "ticks": ""
           }
          },
          "colorscale": {
           "diverging": [
            [
             0,
             "#8e0152"
            ],
            [
             0.1,
             "#c51b7d"
            ],
            [
             0.2,
             "#de77ae"
            ],
            [
             0.3,
             "#f1b6da"
            ],
            [
             0.4,
             "#fde0ef"
            ],
            [
             0.5,
             "#f7f7f7"
            ],
            [
             0.6,
             "#e6f5d0"
            ],
            [
             0.7,
             "#b8e186"
            ],
            [
             0.8,
             "#7fbc41"
            ],
            [
             0.9,
             "#4d9221"
            ],
            [
             1,
             "#276419"
            ]
           ],
           "sequential": [
            [
             0,
             "#0d0887"
            ],
            [
             0.1111111111111111,
             "#46039f"
            ],
            [
             0.2222222222222222,
             "#7201a8"
            ],
            [
             0.3333333333333333,
             "#9c179e"
            ],
            [
             0.4444444444444444,
             "#bd3786"
            ],
            [
             0.5555555555555556,
             "#d8576b"
            ],
            [
             0.6666666666666666,
             "#ed7953"
            ],
            [
             0.7777777777777778,
             "#fb9f3a"
            ],
            [
             0.8888888888888888,
             "#fdca26"
            ],
            [
             1,
             "#f0f921"
            ]
           ],
           "sequentialminus": [
            [
             0,
             "#0d0887"
            ],
            [
             0.1111111111111111,
             "#46039f"
            ],
            [
             0.2222222222222222,
             "#7201a8"
            ],
            [
             0.3333333333333333,
             "#9c179e"
            ],
            [
             0.4444444444444444,
             "#bd3786"
            ],
            [
             0.5555555555555556,
             "#d8576b"
            ],
            [
             0.6666666666666666,
             "#ed7953"
            ],
            [
             0.7777777777777778,
             "#fb9f3a"
            ],
            [
             0.8888888888888888,
             "#fdca26"
            ],
            [
             1,
             "#f0f921"
            ]
           ]
          },
          "colorway": [
           "#636efa",
           "#EF553B",
           "#00cc96",
           "#ab63fa",
           "#FFA15A",
           "#19d3f3",
           "#FF6692",
           "#B6E880",
           "#FF97FF",
           "#FECB52"
          ],
          "font": {
           "color": "#2a3f5f"
          },
          "geo": {
           "bgcolor": "white",
           "lakecolor": "white",
           "landcolor": "#E5ECF6",
           "showlakes": true,
           "showland": true,
           "subunitcolor": "white"
          },
          "hoverlabel": {
           "align": "left"
          },
          "hovermode": "closest",
          "mapbox": {
           "style": "light"
          },
          "paper_bgcolor": "white",
          "plot_bgcolor": "#E5ECF6",
          "polar": {
           "angularaxis": {
            "gridcolor": "white",
            "linecolor": "white",
            "ticks": ""
           },
           "bgcolor": "#E5ECF6",
           "radialaxis": {
            "gridcolor": "white",
            "linecolor": "white",
            "ticks": ""
           }
          },
          "scene": {
           "xaxis": {
            "backgroundcolor": "#E5ECF6",
            "gridcolor": "white",
            "gridwidth": 2,
            "linecolor": "white",
            "showbackground": true,
            "ticks": "",
            "zerolinecolor": "white"
           },
           "yaxis": {
            "backgroundcolor": "#E5ECF6",
            "gridcolor": "white",
            "gridwidth": 2,
            "linecolor": "white",
            "showbackground": true,
            "ticks": "",
            "zerolinecolor": "white"
           },
           "zaxis": {
            "backgroundcolor": "#E5ECF6",
            "gridcolor": "white",
            "gridwidth": 2,
            "linecolor": "white",
            "showbackground": true,
            "ticks": "",
            "zerolinecolor": "white"
           }
          },
          "shapedefaults": {
           "line": {
            "color": "#2a3f5f"
           }
          },
          "ternary": {
           "aaxis": {
            "gridcolor": "white",
            "linecolor": "white",
            "ticks": ""
           },
           "baxis": {
            "gridcolor": "white",
            "linecolor": "white",
            "ticks": ""
           },
           "bgcolor": "#E5ECF6",
           "caxis": {
            "gridcolor": "white",
            "linecolor": "white",
            "ticks": ""
           }
          },
          "title": {
           "x": 0.05
          },
          "xaxis": {
           "automargin": true,
           "gridcolor": "white",
           "linecolor": "white",
           "ticks": "",
           "title": {
            "standoff": 15
           },
           "zerolinecolor": "white",
           "zerolinewidth": 2
          },
          "yaxis": {
           "automargin": true,
           "gridcolor": "white",
           "linecolor": "white",
           "ticks": "",
           "title": {
            "standoff": 15
           },
           "zerolinecolor": "white",
           "zerolinewidth": 2
          }
         }
        },
        "title": {
         "font": {
          "color": "#4D5663"
         }
        },
        "xaxis": {
         "gridcolor": "#E1E5ED",
         "showgrid": true,
         "tickfont": {
          "color": "#4D5663"
         },
         "title": {
          "font": {
           "color": "#4D5663"
          },
          "text": ""
         },
         "zerolinecolor": "#E1E5ED"
        },
        "yaxis": {
         "gridcolor": "#E1E5ED",
         "showgrid": true,
         "tickfont": {
          "color": "#4D5663"
         },
         "title": {
          "font": {
           "color": "#4D5663"
          },
          "text": ""
         },
         "zerolinecolor": "#E1E5ED"
        }
       }
      },
      "text/html": [
       "<div>                            <div id=\"ef71b668-7bda-497f-aa30-7d09e4272f7b\" class=\"plotly-graph-div\" style=\"height:525px; width:100%;\"></div>            <script type=\"text/javascript\">                require([\"plotly\"], function(Plotly) {                    window.PLOTLYENV=window.PLOTLYENV || {};\n",
       "                    window.PLOTLYENV.BASE_URL='https://plot.ly';                                    if (document.getElementById(\"ef71b668-7bda-497f-aa30-7d09e4272f7b\")) {                    Plotly.newPlot(                        \"ef71b668-7bda-497f-aa30-7d09e4272f7b\",                        [{\"marker\":{\"color\":\"rgba(255, 153, 51, 0.6)\",\"line\":{\"color\":\"rgba(255, 153, 51, 1.0)\",\"width\":1}},\"name\":\"Values\",\"orientation\":\"v\",\"text\":\"\",\"x\":[\"A\",\"B\",\"C\"],\"y\":[32,44,50],\"type\":\"bar\"}],                        {\"legend\":{\"bgcolor\":\"#F5F6F9\",\"font\":{\"color\":\"#4D5663\"}},\"paper_bgcolor\":\"#F5F6F9\",\"plot_bgcolor\":\"#F5F6F9\",\"template\":{\"data\":{\"barpolar\":[{\"marker\":{\"line\":{\"color\":\"#E5ECF6\",\"width\":0.5},\"pattern\":{\"fillmode\":\"overlay\",\"size\":10,\"solidity\":0.2}},\"type\":\"barpolar\"}],\"bar\":[{\"error_x\":{\"color\":\"#2a3f5f\"},\"error_y\":{\"color\":\"#2a3f5f\"},\"marker\":{\"line\":{\"color\":\"#E5ECF6\",\"width\":0.5},\"pattern\":{\"fillmode\":\"overlay\",\"size\":10,\"solidity\":0.2}},\"type\":\"bar\"}],\"carpet\":[{\"aaxis\":{\"endlinecolor\":\"#2a3f5f\",\"gridcolor\":\"white\",\"linecolor\":\"white\",\"minorgridcolor\":\"white\",\"startlinecolor\":\"#2a3f5f\"},\"baxis\":{\"endlinecolor\":\"#2a3f5f\",\"gridcolor\":\"white\",\"linecolor\":\"white\",\"minorgridcolor\":\"white\",\"startlinecolor\":\"#2a3f5f\"},\"type\":\"carpet\"}],\"choropleth\":[{\"colorbar\":{\"outlinewidth\":0,\"ticks\":\"\"},\"type\":\"choropleth\"}],\"contourcarpet\":[{\"colorbar\":{\"outlinewidth\":0,\"ticks\":\"\"},\"type\":\"contourcarpet\"}],\"contour\":[{\"colorbar\":{\"outlinewidth\":0,\"ticks\":\"\"},\"colorscale\":[[0.0,\"#0d0887\"],[0.1111111111111111,\"#46039f\"],[0.2222222222222222,\"#7201a8\"],[0.3333333333333333,\"#9c179e\"],[0.4444444444444444,\"#bd3786\"],[0.5555555555555556,\"#d8576b\"],[0.6666666666666666,\"#ed7953\"],[0.7777777777777778,\"#fb9f3a\"],[0.8888888888888888,\"#fdca26\"],[1.0,\"#f0f921\"]],\"type\":\"contour\"}],\"heatmapgl\":[{\"colorbar\":{\"outlinewidth\":0,\"ticks\":\"\"},\"colorscale\":[[0.0,\"#0d0887\"],[0.1111111111111111,\"#46039f\"],[0.2222222222222222,\"#7201a8\"],[0.3333333333333333,\"#9c179e\"],[0.4444444444444444,\"#bd3786\"],[0.5555555555555556,\"#d8576b\"],[0.6666666666666666,\"#ed7953\"],[0.7777777777777778,\"#fb9f3a\"],[0.8888888888888888,\"#fdca26\"],[1.0,\"#f0f921\"]],\"type\":\"heatmapgl\"}],\"heatmap\":[{\"colorbar\":{\"outlinewidth\":0,\"ticks\":\"\"},\"colorscale\":[[0.0,\"#0d0887\"],[0.1111111111111111,\"#46039f\"],[0.2222222222222222,\"#7201a8\"],[0.3333333333333333,\"#9c179e\"],[0.4444444444444444,\"#bd3786\"],[0.5555555555555556,\"#d8576b\"],[0.6666666666666666,\"#ed7953\"],[0.7777777777777778,\"#fb9f3a\"],[0.8888888888888888,\"#fdca26\"],[1.0,\"#f0f921\"]],\"type\":\"heatmap\"}],\"histogram2dcontour\":[{\"colorbar\":{\"outlinewidth\":0,\"ticks\":\"\"},\"colorscale\":[[0.0,\"#0d0887\"],[0.1111111111111111,\"#46039f\"],[0.2222222222222222,\"#7201a8\"],[0.3333333333333333,\"#9c179e\"],[0.4444444444444444,\"#bd3786\"],[0.5555555555555556,\"#d8576b\"],[0.6666666666666666,\"#ed7953\"],[0.7777777777777778,\"#fb9f3a\"],[0.8888888888888888,\"#fdca26\"],[1.0,\"#f0f921\"]],\"type\":\"histogram2dcontour\"}],\"histogram2d\":[{\"colorbar\":{\"outlinewidth\":0,\"ticks\":\"\"},\"colorscale\":[[0.0,\"#0d0887\"],[0.1111111111111111,\"#46039f\"],[0.2222222222222222,\"#7201a8\"],[0.3333333333333333,\"#9c179e\"],[0.4444444444444444,\"#bd3786\"],[0.5555555555555556,\"#d8576b\"],[0.6666666666666666,\"#ed7953\"],[0.7777777777777778,\"#fb9f3a\"],[0.8888888888888888,\"#fdca26\"],[1.0,\"#f0f921\"]],\"type\":\"histogram2d\"}],\"histogram\":[{\"marker\":{\"pattern\":{\"fillmode\":\"overlay\",\"size\":10,\"solidity\":0.2}},\"type\":\"histogram\"}],\"mesh3d\":[{\"colorbar\":{\"outlinewidth\":0,\"ticks\":\"\"},\"type\":\"mesh3d\"}],\"parcoords\":[{\"line\":{\"colorbar\":{\"outlinewidth\":0,\"ticks\":\"\"}},\"type\":\"parcoords\"}],\"pie\":[{\"automargin\":true,\"type\":\"pie\"}],\"scatter3d\":[{\"line\":{\"colorbar\":{\"outlinewidth\":0,\"ticks\":\"\"}},\"marker\":{\"colorbar\":{\"outlinewidth\":0,\"ticks\":\"\"}},\"type\":\"scatter3d\"}],\"scattercarpet\":[{\"marker\":{\"colorbar\":{\"outlinewidth\":0,\"ticks\":\"\"}},\"type\":\"scattercarpet\"}],\"scattergeo\":[{\"marker\":{\"colorbar\":{\"outlinewidth\":0,\"ticks\":\"\"}},\"type\":\"scattergeo\"}],\"scattergl\":[{\"marker\":{\"colorbar\":{\"outlinewidth\":0,\"ticks\":\"\"}},\"type\":\"scattergl\"}],\"scattermapbox\":[{\"marker\":{\"colorbar\":{\"outlinewidth\":0,\"ticks\":\"\"}},\"type\":\"scattermapbox\"}],\"scatterpolargl\":[{\"marker\":{\"colorbar\":{\"outlinewidth\":0,\"ticks\":\"\"}},\"type\":\"scatterpolargl\"}],\"scatterpolar\":[{\"marker\":{\"colorbar\":{\"outlinewidth\":0,\"ticks\":\"\"}},\"type\":\"scatterpolar\"}],\"scatter\":[{\"fillpattern\":{\"fillmode\":\"overlay\",\"size\":10,\"solidity\":0.2},\"type\":\"scatter\"}],\"scatterternary\":[{\"marker\":{\"colorbar\":{\"outlinewidth\":0,\"ticks\":\"\"}},\"type\":\"scatterternary\"}],\"surface\":[{\"colorbar\":{\"outlinewidth\":0,\"ticks\":\"\"},\"colorscale\":[[0.0,\"#0d0887\"],[0.1111111111111111,\"#46039f\"],[0.2222222222222222,\"#7201a8\"],[0.3333333333333333,\"#9c179e\"],[0.4444444444444444,\"#bd3786\"],[0.5555555555555556,\"#d8576b\"],[0.6666666666666666,\"#ed7953\"],[0.7777777777777778,\"#fb9f3a\"],[0.8888888888888888,\"#fdca26\"],[1.0,\"#f0f921\"]],\"type\":\"surface\"}],\"table\":[{\"cells\":{\"fill\":{\"color\":\"#EBF0F8\"},\"line\":{\"color\":\"white\"}},\"header\":{\"fill\":{\"color\":\"#C8D4E3\"},\"line\":{\"color\":\"white\"}},\"type\":\"table\"}]},\"layout\":{\"annotationdefaults\":{\"arrowcolor\":\"#2a3f5f\",\"arrowhead\":0,\"arrowwidth\":1},\"autotypenumbers\":\"strict\",\"coloraxis\":{\"colorbar\":{\"outlinewidth\":0,\"ticks\":\"\"}},\"colorscale\":{\"diverging\":[[0,\"#8e0152\"],[0.1,\"#c51b7d\"],[0.2,\"#de77ae\"],[0.3,\"#f1b6da\"],[0.4,\"#fde0ef\"],[0.5,\"#f7f7f7\"],[0.6,\"#e6f5d0\"],[0.7,\"#b8e186\"],[0.8,\"#7fbc41\"],[0.9,\"#4d9221\"],[1,\"#276419\"]],\"sequential\":[[0.0,\"#0d0887\"],[0.1111111111111111,\"#46039f\"],[0.2222222222222222,\"#7201a8\"],[0.3333333333333333,\"#9c179e\"],[0.4444444444444444,\"#bd3786\"],[0.5555555555555556,\"#d8576b\"],[0.6666666666666666,\"#ed7953\"],[0.7777777777777778,\"#fb9f3a\"],[0.8888888888888888,\"#fdca26\"],[1.0,\"#f0f921\"]],\"sequentialminus\":[[0.0,\"#0d0887\"],[0.1111111111111111,\"#46039f\"],[0.2222222222222222,\"#7201a8\"],[0.3333333333333333,\"#9c179e\"],[0.4444444444444444,\"#bd3786\"],[0.5555555555555556,\"#d8576b\"],[0.6666666666666666,\"#ed7953\"],[0.7777777777777778,\"#fb9f3a\"],[0.8888888888888888,\"#fdca26\"],[1.0,\"#f0f921\"]]},\"colorway\":[\"#636efa\",\"#EF553B\",\"#00cc96\",\"#ab63fa\",\"#FFA15A\",\"#19d3f3\",\"#FF6692\",\"#B6E880\",\"#FF97FF\",\"#FECB52\"],\"font\":{\"color\":\"#2a3f5f\"},\"geo\":{\"bgcolor\":\"white\",\"lakecolor\":\"white\",\"landcolor\":\"#E5ECF6\",\"showlakes\":true,\"showland\":true,\"subunitcolor\":\"white\"},\"hoverlabel\":{\"align\":\"left\"},\"hovermode\":\"closest\",\"mapbox\":{\"style\":\"light\"},\"paper_bgcolor\":\"white\",\"plot_bgcolor\":\"#E5ECF6\",\"polar\":{\"angularaxis\":{\"gridcolor\":\"white\",\"linecolor\":\"white\",\"ticks\":\"\"},\"bgcolor\":\"#E5ECF6\",\"radialaxis\":{\"gridcolor\":\"white\",\"linecolor\":\"white\",\"ticks\":\"\"}},\"scene\":{\"xaxis\":{\"backgroundcolor\":\"#E5ECF6\",\"gridcolor\":\"white\",\"gridwidth\":2,\"linecolor\":\"white\",\"showbackground\":true,\"ticks\":\"\",\"zerolinecolor\":\"white\"},\"yaxis\":{\"backgroundcolor\":\"#E5ECF6\",\"gridcolor\":\"white\",\"gridwidth\":2,\"linecolor\":\"white\",\"showbackground\":true,\"ticks\":\"\",\"zerolinecolor\":\"white\"},\"zaxis\":{\"backgroundcolor\":\"#E5ECF6\",\"gridcolor\":\"white\",\"gridwidth\":2,\"linecolor\":\"white\",\"showbackground\":true,\"ticks\":\"\",\"zerolinecolor\":\"white\"}},\"shapedefaults\":{\"line\":{\"color\":\"#2a3f5f\"}},\"ternary\":{\"aaxis\":{\"gridcolor\":\"white\",\"linecolor\":\"white\",\"ticks\":\"\"},\"baxis\":{\"gridcolor\":\"white\",\"linecolor\":\"white\",\"ticks\":\"\"},\"bgcolor\":\"#E5ECF6\",\"caxis\":{\"gridcolor\":\"white\",\"linecolor\":\"white\",\"ticks\":\"\"}},\"title\":{\"x\":0.05},\"xaxis\":{\"automargin\":true,\"gridcolor\":\"white\",\"linecolor\":\"white\",\"ticks\":\"\",\"title\":{\"standoff\":15},\"zerolinecolor\":\"white\",\"zerolinewidth\":2},\"yaxis\":{\"automargin\":true,\"gridcolor\":\"white\",\"linecolor\":\"white\",\"ticks\":\"\",\"title\":{\"standoff\":15},\"zerolinecolor\":\"white\",\"zerolinewidth\":2}}},\"title\":{\"font\":{\"color\":\"#4D5663\"}},\"xaxis\":{\"gridcolor\":\"#E1E5ED\",\"showgrid\":true,\"tickfont\":{\"color\":\"#4D5663\"},\"title\":{\"font\":{\"color\":\"#4D5663\"},\"text\":\"\"},\"zerolinecolor\":\"#E1E5ED\"},\"yaxis\":{\"gridcolor\":\"#E1E5ED\",\"showgrid\":true,\"tickfont\":{\"color\":\"#4D5663\"},\"title\":{\"font\":{\"color\":\"#4D5663\"},\"text\":\"\"},\"zerolinecolor\":\"#E1E5ED\"}},                        {\"showLink\": true, \"linkText\": \"Export to plot.ly\", \"plotlyServerURL\": \"https://plot.ly\", \"responsive\": true}                    ).then(function(){\n",
       "                            \n",
       "var gd = document.getElementById('ef71b668-7bda-497f-aa30-7d09e4272f7b');\n",
       "var x = new MutationObserver(function (mutations, observer) {{\n",
       "        var display = window.getComputedStyle(gd).display;\n",
       "        if (!display || display === 'none') {{\n",
       "            console.log([gd, 'removed!']);\n",
       "            Plotly.purge(gd);\n",
       "            observer.disconnect();\n",
       "        }}\n",
       "}});\n",
       "\n",
       "// Listen for the removal of the full notebook cells\n",
       "var notebookContainer = gd.closest('#notebook-container');\n",
       "if (notebookContainer) {{\n",
       "    x.observe(notebookContainer, {childList: true});\n",
       "}}\n",
       "\n",
       "// Listen for the clearing of the current output cell\n",
       "var outputEl = gd.closest('.output');\n",
       "if (outputEl) {{\n",
       "    x.observe(outputEl, {childList: true});\n",
       "}}\n",
       "\n",
       "                        })                };                });            </script>        </div>"
      ]
     },
     "metadata": {},
     "output_type": "display_data"
    }
   ],
   "source": [
    "df2.iplot(kind='bar', x='Category', y='Values')"
   ]
  },
  {
   "cell_type": "code",
   "execution_count": 11,
   "metadata": {
    "collapsed": false
   },
   "outputs": [
    {
     "data": {
      "application/vnd.plotly.v1+json": {
       "config": {
        "linkText": "Export to plot.ly",
        "plotlyServerURL": "https://plot.ly",
        "showLink": true
       },
       "data": [
        {
         "marker": {
          "color": "rgba(255, 153, 51, 0.6)",
          "line": {
           "color": "rgba(255, 153, 51, 1.0)",
           "width": 1
          }
         },
         "name": "None",
         "orientation": "v",
         "text": "",
         "type": "bar",
         "x": [
          "A",
          "B",
          "C",
          "D"
         ],
         "y": [
          100,
          100,
          100,
          100
         ]
        }
       ],
       "layout": {
        "legend": {
         "bgcolor": "#F5F6F9",
         "font": {
          "color": "#4D5663"
         }
        },
        "paper_bgcolor": "#F5F6F9",
        "plot_bgcolor": "#F5F6F9",
        "template": {
         "data": {
          "bar": [
           {
            "error_x": {
             "color": "#2a3f5f"
            },
            "error_y": {
             "color": "#2a3f5f"
            },
            "marker": {
             "line": {
              "color": "#E5ECF6",
              "width": 0.5
             },
             "pattern": {
              "fillmode": "overlay",
              "size": 10,
              "solidity": 0.2
             }
            },
            "type": "bar"
           }
          ],
          "barpolar": [
           {
            "marker": {
             "line": {
              "color": "#E5ECF6",
              "width": 0.5
             },
             "pattern": {
              "fillmode": "overlay",
              "size": 10,
              "solidity": 0.2
             }
            },
            "type": "barpolar"
           }
          ],
          "carpet": [
           {
            "aaxis": {
             "endlinecolor": "#2a3f5f",
             "gridcolor": "white",
             "linecolor": "white",
             "minorgridcolor": "white",
             "startlinecolor": "#2a3f5f"
            },
            "baxis": {
             "endlinecolor": "#2a3f5f",
             "gridcolor": "white",
             "linecolor": "white",
             "minorgridcolor": "white",
             "startlinecolor": "#2a3f5f"
            },
            "type": "carpet"
           }
          ],
          "choropleth": [
           {
            "colorbar": {
             "outlinewidth": 0,
             "ticks": ""
            },
            "type": "choropleth"
           }
          ],
          "contour": [
           {
            "colorbar": {
             "outlinewidth": 0,
             "ticks": ""
            },
            "colorscale": [
             [
              0,
              "#0d0887"
             ],
             [
              0.1111111111111111,
              "#46039f"
             ],
             [
              0.2222222222222222,
              "#7201a8"
             ],
             [
              0.3333333333333333,
              "#9c179e"
             ],
             [
              0.4444444444444444,
              "#bd3786"
             ],
             [
              0.5555555555555556,
              "#d8576b"
             ],
             [
              0.6666666666666666,
              "#ed7953"
             ],
             [
              0.7777777777777778,
              "#fb9f3a"
             ],
             [
              0.8888888888888888,
              "#fdca26"
             ],
             [
              1,
              "#f0f921"
             ]
            ],
            "type": "contour"
           }
          ],
          "contourcarpet": [
           {
            "colorbar": {
             "outlinewidth": 0,
             "ticks": ""
            },
            "type": "contourcarpet"
           }
          ],
          "heatmap": [
           {
            "colorbar": {
             "outlinewidth": 0,
             "ticks": ""
            },
            "colorscale": [
             [
              0,
              "#0d0887"
             ],
             [
              0.1111111111111111,
              "#46039f"
             ],
             [
              0.2222222222222222,
              "#7201a8"
             ],
             [
              0.3333333333333333,
              "#9c179e"
             ],
             [
              0.4444444444444444,
              "#bd3786"
             ],
             [
              0.5555555555555556,
              "#d8576b"
             ],
             [
              0.6666666666666666,
              "#ed7953"
             ],
             [
              0.7777777777777778,
              "#fb9f3a"
             ],
             [
              0.8888888888888888,
              "#fdca26"
             ],
             [
              1,
              "#f0f921"
             ]
            ],
            "type": "heatmap"
           }
          ],
          "heatmapgl": [
           {
            "colorbar": {
             "outlinewidth": 0,
             "ticks": ""
            },
            "colorscale": [
             [
              0,
              "#0d0887"
             ],
             [
              0.1111111111111111,
              "#46039f"
             ],
             [
              0.2222222222222222,
              "#7201a8"
             ],
             [
              0.3333333333333333,
              "#9c179e"
             ],
             [
              0.4444444444444444,
              "#bd3786"
             ],
             [
              0.5555555555555556,
              "#d8576b"
             ],
             [
              0.6666666666666666,
              "#ed7953"
             ],
             [
              0.7777777777777778,
              "#fb9f3a"
             ],
             [
              0.8888888888888888,
              "#fdca26"
             ],
             [
              1,
              "#f0f921"
             ]
            ],
            "type": "heatmapgl"
           }
          ],
          "histogram": [
           {
            "marker": {
             "pattern": {
              "fillmode": "overlay",
              "size": 10,
              "solidity": 0.2
             }
            },
            "type": "histogram"
           }
          ],
          "histogram2d": [
           {
            "colorbar": {
             "outlinewidth": 0,
             "ticks": ""
            },
            "colorscale": [
             [
              0,
              "#0d0887"
             ],
             [
              0.1111111111111111,
              "#46039f"
             ],
             [
              0.2222222222222222,
              "#7201a8"
             ],
             [
              0.3333333333333333,
              "#9c179e"
             ],
             [
              0.4444444444444444,
              "#bd3786"
             ],
             [
              0.5555555555555556,
              "#d8576b"
             ],
             [
              0.6666666666666666,
              "#ed7953"
             ],
             [
              0.7777777777777778,
              "#fb9f3a"
             ],
             [
              0.8888888888888888,
              "#fdca26"
             ],
             [
              1,
              "#f0f921"
             ]
            ],
            "type": "histogram2d"
           }
          ],
          "histogram2dcontour": [
           {
            "colorbar": {
             "outlinewidth": 0,
             "ticks": ""
            },
            "colorscale": [
             [
              0,
              "#0d0887"
             ],
             [
              0.1111111111111111,
              "#46039f"
             ],
             [
              0.2222222222222222,
              "#7201a8"
             ],
             [
              0.3333333333333333,
              "#9c179e"
             ],
             [
              0.4444444444444444,
              "#bd3786"
             ],
             [
              0.5555555555555556,
              "#d8576b"
             ],
             [
              0.6666666666666666,
              "#ed7953"
             ],
             [
              0.7777777777777778,
              "#fb9f3a"
             ],
             [
              0.8888888888888888,
              "#fdca26"
             ],
             [
              1,
              "#f0f921"
             ]
            ],
            "type": "histogram2dcontour"
           }
          ],
          "mesh3d": [
           {
            "colorbar": {
             "outlinewidth": 0,
             "ticks": ""
            },
            "type": "mesh3d"
           }
          ],
          "parcoords": [
           {
            "line": {
             "colorbar": {
              "outlinewidth": 0,
              "ticks": ""
             }
            },
            "type": "parcoords"
           }
          ],
          "pie": [
           {
            "automargin": true,
            "type": "pie"
           }
          ],
          "scatter": [
           {
            "fillpattern": {
             "fillmode": "overlay",
             "size": 10,
             "solidity": 0.2
            },
            "type": "scatter"
           }
          ],
          "scatter3d": [
           {
            "line": {
             "colorbar": {
              "outlinewidth": 0,
              "ticks": ""
             }
            },
            "marker": {
             "colorbar": {
              "outlinewidth": 0,
              "ticks": ""
             }
            },
            "type": "scatter3d"
           }
          ],
          "scattercarpet": [
           {
            "marker": {
             "colorbar": {
              "outlinewidth": 0,
              "ticks": ""
             }
            },
            "type": "scattercarpet"
           }
          ],
          "scattergeo": [
           {
            "marker": {
             "colorbar": {
              "outlinewidth": 0,
              "ticks": ""
             }
            },
            "type": "scattergeo"
           }
          ],
          "scattergl": [
           {
            "marker": {
             "colorbar": {
              "outlinewidth": 0,
              "ticks": ""
             }
            },
            "type": "scattergl"
           }
          ],
          "scattermapbox": [
           {
            "marker": {
             "colorbar": {
              "outlinewidth": 0,
              "ticks": ""
             }
            },
            "type": "scattermapbox"
           }
          ],
          "scatterpolar": [
           {
            "marker": {
             "colorbar": {
              "outlinewidth": 0,
              "ticks": ""
             }
            },
            "type": "scatterpolar"
           }
          ],
          "scatterpolargl": [
           {
            "marker": {
             "colorbar": {
              "outlinewidth": 0,
              "ticks": ""
             }
            },
            "type": "scatterpolargl"
           }
          ],
          "scatterternary": [
           {
            "marker": {
             "colorbar": {
              "outlinewidth": 0,
              "ticks": ""
             }
            },
            "type": "scatterternary"
           }
          ],
          "surface": [
           {
            "colorbar": {
             "outlinewidth": 0,
             "ticks": ""
            },
            "colorscale": [
             [
              0,
              "#0d0887"
             ],
             [
              0.1111111111111111,
              "#46039f"
             ],
             [
              0.2222222222222222,
              "#7201a8"
             ],
             [
              0.3333333333333333,
              "#9c179e"
             ],
             [
              0.4444444444444444,
              "#bd3786"
             ],
             [
              0.5555555555555556,
              "#d8576b"
             ],
             [
              0.6666666666666666,
              "#ed7953"
             ],
             [
              0.7777777777777778,
              "#fb9f3a"
             ],
             [
              0.8888888888888888,
              "#fdca26"
             ],
             [
              1,
              "#f0f921"
             ]
            ],
            "type": "surface"
           }
          ],
          "table": [
           {
            "cells": {
             "fill": {
              "color": "#EBF0F8"
             },
             "line": {
              "color": "white"
             }
            },
            "header": {
             "fill": {
              "color": "#C8D4E3"
             },
             "line": {
              "color": "white"
             }
            },
            "type": "table"
           }
          ]
         },
         "layout": {
          "annotationdefaults": {
           "arrowcolor": "#2a3f5f",
           "arrowhead": 0,
           "arrowwidth": 1
          },
          "autotypenumbers": "strict",
          "coloraxis": {
           "colorbar": {
            "outlinewidth": 0,
            "ticks": ""
           }
          },
          "colorscale": {
           "diverging": [
            [
             0,
             "#8e0152"
            ],
            [
             0.1,
             "#c51b7d"
            ],
            [
             0.2,
             "#de77ae"
            ],
            [
             0.3,
             "#f1b6da"
            ],
            [
             0.4,
             "#fde0ef"
            ],
            [
             0.5,
             "#f7f7f7"
            ],
            [
             0.6,
             "#e6f5d0"
            ],
            [
             0.7,
             "#b8e186"
            ],
            [
             0.8,
             "#7fbc41"
            ],
            [
             0.9,
             "#4d9221"
            ],
            [
             1,
             "#276419"
            ]
           ],
           "sequential": [
            [
             0,
             "#0d0887"
            ],
            [
             0.1111111111111111,
             "#46039f"
            ],
            [
             0.2222222222222222,
             "#7201a8"
            ],
            [
             0.3333333333333333,
             "#9c179e"
            ],
            [
             0.4444444444444444,
             "#bd3786"
            ],
            [
             0.5555555555555556,
             "#d8576b"
            ],
            [
             0.6666666666666666,
             "#ed7953"
            ],
            [
             0.7777777777777778,
             "#fb9f3a"
            ],
            [
             0.8888888888888888,
             "#fdca26"
            ],
            [
             1,
             "#f0f921"
            ]
           ],
           "sequentialminus": [
            [
             0,
             "#0d0887"
            ],
            [
             0.1111111111111111,
             "#46039f"
            ],
            [
             0.2222222222222222,
             "#7201a8"
            ],
            [
             0.3333333333333333,
             "#9c179e"
            ],
            [
             0.4444444444444444,
             "#bd3786"
            ],
            [
             0.5555555555555556,
             "#d8576b"
            ],
            [
             0.6666666666666666,
             "#ed7953"
            ],
            [
             0.7777777777777778,
             "#fb9f3a"
            ],
            [
             0.8888888888888888,
             "#fdca26"
            ],
            [
             1,
             "#f0f921"
            ]
           ]
          },
          "colorway": [
           "#636efa",
           "#EF553B",
           "#00cc96",
           "#ab63fa",
           "#FFA15A",
           "#19d3f3",
           "#FF6692",
           "#B6E880",
           "#FF97FF",
           "#FECB52"
          ],
          "font": {
           "color": "#2a3f5f"
          },
          "geo": {
           "bgcolor": "white",
           "lakecolor": "white",
           "landcolor": "#E5ECF6",
           "showlakes": true,
           "showland": true,
           "subunitcolor": "white"
          },
          "hoverlabel": {
           "align": "left"
          },
          "hovermode": "closest",
          "mapbox": {
           "style": "light"
          },
          "paper_bgcolor": "white",
          "plot_bgcolor": "#E5ECF6",
          "polar": {
           "angularaxis": {
            "gridcolor": "white",
            "linecolor": "white",
            "ticks": ""
           },
           "bgcolor": "#E5ECF6",
           "radialaxis": {
            "gridcolor": "white",
            "linecolor": "white",
            "ticks": ""
           }
          },
          "scene": {
           "xaxis": {
            "backgroundcolor": "#E5ECF6",
            "gridcolor": "white",
            "gridwidth": 2,
            "linecolor": "white",
            "showbackground": true,
            "ticks": "",
            "zerolinecolor": "white"
           },
           "yaxis": {
            "backgroundcolor": "#E5ECF6",
            "gridcolor": "white",
            "gridwidth": 2,
            "linecolor": "white",
            "showbackground": true,
            "ticks": "",
            "zerolinecolor": "white"
           },
           "zaxis": {
            "backgroundcolor": "#E5ECF6",
            "gridcolor": "white",
            "gridwidth": 2,
            "linecolor": "white",
            "showbackground": true,
            "ticks": "",
            "zerolinecolor": "white"
           }
          },
          "shapedefaults": {
           "line": {
            "color": "#2a3f5f"
           }
          },
          "ternary": {
           "aaxis": {
            "gridcolor": "white",
            "linecolor": "white",
            "ticks": ""
           },
           "baxis": {
            "gridcolor": "white",
            "linecolor": "white",
            "ticks": ""
           },
           "bgcolor": "#E5ECF6",
           "caxis": {
            "gridcolor": "white",
            "linecolor": "white",
            "ticks": ""
           }
          },
          "title": {
           "x": 0.05
          },
          "xaxis": {
           "automargin": true,
           "gridcolor": "white",
           "linecolor": "white",
           "ticks": "",
           "title": {
            "standoff": 15
           },
           "zerolinecolor": "white",
           "zerolinewidth": 2
          },
          "yaxis": {
           "automargin": true,
           "gridcolor": "white",
           "linecolor": "white",
           "ticks": "",
           "title": {
            "standoff": 15
           },
           "zerolinecolor": "white",
           "zerolinewidth": 2
          }
         }
        },
        "title": {
         "font": {
          "color": "#4D5663"
         }
        },
        "xaxis": {
         "gridcolor": "#E1E5ED",
         "showgrid": true,
         "tickfont": {
          "color": "#4D5663"
         },
         "title": {
          "font": {
           "color": "#4D5663"
          },
          "text": ""
         },
         "zerolinecolor": "#E1E5ED"
        },
        "yaxis": {
         "gridcolor": "#E1E5ED",
         "showgrid": true,
         "tickfont": {
          "color": "#4D5663"
         },
         "title": {
          "font": {
           "color": "#4D5663"
          },
          "text": ""
         },
         "zerolinecolor": "#E1E5ED"
        }
       }
      },
      "text/html": [
       "<div>                            <div id=\"98b92857-b0bc-4314-be7b-b830e1b4e8d4\" class=\"plotly-graph-div\" style=\"height:525px; width:100%;\"></div>            <script type=\"text/javascript\">                require([\"plotly\"], function(Plotly) {                    window.PLOTLYENV=window.PLOTLYENV || {};\n",
       "                    window.PLOTLYENV.BASE_URL='https://plot.ly';                                    if (document.getElementById(\"98b92857-b0bc-4314-be7b-b830e1b4e8d4\")) {                    Plotly.newPlot(                        \"98b92857-b0bc-4314-be7b-b830e1b4e8d4\",                        [{\"marker\":{\"color\":\"rgba(255, 153, 51, 0.6)\",\"line\":{\"color\":\"rgba(255, 153, 51, 1.0)\",\"width\":1}},\"name\":\"None\",\"orientation\":\"v\",\"text\":\"\",\"x\":[\"A\",\"B\",\"C\",\"D\"],\"y\":[100,100,100,100],\"type\":\"bar\"}],                        {\"legend\":{\"bgcolor\":\"#F5F6F9\",\"font\":{\"color\":\"#4D5663\"}},\"paper_bgcolor\":\"#F5F6F9\",\"plot_bgcolor\":\"#F5F6F9\",\"template\":{\"data\":{\"barpolar\":[{\"marker\":{\"line\":{\"color\":\"#E5ECF6\",\"width\":0.5},\"pattern\":{\"fillmode\":\"overlay\",\"size\":10,\"solidity\":0.2}},\"type\":\"barpolar\"}],\"bar\":[{\"error_x\":{\"color\":\"#2a3f5f\"},\"error_y\":{\"color\":\"#2a3f5f\"},\"marker\":{\"line\":{\"color\":\"#E5ECF6\",\"width\":0.5},\"pattern\":{\"fillmode\":\"overlay\",\"size\":10,\"solidity\":0.2}},\"type\":\"bar\"}],\"carpet\":[{\"aaxis\":{\"endlinecolor\":\"#2a3f5f\",\"gridcolor\":\"white\",\"linecolor\":\"white\",\"minorgridcolor\":\"white\",\"startlinecolor\":\"#2a3f5f\"},\"baxis\":{\"endlinecolor\":\"#2a3f5f\",\"gridcolor\":\"white\",\"linecolor\":\"white\",\"minorgridcolor\":\"white\",\"startlinecolor\":\"#2a3f5f\"},\"type\":\"carpet\"}],\"choropleth\":[{\"colorbar\":{\"outlinewidth\":0,\"ticks\":\"\"},\"type\":\"choropleth\"}],\"contourcarpet\":[{\"colorbar\":{\"outlinewidth\":0,\"ticks\":\"\"},\"type\":\"contourcarpet\"}],\"contour\":[{\"colorbar\":{\"outlinewidth\":0,\"ticks\":\"\"},\"colorscale\":[[0.0,\"#0d0887\"],[0.1111111111111111,\"#46039f\"],[0.2222222222222222,\"#7201a8\"],[0.3333333333333333,\"#9c179e\"],[0.4444444444444444,\"#bd3786\"],[0.5555555555555556,\"#d8576b\"],[0.6666666666666666,\"#ed7953\"],[0.7777777777777778,\"#fb9f3a\"],[0.8888888888888888,\"#fdca26\"],[1.0,\"#f0f921\"]],\"type\":\"contour\"}],\"heatmapgl\":[{\"colorbar\":{\"outlinewidth\":0,\"ticks\":\"\"},\"colorscale\":[[0.0,\"#0d0887\"],[0.1111111111111111,\"#46039f\"],[0.2222222222222222,\"#7201a8\"],[0.3333333333333333,\"#9c179e\"],[0.4444444444444444,\"#bd3786\"],[0.5555555555555556,\"#d8576b\"],[0.6666666666666666,\"#ed7953\"],[0.7777777777777778,\"#fb9f3a\"],[0.8888888888888888,\"#fdca26\"],[1.0,\"#f0f921\"]],\"type\":\"heatmapgl\"}],\"heatmap\":[{\"colorbar\":{\"outlinewidth\":0,\"ticks\":\"\"},\"colorscale\":[[0.0,\"#0d0887\"],[0.1111111111111111,\"#46039f\"],[0.2222222222222222,\"#7201a8\"],[0.3333333333333333,\"#9c179e\"],[0.4444444444444444,\"#bd3786\"],[0.5555555555555556,\"#d8576b\"],[0.6666666666666666,\"#ed7953\"],[0.7777777777777778,\"#fb9f3a\"],[0.8888888888888888,\"#fdca26\"],[1.0,\"#f0f921\"]],\"type\":\"heatmap\"}],\"histogram2dcontour\":[{\"colorbar\":{\"outlinewidth\":0,\"ticks\":\"\"},\"colorscale\":[[0.0,\"#0d0887\"],[0.1111111111111111,\"#46039f\"],[0.2222222222222222,\"#7201a8\"],[0.3333333333333333,\"#9c179e\"],[0.4444444444444444,\"#bd3786\"],[0.5555555555555556,\"#d8576b\"],[0.6666666666666666,\"#ed7953\"],[0.7777777777777778,\"#fb9f3a\"],[0.8888888888888888,\"#fdca26\"],[1.0,\"#f0f921\"]],\"type\":\"histogram2dcontour\"}],\"histogram2d\":[{\"colorbar\":{\"outlinewidth\":0,\"ticks\":\"\"},\"colorscale\":[[0.0,\"#0d0887\"],[0.1111111111111111,\"#46039f\"],[0.2222222222222222,\"#7201a8\"],[0.3333333333333333,\"#9c179e\"],[0.4444444444444444,\"#bd3786\"],[0.5555555555555556,\"#d8576b\"],[0.6666666666666666,\"#ed7953\"],[0.7777777777777778,\"#fb9f3a\"],[0.8888888888888888,\"#fdca26\"],[1.0,\"#f0f921\"]],\"type\":\"histogram2d\"}],\"histogram\":[{\"marker\":{\"pattern\":{\"fillmode\":\"overlay\",\"size\":10,\"solidity\":0.2}},\"type\":\"histogram\"}],\"mesh3d\":[{\"colorbar\":{\"outlinewidth\":0,\"ticks\":\"\"},\"type\":\"mesh3d\"}],\"parcoords\":[{\"line\":{\"colorbar\":{\"outlinewidth\":0,\"ticks\":\"\"}},\"type\":\"parcoords\"}],\"pie\":[{\"automargin\":true,\"type\":\"pie\"}],\"scatter3d\":[{\"line\":{\"colorbar\":{\"outlinewidth\":0,\"ticks\":\"\"}},\"marker\":{\"colorbar\":{\"outlinewidth\":0,\"ticks\":\"\"}},\"type\":\"scatter3d\"}],\"scattercarpet\":[{\"marker\":{\"colorbar\":{\"outlinewidth\":0,\"ticks\":\"\"}},\"type\":\"scattercarpet\"}],\"scattergeo\":[{\"marker\":{\"colorbar\":{\"outlinewidth\":0,\"ticks\":\"\"}},\"type\":\"scattergeo\"}],\"scattergl\":[{\"marker\":{\"colorbar\":{\"outlinewidth\":0,\"ticks\":\"\"}},\"type\":\"scattergl\"}],\"scattermapbox\":[{\"marker\":{\"colorbar\":{\"outlinewidth\":0,\"ticks\":\"\"}},\"type\":\"scattermapbox\"}],\"scatterpolargl\":[{\"marker\":{\"colorbar\":{\"outlinewidth\":0,\"ticks\":\"\"}},\"type\":\"scatterpolargl\"}],\"scatterpolar\":[{\"marker\":{\"colorbar\":{\"outlinewidth\":0,\"ticks\":\"\"}},\"type\":\"scatterpolar\"}],\"scatter\":[{\"fillpattern\":{\"fillmode\":\"overlay\",\"size\":10,\"solidity\":0.2},\"type\":\"scatter\"}],\"scatterternary\":[{\"marker\":{\"colorbar\":{\"outlinewidth\":0,\"ticks\":\"\"}},\"type\":\"scatterternary\"}],\"surface\":[{\"colorbar\":{\"outlinewidth\":0,\"ticks\":\"\"},\"colorscale\":[[0.0,\"#0d0887\"],[0.1111111111111111,\"#46039f\"],[0.2222222222222222,\"#7201a8\"],[0.3333333333333333,\"#9c179e\"],[0.4444444444444444,\"#bd3786\"],[0.5555555555555556,\"#d8576b\"],[0.6666666666666666,\"#ed7953\"],[0.7777777777777778,\"#fb9f3a\"],[0.8888888888888888,\"#fdca26\"],[1.0,\"#f0f921\"]],\"type\":\"surface\"}],\"table\":[{\"cells\":{\"fill\":{\"color\":\"#EBF0F8\"},\"line\":{\"color\":\"white\"}},\"header\":{\"fill\":{\"color\":\"#C8D4E3\"},\"line\":{\"color\":\"white\"}},\"type\":\"table\"}]},\"layout\":{\"annotationdefaults\":{\"arrowcolor\":\"#2a3f5f\",\"arrowhead\":0,\"arrowwidth\":1},\"autotypenumbers\":\"strict\",\"coloraxis\":{\"colorbar\":{\"outlinewidth\":0,\"ticks\":\"\"}},\"colorscale\":{\"diverging\":[[0,\"#8e0152\"],[0.1,\"#c51b7d\"],[0.2,\"#de77ae\"],[0.3,\"#f1b6da\"],[0.4,\"#fde0ef\"],[0.5,\"#f7f7f7\"],[0.6,\"#e6f5d0\"],[0.7,\"#b8e186\"],[0.8,\"#7fbc41\"],[0.9,\"#4d9221\"],[1,\"#276419\"]],\"sequential\":[[0.0,\"#0d0887\"],[0.1111111111111111,\"#46039f\"],[0.2222222222222222,\"#7201a8\"],[0.3333333333333333,\"#9c179e\"],[0.4444444444444444,\"#bd3786\"],[0.5555555555555556,\"#d8576b\"],[0.6666666666666666,\"#ed7953\"],[0.7777777777777778,\"#fb9f3a\"],[0.8888888888888888,\"#fdca26\"],[1.0,\"#f0f921\"]],\"sequentialminus\":[[0.0,\"#0d0887\"],[0.1111111111111111,\"#46039f\"],[0.2222222222222222,\"#7201a8\"],[0.3333333333333333,\"#9c179e\"],[0.4444444444444444,\"#bd3786\"],[0.5555555555555556,\"#d8576b\"],[0.6666666666666666,\"#ed7953\"],[0.7777777777777778,\"#fb9f3a\"],[0.8888888888888888,\"#fdca26\"],[1.0,\"#f0f921\"]]},\"colorway\":[\"#636efa\",\"#EF553B\",\"#00cc96\",\"#ab63fa\",\"#FFA15A\",\"#19d3f3\",\"#FF6692\",\"#B6E880\",\"#FF97FF\",\"#FECB52\"],\"font\":{\"color\":\"#2a3f5f\"},\"geo\":{\"bgcolor\":\"white\",\"lakecolor\":\"white\",\"landcolor\":\"#E5ECF6\",\"showlakes\":true,\"showland\":true,\"subunitcolor\":\"white\"},\"hoverlabel\":{\"align\":\"left\"},\"hovermode\":\"closest\",\"mapbox\":{\"style\":\"light\"},\"paper_bgcolor\":\"white\",\"plot_bgcolor\":\"#E5ECF6\",\"polar\":{\"angularaxis\":{\"gridcolor\":\"white\",\"linecolor\":\"white\",\"ticks\":\"\"},\"bgcolor\":\"#E5ECF6\",\"radialaxis\":{\"gridcolor\":\"white\",\"linecolor\":\"white\",\"ticks\":\"\"}},\"scene\":{\"xaxis\":{\"backgroundcolor\":\"#E5ECF6\",\"gridcolor\":\"white\",\"gridwidth\":2,\"linecolor\":\"white\",\"showbackground\":true,\"ticks\":\"\",\"zerolinecolor\":\"white\"},\"yaxis\":{\"backgroundcolor\":\"#E5ECF6\",\"gridcolor\":\"white\",\"gridwidth\":2,\"linecolor\":\"white\",\"showbackground\":true,\"ticks\":\"\",\"zerolinecolor\":\"white\"},\"zaxis\":{\"backgroundcolor\":\"#E5ECF6\",\"gridcolor\":\"white\",\"gridwidth\":2,\"linecolor\":\"white\",\"showbackground\":true,\"ticks\":\"\",\"zerolinecolor\":\"white\"}},\"shapedefaults\":{\"line\":{\"color\":\"#2a3f5f\"}},\"ternary\":{\"aaxis\":{\"gridcolor\":\"white\",\"linecolor\":\"white\",\"ticks\":\"\"},\"baxis\":{\"gridcolor\":\"white\",\"linecolor\":\"white\",\"ticks\":\"\"},\"bgcolor\":\"#E5ECF6\",\"caxis\":{\"gridcolor\":\"white\",\"linecolor\":\"white\",\"ticks\":\"\"}},\"title\":{\"x\":0.05},\"xaxis\":{\"automargin\":true,\"gridcolor\":\"white\",\"linecolor\":\"white\",\"ticks\":\"\",\"title\":{\"standoff\":15},\"zerolinecolor\":\"white\",\"zerolinewidth\":2},\"yaxis\":{\"automargin\":true,\"gridcolor\":\"white\",\"linecolor\":\"white\",\"ticks\":\"\",\"title\":{\"standoff\":15},\"zerolinecolor\":\"white\",\"zerolinewidth\":2}}},\"title\":{\"font\":{\"color\":\"#4D5663\"}},\"xaxis\":{\"gridcolor\":\"#E1E5ED\",\"showgrid\":true,\"tickfont\":{\"color\":\"#4D5663\"},\"title\":{\"font\":{\"color\":\"#4D5663\"},\"text\":\"\"},\"zerolinecolor\":\"#E1E5ED\"},\"yaxis\":{\"gridcolor\":\"#E1E5ED\",\"showgrid\":true,\"tickfont\":{\"color\":\"#4D5663\"},\"title\":{\"font\":{\"color\":\"#4D5663\"},\"text\":\"\"},\"zerolinecolor\":\"#E1E5ED\"}},                        {\"showLink\": true, \"linkText\": \"Export to plot.ly\", \"plotlyServerURL\": \"https://plot.ly\", \"responsive\": true}                    ).then(function(){\n",
       "                            \n",
       "var gd = document.getElementById('98b92857-b0bc-4314-be7b-b830e1b4e8d4');\n",
       "var x = new MutationObserver(function (mutations, observer) {{\n",
       "        var display = window.getComputedStyle(gd).display;\n",
       "        if (!display || display === 'none') {{\n",
       "            console.log([gd, 'removed!']);\n",
       "            Plotly.purge(gd);\n",
       "            observer.disconnect();\n",
       "        }}\n",
       "}});\n",
       "\n",
       "// Listen for the removal of the full notebook cells\n",
       "var notebookContainer = gd.closest('#notebook-container');\n",
       "if (notebookContainer) {{\n",
       "    x.observe(notebookContainer, {childList: true});\n",
       "}}\n",
       "\n",
       "// Listen for the clearing of the current output cell\n",
       "var outputEl = gd.closest('.output');\n",
       "if (outputEl) {{\n",
       "    x.observe(outputEl, {childList: true});\n",
       "}}\n",
       "\n",
       "                        })                };                });            </script>        </div>"
      ]
     },
     "metadata": {},
     "output_type": "display_data"
    }
   ],
   "source": [
    "df1.count().iplot(kind='bar')"
   ]
  },
  {
   "cell_type": "code",
   "execution_count": 27,
   "metadata": {},
   "outputs": [
    {
     "data": {
      "application/vnd.plotly.v1+json": {
       "config": {
        "plotlyServerURL": "https://plot.ly"
       },
       "data": [
        {
         "alignmentgroup": "True",
         "hovertemplate": "Category=%{x}<br>Values=%{y}<extra></extra>",
         "legendgroup": "",
         "marker": {
          "color": "#636efa",
          "pattern": {
           "shape": ""
          }
         },
         "name": "",
         "offsetgroup": "",
         "orientation": "v",
         "showlegend": false,
         "textposition": "auto",
         "type": "bar",
         "x": [
          "A",
          "B",
          "C"
         ],
         "xaxis": "x",
         "y": [
          32,
          44,
          50
         ],
         "yaxis": "y"
        }
       ],
       "layout": {
        "barmode": "relative",
        "legend": {
         "tracegroupgap": 0
        },
        "template": {
         "data": {
          "bar": [
           {
            "error_x": {
             "color": "#2a3f5f"
            },
            "error_y": {
             "color": "#2a3f5f"
            },
            "marker": {
             "line": {
              "color": "#E5ECF6",
              "width": 0.5
             },
             "pattern": {
              "fillmode": "overlay",
              "size": 10,
              "solidity": 0.2
             }
            },
            "type": "bar"
           }
          ],
          "barpolar": [
           {
            "marker": {
             "line": {
              "color": "#E5ECF6",
              "width": 0.5
             },
             "pattern": {
              "fillmode": "overlay",
              "size": 10,
              "solidity": 0.2
             }
            },
            "type": "barpolar"
           }
          ],
          "carpet": [
           {
            "aaxis": {
             "endlinecolor": "#2a3f5f",
             "gridcolor": "white",
             "linecolor": "white",
             "minorgridcolor": "white",
             "startlinecolor": "#2a3f5f"
            },
            "baxis": {
             "endlinecolor": "#2a3f5f",
             "gridcolor": "white",
             "linecolor": "white",
             "minorgridcolor": "white",
             "startlinecolor": "#2a3f5f"
            },
            "type": "carpet"
           }
          ],
          "choropleth": [
           {
            "colorbar": {
             "outlinewidth": 0,
             "ticks": ""
            },
            "type": "choropleth"
           }
          ],
          "contour": [
           {
            "colorbar": {
             "outlinewidth": 0,
             "ticks": ""
            },
            "colorscale": [
             [
              0,
              "#0d0887"
             ],
             [
              0.1111111111111111,
              "#46039f"
             ],
             [
              0.2222222222222222,
              "#7201a8"
             ],
             [
              0.3333333333333333,
              "#9c179e"
             ],
             [
              0.4444444444444444,
              "#bd3786"
             ],
             [
              0.5555555555555556,
              "#d8576b"
             ],
             [
              0.6666666666666666,
              "#ed7953"
             ],
             [
              0.7777777777777778,
              "#fb9f3a"
             ],
             [
              0.8888888888888888,
              "#fdca26"
             ],
             [
              1,
              "#f0f921"
             ]
            ],
            "type": "contour"
           }
          ],
          "contourcarpet": [
           {
            "colorbar": {
             "outlinewidth": 0,
             "ticks": ""
            },
            "type": "contourcarpet"
           }
          ],
          "heatmap": [
           {
            "colorbar": {
             "outlinewidth": 0,
             "ticks": ""
            },
            "colorscale": [
             [
              0,
              "#0d0887"
             ],
             [
              0.1111111111111111,
              "#46039f"
             ],
             [
              0.2222222222222222,
              "#7201a8"
             ],
             [
              0.3333333333333333,
              "#9c179e"
             ],
             [
              0.4444444444444444,
              "#bd3786"
             ],
             [
              0.5555555555555556,
              "#d8576b"
             ],
             [
              0.6666666666666666,
              "#ed7953"
             ],
             [
              0.7777777777777778,
              "#fb9f3a"
             ],
             [
              0.8888888888888888,
              "#fdca26"
             ],
             [
              1,
              "#f0f921"
             ]
            ],
            "type": "heatmap"
           }
          ],
          "heatmapgl": [
           {
            "colorbar": {
             "outlinewidth": 0,
             "ticks": ""
            },
            "colorscale": [
             [
              0,
              "#0d0887"
             ],
             [
              0.1111111111111111,
              "#46039f"
             ],
             [
              0.2222222222222222,
              "#7201a8"
             ],
             [
              0.3333333333333333,
              "#9c179e"
             ],
             [
              0.4444444444444444,
              "#bd3786"
             ],
             [
              0.5555555555555556,
              "#d8576b"
             ],
             [
              0.6666666666666666,
              "#ed7953"
             ],
             [
              0.7777777777777778,
              "#fb9f3a"
             ],
             [
              0.8888888888888888,
              "#fdca26"
             ],
             [
              1,
              "#f0f921"
             ]
            ],
            "type": "heatmapgl"
           }
          ],
          "histogram": [
           {
            "marker": {
             "pattern": {
              "fillmode": "overlay",
              "size": 10,
              "solidity": 0.2
             }
            },
            "type": "histogram"
           }
          ],
          "histogram2d": [
           {
            "colorbar": {
             "outlinewidth": 0,
             "ticks": ""
            },
            "colorscale": [
             [
              0,
              "#0d0887"
             ],
             [
              0.1111111111111111,
              "#46039f"
             ],
             [
              0.2222222222222222,
              "#7201a8"
             ],
             [
              0.3333333333333333,
              "#9c179e"
             ],
             [
              0.4444444444444444,
              "#bd3786"
             ],
             [
              0.5555555555555556,
              "#d8576b"
             ],
             [
              0.6666666666666666,
              "#ed7953"
             ],
             [
              0.7777777777777778,
              "#fb9f3a"
             ],
             [
              0.8888888888888888,
              "#fdca26"
             ],
             [
              1,
              "#f0f921"
             ]
            ],
            "type": "histogram2d"
           }
          ],
          "histogram2dcontour": [
           {
            "colorbar": {
             "outlinewidth": 0,
             "ticks": ""
            },
            "colorscale": [
             [
              0,
              "#0d0887"
             ],
             [
              0.1111111111111111,
              "#46039f"
             ],
             [
              0.2222222222222222,
              "#7201a8"
             ],
             [
              0.3333333333333333,
              "#9c179e"
             ],
             [
              0.4444444444444444,
              "#bd3786"
             ],
             [
              0.5555555555555556,
              "#d8576b"
             ],
             [
              0.6666666666666666,
              "#ed7953"
             ],
             [
              0.7777777777777778,
              "#fb9f3a"
             ],
             [
              0.8888888888888888,
              "#fdca26"
             ],
             [
              1,
              "#f0f921"
             ]
            ],
            "type": "histogram2dcontour"
           }
          ],
          "mesh3d": [
           {
            "colorbar": {
             "outlinewidth": 0,
             "ticks": ""
            },
            "type": "mesh3d"
           }
          ],
          "parcoords": [
           {
            "line": {
             "colorbar": {
              "outlinewidth": 0,
              "ticks": ""
             }
            },
            "type": "parcoords"
           }
          ],
          "pie": [
           {
            "automargin": true,
            "type": "pie"
           }
          ],
          "scatter": [
           {
            "fillpattern": {
             "fillmode": "overlay",
             "size": 10,
             "solidity": 0.2
            },
            "type": "scatter"
           }
          ],
          "scatter3d": [
           {
            "line": {
             "colorbar": {
              "outlinewidth": 0,
              "ticks": ""
             }
            },
            "marker": {
             "colorbar": {
              "outlinewidth": 0,
              "ticks": ""
             }
            },
            "type": "scatter3d"
           }
          ],
          "scattercarpet": [
           {
            "marker": {
             "colorbar": {
              "outlinewidth": 0,
              "ticks": ""
             }
            },
            "type": "scattercarpet"
           }
          ],
          "scattergeo": [
           {
            "marker": {
             "colorbar": {
              "outlinewidth": 0,
              "ticks": ""
             }
            },
            "type": "scattergeo"
           }
          ],
          "scattergl": [
           {
            "marker": {
             "colorbar": {
              "outlinewidth": 0,
              "ticks": ""
             }
            },
            "type": "scattergl"
           }
          ],
          "scattermapbox": [
           {
            "marker": {
             "colorbar": {
              "outlinewidth": 0,
              "ticks": ""
             }
            },
            "type": "scattermapbox"
           }
          ],
          "scatterpolar": [
           {
            "marker": {
             "colorbar": {
              "outlinewidth": 0,
              "ticks": ""
             }
            },
            "type": "scatterpolar"
           }
          ],
          "scatterpolargl": [
           {
            "marker": {
             "colorbar": {
              "outlinewidth": 0,
              "ticks": ""
             }
            },
            "type": "scatterpolargl"
           }
          ],
          "scatterternary": [
           {
            "marker": {
             "colorbar": {
              "outlinewidth": 0,
              "ticks": ""
             }
            },
            "type": "scatterternary"
           }
          ],
          "surface": [
           {
            "colorbar": {
             "outlinewidth": 0,
             "ticks": ""
            },
            "colorscale": [
             [
              0,
              "#0d0887"
             ],
             [
              0.1111111111111111,
              "#46039f"
             ],
             [
              0.2222222222222222,
              "#7201a8"
             ],
             [
              0.3333333333333333,
              "#9c179e"
             ],
             [
              0.4444444444444444,
              "#bd3786"
             ],
             [
              0.5555555555555556,
              "#d8576b"
             ],
             [
              0.6666666666666666,
              "#ed7953"
             ],
             [
              0.7777777777777778,
              "#fb9f3a"
             ],
             [
              0.8888888888888888,
              "#fdca26"
             ],
             [
              1,
              "#f0f921"
             ]
            ],
            "type": "surface"
           }
          ],
          "table": [
           {
            "cells": {
             "fill": {
              "color": "#EBF0F8"
             },
             "line": {
              "color": "white"
             }
            },
            "header": {
             "fill": {
              "color": "#C8D4E3"
             },
             "line": {
              "color": "white"
             }
            },
            "type": "table"
           }
          ]
         },
         "layout": {
          "annotationdefaults": {
           "arrowcolor": "#2a3f5f",
           "arrowhead": 0,
           "arrowwidth": 1
          },
          "autotypenumbers": "strict",
          "coloraxis": {
           "colorbar": {
            "outlinewidth": 0,
            "ticks": ""
           }
          },
          "colorscale": {
           "diverging": [
            [
             0,
             "#8e0152"
            ],
            [
             0.1,
             "#c51b7d"
            ],
            [
             0.2,
             "#de77ae"
            ],
            [
             0.3,
             "#f1b6da"
            ],
            [
             0.4,
             "#fde0ef"
            ],
            [
             0.5,
             "#f7f7f7"
            ],
            [
             0.6,
             "#e6f5d0"
            ],
            [
             0.7,
             "#b8e186"
            ],
            [
             0.8,
             "#7fbc41"
            ],
            [
             0.9,
             "#4d9221"
            ],
            [
             1,
             "#276419"
            ]
           ],
           "sequential": [
            [
             0,
             "#0d0887"
            ],
            [
             0.1111111111111111,
             "#46039f"
            ],
            [
             0.2222222222222222,
             "#7201a8"
            ],
            [
             0.3333333333333333,
             "#9c179e"
            ],
            [
             0.4444444444444444,
             "#bd3786"
            ],
            [
             0.5555555555555556,
             "#d8576b"
            ],
            [
             0.6666666666666666,
             "#ed7953"
            ],
            [
             0.7777777777777778,
             "#fb9f3a"
            ],
            [
             0.8888888888888888,
             "#fdca26"
            ],
            [
             1,
             "#f0f921"
            ]
           ],
           "sequentialminus": [
            [
             0,
             "#0d0887"
            ],
            [
             0.1111111111111111,
             "#46039f"
            ],
            [
             0.2222222222222222,
             "#7201a8"
            ],
            [
             0.3333333333333333,
             "#9c179e"
            ],
            [
             0.4444444444444444,
             "#bd3786"
            ],
            [
             0.5555555555555556,
             "#d8576b"
            ],
            [
             0.6666666666666666,
             "#ed7953"
            ],
            [
             0.7777777777777778,
             "#fb9f3a"
            ],
            [
             0.8888888888888888,
             "#fdca26"
            ],
            [
             1,
             "#f0f921"
            ]
           ]
          },
          "colorway": [
           "#636efa",
           "#EF553B",
           "#00cc96",
           "#ab63fa",
           "#FFA15A",
           "#19d3f3",
           "#FF6692",
           "#B6E880",
           "#FF97FF",
           "#FECB52"
          ],
          "font": {
           "color": "#2a3f5f"
          },
          "geo": {
           "bgcolor": "white",
           "lakecolor": "white",
           "landcolor": "#E5ECF6",
           "showlakes": true,
           "showland": true,
           "subunitcolor": "white"
          },
          "hoverlabel": {
           "align": "left"
          },
          "hovermode": "closest",
          "mapbox": {
           "style": "light"
          },
          "paper_bgcolor": "white",
          "plot_bgcolor": "#E5ECF6",
          "polar": {
           "angularaxis": {
            "gridcolor": "white",
            "linecolor": "white",
            "ticks": ""
           },
           "bgcolor": "#E5ECF6",
           "radialaxis": {
            "gridcolor": "white",
            "linecolor": "white",
            "ticks": ""
           }
          },
          "scene": {
           "xaxis": {
            "backgroundcolor": "#E5ECF6",
            "gridcolor": "white",
            "gridwidth": 2,
            "linecolor": "white",
            "showbackground": true,
            "ticks": "",
            "zerolinecolor": "white"
           },
           "yaxis": {
            "backgroundcolor": "#E5ECF6",
            "gridcolor": "white",
            "gridwidth": 2,
            "linecolor": "white",
            "showbackground": true,
            "ticks": "",
            "zerolinecolor": "white"
           },
           "zaxis": {
            "backgroundcolor": "#E5ECF6",
            "gridcolor": "white",
            "gridwidth": 2,
            "linecolor": "white",
            "showbackground": true,
            "ticks": "",
            "zerolinecolor": "white"
           }
          },
          "shapedefaults": {
           "line": {
            "color": "#2a3f5f"
           }
          },
          "ternary": {
           "aaxis": {
            "gridcolor": "white",
            "linecolor": "white",
            "ticks": ""
           },
           "baxis": {
            "gridcolor": "white",
            "linecolor": "white",
            "ticks": ""
           },
           "bgcolor": "#E5ECF6",
           "caxis": {
            "gridcolor": "white",
            "linecolor": "white",
            "ticks": ""
           }
          },
          "title": {
           "x": 0.05
          },
          "xaxis": {
           "automargin": true,
           "gridcolor": "white",
           "linecolor": "white",
           "ticks": "",
           "title": {
            "standoff": 15
           },
           "zerolinecolor": "white",
           "zerolinewidth": 2
          },
          "yaxis": {
           "automargin": true,
           "gridcolor": "white",
           "linecolor": "white",
           "ticks": "",
           "title": {
            "standoff": 15
           },
           "zerolinecolor": "white",
           "zerolinewidth": 2
          }
         }
        },
        "title": {
         "text": "Dataframe Two"
        },
        "xaxis": {
         "anchor": "y",
         "domain": [
          0,
          1
         ],
         "title": {
          "text": "Category"
         }
        },
        "yaxis": {
         "anchor": "x",
         "domain": [
          0,
          1
         ],
         "title": {
          "text": "Values"
         }
        }
       }
      },
      "text/html": [
       "<div>                            <div id=\"d38dd808-d3c5-485f-9ac2-a19ef96e97fc\" class=\"plotly-graph-div\" style=\"height:525px; width:100%;\"></div>            <script type=\"text/javascript\">                require([\"plotly\"], function(Plotly) {                    window.PLOTLYENV=window.PLOTLYENV || {};                                    if (document.getElementById(\"d38dd808-d3c5-485f-9ac2-a19ef96e97fc\")) {                    Plotly.newPlot(                        \"d38dd808-d3c5-485f-9ac2-a19ef96e97fc\",                        [{\"alignmentgroup\":\"True\",\"hovertemplate\":\"Category=%{x}\\u003cbr\\u003eValues=%{y}\\u003cextra\\u003e\\u003c\\u002fextra\\u003e\",\"legendgroup\":\"\",\"marker\":{\"color\":\"#636efa\",\"pattern\":{\"shape\":\"\"}},\"name\":\"\",\"offsetgroup\":\"\",\"orientation\":\"v\",\"showlegend\":false,\"textposition\":\"auto\",\"x\":[\"A\",\"B\",\"C\"],\"xaxis\":\"x\",\"y\":[32,44,50],\"yaxis\":\"y\",\"type\":\"bar\"}],                        {\"template\":{\"data\":{\"histogram2dcontour\":[{\"type\":\"histogram2dcontour\",\"colorbar\":{\"outlinewidth\":0,\"ticks\":\"\"},\"colorscale\":[[0.0,\"#0d0887\"],[0.1111111111111111,\"#46039f\"],[0.2222222222222222,\"#7201a8\"],[0.3333333333333333,\"#9c179e\"],[0.4444444444444444,\"#bd3786\"],[0.5555555555555556,\"#d8576b\"],[0.6666666666666666,\"#ed7953\"],[0.7777777777777778,\"#fb9f3a\"],[0.8888888888888888,\"#fdca26\"],[1.0,\"#f0f921\"]]}],\"choropleth\":[{\"type\":\"choropleth\",\"colorbar\":{\"outlinewidth\":0,\"ticks\":\"\"}}],\"histogram2d\":[{\"type\":\"histogram2d\",\"colorbar\":{\"outlinewidth\":0,\"ticks\":\"\"},\"colorscale\":[[0.0,\"#0d0887\"],[0.1111111111111111,\"#46039f\"],[0.2222222222222222,\"#7201a8\"],[0.3333333333333333,\"#9c179e\"],[0.4444444444444444,\"#bd3786\"],[0.5555555555555556,\"#d8576b\"],[0.6666666666666666,\"#ed7953\"],[0.7777777777777778,\"#fb9f3a\"],[0.8888888888888888,\"#fdca26\"],[1.0,\"#f0f921\"]]}],\"heatmap\":[{\"type\":\"heatmap\",\"colorbar\":{\"outlinewidth\":0,\"ticks\":\"\"},\"colorscale\":[[0.0,\"#0d0887\"],[0.1111111111111111,\"#46039f\"],[0.2222222222222222,\"#7201a8\"],[0.3333333333333333,\"#9c179e\"],[0.4444444444444444,\"#bd3786\"],[0.5555555555555556,\"#d8576b\"],[0.6666666666666666,\"#ed7953\"],[0.7777777777777778,\"#fb9f3a\"],[0.8888888888888888,\"#fdca26\"],[1.0,\"#f0f921\"]]}],\"heatmapgl\":[{\"type\":\"heatmapgl\",\"colorbar\":{\"outlinewidth\":0,\"ticks\":\"\"},\"colorscale\":[[0.0,\"#0d0887\"],[0.1111111111111111,\"#46039f\"],[0.2222222222222222,\"#7201a8\"],[0.3333333333333333,\"#9c179e\"],[0.4444444444444444,\"#bd3786\"],[0.5555555555555556,\"#d8576b\"],[0.6666666666666666,\"#ed7953\"],[0.7777777777777778,\"#fb9f3a\"],[0.8888888888888888,\"#fdca26\"],[1.0,\"#f0f921\"]]}],\"contourcarpet\":[{\"type\":\"contourcarpet\",\"colorbar\":{\"outlinewidth\":0,\"ticks\":\"\"}}],\"contour\":[{\"type\":\"contour\",\"colorbar\":{\"outlinewidth\":0,\"ticks\":\"\"},\"colorscale\":[[0.0,\"#0d0887\"],[0.1111111111111111,\"#46039f\"],[0.2222222222222222,\"#7201a8\"],[0.3333333333333333,\"#9c179e\"],[0.4444444444444444,\"#bd3786\"],[0.5555555555555556,\"#d8576b\"],[0.6666666666666666,\"#ed7953\"],[0.7777777777777778,\"#fb9f3a\"],[0.8888888888888888,\"#fdca26\"],[1.0,\"#f0f921\"]]}],\"surface\":[{\"type\":\"surface\",\"colorbar\":{\"outlinewidth\":0,\"ticks\":\"\"},\"colorscale\":[[0.0,\"#0d0887\"],[0.1111111111111111,\"#46039f\"],[0.2222222222222222,\"#7201a8\"],[0.3333333333333333,\"#9c179e\"],[0.4444444444444444,\"#bd3786\"],[0.5555555555555556,\"#d8576b\"],[0.6666666666666666,\"#ed7953\"],[0.7777777777777778,\"#fb9f3a\"],[0.8888888888888888,\"#fdca26\"],[1.0,\"#f0f921\"]]}],\"mesh3d\":[{\"type\":\"mesh3d\",\"colorbar\":{\"outlinewidth\":0,\"ticks\":\"\"}}],\"scatter\":[{\"fillpattern\":{\"fillmode\":\"overlay\",\"size\":10,\"solidity\":0.2},\"type\":\"scatter\"}],\"parcoords\":[{\"type\":\"parcoords\",\"line\":{\"colorbar\":{\"outlinewidth\":0,\"ticks\":\"\"}}}],\"scatterpolargl\":[{\"type\":\"scatterpolargl\",\"marker\":{\"colorbar\":{\"outlinewidth\":0,\"ticks\":\"\"}}}],\"bar\":[{\"error_x\":{\"color\":\"#2a3f5f\"},\"error_y\":{\"color\":\"#2a3f5f\"},\"marker\":{\"line\":{\"color\":\"#E5ECF6\",\"width\":0.5},\"pattern\":{\"fillmode\":\"overlay\",\"size\":10,\"solidity\":0.2}},\"type\":\"bar\"}],\"scattergeo\":[{\"type\":\"scattergeo\",\"marker\":{\"colorbar\":{\"outlinewidth\":0,\"ticks\":\"\"}}}],\"scatterpolar\":[{\"type\":\"scatterpolar\",\"marker\":{\"colorbar\":{\"outlinewidth\":0,\"ticks\":\"\"}}}],\"histogram\":[{\"marker\":{\"pattern\":{\"fillmode\":\"overlay\",\"size\":10,\"solidity\":0.2}},\"type\":\"histogram\"}],\"scattergl\":[{\"type\":\"scattergl\",\"marker\":{\"colorbar\":{\"outlinewidth\":0,\"ticks\":\"\"}}}],\"scatter3d\":[{\"type\":\"scatter3d\",\"line\":{\"colorbar\":{\"outlinewidth\":0,\"ticks\":\"\"}},\"marker\":{\"colorbar\":{\"outlinewidth\":0,\"ticks\":\"\"}}}],\"scattermapbox\":[{\"type\":\"scattermapbox\",\"marker\":{\"colorbar\":{\"outlinewidth\":0,\"ticks\":\"\"}}}],\"scatterternary\":[{\"type\":\"scatterternary\",\"marker\":{\"colorbar\":{\"outlinewidth\":0,\"ticks\":\"\"}}}],\"scattercarpet\":[{\"type\":\"scattercarpet\",\"marker\":{\"colorbar\":{\"outlinewidth\":0,\"ticks\":\"\"}}}],\"carpet\":[{\"aaxis\":{\"endlinecolor\":\"#2a3f5f\",\"gridcolor\":\"white\",\"linecolor\":\"white\",\"minorgridcolor\":\"white\",\"startlinecolor\":\"#2a3f5f\"},\"baxis\":{\"endlinecolor\":\"#2a3f5f\",\"gridcolor\":\"white\",\"linecolor\":\"white\",\"minorgridcolor\":\"white\",\"startlinecolor\":\"#2a3f5f\"},\"type\":\"carpet\"}],\"table\":[{\"cells\":{\"fill\":{\"color\":\"#EBF0F8\"},\"line\":{\"color\":\"white\"}},\"header\":{\"fill\":{\"color\":\"#C8D4E3\"},\"line\":{\"color\":\"white\"}},\"type\":\"table\"}],\"barpolar\":[{\"marker\":{\"line\":{\"color\":\"#E5ECF6\",\"width\":0.5},\"pattern\":{\"fillmode\":\"overlay\",\"size\":10,\"solidity\":0.2}},\"type\":\"barpolar\"}],\"pie\":[{\"automargin\":true,\"type\":\"pie\"}]},\"layout\":{\"autotypenumbers\":\"strict\",\"colorway\":[\"#636efa\",\"#EF553B\",\"#00cc96\",\"#ab63fa\",\"#FFA15A\",\"#19d3f3\",\"#FF6692\",\"#B6E880\",\"#FF97FF\",\"#FECB52\"],\"font\":{\"color\":\"#2a3f5f\"},\"hovermode\":\"closest\",\"hoverlabel\":{\"align\":\"left\"},\"paper_bgcolor\":\"white\",\"plot_bgcolor\":\"#E5ECF6\",\"polar\":{\"bgcolor\":\"#E5ECF6\",\"angularaxis\":{\"gridcolor\":\"white\",\"linecolor\":\"white\",\"ticks\":\"\"},\"radialaxis\":{\"gridcolor\":\"white\",\"linecolor\":\"white\",\"ticks\":\"\"}},\"ternary\":{\"bgcolor\":\"#E5ECF6\",\"aaxis\":{\"gridcolor\":\"white\",\"linecolor\":\"white\",\"ticks\":\"\"},\"baxis\":{\"gridcolor\":\"white\",\"linecolor\":\"white\",\"ticks\":\"\"},\"caxis\":{\"gridcolor\":\"white\",\"linecolor\":\"white\",\"ticks\":\"\"}},\"coloraxis\":{\"colorbar\":{\"outlinewidth\":0,\"ticks\":\"\"}},\"colorscale\":{\"sequential\":[[0.0,\"#0d0887\"],[0.1111111111111111,\"#46039f\"],[0.2222222222222222,\"#7201a8\"],[0.3333333333333333,\"#9c179e\"],[0.4444444444444444,\"#bd3786\"],[0.5555555555555556,\"#d8576b\"],[0.6666666666666666,\"#ed7953\"],[0.7777777777777778,\"#fb9f3a\"],[0.8888888888888888,\"#fdca26\"],[1.0,\"#f0f921\"]],\"sequentialminus\":[[0.0,\"#0d0887\"],[0.1111111111111111,\"#46039f\"],[0.2222222222222222,\"#7201a8\"],[0.3333333333333333,\"#9c179e\"],[0.4444444444444444,\"#bd3786\"],[0.5555555555555556,\"#d8576b\"],[0.6666666666666666,\"#ed7953\"],[0.7777777777777778,\"#fb9f3a\"],[0.8888888888888888,\"#fdca26\"],[1.0,\"#f0f921\"]],\"diverging\":[[0,\"#8e0152\"],[0.1,\"#c51b7d\"],[0.2,\"#de77ae\"],[0.3,\"#f1b6da\"],[0.4,\"#fde0ef\"],[0.5,\"#f7f7f7\"],[0.6,\"#e6f5d0\"],[0.7,\"#b8e186\"],[0.8,\"#7fbc41\"],[0.9,\"#4d9221\"],[1,\"#276419\"]]},\"xaxis\":{\"gridcolor\":\"white\",\"linecolor\":\"white\",\"ticks\":\"\",\"title\":{\"standoff\":15},\"zerolinecolor\":\"white\",\"automargin\":true,\"zerolinewidth\":2},\"yaxis\":{\"gridcolor\":\"white\",\"linecolor\":\"white\",\"ticks\":\"\",\"title\":{\"standoff\":15},\"zerolinecolor\":\"white\",\"automargin\":true,\"zerolinewidth\":2},\"scene\":{\"xaxis\":{\"backgroundcolor\":\"#E5ECF6\",\"gridcolor\":\"white\",\"linecolor\":\"white\",\"showbackground\":true,\"ticks\":\"\",\"zerolinecolor\":\"white\",\"gridwidth\":2},\"yaxis\":{\"backgroundcolor\":\"#E5ECF6\",\"gridcolor\":\"white\",\"linecolor\":\"white\",\"showbackground\":true,\"ticks\":\"\",\"zerolinecolor\":\"white\",\"gridwidth\":2},\"zaxis\":{\"backgroundcolor\":\"#E5ECF6\",\"gridcolor\":\"white\",\"linecolor\":\"white\",\"showbackground\":true,\"ticks\":\"\",\"zerolinecolor\":\"white\",\"gridwidth\":2}},\"shapedefaults\":{\"line\":{\"color\":\"#2a3f5f\"}},\"annotationdefaults\":{\"arrowcolor\":\"#2a3f5f\",\"arrowhead\":0,\"arrowwidth\":1},\"geo\":{\"bgcolor\":\"white\",\"landcolor\":\"#E5ECF6\",\"subunitcolor\":\"white\",\"showland\":true,\"showlakes\":true,\"lakecolor\":\"white\"},\"title\":{\"x\":0.05},\"mapbox\":{\"style\":\"light\"}}},\"xaxis\":{\"anchor\":\"y\",\"domain\":[0.0,1.0],\"title\":{\"text\":\"Category\"}},\"yaxis\":{\"anchor\":\"x\",\"domain\":[0.0,1.0],\"title\":{\"text\":\"Values\"}},\"legend\":{\"tracegroupgap\":0},\"title\":{\"text\":\"Dataframe Two\"},\"barmode\":\"relative\"},                        {\"responsive\": true}                    ).then(function(){\n",
       "                            \n",
       "var gd = document.getElementById('d38dd808-d3c5-485f-9ac2-a19ef96e97fc');\n",
       "var x = new MutationObserver(function (mutations, observer) {{\n",
       "        var display = window.getComputedStyle(gd).display;\n",
       "        if (!display || display === 'none') {{\n",
       "            console.log([gd, 'removed!']);\n",
       "            Plotly.purge(gd);\n",
       "            observer.disconnect();\n",
       "        }}\n",
       "}});\n",
       "\n",
       "// Listen for the removal of the full notebook cells\n",
       "var notebookContainer = gd.closest('#notebook-container');\n",
       "if (notebookContainer) {{\n",
       "    x.observe(notebookContainer, {childList: true});\n",
       "}}\n",
       "\n",
       "// Listen for the clearing of the current output cell\n",
       "var outputEl = gd.closest('.output');\n",
       "if (outputEl) {{\n",
       "    x.observe(outputEl, {childList: true});\n",
       "}}\n",
       "\n",
       "                        })                };                });            </script>        </div>"
      ]
     },
     "metadata": {},
     "output_type": "display_data"
    }
   ],
   "source": [
    "# Alternative method: px.bar()\n",
    "fig = px.bar(df2, x=\"Category\", y=\"Values\", title=\"Dataframe Two\")\n",
    "fig.show()"
   ]
  },
  {
   "cell_type": "markdown",
   "metadata": {},
   "source": [
    "### 3. Boxplots"
   ]
  },
  {
   "cell_type": "code",
   "execution_count": 15,
   "metadata": {
    "collapsed": false
   },
   "outputs": [
    {
     "data": {
      "application/vnd.plotly.v1+json": {
       "config": {
        "linkText": "Export to plot.ly",
        "plotlyServerURL": "https://plot.ly",
        "showLink": true
       },
       "data": [
        {
         "boxpoints": false,
         "line": {
          "width": 1.3
         },
         "marker": {
          "color": "rgba(255, 153, 51, 1.0)"
         },
         "name": "A",
         "orientation": "v",
         "type": "box",
         "y": [
          -1.4747380955937974,
          0.28725077112417235,
          -1.6568846794720122,
          1.381720942647079,
          0.3657833365094521,
          0.026008073073972172,
          -0.5109681143770874,
          -0.30968695071839253,
          0.08056276720583924,
          1.2206461655280683,
          -1.0044961445651543,
          -0.7086123871501985,
          -0.3032080480213653,
          -0.4681810010400497,
          0.4883380048432973,
          -1.0568975335865904,
          -0.6478951720409023,
          -1.1006335991216396,
          -1.1084672870151069,
          1.0115169993247746,
          0.8628879534962799,
          0.49107556584687034,
          -0.21460151922209592,
          -0.21167224031379164,
          -1.0868280793928702,
          0.1813077457259262,
          1.6048411477507714,
          -1.1129128593443407,
          0.13510904054871198,
          0.7363175261488993,
          0.30133889718720347,
          1.0968390103774157,
          -0.9215941053119098,
          1.1452096988910712,
          -0.0969211977387717,
          0.7832229582485118,
          1.0531791723051949,
          -0.6663370851946934,
          -0.7282508718905567,
          -1.688787692138687,
          0.2592955164616916,
          -0.35251940357111267,
          0.5255678646250175,
          0.1591013061134092,
          1.6392683058616393,
          -0.7594873429459711,
          0.3571677103292569,
          -1.9129516673080214,
          0.2812674212385775,
          2.9443484953104657,
          -1.2668238549208235,
          0.41322784242257693,
          1.206697949804835,
          1.0295637127428512,
          0.42415314431239537,
          -1.234242731046262,
          -0.005177234655683374,
          0.40215839443750323,
          0.5734568360798693,
          -0.981071428153688,
          -1.044181132406017,
          -0.5455429283558031,
          0.8723741296130654,
          -1.7382678852503126,
          -2.394203349842937,
          1.1200094352775187,
          -0.6221419105120386,
          0.28050386485521667,
          -0.21614849790735982,
          -0.5457390506690335,
          -2.3191277297140607,
          1.3524213867671204,
          0.12594824702172094,
          -0.02781084118179256,
          -1.0121863416508705,
          -0.1346075258918912,
          -0.2161185225683815,
          -1.4044793440674315,
          0.5103800616622387,
          -0.26035603985135364,
          0.7128604943441633,
          -0.09028399432601468,
          0.5214049330304661,
          -0.050307547047459246,
          -0.139890323143218,
          -1.2155801358748424,
          0.9627948608905095,
          0.8801238599064668,
          0.020185320431986706,
          1.6625023152013685,
          0.3816936279691013,
          0.34509760366963216,
          0.37972886845205844,
          0.4258913685657802,
          -0.22863620193291423,
          -1.4886214993845972,
          0.5486315743498743,
          -0.37552303459747266,
          -1.7087243821390654,
          -0.047214690067770786
         ]
        },
        {
         "boxpoints": false,
         "line": {
          "width": 1.3
         },
         "marker": {
          "color": "rgba(55, 128, 191, 1.0)"
         },
         "name": "B",
         "orientation": "v",
         "type": "box",
         "y": [
          0.21816361565301612,
          -0.18311601650778261,
          -0.8722852429063794,
          0.7996321791414022,
          1.4830013794585655,
          -1.8513851087254878,
          1.613906454791288,
          -1.5827358120075996,
          -0.2852339752587739,
          -1.1655837011030066,
          -1.3316526305662248,
          -0.058152616565652196,
          0.06088486005099269,
          -1.8538715257905751,
          -0.10795630868630458,
          -0.5169453758367406,
          0.05896114763704862,
          1.937674579815131,
          -0.43586910750577423,
          0.6301701523533102,
          0.2487690009306954,
          -0.5768590175830137,
          -0.23048178855369697,
          1.5829241162079017,
          -0.7064465895575457,
          -0.07800414606637208,
          0.9267040564138606,
          -0.9945444848093137,
          1.5232090046065017,
          0.5724140410636237,
          -0.5824132253983889,
          1.4758903927481846,
          0.7894141470303264,
          -0.34231970058963407,
          -0.7810319671697296,
          0.2072844838228586,
          -0.5588365519503141,
          -0.38971140833812906,
          0.21785672555286356,
          1.0289889419787783,
          -1.3145327761543142,
          0.18482300394128667,
          0.325360903405271,
          0.8234367426244258,
          0.7549608081461314,
          -0.24592878896044312,
          -0.8898589213424684,
          1.1296498601309384,
          -0.7646354208473364,
          -1.7613727579525837,
          -0.007885085352440032,
          -0.6550676125914235,
          -1.5382251668563758,
          2.9664757064106833,
          0.05136220368240336,
          0.9053762889413747,
          -0.9014199037894448,
          0.14416787795095554,
          0.5772481753295273,
          1.00066627733789,
          -1.484677774151373,
          -1.0470748306972992,
          -1.0394473595670013,
          1.0139539314489332,
          -0.2266635690751747,
          -2.906894044978705,
          0.3866286493770684,
          -0.22145896800858503,
          0.2723182682770941,
          -0.23515963148068272,
          -0.8867866717522348,
          -0.017926170650252895,
          0.1202193588446371,
          0.5167784095259662,
          -1.1692508750791701,
          0.12401321928940981,
          -0.7738107387476351,
          -0.9566254708018384,
          -0.26444548631561315,
          -1.6766931874405588,
          -1.5626958822528276,
          -1.0537752027800056,
          0.01008372961374793,
          0.07867473793517019,
          -1.6967402907609725,
          -1.896581525083377,
          -0.9524305910705916,
          0.9152100476428011,
          0.5403263954180979,
          -1.1951744668940307,
          -0.7586988875890001,
          -2.764229500397465,
          -1.058834908427951,
          -1.211320125788323,
          -1.4017384442446392,
          0.31423912897978823,
          0.40750676142202613,
          -0.12272730770175873,
          -0.16912280770312685,
          -0.17788138935751074
         ]
        },
        {
         "boxpoints": false,
         "line": {
          "width": 1.3
         },
         "marker": {
          "color": "rgba(50, 171, 96, 1.0)"
         },
         "name": "C",
         "orientation": "v",
         "type": "box",
         "y": [
          1.7377773904002787,
          -0.22395400729530127,
          0.1820734116872276,
          -0.7942279663986247,
          0.5582198101989171,
          0.8557186514611376,
          -0.4566546028122543,
          -0.4486886613225603,
          -0.462033243406978,
          1.7693450636612906,
          0.8493771531423921,
          -0.46690670588043465,
          0.6681701784956612,
          1.487470466970359,
          -1.592710230729672,
          -0.8893560759048776,
          0.9974415506640023,
          -0.11815807269381176,
          0.39085583078090946,
          -0.8678648114268143,
          -1.3232130718608561,
          1.2296438297962131,
          -1.7049252038650233,
          -0.1278833761359411,
          -0.9852621101243801,
          1.4511004245694241,
          -0.5107422042065087,
          0.35540352015450555,
          0.4608476569044969,
          0.4486668143051865,
          1.7038458179890796,
          1.2874981058355235,
          0.008172266049143288,
          1.3403757810053207,
          -0.48959248911528613,
          0.5761572892581875,
          -1.158663472942153,
          -2.3934735618828453,
          -2.0473455770351485,
          0.04363192875061731,
          0.9613481148956818,
          -0.23020568673440028,
          0.5268156949610865,
          0.9249023465550501,
          -0.23049076961016352,
          0.27160019016029285,
          0.34585203246608587,
          0.8663998050975331,
          -0.9774447107233512,
          -0.49791242970244515,
          -1.879355292075668,
          1.9648131850176263,
          -0.27336146294076935,
          0.4402545510186216,
          0.7274920462854855,
          0.26784305740453795,
          1.5272195480486723,
          -0.11650576271574038,
          1.203757674131996,
          -0.2400098004413862,
          0.5559898896596926,
          -0.25173079089603434,
          -0.17630458831284046,
          -0.584550466794726,
          1.3225811578308335,
          0.7294619170549295,
          0.7943615257625641,
          0.27209621340875817,
          -1.5785477719864265,
          0.3727682581763358,
          1.4550313417369363,
          1.3084602131497813,
          1.6908326835822265,
          -0.6751489947318258,
          -2.064870035828138,
          0.4935165233388467,
          0.8466278348395803,
          0.14975934344387587,
          -0.38709899368579576,
          -0.4914009940136751,
          -0.5018286362538411,
          -0.6533088785680246,
          1.054829047519902,
          0.49530987239203966,
          -0.021789443961921257,
          0.34301971407163234,
          0.384615463775324,
          -0.5202573280889718,
          0.955766575232318,
          0.47481063499827153,
          -0.4096097700355144,
          -0.7890433274251037,
          -1.3225480834101921,
          -1.4704335995087472,
          0.402125007984368,
          -0.7854528677118743,
          -0.8182638218352324,
          1.0890802638091794,
          0.39325131265035485,
          0.19159205137621324
         ]
        },
        {
         "boxpoints": false,
         "line": {
          "width": 1.3
         },
         "marker": {
          "color": "rgba(128, 0, 128, 1.0)"
         },
         "name": "D",
         "orientation": "v",
         "type": "box",
         "y": [
          -0.9898978880621447,
          -0.15653251538155546,
          1.1350151984266963,
          0.4330113225398728,
          -0.22662361863857208,
          1.2147557315772484,
          -1.0954533355276945,
          0.056981130154462885,
          1.085174429985138,
          0.14699559311323226,
          -0.49897601646505985,
          1.1989909816632942,
          0.6333982183822553,
          -0.9858404019714517,
          0.9646473937157795,
          -0.29878447694620397,
          0.038219071625085144,
          -1.7977606542818454,
          2.4301625828708593,
          -1.4225971964401587,
          -2.0545116148098432,
          -0.5543603071865605,
          -0.6588505749295496,
          1.2513627887378793,
          -0.8137948207943052,
          1.0422064628802337,
          -0.45192461570495496,
          -0.6497801405399549,
          -1.056516347348047,
          0.20440307609406713,
          1.0548270254772918,
          -0.570416040564116,
          0.6746325877971175,
          -0.4756361340610073,
          -0.7551924202762499,
          0.78069243348289,
          0.16415385377231234,
          -0.28675334369218347,
          0.30529160399932065,
          -0.2862858687531363,
          0.823671579756582,
          0.009792660113371647,
          0.3733208164001366,
          1.1993466973961242,
          -0.6027492101400286,
          -0.27046930406674846,
          -0.27937197120297924,
          -0.04930455118166517,
          0.0722552739941226,
          -1.4694929069425693,
          -0.6746960168843232,
          -0.6104468398467007,
          0.31013922462091476,
          -0.13520219674899842,
          1.2810838143310053,
          0.6346761225549629,
          0.6660497298057801,
          0.56872629264876,
          -0.71933362951576,
          0.016502895779975293,
          -1.2366498860403936,
          0.8115178064397559,
          0.8837234466172698,
          0.8352577811979678,
          1.3232430932241368,
          0.47543627781600223,
          0.08657443799251735,
          -1.039525159095973,
          0.48091097057485427,
          0.127197970073491,
          -1.745338456585933,
          -1.0008593606324803,
          -1.2375741669575637,
          -0.2676094462039642,
          0.029590830119454816,
          0.09694160474868284,
          -0.3623762651099337,
          -1.687778267088628,
          0.36560118017894544,
          -1.0608584180118896,
          0.24275606912664235,
          1.2723543462803888,
          0.8959132253067817,
          0.38105128916243275,
          -0.13942542910659975,
          0.004690457201917903,
          -1.5323061194361465,
          1.2902201186984674,
          -0.1675177290969658,
          -1.099215093653179,
          0.38281596578233895,
          -0.398418999693859,
          0.32140117646225186,
          0.36649377203199307,
          0.08223321776600259,
          -2.552523055574907,
          -0.7806267829411238,
          -0.27503823292083457,
          -1.5121006401915777,
          -0.421854097454241
         ]
        }
       ],
       "layout": {
        "legend": {
         "bgcolor": "#F5F6F9",
         "font": {
          "color": "#4D5663"
         }
        },
        "paper_bgcolor": "#F5F6F9",
        "plot_bgcolor": "#F5F6F9",
        "template": {
         "data": {
          "bar": [
           {
            "error_x": {
             "color": "#2a3f5f"
            },
            "error_y": {
             "color": "#2a3f5f"
            },
            "marker": {
             "line": {
              "color": "#E5ECF6",
              "width": 0.5
             },
             "pattern": {
              "fillmode": "overlay",
              "size": 10,
              "solidity": 0.2
             }
            },
            "type": "bar"
           }
          ],
          "barpolar": [
           {
            "marker": {
             "line": {
              "color": "#E5ECF6",
              "width": 0.5
             },
             "pattern": {
              "fillmode": "overlay",
              "size": 10,
              "solidity": 0.2
             }
            },
            "type": "barpolar"
           }
          ],
          "carpet": [
           {
            "aaxis": {
             "endlinecolor": "#2a3f5f",
             "gridcolor": "white",
             "linecolor": "white",
             "minorgridcolor": "white",
             "startlinecolor": "#2a3f5f"
            },
            "baxis": {
             "endlinecolor": "#2a3f5f",
             "gridcolor": "white",
             "linecolor": "white",
             "minorgridcolor": "white",
             "startlinecolor": "#2a3f5f"
            },
            "type": "carpet"
           }
          ],
          "choropleth": [
           {
            "colorbar": {
             "outlinewidth": 0,
             "ticks": ""
            },
            "type": "choropleth"
           }
          ],
          "contour": [
           {
            "colorbar": {
             "outlinewidth": 0,
             "ticks": ""
            },
            "colorscale": [
             [
              0,
              "#0d0887"
             ],
             [
              0.1111111111111111,
              "#46039f"
             ],
             [
              0.2222222222222222,
              "#7201a8"
             ],
             [
              0.3333333333333333,
              "#9c179e"
             ],
             [
              0.4444444444444444,
              "#bd3786"
             ],
             [
              0.5555555555555556,
              "#d8576b"
             ],
             [
              0.6666666666666666,
              "#ed7953"
             ],
             [
              0.7777777777777778,
              "#fb9f3a"
             ],
             [
              0.8888888888888888,
              "#fdca26"
             ],
             [
              1,
              "#f0f921"
             ]
            ],
            "type": "contour"
           }
          ],
          "contourcarpet": [
           {
            "colorbar": {
             "outlinewidth": 0,
             "ticks": ""
            },
            "type": "contourcarpet"
           }
          ],
          "heatmap": [
           {
            "colorbar": {
             "outlinewidth": 0,
             "ticks": ""
            },
            "colorscale": [
             [
              0,
              "#0d0887"
             ],
             [
              0.1111111111111111,
              "#46039f"
             ],
             [
              0.2222222222222222,
              "#7201a8"
             ],
             [
              0.3333333333333333,
              "#9c179e"
             ],
             [
              0.4444444444444444,
              "#bd3786"
             ],
             [
              0.5555555555555556,
              "#d8576b"
             ],
             [
              0.6666666666666666,
              "#ed7953"
             ],
             [
              0.7777777777777778,
              "#fb9f3a"
             ],
             [
              0.8888888888888888,
              "#fdca26"
             ],
             [
              1,
              "#f0f921"
             ]
            ],
            "type": "heatmap"
           }
          ],
          "heatmapgl": [
           {
            "colorbar": {
             "outlinewidth": 0,
             "ticks": ""
            },
            "colorscale": [
             [
              0,
              "#0d0887"
             ],
             [
              0.1111111111111111,
              "#46039f"
             ],
             [
              0.2222222222222222,
              "#7201a8"
             ],
             [
              0.3333333333333333,
              "#9c179e"
             ],
             [
              0.4444444444444444,
              "#bd3786"
             ],
             [
              0.5555555555555556,
              "#d8576b"
             ],
             [
              0.6666666666666666,
              "#ed7953"
             ],
             [
              0.7777777777777778,
              "#fb9f3a"
             ],
             [
              0.8888888888888888,
              "#fdca26"
             ],
             [
              1,
              "#f0f921"
             ]
            ],
            "type": "heatmapgl"
           }
          ],
          "histogram": [
           {
            "marker": {
             "pattern": {
              "fillmode": "overlay",
              "size": 10,
              "solidity": 0.2
             }
            },
            "type": "histogram"
           }
          ],
          "histogram2d": [
           {
            "colorbar": {
             "outlinewidth": 0,
             "ticks": ""
            },
            "colorscale": [
             [
              0,
              "#0d0887"
             ],
             [
              0.1111111111111111,
              "#46039f"
             ],
             [
              0.2222222222222222,
              "#7201a8"
             ],
             [
              0.3333333333333333,
              "#9c179e"
             ],
             [
              0.4444444444444444,
              "#bd3786"
             ],
             [
              0.5555555555555556,
              "#d8576b"
             ],
             [
              0.6666666666666666,
              "#ed7953"
             ],
             [
              0.7777777777777778,
              "#fb9f3a"
             ],
             [
              0.8888888888888888,
              "#fdca26"
             ],
             [
              1,
              "#f0f921"
             ]
            ],
            "type": "histogram2d"
           }
          ],
          "histogram2dcontour": [
           {
            "colorbar": {
             "outlinewidth": 0,
             "ticks": ""
            },
            "colorscale": [
             [
              0,
              "#0d0887"
             ],
             [
              0.1111111111111111,
              "#46039f"
             ],
             [
              0.2222222222222222,
              "#7201a8"
             ],
             [
              0.3333333333333333,
              "#9c179e"
             ],
             [
              0.4444444444444444,
              "#bd3786"
             ],
             [
              0.5555555555555556,
              "#d8576b"
             ],
             [
              0.6666666666666666,
              "#ed7953"
             ],
             [
              0.7777777777777778,
              "#fb9f3a"
             ],
             [
              0.8888888888888888,
              "#fdca26"
             ],
             [
              1,
              "#f0f921"
             ]
            ],
            "type": "histogram2dcontour"
           }
          ],
          "mesh3d": [
           {
            "colorbar": {
             "outlinewidth": 0,
             "ticks": ""
            },
            "type": "mesh3d"
           }
          ],
          "parcoords": [
           {
            "line": {
             "colorbar": {
              "outlinewidth": 0,
              "ticks": ""
             }
            },
            "type": "parcoords"
           }
          ],
          "pie": [
           {
            "automargin": true,
            "type": "pie"
           }
          ],
          "scatter": [
           {
            "fillpattern": {
             "fillmode": "overlay",
             "size": 10,
             "solidity": 0.2
            },
            "type": "scatter"
           }
          ],
          "scatter3d": [
           {
            "line": {
             "colorbar": {
              "outlinewidth": 0,
              "ticks": ""
             }
            },
            "marker": {
             "colorbar": {
              "outlinewidth": 0,
              "ticks": ""
             }
            },
            "type": "scatter3d"
           }
          ],
          "scattercarpet": [
           {
            "marker": {
             "colorbar": {
              "outlinewidth": 0,
              "ticks": ""
             }
            },
            "type": "scattercarpet"
           }
          ],
          "scattergeo": [
           {
            "marker": {
             "colorbar": {
              "outlinewidth": 0,
              "ticks": ""
             }
            },
            "type": "scattergeo"
           }
          ],
          "scattergl": [
           {
            "marker": {
             "colorbar": {
              "outlinewidth": 0,
              "ticks": ""
             }
            },
            "type": "scattergl"
           }
          ],
          "scattermapbox": [
           {
            "marker": {
             "colorbar": {
              "outlinewidth": 0,
              "ticks": ""
             }
            },
            "type": "scattermapbox"
           }
          ],
          "scatterpolar": [
           {
            "marker": {
             "colorbar": {
              "outlinewidth": 0,
              "ticks": ""
             }
            },
            "type": "scatterpolar"
           }
          ],
          "scatterpolargl": [
           {
            "marker": {
             "colorbar": {
              "outlinewidth": 0,
              "ticks": ""
             }
            },
            "type": "scatterpolargl"
           }
          ],
          "scatterternary": [
           {
            "marker": {
             "colorbar": {
              "outlinewidth": 0,
              "ticks": ""
             }
            },
            "type": "scatterternary"
           }
          ],
          "surface": [
           {
            "colorbar": {
             "outlinewidth": 0,
             "ticks": ""
            },
            "colorscale": [
             [
              0,
              "#0d0887"
             ],
             [
              0.1111111111111111,
              "#46039f"
             ],
             [
              0.2222222222222222,
              "#7201a8"
             ],
             [
              0.3333333333333333,
              "#9c179e"
             ],
             [
              0.4444444444444444,
              "#bd3786"
             ],
             [
              0.5555555555555556,
              "#d8576b"
             ],
             [
              0.6666666666666666,
              "#ed7953"
             ],
             [
              0.7777777777777778,
              "#fb9f3a"
             ],
             [
              0.8888888888888888,
              "#fdca26"
             ],
             [
              1,
              "#f0f921"
             ]
            ],
            "type": "surface"
           }
          ],
          "table": [
           {
            "cells": {
             "fill": {
              "color": "#EBF0F8"
             },
             "line": {
              "color": "white"
             }
            },
            "header": {
             "fill": {
              "color": "#C8D4E3"
             },
             "line": {
              "color": "white"
             }
            },
            "type": "table"
           }
          ]
         },
         "layout": {
          "annotationdefaults": {
           "arrowcolor": "#2a3f5f",
           "arrowhead": 0,
           "arrowwidth": 1
          },
          "autotypenumbers": "strict",
          "coloraxis": {
           "colorbar": {
            "outlinewidth": 0,
            "ticks": ""
           }
          },
          "colorscale": {
           "diverging": [
            [
             0,
             "#8e0152"
            ],
            [
             0.1,
             "#c51b7d"
            ],
            [
             0.2,
             "#de77ae"
            ],
            [
             0.3,
             "#f1b6da"
            ],
            [
             0.4,
             "#fde0ef"
            ],
            [
             0.5,
             "#f7f7f7"
            ],
            [
             0.6,
             "#e6f5d0"
            ],
            [
             0.7,
             "#b8e186"
            ],
            [
             0.8,
             "#7fbc41"
            ],
            [
             0.9,
             "#4d9221"
            ],
            [
             1,
             "#276419"
            ]
           ],
           "sequential": [
            [
             0,
             "#0d0887"
            ],
            [
             0.1111111111111111,
             "#46039f"
            ],
            [
             0.2222222222222222,
             "#7201a8"
            ],
            [
             0.3333333333333333,
             "#9c179e"
            ],
            [
             0.4444444444444444,
             "#bd3786"
            ],
            [
             0.5555555555555556,
             "#d8576b"
            ],
            [
             0.6666666666666666,
             "#ed7953"
            ],
            [
             0.7777777777777778,
             "#fb9f3a"
            ],
            [
             0.8888888888888888,
             "#fdca26"
            ],
            [
             1,
             "#f0f921"
            ]
           ],
           "sequentialminus": [
            [
             0,
             "#0d0887"
            ],
            [
             0.1111111111111111,
             "#46039f"
            ],
            [
             0.2222222222222222,
             "#7201a8"
            ],
            [
             0.3333333333333333,
             "#9c179e"
            ],
            [
             0.4444444444444444,
             "#bd3786"
            ],
            [
             0.5555555555555556,
             "#d8576b"
            ],
            [
             0.6666666666666666,
             "#ed7953"
            ],
            [
             0.7777777777777778,
             "#fb9f3a"
            ],
            [
             0.8888888888888888,
             "#fdca26"
            ],
            [
             1,
             "#f0f921"
            ]
           ]
          },
          "colorway": [
           "#636efa",
           "#EF553B",
           "#00cc96",
           "#ab63fa",
           "#FFA15A",
           "#19d3f3",
           "#FF6692",
           "#B6E880",
           "#FF97FF",
           "#FECB52"
          ],
          "font": {
           "color": "#2a3f5f"
          },
          "geo": {
           "bgcolor": "white",
           "lakecolor": "white",
           "landcolor": "#E5ECF6",
           "showlakes": true,
           "showland": true,
           "subunitcolor": "white"
          },
          "hoverlabel": {
           "align": "left"
          },
          "hovermode": "closest",
          "mapbox": {
           "style": "light"
          },
          "paper_bgcolor": "white",
          "plot_bgcolor": "#E5ECF6",
          "polar": {
           "angularaxis": {
            "gridcolor": "white",
            "linecolor": "white",
            "ticks": ""
           },
           "bgcolor": "#E5ECF6",
           "radialaxis": {
            "gridcolor": "white",
            "linecolor": "white",
            "ticks": ""
           }
          },
          "scene": {
           "xaxis": {
            "backgroundcolor": "#E5ECF6",
            "gridcolor": "white",
            "gridwidth": 2,
            "linecolor": "white",
            "showbackground": true,
            "ticks": "",
            "zerolinecolor": "white"
           },
           "yaxis": {
            "backgroundcolor": "#E5ECF6",
            "gridcolor": "white",
            "gridwidth": 2,
            "linecolor": "white",
            "showbackground": true,
            "ticks": "",
            "zerolinecolor": "white"
           },
           "zaxis": {
            "backgroundcolor": "#E5ECF6",
            "gridcolor": "white",
            "gridwidth": 2,
            "linecolor": "white",
            "showbackground": true,
            "ticks": "",
            "zerolinecolor": "white"
           }
          },
          "shapedefaults": {
           "line": {
            "color": "#2a3f5f"
           }
          },
          "ternary": {
           "aaxis": {
            "gridcolor": "white",
            "linecolor": "white",
            "ticks": ""
           },
           "baxis": {
            "gridcolor": "white",
            "linecolor": "white",
            "ticks": ""
           },
           "bgcolor": "#E5ECF6",
           "caxis": {
            "gridcolor": "white",
            "linecolor": "white",
            "ticks": ""
           }
          },
          "title": {
           "x": 0.05
          },
          "xaxis": {
           "automargin": true,
           "gridcolor": "white",
           "linecolor": "white",
           "ticks": "",
           "title": {
            "standoff": 15
           },
           "zerolinecolor": "white",
           "zerolinewidth": 2
          },
          "yaxis": {
           "automargin": true,
           "gridcolor": "white",
           "linecolor": "white",
           "ticks": "",
           "title": {
            "standoff": 15
           },
           "zerolinecolor": "white",
           "zerolinewidth": 2
          }
         }
        },
        "title": {
         "font": {
          "color": "#4D5663"
         }
        },
        "xaxis": {
         "gridcolor": "#E1E5ED",
         "showgrid": true,
         "tickfont": {
          "color": "#4D5663"
         },
         "title": {
          "font": {
           "color": "#4D5663"
          },
          "text": ""
         },
         "zerolinecolor": "#E1E5ED"
        },
        "yaxis": {
         "gridcolor": "#E1E5ED",
         "showgrid": true,
         "tickfont": {
          "color": "#4D5663"
         },
         "title": {
          "font": {
           "color": "#4D5663"
          },
          "text": ""
         },
         "zerolinecolor": "#E1E5ED"
        }
       }
      },
      "text/html": [
       "<div>                            <div id=\"b48496d1-c96d-4b22-8c2c-cf979e00e32a\" class=\"plotly-graph-div\" style=\"height:525px; width:100%;\"></div>            <script type=\"text/javascript\">                require([\"plotly\"], function(Plotly) {                    window.PLOTLYENV=window.PLOTLYENV || {};\n",
       "                    window.PLOTLYENV.BASE_URL='https://plot.ly';                                    if (document.getElementById(\"b48496d1-c96d-4b22-8c2c-cf979e00e32a\")) {                    Plotly.newPlot(                        \"b48496d1-c96d-4b22-8c2c-cf979e00e32a\",                        [{\"boxpoints\":false,\"line\":{\"width\":1.3},\"marker\":{\"color\":\"rgba(255, 153, 51, 1.0)\"},\"name\":\"A\",\"orientation\":\"v\",\"y\":[-1.4747380955937974,0.28725077112417235,-1.6568846794720122,1.381720942647079,0.3657833365094521,0.026008073073972172,-0.5109681143770874,-0.30968695071839253,0.08056276720583924,1.2206461655280683,-1.0044961445651543,-0.7086123871501985,-0.3032080480213653,-0.4681810010400497,0.4883380048432973,-1.0568975335865904,-0.6478951720409023,-1.1006335991216396,-1.1084672870151069,1.0115169993247746,0.8628879534962799,0.49107556584687034,-0.21460151922209592,-0.21167224031379164,-1.0868280793928702,0.1813077457259262,1.6048411477507714,-1.1129128593443407,0.13510904054871198,0.7363175261488993,0.30133889718720347,1.0968390103774157,-0.9215941053119098,1.1452096988910712,-0.0969211977387717,0.7832229582485118,1.0531791723051949,-0.6663370851946934,-0.7282508718905567,-1.688787692138687,0.2592955164616916,-0.35251940357111267,0.5255678646250175,0.1591013061134092,1.6392683058616393,-0.7594873429459711,0.3571677103292569,-1.9129516673080214,0.2812674212385775,2.9443484953104657,-1.2668238549208235,0.41322784242257693,1.206697949804835,1.0295637127428512,0.42415314431239537,-1.234242731046262,-0.005177234655683374,0.40215839443750323,0.5734568360798693,-0.981071428153688,-1.044181132406017,-0.5455429283558031,0.8723741296130654,-1.7382678852503126,-2.394203349842937,1.1200094352775187,-0.6221419105120386,0.28050386485521667,-0.21614849790735982,-0.5457390506690335,-2.3191277297140607,1.3524213867671204,0.12594824702172094,-0.02781084118179256,-1.0121863416508705,-0.1346075258918912,-0.2161185225683815,-1.4044793440674315,0.5103800616622387,-0.26035603985135364,0.7128604943441633,-0.09028399432601468,0.5214049330304661,-0.050307547047459246,-0.139890323143218,-1.2155801358748424,0.9627948608905095,0.8801238599064668,0.020185320431986706,1.6625023152013685,0.3816936279691013,0.34509760366963216,0.37972886845205844,0.4258913685657802,-0.22863620193291423,-1.4886214993845972,0.5486315743498743,-0.37552303459747266,-1.7087243821390654,-0.047214690067770786],\"type\":\"box\"},{\"boxpoints\":false,\"line\":{\"width\":1.3},\"marker\":{\"color\":\"rgba(55, 128, 191, 1.0)\"},\"name\":\"B\",\"orientation\":\"v\",\"y\":[0.21816361565301612,-0.18311601650778261,-0.8722852429063794,0.7996321791414022,1.4830013794585655,-1.8513851087254878,1.613906454791288,-1.5827358120075996,-0.2852339752587739,-1.1655837011030066,-1.3316526305662248,-0.058152616565652196,0.06088486005099269,-1.8538715257905751,-0.10795630868630458,-0.5169453758367406,0.05896114763704862,1.937674579815131,-0.43586910750577423,0.6301701523533102,0.2487690009306954,-0.5768590175830137,-0.23048178855369697,1.5829241162079017,-0.7064465895575457,-0.07800414606637208,0.9267040564138606,-0.9945444848093137,1.5232090046065017,0.5724140410636237,-0.5824132253983889,1.4758903927481846,0.7894141470303264,-0.34231970058963407,-0.7810319671697296,0.2072844838228586,-0.5588365519503141,-0.38971140833812906,0.21785672555286356,1.0289889419787783,-1.3145327761543142,0.18482300394128667,0.325360903405271,0.8234367426244258,0.7549608081461314,-0.24592878896044312,-0.8898589213424684,1.1296498601309384,-0.7646354208473364,-1.7613727579525837,-0.007885085352440032,-0.6550676125914235,-1.5382251668563758,2.9664757064106833,0.05136220368240336,0.9053762889413747,-0.9014199037894448,0.14416787795095554,0.5772481753295273,1.00066627733789,-1.484677774151373,-1.0470748306972992,-1.0394473595670013,1.0139539314489332,-0.2266635690751747,-2.906894044978705,0.3866286493770684,-0.22145896800858503,0.2723182682770941,-0.23515963148068272,-0.8867866717522348,-0.017926170650252895,0.1202193588446371,0.5167784095259662,-1.1692508750791701,0.12401321928940981,-0.7738107387476351,-0.9566254708018384,-0.26444548631561315,-1.6766931874405588,-1.5626958822528276,-1.0537752027800056,0.01008372961374793,0.07867473793517019,-1.6967402907609725,-1.896581525083377,-0.9524305910705916,0.9152100476428011,0.5403263954180979,-1.1951744668940307,-0.7586988875890001,-2.764229500397465,-1.058834908427951,-1.211320125788323,-1.4017384442446392,0.31423912897978823,0.40750676142202613,-0.12272730770175873,-0.16912280770312685,-0.17788138935751074],\"type\":\"box\"},{\"boxpoints\":false,\"line\":{\"width\":1.3},\"marker\":{\"color\":\"rgba(50, 171, 96, 1.0)\"},\"name\":\"C\",\"orientation\":\"v\",\"y\":[1.7377773904002787,-0.22395400729530127,0.1820734116872276,-0.7942279663986247,0.5582198101989171,0.8557186514611376,-0.4566546028122543,-0.4486886613225603,-0.462033243406978,1.7693450636612906,0.8493771531423921,-0.46690670588043465,0.6681701784956612,1.487470466970359,-1.592710230729672,-0.8893560759048776,0.9974415506640023,-0.11815807269381176,0.39085583078090946,-0.8678648114268143,-1.3232130718608561,1.2296438297962131,-1.7049252038650233,-0.1278833761359411,-0.9852621101243801,1.4511004245694241,-0.5107422042065087,0.35540352015450555,0.4608476569044969,0.4486668143051865,1.7038458179890796,1.2874981058355235,0.008172266049143288,1.3403757810053207,-0.48959248911528613,0.5761572892581875,-1.158663472942153,-2.3934735618828453,-2.0473455770351485,0.04363192875061731,0.9613481148956818,-0.23020568673440028,0.5268156949610865,0.9249023465550501,-0.23049076961016352,0.27160019016029285,0.34585203246608587,0.8663998050975331,-0.9774447107233512,-0.49791242970244515,-1.879355292075668,1.9648131850176263,-0.27336146294076935,0.4402545510186216,0.7274920462854855,0.26784305740453795,1.5272195480486723,-0.11650576271574038,1.203757674131996,-0.2400098004413862,0.5559898896596926,-0.25173079089603434,-0.17630458831284046,-0.584550466794726,1.3225811578308335,0.7294619170549295,0.7943615257625641,0.27209621340875817,-1.5785477719864265,0.3727682581763358,1.4550313417369363,1.3084602131497813,1.6908326835822265,-0.6751489947318258,-2.064870035828138,0.4935165233388467,0.8466278348395803,0.14975934344387587,-0.38709899368579576,-0.4914009940136751,-0.5018286362538411,-0.6533088785680246,1.054829047519902,0.49530987239203966,-0.021789443961921257,0.34301971407163234,0.384615463775324,-0.5202573280889718,0.955766575232318,0.47481063499827153,-0.4096097700355144,-0.7890433274251037,-1.3225480834101921,-1.4704335995087472,0.402125007984368,-0.7854528677118743,-0.8182638218352324,1.0890802638091794,0.39325131265035485,0.19159205137621324],\"type\":\"box\"},{\"boxpoints\":false,\"line\":{\"width\":1.3},\"marker\":{\"color\":\"rgba(128, 0, 128, 1.0)\"},\"name\":\"D\",\"orientation\":\"v\",\"y\":[-0.9898978880621447,-0.15653251538155546,1.1350151984266963,0.4330113225398728,-0.22662361863857208,1.2147557315772484,-1.0954533355276945,0.056981130154462885,1.085174429985138,0.14699559311323226,-0.49897601646505985,1.1989909816632942,0.6333982183822553,-0.9858404019714517,0.9646473937157795,-0.29878447694620397,0.038219071625085144,-1.7977606542818454,2.4301625828708593,-1.4225971964401587,-2.0545116148098432,-0.5543603071865605,-0.6588505749295496,1.2513627887378793,-0.8137948207943052,1.0422064628802337,-0.45192461570495496,-0.6497801405399549,-1.056516347348047,0.20440307609406713,1.0548270254772918,-0.570416040564116,0.6746325877971175,-0.4756361340610073,-0.7551924202762499,0.78069243348289,0.16415385377231234,-0.28675334369218347,0.30529160399932065,-0.2862858687531363,0.823671579756582,0.009792660113371647,0.3733208164001366,1.1993466973961242,-0.6027492101400286,-0.27046930406674846,-0.27937197120297924,-0.04930455118166517,0.0722552739941226,-1.4694929069425693,-0.6746960168843232,-0.6104468398467007,0.31013922462091476,-0.13520219674899842,1.2810838143310053,0.6346761225549629,0.6660497298057801,0.56872629264876,-0.71933362951576,0.016502895779975293,-1.2366498860403936,0.8115178064397559,0.8837234466172698,0.8352577811979678,1.3232430932241368,0.47543627781600223,0.08657443799251735,-1.039525159095973,0.48091097057485427,0.127197970073491,-1.745338456585933,-1.0008593606324803,-1.2375741669575637,-0.2676094462039642,0.029590830119454816,0.09694160474868284,-0.3623762651099337,-1.687778267088628,0.36560118017894544,-1.0608584180118896,0.24275606912664235,1.2723543462803888,0.8959132253067817,0.38105128916243275,-0.13942542910659975,0.004690457201917903,-1.5323061194361465,1.2902201186984674,-0.1675177290969658,-1.099215093653179,0.38281596578233895,-0.398418999693859,0.32140117646225186,0.36649377203199307,0.08223321776600259,-2.552523055574907,-0.7806267829411238,-0.27503823292083457,-1.5121006401915777,-0.421854097454241],\"type\":\"box\"}],                        {\"legend\":{\"bgcolor\":\"#F5F6F9\",\"font\":{\"color\":\"#4D5663\"}},\"paper_bgcolor\":\"#F5F6F9\",\"plot_bgcolor\":\"#F5F6F9\",\"template\":{\"data\":{\"barpolar\":[{\"marker\":{\"line\":{\"color\":\"#E5ECF6\",\"width\":0.5},\"pattern\":{\"fillmode\":\"overlay\",\"size\":10,\"solidity\":0.2}},\"type\":\"barpolar\"}],\"bar\":[{\"error_x\":{\"color\":\"#2a3f5f\"},\"error_y\":{\"color\":\"#2a3f5f\"},\"marker\":{\"line\":{\"color\":\"#E5ECF6\",\"width\":0.5},\"pattern\":{\"fillmode\":\"overlay\",\"size\":10,\"solidity\":0.2}},\"type\":\"bar\"}],\"carpet\":[{\"aaxis\":{\"endlinecolor\":\"#2a3f5f\",\"gridcolor\":\"white\",\"linecolor\":\"white\",\"minorgridcolor\":\"white\",\"startlinecolor\":\"#2a3f5f\"},\"baxis\":{\"endlinecolor\":\"#2a3f5f\",\"gridcolor\":\"white\",\"linecolor\":\"white\",\"minorgridcolor\":\"white\",\"startlinecolor\":\"#2a3f5f\"},\"type\":\"carpet\"}],\"choropleth\":[{\"colorbar\":{\"outlinewidth\":0,\"ticks\":\"\"},\"type\":\"choropleth\"}],\"contourcarpet\":[{\"colorbar\":{\"outlinewidth\":0,\"ticks\":\"\"},\"type\":\"contourcarpet\"}],\"contour\":[{\"colorbar\":{\"outlinewidth\":0,\"ticks\":\"\"},\"colorscale\":[[0.0,\"#0d0887\"],[0.1111111111111111,\"#46039f\"],[0.2222222222222222,\"#7201a8\"],[0.3333333333333333,\"#9c179e\"],[0.4444444444444444,\"#bd3786\"],[0.5555555555555556,\"#d8576b\"],[0.6666666666666666,\"#ed7953\"],[0.7777777777777778,\"#fb9f3a\"],[0.8888888888888888,\"#fdca26\"],[1.0,\"#f0f921\"]],\"type\":\"contour\"}],\"heatmapgl\":[{\"colorbar\":{\"outlinewidth\":0,\"ticks\":\"\"},\"colorscale\":[[0.0,\"#0d0887\"],[0.1111111111111111,\"#46039f\"],[0.2222222222222222,\"#7201a8\"],[0.3333333333333333,\"#9c179e\"],[0.4444444444444444,\"#bd3786\"],[0.5555555555555556,\"#d8576b\"],[0.6666666666666666,\"#ed7953\"],[0.7777777777777778,\"#fb9f3a\"],[0.8888888888888888,\"#fdca26\"],[1.0,\"#f0f921\"]],\"type\":\"heatmapgl\"}],\"heatmap\":[{\"colorbar\":{\"outlinewidth\":0,\"ticks\":\"\"},\"colorscale\":[[0.0,\"#0d0887\"],[0.1111111111111111,\"#46039f\"],[0.2222222222222222,\"#7201a8\"],[0.3333333333333333,\"#9c179e\"],[0.4444444444444444,\"#bd3786\"],[0.5555555555555556,\"#d8576b\"],[0.6666666666666666,\"#ed7953\"],[0.7777777777777778,\"#fb9f3a\"],[0.8888888888888888,\"#fdca26\"],[1.0,\"#f0f921\"]],\"type\":\"heatmap\"}],\"histogram2dcontour\":[{\"colorbar\":{\"outlinewidth\":0,\"ticks\":\"\"},\"colorscale\":[[0.0,\"#0d0887\"],[0.1111111111111111,\"#46039f\"],[0.2222222222222222,\"#7201a8\"],[0.3333333333333333,\"#9c179e\"],[0.4444444444444444,\"#bd3786\"],[0.5555555555555556,\"#d8576b\"],[0.6666666666666666,\"#ed7953\"],[0.7777777777777778,\"#fb9f3a\"],[0.8888888888888888,\"#fdca26\"],[1.0,\"#f0f921\"]],\"type\":\"histogram2dcontour\"}],\"histogram2d\":[{\"colorbar\":{\"outlinewidth\":0,\"ticks\":\"\"},\"colorscale\":[[0.0,\"#0d0887\"],[0.1111111111111111,\"#46039f\"],[0.2222222222222222,\"#7201a8\"],[0.3333333333333333,\"#9c179e\"],[0.4444444444444444,\"#bd3786\"],[0.5555555555555556,\"#d8576b\"],[0.6666666666666666,\"#ed7953\"],[0.7777777777777778,\"#fb9f3a\"],[0.8888888888888888,\"#fdca26\"],[1.0,\"#f0f921\"]],\"type\":\"histogram2d\"}],\"histogram\":[{\"marker\":{\"pattern\":{\"fillmode\":\"overlay\",\"size\":10,\"solidity\":0.2}},\"type\":\"histogram\"}],\"mesh3d\":[{\"colorbar\":{\"outlinewidth\":0,\"ticks\":\"\"},\"type\":\"mesh3d\"}],\"parcoords\":[{\"line\":{\"colorbar\":{\"outlinewidth\":0,\"ticks\":\"\"}},\"type\":\"parcoords\"}],\"pie\":[{\"automargin\":true,\"type\":\"pie\"}],\"scatter3d\":[{\"line\":{\"colorbar\":{\"outlinewidth\":0,\"ticks\":\"\"}},\"marker\":{\"colorbar\":{\"outlinewidth\":0,\"ticks\":\"\"}},\"type\":\"scatter3d\"}],\"scattercarpet\":[{\"marker\":{\"colorbar\":{\"outlinewidth\":0,\"ticks\":\"\"}},\"type\":\"scattercarpet\"}],\"scattergeo\":[{\"marker\":{\"colorbar\":{\"outlinewidth\":0,\"ticks\":\"\"}},\"type\":\"scattergeo\"}],\"scattergl\":[{\"marker\":{\"colorbar\":{\"outlinewidth\":0,\"ticks\":\"\"}},\"type\":\"scattergl\"}],\"scattermapbox\":[{\"marker\":{\"colorbar\":{\"outlinewidth\":0,\"ticks\":\"\"}},\"type\":\"scattermapbox\"}],\"scatterpolargl\":[{\"marker\":{\"colorbar\":{\"outlinewidth\":0,\"ticks\":\"\"}},\"type\":\"scatterpolargl\"}],\"scatterpolar\":[{\"marker\":{\"colorbar\":{\"outlinewidth\":0,\"ticks\":\"\"}},\"type\":\"scatterpolar\"}],\"scatter\":[{\"fillpattern\":{\"fillmode\":\"overlay\",\"size\":10,\"solidity\":0.2},\"type\":\"scatter\"}],\"scatterternary\":[{\"marker\":{\"colorbar\":{\"outlinewidth\":0,\"ticks\":\"\"}},\"type\":\"scatterternary\"}],\"surface\":[{\"colorbar\":{\"outlinewidth\":0,\"ticks\":\"\"},\"colorscale\":[[0.0,\"#0d0887\"],[0.1111111111111111,\"#46039f\"],[0.2222222222222222,\"#7201a8\"],[0.3333333333333333,\"#9c179e\"],[0.4444444444444444,\"#bd3786\"],[0.5555555555555556,\"#d8576b\"],[0.6666666666666666,\"#ed7953\"],[0.7777777777777778,\"#fb9f3a\"],[0.8888888888888888,\"#fdca26\"],[1.0,\"#f0f921\"]],\"type\":\"surface\"}],\"table\":[{\"cells\":{\"fill\":{\"color\":\"#EBF0F8\"},\"line\":{\"color\":\"white\"}},\"header\":{\"fill\":{\"color\":\"#C8D4E3\"},\"line\":{\"color\":\"white\"}},\"type\":\"table\"}]},\"layout\":{\"annotationdefaults\":{\"arrowcolor\":\"#2a3f5f\",\"arrowhead\":0,\"arrowwidth\":1},\"autotypenumbers\":\"strict\",\"coloraxis\":{\"colorbar\":{\"outlinewidth\":0,\"ticks\":\"\"}},\"colorscale\":{\"diverging\":[[0,\"#8e0152\"],[0.1,\"#c51b7d\"],[0.2,\"#de77ae\"],[0.3,\"#f1b6da\"],[0.4,\"#fde0ef\"],[0.5,\"#f7f7f7\"],[0.6,\"#e6f5d0\"],[0.7,\"#b8e186\"],[0.8,\"#7fbc41\"],[0.9,\"#4d9221\"],[1,\"#276419\"]],\"sequential\":[[0.0,\"#0d0887\"],[0.1111111111111111,\"#46039f\"],[0.2222222222222222,\"#7201a8\"],[0.3333333333333333,\"#9c179e\"],[0.4444444444444444,\"#bd3786\"],[0.5555555555555556,\"#d8576b\"],[0.6666666666666666,\"#ed7953\"],[0.7777777777777778,\"#fb9f3a\"],[0.8888888888888888,\"#fdca26\"],[1.0,\"#f0f921\"]],\"sequentialminus\":[[0.0,\"#0d0887\"],[0.1111111111111111,\"#46039f\"],[0.2222222222222222,\"#7201a8\"],[0.3333333333333333,\"#9c179e\"],[0.4444444444444444,\"#bd3786\"],[0.5555555555555556,\"#d8576b\"],[0.6666666666666666,\"#ed7953\"],[0.7777777777777778,\"#fb9f3a\"],[0.8888888888888888,\"#fdca26\"],[1.0,\"#f0f921\"]]},\"colorway\":[\"#636efa\",\"#EF553B\",\"#00cc96\",\"#ab63fa\",\"#FFA15A\",\"#19d3f3\",\"#FF6692\",\"#B6E880\",\"#FF97FF\",\"#FECB52\"],\"font\":{\"color\":\"#2a3f5f\"},\"geo\":{\"bgcolor\":\"white\",\"lakecolor\":\"white\",\"landcolor\":\"#E5ECF6\",\"showlakes\":true,\"showland\":true,\"subunitcolor\":\"white\"},\"hoverlabel\":{\"align\":\"left\"},\"hovermode\":\"closest\",\"mapbox\":{\"style\":\"light\"},\"paper_bgcolor\":\"white\",\"plot_bgcolor\":\"#E5ECF6\",\"polar\":{\"angularaxis\":{\"gridcolor\":\"white\",\"linecolor\":\"white\",\"ticks\":\"\"},\"bgcolor\":\"#E5ECF6\",\"radialaxis\":{\"gridcolor\":\"white\",\"linecolor\":\"white\",\"ticks\":\"\"}},\"scene\":{\"xaxis\":{\"backgroundcolor\":\"#E5ECF6\",\"gridcolor\":\"white\",\"gridwidth\":2,\"linecolor\":\"white\",\"showbackground\":true,\"ticks\":\"\",\"zerolinecolor\":\"white\"},\"yaxis\":{\"backgroundcolor\":\"#E5ECF6\",\"gridcolor\":\"white\",\"gridwidth\":2,\"linecolor\":\"white\",\"showbackground\":true,\"ticks\":\"\",\"zerolinecolor\":\"white\"},\"zaxis\":{\"backgroundcolor\":\"#E5ECF6\",\"gridcolor\":\"white\",\"gridwidth\":2,\"linecolor\":\"white\",\"showbackground\":true,\"ticks\":\"\",\"zerolinecolor\":\"white\"}},\"shapedefaults\":{\"line\":{\"color\":\"#2a3f5f\"}},\"ternary\":{\"aaxis\":{\"gridcolor\":\"white\",\"linecolor\":\"white\",\"ticks\":\"\"},\"baxis\":{\"gridcolor\":\"white\",\"linecolor\":\"white\",\"ticks\":\"\"},\"bgcolor\":\"#E5ECF6\",\"caxis\":{\"gridcolor\":\"white\",\"linecolor\":\"white\",\"ticks\":\"\"}},\"title\":{\"x\":0.05},\"xaxis\":{\"automargin\":true,\"gridcolor\":\"white\",\"linecolor\":\"white\",\"ticks\":\"\",\"title\":{\"standoff\":15},\"zerolinecolor\":\"white\",\"zerolinewidth\":2},\"yaxis\":{\"automargin\":true,\"gridcolor\":\"white\",\"linecolor\":\"white\",\"ticks\":\"\",\"title\":{\"standoff\":15},\"zerolinecolor\":\"white\",\"zerolinewidth\":2}}},\"title\":{\"font\":{\"color\":\"#4D5663\"}},\"xaxis\":{\"gridcolor\":\"#E1E5ED\",\"showgrid\":true,\"tickfont\":{\"color\":\"#4D5663\"},\"title\":{\"font\":{\"color\":\"#4D5663\"},\"text\":\"\"},\"zerolinecolor\":\"#E1E5ED\"},\"yaxis\":{\"gridcolor\":\"#E1E5ED\",\"showgrid\":true,\"tickfont\":{\"color\":\"#4D5663\"},\"title\":{\"font\":{\"color\":\"#4D5663\"},\"text\":\"\"},\"zerolinecolor\":\"#E1E5ED\"}},                        {\"showLink\": true, \"linkText\": \"Export to plot.ly\", \"plotlyServerURL\": \"https://plot.ly\", \"responsive\": true}                    ).then(function(){\n",
       "                            \n",
       "var gd = document.getElementById('b48496d1-c96d-4b22-8c2c-cf979e00e32a');\n",
       "var x = new MutationObserver(function (mutations, observer) {{\n",
       "        var display = window.getComputedStyle(gd).display;\n",
       "        if (!display || display === 'none') {{\n",
       "            console.log([gd, 'removed!']);\n",
       "            Plotly.purge(gd);\n",
       "            observer.disconnect();\n",
       "        }}\n",
       "}});\n",
       "\n",
       "// Listen for the removal of the full notebook cells\n",
       "var notebookContainer = gd.closest('#notebook-container');\n",
       "if (notebookContainer) {{\n",
       "    x.observe(notebookContainer, {childList: true});\n",
       "}}\n",
       "\n",
       "// Listen for the clearing of the current output cell\n",
       "var outputEl = gd.closest('.output');\n",
       "if (outputEl) {{\n",
       "    x.observe(outputEl, {childList: true});\n",
       "}}\n",
       "\n",
       "                        })                };                });            </script>        </div>"
      ]
     },
     "metadata": {},
     "output_type": "display_data"
    }
   ],
   "source": [
    "df1.iplot(kind='box')"
   ]
  },
  {
   "cell_type": "code",
   "execution_count": 38,
   "metadata": {},
   "outputs": [
    {
     "data": {
      "application/vnd.plotly.v1+json": {
       "config": {
        "plotlyServerURL": "https://plot.ly"
       },
       "data": [
        {
         "alignmentgroup": "True",
         "hovertemplate": "variable=%{x}<br>value=%{y}<extra></extra>",
         "legendgroup": "",
         "marker": {
          "color": "#636efa"
         },
         "name": "",
         "notched": false,
         "offsetgroup": "",
         "orientation": "v",
         "showlegend": false,
         "type": "box",
         "x": [
          "A",
          "A",
          "A",
          "A",
          "A",
          "A",
          "A",
          "A",
          "A",
          "A",
          "A",
          "A",
          "A",
          "A",
          "A",
          "A",
          "A",
          "A",
          "A",
          "A",
          "A",
          "A",
          "A",
          "A",
          "A",
          "A",
          "A",
          "A",
          "A",
          "A",
          "A",
          "A",
          "A",
          "A",
          "A",
          "A",
          "A",
          "A",
          "A",
          "A",
          "A",
          "A",
          "A",
          "A",
          "A",
          "A",
          "A",
          "A",
          "A",
          "A",
          "A",
          "A",
          "A",
          "A",
          "A",
          "A",
          "A",
          "A",
          "A",
          "A",
          "A",
          "A",
          "A",
          "A",
          "A",
          "A",
          "A",
          "A",
          "A",
          "A",
          "A",
          "A",
          "A",
          "A",
          "A",
          "A",
          "A",
          "A",
          "A",
          "A",
          "A",
          "A",
          "A",
          "A",
          "A",
          "A",
          "A",
          "A",
          "A",
          "A",
          "A",
          "A",
          "A",
          "A",
          "A",
          "A",
          "A",
          "A",
          "A",
          "A",
          "B",
          "B",
          "B",
          "B",
          "B",
          "B",
          "B",
          "B",
          "B",
          "B",
          "B",
          "B",
          "B",
          "B",
          "B",
          "B",
          "B",
          "B",
          "B",
          "B",
          "B",
          "B",
          "B",
          "B",
          "B",
          "B",
          "B",
          "B",
          "B",
          "B",
          "B",
          "B",
          "B",
          "B",
          "B",
          "B",
          "B",
          "B",
          "B",
          "B",
          "B",
          "B",
          "B",
          "B",
          "B",
          "B",
          "B",
          "B",
          "B",
          "B",
          "B",
          "B",
          "B",
          "B",
          "B",
          "B",
          "B",
          "B",
          "B",
          "B",
          "B",
          "B",
          "B",
          "B",
          "B",
          "B",
          "B",
          "B",
          "B",
          "B",
          "B",
          "B",
          "B",
          "B",
          "B",
          "B",
          "B",
          "B",
          "B",
          "B",
          "B",
          "B",
          "B",
          "B",
          "B",
          "B",
          "B",
          "B",
          "B",
          "B",
          "B",
          "B",
          "B",
          "B",
          "B",
          "B",
          "B",
          "B",
          "B",
          "B",
          "C",
          "C",
          "C",
          "C",
          "C",
          "C",
          "C",
          "C",
          "C",
          "C",
          "C",
          "C",
          "C",
          "C",
          "C",
          "C",
          "C",
          "C",
          "C",
          "C",
          "C",
          "C",
          "C",
          "C",
          "C",
          "C",
          "C",
          "C",
          "C",
          "C",
          "C",
          "C",
          "C",
          "C",
          "C",
          "C",
          "C",
          "C",
          "C",
          "C",
          "C",
          "C",
          "C",
          "C",
          "C",
          "C",
          "C",
          "C",
          "C",
          "C",
          "C",
          "C",
          "C",
          "C",
          "C",
          "C",
          "C",
          "C",
          "C",
          "C",
          "C",
          "C",
          "C",
          "C",
          "C",
          "C",
          "C",
          "C",
          "C",
          "C",
          "C",
          "C",
          "C",
          "C",
          "C",
          "C",
          "C",
          "C",
          "C",
          "C",
          "C",
          "C",
          "C",
          "C",
          "C",
          "C",
          "C",
          "C",
          "C",
          "C",
          "C",
          "C",
          "C",
          "C",
          "C",
          "C",
          "C",
          "C",
          "C",
          "C",
          "D",
          "D",
          "D",
          "D",
          "D",
          "D",
          "D",
          "D",
          "D",
          "D",
          "D",
          "D",
          "D",
          "D",
          "D",
          "D",
          "D",
          "D",
          "D",
          "D",
          "D",
          "D",
          "D",
          "D",
          "D",
          "D",
          "D",
          "D",
          "D",
          "D",
          "D",
          "D",
          "D",
          "D",
          "D",
          "D",
          "D",
          "D",
          "D",
          "D",
          "D",
          "D",
          "D",
          "D",
          "D",
          "D",
          "D",
          "D",
          "D",
          "D",
          "D",
          "D",
          "D",
          "D",
          "D",
          "D",
          "D",
          "D",
          "D",
          "D",
          "D",
          "D",
          "D",
          "D",
          "D",
          "D",
          "D",
          "D",
          "D",
          "D",
          "D",
          "D",
          "D",
          "D",
          "D",
          "D",
          "D",
          "D",
          "D",
          "D",
          "D",
          "D",
          "D",
          "D",
          "D",
          "D",
          "D",
          "D",
          "D",
          "D",
          "D",
          "D",
          "D",
          "D",
          "D",
          "D",
          "D",
          "D",
          "D",
          "D"
         ],
         "x0": " ",
         "xaxis": "x",
         "y": [
          -1.4747380955937974,
          0.28725077112417235,
          -1.6568846794720122,
          1.381720942647079,
          0.3657833365094521,
          0.026008073073972172,
          -0.5109681143770874,
          -0.30968695071839253,
          0.08056276720583924,
          1.2206461655280683,
          -1.0044961445651543,
          -0.7086123871501985,
          -0.3032080480213653,
          -0.4681810010400497,
          0.4883380048432973,
          -1.0568975335865904,
          -0.6478951720409023,
          -1.1006335991216396,
          -1.1084672870151069,
          1.0115169993247746,
          0.8628879534962799,
          0.49107556584687034,
          -0.21460151922209592,
          -0.21167224031379164,
          -1.0868280793928702,
          0.1813077457259262,
          1.6048411477507714,
          -1.1129128593443407,
          0.13510904054871198,
          0.7363175261488993,
          0.30133889718720347,
          1.0968390103774157,
          -0.9215941053119098,
          1.1452096988910712,
          -0.0969211977387717,
          0.7832229582485118,
          1.0531791723051949,
          -0.6663370851946934,
          -0.7282508718905567,
          -1.688787692138687,
          0.2592955164616916,
          -0.35251940357111267,
          0.5255678646250175,
          0.1591013061134092,
          1.6392683058616393,
          -0.7594873429459711,
          0.3571677103292569,
          -1.9129516673080214,
          0.2812674212385775,
          2.9443484953104657,
          -1.2668238549208235,
          0.41322784242257693,
          1.206697949804835,
          1.0295637127428512,
          0.42415314431239537,
          -1.234242731046262,
          -0.005177234655683374,
          0.40215839443750323,
          0.5734568360798693,
          -0.981071428153688,
          -1.044181132406017,
          -0.5455429283558031,
          0.8723741296130654,
          -1.7382678852503126,
          -2.394203349842937,
          1.1200094352775187,
          -0.6221419105120386,
          0.28050386485521667,
          -0.21614849790735982,
          -0.5457390506690335,
          -2.3191277297140607,
          1.3524213867671204,
          0.12594824702172094,
          -0.02781084118179256,
          -1.0121863416508705,
          -0.1346075258918912,
          -0.2161185225683815,
          -1.4044793440674315,
          0.5103800616622387,
          -0.26035603985135364,
          0.7128604943441633,
          -0.09028399432601468,
          0.5214049330304661,
          -0.050307547047459246,
          -0.139890323143218,
          -1.2155801358748424,
          0.9627948608905095,
          0.8801238599064668,
          0.020185320431986706,
          1.6625023152013685,
          0.3816936279691013,
          0.34509760366963216,
          0.37972886845205844,
          0.4258913685657802,
          -0.22863620193291423,
          -1.4886214993845972,
          0.5486315743498743,
          -0.37552303459747266,
          -1.7087243821390654,
          -0.047214690067770786,
          0.21816361565301612,
          -0.18311601650778261,
          -0.8722852429063794,
          0.7996321791414022,
          1.4830013794585655,
          -1.8513851087254878,
          1.613906454791288,
          -1.5827358120075996,
          -0.2852339752587739,
          -1.1655837011030066,
          -1.3316526305662248,
          -0.058152616565652196,
          0.06088486005099269,
          -1.8538715257905751,
          -0.10795630868630458,
          -0.5169453758367406,
          0.05896114763704862,
          1.937674579815131,
          -0.43586910750577423,
          0.6301701523533102,
          0.2487690009306954,
          -0.5768590175830137,
          -0.23048178855369697,
          1.5829241162079017,
          -0.7064465895575457,
          -0.07800414606637208,
          0.9267040564138606,
          -0.9945444848093137,
          1.5232090046065017,
          0.5724140410636237,
          -0.5824132253983889,
          1.4758903927481846,
          0.7894141470303264,
          -0.34231970058963407,
          -0.7810319671697296,
          0.2072844838228586,
          -0.5588365519503141,
          -0.38971140833812906,
          0.21785672555286356,
          1.0289889419787783,
          -1.3145327761543142,
          0.18482300394128667,
          0.325360903405271,
          0.8234367426244258,
          0.7549608081461314,
          -0.24592878896044312,
          -0.8898589213424684,
          1.1296498601309384,
          -0.7646354208473364,
          -1.7613727579525837,
          -0.007885085352440032,
          -0.6550676125914235,
          -1.5382251668563758,
          2.9664757064106833,
          0.05136220368240336,
          0.9053762889413747,
          -0.9014199037894448,
          0.14416787795095554,
          0.5772481753295273,
          1.00066627733789,
          -1.484677774151373,
          -1.0470748306972992,
          -1.0394473595670013,
          1.0139539314489332,
          -0.2266635690751747,
          -2.906894044978705,
          0.3866286493770684,
          -0.22145896800858503,
          0.2723182682770941,
          -0.23515963148068272,
          -0.8867866717522348,
          -0.017926170650252895,
          0.1202193588446371,
          0.5167784095259662,
          -1.1692508750791701,
          0.12401321928940981,
          -0.7738107387476351,
          -0.9566254708018384,
          -0.26444548631561315,
          -1.6766931874405588,
          -1.5626958822528276,
          -1.0537752027800056,
          0.01008372961374793,
          0.07867473793517019,
          -1.6967402907609725,
          -1.896581525083377,
          -0.9524305910705916,
          0.9152100476428011,
          0.5403263954180979,
          -1.1951744668940307,
          -0.7586988875890001,
          -2.764229500397465,
          -1.058834908427951,
          -1.211320125788323,
          -1.4017384442446392,
          0.31423912897978823,
          0.40750676142202613,
          -0.12272730770175873,
          -0.16912280770312685,
          -0.17788138935751074,
          1.7377773904002787,
          -0.22395400729530127,
          0.1820734116872276,
          -0.7942279663986247,
          0.5582198101989171,
          0.8557186514611376,
          -0.4566546028122543,
          -0.4486886613225603,
          -0.462033243406978,
          1.7693450636612906,
          0.8493771531423921,
          -0.46690670588043465,
          0.6681701784956612,
          1.487470466970359,
          -1.592710230729672,
          -0.8893560759048776,
          0.9974415506640023,
          -0.11815807269381176,
          0.39085583078090946,
          -0.8678648114268143,
          -1.3232130718608561,
          1.2296438297962131,
          -1.7049252038650233,
          -0.1278833761359411,
          -0.9852621101243801,
          1.4511004245694241,
          -0.5107422042065087,
          0.35540352015450555,
          0.4608476569044969,
          0.4486668143051865,
          1.7038458179890796,
          1.2874981058355235,
          0.008172266049143288,
          1.3403757810053207,
          -0.48959248911528613,
          0.5761572892581875,
          -1.158663472942153,
          -2.3934735618828453,
          -2.0473455770351485,
          0.04363192875061731,
          0.9613481148956818,
          -0.23020568673440028,
          0.5268156949610865,
          0.9249023465550501,
          -0.23049076961016352,
          0.27160019016029285,
          0.34585203246608587,
          0.8663998050975331,
          -0.9774447107233512,
          -0.49791242970244515,
          -1.879355292075668,
          1.9648131850176263,
          -0.27336146294076935,
          0.4402545510186216,
          0.7274920462854855,
          0.26784305740453795,
          1.5272195480486723,
          -0.11650576271574038,
          1.203757674131996,
          -0.2400098004413862,
          0.5559898896596926,
          -0.25173079089603434,
          -0.17630458831284046,
          -0.584550466794726,
          1.3225811578308335,
          0.7294619170549295,
          0.7943615257625641,
          0.27209621340875817,
          -1.5785477719864265,
          0.3727682581763358,
          1.4550313417369363,
          1.3084602131497813,
          1.6908326835822265,
          -0.6751489947318258,
          -2.064870035828138,
          0.4935165233388467,
          0.8466278348395803,
          0.14975934344387587,
          -0.38709899368579576,
          -0.4914009940136751,
          -0.5018286362538411,
          -0.6533088785680246,
          1.054829047519902,
          0.49530987239203966,
          -0.021789443961921257,
          0.34301971407163234,
          0.384615463775324,
          -0.5202573280889718,
          0.955766575232318,
          0.47481063499827153,
          -0.4096097700355144,
          -0.7890433274251037,
          -1.3225480834101921,
          -1.4704335995087472,
          0.402125007984368,
          -0.7854528677118743,
          -0.8182638218352324,
          1.0890802638091794,
          0.39325131265035485,
          0.19159205137621324,
          -0.9898978880621447,
          -0.15653251538155546,
          1.1350151984266963,
          0.4330113225398728,
          -0.22662361863857208,
          1.2147557315772484,
          -1.0954533355276945,
          0.056981130154462885,
          1.085174429985138,
          0.14699559311323226,
          -0.49897601646505985,
          1.1989909816632942,
          0.6333982183822553,
          -0.9858404019714517,
          0.9646473937157795,
          -0.29878447694620397,
          0.038219071625085144,
          -1.7977606542818454,
          2.4301625828708593,
          -1.4225971964401587,
          -2.0545116148098432,
          -0.5543603071865605,
          -0.6588505749295496,
          1.2513627887378793,
          -0.8137948207943052,
          1.0422064628802337,
          -0.45192461570495496,
          -0.6497801405399549,
          -1.056516347348047,
          0.20440307609406713,
          1.0548270254772918,
          -0.570416040564116,
          0.6746325877971175,
          -0.4756361340610073,
          -0.7551924202762499,
          0.78069243348289,
          0.16415385377231234,
          -0.28675334369218347,
          0.30529160399932065,
          -0.2862858687531363,
          0.823671579756582,
          0.009792660113371647,
          0.3733208164001366,
          1.1993466973961242,
          -0.6027492101400286,
          -0.27046930406674846,
          -0.27937197120297924,
          -0.04930455118166517,
          0.0722552739941226,
          -1.4694929069425693,
          -0.6746960168843232,
          -0.6104468398467007,
          0.31013922462091476,
          -0.13520219674899842,
          1.2810838143310053,
          0.6346761225549629,
          0.6660497298057801,
          0.56872629264876,
          -0.71933362951576,
          0.016502895779975293,
          -1.2366498860403936,
          0.8115178064397559,
          0.8837234466172698,
          0.8352577811979678,
          1.3232430932241368,
          0.47543627781600223,
          0.08657443799251735,
          -1.039525159095973,
          0.48091097057485427,
          0.127197970073491,
          -1.745338456585933,
          -1.0008593606324803,
          -1.2375741669575637,
          -0.2676094462039642,
          0.029590830119454816,
          0.09694160474868284,
          -0.3623762651099337,
          -1.687778267088628,
          0.36560118017894544,
          -1.0608584180118896,
          0.24275606912664235,
          1.2723543462803888,
          0.8959132253067817,
          0.38105128916243275,
          -0.13942542910659975,
          0.004690457201917903,
          -1.5323061194361465,
          1.2902201186984674,
          -0.1675177290969658,
          -1.099215093653179,
          0.38281596578233895,
          -0.398418999693859,
          0.32140117646225186,
          0.36649377203199307,
          0.08223321776600259,
          -2.552523055574907,
          -0.7806267829411238,
          -0.27503823292083457,
          -1.5121006401915777,
          -0.421854097454241
         ],
         "y0": " ",
         "yaxis": "y"
        }
       ],
       "layout": {
        "boxmode": "group",
        "legend": {
         "tracegroupgap": 0
        },
        "template": {
         "data": {
          "bar": [
           {
            "error_x": {
             "color": "#2a3f5f"
            },
            "error_y": {
             "color": "#2a3f5f"
            },
            "marker": {
             "line": {
              "color": "#E5ECF6",
              "width": 0.5
             },
             "pattern": {
              "fillmode": "overlay",
              "size": 10,
              "solidity": 0.2
             }
            },
            "type": "bar"
           }
          ],
          "barpolar": [
           {
            "marker": {
             "line": {
              "color": "#E5ECF6",
              "width": 0.5
             },
             "pattern": {
              "fillmode": "overlay",
              "size": 10,
              "solidity": 0.2
             }
            },
            "type": "barpolar"
           }
          ],
          "carpet": [
           {
            "aaxis": {
             "endlinecolor": "#2a3f5f",
             "gridcolor": "white",
             "linecolor": "white",
             "minorgridcolor": "white",
             "startlinecolor": "#2a3f5f"
            },
            "baxis": {
             "endlinecolor": "#2a3f5f",
             "gridcolor": "white",
             "linecolor": "white",
             "minorgridcolor": "white",
             "startlinecolor": "#2a3f5f"
            },
            "type": "carpet"
           }
          ],
          "choropleth": [
           {
            "colorbar": {
             "outlinewidth": 0,
             "ticks": ""
            },
            "type": "choropleth"
           }
          ],
          "contour": [
           {
            "colorbar": {
             "outlinewidth": 0,
             "ticks": ""
            },
            "colorscale": [
             [
              0,
              "#0d0887"
             ],
             [
              0.1111111111111111,
              "#46039f"
             ],
             [
              0.2222222222222222,
              "#7201a8"
             ],
             [
              0.3333333333333333,
              "#9c179e"
             ],
             [
              0.4444444444444444,
              "#bd3786"
             ],
             [
              0.5555555555555556,
              "#d8576b"
             ],
             [
              0.6666666666666666,
              "#ed7953"
             ],
             [
              0.7777777777777778,
              "#fb9f3a"
             ],
             [
              0.8888888888888888,
              "#fdca26"
             ],
             [
              1,
              "#f0f921"
             ]
            ],
            "type": "contour"
           }
          ],
          "contourcarpet": [
           {
            "colorbar": {
             "outlinewidth": 0,
             "ticks": ""
            },
            "type": "contourcarpet"
           }
          ],
          "heatmap": [
           {
            "colorbar": {
             "outlinewidth": 0,
             "ticks": ""
            },
            "colorscale": [
             [
              0,
              "#0d0887"
             ],
             [
              0.1111111111111111,
              "#46039f"
             ],
             [
              0.2222222222222222,
              "#7201a8"
             ],
             [
              0.3333333333333333,
              "#9c179e"
             ],
             [
              0.4444444444444444,
              "#bd3786"
             ],
             [
              0.5555555555555556,
              "#d8576b"
             ],
             [
              0.6666666666666666,
              "#ed7953"
             ],
             [
              0.7777777777777778,
              "#fb9f3a"
             ],
             [
              0.8888888888888888,
              "#fdca26"
             ],
             [
              1,
              "#f0f921"
             ]
            ],
            "type": "heatmap"
           }
          ],
          "heatmapgl": [
           {
            "colorbar": {
             "outlinewidth": 0,
             "ticks": ""
            },
            "colorscale": [
             [
              0,
              "#0d0887"
             ],
             [
              0.1111111111111111,
              "#46039f"
             ],
             [
              0.2222222222222222,
              "#7201a8"
             ],
             [
              0.3333333333333333,
              "#9c179e"
             ],
             [
              0.4444444444444444,
              "#bd3786"
             ],
             [
              0.5555555555555556,
              "#d8576b"
             ],
             [
              0.6666666666666666,
              "#ed7953"
             ],
             [
              0.7777777777777778,
              "#fb9f3a"
             ],
             [
              0.8888888888888888,
              "#fdca26"
             ],
             [
              1,
              "#f0f921"
             ]
            ],
            "type": "heatmapgl"
           }
          ],
          "histogram": [
           {
            "marker": {
             "pattern": {
              "fillmode": "overlay",
              "size": 10,
              "solidity": 0.2
             }
            },
            "type": "histogram"
           }
          ],
          "histogram2d": [
           {
            "colorbar": {
             "outlinewidth": 0,
             "ticks": ""
            },
            "colorscale": [
             [
              0,
              "#0d0887"
             ],
             [
              0.1111111111111111,
              "#46039f"
             ],
             [
              0.2222222222222222,
              "#7201a8"
             ],
             [
              0.3333333333333333,
              "#9c179e"
             ],
             [
              0.4444444444444444,
              "#bd3786"
             ],
             [
              0.5555555555555556,
              "#d8576b"
             ],
             [
              0.6666666666666666,
              "#ed7953"
             ],
             [
              0.7777777777777778,
              "#fb9f3a"
             ],
             [
              0.8888888888888888,
              "#fdca26"
             ],
             [
              1,
              "#f0f921"
             ]
            ],
            "type": "histogram2d"
           }
          ],
          "histogram2dcontour": [
           {
            "colorbar": {
             "outlinewidth": 0,
             "ticks": ""
            },
            "colorscale": [
             [
              0,
              "#0d0887"
             ],
             [
              0.1111111111111111,
              "#46039f"
             ],
             [
              0.2222222222222222,
              "#7201a8"
             ],
             [
              0.3333333333333333,
              "#9c179e"
             ],
             [
              0.4444444444444444,
              "#bd3786"
             ],
             [
              0.5555555555555556,
              "#d8576b"
             ],
             [
              0.6666666666666666,
              "#ed7953"
             ],
             [
              0.7777777777777778,
              "#fb9f3a"
             ],
             [
              0.8888888888888888,
              "#fdca26"
             ],
             [
              1,
              "#f0f921"
             ]
            ],
            "type": "histogram2dcontour"
           }
          ],
          "mesh3d": [
           {
            "colorbar": {
             "outlinewidth": 0,
             "ticks": ""
            },
            "type": "mesh3d"
           }
          ],
          "parcoords": [
           {
            "line": {
             "colorbar": {
              "outlinewidth": 0,
              "ticks": ""
             }
            },
            "type": "parcoords"
           }
          ],
          "pie": [
           {
            "automargin": true,
            "type": "pie"
           }
          ],
          "scatter": [
           {
            "fillpattern": {
             "fillmode": "overlay",
             "size": 10,
             "solidity": 0.2
            },
            "type": "scatter"
           }
          ],
          "scatter3d": [
           {
            "line": {
             "colorbar": {
              "outlinewidth": 0,
              "ticks": ""
             }
            },
            "marker": {
             "colorbar": {
              "outlinewidth": 0,
              "ticks": ""
             }
            },
            "type": "scatter3d"
           }
          ],
          "scattercarpet": [
           {
            "marker": {
             "colorbar": {
              "outlinewidth": 0,
              "ticks": ""
             }
            },
            "type": "scattercarpet"
           }
          ],
          "scattergeo": [
           {
            "marker": {
             "colorbar": {
              "outlinewidth": 0,
              "ticks": ""
             }
            },
            "type": "scattergeo"
           }
          ],
          "scattergl": [
           {
            "marker": {
             "colorbar": {
              "outlinewidth": 0,
              "ticks": ""
             }
            },
            "type": "scattergl"
           }
          ],
          "scattermapbox": [
           {
            "marker": {
             "colorbar": {
              "outlinewidth": 0,
              "ticks": ""
             }
            },
            "type": "scattermapbox"
           }
          ],
          "scatterpolar": [
           {
            "marker": {
             "colorbar": {
              "outlinewidth": 0,
              "ticks": ""
             }
            },
            "type": "scatterpolar"
           }
          ],
          "scatterpolargl": [
           {
            "marker": {
             "colorbar": {
              "outlinewidth": 0,
              "ticks": ""
             }
            },
            "type": "scatterpolargl"
           }
          ],
          "scatterternary": [
           {
            "marker": {
             "colorbar": {
              "outlinewidth": 0,
              "ticks": ""
             }
            },
            "type": "scatterternary"
           }
          ],
          "surface": [
           {
            "colorbar": {
             "outlinewidth": 0,
             "ticks": ""
            },
            "colorscale": [
             [
              0,
              "#0d0887"
             ],
             [
              0.1111111111111111,
              "#46039f"
             ],
             [
              0.2222222222222222,
              "#7201a8"
             ],
             [
              0.3333333333333333,
              "#9c179e"
             ],
             [
              0.4444444444444444,
              "#bd3786"
             ],
             [
              0.5555555555555556,
              "#d8576b"
             ],
             [
              0.6666666666666666,
              "#ed7953"
             ],
             [
              0.7777777777777778,
              "#fb9f3a"
             ],
             [
              0.8888888888888888,
              "#fdca26"
             ],
             [
              1,
              "#f0f921"
             ]
            ],
            "type": "surface"
           }
          ],
          "table": [
           {
            "cells": {
             "fill": {
              "color": "#EBF0F8"
             },
             "line": {
              "color": "white"
             }
            },
            "header": {
             "fill": {
              "color": "#C8D4E3"
             },
             "line": {
              "color": "white"
             }
            },
            "type": "table"
           }
          ]
         },
         "layout": {
          "annotationdefaults": {
           "arrowcolor": "#2a3f5f",
           "arrowhead": 0,
           "arrowwidth": 1
          },
          "autotypenumbers": "strict",
          "coloraxis": {
           "colorbar": {
            "outlinewidth": 0,
            "ticks": ""
           }
          },
          "colorscale": {
           "diverging": [
            [
             0,
             "#8e0152"
            ],
            [
             0.1,
             "#c51b7d"
            ],
            [
             0.2,
             "#de77ae"
            ],
            [
             0.3,
             "#f1b6da"
            ],
            [
             0.4,
             "#fde0ef"
            ],
            [
             0.5,
             "#f7f7f7"
            ],
            [
             0.6,
             "#e6f5d0"
            ],
            [
             0.7,
             "#b8e186"
            ],
            [
             0.8,
             "#7fbc41"
            ],
            [
             0.9,
             "#4d9221"
            ],
            [
             1,
             "#276419"
            ]
           ],
           "sequential": [
            [
             0,
             "#0d0887"
            ],
            [
             0.1111111111111111,
             "#46039f"
            ],
            [
             0.2222222222222222,
             "#7201a8"
            ],
            [
             0.3333333333333333,
             "#9c179e"
            ],
            [
             0.4444444444444444,
             "#bd3786"
            ],
            [
             0.5555555555555556,
             "#d8576b"
            ],
            [
             0.6666666666666666,
             "#ed7953"
            ],
            [
             0.7777777777777778,
             "#fb9f3a"
            ],
            [
             0.8888888888888888,
             "#fdca26"
            ],
            [
             1,
             "#f0f921"
            ]
           ],
           "sequentialminus": [
            [
             0,
             "#0d0887"
            ],
            [
             0.1111111111111111,
             "#46039f"
            ],
            [
             0.2222222222222222,
             "#7201a8"
            ],
            [
             0.3333333333333333,
             "#9c179e"
            ],
            [
             0.4444444444444444,
             "#bd3786"
            ],
            [
             0.5555555555555556,
             "#d8576b"
            ],
            [
             0.6666666666666666,
             "#ed7953"
            ],
            [
             0.7777777777777778,
             "#fb9f3a"
            ],
            [
             0.8888888888888888,
             "#fdca26"
            ],
            [
             1,
             "#f0f921"
            ]
           ]
          },
          "colorway": [
           "#636efa",
           "#EF553B",
           "#00cc96",
           "#ab63fa",
           "#FFA15A",
           "#19d3f3",
           "#FF6692",
           "#B6E880",
           "#FF97FF",
           "#FECB52"
          ],
          "font": {
           "color": "#2a3f5f"
          },
          "geo": {
           "bgcolor": "white",
           "lakecolor": "white",
           "landcolor": "#E5ECF6",
           "showlakes": true,
           "showland": true,
           "subunitcolor": "white"
          },
          "hoverlabel": {
           "align": "left"
          },
          "hovermode": "closest",
          "mapbox": {
           "style": "light"
          },
          "paper_bgcolor": "white",
          "plot_bgcolor": "#E5ECF6",
          "polar": {
           "angularaxis": {
            "gridcolor": "white",
            "linecolor": "white",
            "ticks": ""
           },
           "bgcolor": "#E5ECF6",
           "radialaxis": {
            "gridcolor": "white",
            "linecolor": "white",
            "ticks": ""
           }
          },
          "scene": {
           "xaxis": {
            "backgroundcolor": "#E5ECF6",
            "gridcolor": "white",
            "gridwidth": 2,
            "linecolor": "white",
            "showbackground": true,
            "ticks": "",
            "zerolinecolor": "white"
           },
           "yaxis": {
            "backgroundcolor": "#E5ECF6",
            "gridcolor": "white",
            "gridwidth": 2,
            "linecolor": "white",
            "showbackground": true,
            "ticks": "",
            "zerolinecolor": "white"
           },
           "zaxis": {
            "backgroundcolor": "#E5ECF6",
            "gridcolor": "white",
            "gridwidth": 2,
            "linecolor": "white",
            "showbackground": true,
            "ticks": "",
            "zerolinecolor": "white"
           }
          },
          "shapedefaults": {
           "line": {
            "color": "#2a3f5f"
           }
          },
          "ternary": {
           "aaxis": {
            "gridcolor": "white",
            "linecolor": "white",
            "ticks": ""
           },
           "baxis": {
            "gridcolor": "white",
            "linecolor": "white",
            "ticks": ""
           },
           "bgcolor": "#E5ECF6",
           "caxis": {
            "gridcolor": "white",
            "linecolor": "white",
            "ticks": ""
           }
          },
          "title": {
           "x": 0.05
          },
          "xaxis": {
           "automargin": true,
           "gridcolor": "white",
           "linecolor": "white",
           "ticks": "",
           "title": {
            "standoff": 15
           },
           "zerolinecolor": "white",
           "zerolinewidth": 2
          },
          "yaxis": {
           "automargin": true,
           "gridcolor": "white",
           "linecolor": "white",
           "ticks": "",
           "title": {
            "standoff": 15
           },
           "zerolinecolor": "white",
           "zerolinewidth": 2
          }
         }
        },
        "title": {
         "text": "Dataframe One"
        },
        "xaxis": {
         "anchor": "y",
         "domain": [
          0,
          1
         ],
         "title": {
          "text": "variable"
         }
        },
        "yaxis": {
         "anchor": "x",
         "domain": [
          0,
          1
         ],
         "title": {
          "text": "value"
         }
        }
       }
      },
      "text/html": [
       "<div>                            <div id=\"2ab5b876-b893-44f9-b47d-bb88aed2a30f\" class=\"plotly-graph-div\" style=\"height:525px; width:100%;\"></div>            <script type=\"text/javascript\">                require([\"plotly\"], function(Plotly) {                    window.PLOTLYENV=window.PLOTLYENV || {};                                    if (document.getElementById(\"2ab5b876-b893-44f9-b47d-bb88aed2a30f\")) {                    Plotly.newPlot(                        \"2ab5b876-b893-44f9-b47d-bb88aed2a30f\",                        [{\"alignmentgroup\":\"True\",\"hovertemplate\":\"variable=%{x}\\u003cbr\\u003evalue=%{y}\\u003cextra\\u003e\\u003c\\u002fextra\\u003e\",\"legendgroup\":\"\",\"marker\":{\"color\":\"#636efa\"},\"name\":\"\",\"notched\":false,\"offsetgroup\":\"\",\"orientation\":\"v\",\"showlegend\":false,\"x\":[\"A\",\"A\",\"A\",\"A\",\"A\",\"A\",\"A\",\"A\",\"A\",\"A\",\"A\",\"A\",\"A\",\"A\",\"A\",\"A\",\"A\",\"A\",\"A\",\"A\",\"A\",\"A\",\"A\",\"A\",\"A\",\"A\",\"A\",\"A\",\"A\",\"A\",\"A\",\"A\",\"A\",\"A\",\"A\",\"A\",\"A\",\"A\",\"A\",\"A\",\"A\",\"A\",\"A\",\"A\",\"A\",\"A\",\"A\",\"A\",\"A\",\"A\",\"A\",\"A\",\"A\",\"A\",\"A\",\"A\",\"A\",\"A\",\"A\",\"A\",\"A\",\"A\",\"A\",\"A\",\"A\",\"A\",\"A\",\"A\",\"A\",\"A\",\"A\",\"A\",\"A\",\"A\",\"A\",\"A\",\"A\",\"A\",\"A\",\"A\",\"A\",\"A\",\"A\",\"A\",\"A\",\"A\",\"A\",\"A\",\"A\",\"A\",\"A\",\"A\",\"A\",\"A\",\"A\",\"A\",\"A\",\"A\",\"A\",\"A\",\"B\",\"B\",\"B\",\"B\",\"B\",\"B\",\"B\",\"B\",\"B\",\"B\",\"B\",\"B\",\"B\",\"B\",\"B\",\"B\",\"B\",\"B\",\"B\",\"B\",\"B\",\"B\",\"B\",\"B\",\"B\",\"B\",\"B\",\"B\",\"B\",\"B\",\"B\",\"B\",\"B\",\"B\",\"B\",\"B\",\"B\",\"B\",\"B\",\"B\",\"B\",\"B\",\"B\",\"B\",\"B\",\"B\",\"B\",\"B\",\"B\",\"B\",\"B\",\"B\",\"B\",\"B\",\"B\",\"B\",\"B\",\"B\",\"B\",\"B\",\"B\",\"B\",\"B\",\"B\",\"B\",\"B\",\"B\",\"B\",\"B\",\"B\",\"B\",\"B\",\"B\",\"B\",\"B\",\"B\",\"B\",\"B\",\"B\",\"B\",\"B\",\"B\",\"B\",\"B\",\"B\",\"B\",\"B\",\"B\",\"B\",\"B\",\"B\",\"B\",\"B\",\"B\",\"B\",\"B\",\"B\",\"B\",\"B\",\"B\",\"C\",\"C\",\"C\",\"C\",\"C\",\"C\",\"C\",\"C\",\"C\",\"C\",\"C\",\"C\",\"C\",\"C\",\"C\",\"C\",\"C\",\"C\",\"C\",\"C\",\"C\",\"C\",\"C\",\"C\",\"C\",\"C\",\"C\",\"C\",\"C\",\"C\",\"C\",\"C\",\"C\",\"C\",\"C\",\"C\",\"C\",\"C\",\"C\",\"C\",\"C\",\"C\",\"C\",\"C\",\"C\",\"C\",\"C\",\"C\",\"C\",\"C\",\"C\",\"C\",\"C\",\"C\",\"C\",\"C\",\"C\",\"C\",\"C\",\"C\",\"C\",\"C\",\"C\",\"C\",\"C\",\"C\",\"C\",\"C\",\"C\",\"C\",\"C\",\"C\",\"C\",\"C\",\"C\",\"C\",\"C\",\"C\",\"C\",\"C\",\"C\",\"C\",\"C\",\"C\",\"C\",\"C\",\"C\",\"C\",\"C\",\"C\",\"C\",\"C\",\"C\",\"C\",\"C\",\"C\",\"C\",\"C\",\"C\",\"C\",\"D\",\"D\",\"D\",\"D\",\"D\",\"D\",\"D\",\"D\",\"D\",\"D\",\"D\",\"D\",\"D\",\"D\",\"D\",\"D\",\"D\",\"D\",\"D\",\"D\",\"D\",\"D\",\"D\",\"D\",\"D\",\"D\",\"D\",\"D\",\"D\",\"D\",\"D\",\"D\",\"D\",\"D\",\"D\",\"D\",\"D\",\"D\",\"D\",\"D\",\"D\",\"D\",\"D\",\"D\",\"D\",\"D\",\"D\",\"D\",\"D\",\"D\",\"D\",\"D\",\"D\",\"D\",\"D\",\"D\",\"D\",\"D\",\"D\",\"D\",\"D\",\"D\",\"D\",\"D\",\"D\",\"D\",\"D\",\"D\",\"D\",\"D\",\"D\",\"D\",\"D\",\"D\",\"D\",\"D\",\"D\",\"D\",\"D\",\"D\",\"D\",\"D\",\"D\",\"D\",\"D\",\"D\",\"D\",\"D\",\"D\",\"D\",\"D\",\"D\",\"D\",\"D\",\"D\",\"D\",\"D\",\"D\",\"D\",\"D\"],\"x0\":\" \",\"xaxis\":\"x\",\"y\":[-1.4747380955937974,0.28725077112417235,-1.6568846794720122,1.381720942647079,0.3657833365094521,0.026008073073972172,-0.5109681143770874,-0.30968695071839253,0.08056276720583924,1.2206461655280683,-1.0044961445651543,-0.7086123871501985,-0.3032080480213653,-0.4681810010400497,0.4883380048432973,-1.0568975335865904,-0.6478951720409023,-1.1006335991216396,-1.1084672870151069,1.0115169993247746,0.8628879534962799,0.49107556584687034,-0.21460151922209592,-0.21167224031379164,-1.0868280793928702,0.1813077457259262,1.6048411477507714,-1.1129128593443407,0.13510904054871198,0.7363175261488993,0.30133889718720347,1.0968390103774157,-0.9215941053119098,1.1452096988910712,-0.0969211977387717,0.7832229582485118,1.0531791723051949,-0.6663370851946934,-0.7282508718905567,-1.688787692138687,0.2592955164616916,-0.35251940357111267,0.5255678646250175,0.1591013061134092,1.6392683058616393,-0.7594873429459711,0.3571677103292569,-1.9129516673080214,0.2812674212385775,2.9443484953104657,-1.2668238549208235,0.41322784242257693,1.206697949804835,1.0295637127428512,0.42415314431239537,-1.234242731046262,-0.005177234655683374,0.40215839443750323,0.5734568360798693,-0.981071428153688,-1.044181132406017,-0.5455429283558031,0.8723741296130654,-1.7382678852503126,-2.394203349842937,1.1200094352775187,-0.6221419105120386,0.28050386485521667,-0.21614849790735982,-0.5457390506690335,-2.3191277297140607,1.3524213867671204,0.12594824702172094,-0.02781084118179256,-1.0121863416508705,-0.1346075258918912,-0.2161185225683815,-1.4044793440674315,0.5103800616622387,-0.26035603985135364,0.7128604943441633,-0.09028399432601468,0.5214049330304661,-0.050307547047459246,-0.139890323143218,-1.2155801358748424,0.9627948608905095,0.8801238599064668,0.020185320431986706,1.6625023152013685,0.3816936279691013,0.34509760366963216,0.37972886845205844,0.4258913685657802,-0.22863620193291423,-1.4886214993845972,0.5486315743498743,-0.37552303459747266,-1.7087243821390654,-0.047214690067770786,0.21816361565301612,-0.18311601650778261,-0.8722852429063794,0.7996321791414022,1.4830013794585655,-1.8513851087254878,1.613906454791288,-1.5827358120075996,-0.2852339752587739,-1.1655837011030066,-1.3316526305662248,-0.058152616565652196,0.06088486005099269,-1.8538715257905751,-0.10795630868630458,-0.5169453758367406,0.05896114763704862,1.937674579815131,-0.43586910750577423,0.6301701523533102,0.2487690009306954,-0.5768590175830137,-0.23048178855369697,1.5829241162079017,-0.7064465895575457,-0.07800414606637208,0.9267040564138606,-0.9945444848093137,1.5232090046065017,0.5724140410636237,-0.5824132253983889,1.4758903927481846,0.7894141470303264,-0.34231970058963407,-0.7810319671697296,0.2072844838228586,-0.5588365519503141,-0.38971140833812906,0.21785672555286356,1.0289889419787783,-1.3145327761543142,0.18482300394128667,0.325360903405271,0.8234367426244258,0.7549608081461314,-0.24592878896044312,-0.8898589213424684,1.1296498601309384,-0.7646354208473364,-1.7613727579525837,-0.007885085352440032,-0.6550676125914235,-1.5382251668563758,2.9664757064106833,0.05136220368240336,0.9053762889413747,-0.9014199037894448,0.14416787795095554,0.5772481753295273,1.00066627733789,-1.484677774151373,-1.0470748306972992,-1.0394473595670013,1.0139539314489332,-0.2266635690751747,-2.906894044978705,0.3866286493770684,-0.22145896800858503,0.2723182682770941,-0.23515963148068272,-0.8867866717522348,-0.017926170650252895,0.1202193588446371,0.5167784095259662,-1.1692508750791701,0.12401321928940981,-0.7738107387476351,-0.9566254708018384,-0.26444548631561315,-1.6766931874405588,-1.5626958822528276,-1.0537752027800056,0.01008372961374793,0.07867473793517019,-1.6967402907609725,-1.896581525083377,-0.9524305910705916,0.9152100476428011,0.5403263954180979,-1.1951744668940307,-0.7586988875890001,-2.764229500397465,-1.058834908427951,-1.211320125788323,-1.4017384442446392,0.31423912897978823,0.40750676142202613,-0.12272730770175873,-0.16912280770312685,-0.17788138935751074,1.7377773904002787,-0.22395400729530127,0.1820734116872276,-0.7942279663986247,0.5582198101989171,0.8557186514611376,-0.4566546028122543,-0.4486886613225603,-0.462033243406978,1.7693450636612906,0.8493771531423921,-0.46690670588043465,0.6681701784956612,1.487470466970359,-1.592710230729672,-0.8893560759048776,0.9974415506640023,-0.11815807269381176,0.39085583078090946,-0.8678648114268143,-1.3232130718608561,1.2296438297962131,-1.7049252038650233,-0.1278833761359411,-0.9852621101243801,1.4511004245694241,-0.5107422042065087,0.35540352015450555,0.4608476569044969,0.4486668143051865,1.7038458179890796,1.2874981058355235,0.008172266049143288,1.3403757810053207,-0.48959248911528613,0.5761572892581875,-1.158663472942153,-2.3934735618828453,-2.0473455770351485,0.04363192875061731,0.9613481148956818,-0.23020568673440028,0.5268156949610865,0.9249023465550501,-0.23049076961016352,0.27160019016029285,0.34585203246608587,0.8663998050975331,-0.9774447107233512,-0.49791242970244515,-1.879355292075668,1.9648131850176263,-0.27336146294076935,0.4402545510186216,0.7274920462854855,0.26784305740453795,1.5272195480486723,-0.11650576271574038,1.203757674131996,-0.2400098004413862,0.5559898896596926,-0.25173079089603434,-0.17630458831284046,-0.584550466794726,1.3225811578308335,0.7294619170549295,0.7943615257625641,0.27209621340875817,-1.5785477719864265,0.3727682581763358,1.4550313417369363,1.3084602131497813,1.6908326835822265,-0.6751489947318258,-2.064870035828138,0.4935165233388467,0.8466278348395803,0.14975934344387587,-0.38709899368579576,-0.4914009940136751,-0.5018286362538411,-0.6533088785680246,1.054829047519902,0.49530987239203966,-0.021789443961921257,0.34301971407163234,0.384615463775324,-0.5202573280889718,0.955766575232318,0.47481063499827153,-0.4096097700355144,-0.7890433274251037,-1.3225480834101921,-1.4704335995087472,0.402125007984368,-0.7854528677118743,-0.8182638218352324,1.0890802638091794,0.39325131265035485,0.19159205137621324,-0.9898978880621447,-0.15653251538155546,1.1350151984266963,0.4330113225398728,-0.22662361863857208,1.2147557315772484,-1.0954533355276945,0.056981130154462885,1.085174429985138,0.14699559311323226,-0.49897601646505985,1.1989909816632942,0.6333982183822553,-0.9858404019714517,0.9646473937157795,-0.29878447694620397,0.038219071625085144,-1.7977606542818454,2.4301625828708593,-1.4225971964401587,-2.0545116148098432,-0.5543603071865605,-0.6588505749295496,1.2513627887378793,-0.8137948207943052,1.0422064628802337,-0.45192461570495496,-0.6497801405399549,-1.056516347348047,0.20440307609406713,1.0548270254772918,-0.570416040564116,0.6746325877971175,-0.4756361340610073,-0.7551924202762499,0.78069243348289,0.16415385377231234,-0.28675334369218347,0.30529160399932065,-0.2862858687531363,0.823671579756582,0.009792660113371647,0.3733208164001366,1.1993466973961242,-0.6027492101400286,-0.27046930406674846,-0.27937197120297924,-0.04930455118166517,0.0722552739941226,-1.4694929069425693,-0.6746960168843232,-0.6104468398467007,0.31013922462091476,-0.13520219674899842,1.2810838143310053,0.6346761225549629,0.6660497298057801,0.56872629264876,-0.71933362951576,0.016502895779975293,-1.2366498860403936,0.8115178064397559,0.8837234466172698,0.8352577811979678,1.3232430932241368,0.47543627781600223,0.08657443799251735,-1.039525159095973,0.48091097057485427,0.127197970073491,-1.745338456585933,-1.0008593606324803,-1.2375741669575637,-0.2676094462039642,0.029590830119454816,0.09694160474868284,-0.3623762651099337,-1.687778267088628,0.36560118017894544,-1.0608584180118896,0.24275606912664235,1.2723543462803888,0.8959132253067817,0.38105128916243275,-0.13942542910659975,0.004690457201917903,-1.5323061194361465,1.2902201186984674,-0.1675177290969658,-1.099215093653179,0.38281596578233895,-0.398418999693859,0.32140117646225186,0.36649377203199307,0.08223321776600259,-2.552523055574907,-0.7806267829411238,-0.27503823292083457,-1.5121006401915777,-0.421854097454241],\"y0\":\" \",\"yaxis\":\"y\",\"type\":\"box\"}],                        {\"template\":{\"data\":{\"histogram2dcontour\":[{\"type\":\"histogram2dcontour\",\"colorbar\":{\"outlinewidth\":0,\"ticks\":\"\"},\"colorscale\":[[0.0,\"#0d0887\"],[0.1111111111111111,\"#46039f\"],[0.2222222222222222,\"#7201a8\"],[0.3333333333333333,\"#9c179e\"],[0.4444444444444444,\"#bd3786\"],[0.5555555555555556,\"#d8576b\"],[0.6666666666666666,\"#ed7953\"],[0.7777777777777778,\"#fb9f3a\"],[0.8888888888888888,\"#fdca26\"],[1.0,\"#f0f921\"]]}],\"choropleth\":[{\"type\":\"choropleth\",\"colorbar\":{\"outlinewidth\":0,\"ticks\":\"\"}}],\"histogram2d\":[{\"type\":\"histogram2d\",\"colorbar\":{\"outlinewidth\":0,\"ticks\":\"\"},\"colorscale\":[[0.0,\"#0d0887\"],[0.1111111111111111,\"#46039f\"],[0.2222222222222222,\"#7201a8\"],[0.3333333333333333,\"#9c179e\"],[0.4444444444444444,\"#bd3786\"],[0.5555555555555556,\"#d8576b\"],[0.6666666666666666,\"#ed7953\"],[0.7777777777777778,\"#fb9f3a\"],[0.8888888888888888,\"#fdca26\"],[1.0,\"#f0f921\"]]}],\"heatmap\":[{\"type\":\"heatmap\",\"colorbar\":{\"outlinewidth\":0,\"ticks\":\"\"},\"colorscale\":[[0.0,\"#0d0887\"],[0.1111111111111111,\"#46039f\"],[0.2222222222222222,\"#7201a8\"],[0.3333333333333333,\"#9c179e\"],[0.4444444444444444,\"#bd3786\"],[0.5555555555555556,\"#d8576b\"],[0.6666666666666666,\"#ed7953\"],[0.7777777777777778,\"#fb9f3a\"],[0.8888888888888888,\"#fdca26\"],[1.0,\"#f0f921\"]]}],\"heatmapgl\":[{\"type\":\"heatmapgl\",\"colorbar\":{\"outlinewidth\":0,\"ticks\":\"\"},\"colorscale\":[[0.0,\"#0d0887\"],[0.1111111111111111,\"#46039f\"],[0.2222222222222222,\"#7201a8\"],[0.3333333333333333,\"#9c179e\"],[0.4444444444444444,\"#bd3786\"],[0.5555555555555556,\"#d8576b\"],[0.6666666666666666,\"#ed7953\"],[0.7777777777777778,\"#fb9f3a\"],[0.8888888888888888,\"#fdca26\"],[1.0,\"#f0f921\"]]}],\"contourcarpet\":[{\"type\":\"contourcarpet\",\"colorbar\":{\"outlinewidth\":0,\"ticks\":\"\"}}],\"contour\":[{\"type\":\"contour\",\"colorbar\":{\"outlinewidth\":0,\"ticks\":\"\"},\"colorscale\":[[0.0,\"#0d0887\"],[0.1111111111111111,\"#46039f\"],[0.2222222222222222,\"#7201a8\"],[0.3333333333333333,\"#9c179e\"],[0.4444444444444444,\"#bd3786\"],[0.5555555555555556,\"#d8576b\"],[0.6666666666666666,\"#ed7953\"],[0.7777777777777778,\"#fb9f3a\"],[0.8888888888888888,\"#fdca26\"],[1.0,\"#f0f921\"]]}],\"surface\":[{\"type\":\"surface\",\"colorbar\":{\"outlinewidth\":0,\"ticks\":\"\"},\"colorscale\":[[0.0,\"#0d0887\"],[0.1111111111111111,\"#46039f\"],[0.2222222222222222,\"#7201a8\"],[0.3333333333333333,\"#9c179e\"],[0.4444444444444444,\"#bd3786\"],[0.5555555555555556,\"#d8576b\"],[0.6666666666666666,\"#ed7953\"],[0.7777777777777778,\"#fb9f3a\"],[0.8888888888888888,\"#fdca26\"],[1.0,\"#f0f921\"]]}],\"mesh3d\":[{\"type\":\"mesh3d\",\"colorbar\":{\"outlinewidth\":0,\"ticks\":\"\"}}],\"scatter\":[{\"fillpattern\":{\"fillmode\":\"overlay\",\"size\":10,\"solidity\":0.2},\"type\":\"scatter\"}],\"parcoords\":[{\"type\":\"parcoords\",\"line\":{\"colorbar\":{\"outlinewidth\":0,\"ticks\":\"\"}}}],\"scatterpolargl\":[{\"type\":\"scatterpolargl\",\"marker\":{\"colorbar\":{\"outlinewidth\":0,\"ticks\":\"\"}}}],\"bar\":[{\"error_x\":{\"color\":\"#2a3f5f\"},\"error_y\":{\"color\":\"#2a3f5f\"},\"marker\":{\"line\":{\"color\":\"#E5ECF6\",\"width\":0.5},\"pattern\":{\"fillmode\":\"overlay\",\"size\":10,\"solidity\":0.2}},\"type\":\"bar\"}],\"scattergeo\":[{\"type\":\"scattergeo\",\"marker\":{\"colorbar\":{\"outlinewidth\":0,\"ticks\":\"\"}}}],\"scatterpolar\":[{\"type\":\"scatterpolar\",\"marker\":{\"colorbar\":{\"outlinewidth\":0,\"ticks\":\"\"}}}],\"histogram\":[{\"marker\":{\"pattern\":{\"fillmode\":\"overlay\",\"size\":10,\"solidity\":0.2}},\"type\":\"histogram\"}],\"scattergl\":[{\"type\":\"scattergl\",\"marker\":{\"colorbar\":{\"outlinewidth\":0,\"ticks\":\"\"}}}],\"scatter3d\":[{\"type\":\"scatter3d\",\"line\":{\"colorbar\":{\"outlinewidth\":0,\"ticks\":\"\"}},\"marker\":{\"colorbar\":{\"outlinewidth\":0,\"ticks\":\"\"}}}],\"scattermapbox\":[{\"type\":\"scattermapbox\",\"marker\":{\"colorbar\":{\"outlinewidth\":0,\"ticks\":\"\"}}}],\"scatterternary\":[{\"type\":\"scatterternary\",\"marker\":{\"colorbar\":{\"outlinewidth\":0,\"ticks\":\"\"}}}],\"scattercarpet\":[{\"type\":\"scattercarpet\",\"marker\":{\"colorbar\":{\"outlinewidth\":0,\"ticks\":\"\"}}}],\"carpet\":[{\"aaxis\":{\"endlinecolor\":\"#2a3f5f\",\"gridcolor\":\"white\",\"linecolor\":\"white\",\"minorgridcolor\":\"white\",\"startlinecolor\":\"#2a3f5f\"},\"baxis\":{\"endlinecolor\":\"#2a3f5f\",\"gridcolor\":\"white\",\"linecolor\":\"white\",\"minorgridcolor\":\"white\",\"startlinecolor\":\"#2a3f5f\"},\"type\":\"carpet\"}],\"table\":[{\"cells\":{\"fill\":{\"color\":\"#EBF0F8\"},\"line\":{\"color\":\"white\"}},\"header\":{\"fill\":{\"color\":\"#C8D4E3\"},\"line\":{\"color\":\"white\"}},\"type\":\"table\"}],\"barpolar\":[{\"marker\":{\"line\":{\"color\":\"#E5ECF6\",\"width\":0.5},\"pattern\":{\"fillmode\":\"overlay\",\"size\":10,\"solidity\":0.2}},\"type\":\"barpolar\"}],\"pie\":[{\"automargin\":true,\"type\":\"pie\"}]},\"layout\":{\"autotypenumbers\":\"strict\",\"colorway\":[\"#636efa\",\"#EF553B\",\"#00cc96\",\"#ab63fa\",\"#FFA15A\",\"#19d3f3\",\"#FF6692\",\"#B6E880\",\"#FF97FF\",\"#FECB52\"],\"font\":{\"color\":\"#2a3f5f\"},\"hovermode\":\"closest\",\"hoverlabel\":{\"align\":\"left\"},\"paper_bgcolor\":\"white\",\"plot_bgcolor\":\"#E5ECF6\",\"polar\":{\"bgcolor\":\"#E5ECF6\",\"angularaxis\":{\"gridcolor\":\"white\",\"linecolor\":\"white\",\"ticks\":\"\"},\"radialaxis\":{\"gridcolor\":\"white\",\"linecolor\":\"white\",\"ticks\":\"\"}},\"ternary\":{\"bgcolor\":\"#E5ECF6\",\"aaxis\":{\"gridcolor\":\"white\",\"linecolor\":\"white\",\"ticks\":\"\"},\"baxis\":{\"gridcolor\":\"white\",\"linecolor\":\"white\",\"ticks\":\"\"},\"caxis\":{\"gridcolor\":\"white\",\"linecolor\":\"white\",\"ticks\":\"\"}},\"coloraxis\":{\"colorbar\":{\"outlinewidth\":0,\"ticks\":\"\"}},\"colorscale\":{\"sequential\":[[0.0,\"#0d0887\"],[0.1111111111111111,\"#46039f\"],[0.2222222222222222,\"#7201a8\"],[0.3333333333333333,\"#9c179e\"],[0.4444444444444444,\"#bd3786\"],[0.5555555555555556,\"#d8576b\"],[0.6666666666666666,\"#ed7953\"],[0.7777777777777778,\"#fb9f3a\"],[0.8888888888888888,\"#fdca26\"],[1.0,\"#f0f921\"]],\"sequentialminus\":[[0.0,\"#0d0887\"],[0.1111111111111111,\"#46039f\"],[0.2222222222222222,\"#7201a8\"],[0.3333333333333333,\"#9c179e\"],[0.4444444444444444,\"#bd3786\"],[0.5555555555555556,\"#d8576b\"],[0.6666666666666666,\"#ed7953\"],[0.7777777777777778,\"#fb9f3a\"],[0.8888888888888888,\"#fdca26\"],[1.0,\"#f0f921\"]],\"diverging\":[[0,\"#8e0152\"],[0.1,\"#c51b7d\"],[0.2,\"#de77ae\"],[0.3,\"#f1b6da\"],[0.4,\"#fde0ef\"],[0.5,\"#f7f7f7\"],[0.6,\"#e6f5d0\"],[0.7,\"#b8e186\"],[0.8,\"#7fbc41\"],[0.9,\"#4d9221\"],[1,\"#276419\"]]},\"xaxis\":{\"gridcolor\":\"white\",\"linecolor\":\"white\",\"ticks\":\"\",\"title\":{\"standoff\":15},\"zerolinecolor\":\"white\",\"automargin\":true,\"zerolinewidth\":2},\"yaxis\":{\"gridcolor\":\"white\",\"linecolor\":\"white\",\"ticks\":\"\",\"title\":{\"standoff\":15},\"zerolinecolor\":\"white\",\"automargin\":true,\"zerolinewidth\":2},\"scene\":{\"xaxis\":{\"backgroundcolor\":\"#E5ECF6\",\"gridcolor\":\"white\",\"linecolor\":\"white\",\"showbackground\":true,\"ticks\":\"\",\"zerolinecolor\":\"white\",\"gridwidth\":2},\"yaxis\":{\"backgroundcolor\":\"#E5ECF6\",\"gridcolor\":\"white\",\"linecolor\":\"white\",\"showbackground\":true,\"ticks\":\"\",\"zerolinecolor\":\"white\",\"gridwidth\":2},\"zaxis\":{\"backgroundcolor\":\"#E5ECF6\",\"gridcolor\":\"white\",\"linecolor\":\"white\",\"showbackground\":true,\"ticks\":\"\",\"zerolinecolor\":\"white\",\"gridwidth\":2}},\"shapedefaults\":{\"line\":{\"color\":\"#2a3f5f\"}},\"annotationdefaults\":{\"arrowcolor\":\"#2a3f5f\",\"arrowhead\":0,\"arrowwidth\":1},\"geo\":{\"bgcolor\":\"white\",\"landcolor\":\"#E5ECF6\",\"subunitcolor\":\"white\",\"showland\":true,\"showlakes\":true,\"lakecolor\":\"white\"},\"title\":{\"x\":0.05},\"mapbox\":{\"style\":\"light\"}}},\"xaxis\":{\"anchor\":\"y\",\"domain\":[0.0,1.0],\"title\":{\"text\":\"variable\"}},\"yaxis\":{\"anchor\":\"x\",\"domain\":[0.0,1.0],\"title\":{\"text\":\"value\"}},\"legend\":{\"tracegroupgap\":0},\"title\":{\"text\":\"Dataframe One\"},\"boxmode\":\"group\"},                        {\"responsive\": true}                    ).then(function(){\n",
       "                            \n",
       "var gd = document.getElementById('2ab5b876-b893-44f9-b47d-bb88aed2a30f');\n",
       "var x = new MutationObserver(function (mutations, observer) {{\n",
       "        var display = window.getComputedStyle(gd).display;\n",
       "        if (!display || display === 'none') {{\n",
       "            console.log([gd, 'removed!']);\n",
       "            Plotly.purge(gd);\n",
       "            observer.disconnect();\n",
       "        }}\n",
       "}});\n",
       "\n",
       "// Listen for the removal of the full notebook cells\n",
       "var notebookContainer = gd.closest('#notebook-container');\n",
       "if (notebookContainer) {{\n",
       "    x.observe(notebookContainer, {childList: true});\n",
       "}}\n",
       "\n",
       "// Listen for the clearing of the current output cell\n",
       "var outputEl = gd.closest('.output');\n",
       "if (outputEl) {{\n",
       "    x.observe(outputEl, {childList: true});\n",
       "}}\n",
       "\n",
       "                        })                };                });            </script>        </div>"
      ]
     },
     "metadata": {},
     "output_type": "display_data"
    }
   ],
   "source": [
    "# Alternative method: px.box()\n",
    "fig = px.box(df1, title=\"Dataframe One\")\n",
    "fig.show()"
   ]
  },
  {
   "cell_type": "markdown",
   "metadata": {},
   "source": [
    "### 4. 3D Surface"
   ]
  },
  {
   "cell_type": "code",
   "execution_count": 87,
   "metadata": {
    "collapsed": false
   },
   "outputs": [
    {
     "data": {
      "application/vnd.plotly.v1+json": {
       "config": {
        "linkText": "Export to plot.ly",
        "plotlyServerURL": "https://plot.ly",
        "showLink": true
       },
       "data": [
        {
         "colorscale": [
          [
           0,
           "rgb(165,0,38)"
          ],
          [
           0.1,
           "rgb(215,48,39)"
          ],
          [
           0.2,
           "rgb(244,109,67)"
          ],
          [
           0.3,
           "rgb(253,174,97)"
          ],
          [
           0.4,
           "rgb(254,224,144)"
          ],
          [
           0.5,
           "rgb(255,255,191)"
          ],
          [
           0.6,
           "rgb(224,243,248)"
          ],
          [
           0.7,
           "rgb(171,217,233)"
          ],
          [
           0.8,
           "rgb(116,173,209)"
          ],
          [
           0.9,
           "rgb(69,117,180)"
          ],
          [
           1,
           "rgb(49,54,149)"
          ]
         ],
         "type": "surface",
         "x": [
          0,
          1,
          2,
          3,
          4
         ],
         "y": [
          "x",
          "y",
          "z"
         ],
         "z": [
          [
           1,
           2,
           3,
           4,
           5
          ],
          [
           10,
           20,
           30,
           20,
           10
          ],
          [
           5,
           4,
           3,
           2,
           1
          ]
         ]
        }
       ],
       "layout": {
        "legend": {
         "bgcolor": "#F5F6F9",
         "font": {
          "color": "#4D5663"
         }
        },
        "paper_bgcolor": "#F5F6F9",
        "plot_bgcolor": "#F5F6F9",
        "template": {
         "data": {
          "bar": [
           {
            "error_x": {
             "color": "#2a3f5f"
            },
            "error_y": {
             "color": "#2a3f5f"
            },
            "marker": {
             "line": {
              "color": "#E5ECF6",
              "width": 0.5
             },
             "pattern": {
              "fillmode": "overlay",
              "size": 10,
              "solidity": 0.2
             }
            },
            "type": "bar"
           }
          ],
          "barpolar": [
           {
            "marker": {
             "line": {
              "color": "#E5ECF6",
              "width": 0.5
             },
             "pattern": {
              "fillmode": "overlay",
              "size": 10,
              "solidity": 0.2
             }
            },
            "type": "barpolar"
           }
          ],
          "carpet": [
           {
            "aaxis": {
             "endlinecolor": "#2a3f5f",
             "gridcolor": "white",
             "linecolor": "white",
             "minorgridcolor": "white",
             "startlinecolor": "#2a3f5f"
            },
            "baxis": {
             "endlinecolor": "#2a3f5f",
             "gridcolor": "white",
             "linecolor": "white",
             "minorgridcolor": "white",
             "startlinecolor": "#2a3f5f"
            },
            "type": "carpet"
           }
          ],
          "choropleth": [
           {
            "colorbar": {
             "outlinewidth": 0,
             "ticks": ""
            },
            "type": "choropleth"
           }
          ],
          "contour": [
           {
            "colorbar": {
             "outlinewidth": 0,
             "ticks": ""
            },
            "colorscale": [
             [
              0,
              "#0d0887"
             ],
             [
              0.1111111111111111,
              "#46039f"
             ],
             [
              0.2222222222222222,
              "#7201a8"
             ],
             [
              0.3333333333333333,
              "#9c179e"
             ],
             [
              0.4444444444444444,
              "#bd3786"
             ],
             [
              0.5555555555555556,
              "#d8576b"
             ],
             [
              0.6666666666666666,
              "#ed7953"
             ],
             [
              0.7777777777777778,
              "#fb9f3a"
             ],
             [
              0.8888888888888888,
              "#fdca26"
             ],
             [
              1,
              "#f0f921"
             ]
            ],
            "type": "contour"
           }
          ],
          "contourcarpet": [
           {
            "colorbar": {
             "outlinewidth": 0,
             "ticks": ""
            },
            "type": "contourcarpet"
           }
          ],
          "heatmap": [
           {
            "colorbar": {
             "outlinewidth": 0,
             "ticks": ""
            },
            "colorscale": [
             [
              0,
              "#0d0887"
             ],
             [
              0.1111111111111111,
              "#46039f"
             ],
             [
              0.2222222222222222,
              "#7201a8"
             ],
             [
              0.3333333333333333,
              "#9c179e"
             ],
             [
              0.4444444444444444,
              "#bd3786"
             ],
             [
              0.5555555555555556,
              "#d8576b"
             ],
             [
              0.6666666666666666,
              "#ed7953"
             ],
             [
              0.7777777777777778,
              "#fb9f3a"
             ],
             [
              0.8888888888888888,
              "#fdca26"
             ],
             [
              1,
              "#f0f921"
             ]
            ],
            "type": "heatmap"
           }
          ],
          "heatmapgl": [
           {
            "colorbar": {
             "outlinewidth": 0,
             "ticks": ""
            },
            "colorscale": [
             [
              0,
              "#0d0887"
             ],
             [
              0.1111111111111111,
              "#46039f"
             ],
             [
              0.2222222222222222,
              "#7201a8"
             ],
             [
              0.3333333333333333,
              "#9c179e"
             ],
             [
              0.4444444444444444,
              "#bd3786"
             ],
             [
              0.5555555555555556,
              "#d8576b"
             ],
             [
              0.6666666666666666,
              "#ed7953"
             ],
             [
              0.7777777777777778,
              "#fb9f3a"
             ],
             [
              0.8888888888888888,
              "#fdca26"
             ],
             [
              1,
              "#f0f921"
             ]
            ],
            "type": "heatmapgl"
           }
          ],
          "histogram": [
           {
            "marker": {
             "pattern": {
              "fillmode": "overlay",
              "size": 10,
              "solidity": 0.2
             }
            },
            "type": "histogram"
           }
          ],
          "histogram2d": [
           {
            "colorbar": {
             "outlinewidth": 0,
             "ticks": ""
            },
            "colorscale": [
             [
              0,
              "#0d0887"
             ],
             [
              0.1111111111111111,
              "#46039f"
             ],
             [
              0.2222222222222222,
              "#7201a8"
             ],
             [
              0.3333333333333333,
              "#9c179e"
             ],
             [
              0.4444444444444444,
              "#bd3786"
             ],
             [
              0.5555555555555556,
              "#d8576b"
             ],
             [
              0.6666666666666666,
              "#ed7953"
             ],
             [
              0.7777777777777778,
              "#fb9f3a"
             ],
             [
              0.8888888888888888,
              "#fdca26"
             ],
             [
              1,
              "#f0f921"
             ]
            ],
            "type": "histogram2d"
           }
          ],
          "histogram2dcontour": [
           {
            "colorbar": {
             "outlinewidth": 0,
             "ticks": ""
            },
            "colorscale": [
             [
              0,
              "#0d0887"
             ],
             [
              0.1111111111111111,
              "#46039f"
             ],
             [
              0.2222222222222222,
              "#7201a8"
             ],
             [
              0.3333333333333333,
              "#9c179e"
             ],
             [
              0.4444444444444444,
              "#bd3786"
             ],
             [
              0.5555555555555556,
              "#d8576b"
             ],
             [
              0.6666666666666666,
              "#ed7953"
             ],
             [
              0.7777777777777778,
              "#fb9f3a"
             ],
             [
              0.8888888888888888,
              "#fdca26"
             ],
             [
              1,
              "#f0f921"
             ]
            ],
            "type": "histogram2dcontour"
           }
          ],
          "mesh3d": [
           {
            "colorbar": {
             "outlinewidth": 0,
             "ticks": ""
            },
            "type": "mesh3d"
           }
          ],
          "parcoords": [
           {
            "line": {
             "colorbar": {
              "outlinewidth": 0,
              "ticks": ""
             }
            },
            "type": "parcoords"
           }
          ],
          "pie": [
           {
            "automargin": true,
            "type": "pie"
           }
          ],
          "scatter": [
           {
            "fillpattern": {
             "fillmode": "overlay",
             "size": 10,
             "solidity": 0.2
            },
            "type": "scatter"
           }
          ],
          "scatter3d": [
           {
            "line": {
             "colorbar": {
              "outlinewidth": 0,
              "ticks": ""
             }
            },
            "marker": {
             "colorbar": {
              "outlinewidth": 0,
              "ticks": ""
             }
            },
            "type": "scatter3d"
           }
          ],
          "scattercarpet": [
           {
            "marker": {
             "colorbar": {
              "outlinewidth": 0,
              "ticks": ""
             }
            },
            "type": "scattercarpet"
           }
          ],
          "scattergeo": [
           {
            "marker": {
             "colorbar": {
              "outlinewidth": 0,
              "ticks": ""
             }
            },
            "type": "scattergeo"
           }
          ],
          "scattergl": [
           {
            "marker": {
             "colorbar": {
              "outlinewidth": 0,
              "ticks": ""
             }
            },
            "type": "scattergl"
           }
          ],
          "scattermapbox": [
           {
            "marker": {
             "colorbar": {
              "outlinewidth": 0,
              "ticks": ""
             }
            },
            "type": "scattermapbox"
           }
          ],
          "scatterpolar": [
           {
            "marker": {
             "colorbar": {
              "outlinewidth": 0,
              "ticks": ""
             }
            },
            "type": "scatterpolar"
           }
          ],
          "scatterpolargl": [
           {
            "marker": {
             "colorbar": {
              "outlinewidth": 0,
              "ticks": ""
             }
            },
            "type": "scatterpolargl"
           }
          ],
          "scatterternary": [
           {
            "marker": {
             "colorbar": {
              "outlinewidth": 0,
              "ticks": ""
             }
            },
            "type": "scatterternary"
           }
          ],
          "surface": [
           {
            "colorbar": {
             "outlinewidth": 0,
             "ticks": ""
            },
            "colorscale": [
             [
              0,
              "#0d0887"
             ],
             [
              0.1111111111111111,
              "#46039f"
             ],
             [
              0.2222222222222222,
              "#7201a8"
             ],
             [
              0.3333333333333333,
              "#9c179e"
             ],
             [
              0.4444444444444444,
              "#bd3786"
             ],
             [
              0.5555555555555556,
              "#d8576b"
             ],
             [
              0.6666666666666666,
              "#ed7953"
             ],
             [
              0.7777777777777778,
              "#fb9f3a"
             ],
             [
              0.8888888888888888,
              "#fdca26"
             ],
             [
              1,
              "#f0f921"
             ]
            ],
            "type": "surface"
           }
          ],
          "table": [
           {
            "cells": {
             "fill": {
              "color": "#EBF0F8"
             },
             "line": {
              "color": "white"
             }
            },
            "header": {
             "fill": {
              "color": "#C8D4E3"
             },
             "line": {
              "color": "white"
             }
            },
            "type": "table"
           }
          ]
         },
         "layout": {
          "annotationdefaults": {
           "arrowcolor": "#2a3f5f",
           "arrowhead": 0,
           "arrowwidth": 1
          },
          "autotypenumbers": "strict",
          "coloraxis": {
           "colorbar": {
            "outlinewidth": 0,
            "ticks": ""
           }
          },
          "colorscale": {
           "diverging": [
            [
             0,
             "#8e0152"
            ],
            [
             0.1,
             "#c51b7d"
            ],
            [
             0.2,
             "#de77ae"
            ],
            [
             0.3,
             "#f1b6da"
            ],
            [
             0.4,
             "#fde0ef"
            ],
            [
             0.5,
             "#f7f7f7"
            ],
            [
             0.6,
             "#e6f5d0"
            ],
            [
             0.7,
             "#b8e186"
            ],
            [
             0.8,
             "#7fbc41"
            ],
            [
             0.9,
             "#4d9221"
            ],
            [
             1,
             "#276419"
            ]
           ],
           "sequential": [
            [
             0,
             "#0d0887"
            ],
            [
             0.1111111111111111,
             "#46039f"
            ],
            [
             0.2222222222222222,
             "#7201a8"
            ],
            [
             0.3333333333333333,
             "#9c179e"
            ],
            [
             0.4444444444444444,
             "#bd3786"
            ],
            [
             0.5555555555555556,
             "#d8576b"
            ],
            [
             0.6666666666666666,
             "#ed7953"
            ],
            [
             0.7777777777777778,
             "#fb9f3a"
            ],
            [
             0.8888888888888888,
             "#fdca26"
            ],
            [
             1,
             "#f0f921"
            ]
           ],
           "sequentialminus": [
            [
             0,
             "#0d0887"
            ],
            [
             0.1111111111111111,
             "#46039f"
            ],
            [
             0.2222222222222222,
             "#7201a8"
            ],
            [
             0.3333333333333333,
             "#9c179e"
            ],
            [
             0.4444444444444444,
             "#bd3786"
            ],
            [
             0.5555555555555556,
             "#d8576b"
            ],
            [
             0.6666666666666666,
             "#ed7953"
            ],
            [
             0.7777777777777778,
             "#fb9f3a"
            ],
            [
             0.8888888888888888,
             "#fdca26"
            ],
            [
             1,
             "#f0f921"
            ]
           ]
          },
          "colorway": [
           "#636efa",
           "#EF553B",
           "#00cc96",
           "#ab63fa",
           "#FFA15A",
           "#19d3f3",
           "#FF6692",
           "#B6E880",
           "#FF97FF",
           "#FECB52"
          ],
          "font": {
           "color": "#2a3f5f"
          },
          "geo": {
           "bgcolor": "white",
           "lakecolor": "white",
           "landcolor": "#E5ECF6",
           "showlakes": true,
           "showland": true,
           "subunitcolor": "white"
          },
          "hoverlabel": {
           "align": "left"
          },
          "hovermode": "closest",
          "mapbox": {
           "style": "light"
          },
          "paper_bgcolor": "white",
          "plot_bgcolor": "#E5ECF6",
          "polar": {
           "angularaxis": {
            "gridcolor": "white",
            "linecolor": "white",
            "ticks": ""
           },
           "bgcolor": "#E5ECF6",
           "radialaxis": {
            "gridcolor": "white",
            "linecolor": "white",
            "ticks": ""
           }
          },
          "scene": {
           "xaxis": {
            "backgroundcolor": "#E5ECF6",
            "gridcolor": "white",
            "gridwidth": 2,
            "linecolor": "white",
            "showbackground": true,
            "ticks": "",
            "zerolinecolor": "white"
           },
           "yaxis": {
            "backgroundcolor": "#E5ECF6",
            "gridcolor": "white",
            "gridwidth": 2,
            "linecolor": "white",
            "showbackground": true,
            "ticks": "",
            "zerolinecolor": "white"
           },
           "zaxis": {
            "backgroundcolor": "#E5ECF6",
            "gridcolor": "white",
            "gridwidth": 2,
            "linecolor": "white",
            "showbackground": true,
            "ticks": "",
            "zerolinecolor": "white"
           }
          },
          "shapedefaults": {
           "line": {
            "color": "#2a3f5f"
           }
          },
          "ternary": {
           "aaxis": {
            "gridcolor": "white",
            "linecolor": "white",
            "ticks": ""
           },
           "baxis": {
            "gridcolor": "white",
            "linecolor": "white",
            "ticks": ""
           },
           "bgcolor": "#E5ECF6",
           "caxis": {
            "gridcolor": "white",
            "linecolor": "white",
            "ticks": ""
           }
          },
          "title": {
           "x": 0.05
          },
          "xaxis": {
           "automargin": true,
           "gridcolor": "white",
           "linecolor": "white",
           "ticks": "",
           "title": {
            "standoff": 15
           },
           "zerolinecolor": "white",
           "zerolinewidth": 2
          },
          "yaxis": {
           "automargin": true,
           "gridcolor": "white",
           "linecolor": "white",
           "ticks": "",
           "title": {
            "standoff": 15
           },
           "zerolinecolor": "white",
           "zerolinewidth": 2
          }
         }
        },
        "title": {
         "font": {
          "color": "#4D5663"
         }
        },
        "xaxis": {
         "gridcolor": "#E1E5ED",
         "showgrid": true,
         "tickfont": {
          "color": "#4D5663"
         },
         "title": {
          "font": {
           "color": "#4D5663"
          },
          "text": ""
         },
         "zerolinecolor": "#E1E5ED"
        },
        "yaxis": {
         "gridcolor": "#E1E5ED",
         "showgrid": true,
         "tickfont": {
          "color": "#4D5663"
         },
         "title": {
          "font": {
           "color": "#4D5663"
          },
          "text": ""
         },
         "zerolinecolor": "#E1E5ED"
        }
       }
      },
      "text/html": [
       "<div>                            <div id=\"2c18014d-8d70-4c72-8591-2d304a50449d\" class=\"plotly-graph-div\" style=\"height:525px; width:100%;\"></div>            <script type=\"text/javascript\">                require([\"plotly\"], function(Plotly) {                    window.PLOTLYENV=window.PLOTLYENV || {};\n",
       "                    window.PLOTLYENV.BASE_URL='https://plot.ly';                                    if (document.getElementById(\"2c18014d-8d70-4c72-8591-2d304a50449d\")) {                    Plotly.newPlot(                        \"2c18014d-8d70-4c72-8591-2d304a50449d\",                        [{\"colorscale\":[[0.0,\"rgb(165,0,38)\"],[0.1,\"rgb(215,48,39)\"],[0.2,\"rgb(244,109,67)\"],[0.3,\"rgb(253,174,97)\"],[0.4,\"rgb(254,224,144)\"],[0.5,\"rgb(255,255,191)\"],[0.6,\"rgb(224,243,248)\"],[0.7,\"rgb(171,217,233)\"],[0.8,\"rgb(116,173,209)\"],[0.9,\"rgb(69,117,180)\"],[1.0,\"rgb(49,54,149)\"]],\"x\":[0,1,2,3,4],\"y\":[\"x\",\"y\",\"z\"],\"z\":[[1,2,3,4,5],[10,20,30,20,10],[5,4,3,2,1]],\"type\":\"surface\"}],                        {\"legend\":{\"bgcolor\":\"#F5F6F9\",\"font\":{\"color\":\"#4D5663\"}},\"paper_bgcolor\":\"#F5F6F9\",\"plot_bgcolor\":\"#F5F6F9\",\"template\":{\"data\":{\"barpolar\":[{\"marker\":{\"line\":{\"color\":\"#E5ECF6\",\"width\":0.5},\"pattern\":{\"fillmode\":\"overlay\",\"size\":10,\"solidity\":0.2}},\"type\":\"barpolar\"}],\"bar\":[{\"error_x\":{\"color\":\"#2a3f5f\"},\"error_y\":{\"color\":\"#2a3f5f\"},\"marker\":{\"line\":{\"color\":\"#E5ECF6\",\"width\":0.5},\"pattern\":{\"fillmode\":\"overlay\",\"size\":10,\"solidity\":0.2}},\"type\":\"bar\"}],\"carpet\":[{\"aaxis\":{\"endlinecolor\":\"#2a3f5f\",\"gridcolor\":\"white\",\"linecolor\":\"white\",\"minorgridcolor\":\"white\",\"startlinecolor\":\"#2a3f5f\"},\"baxis\":{\"endlinecolor\":\"#2a3f5f\",\"gridcolor\":\"white\",\"linecolor\":\"white\",\"minorgridcolor\":\"white\",\"startlinecolor\":\"#2a3f5f\"},\"type\":\"carpet\"}],\"choropleth\":[{\"colorbar\":{\"outlinewidth\":0,\"ticks\":\"\"},\"type\":\"choropleth\"}],\"contourcarpet\":[{\"colorbar\":{\"outlinewidth\":0,\"ticks\":\"\"},\"type\":\"contourcarpet\"}],\"contour\":[{\"colorbar\":{\"outlinewidth\":0,\"ticks\":\"\"},\"colorscale\":[[0.0,\"#0d0887\"],[0.1111111111111111,\"#46039f\"],[0.2222222222222222,\"#7201a8\"],[0.3333333333333333,\"#9c179e\"],[0.4444444444444444,\"#bd3786\"],[0.5555555555555556,\"#d8576b\"],[0.6666666666666666,\"#ed7953\"],[0.7777777777777778,\"#fb9f3a\"],[0.8888888888888888,\"#fdca26\"],[1.0,\"#f0f921\"]],\"type\":\"contour\"}],\"heatmapgl\":[{\"colorbar\":{\"outlinewidth\":0,\"ticks\":\"\"},\"colorscale\":[[0.0,\"#0d0887\"],[0.1111111111111111,\"#46039f\"],[0.2222222222222222,\"#7201a8\"],[0.3333333333333333,\"#9c179e\"],[0.4444444444444444,\"#bd3786\"],[0.5555555555555556,\"#d8576b\"],[0.6666666666666666,\"#ed7953\"],[0.7777777777777778,\"#fb9f3a\"],[0.8888888888888888,\"#fdca26\"],[1.0,\"#f0f921\"]],\"type\":\"heatmapgl\"}],\"heatmap\":[{\"colorbar\":{\"outlinewidth\":0,\"ticks\":\"\"},\"colorscale\":[[0.0,\"#0d0887\"],[0.1111111111111111,\"#46039f\"],[0.2222222222222222,\"#7201a8\"],[0.3333333333333333,\"#9c179e\"],[0.4444444444444444,\"#bd3786\"],[0.5555555555555556,\"#d8576b\"],[0.6666666666666666,\"#ed7953\"],[0.7777777777777778,\"#fb9f3a\"],[0.8888888888888888,\"#fdca26\"],[1.0,\"#f0f921\"]],\"type\":\"heatmap\"}],\"histogram2dcontour\":[{\"colorbar\":{\"outlinewidth\":0,\"ticks\":\"\"},\"colorscale\":[[0.0,\"#0d0887\"],[0.1111111111111111,\"#46039f\"],[0.2222222222222222,\"#7201a8\"],[0.3333333333333333,\"#9c179e\"],[0.4444444444444444,\"#bd3786\"],[0.5555555555555556,\"#d8576b\"],[0.6666666666666666,\"#ed7953\"],[0.7777777777777778,\"#fb9f3a\"],[0.8888888888888888,\"#fdca26\"],[1.0,\"#f0f921\"]],\"type\":\"histogram2dcontour\"}],\"histogram2d\":[{\"colorbar\":{\"outlinewidth\":0,\"ticks\":\"\"},\"colorscale\":[[0.0,\"#0d0887\"],[0.1111111111111111,\"#46039f\"],[0.2222222222222222,\"#7201a8\"],[0.3333333333333333,\"#9c179e\"],[0.4444444444444444,\"#bd3786\"],[0.5555555555555556,\"#d8576b\"],[0.6666666666666666,\"#ed7953\"],[0.7777777777777778,\"#fb9f3a\"],[0.8888888888888888,\"#fdca26\"],[1.0,\"#f0f921\"]],\"type\":\"histogram2d\"}],\"histogram\":[{\"marker\":{\"pattern\":{\"fillmode\":\"overlay\",\"size\":10,\"solidity\":0.2}},\"type\":\"histogram\"}],\"mesh3d\":[{\"colorbar\":{\"outlinewidth\":0,\"ticks\":\"\"},\"type\":\"mesh3d\"}],\"parcoords\":[{\"line\":{\"colorbar\":{\"outlinewidth\":0,\"ticks\":\"\"}},\"type\":\"parcoords\"}],\"pie\":[{\"automargin\":true,\"type\":\"pie\"}],\"scatter3d\":[{\"line\":{\"colorbar\":{\"outlinewidth\":0,\"ticks\":\"\"}},\"marker\":{\"colorbar\":{\"outlinewidth\":0,\"ticks\":\"\"}},\"type\":\"scatter3d\"}],\"scattercarpet\":[{\"marker\":{\"colorbar\":{\"outlinewidth\":0,\"ticks\":\"\"}},\"type\":\"scattercarpet\"}],\"scattergeo\":[{\"marker\":{\"colorbar\":{\"outlinewidth\":0,\"ticks\":\"\"}},\"type\":\"scattergeo\"}],\"scattergl\":[{\"marker\":{\"colorbar\":{\"outlinewidth\":0,\"ticks\":\"\"}},\"type\":\"scattergl\"}],\"scattermapbox\":[{\"marker\":{\"colorbar\":{\"outlinewidth\":0,\"ticks\":\"\"}},\"type\":\"scattermapbox\"}],\"scatterpolargl\":[{\"marker\":{\"colorbar\":{\"outlinewidth\":0,\"ticks\":\"\"}},\"type\":\"scatterpolargl\"}],\"scatterpolar\":[{\"marker\":{\"colorbar\":{\"outlinewidth\":0,\"ticks\":\"\"}},\"type\":\"scatterpolar\"}],\"scatter\":[{\"fillpattern\":{\"fillmode\":\"overlay\",\"size\":10,\"solidity\":0.2},\"type\":\"scatter\"}],\"scatterternary\":[{\"marker\":{\"colorbar\":{\"outlinewidth\":0,\"ticks\":\"\"}},\"type\":\"scatterternary\"}],\"surface\":[{\"colorbar\":{\"outlinewidth\":0,\"ticks\":\"\"},\"colorscale\":[[0.0,\"#0d0887\"],[0.1111111111111111,\"#46039f\"],[0.2222222222222222,\"#7201a8\"],[0.3333333333333333,\"#9c179e\"],[0.4444444444444444,\"#bd3786\"],[0.5555555555555556,\"#d8576b\"],[0.6666666666666666,\"#ed7953\"],[0.7777777777777778,\"#fb9f3a\"],[0.8888888888888888,\"#fdca26\"],[1.0,\"#f0f921\"]],\"type\":\"surface\"}],\"table\":[{\"cells\":{\"fill\":{\"color\":\"#EBF0F8\"},\"line\":{\"color\":\"white\"}},\"header\":{\"fill\":{\"color\":\"#C8D4E3\"},\"line\":{\"color\":\"white\"}},\"type\":\"table\"}]},\"layout\":{\"annotationdefaults\":{\"arrowcolor\":\"#2a3f5f\",\"arrowhead\":0,\"arrowwidth\":1},\"autotypenumbers\":\"strict\",\"coloraxis\":{\"colorbar\":{\"outlinewidth\":0,\"ticks\":\"\"}},\"colorscale\":{\"diverging\":[[0,\"#8e0152\"],[0.1,\"#c51b7d\"],[0.2,\"#de77ae\"],[0.3,\"#f1b6da\"],[0.4,\"#fde0ef\"],[0.5,\"#f7f7f7\"],[0.6,\"#e6f5d0\"],[0.7,\"#b8e186\"],[0.8,\"#7fbc41\"],[0.9,\"#4d9221\"],[1,\"#276419\"]],\"sequential\":[[0.0,\"#0d0887\"],[0.1111111111111111,\"#46039f\"],[0.2222222222222222,\"#7201a8\"],[0.3333333333333333,\"#9c179e\"],[0.4444444444444444,\"#bd3786\"],[0.5555555555555556,\"#d8576b\"],[0.6666666666666666,\"#ed7953\"],[0.7777777777777778,\"#fb9f3a\"],[0.8888888888888888,\"#fdca26\"],[1.0,\"#f0f921\"]],\"sequentialminus\":[[0.0,\"#0d0887\"],[0.1111111111111111,\"#46039f\"],[0.2222222222222222,\"#7201a8\"],[0.3333333333333333,\"#9c179e\"],[0.4444444444444444,\"#bd3786\"],[0.5555555555555556,\"#d8576b\"],[0.6666666666666666,\"#ed7953\"],[0.7777777777777778,\"#fb9f3a\"],[0.8888888888888888,\"#fdca26\"],[1.0,\"#f0f921\"]]},\"colorway\":[\"#636efa\",\"#EF553B\",\"#00cc96\",\"#ab63fa\",\"#FFA15A\",\"#19d3f3\",\"#FF6692\",\"#B6E880\",\"#FF97FF\",\"#FECB52\"],\"font\":{\"color\":\"#2a3f5f\"},\"geo\":{\"bgcolor\":\"white\",\"lakecolor\":\"white\",\"landcolor\":\"#E5ECF6\",\"showlakes\":true,\"showland\":true,\"subunitcolor\":\"white\"},\"hoverlabel\":{\"align\":\"left\"},\"hovermode\":\"closest\",\"mapbox\":{\"style\":\"light\"},\"paper_bgcolor\":\"white\",\"plot_bgcolor\":\"#E5ECF6\",\"polar\":{\"angularaxis\":{\"gridcolor\":\"white\",\"linecolor\":\"white\",\"ticks\":\"\"},\"bgcolor\":\"#E5ECF6\",\"radialaxis\":{\"gridcolor\":\"white\",\"linecolor\":\"white\",\"ticks\":\"\"}},\"scene\":{\"xaxis\":{\"backgroundcolor\":\"#E5ECF6\",\"gridcolor\":\"white\",\"gridwidth\":2,\"linecolor\":\"white\",\"showbackground\":true,\"ticks\":\"\",\"zerolinecolor\":\"white\"},\"yaxis\":{\"backgroundcolor\":\"#E5ECF6\",\"gridcolor\":\"white\",\"gridwidth\":2,\"linecolor\":\"white\",\"showbackground\":true,\"ticks\":\"\",\"zerolinecolor\":\"white\"},\"zaxis\":{\"backgroundcolor\":\"#E5ECF6\",\"gridcolor\":\"white\",\"gridwidth\":2,\"linecolor\":\"white\",\"showbackground\":true,\"ticks\":\"\",\"zerolinecolor\":\"white\"}},\"shapedefaults\":{\"line\":{\"color\":\"#2a3f5f\"}},\"ternary\":{\"aaxis\":{\"gridcolor\":\"white\",\"linecolor\":\"white\",\"ticks\":\"\"},\"baxis\":{\"gridcolor\":\"white\",\"linecolor\":\"white\",\"ticks\":\"\"},\"bgcolor\":\"#E5ECF6\",\"caxis\":{\"gridcolor\":\"white\",\"linecolor\":\"white\",\"ticks\":\"\"}},\"title\":{\"x\":0.05},\"xaxis\":{\"automargin\":true,\"gridcolor\":\"white\",\"linecolor\":\"white\",\"ticks\":\"\",\"title\":{\"standoff\":15},\"zerolinecolor\":\"white\",\"zerolinewidth\":2},\"yaxis\":{\"automargin\":true,\"gridcolor\":\"white\",\"linecolor\":\"white\",\"ticks\":\"\",\"title\":{\"standoff\":15},\"zerolinecolor\":\"white\",\"zerolinewidth\":2}}},\"title\":{\"font\":{\"color\":\"#4D5663\"}},\"xaxis\":{\"gridcolor\":\"#E1E5ED\",\"showgrid\":true,\"tickfont\":{\"color\":\"#4D5663\"},\"title\":{\"font\":{\"color\":\"#4D5663\"},\"text\":\"\"},\"zerolinecolor\":\"#E1E5ED\"},\"yaxis\":{\"gridcolor\":\"#E1E5ED\",\"showgrid\":true,\"tickfont\":{\"color\":\"#4D5663\"},\"title\":{\"font\":{\"color\":\"#4D5663\"},\"text\":\"\"},\"zerolinecolor\":\"#E1E5ED\"}},                        {\"showLink\": true, \"linkText\": \"Export to plot.ly\", \"plotlyServerURL\": \"https://plot.ly\", \"responsive\": true}                    ).then(function(){\n",
       "                            \n",
       "var gd = document.getElementById('2c18014d-8d70-4c72-8591-2d304a50449d');\n",
       "var x = new MutationObserver(function (mutations, observer) {{\n",
       "        var display = window.getComputedStyle(gd).display;\n",
       "        if (!display || display === 'none') {{\n",
       "            console.log([gd, 'removed!']);\n",
       "            Plotly.purge(gd);\n",
       "            observer.disconnect();\n",
       "        }}\n",
       "}});\n",
       "\n",
       "// Listen for the removal of the full notebook cells\n",
       "var notebookContainer = gd.closest('#notebook-container');\n",
       "if (notebookContainer) {{\n",
       "    x.observe(notebookContainer, {childList: true});\n",
       "}}\n",
       "\n",
       "// Listen for the clearing of the current output cell\n",
       "var outputEl = gd.closest('.output');\n",
       "if (outputEl) {{\n",
       "    x.observe(outputEl, {childList: true});\n",
       "}}\n",
       "\n",
       "                        })                };                });            </script>        </div>"
      ]
     },
     "metadata": {},
     "output_type": "display_data"
    }
   ],
   "source": [
    "# Rotation and zoom in is possible\n",
    "df3 = pd.DataFrame({'x':[1,2,3,4,5], 'y':[10,20,30,20,10], 'z':[5,4,3,2,1]})\n",
    "df3.iplot(kind='surface', colorscale='rdylbu')"
   ]
  },
  {
   "cell_type": "code",
   "execution_count": 48,
   "metadata": {},
   "outputs": [
    {
     "data": {
      "application/vnd.plotly.v1+json": {
       "config": {
        "plotlyServerURL": "https://plot.ly"
       },
       "data": [
        {
         "type": "surface",
         "z": [
          [
           1,
           10,
           5
          ],
          [
           2,
           20,
           4
          ],
          [
           3,
           30,
           3
          ],
          [
           4,
           20,
           2
          ],
          [
           5,
           10,
           1
          ]
         ]
        }
       ],
       "layout": {
        "autosize": true,
        "height": 500,
        "margin": {
         "b": 65,
         "l": 65,
         "r": 50,
         "t": 90
        },
        "template": {
         "data": {
          "bar": [
           {
            "error_x": {
             "color": "#2a3f5f"
            },
            "error_y": {
             "color": "#2a3f5f"
            },
            "marker": {
             "line": {
              "color": "#E5ECF6",
              "width": 0.5
             },
             "pattern": {
              "fillmode": "overlay",
              "size": 10,
              "solidity": 0.2
             }
            },
            "type": "bar"
           }
          ],
          "barpolar": [
           {
            "marker": {
             "line": {
              "color": "#E5ECF6",
              "width": 0.5
             },
             "pattern": {
              "fillmode": "overlay",
              "size": 10,
              "solidity": 0.2
             }
            },
            "type": "barpolar"
           }
          ],
          "carpet": [
           {
            "aaxis": {
             "endlinecolor": "#2a3f5f",
             "gridcolor": "white",
             "linecolor": "white",
             "minorgridcolor": "white",
             "startlinecolor": "#2a3f5f"
            },
            "baxis": {
             "endlinecolor": "#2a3f5f",
             "gridcolor": "white",
             "linecolor": "white",
             "minorgridcolor": "white",
             "startlinecolor": "#2a3f5f"
            },
            "type": "carpet"
           }
          ],
          "choropleth": [
           {
            "colorbar": {
             "outlinewidth": 0,
             "ticks": ""
            },
            "type": "choropleth"
           }
          ],
          "contour": [
           {
            "colorbar": {
             "outlinewidth": 0,
             "ticks": ""
            },
            "colorscale": [
             [
              0,
              "#0d0887"
             ],
             [
              0.1111111111111111,
              "#46039f"
             ],
             [
              0.2222222222222222,
              "#7201a8"
             ],
             [
              0.3333333333333333,
              "#9c179e"
             ],
             [
              0.4444444444444444,
              "#bd3786"
             ],
             [
              0.5555555555555556,
              "#d8576b"
             ],
             [
              0.6666666666666666,
              "#ed7953"
             ],
             [
              0.7777777777777778,
              "#fb9f3a"
             ],
             [
              0.8888888888888888,
              "#fdca26"
             ],
             [
              1,
              "#f0f921"
             ]
            ],
            "type": "contour"
           }
          ],
          "contourcarpet": [
           {
            "colorbar": {
             "outlinewidth": 0,
             "ticks": ""
            },
            "type": "contourcarpet"
           }
          ],
          "heatmap": [
           {
            "colorbar": {
             "outlinewidth": 0,
             "ticks": ""
            },
            "colorscale": [
             [
              0,
              "#0d0887"
             ],
             [
              0.1111111111111111,
              "#46039f"
             ],
             [
              0.2222222222222222,
              "#7201a8"
             ],
             [
              0.3333333333333333,
              "#9c179e"
             ],
             [
              0.4444444444444444,
              "#bd3786"
             ],
             [
              0.5555555555555556,
              "#d8576b"
             ],
             [
              0.6666666666666666,
              "#ed7953"
             ],
             [
              0.7777777777777778,
              "#fb9f3a"
             ],
             [
              0.8888888888888888,
              "#fdca26"
             ],
             [
              1,
              "#f0f921"
             ]
            ],
            "type": "heatmap"
           }
          ],
          "heatmapgl": [
           {
            "colorbar": {
             "outlinewidth": 0,
             "ticks": ""
            },
            "colorscale": [
             [
              0,
              "#0d0887"
             ],
             [
              0.1111111111111111,
              "#46039f"
             ],
             [
              0.2222222222222222,
              "#7201a8"
             ],
             [
              0.3333333333333333,
              "#9c179e"
             ],
             [
              0.4444444444444444,
              "#bd3786"
             ],
             [
              0.5555555555555556,
              "#d8576b"
             ],
             [
              0.6666666666666666,
              "#ed7953"
             ],
             [
              0.7777777777777778,
              "#fb9f3a"
             ],
             [
              0.8888888888888888,
              "#fdca26"
             ],
             [
              1,
              "#f0f921"
             ]
            ],
            "type": "heatmapgl"
           }
          ],
          "histogram": [
           {
            "marker": {
             "pattern": {
              "fillmode": "overlay",
              "size": 10,
              "solidity": 0.2
             }
            },
            "type": "histogram"
           }
          ],
          "histogram2d": [
           {
            "colorbar": {
             "outlinewidth": 0,
             "ticks": ""
            },
            "colorscale": [
             [
              0,
              "#0d0887"
             ],
             [
              0.1111111111111111,
              "#46039f"
             ],
             [
              0.2222222222222222,
              "#7201a8"
             ],
             [
              0.3333333333333333,
              "#9c179e"
             ],
             [
              0.4444444444444444,
              "#bd3786"
             ],
             [
              0.5555555555555556,
              "#d8576b"
             ],
             [
              0.6666666666666666,
              "#ed7953"
             ],
             [
              0.7777777777777778,
              "#fb9f3a"
             ],
             [
              0.8888888888888888,
              "#fdca26"
             ],
             [
              1,
              "#f0f921"
             ]
            ],
            "type": "histogram2d"
           }
          ],
          "histogram2dcontour": [
           {
            "colorbar": {
             "outlinewidth": 0,
             "ticks": ""
            },
            "colorscale": [
             [
              0,
              "#0d0887"
             ],
             [
              0.1111111111111111,
              "#46039f"
             ],
             [
              0.2222222222222222,
              "#7201a8"
             ],
             [
              0.3333333333333333,
              "#9c179e"
             ],
             [
              0.4444444444444444,
              "#bd3786"
             ],
             [
              0.5555555555555556,
              "#d8576b"
             ],
             [
              0.6666666666666666,
              "#ed7953"
             ],
             [
              0.7777777777777778,
              "#fb9f3a"
             ],
             [
              0.8888888888888888,
              "#fdca26"
             ],
             [
              1,
              "#f0f921"
             ]
            ],
            "type": "histogram2dcontour"
           }
          ],
          "mesh3d": [
           {
            "colorbar": {
             "outlinewidth": 0,
             "ticks": ""
            },
            "type": "mesh3d"
           }
          ],
          "parcoords": [
           {
            "line": {
             "colorbar": {
              "outlinewidth": 0,
              "ticks": ""
             }
            },
            "type": "parcoords"
           }
          ],
          "pie": [
           {
            "automargin": true,
            "type": "pie"
           }
          ],
          "scatter": [
           {
            "fillpattern": {
             "fillmode": "overlay",
             "size": 10,
             "solidity": 0.2
            },
            "type": "scatter"
           }
          ],
          "scatter3d": [
           {
            "line": {
             "colorbar": {
              "outlinewidth": 0,
              "ticks": ""
             }
            },
            "marker": {
             "colorbar": {
              "outlinewidth": 0,
              "ticks": ""
             }
            },
            "type": "scatter3d"
           }
          ],
          "scattercarpet": [
           {
            "marker": {
             "colorbar": {
              "outlinewidth": 0,
              "ticks": ""
             }
            },
            "type": "scattercarpet"
           }
          ],
          "scattergeo": [
           {
            "marker": {
             "colorbar": {
              "outlinewidth": 0,
              "ticks": ""
             }
            },
            "type": "scattergeo"
           }
          ],
          "scattergl": [
           {
            "marker": {
             "colorbar": {
              "outlinewidth": 0,
              "ticks": ""
             }
            },
            "type": "scattergl"
           }
          ],
          "scattermapbox": [
           {
            "marker": {
             "colorbar": {
              "outlinewidth": 0,
              "ticks": ""
             }
            },
            "type": "scattermapbox"
           }
          ],
          "scatterpolar": [
           {
            "marker": {
             "colorbar": {
              "outlinewidth": 0,
              "ticks": ""
             }
            },
            "type": "scatterpolar"
           }
          ],
          "scatterpolargl": [
           {
            "marker": {
             "colorbar": {
              "outlinewidth": 0,
              "ticks": ""
             }
            },
            "type": "scatterpolargl"
           }
          ],
          "scatterternary": [
           {
            "marker": {
             "colorbar": {
              "outlinewidth": 0,
              "ticks": ""
             }
            },
            "type": "scatterternary"
           }
          ],
          "surface": [
           {
            "colorbar": {
             "outlinewidth": 0,
             "ticks": ""
            },
            "colorscale": [
             [
              0,
              "#0d0887"
             ],
             [
              0.1111111111111111,
              "#46039f"
             ],
             [
              0.2222222222222222,
              "#7201a8"
             ],
             [
              0.3333333333333333,
              "#9c179e"
             ],
             [
              0.4444444444444444,
              "#bd3786"
             ],
             [
              0.5555555555555556,
              "#d8576b"
             ],
             [
              0.6666666666666666,
              "#ed7953"
             ],
             [
              0.7777777777777778,
              "#fb9f3a"
             ],
             [
              0.8888888888888888,
              "#fdca26"
             ],
             [
              1,
              "#f0f921"
             ]
            ],
            "type": "surface"
           }
          ],
          "table": [
           {
            "cells": {
             "fill": {
              "color": "#EBF0F8"
             },
             "line": {
              "color": "white"
             }
            },
            "header": {
             "fill": {
              "color": "#C8D4E3"
             },
             "line": {
              "color": "white"
             }
            },
            "type": "table"
           }
          ]
         },
         "layout": {
          "annotationdefaults": {
           "arrowcolor": "#2a3f5f",
           "arrowhead": 0,
           "arrowwidth": 1
          },
          "autotypenumbers": "strict",
          "coloraxis": {
           "colorbar": {
            "outlinewidth": 0,
            "ticks": ""
           }
          },
          "colorscale": {
           "diverging": [
            [
             0,
             "#8e0152"
            ],
            [
             0.1,
             "#c51b7d"
            ],
            [
             0.2,
             "#de77ae"
            ],
            [
             0.3,
             "#f1b6da"
            ],
            [
             0.4,
             "#fde0ef"
            ],
            [
             0.5,
             "#f7f7f7"
            ],
            [
             0.6,
             "#e6f5d0"
            ],
            [
             0.7,
             "#b8e186"
            ],
            [
             0.8,
             "#7fbc41"
            ],
            [
             0.9,
             "#4d9221"
            ],
            [
             1,
             "#276419"
            ]
           ],
           "sequential": [
            [
             0,
             "#0d0887"
            ],
            [
             0.1111111111111111,
             "#46039f"
            ],
            [
             0.2222222222222222,
             "#7201a8"
            ],
            [
             0.3333333333333333,
             "#9c179e"
            ],
            [
             0.4444444444444444,
             "#bd3786"
            ],
            [
             0.5555555555555556,
             "#d8576b"
            ],
            [
             0.6666666666666666,
             "#ed7953"
            ],
            [
             0.7777777777777778,
             "#fb9f3a"
            ],
            [
             0.8888888888888888,
             "#fdca26"
            ],
            [
             1,
             "#f0f921"
            ]
           ],
           "sequentialminus": [
            [
             0,
             "#0d0887"
            ],
            [
             0.1111111111111111,
             "#46039f"
            ],
            [
             0.2222222222222222,
             "#7201a8"
            ],
            [
             0.3333333333333333,
             "#9c179e"
            ],
            [
             0.4444444444444444,
             "#bd3786"
            ],
            [
             0.5555555555555556,
             "#d8576b"
            ],
            [
             0.6666666666666666,
             "#ed7953"
            ],
            [
             0.7777777777777778,
             "#fb9f3a"
            ],
            [
             0.8888888888888888,
             "#fdca26"
            ],
            [
             1,
             "#f0f921"
            ]
           ]
          },
          "colorway": [
           "#636efa",
           "#EF553B",
           "#00cc96",
           "#ab63fa",
           "#FFA15A",
           "#19d3f3",
           "#FF6692",
           "#B6E880",
           "#FF97FF",
           "#FECB52"
          ],
          "font": {
           "color": "#2a3f5f"
          },
          "geo": {
           "bgcolor": "white",
           "lakecolor": "white",
           "landcolor": "#E5ECF6",
           "showlakes": true,
           "showland": true,
           "subunitcolor": "white"
          },
          "hoverlabel": {
           "align": "left"
          },
          "hovermode": "closest",
          "mapbox": {
           "style": "light"
          },
          "paper_bgcolor": "white",
          "plot_bgcolor": "#E5ECF6",
          "polar": {
           "angularaxis": {
            "gridcolor": "white",
            "linecolor": "white",
            "ticks": ""
           },
           "bgcolor": "#E5ECF6",
           "radialaxis": {
            "gridcolor": "white",
            "linecolor": "white",
            "ticks": ""
           }
          },
          "scene": {
           "xaxis": {
            "backgroundcolor": "#E5ECF6",
            "gridcolor": "white",
            "gridwidth": 2,
            "linecolor": "white",
            "showbackground": true,
            "ticks": "",
            "zerolinecolor": "white"
           },
           "yaxis": {
            "backgroundcolor": "#E5ECF6",
            "gridcolor": "white",
            "gridwidth": 2,
            "linecolor": "white",
            "showbackground": true,
            "ticks": "",
            "zerolinecolor": "white"
           },
           "zaxis": {
            "backgroundcolor": "#E5ECF6",
            "gridcolor": "white",
            "gridwidth": 2,
            "linecolor": "white",
            "showbackground": true,
            "ticks": "",
            "zerolinecolor": "white"
           }
          },
          "shapedefaults": {
           "line": {
            "color": "#2a3f5f"
           }
          },
          "ternary": {
           "aaxis": {
            "gridcolor": "white",
            "linecolor": "white",
            "ticks": ""
           },
           "baxis": {
            "gridcolor": "white",
            "linecolor": "white",
            "ticks": ""
           },
           "bgcolor": "#E5ECF6",
           "caxis": {
            "gridcolor": "white",
            "linecolor": "white",
            "ticks": ""
           }
          },
          "title": {
           "x": 0.05
          },
          "xaxis": {
           "automargin": true,
           "gridcolor": "white",
           "linecolor": "white",
           "ticks": "",
           "title": {
            "standoff": 15
           },
           "zerolinecolor": "white",
           "zerolinewidth": 2
          },
          "yaxis": {
           "automargin": true,
           "gridcolor": "white",
           "linecolor": "white",
           "ticks": "",
           "title": {
            "standoff": 15
           },
           "zerolinecolor": "white",
           "zerolinewidth": 2
          }
         }
        },
        "title": {
         "text": "Dataframe Three"
        },
        "width": 500
       }
      },
      "text/html": [
       "<div>                            <div id=\"1ca02314-111d-42f8-9174-81303e9e1307\" class=\"plotly-graph-div\" style=\"height:500px; width:500px;\"></div>            <script type=\"text/javascript\">                require([\"plotly\"], function(Plotly) {                    window.PLOTLYENV=window.PLOTLYENV || {};                                    if (document.getElementById(\"1ca02314-111d-42f8-9174-81303e9e1307\")) {                    Plotly.newPlot(                        \"1ca02314-111d-42f8-9174-81303e9e1307\",                        [{\"z\":[[1,10,5],[2,20,4],[3,30,3],[4,20,2],[5,10,1]],\"type\":\"surface\"}],                        {\"template\":{\"data\":{\"histogram2dcontour\":[{\"type\":\"histogram2dcontour\",\"colorbar\":{\"outlinewidth\":0,\"ticks\":\"\"},\"colorscale\":[[0.0,\"#0d0887\"],[0.1111111111111111,\"#46039f\"],[0.2222222222222222,\"#7201a8\"],[0.3333333333333333,\"#9c179e\"],[0.4444444444444444,\"#bd3786\"],[0.5555555555555556,\"#d8576b\"],[0.6666666666666666,\"#ed7953\"],[0.7777777777777778,\"#fb9f3a\"],[0.8888888888888888,\"#fdca26\"],[1.0,\"#f0f921\"]]}],\"choropleth\":[{\"type\":\"choropleth\",\"colorbar\":{\"outlinewidth\":0,\"ticks\":\"\"}}],\"histogram2d\":[{\"type\":\"histogram2d\",\"colorbar\":{\"outlinewidth\":0,\"ticks\":\"\"},\"colorscale\":[[0.0,\"#0d0887\"],[0.1111111111111111,\"#46039f\"],[0.2222222222222222,\"#7201a8\"],[0.3333333333333333,\"#9c179e\"],[0.4444444444444444,\"#bd3786\"],[0.5555555555555556,\"#d8576b\"],[0.6666666666666666,\"#ed7953\"],[0.7777777777777778,\"#fb9f3a\"],[0.8888888888888888,\"#fdca26\"],[1.0,\"#f0f921\"]]}],\"heatmap\":[{\"type\":\"heatmap\",\"colorbar\":{\"outlinewidth\":0,\"ticks\":\"\"},\"colorscale\":[[0.0,\"#0d0887\"],[0.1111111111111111,\"#46039f\"],[0.2222222222222222,\"#7201a8\"],[0.3333333333333333,\"#9c179e\"],[0.4444444444444444,\"#bd3786\"],[0.5555555555555556,\"#d8576b\"],[0.6666666666666666,\"#ed7953\"],[0.7777777777777778,\"#fb9f3a\"],[0.8888888888888888,\"#fdca26\"],[1.0,\"#f0f921\"]]}],\"heatmapgl\":[{\"type\":\"heatmapgl\",\"colorbar\":{\"outlinewidth\":0,\"ticks\":\"\"},\"colorscale\":[[0.0,\"#0d0887\"],[0.1111111111111111,\"#46039f\"],[0.2222222222222222,\"#7201a8\"],[0.3333333333333333,\"#9c179e\"],[0.4444444444444444,\"#bd3786\"],[0.5555555555555556,\"#d8576b\"],[0.6666666666666666,\"#ed7953\"],[0.7777777777777778,\"#fb9f3a\"],[0.8888888888888888,\"#fdca26\"],[1.0,\"#f0f921\"]]}],\"contourcarpet\":[{\"type\":\"contourcarpet\",\"colorbar\":{\"outlinewidth\":0,\"ticks\":\"\"}}],\"contour\":[{\"type\":\"contour\",\"colorbar\":{\"outlinewidth\":0,\"ticks\":\"\"},\"colorscale\":[[0.0,\"#0d0887\"],[0.1111111111111111,\"#46039f\"],[0.2222222222222222,\"#7201a8\"],[0.3333333333333333,\"#9c179e\"],[0.4444444444444444,\"#bd3786\"],[0.5555555555555556,\"#d8576b\"],[0.6666666666666666,\"#ed7953\"],[0.7777777777777778,\"#fb9f3a\"],[0.8888888888888888,\"#fdca26\"],[1.0,\"#f0f921\"]]}],\"surface\":[{\"type\":\"surface\",\"colorbar\":{\"outlinewidth\":0,\"ticks\":\"\"},\"colorscale\":[[0.0,\"#0d0887\"],[0.1111111111111111,\"#46039f\"],[0.2222222222222222,\"#7201a8\"],[0.3333333333333333,\"#9c179e\"],[0.4444444444444444,\"#bd3786\"],[0.5555555555555556,\"#d8576b\"],[0.6666666666666666,\"#ed7953\"],[0.7777777777777778,\"#fb9f3a\"],[0.8888888888888888,\"#fdca26\"],[1.0,\"#f0f921\"]]}],\"mesh3d\":[{\"type\":\"mesh3d\",\"colorbar\":{\"outlinewidth\":0,\"ticks\":\"\"}}],\"scatter\":[{\"fillpattern\":{\"fillmode\":\"overlay\",\"size\":10,\"solidity\":0.2},\"type\":\"scatter\"}],\"parcoords\":[{\"type\":\"parcoords\",\"line\":{\"colorbar\":{\"outlinewidth\":0,\"ticks\":\"\"}}}],\"scatterpolargl\":[{\"type\":\"scatterpolargl\",\"marker\":{\"colorbar\":{\"outlinewidth\":0,\"ticks\":\"\"}}}],\"bar\":[{\"error_x\":{\"color\":\"#2a3f5f\"},\"error_y\":{\"color\":\"#2a3f5f\"},\"marker\":{\"line\":{\"color\":\"#E5ECF6\",\"width\":0.5},\"pattern\":{\"fillmode\":\"overlay\",\"size\":10,\"solidity\":0.2}},\"type\":\"bar\"}],\"scattergeo\":[{\"type\":\"scattergeo\",\"marker\":{\"colorbar\":{\"outlinewidth\":0,\"ticks\":\"\"}}}],\"scatterpolar\":[{\"type\":\"scatterpolar\",\"marker\":{\"colorbar\":{\"outlinewidth\":0,\"ticks\":\"\"}}}],\"histogram\":[{\"marker\":{\"pattern\":{\"fillmode\":\"overlay\",\"size\":10,\"solidity\":0.2}},\"type\":\"histogram\"}],\"scattergl\":[{\"type\":\"scattergl\",\"marker\":{\"colorbar\":{\"outlinewidth\":0,\"ticks\":\"\"}}}],\"scatter3d\":[{\"type\":\"scatter3d\",\"line\":{\"colorbar\":{\"outlinewidth\":0,\"ticks\":\"\"}},\"marker\":{\"colorbar\":{\"outlinewidth\":0,\"ticks\":\"\"}}}],\"scattermapbox\":[{\"type\":\"scattermapbox\",\"marker\":{\"colorbar\":{\"outlinewidth\":0,\"ticks\":\"\"}}}],\"scatterternary\":[{\"type\":\"scatterternary\",\"marker\":{\"colorbar\":{\"outlinewidth\":0,\"ticks\":\"\"}}}],\"scattercarpet\":[{\"type\":\"scattercarpet\",\"marker\":{\"colorbar\":{\"outlinewidth\":0,\"ticks\":\"\"}}}],\"carpet\":[{\"aaxis\":{\"endlinecolor\":\"#2a3f5f\",\"gridcolor\":\"white\",\"linecolor\":\"white\",\"minorgridcolor\":\"white\",\"startlinecolor\":\"#2a3f5f\"},\"baxis\":{\"endlinecolor\":\"#2a3f5f\",\"gridcolor\":\"white\",\"linecolor\":\"white\",\"minorgridcolor\":\"white\",\"startlinecolor\":\"#2a3f5f\"},\"type\":\"carpet\"}],\"table\":[{\"cells\":{\"fill\":{\"color\":\"#EBF0F8\"},\"line\":{\"color\":\"white\"}},\"header\":{\"fill\":{\"color\":\"#C8D4E3\"},\"line\":{\"color\":\"white\"}},\"type\":\"table\"}],\"barpolar\":[{\"marker\":{\"line\":{\"color\":\"#E5ECF6\",\"width\":0.5},\"pattern\":{\"fillmode\":\"overlay\",\"size\":10,\"solidity\":0.2}},\"type\":\"barpolar\"}],\"pie\":[{\"automargin\":true,\"type\":\"pie\"}]},\"layout\":{\"autotypenumbers\":\"strict\",\"colorway\":[\"#636efa\",\"#EF553B\",\"#00cc96\",\"#ab63fa\",\"#FFA15A\",\"#19d3f3\",\"#FF6692\",\"#B6E880\",\"#FF97FF\",\"#FECB52\"],\"font\":{\"color\":\"#2a3f5f\"},\"hovermode\":\"closest\",\"hoverlabel\":{\"align\":\"left\"},\"paper_bgcolor\":\"white\",\"plot_bgcolor\":\"#E5ECF6\",\"polar\":{\"bgcolor\":\"#E5ECF6\",\"angularaxis\":{\"gridcolor\":\"white\",\"linecolor\":\"white\",\"ticks\":\"\"},\"radialaxis\":{\"gridcolor\":\"white\",\"linecolor\":\"white\",\"ticks\":\"\"}},\"ternary\":{\"bgcolor\":\"#E5ECF6\",\"aaxis\":{\"gridcolor\":\"white\",\"linecolor\":\"white\",\"ticks\":\"\"},\"baxis\":{\"gridcolor\":\"white\",\"linecolor\":\"white\",\"ticks\":\"\"},\"caxis\":{\"gridcolor\":\"white\",\"linecolor\":\"white\",\"ticks\":\"\"}},\"coloraxis\":{\"colorbar\":{\"outlinewidth\":0,\"ticks\":\"\"}},\"colorscale\":{\"sequential\":[[0.0,\"#0d0887\"],[0.1111111111111111,\"#46039f\"],[0.2222222222222222,\"#7201a8\"],[0.3333333333333333,\"#9c179e\"],[0.4444444444444444,\"#bd3786\"],[0.5555555555555556,\"#d8576b\"],[0.6666666666666666,\"#ed7953\"],[0.7777777777777778,\"#fb9f3a\"],[0.8888888888888888,\"#fdca26\"],[1.0,\"#f0f921\"]],\"sequentialminus\":[[0.0,\"#0d0887\"],[0.1111111111111111,\"#46039f\"],[0.2222222222222222,\"#7201a8\"],[0.3333333333333333,\"#9c179e\"],[0.4444444444444444,\"#bd3786\"],[0.5555555555555556,\"#d8576b\"],[0.6666666666666666,\"#ed7953\"],[0.7777777777777778,\"#fb9f3a\"],[0.8888888888888888,\"#fdca26\"],[1.0,\"#f0f921\"]],\"diverging\":[[0,\"#8e0152\"],[0.1,\"#c51b7d\"],[0.2,\"#de77ae\"],[0.3,\"#f1b6da\"],[0.4,\"#fde0ef\"],[0.5,\"#f7f7f7\"],[0.6,\"#e6f5d0\"],[0.7,\"#b8e186\"],[0.8,\"#7fbc41\"],[0.9,\"#4d9221\"],[1,\"#276419\"]]},\"xaxis\":{\"gridcolor\":\"white\",\"linecolor\":\"white\",\"ticks\":\"\",\"title\":{\"standoff\":15},\"zerolinecolor\":\"white\",\"automargin\":true,\"zerolinewidth\":2},\"yaxis\":{\"gridcolor\":\"white\",\"linecolor\":\"white\",\"ticks\":\"\",\"title\":{\"standoff\":15},\"zerolinecolor\":\"white\",\"automargin\":true,\"zerolinewidth\":2},\"scene\":{\"xaxis\":{\"backgroundcolor\":\"#E5ECF6\",\"gridcolor\":\"white\",\"linecolor\":\"white\",\"showbackground\":true,\"ticks\":\"\",\"zerolinecolor\":\"white\",\"gridwidth\":2},\"yaxis\":{\"backgroundcolor\":\"#E5ECF6\",\"gridcolor\":\"white\",\"linecolor\":\"white\",\"showbackground\":true,\"ticks\":\"\",\"zerolinecolor\":\"white\",\"gridwidth\":2},\"zaxis\":{\"backgroundcolor\":\"#E5ECF6\",\"gridcolor\":\"white\",\"linecolor\":\"white\",\"showbackground\":true,\"ticks\":\"\",\"zerolinecolor\":\"white\",\"gridwidth\":2}},\"shapedefaults\":{\"line\":{\"color\":\"#2a3f5f\"}},\"annotationdefaults\":{\"arrowcolor\":\"#2a3f5f\",\"arrowhead\":0,\"arrowwidth\":1},\"geo\":{\"bgcolor\":\"white\",\"landcolor\":\"#E5ECF6\",\"subunitcolor\":\"white\",\"showland\":true,\"showlakes\":true,\"lakecolor\":\"white\"},\"title\":{\"x\":0.05},\"mapbox\":{\"style\":\"light\"}}},\"margin\":{\"l\":65,\"r\":50,\"b\":65,\"t\":90},\"title\":{\"text\":\"Dataframe Three\"},\"autosize\":true,\"width\":500,\"height\":500},                        {\"responsive\": true}                    ).then(function(){\n",
       "                            \n",
       "var gd = document.getElementById('1ca02314-111d-42f8-9174-81303e9e1307');\n",
       "var x = new MutationObserver(function (mutations, observer) {{\n",
       "        var display = window.getComputedStyle(gd).display;\n",
       "        if (!display || display === 'none') {{\n",
       "            console.log([gd, 'removed!']);\n",
       "            Plotly.purge(gd);\n",
       "            observer.disconnect();\n",
       "        }}\n",
       "}});\n",
       "\n",
       "// Listen for the removal of the full notebook cells\n",
       "var notebookContainer = gd.closest('#notebook-container');\n",
       "if (notebookContainer) {{\n",
       "    x.observe(notebookContainer, {childList: true});\n",
       "}}\n",
       "\n",
       "// Listen for the clearing of the current output cell\n",
       "var outputEl = gd.closest('.output');\n",
       "if (outputEl) {{\n",
       "    x.observe(outputEl, {childList: true});\n",
       "}}\n",
       "\n",
       "                        })                };                });            </script>        </div>"
      ]
     },
     "metadata": {},
     "output_type": "display_data"
    }
   ],
   "source": [
    "# # Alternative method with plotly express\n",
    "import plotly.graph_objects as go\n",
    "fig = go.Figure(data=[go.Surface(z=df3.values)])\n",
    "fig.update_layout(title='Dataframe Three', autosize=True, width=500, height=500, margin=dict(l=65, r=50, b=65, t=90))\n",
    "fig.show()"
   ]
  },
  {
   "cell_type": "markdown",
   "metadata": {},
   "source": [
    "### 5. Spread"
   ]
  },
  {
   "cell_type": "code",
   "execution_count": 18,
   "metadata": {
    "collapsed": false
   },
   "outputs": [
    {
     "name": "stderr",
     "output_type": "stream",
     "text": [
      "e:\\IT Training\\Python311\\Lib\\site-packages\\cufflinks\\plotlytools.py:849: FutureWarning:\n",
      "\n",
      "The pandas.np module is deprecated and will be removed from pandas in a future version. Import numpy directly instead.\n",
      "\n",
      "e:\\IT Training\\Python311\\Lib\\site-packages\\cufflinks\\plotlytools.py:850: FutureWarning:\n",
      "\n",
      "The pandas.np module is deprecated and will be removed from pandas in a future version. Import numpy directly instead.\n",
      "\n"
     ]
    },
    {
     "data": {
      "application/vnd.plotly.v1+json": {
       "config": {
        "linkText": "Export to plot.ly",
        "plotlyServerURL": "https://plot.ly",
        "showLink": true
       },
       "data": [
        {
         "line": {
          "color": "rgba(255, 153, 51, 1.0)",
          "dash": "solid",
          "shape": "linear",
          "width": 1.3
         },
         "mode": "lines",
         "name": "A",
         "text": "",
         "type": "scatter",
         "x": [
          0,
          1,
          2,
          3,
          4,
          5,
          6,
          7,
          8,
          9,
          10,
          11,
          12,
          13,
          14,
          15,
          16,
          17,
          18,
          19,
          20,
          21,
          22,
          23,
          24,
          25,
          26,
          27,
          28,
          29,
          30,
          31,
          32,
          33,
          34,
          35,
          36,
          37,
          38,
          39,
          40,
          41,
          42,
          43,
          44,
          45,
          46,
          47,
          48,
          49,
          50,
          51,
          52,
          53,
          54,
          55,
          56,
          57,
          58,
          59,
          60,
          61,
          62,
          63,
          64,
          65,
          66,
          67,
          68,
          69,
          70,
          71,
          72,
          73,
          74,
          75,
          76,
          77,
          78,
          79,
          80,
          81,
          82,
          83,
          84,
          85,
          86,
          87,
          88,
          89,
          90,
          91,
          92,
          93,
          94,
          95,
          96,
          97,
          98,
          99
         ],
         "y": [
          -1.4747380955937974,
          0.28725077112417235,
          -1.6568846794720122,
          1.381720942647079,
          0.3657833365094521,
          0.026008073073972172,
          -0.5109681143770874,
          -0.30968695071839253,
          0.08056276720583924,
          1.2206461655280683,
          -1.0044961445651543,
          -0.7086123871501985,
          -0.3032080480213653,
          -0.4681810010400497,
          0.4883380048432973,
          -1.0568975335865904,
          -0.6478951720409023,
          -1.1006335991216396,
          -1.1084672870151069,
          1.0115169993247746,
          0.8628879534962799,
          0.49107556584687034,
          -0.21460151922209592,
          -0.21167224031379164,
          -1.0868280793928702,
          0.1813077457259262,
          1.6048411477507714,
          -1.1129128593443407,
          0.13510904054871198,
          0.7363175261488993,
          0.30133889718720347,
          1.0968390103774157,
          -0.9215941053119098,
          1.1452096988910712,
          -0.0969211977387717,
          0.7832229582485118,
          1.0531791723051949,
          -0.6663370851946934,
          -0.7282508718905567,
          -1.688787692138687,
          0.2592955164616916,
          -0.35251940357111267,
          0.5255678646250175,
          0.1591013061134092,
          1.6392683058616393,
          -0.7594873429459711,
          0.3571677103292569,
          -1.9129516673080214,
          0.2812674212385775,
          2.9443484953104657,
          -1.2668238549208235,
          0.41322784242257693,
          1.206697949804835,
          1.0295637127428512,
          0.42415314431239537,
          -1.234242731046262,
          -0.005177234655683374,
          0.40215839443750323,
          0.5734568360798693,
          -0.981071428153688,
          -1.044181132406017,
          -0.5455429283558031,
          0.8723741296130654,
          -1.7382678852503126,
          -2.394203349842937,
          1.1200094352775187,
          -0.6221419105120386,
          0.28050386485521667,
          -0.21614849790735982,
          -0.5457390506690335,
          -2.3191277297140607,
          1.3524213867671204,
          0.12594824702172094,
          -0.02781084118179256,
          -1.0121863416508705,
          -0.1346075258918912,
          -0.2161185225683815,
          -1.4044793440674315,
          0.5103800616622387,
          -0.26035603985135364,
          0.7128604943441633,
          -0.09028399432601468,
          0.5214049330304661,
          -0.050307547047459246,
          -0.139890323143218,
          -1.2155801358748424,
          0.9627948608905095,
          0.8801238599064668,
          0.020185320431986706,
          1.6625023152013685,
          0.3816936279691013,
          0.34509760366963216,
          0.37972886845205844,
          0.4258913685657802,
          -0.22863620193291423,
          -1.4886214993845972,
          0.5486315743498743,
          -0.37552303459747266,
          -1.7087243821390654,
          -0.047214690067770786
         ]
        },
        {
         "line": {
          "color": "rgba(55, 128, 191, 1.0)",
          "dash": "solid",
          "shape": "linear",
          "width": 1.3
         },
         "mode": "lines",
         "name": "B",
         "text": "",
         "type": "scatter",
         "x": [
          0,
          1,
          2,
          3,
          4,
          5,
          6,
          7,
          8,
          9,
          10,
          11,
          12,
          13,
          14,
          15,
          16,
          17,
          18,
          19,
          20,
          21,
          22,
          23,
          24,
          25,
          26,
          27,
          28,
          29,
          30,
          31,
          32,
          33,
          34,
          35,
          36,
          37,
          38,
          39,
          40,
          41,
          42,
          43,
          44,
          45,
          46,
          47,
          48,
          49,
          50,
          51,
          52,
          53,
          54,
          55,
          56,
          57,
          58,
          59,
          60,
          61,
          62,
          63,
          64,
          65,
          66,
          67,
          68,
          69,
          70,
          71,
          72,
          73,
          74,
          75,
          76,
          77,
          78,
          79,
          80,
          81,
          82,
          83,
          84,
          85,
          86,
          87,
          88,
          89,
          90,
          91,
          92,
          93,
          94,
          95,
          96,
          97,
          98,
          99
         ],
         "y": [
          0.21816361565301612,
          -0.18311601650778261,
          -0.8722852429063794,
          0.7996321791414022,
          1.4830013794585655,
          -1.8513851087254878,
          1.613906454791288,
          -1.5827358120075996,
          -0.2852339752587739,
          -1.1655837011030066,
          -1.3316526305662248,
          -0.058152616565652196,
          0.06088486005099269,
          -1.8538715257905751,
          -0.10795630868630458,
          -0.5169453758367406,
          0.05896114763704862,
          1.937674579815131,
          -0.43586910750577423,
          0.6301701523533102,
          0.2487690009306954,
          -0.5768590175830137,
          -0.23048178855369697,
          1.5829241162079017,
          -0.7064465895575457,
          -0.07800414606637208,
          0.9267040564138606,
          -0.9945444848093137,
          1.5232090046065017,
          0.5724140410636237,
          -0.5824132253983889,
          1.4758903927481846,
          0.7894141470303264,
          -0.34231970058963407,
          -0.7810319671697296,
          0.2072844838228586,
          -0.5588365519503141,
          -0.38971140833812906,
          0.21785672555286356,
          1.0289889419787783,
          -1.3145327761543142,
          0.18482300394128667,
          0.325360903405271,
          0.8234367426244258,
          0.7549608081461314,
          -0.24592878896044312,
          -0.8898589213424684,
          1.1296498601309384,
          -0.7646354208473364,
          -1.7613727579525837,
          -0.007885085352440032,
          -0.6550676125914235,
          -1.5382251668563758,
          2.9664757064106833,
          0.05136220368240336,
          0.9053762889413747,
          -0.9014199037894448,
          0.14416787795095554,
          0.5772481753295273,
          1.00066627733789,
          -1.484677774151373,
          -1.0470748306972992,
          -1.0394473595670013,
          1.0139539314489332,
          -0.2266635690751747,
          -2.906894044978705,
          0.3866286493770684,
          -0.22145896800858503,
          0.2723182682770941,
          -0.23515963148068272,
          -0.8867866717522348,
          -0.017926170650252895,
          0.1202193588446371,
          0.5167784095259662,
          -1.1692508750791701,
          0.12401321928940981,
          -0.7738107387476351,
          -0.9566254708018384,
          -0.26444548631561315,
          -1.6766931874405588,
          -1.5626958822528276,
          -1.0537752027800056,
          0.01008372961374793,
          0.07867473793517019,
          -1.6967402907609725,
          -1.896581525083377,
          -0.9524305910705916,
          0.9152100476428011,
          0.5403263954180979,
          -1.1951744668940307,
          -0.7586988875890001,
          -2.764229500397465,
          -1.058834908427951,
          -1.211320125788323,
          -1.4017384442446392,
          0.31423912897978823,
          0.40750676142202613,
          -0.12272730770175873,
          -0.16912280770312685,
          -0.17788138935751074
         ]
        },
        {
         "connectgaps": false,
         "fill": "tozeroy",
         "line": {
          "color": "green",
          "dash": "solid",
          "shape": "linear",
          "width": 0.5
         },
         "mode": "lines",
         "name": "Spread",
         "showlegend": false,
         "type": "scatter",
         "x": [
          0,
          1,
          2,
          3,
          4,
          5,
          6,
          7,
          8,
          9,
          10,
          11,
          12,
          13,
          14,
          15,
          16,
          17,
          18,
          19,
          20,
          21,
          22,
          23,
          24,
          25,
          26,
          27,
          28,
          29,
          30,
          31,
          32,
          33,
          34,
          35,
          36,
          37,
          38,
          39,
          40,
          41,
          42,
          43,
          44,
          45,
          46,
          47,
          48,
          49,
          50,
          51,
          52,
          53,
          54,
          55,
          56,
          57,
          58,
          59,
          60,
          61,
          62,
          63,
          64,
          65,
          66,
          67,
          68,
          69,
          70,
          71,
          72,
          73,
          74,
          75,
          76,
          77,
          78,
          79,
          80,
          81,
          82,
          83,
          84,
          85,
          86,
          87,
          88,
          89,
          90,
          91,
          92,
          93,
          94,
          95,
          96,
          97,
          98,
          99
         ],
         "xaxis": "x2",
         "y": [
          "",
          0.47036678763195494,
          "",
          0.5820887635056767,
          "",
          1.87739318179946,
          "",
          1.273048861289207,
          0.36579674246461313,
          2.3862298666310746,
          0.3271564860010705,
          "",
          "",
          1.3856905247505253,
          0.5962943135296019,
          "",
          "",
          "",
          "",
          0.38134684697146437,
          0.6141189525655845,
          1.0679345834298841,
          0.015880269331601055,
          "",
          "",
          0.2593118917922983,
          0.6781370913369108,
          "",
          "",
          0.16390348508527564,
          0.8837521225855924,
          "",
          "",
          1.4875293994807053,
          0.6841107694309578,
          0.5759384744256533,
          1.6120157242555089,
          "",
          "",
          "",
          1.5738282926160059,
          "",
          0.20020696121974646,
          "",
          0.8843074977155079,
          "",
          1.2470266316717253,
          "",
          1.0459028420859138,
          4.705721253263049,
          "",
          1.0682954550140005,
          2.7449231166612105,
          "",
          0.372790940629992,
          "",
          0.8962426691337614,
          0.2579905164865477,
          "",
          "",
          0.44049664174535597,
          0.5015319023414961,
          1.9118214891800667,
          "",
          "",
          4.026903480256224,
          "",
          0.5019628328638017,
          "",
          "",
          "",
          1.3703475574173734,
          0.005728888177083849,
          "",
          0.15706453342829962,
          "",
          0.5576922161792536,
          "",
          0.7748255479778519,
          1.4163371475892053,
          2.275556376596991,
          0.9634912084539909,
          0.5113212034167182,
          "",
          1.5568499676177545,
          0.6810013892085347,
          1.915225451961101,
          "",
          "",
          2.857676782095399,
          1.1403925155581014,
          3.109327104067097,
          1.4385637768800095,
          1.6372114943541032,
          1.173102242311725,
          "",
          0.14112481292784818,
          "",
          "",
          0.13066669928973995
         ],
         "yaxis": "y2"
        },
        {
         "connectgaps": false,
         "fill": "tozeroy",
         "line": {
          "color": "red",
          "dash": "solid",
          "shape": "linear",
          "width": 0.5
         },
         "mode": "lines",
         "name": "Spread",
         "showlegend": false,
         "type": "scatter",
         "x": [
          0,
          1,
          2,
          3,
          4,
          5,
          6,
          7,
          8,
          9,
          10,
          11,
          12,
          13,
          14,
          15,
          16,
          17,
          18,
          19,
          20,
          21,
          22,
          23,
          24,
          25,
          26,
          27,
          28,
          29,
          30,
          31,
          32,
          33,
          34,
          35,
          36,
          37,
          38,
          39,
          40,
          41,
          42,
          43,
          44,
          45,
          46,
          47,
          48,
          49,
          50,
          51,
          52,
          53,
          54,
          55,
          56,
          57,
          58,
          59,
          60,
          61,
          62,
          63,
          64,
          65,
          66,
          67,
          68,
          69,
          70,
          71,
          72,
          73,
          74,
          75,
          76,
          77,
          78,
          79,
          80,
          81,
          82,
          83,
          84,
          85,
          86,
          87,
          88,
          89,
          90,
          91,
          92,
          93,
          94,
          95,
          96,
          97,
          98,
          99
         ],
         "xaxis": "x2",
         "y": [
          -1.6929017112468134,
          "",
          -0.7845994365656328,
          "",
          -1.1172180429491134,
          "",
          -2.1248745691683757,
          "",
          "",
          "",
          "",
          -0.6504597705845463,
          -0.364092908072358,
          "",
          "",
          -0.5399521577498498,
          -0.7068563196779509,
          -3.0383081789367705,
          -0.6725981795093326,
          "",
          "",
          "",
          "",
          -1.7945963565216934,
          -0.3803814898353245,
          "",
          "",
          -0.11836837453502702,
          -1.3880999640577896,
          "",
          "",
          -0.37905138237076885,
          -1.711008252342236,
          "",
          "",
          "",
          "",
          -0.2766256768565643,
          -0.9461075974434203,
          -2.7177766341174654,
          "",
          -0.5373424075123994,
          "",
          -0.6643354365110166,
          "",
          -0.513558553985528,
          "",
          -3.0426015274389595,
          "",
          "",
          -1.2589387695683836,
          "",
          "",
          -1.936911993667832,
          "",
          -2.1396190199876366,
          "",
          "",
          -0.003791339249658021,
          -1.981737705491578,
          "",
          "",
          "",
          -2.7522218166992456,
          -2.167539780767762,
          "",
          -1.008770559889107,
          "",
          -0.48846676618445395,
          -0.31057941918835075,
          -1.4323410579618259,
          "",
          "",
          -0.5445892507077588,
          "",
          -0.258620745181301,
          "",
          -0.4478538732655931,
          "",
          "",
          "",
          "",
          "",
          -0.12898228498262942,
          "",
          "",
          "",
          -0.03508618773633432,
          -0.5201410749861112,
          "",
          "",
          "",
          "",
          "",
          "",
          -1.8028606283643853,
          "",
          -0.25279572689571395,
          -1.5396015744359386,
          ""
         ],
         "yaxis": "y2"
        }
       ],
       "layout": {
        "hovermode": "x",
        "legend": {
         "bgcolor": "#F5F6F9",
         "font": {
          "color": "#4D5663"
         }
        },
        "paper_bgcolor": "#F5F6F9",
        "plot_bgcolor": "#F5F6F9",
        "template": {
         "data": {
          "bar": [
           {
            "error_x": {
             "color": "#2a3f5f"
            },
            "error_y": {
             "color": "#2a3f5f"
            },
            "marker": {
             "line": {
              "color": "#E5ECF6",
              "width": 0.5
             },
             "pattern": {
              "fillmode": "overlay",
              "size": 10,
              "solidity": 0.2
             }
            },
            "type": "bar"
           }
          ],
          "barpolar": [
           {
            "marker": {
             "line": {
              "color": "#E5ECF6",
              "width": 0.5
             },
             "pattern": {
              "fillmode": "overlay",
              "size": 10,
              "solidity": 0.2
             }
            },
            "type": "barpolar"
           }
          ],
          "carpet": [
           {
            "aaxis": {
             "endlinecolor": "#2a3f5f",
             "gridcolor": "white",
             "linecolor": "white",
             "minorgridcolor": "white",
             "startlinecolor": "#2a3f5f"
            },
            "baxis": {
             "endlinecolor": "#2a3f5f",
             "gridcolor": "white",
             "linecolor": "white",
             "minorgridcolor": "white",
             "startlinecolor": "#2a3f5f"
            },
            "type": "carpet"
           }
          ],
          "choropleth": [
           {
            "colorbar": {
             "outlinewidth": 0,
             "ticks": ""
            },
            "type": "choropleth"
           }
          ],
          "contour": [
           {
            "colorbar": {
             "outlinewidth": 0,
             "ticks": ""
            },
            "colorscale": [
             [
              0,
              "#0d0887"
             ],
             [
              0.1111111111111111,
              "#46039f"
             ],
             [
              0.2222222222222222,
              "#7201a8"
             ],
             [
              0.3333333333333333,
              "#9c179e"
             ],
             [
              0.4444444444444444,
              "#bd3786"
             ],
             [
              0.5555555555555556,
              "#d8576b"
             ],
             [
              0.6666666666666666,
              "#ed7953"
             ],
             [
              0.7777777777777778,
              "#fb9f3a"
             ],
             [
              0.8888888888888888,
              "#fdca26"
             ],
             [
              1,
              "#f0f921"
             ]
            ],
            "type": "contour"
           }
          ],
          "contourcarpet": [
           {
            "colorbar": {
             "outlinewidth": 0,
             "ticks": ""
            },
            "type": "contourcarpet"
           }
          ],
          "heatmap": [
           {
            "colorbar": {
             "outlinewidth": 0,
             "ticks": ""
            },
            "colorscale": [
             [
              0,
              "#0d0887"
             ],
             [
              0.1111111111111111,
              "#46039f"
             ],
             [
              0.2222222222222222,
              "#7201a8"
             ],
             [
              0.3333333333333333,
              "#9c179e"
             ],
             [
              0.4444444444444444,
              "#bd3786"
             ],
             [
              0.5555555555555556,
              "#d8576b"
             ],
             [
              0.6666666666666666,
              "#ed7953"
             ],
             [
              0.7777777777777778,
              "#fb9f3a"
             ],
             [
              0.8888888888888888,
              "#fdca26"
             ],
             [
              1,
              "#f0f921"
             ]
            ],
            "type": "heatmap"
           }
          ],
          "heatmapgl": [
           {
            "colorbar": {
             "outlinewidth": 0,
             "ticks": ""
            },
            "colorscale": [
             [
              0,
              "#0d0887"
             ],
             [
              0.1111111111111111,
              "#46039f"
             ],
             [
              0.2222222222222222,
              "#7201a8"
             ],
             [
              0.3333333333333333,
              "#9c179e"
             ],
             [
              0.4444444444444444,
              "#bd3786"
             ],
             [
              0.5555555555555556,
              "#d8576b"
             ],
             [
              0.6666666666666666,
              "#ed7953"
             ],
             [
              0.7777777777777778,
              "#fb9f3a"
             ],
             [
              0.8888888888888888,
              "#fdca26"
             ],
             [
              1,
              "#f0f921"
             ]
            ],
            "type": "heatmapgl"
           }
          ],
          "histogram": [
           {
            "marker": {
             "pattern": {
              "fillmode": "overlay",
              "size": 10,
              "solidity": 0.2
             }
            },
            "type": "histogram"
           }
          ],
          "histogram2d": [
           {
            "colorbar": {
             "outlinewidth": 0,
             "ticks": ""
            },
            "colorscale": [
             [
              0,
              "#0d0887"
             ],
             [
              0.1111111111111111,
              "#46039f"
             ],
             [
              0.2222222222222222,
              "#7201a8"
             ],
             [
              0.3333333333333333,
              "#9c179e"
             ],
             [
              0.4444444444444444,
              "#bd3786"
             ],
             [
              0.5555555555555556,
              "#d8576b"
             ],
             [
              0.6666666666666666,
              "#ed7953"
             ],
             [
              0.7777777777777778,
              "#fb9f3a"
             ],
             [
              0.8888888888888888,
              "#fdca26"
             ],
             [
              1,
              "#f0f921"
             ]
            ],
            "type": "histogram2d"
           }
          ],
          "histogram2dcontour": [
           {
            "colorbar": {
             "outlinewidth": 0,
             "ticks": ""
            },
            "colorscale": [
             [
              0,
              "#0d0887"
             ],
             [
              0.1111111111111111,
              "#46039f"
             ],
             [
              0.2222222222222222,
              "#7201a8"
             ],
             [
              0.3333333333333333,
              "#9c179e"
             ],
             [
              0.4444444444444444,
              "#bd3786"
             ],
             [
              0.5555555555555556,
              "#d8576b"
             ],
             [
              0.6666666666666666,
              "#ed7953"
             ],
             [
              0.7777777777777778,
              "#fb9f3a"
             ],
             [
              0.8888888888888888,
              "#fdca26"
             ],
             [
              1,
              "#f0f921"
             ]
            ],
            "type": "histogram2dcontour"
           }
          ],
          "mesh3d": [
           {
            "colorbar": {
             "outlinewidth": 0,
             "ticks": ""
            },
            "type": "mesh3d"
           }
          ],
          "parcoords": [
           {
            "line": {
             "colorbar": {
              "outlinewidth": 0,
              "ticks": ""
             }
            },
            "type": "parcoords"
           }
          ],
          "pie": [
           {
            "automargin": true,
            "type": "pie"
           }
          ],
          "scatter": [
           {
            "fillpattern": {
             "fillmode": "overlay",
             "size": 10,
             "solidity": 0.2
            },
            "type": "scatter"
           }
          ],
          "scatter3d": [
           {
            "line": {
             "colorbar": {
              "outlinewidth": 0,
              "ticks": ""
             }
            },
            "marker": {
             "colorbar": {
              "outlinewidth": 0,
              "ticks": ""
             }
            },
            "type": "scatter3d"
           }
          ],
          "scattercarpet": [
           {
            "marker": {
             "colorbar": {
              "outlinewidth": 0,
              "ticks": ""
             }
            },
            "type": "scattercarpet"
           }
          ],
          "scattergeo": [
           {
            "marker": {
             "colorbar": {
              "outlinewidth": 0,
              "ticks": ""
             }
            },
            "type": "scattergeo"
           }
          ],
          "scattergl": [
           {
            "marker": {
             "colorbar": {
              "outlinewidth": 0,
              "ticks": ""
             }
            },
            "type": "scattergl"
           }
          ],
          "scattermapbox": [
           {
            "marker": {
             "colorbar": {
              "outlinewidth": 0,
              "ticks": ""
             }
            },
            "type": "scattermapbox"
           }
          ],
          "scatterpolar": [
           {
            "marker": {
             "colorbar": {
              "outlinewidth": 0,
              "ticks": ""
             }
            },
            "type": "scatterpolar"
           }
          ],
          "scatterpolargl": [
           {
            "marker": {
             "colorbar": {
              "outlinewidth": 0,
              "ticks": ""
             }
            },
            "type": "scatterpolargl"
           }
          ],
          "scatterternary": [
           {
            "marker": {
             "colorbar": {
              "outlinewidth": 0,
              "ticks": ""
             }
            },
            "type": "scatterternary"
           }
          ],
          "surface": [
           {
            "colorbar": {
             "outlinewidth": 0,
             "ticks": ""
            },
            "colorscale": [
             [
              0,
              "#0d0887"
             ],
             [
              0.1111111111111111,
              "#46039f"
             ],
             [
              0.2222222222222222,
              "#7201a8"
             ],
             [
              0.3333333333333333,
              "#9c179e"
             ],
             [
              0.4444444444444444,
              "#bd3786"
             ],
             [
              0.5555555555555556,
              "#d8576b"
             ],
             [
              0.6666666666666666,
              "#ed7953"
             ],
             [
              0.7777777777777778,
              "#fb9f3a"
             ],
             [
              0.8888888888888888,
              "#fdca26"
             ],
             [
              1,
              "#f0f921"
             ]
            ],
            "type": "surface"
           }
          ],
          "table": [
           {
            "cells": {
             "fill": {
              "color": "#EBF0F8"
             },
             "line": {
              "color": "white"
             }
            },
            "header": {
             "fill": {
              "color": "#C8D4E3"
             },
             "line": {
              "color": "white"
             }
            },
            "type": "table"
           }
          ]
         },
         "layout": {
          "annotationdefaults": {
           "arrowcolor": "#2a3f5f",
           "arrowhead": 0,
           "arrowwidth": 1
          },
          "autotypenumbers": "strict",
          "coloraxis": {
           "colorbar": {
            "outlinewidth": 0,
            "ticks": ""
           }
          },
          "colorscale": {
           "diverging": [
            [
             0,
             "#8e0152"
            ],
            [
             0.1,
             "#c51b7d"
            ],
            [
             0.2,
             "#de77ae"
            ],
            [
             0.3,
             "#f1b6da"
            ],
            [
             0.4,
             "#fde0ef"
            ],
            [
             0.5,
             "#f7f7f7"
            ],
            [
             0.6,
             "#e6f5d0"
            ],
            [
             0.7,
             "#b8e186"
            ],
            [
             0.8,
             "#7fbc41"
            ],
            [
             0.9,
             "#4d9221"
            ],
            [
             1,
             "#276419"
            ]
           ],
           "sequential": [
            [
             0,
             "#0d0887"
            ],
            [
             0.1111111111111111,
             "#46039f"
            ],
            [
             0.2222222222222222,
             "#7201a8"
            ],
            [
             0.3333333333333333,
             "#9c179e"
            ],
            [
             0.4444444444444444,
             "#bd3786"
            ],
            [
             0.5555555555555556,
             "#d8576b"
            ],
            [
             0.6666666666666666,
             "#ed7953"
            ],
            [
             0.7777777777777778,
             "#fb9f3a"
            ],
            [
             0.8888888888888888,
             "#fdca26"
            ],
            [
             1,
             "#f0f921"
            ]
           ],
           "sequentialminus": [
            [
             0,
             "#0d0887"
            ],
            [
             0.1111111111111111,
             "#46039f"
            ],
            [
             0.2222222222222222,
             "#7201a8"
            ],
            [
             0.3333333333333333,
             "#9c179e"
            ],
            [
             0.4444444444444444,
             "#bd3786"
            ],
            [
             0.5555555555555556,
             "#d8576b"
            ],
            [
             0.6666666666666666,
             "#ed7953"
            ],
            [
             0.7777777777777778,
             "#fb9f3a"
            ],
            [
             0.8888888888888888,
             "#fdca26"
            ],
            [
             1,
             "#f0f921"
            ]
           ]
          },
          "colorway": [
           "#636efa",
           "#EF553B",
           "#00cc96",
           "#ab63fa",
           "#FFA15A",
           "#19d3f3",
           "#FF6692",
           "#B6E880",
           "#FF97FF",
           "#FECB52"
          ],
          "font": {
           "color": "#2a3f5f"
          },
          "geo": {
           "bgcolor": "white",
           "lakecolor": "white",
           "landcolor": "#E5ECF6",
           "showlakes": true,
           "showland": true,
           "subunitcolor": "white"
          },
          "hoverlabel": {
           "align": "left"
          },
          "hovermode": "closest",
          "mapbox": {
           "style": "light"
          },
          "paper_bgcolor": "white",
          "plot_bgcolor": "#E5ECF6",
          "polar": {
           "angularaxis": {
            "gridcolor": "white",
            "linecolor": "white",
            "ticks": ""
           },
           "bgcolor": "#E5ECF6",
           "radialaxis": {
            "gridcolor": "white",
            "linecolor": "white",
            "ticks": ""
           }
          },
          "scene": {
           "xaxis": {
            "backgroundcolor": "#E5ECF6",
            "gridcolor": "white",
            "gridwidth": 2,
            "linecolor": "white",
            "showbackground": true,
            "ticks": "",
            "zerolinecolor": "white"
           },
           "yaxis": {
            "backgroundcolor": "#E5ECF6",
            "gridcolor": "white",
            "gridwidth": 2,
            "linecolor": "white",
            "showbackground": true,
            "ticks": "",
            "zerolinecolor": "white"
           },
           "zaxis": {
            "backgroundcolor": "#E5ECF6",
            "gridcolor": "white",
            "gridwidth": 2,
            "linecolor": "white",
            "showbackground": true,
            "ticks": "",
            "zerolinecolor": "white"
           }
          },
          "shapedefaults": {
           "line": {
            "color": "#2a3f5f"
           }
          },
          "ternary": {
           "aaxis": {
            "gridcolor": "white",
            "linecolor": "white",
            "ticks": ""
           },
           "baxis": {
            "gridcolor": "white",
            "linecolor": "white",
            "ticks": ""
           },
           "bgcolor": "#E5ECF6",
           "caxis": {
            "gridcolor": "white",
            "linecolor": "white",
            "ticks": ""
           }
          },
          "title": {
           "x": 0.05
          },
          "xaxis": {
           "automargin": true,
           "gridcolor": "white",
           "linecolor": "white",
           "ticks": "",
           "title": {
            "standoff": 15
           },
           "zerolinecolor": "white",
           "zerolinewidth": 2
          },
          "yaxis": {
           "automargin": true,
           "gridcolor": "white",
           "linecolor": "white",
           "ticks": "",
           "title": {
            "standoff": 15
           },
           "zerolinecolor": "white",
           "zerolinewidth": 2
          }
         }
        },
        "title": {
         "font": {
          "color": "#4D5663"
         }
        },
        "xaxis": {
         "gridcolor": "#E1E5ED",
         "showgrid": true,
         "tickfont": {
          "color": "#4D5663"
         },
         "title": {
          "font": {
           "color": "#4D5663"
          },
          "text": ""
         },
         "zerolinecolor": "#E1E5ED"
        },
        "xaxis2": {
         "anchor": "y2",
         "gridcolor": "#E1E5ED",
         "showgrid": true,
         "showticklabels": false,
         "tickfont": {
          "color": "#4D5663"
         },
         "title": {
          "font": {
           "color": "#4D5663"
          },
          "text": ""
         },
         "zerolinecolor": "#E1E5ED"
        },
        "yaxis": {
         "domain": [
          0.3,
          1
         ],
         "gridcolor": "#E1E5ED",
         "showgrid": true,
         "tickfont": {
          "color": "#4D5663"
         },
         "title": {
          "font": {
           "color": "#4D5663"
          },
          "text": ""
         },
         "zerolinecolor": "#E1E5ED"
        },
        "yaxis2": {
         "domain": [
          0,
          0.25
         ],
         "gridcolor": "#E1E5ED",
         "showgrid": true,
         "tickfont": {
          "color": "#4D5663"
         },
         "title": {
          "font": {
           "color": "#4D5663"
          },
          "text": "Spread"
         },
         "zerolinecolor": "#E1E5ED"
        }
       }
      },
      "text/html": [
       "<div>                            <div id=\"50bf1c9f-4f61-438b-822e-34a007422dbe\" class=\"plotly-graph-div\" style=\"height:525px; width:100%;\"></div>            <script type=\"text/javascript\">                require([\"plotly\"], function(Plotly) {                    window.PLOTLYENV=window.PLOTLYENV || {};\n",
       "                    window.PLOTLYENV.BASE_URL='https://plot.ly';                                    if (document.getElementById(\"50bf1c9f-4f61-438b-822e-34a007422dbe\")) {                    Plotly.newPlot(                        \"50bf1c9f-4f61-438b-822e-34a007422dbe\",                        [{\"line\":{\"color\":\"rgba(255, 153, 51, 1.0)\",\"dash\":\"solid\",\"shape\":\"linear\",\"width\":1.3},\"mode\":\"lines\",\"name\":\"A\",\"text\":\"\",\"x\":[0,1,2,3,4,5,6,7,8,9,10,11,12,13,14,15,16,17,18,19,20,21,22,23,24,25,26,27,28,29,30,31,32,33,34,35,36,37,38,39,40,41,42,43,44,45,46,47,48,49,50,51,52,53,54,55,56,57,58,59,60,61,62,63,64,65,66,67,68,69,70,71,72,73,74,75,76,77,78,79,80,81,82,83,84,85,86,87,88,89,90,91,92,93,94,95,96,97,98,99],\"y\":[-1.4747380955937974,0.28725077112417235,-1.6568846794720122,1.381720942647079,0.3657833365094521,0.026008073073972172,-0.5109681143770874,-0.30968695071839253,0.08056276720583924,1.2206461655280683,-1.0044961445651543,-0.7086123871501985,-0.3032080480213653,-0.4681810010400497,0.4883380048432973,-1.0568975335865904,-0.6478951720409023,-1.1006335991216396,-1.1084672870151069,1.0115169993247746,0.8628879534962799,0.49107556584687034,-0.21460151922209592,-0.21167224031379164,-1.0868280793928702,0.1813077457259262,1.6048411477507714,-1.1129128593443407,0.13510904054871198,0.7363175261488993,0.30133889718720347,1.0968390103774157,-0.9215941053119098,1.1452096988910712,-0.0969211977387717,0.7832229582485118,1.0531791723051949,-0.6663370851946934,-0.7282508718905567,-1.688787692138687,0.2592955164616916,-0.35251940357111267,0.5255678646250175,0.1591013061134092,1.6392683058616393,-0.7594873429459711,0.3571677103292569,-1.9129516673080214,0.2812674212385775,2.9443484953104657,-1.2668238549208235,0.41322784242257693,1.206697949804835,1.0295637127428512,0.42415314431239537,-1.234242731046262,-0.005177234655683374,0.40215839443750323,0.5734568360798693,-0.981071428153688,-1.044181132406017,-0.5455429283558031,0.8723741296130654,-1.7382678852503126,-2.394203349842937,1.1200094352775187,-0.6221419105120386,0.28050386485521667,-0.21614849790735982,-0.5457390506690335,-2.3191277297140607,1.3524213867671204,0.12594824702172094,-0.02781084118179256,-1.0121863416508705,-0.1346075258918912,-0.2161185225683815,-1.4044793440674315,0.5103800616622387,-0.26035603985135364,0.7128604943441633,-0.09028399432601468,0.5214049330304661,-0.050307547047459246,-0.139890323143218,-1.2155801358748424,0.9627948608905095,0.8801238599064668,0.020185320431986706,1.6625023152013685,0.3816936279691013,0.34509760366963216,0.37972886845205844,0.4258913685657802,-0.22863620193291423,-1.4886214993845972,0.5486315743498743,-0.37552303459747266,-1.7087243821390654,-0.047214690067770786],\"type\":\"scatter\"},{\"line\":{\"color\":\"rgba(55, 128, 191, 1.0)\",\"dash\":\"solid\",\"shape\":\"linear\",\"width\":1.3},\"mode\":\"lines\",\"name\":\"B\",\"text\":\"\",\"x\":[0,1,2,3,4,5,6,7,8,9,10,11,12,13,14,15,16,17,18,19,20,21,22,23,24,25,26,27,28,29,30,31,32,33,34,35,36,37,38,39,40,41,42,43,44,45,46,47,48,49,50,51,52,53,54,55,56,57,58,59,60,61,62,63,64,65,66,67,68,69,70,71,72,73,74,75,76,77,78,79,80,81,82,83,84,85,86,87,88,89,90,91,92,93,94,95,96,97,98,99],\"y\":[0.21816361565301612,-0.18311601650778261,-0.8722852429063794,0.7996321791414022,1.4830013794585655,-1.8513851087254878,1.613906454791288,-1.5827358120075996,-0.2852339752587739,-1.1655837011030066,-1.3316526305662248,-0.058152616565652196,0.06088486005099269,-1.8538715257905751,-0.10795630868630458,-0.5169453758367406,0.05896114763704862,1.937674579815131,-0.43586910750577423,0.6301701523533102,0.2487690009306954,-0.5768590175830137,-0.23048178855369697,1.5829241162079017,-0.7064465895575457,-0.07800414606637208,0.9267040564138606,-0.9945444848093137,1.5232090046065017,0.5724140410636237,-0.5824132253983889,1.4758903927481846,0.7894141470303264,-0.34231970058963407,-0.7810319671697296,0.2072844838228586,-0.5588365519503141,-0.38971140833812906,0.21785672555286356,1.0289889419787783,-1.3145327761543142,0.18482300394128667,0.325360903405271,0.8234367426244258,0.7549608081461314,-0.24592878896044312,-0.8898589213424684,1.1296498601309384,-0.7646354208473364,-1.7613727579525837,-0.007885085352440032,-0.6550676125914235,-1.5382251668563758,2.9664757064106833,0.05136220368240336,0.9053762889413747,-0.9014199037894448,0.14416787795095554,0.5772481753295273,1.00066627733789,-1.484677774151373,-1.0470748306972992,-1.0394473595670013,1.0139539314489332,-0.2266635690751747,-2.906894044978705,0.3866286493770684,-0.22145896800858503,0.2723182682770941,-0.23515963148068272,-0.8867866717522348,-0.017926170650252895,0.1202193588446371,0.5167784095259662,-1.1692508750791701,0.12401321928940981,-0.7738107387476351,-0.9566254708018384,-0.26444548631561315,-1.6766931874405588,-1.5626958822528276,-1.0537752027800056,0.01008372961374793,0.07867473793517019,-1.6967402907609725,-1.896581525083377,-0.9524305910705916,0.9152100476428011,0.5403263954180979,-1.1951744668940307,-0.7586988875890001,-2.764229500397465,-1.058834908427951,-1.211320125788323,-1.4017384442446392,0.31423912897978823,0.40750676142202613,-0.12272730770175873,-0.16912280770312685,-0.17788138935751074],\"type\":\"scatter\"},{\"connectgaps\":false,\"fill\":\"tozeroy\",\"line\":{\"color\":\"green\",\"dash\":\"solid\",\"shape\":\"linear\",\"width\":0.5},\"mode\":\"lines\",\"name\":\"Spread\",\"showlegend\":false,\"x\":[0,1,2,3,4,5,6,7,8,9,10,11,12,13,14,15,16,17,18,19,20,21,22,23,24,25,26,27,28,29,30,31,32,33,34,35,36,37,38,39,40,41,42,43,44,45,46,47,48,49,50,51,52,53,54,55,56,57,58,59,60,61,62,63,64,65,66,67,68,69,70,71,72,73,74,75,76,77,78,79,80,81,82,83,84,85,86,87,88,89,90,91,92,93,94,95,96,97,98,99],\"xaxis\":\"x2\",\"y\":[\"\",0.47036678763195494,\"\",0.5820887635056767,\"\",1.87739318179946,\"\",1.273048861289207,0.36579674246461313,2.3862298666310746,0.3271564860010705,\"\",\"\",1.3856905247505253,0.5962943135296019,\"\",\"\",\"\",\"\",0.38134684697146437,0.6141189525655845,1.0679345834298841,0.015880269331601055,\"\",\"\",0.2593118917922983,0.6781370913369108,\"\",\"\",0.16390348508527564,0.8837521225855924,\"\",\"\",1.4875293994807053,0.6841107694309578,0.5759384744256533,1.6120157242555089,\"\",\"\",\"\",1.5738282926160059,\"\",0.20020696121974646,\"\",0.8843074977155079,\"\",1.2470266316717253,\"\",1.0459028420859138,4.705721253263049,\"\",1.0682954550140005,2.7449231166612105,\"\",0.372790940629992,\"\",0.8962426691337614,0.2579905164865477,\"\",\"\",0.44049664174535597,0.5015319023414961,1.9118214891800667,\"\",\"\",4.026903480256224,\"\",0.5019628328638017,\"\",\"\",\"\",1.3703475574173734,0.005728888177083849,\"\",0.15706453342829962,\"\",0.5576922161792536,\"\",0.7748255479778519,1.4163371475892053,2.275556376596991,0.9634912084539909,0.5113212034167182,\"\",1.5568499676177545,0.6810013892085347,1.915225451961101,\"\",\"\",2.857676782095399,1.1403925155581014,3.109327104067097,1.4385637768800095,1.6372114943541032,1.173102242311725,\"\",0.14112481292784818,\"\",\"\",0.13066669928973995],\"yaxis\":\"y2\",\"type\":\"scatter\"},{\"connectgaps\":false,\"fill\":\"tozeroy\",\"line\":{\"color\":\"red\",\"dash\":\"solid\",\"shape\":\"linear\",\"width\":0.5},\"mode\":\"lines\",\"name\":\"Spread\",\"showlegend\":false,\"x\":[0,1,2,3,4,5,6,7,8,9,10,11,12,13,14,15,16,17,18,19,20,21,22,23,24,25,26,27,28,29,30,31,32,33,34,35,36,37,38,39,40,41,42,43,44,45,46,47,48,49,50,51,52,53,54,55,56,57,58,59,60,61,62,63,64,65,66,67,68,69,70,71,72,73,74,75,76,77,78,79,80,81,82,83,84,85,86,87,88,89,90,91,92,93,94,95,96,97,98,99],\"xaxis\":\"x2\",\"y\":[-1.6929017112468134,\"\",-0.7845994365656328,\"\",-1.1172180429491134,\"\",-2.1248745691683757,\"\",\"\",\"\",\"\",-0.6504597705845463,-0.364092908072358,\"\",\"\",-0.5399521577498498,-0.7068563196779509,-3.0383081789367705,-0.6725981795093326,\"\",\"\",\"\",\"\",-1.7945963565216934,-0.3803814898353245,\"\",\"\",-0.11836837453502702,-1.3880999640577896,\"\",\"\",-0.37905138237076885,-1.711008252342236,\"\",\"\",\"\",\"\",-0.2766256768565643,-0.9461075974434203,-2.7177766341174654,\"\",-0.5373424075123994,\"\",-0.6643354365110166,\"\",-0.513558553985528,\"\",-3.0426015274389595,\"\",\"\",-1.2589387695683836,\"\",\"\",-1.936911993667832,\"\",-2.1396190199876366,\"\",\"\",-0.003791339249658021,-1.981737705491578,\"\",\"\",\"\",-2.7522218166992456,-2.167539780767762,\"\",-1.008770559889107,\"\",-0.48846676618445395,-0.31057941918835075,-1.4323410579618259,\"\",\"\",-0.5445892507077588,\"\",-0.258620745181301,\"\",-0.4478538732655931,\"\",\"\",\"\",\"\",\"\",-0.12898228498262942,\"\",\"\",\"\",-0.03508618773633432,-0.5201410749861112,\"\",\"\",\"\",\"\",\"\",\"\",-1.8028606283643853,\"\",-0.25279572689571395,-1.5396015744359386,\"\"],\"yaxis\":\"y2\",\"type\":\"scatter\"}],                        {\"hovermode\":\"x\",\"legend\":{\"bgcolor\":\"#F5F6F9\",\"font\":{\"color\":\"#4D5663\"}},\"paper_bgcolor\":\"#F5F6F9\",\"plot_bgcolor\":\"#F5F6F9\",\"template\":{\"data\":{\"barpolar\":[{\"marker\":{\"line\":{\"color\":\"#E5ECF6\",\"width\":0.5},\"pattern\":{\"fillmode\":\"overlay\",\"size\":10,\"solidity\":0.2}},\"type\":\"barpolar\"}],\"bar\":[{\"error_x\":{\"color\":\"#2a3f5f\"},\"error_y\":{\"color\":\"#2a3f5f\"},\"marker\":{\"line\":{\"color\":\"#E5ECF6\",\"width\":0.5},\"pattern\":{\"fillmode\":\"overlay\",\"size\":10,\"solidity\":0.2}},\"type\":\"bar\"}],\"carpet\":[{\"aaxis\":{\"endlinecolor\":\"#2a3f5f\",\"gridcolor\":\"white\",\"linecolor\":\"white\",\"minorgridcolor\":\"white\",\"startlinecolor\":\"#2a3f5f\"},\"baxis\":{\"endlinecolor\":\"#2a3f5f\",\"gridcolor\":\"white\",\"linecolor\":\"white\",\"minorgridcolor\":\"white\",\"startlinecolor\":\"#2a3f5f\"},\"type\":\"carpet\"}],\"choropleth\":[{\"colorbar\":{\"outlinewidth\":0,\"ticks\":\"\"},\"type\":\"choropleth\"}],\"contourcarpet\":[{\"colorbar\":{\"outlinewidth\":0,\"ticks\":\"\"},\"type\":\"contourcarpet\"}],\"contour\":[{\"colorbar\":{\"outlinewidth\":0,\"ticks\":\"\"},\"colorscale\":[[0.0,\"#0d0887\"],[0.1111111111111111,\"#46039f\"],[0.2222222222222222,\"#7201a8\"],[0.3333333333333333,\"#9c179e\"],[0.4444444444444444,\"#bd3786\"],[0.5555555555555556,\"#d8576b\"],[0.6666666666666666,\"#ed7953\"],[0.7777777777777778,\"#fb9f3a\"],[0.8888888888888888,\"#fdca26\"],[1.0,\"#f0f921\"]],\"type\":\"contour\"}],\"heatmapgl\":[{\"colorbar\":{\"outlinewidth\":0,\"ticks\":\"\"},\"colorscale\":[[0.0,\"#0d0887\"],[0.1111111111111111,\"#46039f\"],[0.2222222222222222,\"#7201a8\"],[0.3333333333333333,\"#9c179e\"],[0.4444444444444444,\"#bd3786\"],[0.5555555555555556,\"#d8576b\"],[0.6666666666666666,\"#ed7953\"],[0.7777777777777778,\"#fb9f3a\"],[0.8888888888888888,\"#fdca26\"],[1.0,\"#f0f921\"]],\"type\":\"heatmapgl\"}],\"heatmap\":[{\"colorbar\":{\"outlinewidth\":0,\"ticks\":\"\"},\"colorscale\":[[0.0,\"#0d0887\"],[0.1111111111111111,\"#46039f\"],[0.2222222222222222,\"#7201a8\"],[0.3333333333333333,\"#9c179e\"],[0.4444444444444444,\"#bd3786\"],[0.5555555555555556,\"#d8576b\"],[0.6666666666666666,\"#ed7953\"],[0.7777777777777778,\"#fb9f3a\"],[0.8888888888888888,\"#fdca26\"],[1.0,\"#f0f921\"]],\"type\":\"heatmap\"}],\"histogram2dcontour\":[{\"colorbar\":{\"outlinewidth\":0,\"ticks\":\"\"},\"colorscale\":[[0.0,\"#0d0887\"],[0.1111111111111111,\"#46039f\"],[0.2222222222222222,\"#7201a8\"],[0.3333333333333333,\"#9c179e\"],[0.4444444444444444,\"#bd3786\"],[0.5555555555555556,\"#d8576b\"],[0.6666666666666666,\"#ed7953\"],[0.7777777777777778,\"#fb9f3a\"],[0.8888888888888888,\"#fdca26\"],[1.0,\"#f0f921\"]],\"type\":\"histogram2dcontour\"}],\"histogram2d\":[{\"colorbar\":{\"outlinewidth\":0,\"ticks\":\"\"},\"colorscale\":[[0.0,\"#0d0887\"],[0.1111111111111111,\"#46039f\"],[0.2222222222222222,\"#7201a8\"],[0.3333333333333333,\"#9c179e\"],[0.4444444444444444,\"#bd3786\"],[0.5555555555555556,\"#d8576b\"],[0.6666666666666666,\"#ed7953\"],[0.7777777777777778,\"#fb9f3a\"],[0.8888888888888888,\"#fdca26\"],[1.0,\"#f0f921\"]],\"type\":\"histogram2d\"}],\"histogram\":[{\"marker\":{\"pattern\":{\"fillmode\":\"overlay\",\"size\":10,\"solidity\":0.2}},\"type\":\"histogram\"}],\"mesh3d\":[{\"colorbar\":{\"outlinewidth\":0,\"ticks\":\"\"},\"type\":\"mesh3d\"}],\"parcoords\":[{\"line\":{\"colorbar\":{\"outlinewidth\":0,\"ticks\":\"\"}},\"type\":\"parcoords\"}],\"pie\":[{\"automargin\":true,\"type\":\"pie\"}],\"scatter3d\":[{\"line\":{\"colorbar\":{\"outlinewidth\":0,\"ticks\":\"\"}},\"marker\":{\"colorbar\":{\"outlinewidth\":0,\"ticks\":\"\"}},\"type\":\"scatter3d\"}],\"scattercarpet\":[{\"marker\":{\"colorbar\":{\"outlinewidth\":0,\"ticks\":\"\"}},\"type\":\"scattercarpet\"}],\"scattergeo\":[{\"marker\":{\"colorbar\":{\"outlinewidth\":0,\"ticks\":\"\"}},\"type\":\"scattergeo\"}],\"scattergl\":[{\"marker\":{\"colorbar\":{\"outlinewidth\":0,\"ticks\":\"\"}},\"type\":\"scattergl\"}],\"scattermapbox\":[{\"marker\":{\"colorbar\":{\"outlinewidth\":0,\"ticks\":\"\"}},\"type\":\"scattermapbox\"}],\"scatterpolargl\":[{\"marker\":{\"colorbar\":{\"outlinewidth\":0,\"ticks\":\"\"}},\"type\":\"scatterpolargl\"}],\"scatterpolar\":[{\"marker\":{\"colorbar\":{\"outlinewidth\":0,\"ticks\":\"\"}},\"type\":\"scatterpolar\"}],\"scatter\":[{\"fillpattern\":{\"fillmode\":\"overlay\",\"size\":10,\"solidity\":0.2},\"type\":\"scatter\"}],\"scatterternary\":[{\"marker\":{\"colorbar\":{\"outlinewidth\":0,\"ticks\":\"\"}},\"type\":\"scatterternary\"}],\"surface\":[{\"colorbar\":{\"outlinewidth\":0,\"ticks\":\"\"},\"colorscale\":[[0.0,\"#0d0887\"],[0.1111111111111111,\"#46039f\"],[0.2222222222222222,\"#7201a8\"],[0.3333333333333333,\"#9c179e\"],[0.4444444444444444,\"#bd3786\"],[0.5555555555555556,\"#d8576b\"],[0.6666666666666666,\"#ed7953\"],[0.7777777777777778,\"#fb9f3a\"],[0.8888888888888888,\"#fdca26\"],[1.0,\"#f0f921\"]],\"type\":\"surface\"}],\"table\":[{\"cells\":{\"fill\":{\"color\":\"#EBF0F8\"},\"line\":{\"color\":\"white\"}},\"header\":{\"fill\":{\"color\":\"#C8D4E3\"},\"line\":{\"color\":\"white\"}},\"type\":\"table\"}]},\"layout\":{\"annotationdefaults\":{\"arrowcolor\":\"#2a3f5f\",\"arrowhead\":0,\"arrowwidth\":1},\"autotypenumbers\":\"strict\",\"coloraxis\":{\"colorbar\":{\"outlinewidth\":0,\"ticks\":\"\"}},\"colorscale\":{\"diverging\":[[0,\"#8e0152\"],[0.1,\"#c51b7d\"],[0.2,\"#de77ae\"],[0.3,\"#f1b6da\"],[0.4,\"#fde0ef\"],[0.5,\"#f7f7f7\"],[0.6,\"#e6f5d0\"],[0.7,\"#b8e186\"],[0.8,\"#7fbc41\"],[0.9,\"#4d9221\"],[1,\"#276419\"]],\"sequential\":[[0.0,\"#0d0887\"],[0.1111111111111111,\"#46039f\"],[0.2222222222222222,\"#7201a8\"],[0.3333333333333333,\"#9c179e\"],[0.4444444444444444,\"#bd3786\"],[0.5555555555555556,\"#d8576b\"],[0.6666666666666666,\"#ed7953\"],[0.7777777777777778,\"#fb9f3a\"],[0.8888888888888888,\"#fdca26\"],[1.0,\"#f0f921\"]],\"sequentialminus\":[[0.0,\"#0d0887\"],[0.1111111111111111,\"#46039f\"],[0.2222222222222222,\"#7201a8\"],[0.3333333333333333,\"#9c179e\"],[0.4444444444444444,\"#bd3786\"],[0.5555555555555556,\"#d8576b\"],[0.6666666666666666,\"#ed7953\"],[0.7777777777777778,\"#fb9f3a\"],[0.8888888888888888,\"#fdca26\"],[1.0,\"#f0f921\"]]},\"colorway\":[\"#636efa\",\"#EF553B\",\"#00cc96\",\"#ab63fa\",\"#FFA15A\",\"#19d3f3\",\"#FF6692\",\"#B6E880\",\"#FF97FF\",\"#FECB52\"],\"font\":{\"color\":\"#2a3f5f\"},\"geo\":{\"bgcolor\":\"white\",\"lakecolor\":\"white\",\"landcolor\":\"#E5ECF6\",\"showlakes\":true,\"showland\":true,\"subunitcolor\":\"white\"},\"hoverlabel\":{\"align\":\"left\"},\"hovermode\":\"closest\",\"mapbox\":{\"style\":\"light\"},\"paper_bgcolor\":\"white\",\"plot_bgcolor\":\"#E5ECF6\",\"polar\":{\"angularaxis\":{\"gridcolor\":\"white\",\"linecolor\":\"white\",\"ticks\":\"\"},\"bgcolor\":\"#E5ECF6\",\"radialaxis\":{\"gridcolor\":\"white\",\"linecolor\":\"white\",\"ticks\":\"\"}},\"scene\":{\"xaxis\":{\"backgroundcolor\":\"#E5ECF6\",\"gridcolor\":\"white\",\"gridwidth\":2,\"linecolor\":\"white\",\"showbackground\":true,\"ticks\":\"\",\"zerolinecolor\":\"white\"},\"yaxis\":{\"backgroundcolor\":\"#E5ECF6\",\"gridcolor\":\"white\",\"gridwidth\":2,\"linecolor\":\"white\",\"showbackground\":true,\"ticks\":\"\",\"zerolinecolor\":\"white\"},\"zaxis\":{\"backgroundcolor\":\"#E5ECF6\",\"gridcolor\":\"white\",\"gridwidth\":2,\"linecolor\":\"white\",\"showbackground\":true,\"ticks\":\"\",\"zerolinecolor\":\"white\"}},\"shapedefaults\":{\"line\":{\"color\":\"#2a3f5f\"}},\"ternary\":{\"aaxis\":{\"gridcolor\":\"white\",\"linecolor\":\"white\",\"ticks\":\"\"},\"baxis\":{\"gridcolor\":\"white\",\"linecolor\":\"white\",\"ticks\":\"\"},\"bgcolor\":\"#E5ECF6\",\"caxis\":{\"gridcolor\":\"white\",\"linecolor\":\"white\",\"ticks\":\"\"}},\"title\":{\"x\":0.05},\"xaxis\":{\"automargin\":true,\"gridcolor\":\"white\",\"linecolor\":\"white\",\"ticks\":\"\",\"title\":{\"standoff\":15},\"zerolinecolor\":\"white\",\"zerolinewidth\":2},\"yaxis\":{\"automargin\":true,\"gridcolor\":\"white\",\"linecolor\":\"white\",\"ticks\":\"\",\"title\":{\"standoff\":15},\"zerolinecolor\":\"white\",\"zerolinewidth\":2}}},\"title\":{\"font\":{\"color\":\"#4D5663\"}},\"xaxis\":{\"gridcolor\":\"#E1E5ED\",\"showgrid\":true,\"tickfont\":{\"color\":\"#4D5663\"},\"title\":{\"font\":{\"color\":\"#4D5663\"},\"text\":\"\"},\"zerolinecolor\":\"#E1E5ED\"},\"yaxis\":{\"domain\":[0.3,1],\"gridcolor\":\"#E1E5ED\",\"showgrid\":true,\"tickfont\":{\"color\":\"#4D5663\"},\"title\":{\"font\":{\"color\":\"#4D5663\"},\"text\":\"\"},\"zerolinecolor\":\"#E1E5ED\"},\"yaxis2\":{\"domain\":[0,0.25],\"gridcolor\":\"#E1E5ED\",\"showgrid\":true,\"tickfont\":{\"color\":\"#4D5663\"},\"title\":{\"font\":{\"color\":\"#4D5663\"},\"text\":\"Spread\"},\"zerolinecolor\":\"#E1E5ED\"},\"xaxis2\":{\"anchor\":\"y2\",\"gridcolor\":\"#E1E5ED\",\"showgrid\":true,\"showticklabels\":false,\"tickfont\":{\"color\":\"#4D5663\"},\"title\":{\"font\":{\"color\":\"#4D5663\"},\"text\":\"\"},\"zerolinecolor\":\"#E1E5ED\"}},                        {\"showLink\": true, \"linkText\": \"Export to plot.ly\", \"plotlyServerURL\": \"https://plot.ly\", \"responsive\": true}                    ).then(function(){\n",
       "                            \n",
       "var gd = document.getElementById('50bf1c9f-4f61-438b-822e-34a007422dbe');\n",
       "var x = new MutationObserver(function (mutations, observer) {{\n",
       "        var display = window.getComputedStyle(gd).display;\n",
       "        if (!display || display === 'none') {{\n",
       "            console.log([gd, 'removed!']);\n",
       "            Plotly.purge(gd);\n",
       "            observer.disconnect();\n",
       "        }}\n",
       "}});\n",
       "\n",
       "// Listen for the removal of the full notebook cells\n",
       "var notebookContainer = gd.closest('#notebook-container');\n",
       "if (notebookContainer) {{\n",
       "    x.observe(notebookContainer, {childList: true});\n",
       "}}\n",
       "\n",
       "// Listen for the clearing of the current output cell\n",
       "var outputEl = gd.closest('.output');\n",
       "if (outputEl) {{\n",
       "    x.observe(outputEl, {childList: true});\n",
       "}}\n",
       "\n",
       "                        })                };                });            </script>        </div>"
      ]
     },
     "metadata": {},
     "output_type": "display_data"
    }
   ],
   "source": [
    "df1[['A','B']].iplot(kind='spread')"
   ]
  },
  {
   "cell_type": "markdown",
   "metadata": {},
   "source": [
    "### 6. Histogram"
   ]
  },
  {
   "cell_type": "code",
   "execution_count": 85,
   "metadata": {
    "collapsed": false
   },
   "outputs": [
    {
     "data": {
      "application/vnd.plotly.v1+json": {
       "config": {
        "linkText": "Export to plot.ly",
        "plotlyServerURL": "https://plot.ly",
        "showLink": true
       },
       "data": [
        {
         "histfunc": "count",
         "histnorm": "",
         "marker": {
          "color": "rgba(255, 153, 51, 1.0)",
          "line": {
           "color": "#4D5663",
           "width": 1.3
          }
         },
         "name": "A",
         "opacity": 0.8,
         "orientation": "v",
         "type": "histogram",
         "x": [
          -1.4747380955937974,
          0.28725077112417235,
          -1.6568846794720122,
          1.381720942647079,
          0.3657833365094521,
          0.026008073073972172,
          -0.5109681143770874,
          -0.30968695071839253,
          0.08056276720583924,
          1.2206461655280683,
          -1.0044961445651543,
          -0.7086123871501985,
          -0.3032080480213653,
          -0.4681810010400497,
          0.4883380048432973,
          -1.0568975335865904,
          -0.6478951720409023,
          -1.1006335991216396,
          -1.1084672870151069,
          1.0115169993247746,
          0.8628879534962799,
          0.49107556584687034,
          -0.21460151922209592,
          -0.21167224031379164,
          -1.0868280793928702,
          0.1813077457259262,
          1.6048411477507714,
          -1.1129128593443407,
          0.13510904054871198,
          0.7363175261488993,
          0.30133889718720347,
          1.0968390103774157,
          -0.9215941053119098,
          1.1452096988910712,
          -0.0969211977387717,
          0.7832229582485118,
          1.0531791723051949,
          -0.6663370851946934,
          -0.7282508718905567,
          -1.688787692138687,
          0.2592955164616916,
          -0.35251940357111267,
          0.5255678646250175,
          0.1591013061134092,
          1.6392683058616393,
          -0.7594873429459711,
          0.3571677103292569,
          -1.9129516673080214,
          0.2812674212385775,
          2.9443484953104657,
          -1.2668238549208235,
          0.41322784242257693,
          1.206697949804835,
          1.0295637127428512,
          0.42415314431239537,
          -1.234242731046262,
          -0.005177234655683374,
          0.40215839443750323,
          0.5734568360798693,
          -0.981071428153688,
          -1.044181132406017,
          -0.5455429283558031,
          0.8723741296130654,
          -1.7382678852503126,
          -2.394203349842937,
          1.1200094352775187,
          -0.6221419105120386,
          0.28050386485521667,
          -0.21614849790735982,
          -0.5457390506690335,
          -2.3191277297140607,
          1.3524213867671204,
          0.12594824702172094,
          -0.02781084118179256,
          -1.0121863416508705,
          -0.1346075258918912,
          -0.2161185225683815,
          -1.4044793440674315,
          0.5103800616622387,
          -0.26035603985135364,
          0.7128604943441633,
          -0.09028399432601468,
          0.5214049330304661,
          -0.050307547047459246,
          -0.139890323143218,
          -1.2155801358748424,
          0.9627948608905095,
          0.8801238599064668,
          0.020185320431986706,
          1.6625023152013685,
          0.3816936279691013,
          0.34509760366963216,
          0.37972886845205844,
          0.4258913685657802,
          -0.22863620193291423,
          -1.4886214993845972,
          0.5486315743498743,
          -0.37552303459747266,
          -1.7087243821390654,
          -0.047214690067770786
         ]
        },
        {
         "histfunc": "count",
         "histnorm": "",
         "marker": {
          "color": "rgba(55, 128, 191, 1.0)",
          "line": {
           "color": "#4D5663",
           "width": 1.3
          }
         },
         "name": "B",
         "opacity": 0.8,
         "orientation": "v",
         "type": "histogram",
         "x": [
          0.21816361565301612,
          -0.18311601650778261,
          -0.8722852429063794,
          0.7996321791414022,
          1.4830013794585655,
          -1.8513851087254878,
          1.613906454791288,
          -1.5827358120075996,
          -0.2852339752587739,
          -1.1655837011030066,
          -1.3316526305662248,
          -0.058152616565652196,
          0.06088486005099269,
          -1.8538715257905751,
          -0.10795630868630458,
          -0.5169453758367406,
          0.05896114763704862,
          1.937674579815131,
          -0.43586910750577423,
          0.6301701523533102,
          0.2487690009306954,
          -0.5768590175830137,
          -0.23048178855369697,
          1.5829241162079017,
          -0.7064465895575457,
          -0.07800414606637208,
          0.9267040564138606,
          -0.9945444848093137,
          1.5232090046065017,
          0.5724140410636237,
          -0.5824132253983889,
          1.4758903927481846,
          0.7894141470303264,
          -0.34231970058963407,
          -0.7810319671697296,
          0.2072844838228586,
          -0.5588365519503141,
          -0.38971140833812906,
          0.21785672555286356,
          1.0289889419787783,
          -1.3145327761543142,
          0.18482300394128667,
          0.325360903405271,
          0.8234367426244258,
          0.7549608081461314,
          -0.24592878896044312,
          -0.8898589213424684,
          1.1296498601309384,
          -0.7646354208473364,
          -1.7613727579525837,
          -0.007885085352440032,
          -0.6550676125914235,
          -1.5382251668563758,
          2.9664757064106833,
          0.05136220368240336,
          0.9053762889413747,
          -0.9014199037894448,
          0.14416787795095554,
          0.5772481753295273,
          1.00066627733789,
          -1.484677774151373,
          -1.0470748306972992,
          -1.0394473595670013,
          1.0139539314489332,
          -0.2266635690751747,
          -2.906894044978705,
          0.3866286493770684,
          -0.22145896800858503,
          0.2723182682770941,
          -0.23515963148068272,
          -0.8867866717522348,
          -0.017926170650252895,
          0.1202193588446371,
          0.5167784095259662,
          -1.1692508750791701,
          0.12401321928940981,
          -0.7738107387476351,
          -0.9566254708018384,
          -0.26444548631561315,
          -1.6766931874405588,
          -1.5626958822528276,
          -1.0537752027800056,
          0.01008372961374793,
          0.07867473793517019,
          -1.6967402907609725,
          -1.896581525083377,
          -0.9524305910705916,
          0.9152100476428011,
          0.5403263954180979,
          -1.1951744668940307,
          -0.7586988875890001,
          -2.764229500397465,
          -1.058834908427951,
          -1.211320125788323,
          -1.4017384442446392,
          0.31423912897978823,
          0.40750676142202613,
          -0.12272730770175873,
          -0.16912280770312685,
          -0.17788138935751074
         ]
        },
        {
         "histfunc": "count",
         "histnorm": "",
         "marker": {
          "color": "rgba(50, 171, 96, 1.0)",
          "line": {
           "color": "#4D5663",
           "width": 1.3
          }
         },
         "name": "C",
         "opacity": 0.8,
         "orientation": "v",
         "type": "histogram",
         "x": [
          1.7377773904002787,
          -0.22395400729530127,
          0.1820734116872276,
          -0.7942279663986247,
          0.5582198101989171,
          0.8557186514611376,
          -0.4566546028122543,
          -0.4486886613225603,
          -0.462033243406978,
          1.7693450636612906,
          0.8493771531423921,
          -0.46690670588043465,
          0.6681701784956612,
          1.487470466970359,
          -1.592710230729672,
          -0.8893560759048776,
          0.9974415506640023,
          -0.11815807269381176,
          0.39085583078090946,
          -0.8678648114268143,
          -1.3232130718608561,
          1.2296438297962131,
          -1.7049252038650233,
          -0.1278833761359411,
          -0.9852621101243801,
          1.4511004245694241,
          -0.5107422042065087,
          0.35540352015450555,
          0.4608476569044969,
          0.4486668143051865,
          1.7038458179890796,
          1.2874981058355235,
          0.008172266049143288,
          1.3403757810053207,
          -0.48959248911528613,
          0.5761572892581875,
          -1.158663472942153,
          -2.3934735618828453,
          -2.0473455770351485,
          0.04363192875061731,
          0.9613481148956818,
          -0.23020568673440028,
          0.5268156949610865,
          0.9249023465550501,
          -0.23049076961016352,
          0.27160019016029285,
          0.34585203246608587,
          0.8663998050975331,
          -0.9774447107233512,
          -0.49791242970244515,
          -1.879355292075668,
          1.9648131850176263,
          -0.27336146294076935,
          0.4402545510186216,
          0.7274920462854855,
          0.26784305740453795,
          1.5272195480486723,
          -0.11650576271574038,
          1.203757674131996,
          -0.2400098004413862,
          0.5559898896596926,
          -0.25173079089603434,
          -0.17630458831284046,
          -0.584550466794726,
          1.3225811578308335,
          0.7294619170549295,
          0.7943615257625641,
          0.27209621340875817,
          -1.5785477719864265,
          0.3727682581763358,
          1.4550313417369363,
          1.3084602131497813,
          1.6908326835822265,
          -0.6751489947318258,
          -2.064870035828138,
          0.4935165233388467,
          0.8466278348395803,
          0.14975934344387587,
          -0.38709899368579576,
          -0.4914009940136751,
          -0.5018286362538411,
          -0.6533088785680246,
          1.054829047519902,
          0.49530987239203966,
          -0.021789443961921257,
          0.34301971407163234,
          0.384615463775324,
          -0.5202573280889718,
          0.955766575232318,
          0.47481063499827153,
          -0.4096097700355144,
          -0.7890433274251037,
          -1.3225480834101921,
          -1.4704335995087472,
          0.402125007984368,
          -0.7854528677118743,
          -0.8182638218352324,
          1.0890802638091794,
          0.39325131265035485,
          0.19159205137621324
         ]
        },
        {
         "histfunc": "count",
         "histnorm": "",
         "marker": {
          "color": "rgba(128, 0, 128, 1.0)",
          "line": {
           "color": "#4D5663",
           "width": 1.3
          }
         },
         "name": "D",
         "opacity": 0.8,
         "orientation": "v",
         "type": "histogram",
         "x": [
          -0.9898978880621447,
          -0.15653251538155546,
          1.1350151984266963,
          0.4330113225398728,
          -0.22662361863857208,
          1.2147557315772484,
          -1.0954533355276945,
          0.056981130154462885,
          1.085174429985138,
          0.14699559311323226,
          -0.49897601646505985,
          1.1989909816632942,
          0.6333982183822553,
          -0.9858404019714517,
          0.9646473937157795,
          -0.29878447694620397,
          0.038219071625085144,
          -1.7977606542818454,
          2.4301625828708593,
          -1.4225971964401587,
          -2.0545116148098432,
          -0.5543603071865605,
          -0.6588505749295496,
          1.2513627887378793,
          -0.8137948207943052,
          1.0422064628802337,
          -0.45192461570495496,
          -0.6497801405399549,
          -1.056516347348047,
          0.20440307609406713,
          1.0548270254772918,
          -0.570416040564116,
          0.6746325877971175,
          -0.4756361340610073,
          -0.7551924202762499,
          0.78069243348289,
          0.16415385377231234,
          -0.28675334369218347,
          0.30529160399932065,
          -0.2862858687531363,
          0.823671579756582,
          0.009792660113371647,
          0.3733208164001366,
          1.1993466973961242,
          -0.6027492101400286,
          -0.27046930406674846,
          -0.27937197120297924,
          -0.04930455118166517,
          0.0722552739941226,
          -1.4694929069425693,
          -0.6746960168843232,
          -0.6104468398467007,
          0.31013922462091476,
          -0.13520219674899842,
          1.2810838143310053,
          0.6346761225549629,
          0.6660497298057801,
          0.56872629264876,
          -0.71933362951576,
          0.016502895779975293,
          -1.2366498860403936,
          0.8115178064397559,
          0.8837234466172698,
          0.8352577811979678,
          1.3232430932241368,
          0.47543627781600223,
          0.08657443799251735,
          -1.039525159095973,
          0.48091097057485427,
          0.127197970073491,
          -1.745338456585933,
          -1.0008593606324803,
          -1.2375741669575637,
          -0.2676094462039642,
          0.029590830119454816,
          0.09694160474868284,
          -0.3623762651099337,
          -1.687778267088628,
          0.36560118017894544,
          -1.0608584180118896,
          0.24275606912664235,
          1.2723543462803888,
          0.8959132253067817,
          0.38105128916243275,
          -0.13942542910659975,
          0.004690457201917903,
          -1.5323061194361465,
          1.2902201186984674,
          -0.1675177290969658,
          -1.099215093653179,
          0.38281596578233895,
          -0.398418999693859,
          0.32140117646225186,
          0.36649377203199307,
          0.08223321776600259,
          -2.552523055574907,
          -0.7806267829411238,
          -0.27503823292083457,
          -1.5121006401915777,
          -0.421854097454241
         ]
        }
       ],
       "layout": {
        "barmode": "overlay",
        "legend": {
         "bgcolor": "#F5F6F9",
         "font": {
          "color": "#4D5663"
         }
        },
        "paper_bgcolor": "#F5F6F9",
        "plot_bgcolor": "#F5F6F9",
        "template": {
         "data": {
          "bar": [
           {
            "error_x": {
             "color": "#2a3f5f"
            },
            "error_y": {
             "color": "#2a3f5f"
            },
            "marker": {
             "line": {
              "color": "#E5ECF6",
              "width": 0.5
             },
             "pattern": {
              "fillmode": "overlay",
              "size": 10,
              "solidity": 0.2
             }
            },
            "type": "bar"
           }
          ],
          "barpolar": [
           {
            "marker": {
             "line": {
              "color": "#E5ECF6",
              "width": 0.5
             },
             "pattern": {
              "fillmode": "overlay",
              "size": 10,
              "solidity": 0.2
             }
            },
            "type": "barpolar"
           }
          ],
          "carpet": [
           {
            "aaxis": {
             "endlinecolor": "#2a3f5f",
             "gridcolor": "white",
             "linecolor": "white",
             "minorgridcolor": "white",
             "startlinecolor": "#2a3f5f"
            },
            "baxis": {
             "endlinecolor": "#2a3f5f",
             "gridcolor": "white",
             "linecolor": "white",
             "minorgridcolor": "white",
             "startlinecolor": "#2a3f5f"
            },
            "type": "carpet"
           }
          ],
          "choropleth": [
           {
            "colorbar": {
             "outlinewidth": 0,
             "ticks": ""
            },
            "type": "choropleth"
           }
          ],
          "contour": [
           {
            "colorbar": {
             "outlinewidth": 0,
             "ticks": ""
            },
            "colorscale": [
             [
              0,
              "#0d0887"
             ],
             [
              0.1111111111111111,
              "#46039f"
             ],
             [
              0.2222222222222222,
              "#7201a8"
             ],
             [
              0.3333333333333333,
              "#9c179e"
             ],
             [
              0.4444444444444444,
              "#bd3786"
             ],
             [
              0.5555555555555556,
              "#d8576b"
             ],
             [
              0.6666666666666666,
              "#ed7953"
             ],
             [
              0.7777777777777778,
              "#fb9f3a"
             ],
             [
              0.8888888888888888,
              "#fdca26"
             ],
             [
              1,
              "#f0f921"
             ]
            ],
            "type": "contour"
           }
          ],
          "contourcarpet": [
           {
            "colorbar": {
             "outlinewidth": 0,
             "ticks": ""
            },
            "type": "contourcarpet"
           }
          ],
          "heatmap": [
           {
            "colorbar": {
             "outlinewidth": 0,
             "ticks": ""
            },
            "colorscale": [
             [
              0,
              "#0d0887"
             ],
             [
              0.1111111111111111,
              "#46039f"
             ],
             [
              0.2222222222222222,
              "#7201a8"
             ],
             [
              0.3333333333333333,
              "#9c179e"
             ],
             [
              0.4444444444444444,
              "#bd3786"
             ],
             [
              0.5555555555555556,
              "#d8576b"
             ],
             [
              0.6666666666666666,
              "#ed7953"
             ],
             [
              0.7777777777777778,
              "#fb9f3a"
             ],
             [
              0.8888888888888888,
              "#fdca26"
             ],
             [
              1,
              "#f0f921"
             ]
            ],
            "type": "heatmap"
           }
          ],
          "heatmapgl": [
           {
            "colorbar": {
             "outlinewidth": 0,
             "ticks": ""
            },
            "colorscale": [
             [
              0,
              "#0d0887"
             ],
             [
              0.1111111111111111,
              "#46039f"
             ],
             [
              0.2222222222222222,
              "#7201a8"
             ],
             [
              0.3333333333333333,
              "#9c179e"
             ],
             [
              0.4444444444444444,
              "#bd3786"
             ],
             [
              0.5555555555555556,
              "#d8576b"
             ],
             [
              0.6666666666666666,
              "#ed7953"
             ],
             [
              0.7777777777777778,
              "#fb9f3a"
             ],
             [
              0.8888888888888888,
              "#fdca26"
             ],
             [
              1,
              "#f0f921"
             ]
            ],
            "type": "heatmapgl"
           }
          ],
          "histogram": [
           {
            "marker": {
             "pattern": {
              "fillmode": "overlay",
              "size": 10,
              "solidity": 0.2
             }
            },
            "type": "histogram"
           }
          ],
          "histogram2d": [
           {
            "colorbar": {
             "outlinewidth": 0,
             "ticks": ""
            },
            "colorscale": [
             [
              0,
              "#0d0887"
             ],
             [
              0.1111111111111111,
              "#46039f"
             ],
             [
              0.2222222222222222,
              "#7201a8"
             ],
             [
              0.3333333333333333,
              "#9c179e"
             ],
             [
              0.4444444444444444,
              "#bd3786"
             ],
             [
              0.5555555555555556,
              "#d8576b"
             ],
             [
              0.6666666666666666,
              "#ed7953"
             ],
             [
              0.7777777777777778,
              "#fb9f3a"
             ],
             [
              0.8888888888888888,
              "#fdca26"
             ],
             [
              1,
              "#f0f921"
             ]
            ],
            "type": "histogram2d"
           }
          ],
          "histogram2dcontour": [
           {
            "colorbar": {
             "outlinewidth": 0,
             "ticks": ""
            },
            "colorscale": [
             [
              0,
              "#0d0887"
             ],
             [
              0.1111111111111111,
              "#46039f"
             ],
             [
              0.2222222222222222,
              "#7201a8"
             ],
             [
              0.3333333333333333,
              "#9c179e"
             ],
             [
              0.4444444444444444,
              "#bd3786"
             ],
             [
              0.5555555555555556,
              "#d8576b"
             ],
             [
              0.6666666666666666,
              "#ed7953"
             ],
             [
              0.7777777777777778,
              "#fb9f3a"
             ],
             [
              0.8888888888888888,
              "#fdca26"
             ],
             [
              1,
              "#f0f921"
             ]
            ],
            "type": "histogram2dcontour"
           }
          ],
          "mesh3d": [
           {
            "colorbar": {
             "outlinewidth": 0,
             "ticks": ""
            },
            "type": "mesh3d"
           }
          ],
          "parcoords": [
           {
            "line": {
             "colorbar": {
              "outlinewidth": 0,
              "ticks": ""
             }
            },
            "type": "parcoords"
           }
          ],
          "pie": [
           {
            "automargin": true,
            "type": "pie"
           }
          ],
          "scatter": [
           {
            "fillpattern": {
             "fillmode": "overlay",
             "size": 10,
             "solidity": 0.2
            },
            "type": "scatter"
           }
          ],
          "scatter3d": [
           {
            "line": {
             "colorbar": {
              "outlinewidth": 0,
              "ticks": ""
             }
            },
            "marker": {
             "colorbar": {
              "outlinewidth": 0,
              "ticks": ""
             }
            },
            "type": "scatter3d"
           }
          ],
          "scattercarpet": [
           {
            "marker": {
             "colorbar": {
              "outlinewidth": 0,
              "ticks": ""
             }
            },
            "type": "scattercarpet"
           }
          ],
          "scattergeo": [
           {
            "marker": {
             "colorbar": {
              "outlinewidth": 0,
              "ticks": ""
             }
            },
            "type": "scattergeo"
           }
          ],
          "scattergl": [
           {
            "marker": {
             "colorbar": {
              "outlinewidth": 0,
              "ticks": ""
             }
            },
            "type": "scattergl"
           }
          ],
          "scattermapbox": [
           {
            "marker": {
             "colorbar": {
              "outlinewidth": 0,
              "ticks": ""
             }
            },
            "type": "scattermapbox"
           }
          ],
          "scatterpolar": [
           {
            "marker": {
             "colorbar": {
              "outlinewidth": 0,
              "ticks": ""
             }
            },
            "type": "scatterpolar"
           }
          ],
          "scatterpolargl": [
           {
            "marker": {
             "colorbar": {
              "outlinewidth": 0,
              "ticks": ""
             }
            },
            "type": "scatterpolargl"
           }
          ],
          "scatterternary": [
           {
            "marker": {
             "colorbar": {
              "outlinewidth": 0,
              "ticks": ""
             }
            },
            "type": "scatterternary"
           }
          ],
          "surface": [
           {
            "colorbar": {
             "outlinewidth": 0,
             "ticks": ""
            },
            "colorscale": [
             [
              0,
              "#0d0887"
             ],
             [
              0.1111111111111111,
              "#46039f"
             ],
             [
              0.2222222222222222,
              "#7201a8"
             ],
             [
              0.3333333333333333,
              "#9c179e"
             ],
             [
              0.4444444444444444,
              "#bd3786"
             ],
             [
              0.5555555555555556,
              "#d8576b"
             ],
             [
              0.6666666666666666,
              "#ed7953"
             ],
             [
              0.7777777777777778,
              "#fb9f3a"
             ],
             [
              0.8888888888888888,
              "#fdca26"
             ],
             [
              1,
              "#f0f921"
             ]
            ],
            "type": "surface"
           }
          ],
          "table": [
           {
            "cells": {
             "fill": {
              "color": "#EBF0F8"
             },
             "line": {
              "color": "white"
             }
            },
            "header": {
             "fill": {
              "color": "#C8D4E3"
             },
             "line": {
              "color": "white"
             }
            },
            "type": "table"
           }
          ]
         },
         "layout": {
          "annotationdefaults": {
           "arrowcolor": "#2a3f5f",
           "arrowhead": 0,
           "arrowwidth": 1
          },
          "autotypenumbers": "strict",
          "coloraxis": {
           "colorbar": {
            "outlinewidth": 0,
            "ticks": ""
           }
          },
          "colorscale": {
           "diverging": [
            [
             0,
             "#8e0152"
            ],
            [
             0.1,
             "#c51b7d"
            ],
            [
             0.2,
             "#de77ae"
            ],
            [
             0.3,
             "#f1b6da"
            ],
            [
             0.4,
             "#fde0ef"
            ],
            [
             0.5,
             "#f7f7f7"
            ],
            [
             0.6,
             "#e6f5d0"
            ],
            [
             0.7,
             "#b8e186"
            ],
            [
             0.8,
             "#7fbc41"
            ],
            [
             0.9,
             "#4d9221"
            ],
            [
             1,
             "#276419"
            ]
           ],
           "sequential": [
            [
             0,
             "#0d0887"
            ],
            [
             0.1111111111111111,
             "#46039f"
            ],
            [
             0.2222222222222222,
             "#7201a8"
            ],
            [
             0.3333333333333333,
             "#9c179e"
            ],
            [
             0.4444444444444444,
             "#bd3786"
            ],
            [
             0.5555555555555556,
             "#d8576b"
            ],
            [
             0.6666666666666666,
             "#ed7953"
            ],
            [
             0.7777777777777778,
             "#fb9f3a"
            ],
            [
             0.8888888888888888,
             "#fdca26"
            ],
            [
             1,
             "#f0f921"
            ]
           ],
           "sequentialminus": [
            [
             0,
             "#0d0887"
            ],
            [
             0.1111111111111111,
             "#46039f"
            ],
            [
             0.2222222222222222,
             "#7201a8"
            ],
            [
             0.3333333333333333,
             "#9c179e"
            ],
            [
             0.4444444444444444,
             "#bd3786"
            ],
            [
             0.5555555555555556,
             "#d8576b"
            ],
            [
             0.6666666666666666,
             "#ed7953"
            ],
            [
             0.7777777777777778,
             "#fb9f3a"
            ],
            [
             0.8888888888888888,
             "#fdca26"
            ],
            [
             1,
             "#f0f921"
            ]
           ]
          },
          "colorway": [
           "#636efa",
           "#EF553B",
           "#00cc96",
           "#ab63fa",
           "#FFA15A",
           "#19d3f3",
           "#FF6692",
           "#B6E880",
           "#FF97FF",
           "#FECB52"
          ],
          "font": {
           "color": "#2a3f5f"
          },
          "geo": {
           "bgcolor": "white",
           "lakecolor": "white",
           "landcolor": "#E5ECF6",
           "showlakes": true,
           "showland": true,
           "subunitcolor": "white"
          },
          "hoverlabel": {
           "align": "left"
          },
          "hovermode": "closest",
          "mapbox": {
           "style": "light"
          },
          "paper_bgcolor": "white",
          "plot_bgcolor": "#E5ECF6",
          "polar": {
           "angularaxis": {
            "gridcolor": "white",
            "linecolor": "white",
            "ticks": ""
           },
           "bgcolor": "#E5ECF6",
           "radialaxis": {
            "gridcolor": "white",
            "linecolor": "white",
            "ticks": ""
           }
          },
          "scene": {
           "xaxis": {
            "backgroundcolor": "#E5ECF6",
            "gridcolor": "white",
            "gridwidth": 2,
            "linecolor": "white",
            "showbackground": true,
            "ticks": "",
            "zerolinecolor": "white"
           },
           "yaxis": {
            "backgroundcolor": "#E5ECF6",
            "gridcolor": "white",
            "gridwidth": 2,
            "linecolor": "white",
            "showbackground": true,
            "ticks": "",
            "zerolinecolor": "white"
           },
           "zaxis": {
            "backgroundcolor": "#E5ECF6",
            "gridcolor": "white",
            "gridwidth": 2,
            "linecolor": "white",
            "showbackground": true,
            "ticks": "",
            "zerolinecolor": "white"
           }
          },
          "shapedefaults": {
           "line": {
            "color": "#2a3f5f"
           }
          },
          "ternary": {
           "aaxis": {
            "gridcolor": "white",
            "linecolor": "white",
            "ticks": ""
           },
           "baxis": {
            "gridcolor": "white",
            "linecolor": "white",
            "ticks": ""
           },
           "bgcolor": "#E5ECF6",
           "caxis": {
            "gridcolor": "white",
            "linecolor": "white",
            "ticks": ""
           }
          },
          "title": {
           "x": 0.05
          },
          "xaxis": {
           "automargin": true,
           "gridcolor": "white",
           "linecolor": "white",
           "ticks": "",
           "title": {
            "standoff": 15
           },
           "zerolinecolor": "white",
           "zerolinewidth": 2
          },
          "yaxis": {
           "automargin": true,
           "gridcolor": "white",
           "linecolor": "white",
           "ticks": "",
           "title": {
            "standoff": 15
           },
           "zerolinecolor": "white",
           "zerolinewidth": 2
          }
         }
        },
        "title": {
         "font": {
          "color": "#4D5663"
         }
        },
        "xaxis": {
         "gridcolor": "#E1E5ED",
         "showgrid": true,
         "tickfont": {
          "color": "#4D5663"
         },
         "title": {
          "font": {
           "color": "#4D5663"
          },
          "text": ""
         },
         "zerolinecolor": "#E1E5ED"
        },
        "yaxis": {
         "gridcolor": "#E1E5ED",
         "showgrid": true,
         "tickfont": {
          "color": "#4D5663"
         },
         "title": {
          "font": {
           "color": "#4D5663"
          },
          "text": ""
         },
         "zerolinecolor": "#E1E5ED"
        }
       }
      },
      "text/html": [
       "<div>                            <div id=\"817b5bec-5125-4df2-8ef6-e2661704d354\" class=\"plotly-graph-div\" style=\"height:525px; width:100%;\"></div>            <script type=\"text/javascript\">                require([\"plotly\"], function(Plotly) {                    window.PLOTLYENV=window.PLOTLYENV || {};\n",
       "                    window.PLOTLYENV.BASE_URL='https://plot.ly';                                    if (document.getElementById(\"817b5bec-5125-4df2-8ef6-e2661704d354\")) {                    Plotly.newPlot(                        \"817b5bec-5125-4df2-8ef6-e2661704d354\",                        [{\"histfunc\":\"count\",\"histnorm\":\"\",\"marker\":{\"color\":\"rgba(255, 153, 51, 1.0)\",\"line\":{\"color\":\"#4D5663\",\"width\":1.3}},\"name\":\"A\",\"opacity\":0.8,\"orientation\":\"v\",\"x\":[-1.4747380955937974,0.28725077112417235,-1.6568846794720122,1.381720942647079,0.3657833365094521,0.026008073073972172,-0.5109681143770874,-0.30968695071839253,0.08056276720583924,1.2206461655280683,-1.0044961445651543,-0.7086123871501985,-0.3032080480213653,-0.4681810010400497,0.4883380048432973,-1.0568975335865904,-0.6478951720409023,-1.1006335991216396,-1.1084672870151069,1.0115169993247746,0.8628879534962799,0.49107556584687034,-0.21460151922209592,-0.21167224031379164,-1.0868280793928702,0.1813077457259262,1.6048411477507714,-1.1129128593443407,0.13510904054871198,0.7363175261488993,0.30133889718720347,1.0968390103774157,-0.9215941053119098,1.1452096988910712,-0.0969211977387717,0.7832229582485118,1.0531791723051949,-0.6663370851946934,-0.7282508718905567,-1.688787692138687,0.2592955164616916,-0.35251940357111267,0.5255678646250175,0.1591013061134092,1.6392683058616393,-0.7594873429459711,0.3571677103292569,-1.9129516673080214,0.2812674212385775,2.9443484953104657,-1.2668238549208235,0.41322784242257693,1.206697949804835,1.0295637127428512,0.42415314431239537,-1.234242731046262,-0.005177234655683374,0.40215839443750323,0.5734568360798693,-0.981071428153688,-1.044181132406017,-0.5455429283558031,0.8723741296130654,-1.7382678852503126,-2.394203349842937,1.1200094352775187,-0.6221419105120386,0.28050386485521667,-0.21614849790735982,-0.5457390506690335,-2.3191277297140607,1.3524213867671204,0.12594824702172094,-0.02781084118179256,-1.0121863416508705,-0.1346075258918912,-0.2161185225683815,-1.4044793440674315,0.5103800616622387,-0.26035603985135364,0.7128604943441633,-0.09028399432601468,0.5214049330304661,-0.050307547047459246,-0.139890323143218,-1.2155801358748424,0.9627948608905095,0.8801238599064668,0.020185320431986706,1.6625023152013685,0.3816936279691013,0.34509760366963216,0.37972886845205844,0.4258913685657802,-0.22863620193291423,-1.4886214993845972,0.5486315743498743,-0.37552303459747266,-1.7087243821390654,-0.047214690067770786],\"type\":\"histogram\"},{\"histfunc\":\"count\",\"histnorm\":\"\",\"marker\":{\"color\":\"rgba(55, 128, 191, 1.0)\",\"line\":{\"color\":\"#4D5663\",\"width\":1.3}},\"name\":\"B\",\"opacity\":0.8,\"orientation\":\"v\",\"x\":[0.21816361565301612,-0.18311601650778261,-0.8722852429063794,0.7996321791414022,1.4830013794585655,-1.8513851087254878,1.613906454791288,-1.5827358120075996,-0.2852339752587739,-1.1655837011030066,-1.3316526305662248,-0.058152616565652196,0.06088486005099269,-1.8538715257905751,-0.10795630868630458,-0.5169453758367406,0.05896114763704862,1.937674579815131,-0.43586910750577423,0.6301701523533102,0.2487690009306954,-0.5768590175830137,-0.23048178855369697,1.5829241162079017,-0.7064465895575457,-0.07800414606637208,0.9267040564138606,-0.9945444848093137,1.5232090046065017,0.5724140410636237,-0.5824132253983889,1.4758903927481846,0.7894141470303264,-0.34231970058963407,-0.7810319671697296,0.2072844838228586,-0.5588365519503141,-0.38971140833812906,0.21785672555286356,1.0289889419787783,-1.3145327761543142,0.18482300394128667,0.325360903405271,0.8234367426244258,0.7549608081461314,-0.24592878896044312,-0.8898589213424684,1.1296498601309384,-0.7646354208473364,-1.7613727579525837,-0.007885085352440032,-0.6550676125914235,-1.5382251668563758,2.9664757064106833,0.05136220368240336,0.9053762889413747,-0.9014199037894448,0.14416787795095554,0.5772481753295273,1.00066627733789,-1.484677774151373,-1.0470748306972992,-1.0394473595670013,1.0139539314489332,-0.2266635690751747,-2.906894044978705,0.3866286493770684,-0.22145896800858503,0.2723182682770941,-0.23515963148068272,-0.8867866717522348,-0.017926170650252895,0.1202193588446371,0.5167784095259662,-1.1692508750791701,0.12401321928940981,-0.7738107387476351,-0.9566254708018384,-0.26444548631561315,-1.6766931874405588,-1.5626958822528276,-1.0537752027800056,0.01008372961374793,0.07867473793517019,-1.6967402907609725,-1.896581525083377,-0.9524305910705916,0.9152100476428011,0.5403263954180979,-1.1951744668940307,-0.7586988875890001,-2.764229500397465,-1.058834908427951,-1.211320125788323,-1.4017384442446392,0.31423912897978823,0.40750676142202613,-0.12272730770175873,-0.16912280770312685,-0.17788138935751074],\"type\":\"histogram\"},{\"histfunc\":\"count\",\"histnorm\":\"\",\"marker\":{\"color\":\"rgba(50, 171, 96, 1.0)\",\"line\":{\"color\":\"#4D5663\",\"width\":1.3}},\"name\":\"C\",\"opacity\":0.8,\"orientation\":\"v\",\"x\":[1.7377773904002787,-0.22395400729530127,0.1820734116872276,-0.7942279663986247,0.5582198101989171,0.8557186514611376,-0.4566546028122543,-0.4486886613225603,-0.462033243406978,1.7693450636612906,0.8493771531423921,-0.46690670588043465,0.6681701784956612,1.487470466970359,-1.592710230729672,-0.8893560759048776,0.9974415506640023,-0.11815807269381176,0.39085583078090946,-0.8678648114268143,-1.3232130718608561,1.2296438297962131,-1.7049252038650233,-0.1278833761359411,-0.9852621101243801,1.4511004245694241,-0.5107422042065087,0.35540352015450555,0.4608476569044969,0.4486668143051865,1.7038458179890796,1.2874981058355235,0.008172266049143288,1.3403757810053207,-0.48959248911528613,0.5761572892581875,-1.158663472942153,-2.3934735618828453,-2.0473455770351485,0.04363192875061731,0.9613481148956818,-0.23020568673440028,0.5268156949610865,0.9249023465550501,-0.23049076961016352,0.27160019016029285,0.34585203246608587,0.8663998050975331,-0.9774447107233512,-0.49791242970244515,-1.879355292075668,1.9648131850176263,-0.27336146294076935,0.4402545510186216,0.7274920462854855,0.26784305740453795,1.5272195480486723,-0.11650576271574038,1.203757674131996,-0.2400098004413862,0.5559898896596926,-0.25173079089603434,-0.17630458831284046,-0.584550466794726,1.3225811578308335,0.7294619170549295,0.7943615257625641,0.27209621340875817,-1.5785477719864265,0.3727682581763358,1.4550313417369363,1.3084602131497813,1.6908326835822265,-0.6751489947318258,-2.064870035828138,0.4935165233388467,0.8466278348395803,0.14975934344387587,-0.38709899368579576,-0.4914009940136751,-0.5018286362538411,-0.6533088785680246,1.054829047519902,0.49530987239203966,-0.021789443961921257,0.34301971407163234,0.384615463775324,-0.5202573280889718,0.955766575232318,0.47481063499827153,-0.4096097700355144,-0.7890433274251037,-1.3225480834101921,-1.4704335995087472,0.402125007984368,-0.7854528677118743,-0.8182638218352324,1.0890802638091794,0.39325131265035485,0.19159205137621324],\"type\":\"histogram\"},{\"histfunc\":\"count\",\"histnorm\":\"\",\"marker\":{\"color\":\"rgba(128, 0, 128, 1.0)\",\"line\":{\"color\":\"#4D5663\",\"width\":1.3}},\"name\":\"D\",\"opacity\":0.8,\"orientation\":\"v\",\"x\":[-0.9898978880621447,-0.15653251538155546,1.1350151984266963,0.4330113225398728,-0.22662361863857208,1.2147557315772484,-1.0954533355276945,0.056981130154462885,1.085174429985138,0.14699559311323226,-0.49897601646505985,1.1989909816632942,0.6333982183822553,-0.9858404019714517,0.9646473937157795,-0.29878447694620397,0.038219071625085144,-1.7977606542818454,2.4301625828708593,-1.4225971964401587,-2.0545116148098432,-0.5543603071865605,-0.6588505749295496,1.2513627887378793,-0.8137948207943052,1.0422064628802337,-0.45192461570495496,-0.6497801405399549,-1.056516347348047,0.20440307609406713,1.0548270254772918,-0.570416040564116,0.6746325877971175,-0.4756361340610073,-0.7551924202762499,0.78069243348289,0.16415385377231234,-0.28675334369218347,0.30529160399932065,-0.2862858687531363,0.823671579756582,0.009792660113371647,0.3733208164001366,1.1993466973961242,-0.6027492101400286,-0.27046930406674846,-0.27937197120297924,-0.04930455118166517,0.0722552739941226,-1.4694929069425693,-0.6746960168843232,-0.6104468398467007,0.31013922462091476,-0.13520219674899842,1.2810838143310053,0.6346761225549629,0.6660497298057801,0.56872629264876,-0.71933362951576,0.016502895779975293,-1.2366498860403936,0.8115178064397559,0.8837234466172698,0.8352577811979678,1.3232430932241368,0.47543627781600223,0.08657443799251735,-1.039525159095973,0.48091097057485427,0.127197970073491,-1.745338456585933,-1.0008593606324803,-1.2375741669575637,-0.2676094462039642,0.029590830119454816,0.09694160474868284,-0.3623762651099337,-1.687778267088628,0.36560118017894544,-1.0608584180118896,0.24275606912664235,1.2723543462803888,0.8959132253067817,0.38105128916243275,-0.13942542910659975,0.004690457201917903,-1.5323061194361465,1.2902201186984674,-0.1675177290969658,-1.099215093653179,0.38281596578233895,-0.398418999693859,0.32140117646225186,0.36649377203199307,0.08223321776600259,-2.552523055574907,-0.7806267829411238,-0.27503823292083457,-1.5121006401915777,-0.421854097454241],\"type\":\"histogram\"}],                        {\"barmode\":\"overlay\",\"legend\":{\"bgcolor\":\"#F5F6F9\",\"font\":{\"color\":\"#4D5663\"}},\"paper_bgcolor\":\"#F5F6F9\",\"plot_bgcolor\":\"#F5F6F9\",\"template\":{\"data\":{\"barpolar\":[{\"marker\":{\"line\":{\"color\":\"#E5ECF6\",\"width\":0.5},\"pattern\":{\"fillmode\":\"overlay\",\"size\":10,\"solidity\":0.2}},\"type\":\"barpolar\"}],\"bar\":[{\"error_x\":{\"color\":\"#2a3f5f\"},\"error_y\":{\"color\":\"#2a3f5f\"},\"marker\":{\"line\":{\"color\":\"#E5ECF6\",\"width\":0.5},\"pattern\":{\"fillmode\":\"overlay\",\"size\":10,\"solidity\":0.2}},\"type\":\"bar\"}],\"carpet\":[{\"aaxis\":{\"endlinecolor\":\"#2a3f5f\",\"gridcolor\":\"white\",\"linecolor\":\"white\",\"minorgridcolor\":\"white\",\"startlinecolor\":\"#2a3f5f\"},\"baxis\":{\"endlinecolor\":\"#2a3f5f\",\"gridcolor\":\"white\",\"linecolor\":\"white\",\"minorgridcolor\":\"white\",\"startlinecolor\":\"#2a3f5f\"},\"type\":\"carpet\"}],\"choropleth\":[{\"colorbar\":{\"outlinewidth\":0,\"ticks\":\"\"},\"type\":\"choropleth\"}],\"contourcarpet\":[{\"colorbar\":{\"outlinewidth\":0,\"ticks\":\"\"},\"type\":\"contourcarpet\"}],\"contour\":[{\"colorbar\":{\"outlinewidth\":0,\"ticks\":\"\"},\"colorscale\":[[0.0,\"#0d0887\"],[0.1111111111111111,\"#46039f\"],[0.2222222222222222,\"#7201a8\"],[0.3333333333333333,\"#9c179e\"],[0.4444444444444444,\"#bd3786\"],[0.5555555555555556,\"#d8576b\"],[0.6666666666666666,\"#ed7953\"],[0.7777777777777778,\"#fb9f3a\"],[0.8888888888888888,\"#fdca26\"],[1.0,\"#f0f921\"]],\"type\":\"contour\"}],\"heatmapgl\":[{\"colorbar\":{\"outlinewidth\":0,\"ticks\":\"\"},\"colorscale\":[[0.0,\"#0d0887\"],[0.1111111111111111,\"#46039f\"],[0.2222222222222222,\"#7201a8\"],[0.3333333333333333,\"#9c179e\"],[0.4444444444444444,\"#bd3786\"],[0.5555555555555556,\"#d8576b\"],[0.6666666666666666,\"#ed7953\"],[0.7777777777777778,\"#fb9f3a\"],[0.8888888888888888,\"#fdca26\"],[1.0,\"#f0f921\"]],\"type\":\"heatmapgl\"}],\"heatmap\":[{\"colorbar\":{\"outlinewidth\":0,\"ticks\":\"\"},\"colorscale\":[[0.0,\"#0d0887\"],[0.1111111111111111,\"#46039f\"],[0.2222222222222222,\"#7201a8\"],[0.3333333333333333,\"#9c179e\"],[0.4444444444444444,\"#bd3786\"],[0.5555555555555556,\"#d8576b\"],[0.6666666666666666,\"#ed7953\"],[0.7777777777777778,\"#fb9f3a\"],[0.8888888888888888,\"#fdca26\"],[1.0,\"#f0f921\"]],\"type\":\"heatmap\"}],\"histogram2dcontour\":[{\"colorbar\":{\"outlinewidth\":0,\"ticks\":\"\"},\"colorscale\":[[0.0,\"#0d0887\"],[0.1111111111111111,\"#46039f\"],[0.2222222222222222,\"#7201a8\"],[0.3333333333333333,\"#9c179e\"],[0.4444444444444444,\"#bd3786\"],[0.5555555555555556,\"#d8576b\"],[0.6666666666666666,\"#ed7953\"],[0.7777777777777778,\"#fb9f3a\"],[0.8888888888888888,\"#fdca26\"],[1.0,\"#f0f921\"]],\"type\":\"histogram2dcontour\"}],\"histogram2d\":[{\"colorbar\":{\"outlinewidth\":0,\"ticks\":\"\"},\"colorscale\":[[0.0,\"#0d0887\"],[0.1111111111111111,\"#46039f\"],[0.2222222222222222,\"#7201a8\"],[0.3333333333333333,\"#9c179e\"],[0.4444444444444444,\"#bd3786\"],[0.5555555555555556,\"#d8576b\"],[0.6666666666666666,\"#ed7953\"],[0.7777777777777778,\"#fb9f3a\"],[0.8888888888888888,\"#fdca26\"],[1.0,\"#f0f921\"]],\"type\":\"histogram2d\"}],\"histogram\":[{\"marker\":{\"pattern\":{\"fillmode\":\"overlay\",\"size\":10,\"solidity\":0.2}},\"type\":\"histogram\"}],\"mesh3d\":[{\"colorbar\":{\"outlinewidth\":0,\"ticks\":\"\"},\"type\":\"mesh3d\"}],\"parcoords\":[{\"line\":{\"colorbar\":{\"outlinewidth\":0,\"ticks\":\"\"}},\"type\":\"parcoords\"}],\"pie\":[{\"automargin\":true,\"type\":\"pie\"}],\"scatter3d\":[{\"line\":{\"colorbar\":{\"outlinewidth\":0,\"ticks\":\"\"}},\"marker\":{\"colorbar\":{\"outlinewidth\":0,\"ticks\":\"\"}},\"type\":\"scatter3d\"}],\"scattercarpet\":[{\"marker\":{\"colorbar\":{\"outlinewidth\":0,\"ticks\":\"\"}},\"type\":\"scattercarpet\"}],\"scattergeo\":[{\"marker\":{\"colorbar\":{\"outlinewidth\":0,\"ticks\":\"\"}},\"type\":\"scattergeo\"}],\"scattergl\":[{\"marker\":{\"colorbar\":{\"outlinewidth\":0,\"ticks\":\"\"}},\"type\":\"scattergl\"}],\"scattermapbox\":[{\"marker\":{\"colorbar\":{\"outlinewidth\":0,\"ticks\":\"\"}},\"type\":\"scattermapbox\"}],\"scatterpolargl\":[{\"marker\":{\"colorbar\":{\"outlinewidth\":0,\"ticks\":\"\"}},\"type\":\"scatterpolargl\"}],\"scatterpolar\":[{\"marker\":{\"colorbar\":{\"outlinewidth\":0,\"ticks\":\"\"}},\"type\":\"scatterpolar\"}],\"scatter\":[{\"fillpattern\":{\"fillmode\":\"overlay\",\"size\":10,\"solidity\":0.2},\"type\":\"scatter\"}],\"scatterternary\":[{\"marker\":{\"colorbar\":{\"outlinewidth\":0,\"ticks\":\"\"}},\"type\":\"scatterternary\"}],\"surface\":[{\"colorbar\":{\"outlinewidth\":0,\"ticks\":\"\"},\"colorscale\":[[0.0,\"#0d0887\"],[0.1111111111111111,\"#46039f\"],[0.2222222222222222,\"#7201a8\"],[0.3333333333333333,\"#9c179e\"],[0.4444444444444444,\"#bd3786\"],[0.5555555555555556,\"#d8576b\"],[0.6666666666666666,\"#ed7953\"],[0.7777777777777778,\"#fb9f3a\"],[0.8888888888888888,\"#fdca26\"],[1.0,\"#f0f921\"]],\"type\":\"surface\"}],\"table\":[{\"cells\":{\"fill\":{\"color\":\"#EBF0F8\"},\"line\":{\"color\":\"white\"}},\"header\":{\"fill\":{\"color\":\"#C8D4E3\"},\"line\":{\"color\":\"white\"}},\"type\":\"table\"}]},\"layout\":{\"annotationdefaults\":{\"arrowcolor\":\"#2a3f5f\",\"arrowhead\":0,\"arrowwidth\":1},\"autotypenumbers\":\"strict\",\"coloraxis\":{\"colorbar\":{\"outlinewidth\":0,\"ticks\":\"\"}},\"colorscale\":{\"diverging\":[[0,\"#8e0152\"],[0.1,\"#c51b7d\"],[0.2,\"#de77ae\"],[0.3,\"#f1b6da\"],[0.4,\"#fde0ef\"],[0.5,\"#f7f7f7\"],[0.6,\"#e6f5d0\"],[0.7,\"#b8e186\"],[0.8,\"#7fbc41\"],[0.9,\"#4d9221\"],[1,\"#276419\"]],\"sequential\":[[0.0,\"#0d0887\"],[0.1111111111111111,\"#46039f\"],[0.2222222222222222,\"#7201a8\"],[0.3333333333333333,\"#9c179e\"],[0.4444444444444444,\"#bd3786\"],[0.5555555555555556,\"#d8576b\"],[0.6666666666666666,\"#ed7953\"],[0.7777777777777778,\"#fb9f3a\"],[0.8888888888888888,\"#fdca26\"],[1.0,\"#f0f921\"]],\"sequentialminus\":[[0.0,\"#0d0887\"],[0.1111111111111111,\"#46039f\"],[0.2222222222222222,\"#7201a8\"],[0.3333333333333333,\"#9c179e\"],[0.4444444444444444,\"#bd3786\"],[0.5555555555555556,\"#d8576b\"],[0.6666666666666666,\"#ed7953\"],[0.7777777777777778,\"#fb9f3a\"],[0.8888888888888888,\"#fdca26\"],[1.0,\"#f0f921\"]]},\"colorway\":[\"#636efa\",\"#EF553B\",\"#00cc96\",\"#ab63fa\",\"#FFA15A\",\"#19d3f3\",\"#FF6692\",\"#B6E880\",\"#FF97FF\",\"#FECB52\"],\"font\":{\"color\":\"#2a3f5f\"},\"geo\":{\"bgcolor\":\"white\",\"lakecolor\":\"white\",\"landcolor\":\"#E5ECF6\",\"showlakes\":true,\"showland\":true,\"subunitcolor\":\"white\"},\"hoverlabel\":{\"align\":\"left\"},\"hovermode\":\"closest\",\"mapbox\":{\"style\":\"light\"},\"paper_bgcolor\":\"white\",\"plot_bgcolor\":\"#E5ECF6\",\"polar\":{\"angularaxis\":{\"gridcolor\":\"white\",\"linecolor\":\"white\",\"ticks\":\"\"},\"bgcolor\":\"#E5ECF6\",\"radialaxis\":{\"gridcolor\":\"white\",\"linecolor\":\"white\",\"ticks\":\"\"}},\"scene\":{\"xaxis\":{\"backgroundcolor\":\"#E5ECF6\",\"gridcolor\":\"white\",\"gridwidth\":2,\"linecolor\":\"white\",\"showbackground\":true,\"ticks\":\"\",\"zerolinecolor\":\"white\"},\"yaxis\":{\"backgroundcolor\":\"#E5ECF6\",\"gridcolor\":\"white\",\"gridwidth\":2,\"linecolor\":\"white\",\"showbackground\":true,\"ticks\":\"\",\"zerolinecolor\":\"white\"},\"zaxis\":{\"backgroundcolor\":\"#E5ECF6\",\"gridcolor\":\"white\",\"gridwidth\":2,\"linecolor\":\"white\",\"showbackground\":true,\"ticks\":\"\",\"zerolinecolor\":\"white\"}},\"shapedefaults\":{\"line\":{\"color\":\"#2a3f5f\"}},\"ternary\":{\"aaxis\":{\"gridcolor\":\"white\",\"linecolor\":\"white\",\"ticks\":\"\"},\"baxis\":{\"gridcolor\":\"white\",\"linecolor\":\"white\",\"ticks\":\"\"},\"bgcolor\":\"#E5ECF6\",\"caxis\":{\"gridcolor\":\"white\",\"linecolor\":\"white\",\"ticks\":\"\"}},\"title\":{\"x\":0.05},\"xaxis\":{\"automargin\":true,\"gridcolor\":\"white\",\"linecolor\":\"white\",\"ticks\":\"\",\"title\":{\"standoff\":15},\"zerolinecolor\":\"white\",\"zerolinewidth\":2},\"yaxis\":{\"automargin\":true,\"gridcolor\":\"white\",\"linecolor\":\"white\",\"ticks\":\"\",\"title\":{\"standoff\":15},\"zerolinecolor\":\"white\",\"zerolinewidth\":2}}},\"title\":{\"font\":{\"color\":\"#4D5663\"}},\"xaxis\":{\"gridcolor\":\"#E1E5ED\",\"showgrid\":true,\"tickfont\":{\"color\":\"#4D5663\"},\"title\":{\"font\":{\"color\":\"#4D5663\"},\"text\":\"\"},\"zerolinecolor\":\"#E1E5ED\"},\"yaxis\":{\"gridcolor\":\"#E1E5ED\",\"showgrid\":true,\"tickfont\":{\"color\":\"#4D5663\"},\"title\":{\"font\":{\"color\":\"#4D5663\"},\"text\":\"\"},\"zerolinecolor\":\"#E1E5ED\"}},                        {\"showLink\": true, \"linkText\": \"Export to plot.ly\", \"plotlyServerURL\": \"https://plot.ly\", \"responsive\": true}                    ).then(function(){\n",
       "                            \n",
       "var gd = document.getElementById('817b5bec-5125-4df2-8ef6-e2661704d354');\n",
       "var x = new MutationObserver(function (mutations, observer) {{\n",
       "        var display = window.getComputedStyle(gd).display;\n",
       "        if (!display || display === 'none') {{\n",
       "            console.log([gd, 'removed!']);\n",
       "            Plotly.purge(gd);\n",
       "            observer.disconnect();\n",
       "        }}\n",
       "}});\n",
       "\n",
       "// Listen for the removal of the full notebook cells\n",
       "var notebookContainer = gd.closest('#notebook-container');\n",
       "if (notebookContainer) {{\n",
       "    x.observe(notebookContainer, {childList: true});\n",
       "}}\n",
       "\n",
       "// Listen for the clearing of the current output cell\n",
       "var outputEl = gd.closest('.output');\n",
       "if (outputEl) {{\n",
       "    x.observe(outputEl, {childList: true});\n",
       "}}\n",
       "\n",
       "                        })                };                });            </script>        </div>"
      ]
     },
     "metadata": {},
     "output_type": "display_data"
    }
   ],
   "source": [
    "# Click on the lengend\n",
    "# Pass in a single column with df1['A']\n",
    "df1.iplot(kind='hist')"
   ]
  },
  {
   "cell_type": "code",
   "execution_count": 10,
   "metadata": {},
   "outputs": [
    {
     "data": {
      "application/vnd.plotly.v1+json": {
       "config": {
        "plotlyServerURL": "https://plot.ly"
       },
       "data": [
        {
         "alignmentgroup": "True",
         "bingroup": "x",
         "hovertemplate": "variable=A<br>value=%{x}<br>count=%{y}<extra></extra>",
         "legendgroup": "A",
         "marker": {
          "color": "#636efa",
          "pattern": {
           "shape": ""
          }
         },
         "name": "A",
         "offsetgroup": "A",
         "orientation": "v",
         "showlegend": true,
         "type": "histogram",
         "x": [
          -0.5175747987598753,
          0.7874178240871408,
          -0.3303241596230469,
          -0.3889274484737835,
          1.398014002555591,
          -0.6661487888855997,
          0.4588027927754353,
          0.8072196591789184,
          1.322716974951408,
          -0.2808423448287799,
          1.0285831316657597,
          0.18122064633421675,
          0.3625008667479333,
          1.2408549738805894,
          -1.764253809584876,
          2.221051978185999,
          -0.9588581738948194,
          -0.7498118405572896,
          1.3506818081505532,
          0.99707419977583,
          -1.1645020136815665,
          -1.432780654299108,
          -1.548671010342433,
          -2.1058276816769985,
          0.15139667867171075,
          0.7859406739788566,
          -0.6994742423495774,
          -0.6101040641474186,
          0.15597992281615272,
          -0.21831712753990073,
          0.2364972701689565,
          0.9130927912508556,
          0.27935295737246124,
          -1.1745742820112643,
          0.6167910393644399,
          -0.11590051063274387,
          1.2687850255052535,
          -0.8036047900071129,
          -0.7231022584987874,
          1.1762147641826384,
          -0.4015844744114817,
          0.48119713772290035,
          0.7754986631541783,
          1.5742668468645127,
          0.05694405155320897,
          0.443174145460399,
          -2.19716615002061,
          0.1101530105109855,
          0.14427262993526457,
          0.5815499733705788,
          1.3380803414272335,
          -0.08498165652808194,
          -0.8848523584261805,
          -0.9548391964691753,
          1.5592384184304853,
          0.8727773639529585,
          0.23315622945580555,
          -1.278812328409379,
          0.04992997112168542,
          -1.2867544298043785,
          -0.6847598522949216,
          0.21943101048347305,
          -2.1954679738087113,
          1.2798577609792852,
          -1.6478628376289108,
          -1.0647654341998076,
          -0.1320911904702955,
          0.2608985851302227,
          0.908974410387325,
          -1.656670669424106,
          -1.214959483538708,
          2.333511837794471,
          0.5396550510210347,
          0.2334355443404703,
          0.647051097015659,
          -0.05042806691099681,
          -0.0767931514130902,
          1.0172554712962922,
          1.8147157212242366,
          -0.4639866394238462,
          0.9084562928566613,
          1.3347112150634393,
          0.5814741161205275,
          -0.4885209840949308,
          -1.0630257696725784,
          1.7223113204952538,
          0.1816087506591008,
          -0.31959585295968596,
          -1.2306695598018311,
          0.06799156952462364,
          0.21901466367790484,
          -0.5716084415191679,
          -0.8399758522219853,
          -0.12894790249199567,
          -0.8959612353981341,
          1.5280346068444588,
          1.9100841513993303,
          -0.3813418290442438,
          0.1631572394843557,
          1.1415522455055354
         ],
         "xaxis": "x",
         "yaxis": "y"
        },
        {
         "alignmentgroup": "True",
         "bingroup": "x",
         "hovertemplate": "variable=B<br>value=%{x}<br>count=%{y}<extra></extra>",
         "legendgroup": "B",
         "marker": {
          "color": "#EF553B",
          "pattern": {
           "shape": ""
          }
         },
         "name": "B",
         "offsetgroup": "B",
         "orientation": "v",
         "showlegend": true,
         "type": "histogram",
         "x": [
          -1.6176499144238319,
          -0.1958646669922937,
          -1.5239216513035712,
          -1.3001055699841009,
          0.9946016536869577,
          0.2876272517451415,
          -0.21778829083918622,
          -1.0264427477997906,
          -0.3499782371049708,
          -1.4518300208154018,
          -1.0198193994262221,
          1.2306482324337427,
          1.3879126658546852,
          0.7079832788464391,
          -1.1781540698165822,
          -1.100226852391674,
          -1.2923171106437321,
          -0.8360166651624249,
          -1.3547576933835024,
          -0.6316485677686534,
          0.8322448647889739,
          -0.4578350156271152,
          0.7794114280087318,
          -1.3578759966084877,
          -1.221733366188328,
          1.5430727947697516,
          -0.5757985054336147,
          -2.032385924952694,
          0.5985138743673525,
          0.31870000998575976,
          0.038100410252772735,
          0.40639629963103613,
          -0.35678010516607567,
          0.12166301788369473,
          -1.1997377600735952,
          -2.1043610410761113,
          1.2773685564150732,
          0.35375716055909057,
          1.7374516676304546,
          -1.0818918436799134,
          0.5268789160701783,
          -1.1237568629748722,
          0.4581970822291849,
          -0.41951397363231613,
          0.013453877190553853,
          1.529057441742031,
          1.3016253942793985,
          1.1085255670938885,
          2.5849293161979556,
          -1.6206196744965586,
          -0.17205789496415952,
          -0.7931455578577269,
          1.20326745041183,
          0.39547581966158424,
          -0.853991553314241,
          0.18422117766424848,
          -0.9103155897068166,
          0.5224036669662352,
          0.7341513135943709,
          0.6669059906958148,
          -1.2989869868937267,
          -0.45934044413494945,
          -1.9472060707118293,
          -0.6881785802953827,
          0.22372626834370066,
          -0.059236758681344,
          -0.6609318383556025,
          -0.5453546954035623,
          -0.23578125148294132,
          -0.6394054341104819,
          -0.6312207530994692,
          -0.4968306095351099,
          0.16186221821744526,
          1.066204855698799,
          -0.36887759607969695,
          -1.4645334022172278,
          -1.9423553881080746,
          1.1262505115143044,
          -1.6847452346278207,
          -0.10013047871887834,
          0.48041181460303106,
          0.3440499749428254,
          -0.623085749855274,
          1.4648095115789435,
          0.5727794805806214,
          1.595237308004988,
          0.5379181285195007,
          -1.9506816840556835,
          -0.7638066471582391,
          -1.0701596904885349,
          -0.0017199878192688375,
          -0.9510470410071016,
          1.4156584135229695,
          -0.715781219856494,
          0.1687927168024592,
          -0.012591619332337024,
          0.867522302108549,
          -0.3838047748246692,
          -0.1625743046527574,
          -0.7955276630314176
         ],
         "xaxis": "x",
         "yaxis": "y"
        }
       ],
       "layout": {
        "barmode": "relative",
        "legend": {
         "title": {
          "text": "variable"
         },
         "tracegroupgap": 0
        },
        "template": {
         "data": {
          "bar": [
           {
            "error_x": {
             "color": "#2a3f5f"
            },
            "error_y": {
             "color": "#2a3f5f"
            },
            "marker": {
             "line": {
              "color": "#E5ECF6",
              "width": 0.5
             },
             "pattern": {
              "fillmode": "overlay",
              "size": 10,
              "solidity": 0.2
             }
            },
            "type": "bar"
           }
          ],
          "barpolar": [
           {
            "marker": {
             "line": {
              "color": "#E5ECF6",
              "width": 0.5
             },
             "pattern": {
              "fillmode": "overlay",
              "size": 10,
              "solidity": 0.2
             }
            },
            "type": "barpolar"
           }
          ],
          "carpet": [
           {
            "aaxis": {
             "endlinecolor": "#2a3f5f",
             "gridcolor": "white",
             "linecolor": "white",
             "minorgridcolor": "white",
             "startlinecolor": "#2a3f5f"
            },
            "baxis": {
             "endlinecolor": "#2a3f5f",
             "gridcolor": "white",
             "linecolor": "white",
             "minorgridcolor": "white",
             "startlinecolor": "#2a3f5f"
            },
            "type": "carpet"
           }
          ],
          "choropleth": [
           {
            "colorbar": {
             "outlinewidth": 0,
             "ticks": ""
            },
            "type": "choropleth"
           }
          ],
          "contour": [
           {
            "colorbar": {
             "outlinewidth": 0,
             "ticks": ""
            },
            "colorscale": [
             [
              0,
              "#0d0887"
             ],
             [
              0.1111111111111111,
              "#46039f"
             ],
             [
              0.2222222222222222,
              "#7201a8"
             ],
             [
              0.3333333333333333,
              "#9c179e"
             ],
             [
              0.4444444444444444,
              "#bd3786"
             ],
             [
              0.5555555555555556,
              "#d8576b"
             ],
             [
              0.6666666666666666,
              "#ed7953"
             ],
             [
              0.7777777777777778,
              "#fb9f3a"
             ],
             [
              0.8888888888888888,
              "#fdca26"
             ],
             [
              1,
              "#f0f921"
             ]
            ],
            "type": "contour"
           }
          ],
          "contourcarpet": [
           {
            "colorbar": {
             "outlinewidth": 0,
             "ticks": ""
            },
            "type": "contourcarpet"
           }
          ],
          "heatmap": [
           {
            "colorbar": {
             "outlinewidth": 0,
             "ticks": ""
            },
            "colorscale": [
             [
              0,
              "#0d0887"
             ],
             [
              0.1111111111111111,
              "#46039f"
             ],
             [
              0.2222222222222222,
              "#7201a8"
             ],
             [
              0.3333333333333333,
              "#9c179e"
             ],
             [
              0.4444444444444444,
              "#bd3786"
             ],
             [
              0.5555555555555556,
              "#d8576b"
             ],
             [
              0.6666666666666666,
              "#ed7953"
             ],
             [
              0.7777777777777778,
              "#fb9f3a"
             ],
             [
              0.8888888888888888,
              "#fdca26"
             ],
             [
              1,
              "#f0f921"
             ]
            ],
            "type": "heatmap"
           }
          ],
          "heatmapgl": [
           {
            "colorbar": {
             "outlinewidth": 0,
             "ticks": ""
            },
            "colorscale": [
             [
              0,
              "#0d0887"
             ],
             [
              0.1111111111111111,
              "#46039f"
             ],
             [
              0.2222222222222222,
              "#7201a8"
             ],
             [
              0.3333333333333333,
              "#9c179e"
             ],
             [
              0.4444444444444444,
              "#bd3786"
             ],
             [
              0.5555555555555556,
              "#d8576b"
             ],
             [
              0.6666666666666666,
              "#ed7953"
             ],
             [
              0.7777777777777778,
              "#fb9f3a"
             ],
             [
              0.8888888888888888,
              "#fdca26"
             ],
             [
              1,
              "#f0f921"
             ]
            ],
            "type": "heatmapgl"
           }
          ],
          "histogram": [
           {
            "marker": {
             "pattern": {
              "fillmode": "overlay",
              "size": 10,
              "solidity": 0.2
             }
            },
            "type": "histogram"
           }
          ],
          "histogram2d": [
           {
            "colorbar": {
             "outlinewidth": 0,
             "ticks": ""
            },
            "colorscale": [
             [
              0,
              "#0d0887"
             ],
             [
              0.1111111111111111,
              "#46039f"
             ],
             [
              0.2222222222222222,
              "#7201a8"
             ],
             [
              0.3333333333333333,
              "#9c179e"
             ],
             [
              0.4444444444444444,
              "#bd3786"
             ],
             [
              0.5555555555555556,
              "#d8576b"
             ],
             [
              0.6666666666666666,
              "#ed7953"
             ],
             [
              0.7777777777777778,
              "#fb9f3a"
             ],
             [
              0.8888888888888888,
              "#fdca26"
             ],
             [
              1,
              "#f0f921"
             ]
            ],
            "type": "histogram2d"
           }
          ],
          "histogram2dcontour": [
           {
            "colorbar": {
             "outlinewidth": 0,
             "ticks": ""
            },
            "colorscale": [
             [
              0,
              "#0d0887"
             ],
             [
              0.1111111111111111,
              "#46039f"
             ],
             [
              0.2222222222222222,
              "#7201a8"
             ],
             [
              0.3333333333333333,
              "#9c179e"
             ],
             [
              0.4444444444444444,
              "#bd3786"
             ],
             [
              0.5555555555555556,
              "#d8576b"
             ],
             [
              0.6666666666666666,
              "#ed7953"
             ],
             [
              0.7777777777777778,
              "#fb9f3a"
             ],
             [
              0.8888888888888888,
              "#fdca26"
             ],
             [
              1,
              "#f0f921"
             ]
            ],
            "type": "histogram2dcontour"
           }
          ],
          "mesh3d": [
           {
            "colorbar": {
             "outlinewidth": 0,
             "ticks": ""
            },
            "type": "mesh3d"
           }
          ],
          "parcoords": [
           {
            "line": {
             "colorbar": {
              "outlinewidth": 0,
              "ticks": ""
             }
            },
            "type": "parcoords"
           }
          ],
          "pie": [
           {
            "automargin": true,
            "type": "pie"
           }
          ],
          "scatter": [
           {
            "fillpattern": {
             "fillmode": "overlay",
             "size": 10,
             "solidity": 0.2
            },
            "type": "scatter"
           }
          ],
          "scatter3d": [
           {
            "line": {
             "colorbar": {
              "outlinewidth": 0,
              "ticks": ""
             }
            },
            "marker": {
             "colorbar": {
              "outlinewidth": 0,
              "ticks": ""
             }
            },
            "type": "scatter3d"
           }
          ],
          "scattercarpet": [
           {
            "marker": {
             "colorbar": {
              "outlinewidth": 0,
              "ticks": ""
             }
            },
            "type": "scattercarpet"
           }
          ],
          "scattergeo": [
           {
            "marker": {
             "colorbar": {
              "outlinewidth": 0,
              "ticks": ""
             }
            },
            "type": "scattergeo"
           }
          ],
          "scattergl": [
           {
            "marker": {
             "colorbar": {
              "outlinewidth": 0,
              "ticks": ""
             }
            },
            "type": "scattergl"
           }
          ],
          "scattermapbox": [
           {
            "marker": {
             "colorbar": {
              "outlinewidth": 0,
              "ticks": ""
             }
            },
            "type": "scattermapbox"
           }
          ],
          "scatterpolar": [
           {
            "marker": {
             "colorbar": {
              "outlinewidth": 0,
              "ticks": ""
             }
            },
            "type": "scatterpolar"
           }
          ],
          "scatterpolargl": [
           {
            "marker": {
             "colorbar": {
              "outlinewidth": 0,
              "ticks": ""
             }
            },
            "type": "scatterpolargl"
           }
          ],
          "scatterternary": [
           {
            "marker": {
             "colorbar": {
              "outlinewidth": 0,
              "ticks": ""
             }
            },
            "type": "scatterternary"
           }
          ],
          "surface": [
           {
            "colorbar": {
             "outlinewidth": 0,
             "ticks": ""
            },
            "colorscale": [
             [
              0,
              "#0d0887"
             ],
             [
              0.1111111111111111,
              "#46039f"
             ],
             [
              0.2222222222222222,
              "#7201a8"
             ],
             [
              0.3333333333333333,
              "#9c179e"
             ],
             [
              0.4444444444444444,
              "#bd3786"
             ],
             [
              0.5555555555555556,
              "#d8576b"
             ],
             [
              0.6666666666666666,
              "#ed7953"
             ],
             [
              0.7777777777777778,
              "#fb9f3a"
             ],
             [
              0.8888888888888888,
              "#fdca26"
             ],
             [
              1,
              "#f0f921"
             ]
            ],
            "type": "surface"
           }
          ],
          "table": [
           {
            "cells": {
             "fill": {
              "color": "#EBF0F8"
             },
             "line": {
              "color": "white"
             }
            },
            "header": {
             "fill": {
              "color": "#C8D4E3"
             },
             "line": {
              "color": "white"
             }
            },
            "type": "table"
           }
          ]
         },
         "layout": {
          "annotationdefaults": {
           "arrowcolor": "#2a3f5f",
           "arrowhead": 0,
           "arrowwidth": 1
          },
          "autotypenumbers": "strict",
          "coloraxis": {
           "colorbar": {
            "outlinewidth": 0,
            "ticks": ""
           }
          },
          "colorscale": {
           "diverging": [
            [
             0,
             "#8e0152"
            ],
            [
             0.1,
             "#c51b7d"
            ],
            [
             0.2,
             "#de77ae"
            ],
            [
             0.3,
             "#f1b6da"
            ],
            [
             0.4,
             "#fde0ef"
            ],
            [
             0.5,
             "#f7f7f7"
            ],
            [
             0.6,
             "#e6f5d0"
            ],
            [
             0.7,
             "#b8e186"
            ],
            [
             0.8,
             "#7fbc41"
            ],
            [
             0.9,
             "#4d9221"
            ],
            [
             1,
             "#276419"
            ]
           ],
           "sequential": [
            [
             0,
             "#0d0887"
            ],
            [
             0.1111111111111111,
             "#46039f"
            ],
            [
             0.2222222222222222,
             "#7201a8"
            ],
            [
             0.3333333333333333,
             "#9c179e"
            ],
            [
             0.4444444444444444,
             "#bd3786"
            ],
            [
             0.5555555555555556,
             "#d8576b"
            ],
            [
             0.6666666666666666,
             "#ed7953"
            ],
            [
             0.7777777777777778,
             "#fb9f3a"
            ],
            [
             0.8888888888888888,
             "#fdca26"
            ],
            [
             1,
             "#f0f921"
            ]
           ],
           "sequentialminus": [
            [
             0,
             "#0d0887"
            ],
            [
             0.1111111111111111,
             "#46039f"
            ],
            [
             0.2222222222222222,
             "#7201a8"
            ],
            [
             0.3333333333333333,
             "#9c179e"
            ],
            [
             0.4444444444444444,
             "#bd3786"
            ],
            [
             0.5555555555555556,
             "#d8576b"
            ],
            [
             0.6666666666666666,
             "#ed7953"
            ],
            [
             0.7777777777777778,
             "#fb9f3a"
            ],
            [
             0.8888888888888888,
             "#fdca26"
            ],
            [
             1,
             "#f0f921"
            ]
           ]
          },
          "colorway": [
           "#636efa",
           "#EF553B",
           "#00cc96",
           "#ab63fa",
           "#FFA15A",
           "#19d3f3",
           "#FF6692",
           "#B6E880",
           "#FF97FF",
           "#FECB52"
          ],
          "font": {
           "color": "#2a3f5f"
          },
          "geo": {
           "bgcolor": "white",
           "lakecolor": "white",
           "landcolor": "#E5ECF6",
           "showlakes": true,
           "showland": true,
           "subunitcolor": "white"
          },
          "hoverlabel": {
           "align": "left"
          },
          "hovermode": "closest",
          "mapbox": {
           "style": "light"
          },
          "paper_bgcolor": "white",
          "plot_bgcolor": "#E5ECF6",
          "polar": {
           "angularaxis": {
            "gridcolor": "white",
            "linecolor": "white",
            "ticks": ""
           },
           "bgcolor": "#E5ECF6",
           "radialaxis": {
            "gridcolor": "white",
            "linecolor": "white",
            "ticks": ""
           }
          },
          "scene": {
           "xaxis": {
            "backgroundcolor": "#E5ECF6",
            "gridcolor": "white",
            "gridwidth": 2,
            "linecolor": "white",
            "showbackground": true,
            "ticks": "",
            "zerolinecolor": "white"
           },
           "yaxis": {
            "backgroundcolor": "#E5ECF6",
            "gridcolor": "white",
            "gridwidth": 2,
            "linecolor": "white",
            "showbackground": true,
            "ticks": "",
            "zerolinecolor": "white"
           },
           "zaxis": {
            "backgroundcolor": "#E5ECF6",
            "gridcolor": "white",
            "gridwidth": 2,
            "linecolor": "white",
            "showbackground": true,
            "ticks": "",
            "zerolinecolor": "white"
           }
          },
          "shapedefaults": {
           "line": {
            "color": "#2a3f5f"
           }
          },
          "ternary": {
           "aaxis": {
            "gridcolor": "white",
            "linecolor": "white",
            "ticks": ""
           },
           "baxis": {
            "gridcolor": "white",
            "linecolor": "white",
            "ticks": ""
           },
           "bgcolor": "#E5ECF6",
           "caxis": {
            "gridcolor": "white",
            "linecolor": "white",
            "ticks": ""
           }
          },
          "title": {
           "x": 0.05
          },
          "xaxis": {
           "automargin": true,
           "gridcolor": "white",
           "linecolor": "white",
           "ticks": "",
           "title": {
            "standoff": 15
           },
           "zerolinecolor": "white",
           "zerolinewidth": 2
          },
          "yaxis": {
           "automargin": true,
           "gridcolor": "white",
           "linecolor": "white",
           "ticks": "",
           "title": {
            "standoff": 15
           },
           "zerolinecolor": "white",
           "zerolinewidth": 2
          }
         }
        },
        "title": {
         "text": "Dataframe One"
        },
        "xaxis": {
         "anchor": "y",
         "domain": [
          0,
          1
         ],
         "title": {
          "text": "value"
         }
        },
        "yaxis": {
         "anchor": "x",
         "domain": [
          0,
          1
         ],
         "title": {
          "text": "count"
         }
        }
       }
      },
      "text/html": [
       "<div>                            <div id=\"4b276a1a-d631-4e49-b79d-dae6c366f560\" class=\"plotly-graph-div\" style=\"height:525px; width:100%;\"></div>            <script type=\"text/javascript\">                require([\"plotly\"], function(Plotly) {                    window.PLOTLYENV=window.PLOTLYENV || {};                                    if (document.getElementById(\"4b276a1a-d631-4e49-b79d-dae6c366f560\")) {                    Plotly.newPlot(                        \"4b276a1a-d631-4e49-b79d-dae6c366f560\",                        [{\"alignmentgroup\":\"True\",\"bingroup\":\"x\",\"hovertemplate\":\"variable=A\\u003cbr\\u003evalue=%{x}\\u003cbr\\u003ecount=%{y}\\u003cextra\\u003e\\u003c\\u002fextra\\u003e\",\"legendgroup\":\"A\",\"marker\":{\"color\":\"#636efa\",\"pattern\":{\"shape\":\"\"}},\"name\":\"A\",\"offsetgroup\":\"A\",\"orientation\":\"v\",\"showlegend\":true,\"x\":[-0.5175747987598753,0.7874178240871408,-0.3303241596230469,-0.3889274484737835,1.398014002555591,-0.6661487888855997,0.4588027927754353,0.8072196591789184,1.322716974951408,-0.2808423448287799,1.0285831316657597,0.18122064633421675,0.3625008667479333,1.2408549738805894,-1.764253809584876,2.221051978185999,-0.9588581738948194,-0.7498118405572896,1.3506818081505532,0.99707419977583,-1.1645020136815665,-1.432780654299108,-1.548671010342433,-2.1058276816769985,0.15139667867171075,0.7859406739788566,-0.6994742423495774,-0.6101040641474186,0.15597992281615272,-0.21831712753990073,0.2364972701689565,0.9130927912508556,0.27935295737246124,-1.1745742820112643,0.6167910393644399,-0.11590051063274387,1.2687850255052535,-0.8036047900071129,-0.7231022584987874,1.1762147641826384,-0.4015844744114817,0.48119713772290035,0.7754986631541783,1.5742668468645127,0.05694405155320897,0.443174145460399,-2.19716615002061,0.1101530105109855,0.14427262993526457,0.5815499733705788,1.3380803414272335,-0.08498165652808194,-0.8848523584261805,-0.9548391964691753,1.5592384184304853,0.8727773639529585,0.23315622945580555,-1.278812328409379,0.04992997112168542,-1.2867544298043785,-0.6847598522949216,0.21943101048347305,-2.1954679738087113,1.2798577609792852,-1.6478628376289108,-1.0647654341998076,-0.1320911904702955,0.2608985851302227,0.908974410387325,-1.656670669424106,-1.214959483538708,2.333511837794471,0.5396550510210347,0.2334355443404703,0.647051097015659,-0.05042806691099681,-0.0767931514130902,1.0172554712962922,1.8147157212242366,-0.4639866394238462,0.9084562928566613,1.3347112150634393,0.5814741161205275,-0.4885209840949308,-1.0630257696725784,1.7223113204952538,0.1816087506591008,-0.31959585295968596,-1.2306695598018311,0.06799156952462364,0.21901466367790484,-0.5716084415191679,-0.8399758522219853,-0.12894790249199567,-0.8959612353981341,1.5280346068444588,1.9100841513993303,-0.3813418290442438,0.1631572394843557,1.1415522455055354],\"xaxis\":\"x\",\"yaxis\":\"y\",\"type\":\"histogram\"},{\"alignmentgroup\":\"True\",\"bingroup\":\"x\",\"hovertemplate\":\"variable=B\\u003cbr\\u003evalue=%{x}\\u003cbr\\u003ecount=%{y}\\u003cextra\\u003e\\u003c\\u002fextra\\u003e\",\"legendgroup\":\"B\",\"marker\":{\"color\":\"#EF553B\",\"pattern\":{\"shape\":\"\"}},\"name\":\"B\",\"offsetgroup\":\"B\",\"orientation\":\"v\",\"showlegend\":true,\"x\":[-1.6176499144238319,-0.1958646669922937,-1.5239216513035712,-1.3001055699841009,0.9946016536869577,0.2876272517451415,-0.21778829083918622,-1.0264427477997906,-0.3499782371049708,-1.4518300208154018,-1.0198193994262221,1.2306482324337427,1.3879126658546852,0.7079832788464391,-1.1781540698165822,-1.100226852391674,-1.2923171106437321,-0.8360166651624249,-1.3547576933835024,-0.6316485677686534,0.8322448647889739,-0.4578350156271152,0.7794114280087318,-1.3578759966084877,-1.221733366188328,1.5430727947697516,-0.5757985054336147,-2.032385924952694,0.5985138743673525,0.31870000998575976,0.038100410252772735,0.40639629963103613,-0.35678010516607567,0.12166301788369473,-1.1997377600735952,-2.1043610410761113,1.2773685564150732,0.35375716055909057,1.7374516676304546,-1.0818918436799134,0.5268789160701783,-1.1237568629748722,0.4581970822291849,-0.41951397363231613,0.013453877190553853,1.529057441742031,1.3016253942793985,1.1085255670938885,2.5849293161979556,-1.6206196744965586,-0.17205789496415952,-0.7931455578577269,1.20326745041183,0.39547581966158424,-0.853991553314241,0.18422117766424848,-0.9103155897068166,0.5224036669662352,0.7341513135943709,0.6669059906958148,-1.2989869868937267,-0.45934044413494945,-1.9472060707118293,-0.6881785802953827,0.22372626834370066,-0.059236758681344,-0.6609318383556025,-0.5453546954035623,-0.23578125148294132,-0.6394054341104819,-0.6312207530994692,-0.4968306095351099,0.16186221821744526,1.066204855698799,-0.36887759607969695,-1.4645334022172278,-1.9423553881080746,1.1262505115143044,-1.6847452346278207,-0.10013047871887834,0.48041181460303106,0.3440499749428254,-0.623085749855274,1.4648095115789435,0.5727794805806214,1.595237308004988,0.5379181285195007,-1.9506816840556835,-0.7638066471582391,-1.0701596904885349,-0.0017199878192688375,-0.9510470410071016,1.4156584135229695,-0.715781219856494,0.1687927168024592,-0.012591619332337024,0.867522302108549,-0.3838047748246692,-0.1625743046527574,-0.7955276630314176],\"xaxis\":\"x\",\"yaxis\":\"y\",\"type\":\"histogram\"}],                        {\"template\":{\"data\":{\"histogram2dcontour\":[{\"type\":\"histogram2dcontour\",\"colorbar\":{\"outlinewidth\":0,\"ticks\":\"\"},\"colorscale\":[[0.0,\"#0d0887\"],[0.1111111111111111,\"#46039f\"],[0.2222222222222222,\"#7201a8\"],[0.3333333333333333,\"#9c179e\"],[0.4444444444444444,\"#bd3786\"],[0.5555555555555556,\"#d8576b\"],[0.6666666666666666,\"#ed7953\"],[0.7777777777777778,\"#fb9f3a\"],[0.8888888888888888,\"#fdca26\"],[1.0,\"#f0f921\"]]}],\"choropleth\":[{\"type\":\"choropleth\",\"colorbar\":{\"outlinewidth\":0,\"ticks\":\"\"}}],\"histogram2d\":[{\"type\":\"histogram2d\",\"colorbar\":{\"outlinewidth\":0,\"ticks\":\"\"},\"colorscale\":[[0.0,\"#0d0887\"],[0.1111111111111111,\"#46039f\"],[0.2222222222222222,\"#7201a8\"],[0.3333333333333333,\"#9c179e\"],[0.4444444444444444,\"#bd3786\"],[0.5555555555555556,\"#d8576b\"],[0.6666666666666666,\"#ed7953\"],[0.7777777777777778,\"#fb9f3a\"],[0.8888888888888888,\"#fdca26\"],[1.0,\"#f0f921\"]]}],\"heatmap\":[{\"type\":\"heatmap\",\"colorbar\":{\"outlinewidth\":0,\"ticks\":\"\"},\"colorscale\":[[0.0,\"#0d0887\"],[0.1111111111111111,\"#46039f\"],[0.2222222222222222,\"#7201a8\"],[0.3333333333333333,\"#9c179e\"],[0.4444444444444444,\"#bd3786\"],[0.5555555555555556,\"#d8576b\"],[0.6666666666666666,\"#ed7953\"],[0.7777777777777778,\"#fb9f3a\"],[0.8888888888888888,\"#fdca26\"],[1.0,\"#f0f921\"]]}],\"heatmapgl\":[{\"type\":\"heatmapgl\",\"colorbar\":{\"outlinewidth\":0,\"ticks\":\"\"},\"colorscale\":[[0.0,\"#0d0887\"],[0.1111111111111111,\"#46039f\"],[0.2222222222222222,\"#7201a8\"],[0.3333333333333333,\"#9c179e\"],[0.4444444444444444,\"#bd3786\"],[0.5555555555555556,\"#d8576b\"],[0.6666666666666666,\"#ed7953\"],[0.7777777777777778,\"#fb9f3a\"],[0.8888888888888888,\"#fdca26\"],[1.0,\"#f0f921\"]]}],\"contourcarpet\":[{\"type\":\"contourcarpet\",\"colorbar\":{\"outlinewidth\":0,\"ticks\":\"\"}}],\"contour\":[{\"type\":\"contour\",\"colorbar\":{\"outlinewidth\":0,\"ticks\":\"\"},\"colorscale\":[[0.0,\"#0d0887\"],[0.1111111111111111,\"#46039f\"],[0.2222222222222222,\"#7201a8\"],[0.3333333333333333,\"#9c179e\"],[0.4444444444444444,\"#bd3786\"],[0.5555555555555556,\"#d8576b\"],[0.6666666666666666,\"#ed7953\"],[0.7777777777777778,\"#fb9f3a\"],[0.8888888888888888,\"#fdca26\"],[1.0,\"#f0f921\"]]}],\"surface\":[{\"type\":\"surface\",\"colorbar\":{\"outlinewidth\":0,\"ticks\":\"\"},\"colorscale\":[[0.0,\"#0d0887\"],[0.1111111111111111,\"#46039f\"],[0.2222222222222222,\"#7201a8\"],[0.3333333333333333,\"#9c179e\"],[0.4444444444444444,\"#bd3786\"],[0.5555555555555556,\"#d8576b\"],[0.6666666666666666,\"#ed7953\"],[0.7777777777777778,\"#fb9f3a\"],[0.8888888888888888,\"#fdca26\"],[1.0,\"#f0f921\"]]}],\"mesh3d\":[{\"type\":\"mesh3d\",\"colorbar\":{\"outlinewidth\":0,\"ticks\":\"\"}}],\"scatter\":[{\"fillpattern\":{\"fillmode\":\"overlay\",\"size\":10,\"solidity\":0.2},\"type\":\"scatter\"}],\"parcoords\":[{\"type\":\"parcoords\",\"line\":{\"colorbar\":{\"outlinewidth\":0,\"ticks\":\"\"}}}],\"scatterpolargl\":[{\"type\":\"scatterpolargl\",\"marker\":{\"colorbar\":{\"outlinewidth\":0,\"ticks\":\"\"}}}],\"bar\":[{\"error_x\":{\"color\":\"#2a3f5f\"},\"error_y\":{\"color\":\"#2a3f5f\"},\"marker\":{\"line\":{\"color\":\"#E5ECF6\",\"width\":0.5},\"pattern\":{\"fillmode\":\"overlay\",\"size\":10,\"solidity\":0.2}},\"type\":\"bar\"}],\"scattergeo\":[{\"type\":\"scattergeo\",\"marker\":{\"colorbar\":{\"outlinewidth\":0,\"ticks\":\"\"}}}],\"scatterpolar\":[{\"type\":\"scatterpolar\",\"marker\":{\"colorbar\":{\"outlinewidth\":0,\"ticks\":\"\"}}}],\"histogram\":[{\"marker\":{\"pattern\":{\"fillmode\":\"overlay\",\"size\":10,\"solidity\":0.2}},\"type\":\"histogram\"}],\"scattergl\":[{\"type\":\"scattergl\",\"marker\":{\"colorbar\":{\"outlinewidth\":0,\"ticks\":\"\"}}}],\"scatter3d\":[{\"type\":\"scatter3d\",\"line\":{\"colorbar\":{\"outlinewidth\":0,\"ticks\":\"\"}},\"marker\":{\"colorbar\":{\"outlinewidth\":0,\"ticks\":\"\"}}}],\"scattermapbox\":[{\"type\":\"scattermapbox\",\"marker\":{\"colorbar\":{\"outlinewidth\":0,\"ticks\":\"\"}}}],\"scatterternary\":[{\"type\":\"scatterternary\",\"marker\":{\"colorbar\":{\"outlinewidth\":0,\"ticks\":\"\"}}}],\"scattercarpet\":[{\"type\":\"scattercarpet\",\"marker\":{\"colorbar\":{\"outlinewidth\":0,\"ticks\":\"\"}}}],\"carpet\":[{\"aaxis\":{\"endlinecolor\":\"#2a3f5f\",\"gridcolor\":\"white\",\"linecolor\":\"white\",\"minorgridcolor\":\"white\",\"startlinecolor\":\"#2a3f5f\"},\"baxis\":{\"endlinecolor\":\"#2a3f5f\",\"gridcolor\":\"white\",\"linecolor\":\"white\",\"minorgridcolor\":\"white\",\"startlinecolor\":\"#2a3f5f\"},\"type\":\"carpet\"}],\"table\":[{\"cells\":{\"fill\":{\"color\":\"#EBF0F8\"},\"line\":{\"color\":\"white\"}},\"header\":{\"fill\":{\"color\":\"#C8D4E3\"},\"line\":{\"color\":\"white\"}},\"type\":\"table\"}],\"barpolar\":[{\"marker\":{\"line\":{\"color\":\"#E5ECF6\",\"width\":0.5},\"pattern\":{\"fillmode\":\"overlay\",\"size\":10,\"solidity\":0.2}},\"type\":\"barpolar\"}],\"pie\":[{\"automargin\":true,\"type\":\"pie\"}]},\"layout\":{\"autotypenumbers\":\"strict\",\"colorway\":[\"#636efa\",\"#EF553B\",\"#00cc96\",\"#ab63fa\",\"#FFA15A\",\"#19d3f3\",\"#FF6692\",\"#B6E880\",\"#FF97FF\",\"#FECB52\"],\"font\":{\"color\":\"#2a3f5f\"},\"hovermode\":\"closest\",\"hoverlabel\":{\"align\":\"left\"},\"paper_bgcolor\":\"white\",\"plot_bgcolor\":\"#E5ECF6\",\"polar\":{\"bgcolor\":\"#E5ECF6\",\"angularaxis\":{\"gridcolor\":\"white\",\"linecolor\":\"white\",\"ticks\":\"\"},\"radialaxis\":{\"gridcolor\":\"white\",\"linecolor\":\"white\",\"ticks\":\"\"}},\"ternary\":{\"bgcolor\":\"#E5ECF6\",\"aaxis\":{\"gridcolor\":\"white\",\"linecolor\":\"white\",\"ticks\":\"\"},\"baxis\":{\"gridcolor\":\"white\",\"linecolor\":\"white\",\"ticks\":\"\"},\"caxis\":{\"gridcolor\":\"white\",\"linecolor\":\"white\",\"ticks\":\"\"}},\"coloraxis\":{\"colorbar\":{\"outlinewidth\":0,\"ticks\":\"\"}},\"colorscale\":{\"sequential\":[[0.0,\"#0d0887\"],[0.1111111111111111,\"#46039f\"],[0.2222222222222222,\"#7201a8\"],[0.3333333333333333,\"#9c179e\"],[0.4444444444444444,\"#bd3786\"],[0.5555555555555556,\"#d8576b\"],[0.6666666666666666,\"#ed7953\"],[0.7777777777777778,\"#fb9f3a\"],[0.8888888888888888,\"#fdca26\"],[1.0,\"#f0f921\"]],\"sequentialminus\":[[0.0,\"#0d0887\"],[0.1111111111111111,\"#46039f\"],[0.2222222222222222,\"#7201a8\"],[0.3333333333333333,\"#9c179e\"],[0.4444444444444444,\"#bd3786\"],[0.5555555555555556,\"#d8576b\"],[0.6666666666666666,\"#ed7953\"],[0.7777777777777778,\"#fb9f3a\"],[0.8888888888888888,\"#fdca26\"],[1.0,\"#f0f921\"]],\"diverging\":[[0,\"#8e0152\"],[0.1,\"#c51b7d\"],[0.2,\"#de77ae\"],[0.3,\"#f1b6da\"],[0.4,\"#fde0ef\"],[0.5,\"#f7f7f7\"],[0.6,\"#e6f5d0\"],[0.7,\"#b8e186\"],[0.8,\"#7fbc41\"],[0.9,\"#4d9221\"],[1,\"#276419\"]]},\"xaxis\":{\"gridcolor\":\"white\",\"linecolor\":\"white\",\"ticks\":\"\",\"title\":{\"standoff\":15},\"zerolinecolor\":\"white\",\"automargin\":true,\"zerolinewidth\":2},\"yaxis\":{\"gridcolor\":\"white\",\"linecolor\":\"white\",\"ticks\":\"\",\"title\":{\"standoff\":15},\"zerolinecolor\":\"white\",\"automargin\":true,\"zerolinewidth\":2},\"scene\":{\"xaxis\":{\"backgroundcolor\":\"#E5ECF6\",\"gridcolor\":\"white\",\"linecolor\":\"white\",\"showbackground\":true,\"ticks\":\"\",\"zerolinecolor\":\"white\",\"gridwidth\":2},\"yaxis\":{\"backgroundcolor\":\"#E5ECF6\",\"gridcolor\":\"white\",\"linecolor\":\"white\",\"showbackground\":true,\"ticks\":\"\",\"zerolinecolor\":\"white\",\"gridwidth\":2},\"zaxis\":{\"backgroundcolor\":\"#E5ECF6\",\"gridcolor\":\"white\",\"linecolor\":\"white\",\"showbackground\":true,\"ticks\":\"\",\"zerolinecolor\":\"white\",\"gridwidth\":2}},\"shapedefaults\":{\"line\":{\"color\":\"#2a3f5f\"}},\"annotationdefaults\":{\"arrowcolor\":\"#2a3f5f\",\"arrowhead\":0,\"arrowwidth\":1},\"geo\":{\"bgcolor\":\"white\",\"landcolor\":\"#E5ECF6\",\"subunitcolor\":\"white\",\"showland\":true,\"showlakes\":true,\"lakecolor\":\"white\"},\"title\":{\"x\":0.05},\"mapbox\":{\"style\":\"light\"}}},\"xaxis\":{\"anchor\":\"y\",\"domain\":[0.0,1.0],\"title\":{\"text\":\"value\"}},\"yaxis\":{\"anchor\":\"x\",\"domain\":[0.0,1.0],\"title\":{\"text\":\"count\"}},\"legend\":{\"title\":{\"text\":\"variable\"},\"tracegroupgap\":0},\"title\":{\"text\":\"Dataframe One\"},\"barmode\":\"relative\"},                        {\"responsive\": true}                    ).then(function(){\n",
       "                            \n",
       "var gd = document.getElementById('4b276a1a-d631-4e49-b79d-dae6c366f560');\n",
       "var x = new MutationObserver(function (mutations, observer) {{\n",
       "        var display = window.getComputedStyle(gd).display;\n",
       "        if (!display || display === 'none') {{\n",
       "            console.log([gd, 'removed!']);\n",
       "            Plotly.purge(gd);\n",
       "            observer.disconnect();\n",
       "        }}\n",
       "}});\n",
       "\n",
       "// Listen for the removal of the full notebook cells\n",
       "var notebookContainer = gd.closest('#notebook-container');\n",
       "if (notebookContainer) {{\n",
       "    x.observe(notebookContainer, {childList: true});\n",
       "}}\n",
       "\n",
       "// Listen for the clearing of the current output cell\n",
       "var outputEl = gd.closest('.output');\n",
       "if (outputEl) {{\n",
       "    x.observe(outputEl, {childList: true});\n",
       "}}\n",
       "\n",
       "                        })                };                });            </script>        </div>"
      ]
     },
     "metadata": {},
     "output_type": "display_data"
    }
   ],
   "source": [
    "# Alternative method: px.histogram()\n",
    "# Example below shows only column A\n",
    "fig = px.histogram(df1, x=['A', 'B'], title=\"Dataframe One\")\n",
    "fig.show()"
   ]
  },
  {
   "cell_type": "code",
   "execution_count": 63,
   "metadata": {},
   "outputs": [
    {
     "data": {
      "application/vnd.plotly.v1+json": {
       "config": {
        "plotlyServerURL": "https://plot.ly"
       },
       "data": [
        {
         "name": "A",
         "type": "histogram",
         "x": [
          0.2359448934095655,
          -0.11553547882724426,
          -1.5112851500872797,
          0.3216210118927075,
          0.7227061964675592,
          -0.26396236835574555,
          0.6774310379613416,
          -0.1293676380728081,
          -1.382465518517729,
          -0.7058893289701169,
          1.205602470126219,
          -0.4142026433122655,
          1.4038192423463682,
          -0.272123299522324,
          -1.5560118788472825,
          0.8524555919872518,
          -2.2225410768698692,
          0.33979005881348107,
          0.6456437972425405,
          -0.731118245740274,
          1.8863247581362084,
          0.47620295571063864,
          0.1691272863768816,
          0.0565885862035875,
          -0.8008539998619661,
          0.5640761797603207,
          -1.0402908200991485,
          1.2632192758332537,
          0.8001852943428392,
          0.9942075185593857,
          -1.6670591091411027,
          -0.8693493748971296,
          -0.5685631684262766,
          -0.9344944644327868,
          -1.4910781303589615,
          0.10293408064460284,
          -1.4921723744564654,
          -1.0610878922383273,
          0.6487241742938118,
          0.007402080290176547,
          1.1042671818217524,
          1.282504762017399,
          0.25058323038942326,
          -0.1550391587488294,
          -1.7520733580399444,
          -0.4917331334471655,
          0.1734211677106239,
          0.25986051304428565,
          -0.7128722141745402,
          1.000815958310827,
          0.020019067990750088,
          0.442512761923301,
          -1.603739987619922,
          -0.14216264338156803,
          -0.6457839284200597,
          0.765600622365788,
          -1.176920296486869,
          -0.8289392357001941,
          -0.18379494131118024,
          0.9762092214603008,
          0.752111158390017,
          -2.038831341899072,
          0.5043035415937707,
          1.5950505680026943,
          -1.7232085900557863,
          0.6254647284576472,
          0.6854273178778627,
          0.5504194552736732,
          -0.5113474954805075,
          0.21660217463289494,
          -0.5358441015346093,
          0.030289469885517624,
          -2.0530854173364883,
          1.328187492789172,
          -1.6951213949080755,
          -0.20514156324689506,
          -0.1503178513101585,
          1.453042754645402,
          0.7714430143815251,
          -0.8506171330868236,
          0.6055982487897926,
          -0.6426084692791018,
          0.8419668442717062,
          -0.33301101869762506,
          -0.15964658517675615,
          -0.03675492464844513,
          0.8328395717362393,
          1.5232826512341182,
          -0.24772823816596284,
          0.9335201004314814,
          0.32027027046326634,
          -0.8803608111593192,
          0.25544587873138636,
          0.3259089452617302,
          0.037824347035018975,
          1.324417574171217,
          0.4074101035292158,
          -3.6405718185238864,
          -0.030945124780708093,
          -0.938805783328876
         ],
         "xaxis": "x",
         "yaxis": "y"
        },
        {
         "name": "B",
         "type": "histogram",
         "x": [
          1.0802404020921963,
          0.061717473929948995,
          2.470011117638888,
          -0.2966432854635708,
          0.799459366543313,
          -0.041315699971736446,
          -0.051257310735982574,
          0.3867504616954854,
          0.20730910106618863,
          -0.5124423702013445,
          0.6689822388083951,
          -0.15963917340052214,
          -0.1514830154833668,
          -1.602804773015262,
          0.009561566225128685,
          -0.9638593694869944,
          0.8999522981620498,
          -0.8338804243831682,
          -0.13686166225857005,
          0.8102689195438029,
          -1.1738254206472705,
          -0.4244098382161465,
          -1.774996471093703,
          0.3965714193691946,
          -1.4329563536742547,
          0.7569808428502424,
          -0.749216892356607,
          -0.4631494228739791,
          -1.2759800223424045,
          0.9110922930072546,
          1.6289616283038597,
          1.0702771521215295,
          -0.7898700292127474,
          -1.3006999629808516,
          0.5319855251105174,
          0.3491683605771853,
          0.4057624516276886,
          2.194394977171649,
          -0.04049466332781439,
          -0.8205223289545324,
          -0.08924668113927986,
          -1.2362493192467803,
          0.8714178696805597,
          -0.5916441643665724,
          0.2940092787356169,
          -0.6631729239748891,
          -1.1688779665348512,
          -1.014378047119471,
          -0.46978721257724265,
          0.44900242261682854,
          1.1803742043704923,
          -0.854244531345532,
          -0.22950405606803584,
          -1.1024554805476539,
          0.05485179793554631,
          -0.8861253680948282,
          -0.5461509100087689,
          1.3663524245537813,
          0.6132313351197598,
          0.7743110879973716,
          -1.465140210498425,
          1.1387923305059786,
          -0.2863838558220708,
          0.00444904752967459,
          0.6778803262423572,
          -1.3407316070611548,
          -0.43132953973654276,
          -0.23682171318228415,
          0.9698405697864415,
          -1.6686909755256707,
          -0.7387036814185739,
          -0.16672389008027175,
          -2.66517531605979,
          -2.2822629181790273,
          0.12150494090183996,
          -0.996631058102381,
          -0.1338422454141239,
          0.29616040801700805,
          -0.07198846283731829,
          0.3439044634714144,
          0.9313767549924303,
          -0.04175995101288076,
          -0.569483478770295,
          -0.2732511222556454,
          0.014588841034461529,
          1.339802195286428,
          0.3026725307289202,
          -0.4248256235186205,
          -2.1384684248577215,
          -1.3184301004035286,
          -2.3079731894562103,
          -0.1564278948809446,
          -1.3538167769369271,
          2.463345282644514,
          1.1042086555700148,
          -1.2698499632271598,
          -0.9225704995058182,
          -0.8817187679690127,
          -0.10383278530002892,
          -0.9033902422801604
         ],
         "xaxis": "x2",
         "yaxis": "y2"
        },
        {
         "name": "C",
         "type": "histogram",
         "x": [
          0.362210888379707,
          -0.8790946075524264,
          1.5916424103974889,
          1.985037367110273,
          0.4267676373187868,
          -0.7711287194030684,
          1.6444419032388027,
          0.3229005539240179,
          0.8553883419657147,
          -0.6981771851793851,
          0.6728746211762616,
          -0.2411565023075009,
          0.1006374771745688,
          -0.4605665793211312,
          0.8462948056960479,
          -2.291794060458244,
          -0.8005726981261874,
          0.45894728727028544,
          -0.6893692495211603,
          0.15223231032432996,
          0.8212709672847033,
          2.539001721642067,
          -0.36063012263662586,
          -1.345783007626709,
          1.4134194726912512,
          0.44881039235090875,
          -0.03250850578403412,
          1.9067436354207241,
          -1.3606600384045153,
          -0.4679237464318467,
          0.32125221845045226,
          -1.1005413651096363,
          0.3848963140414039,
          -0.14729632341410154,
          -0.12000674956342947,
          0.6590330102074073,
          -2.6236097395009543,
          -0.285281829466115,
          -1.4587093099662427,
          -0.09937457842470056,
          0.2337466002950518,
          -1.3991390912483537,
          -1.569511119094901,
          -0.9042237204327599,
          0.12971775020129292,
          -0.6692469615719545,
          -0.044934555252757725,
          -0.30257220677071656,
          1.356284582480399,
          1.3975673100301191,
          -2.745552631308813,
          1.1529820026998625,
          -0.46551093961761086,
          -0.2580388575495552,
          0.9860903721810144,
          0.3313653111338001,
          0.04096827947053401,
          -1.1446774934651336,
          -0.2214943148727606,
          0.25026886034588763,
          0.7115218559421898,
          0.6777384153748057,
          1.4857508032045768,
          0.5671871899984104,
          0.2500987234274748,
          1.364278576846551,
          0.08651764114006337,
          -0.5937252324937048,
          -0.28684052244536556,
          1.0017064368630053,
          -0.6022942319517453,
          -0.1671507799928198,
          -1.3824766552034136,
          1.7345039767240094,
          0.2871474817380717,
          1.026530488907263,
          -2.3758818983890384,
          -0.5396505578080217,
          1.5709242732912363,
          0.35174174782695394,
          -0.766230049754918,
          -0.08154669524754,
          -0.38789050291577254,
          0.6166289431813281,
          -1.7353723924817883,
          -1.1956220236186794,
          0.12388591500019341,
          -0.6677869260614288,
          -1.379685137543275,
          -1.2493573127603956,
          -1.3381624249681952,
          -0.7024118934939101,
          0.7134131412186118,
          -1.6391398210180501,
          0.38947958640378944,
          -0.21605411539747432,
          -0.9758046681257782,
          0.10416725201633092,
          0.8687133358138391,
          0.12563834826624382
         ],
         "xaxis": "x3",
         "yaxis": "y3"
        },
        {
         "name": "D",
         "type": "histogram",
         "x": [
          -1.679967746938627,
          -0.961369778492663,
          0.6194896027127859,
          1.343263935053258,
          1.1946524548394442,
          1.4941026242488948,
          -0.4590479755828295,
          -0.21226378828406076,
          -0.9765743729881988,
          0.5339568062269521,
          -1.299102952072379,
          0.37009229517667486,
          0.18977865914407835,
          -0.03013962458915352,
          -0.44437287938815156,
          1.0562956469499547,
          -0.47997550393812316,
          0.424011555014445,
          1.894705230490557,
          1.3044530953542741,
          -0.03338109010535793,
          -0.7466773400946255,
          0.742393703342096,
          1.5958560336660441,
          0.06710740911893655,
          -0.7077485356574723,
          1.2198436980418241,
          -0.018892710868184965,
          -0.7502373914505263,
          -0.4498204094977267,
          -0.21889394424311326,
          0.9680290614216651,
          -0.8224550646745326,
          0.25277898109003205,
          1.3083989314445508,
          0.10941388423955029,
          0.8065767846377816,
          -0.8375566276213012,
          -1.0541595567696944,
          1.102799233259236,
          -0.17708688189657348,
          -0.7405019257606298,
          0.8369698227322198,
          -0.6959207369156268,
          -1.560766580207394,
          0.7296978538772365,
          -0.7540989122147503,
          1.2700864310641709,
          1.3871238336878366,
          0.28537806387964737,
          -1.7810970282305094,
          -0.27175586396501233,
          -0.8021610508041644,
          0.1626417523425865,
          -0.21420757096579288,
          -0.6137181712840671,
          0.4681619876522757,
          1.0157272567683568,
          -0.4897762921696083,
          -0.048975415380104845,
          0.5005671853793672,
          -1.4191101910994148,
          0.3661243776265578,
          0.3438525016339687,
          0.691694586855833,
          -0.391500050063653,
          0.9376085379730156,
          0.6745578606861934,
          -1.06212003361036,
          -0.28988304070506116,
          -0.40036845836909646,
          0.4473500304831712,
          -0.13068773801737563,
          0.4527534842989896,
          0.8018348840353593,
          -0.582753878396145,
          -1.1525619972069747,
          -0.19872862106739822,
          0.16133810251791436,
          0.8315461024891677,
          0.6329850280269286,
          -1.8035270304727438,
          1.0160276927149454,
          0.261080298212956,
          1.443240139938587,
          0.7537633907622964,
          0.7864834971398534,
          -1.4937078074683907,
          0.12841647140863988,
          -1.0935156981049452,
          0.6437624484796521,
          -0.13208599061321125,
          -0.9205067979219209,
          0.5721953154301251,
          0.14762781821366333,
          -0.6010976217003453,
          0.5088953512123734,
          1.0519392868757707,
          0.37526403135955466,
          -0.08501108583507125
         ],
         "xaxis": "x4",
         "yaxis": "y4"
        }
       ],
       "layout": {
        "template": {
         "data": {
          "bar": [
           {
            "error_x": {
             "color": "#2a3f5f"
            },
            "error_y": {
             "color": "#2a3f5f"
            },
            "marker": {
             "line": {
              "color": "#E5ECF6",
              "width": 0.5
             },
             "pattern": {
              "fillmode": "overlay",
              "size": 10,
              "solidity": 0.2
             }
            },
            "type": "bar"
           }
          ],
          "barpolar": [
           {
            "marker": {
             "line": {
              "color": "#E5ECF6",
              "width": 0.5
             },
             "pattern": {
              "fillmode": "overlay",
              "size": 10,
              "solidity": 0.2
             }
            },
            "type": "barpolar"
           }
          ],
          "carpet": [
           {
            "aaxis": {
             "endlinecolor": "#2a3f5f",
             "gridcolor": "white",
             "linecolor": "white",
             "minorgridcolor": "white",
             "startlinecolor": "#2a3f5f"
            },
            "baxis": {
             "endlinecolor": "#2a3f5f",
             "gridcolor": "white",
             "linecolor": "white",
             "minorgridcolor": "white",
             "startlinecolor": "#2a3f5f"
            },
            "type": "carpet"
           }
          ],
          "choropleth": [
           {
            "colorbar": {
             "outlinewidth": 0,
             "ticks": ""
            },
            "type": "choropleth"
           }
          ],
          "contour": [
           {
            "colorbar": {
             "outlinewidth": 0,
             "ticks": ""
            },
            "colorscale": [
             [
              0,
              "#0d0887"
             ],
             [
              0.1111111111111111,
              "#46039f"
             ],
             [
              0.2222222222222222,
              "#7201a8"
             ],
             [
              0.3333333333333333,
              "#9c179e"
             ],
             [
              0.4444444444444444,
              "#bd3786"
             ],
             [
              0.5555555555555556,
              "#d8576b"
             ],
             [
              0.6666666666666666,
              "#ed7953"
             ],
             [
              0.7777777777777778,
              "#fb9f3a"
             ],
             [
              0.8888888888888888,
              "#fdca26"
             ],
             [
              1,
              "#f0f921"
             ]
            ],
            "type": "contour"
           }
          ],
          "contourcarpet": [
           {
            "colorbar": {
             "outlinewidth": 0,
             "ticks": ""
            },
            "type": "contourcarpet"
           }
          ],
          "heatmap": [
           {
            "colorbar": {
             "outlinewidth": 0,
             "ticks": ""
            },
            "colorscale": [
             [
              0,
              "#0d0887"
             ],
             [
              0.1111111111111111,
              "#46039f"
             ],
             [
              0.2222222222222222,
              "#7201a8"
             ],
             [
              0.3333333333333333,
              "#9c179e"
             ],
             [
              0.4444444444444444,
              "#bd3786"
             ],
             [
              0.5555555555555556,
              "#d8576b"
             ],
             [
              0.6666666666666666,
              "#ed7953"
             ],
             [
              0.7777777777777778,
              "#fb9f3a"
             ],
             [
              0.8888888888888888,
              "#fdca26"
             ],
             [
              1,
              "#f0f921"
             ]
            ],
            "type": "heatmap"
           }
          ],
          "heatmapgl": [
           {
            "colorbar": {
             "outlinewidth": 0,
             "ticks": ""
            },
            "colorscale": [
             [
              0,
              "#0d0887"
             ],
             [
              0.1111111111111111,
              "#46039f"
             ],
             [
              0.2222222222222222,
              "#7201a8"
             ],
             [
              0.3333333333333333,
              "#9c179e"
             ],
             [
              0.4444444444444444,
              "#bd3786"
             ],
             [
              0.5555555555555556,
              "#d8576b"
             ],
             [
              0.6666666666666666,
              "#ed7953"
             ],
             [
              0.7777777777777778,
              "#fb9f3a"
             ],
             [
              0.8888888888888888,
              "#fdca26"
             ],
             [
              1,
              "#f0f921"
             ]
            ],
            "type": "heatmapgl"
           }
          ],
          "histogram": [
           {
            "marker": {
             "pattern": {
              "fillmode": "overlay",
              "size": 10,
              "solidity": 0.2
             }
            },
            "type": "histogram"
           }
          ],
          "histogram2d": [
           {
            "colorbar": {
             "outlinewidth": 0,
             "ticks": ""
            },
            "colorscale": [
             [
              0,
              "#0d0887"
             ],
             [
              0.1111111111111111,
              "#46039f"
             ],
             [
              0.2222222222222222,
              "#7201a8"
             ],
             [
              0.3333333333333333,
              "#9c179e"
             ],
             [
              0.4444444444444444,
              "#bd3786"
             ],
             [
              0.5555555555555556,
              "#d8576b"
             ],
             [
              0.6666666666666666,
              "#ed7953"
             ],
             [
              0.7777777777777778,
              "#fb9f3a"
             ],
             [
              0.8888888888888888,
              "#fdca26"
             ],
             [
              1,
              "#f0f921"
             ]
            ],
            "type": "histogram2d"
           }
          ],
          "histogram2dcontour": [
           {
            "colorbar": {
             "outlinewidth": 0,
             "ticks": ""
            },
            "colorscale": [
             [
              0,
              "#0d0887"
             ],
             [
              0.1111111111111111,
              "#46039f"
             ],
             [
              0.2222222222222222,
              "#7201a8"
             ],
             [
              0.3333333333333333,
              "#9c179e"
             ],
             [
              0.4444444444444444,
              "#bd3786"
             ],
             [
              0.5555555555555556,
              "#d8576b"
             ],
             [
              0.6666666666666666,
              "#ed7953"
             ],
             [
              0.7777777777777778,
              "#fb9f3a"
             ],
             [
              0.8888888888888888,
              "#fdca26"
             ],
             [
              1,
              "#f0f921"
             ]
            ],
            "type": "histogram2dcontour"
           }
          ],
          "mesh3d": [
           {
            "colorbar": {
             "outlinewidth": 0,
             "ticks": ""
            },
            "type": "mesh3d"
           }
          ],
          "parcoords": [
           {
            "line": {
             "colorbar": {
              "outlinewidth": 0,
              "ticks": ""
             }
            },
            "type": "parcoords"
           }
          ],
          "pie": [
           {
            "automargin": true,
            "type": "pie"
           }
          ],
          "scatter": [
           {
            "fillpattern": {
             "fillmode": "overlay",
             "size": 10,
             "solidity": 0.2
            },
            "type": "scatter"
           }
          ],
          "scatter3d": [
           {
            "line": {
             "colorbar": {
              "outlinewidth": 0,
              "ticks": ""
             }
            },
            "marker": {
             "colorbar": {
              "outlinewidth": 0,
              "ticks": ""
             }
            },
            "type": "scatter3d"
           }
          ],
          "scattercarpet": [
           {
            "marker": {
             "colorbar": {
              "outlinewidth": 0,
              "ticks": ""
             }
            },
            "type": "scattercarpet"
           }
          ],
          "scattergeo": [
           {
            "marker": {
             "colorbar": {
              "outlinewidth": 0,
              "ticks": ""
             }
            },
            "type": "scattergeo"
           }
          ],
          "scattergl": [
           {
            "marker": {
             "colorbar": {
              "outlinewidth": 0,
              "ticks": ""
             }
            },
            "type": "scattergl"
           }
          ],
          "scattermapbox": [
           {
            "marker": {
             "colorbar": {
              "outlinewidth": 0,
              "ticks": ""
             }
            },
            "type": "scattermapbox"
           }
          ],
          "scatterpolar": [
           {
            "marker": {
             "colorbar": {
              "outlinewidth": 0,
              "ticks": ""
             }
            },
            "type": "scatterpolar"
           }
          ],
          "scatterpolargl": [
           {
            "marker": {
             "colorbar": {
              "outlinewidth": 0,
              "ticks": ""
             }
            },
            "type": "scatterpolargl"
           }
          ],
          "scatterternary": [
           {
            "marker": {
             "colorbar": {
              "outlinewidth": 0,
              "ticks": ""
             }
            },
            "type": "scatterternary"
           }
          ],
          "surface": [
           {
            "colorbar": {
             "outlinewidth": 0,
             "ticks": ""
            },
            "colorscale": [
             [
              0,
              "#0d0887"
             ],
             [
              0.1111111111111111,
              "#46039f"
             ],
             [
              0.2222222222222222,
              "#7201a8"
             ],
             [
              0.3333333333333333,
              "#9c179e"
             ],
             [
              0.4444444444444444,
              "#bd3786"
             ],
             [
              0.5555555555555556,
              "#d8576b"
             ],
             [
              0.6666666666666666,
              "#ed7953"
             ],
             [
              0.7777777777777778,
              "#fb9f3a"
             ],
             [
              0.8888888888888888,
              "#fdca26"
             ],
             [
              1,
              "#f0f921"
             ]
            ],
            "type": "surface"
           }
          ],
          "table": [
           {
            "cells": {
             "fill": {
              "color": "#EBF0F8"
             },
             "line": {
              "color": "white"
             }
            },
            "header": {
             "fill": {
              "color": "#C8D4E3"
             },
             "line": {
              "color": "white"
             }
            },
            "type": "table"
           }
          ]
         },
         "layout": {
          "annotationdefaults": {
           "arrowcolor": "#2a3f5f",
           "arrowhead": 0,
           "arrowwidth": 1
          },
          "autotypenumbers": "strict",
          "coloraxis": {
           "colorbar": {
            "outlinewidth": 0,
            "ticks": ""
           }
          },
          "colorscale": {
           "diverging": [
            [
             0,
             "#8e0152"
            ],
            [
             0.1,
             "#c51b7d"
            ],
            [
             0.2,
             "#de77ae"
            ],
            [
             0.3,
             "#f1b6da"
            ],
            [
             0.4,
             "#fde0ef"
            ],
            [
             0.5,
             "#f7f7f7"
            ],
            [
             0.6,
             "#e6f5d0"
            ],
            [
             0.7,
             "#b8e186"
            ],
            [
             0.8,
             "#7fbc41"
            ],
            [
             0.9,
             "#4d9221"
            ],
            [
             1,
             "#276419"
            ]
           ],
           "sequential": [
            [
             0,
             "#0d0887"
            ],
            [
             0.1111111111111111,
             "#46039f"
            ],
            [
             0.2222222222222222,
             "#7201a8"
            ],
            [
             0.3333333333333333,
             "#9c179e"
            ],
            [
             0.4444444444444444,
             "#bd3786"
            ],
            [
             0.5555555555555556,
             "#d8576b"
            ],
            [
             0.6666666666666666,
             "#ed7953"
            ],
            [
             0.7777777777777778,
             "#fb9f3a"
            ],
            [
             0.8888888888888888,
             "#fdca26"
            ],
            [
             1,
             "#f0f921"
            ]
           ],
           "sequentialminus": [
            [
             0,
             "#0d0887"
            ],
            [
             0.1111111111111111,
             "#46039f"
            ],
            [
             0.2222222222222222,
             "#7201a8"
            ],
            [
             0.3333333333333333,
             "#9c179e"
            ],
            [
             0.4444444444444444,
             "#bd3786"
            ],
            [
             0.5555555555555556,
             "#d8576b"
            ],
            [
             0.6666666666666666,
             "#ed7953"
            ],
            [
             0.7777777777777778,
             "#fb9f3a"
            ],
            [
             0.8888888888888888,
             "#fdca26"
            ],
            [
             1,
             "#f0f921"
            ]
           ]
          },
          "colorway": [
           "#636efa",
           "#EF553B",
           "#00cc96",
           "#ab63fa",
           "#FFA15A",
           "#19d3f3",
           "#FF6692",
           "#B6E880",
           "#FF97FF",
           "#FECB52"
          ],
          "font": {
           "color": "#2a3f5f"
          },
          "geo": {
           "bgcolor": "white",
           "lakecolor": "white",
           "landcolor": "#E5ECF6",
           "showlakes": true,
           "showland": true,
           "subunitcolor": "white"
          },
          "hoverlabel": {
           "align": "left"
          },
          "hovermode": "closest",
          "mapbox": {
           "style": "light"
          },
          "paper_bgcolor": "white",
          "plot_bgcolor": "#E5ECF6",
          "polar": {
           "angularaxis": {
            "gridcolor": "white",
            "linecolor": "white",
            "ticks": ""
           },
           "bgcolor": "#E5ECF6",
           "radialaxis": {
            "gridcolor": "white",
            "linecolor": "white",
            "ticks": ""
           }
          },
          "scene": {
           "xaxis": {
            "backgroundcolor": "#E5ECF6",
            "gridcolor": "white",
            "gridwidth": 2,
            "linecolor": "white",
            "showbackground": true,
            "ticks": "",
            "zerolinecolor": "white"
           },
           "yaxis": {
            "backgroundcolor": "#E5ECF6",
            "gridcolor": "white",
            "gridwidth": 2,
            "linecolor": "white",
            "showbackground": true,
            "ticks": "",
            "zerolinecolor": "white"
           },
           "zaxis": {
            "backgroundcolor": "#E5ECF6",
            "gridcolor": "white",
            "gridwidth": 2,
            "linecolor": "white",
            "showbackground": true,
            "ticks": "",
            "zerolinecolor": "white"
           }
          },
          "shapedefaults": {
           "line": {
            "color": "#2a3f5f"
           }
          },
          "ternary": {
           "aaxis": {
            "gridcolor": "white",
            "linecolor": "white",
            "ticks": ""
           },
           "baxis": {
            "gridcolor": "white",
            "linecolor": "white",
            "ticks": ""
           },
           "bgcolor": "#E5ECF6",
           "caxis": {
            "gridcolor": "white",
            "linecolor": "white",
            "ticks": ""
           }
          },
          "title": {
           "x": 0.05
          },
          "xaxis": {
           "automargin": true,
           "gridcolor": "white",
           "linecolor": "white",
           "ticks": "",
           "title": {
            "standoff": 15
           },
           "zerolinecolor": "white",
           "zerolinewidth": 2
          },
          "yaxis": {
           "automargin": true,
           "gridcolor": "white",
           "linecolor": "white",
           "ticks": "",
           "title": {
            "standoff": 15
           },
           "zerolinecolor": "white",
           "zerolinewidth": 2
          }
         }
        },
        "xaxis": {
         "anchor": "y",
         "domain": [
          0,
          0.45
         ]
        },
        "xaxis2": {
         "anchor": "y2",
         "domain": [
          0.55,
          1
         ]
        },
        "xaxis3": {
         "anchor": "y3",
         "domain": [
          0,
          0.45
         ]
        },
        "xaxis4": {
         "anchor": "y4",
         "domain": [
          0.55,
          1
         ]
        },
        "yaxis": {
         "anchor": "x",
         "domain": [
          0.575,
          1
         ]
        },
        "yaxis2": {
         "anchor": "x2",
         "domain": [
          0.575,
          1
         ]
        },
        "yaxis3": {
         "anchor": "x3",
         "domain": [
          0,
          0.425
         ]
        },
        "yaxis4": {
         "anchor": "x4",
         "domain": [
          0,
          0.425
         ]
        }
       }
      },
      "text/html": [
       "<div>                            <div id=\"84bc47d1-5b58-44cf-8e97-5ab5b1a5c95c\" class=\"plotly-graph-div\" style=\"height:525px; width:100%;\"></div>            <script type=\"text/javascript\">                require([\"plotly\"], function(Plotly) {                    window.PLOTLYENV=window.PLOTLYENV || {};                                    if (document.getElementById(\"84bc47d1-5b58-44cf-8e97-5ab5b1a5c95c\")) {                    Plotly.newPlot(                        \"84bc47d1-5b58-44cf-8e97-5ab5b1a5c95c\",                        [{\"name\":\"A\",\"x\":[0.2359448934095655,-0.11553547882724426,-1.5112851500872797,0.3216210118927075,0.7227061964675592,-0.26396236835574555,0.6774310379613416,-0.1293676380728081,-1.382465518517729,-0.7058893289701169,1.205602470126219,-0.4142026433122655,1.4038192423463682,-0.272123299522324,-1.5560118788472825,0.8524555919872518,-2.2225410768698692,0.33979005881348107,0.6456437972425405,-0.731118245740274,1.8863247581362084,0.47620295571063864,0.1691272863768816,0.0565885862035875,-0.8008539998619661,0.5640761797603207,-1.0402908200991485,1.2632192758332537,0.8001852943428392,0.9942075185593857,-1.6670591091411027,-0.8693493748971296,-0.5685631684262766,-0.9344944644327868,-1.4910781303589615,0.10293408064460284,-1.4921723744564654,-1.0610878922383273,0.6487241742938118,0.007402080290176547,1.1042671818217524,1.282504762017399,0.25058323038942326,-0.1550391587488294,-1.7520733580399444,-0.4917331334471655,0.1734211677106239,0.25986051304428565,-0.7128722141745402,1.000815958310827,0.020019067990750088,0.442512761923301,-1.603739987619922,-0.14216264338156803,-0.6457839284200597,0.765600622365788,-1.176920296486869,-0.8289392357001941,-0.18379494131118024,0.9762092214603008,0.752111158390017,-2.038831341899072,0.5043035415937707,1.5950505680026943,-1.7232085900557863,0.6254647284576472,0.6854273178778627,0.5504194552736732,-0.5113474954805075,0.21660217463289494,-0.5358441015346093,0.030289469885517624,-2.0530854173364883,1.328187492789172,-1.6951213949080755,-0.20514156324689506,-0.1503178513101585,1.453042754645402,0.7714430143815251,-0.8506171330868236,0.6055982487897926,-0.6426084692791018,0.8419668442717062,-0.33301101869762506,-0.15964658517675615,-0.03675492464844513,0.8328395717362393,1.5232826512341182,-0.24772823816596284,0.9335201004314814,0.32027027046326634,-0.8803608111593192,0.25544587873138636,0.3259089452617302,0.037824347035018975,1.324417574171217,0.4074101035292158,-3.6405718185238864,-0.030945124780708093,-0.938805783328876],\"type\":\"histogram\",\"xaxis\":\"x\",\"yaxis\":\"y\"},{\"name\":\"B\",\"x\":[1.0802404020921963,0.061717473929948995,2.470011117638888,-0.2966432854635708,0.799459366543313,-0.041315699971736446,-0.051257310735982574,0.3867504616954854,0.20730910106618863,-0.5124423702013445,0.6689822388083951,-0.15963917340052214,-0.1514830154833668,-1.602804773015262,0.009561566225128685,-0.9638593694869944,0.8999522981620498,-0.8338804243831682,-0.13686166225857005,0.8102689195438029,-1.1738254206472705,-0.4244098382161465,-1.774996471093703,0.3965714193691946,-1.4329563536742547,0.7569808428502424,-0.749216892356607,-0.4631494228739791,-1.2759800223424045,0.9110922930072546,1.6289616283038597,1.0702771521215295,-0.7898700292127474,-1.3006999629808516,0.5319855251105174,0.3491683605771853,0.4057624516276886,2.194394977171649,-0.04049466332781439,-0.8205223289545324,-0.08924668113927986,-1.2362493192467803,0.8714178696805597,-0.5916441643665724,0.2940092787356169,-0.6631729239748891,-1.1688779665348512,-1.014378047119471,-0.46978721257724265,0.44900242261682854,1.1803742043704923,-0.854244531345532,-0.22950405606803584,-1.1024554805476539,0.05485179793554631,-0.8861253680948282,-0.5461509100087689,1.3663524245537813,0.6132313351197598,0.7743110879973716,-1.465140210498425,1.1387923305059786,-0.2863838558220708,0.00444904752967459,0.6778803262423572,-1.3407316070611548,-0.43132953973654276,-0.23682171318228415,0.9698405697864415,-1.6686909755256707,-0.7387036814185739,-0.16672389008027175,-2.66517531605979,-2.2822629181790273,0.12150494090183996,-0.996631058102381,-0.1338422454141239,0.29616040801700805,-0.07198846283731829,0.3439044634714144,0.9313767549924303,-0.04175995101288076,-0.569483478770295,-0.2732511222556454,0.014588841034461529,1.339802195286428,0.3026725307289202,-0.4248256235186205,-2.1384684248577215,-1.3184301004035286,-2.3079731894562103,-0.1564278948809446,-1.3538167769369271,2.463345282644514,1.1042086555700148,-1.2698499632271598,-0.9225704995058182,-0.8817187679690127,-0.10383278530002892,-0.9033902422801604],\"type\":\"histogram\",\"xaxis\":\"x2\",\"yaxis\":\"y2\"},{\"name\":\"C\",\"x\":[0.362210888379707,-0.8790946075524264,1.5916424103974889,1.985037367110273,0.4267676373187868,-0.7711287194030684,1.6444419032388027,0.3229005539240179,0.8553883419657147,-0.6981771851793851,0.6728746211762616,-0.2411565023075009,0.1006374771745688,-0.4605665793211312,0.8462948056960479,-2.291794060458244,-0.8005726981261874,0.45894728727028544,-0.6893692495211603,0.15223231032432996,0.8212709672847033,2.539001721642067,-0.36063012263662586,-1.345783007626709,1.4134194726912512,0.44881039235090875,-0.03250850578403412,1.9067436354207241,-1.3606600384045153,-0.4679237464318467,0.32125221845045226,-1.1005413651096363,0.3848963140414039,-0.14729632341410154,-0.12000674956342947,0.6590330102074073,-2.6236097395009543,-0.285281829466115,-1.4587093099662427,-0.09937457842470056,0.2337466002950518,-1.3991390912483537,-1.569511119094901,-0.9042237204327599,0.12971775020129292,-0.6692469615719545,-0.044934555252757725,-0.30257220677071656,1.356284582480399,1.3975673100301191,-2.745552631308813,1.1529820026998625,-0.46551093961761086,-0.2580388575495552,0.9860903721810144,0.3313653111338001,0.04096827947053401,-1.1446774934651336,-0.2214943148727606,0.25026886034588763,0.7115218559421898,0.6777384153748057,1.4857508032045768,0.5671871899984104,0.2500987234274748,1.364278576846551,0.08651764114006337,-0.5937252324937048,-0.28684052244536556,1.0017064368630053,-0.6022942319517453,-0.1671507799928198,-1.3824766552034136,1.7345039767240094,0.2871474817380717,1.026530488907263,-2.3758818983890384,-0.5396505578080217,1.5709242732912363,0.35174174782695394,-0.766230049754918,-0.08154669524754,-0.38789050291577254,0.6166289431813281,-1.7353723924817883,-1.1956220236186794,0.12388591500019341,-0.6677869260614288,-1.379685137543275,-1.2493573127603956,-1.3381624249681952,-0.7024118934939101,0.7134131412186118,-1.6391398210180501,0.38947958640378944,-0.21605411539747432,-0.9758046681257782,0.10416725201633092,0.8687133358138391,0.12563834826624382],\"type\":\"histogram\",\"xaxis\":\"x3\",\"yaxis\":\"y3\"},{\"name\":\"D\",\"x\":[-1.679967746938627,-0.961369778492663,0.6194896027127859,1.343263935053258,1.1946524548394442,1.4941026242488948,-0.4590479755828295,-0.21226378828406076,-0.9765743729881988,0.5339568062269521,-1.299102952072379,0.37009229517667486,0.18977865914407835,-0.03013962458915352,-0.44437287938815156,1.0562956469499547,-0.47997550393812316,0.424011555014445,1.894705230490557,1.3044530953542741,-0.03338109010535793,-0.7466773400946255,0.742393703342096,1.5958560336660441,0.06710740911893655,-0.7077485356574723,1.2198436980418241,-0.018892710868184965,-0.7502373914505263,-0.4498204094977267,-0.21889394424311326,0.9680290614216651,-0.8224550646745326,0.25277898109003205,1.3083989314445508,0.10941388423955029,0.8065767846377816,-0.8375566276213012,-1.0541595567696944,1.102799233259236,-0.17708688189657348,-0.7405019257606298,0.8369698227322198,-0.6959207369156268,-1.560766580207394,0.7296978538772365,-0.7540989122147503,1.2700864310641709,1.3871238336878366,0.28537806387964737,-1.7810970282305094,-0.27175586396501233,-0.8021610508041644,0.1626417523425865,-0.21420757096579288,-0.6137181712840671,0.4681619876522757,1.0157272567683568,-0.4897762921696083,-0.048975415380104845,0.5005671853793672,-1.4191101910994148,0.3661243776265578,0.3438525016339687,0.691694586855833,-0.391500050063653,0.9376085379730156,0.6745578606861934,-1.06212003361036,-0.28988304070506116,-0.40036845836909646,0.4473500304831712,-0.13068773801737563,0.4527534842989896,0.8018348840353593,-0.582753878396145,-1.1525619972069747,-0.19872862106739822,0.16133810251791436,0.8315461024891677,0.6329850280269286,-1.8035270304727438,1.0160276927149454,0.261080298212956,1.443240139938587,0.7537633907622964,0.7864834971398534,-1.4937078074683907,0.12841647140863988,-1.0935156981049452,0.6437624484796521,-0.13208599061321125,-0.9205067979219209,0.5721953154301251,0.14762781821366333,-0.6010976217003453,0.5088953512123734,1.0519392868757707,0.37526403135955466,-0.08501108583507125],\"type\":\"histogram\",\"xaxis\":\"x4\",\"yaxis\":\"y4\"}],                        {\"template\":{\"data\":{\"histogram2dcontour\":[{\"type\":\"histogram2dcontour\",\"colorbar\":{\"outlinewidth\":0,\"ticks\":\"\"},\"colorscale\":[[0.0,\"#0d0887\"],[0.1111111111111111,\"#46039f\"],[0.2222222222222222,\"#7201a8\"],[0.3333333333333333,\"#9c179e\"],[0.4444444444444444,\"#bd3786\"],[0.5555555555555556,\"#d8576b\"],[0.6666666666666666,\"#ed7953\"],[0.7777777777777778,\"#fb9f3a\"],[0.8888888888888888,\"#fdca26\"],[1.0,\"#f0f921\"]]}],\"choropleth\":[{\"type\":\"choropleth\",\"colorbar\":{\"outlinewidth\":0,\"ticks\":\"\"}}],\"histogram2d\":[{\"type\":\"histogram2d\",\"colorbar\":{\"outlinewidth\":0,\"ticks\":\"\"},\"colorscale\":[[0.0,\"#0d0887\"],[0.1111111111111111,\"#46039f\"],[0.2222222222222222,\"#7201a8\"],[0.3333333333333333,\"#9c179e\"],[0.4444444444444444,\"#bd3786\"],[0.5555555555555556,\"#d8576b\"],[0.6666666666666666,\"#ed7953\"],[0.7777777777777778,\"#fb9f3a\"],[0.8888888888888888,\"#fdca26\"],[1.0,\"#f0f921\"]]}],\"heatmap\":[{\"type\":\"heatmap\",\"colorbar\":{\"outlinewidth\":0,\"ticks\":\"\"},\"colorscale\":[[0.0,\"#0d0887\"],[0.1111111111111111,\"#46039f\"],[0.2222222222222222,\"#7201a8\"],[0.3333333333333333,\"#9c179e\"],[0.4444444444444444,\"#bd3786\"],[0.5555555555555556,\"#d8576b\"],[0.6666666666666666,\"#ed7953\"],[0.7777777777777778,\"#fb9f3a\"],[0.8888888888888888,\"#fdca26\"],[1.0,\"#f0f921\"]]}],\"heatmapgl\":[{\"type\":\"heatmapgl\",\"colorbar\":{\"outlinewidth\":0,\"ticks\":\"\"},\"colorscale\":[[0.0,\"#0d0887\"],[0.1111111111111111,\"#46039f\"],[0.2222222222222222,\"#7201a8\"],[0.3333333333333333,\"#9c179e\"],[0.4444444444444444,\"#bd3786\"],[0.5555555555555556,\"#d8576b\"],[0.6666666666666666,\"#ed7953\"],[0.7777777777777778,\"#fb9f3a\"],[0.8888888888888888,\"#fdca26\"],[1.0,\"#f0f921\"]]}],\"contourcarpet\":[{\"type\":\"contourcarpet\",\"colorbar\":{\"outlinewidth\":0,\"ticks\":\"\"}}],\"contour\":[{\"type\":\"contour\",\"colorbar\":{\"outlinewidth\":0,\"ticks\":\"\"},\"colorscale\":[[0.0,\"#0d0887\"],[0.1111111111111111,\"#46039f\"],[0.2222222222222222,\"#7201a8\"],[0.3333333333333333,\"#9c179e\"],[0.4444444444444444,\"#bd3786\"],[0.5555555555555556,\"#d8576b\"],[0.6666666666666666,\"#ed7953\"],[0.7777777777777778,\"#fb9f3a\"],[0.8888888888888888,\"#fdca26\"],[1.0,\"#f0f921\"]]}],\"surface\":[{\"type\":\"surface\",\"colorbar\":{\"outlinewidth\":0,\"ticks\":\"\"},\"colorscale\":[[0.0,\"#0d0887\"],[0.1111111111111111,\"#46039f\"],[0.2222222222222222,\"#7201a8\"],[0.3333333333333333,\"#9c179e\"],[0.4444444444444444,\"#bd3786\"],[0.5555555555555556,\"#d8576b\"],[0.6666666666666666,\"#ed7953\"],[0.7777777777777778,\"#fb9f3a\"],[0.8888888888888888,\"#fdca26\"],[1.0,\"#f0f921\"]]}],\"mesh3d\":[{\"type\":\"mesh3d\",\"colorbar\":{\"outlinewidth\":0,\"ticks\":\"\"}}],\"scatter\":[{\"fillpattern\":{\"fillmode\":\"overlay\",\"size\":10,\"solidity\":0.2},\"type\":\"scatter\"}],\"parcoords\":[{\"type\":\"parcoords\",\"line\":{\"colorbar\":{\"outlinewidth\":0,\"ticks\":\"\"}}}],\"scatterpolargl\":[{\"type\":\"scatterpolargl\",\"marker\":{\"colorbar\":{\"outlinewidth\":0,\"ticks\":\"\"}}}],\"bar\":[{\"error_x\":{\"color\":\"#2a3f5f\"},\"error_y\":{\"color\":\"#2a3f5f\"},\"marker\":{\"line\":{\"color\":\"#E5ECF6\",\"width\":0.5},\"pattern\":{\"fillmode\":\"overlay\",\"size\":10,\"solidity\":0.2}},\"type\":\"bar\"}],\"scattergeo\":[{\"type\":\"scattergeo\",\"marker\":{\"colorbar\":{\"outlinewidth\":0,\"ticks\":\"\"}}}],\"scatterpolar\":[{\"type\":\"scatterpolar\",\"marker\":{\"colorbar\":{\"outlinewidth\":0,\"ticks\":\"\"}}}],\"histogram\":[{\"marker\":{\"pattern\":{\"fillmode\":\"overlay\",\"size\":10,\"solidity\":0.2}},\"type\":\"histogram\"}],\"scattergl\":[{\"type\":\"scattergl\",\"marker\":{\"colorbar\":{\"outlinewidth\":0,\"ticks\":\"\"}}}],\"scatter3d\":[{\"type\":\"scatter3d\",\"line\":{\"colorbar\":{\"outlinewidth\":0,\"ticks\":\"\"}},\"marker\":{\"colorbar\":{\"outlinewidth\":0,\"ticks\":\"\"}}}],\"scattermapbox\":[{\"type\":\"scattermapbox\",\"marker\":{\"colorbar\":{\"outlinewidth\":0,\"ticks\":\"\"}}}],\"scatterternary\":[{\"type\":\"scatterternary\",\"marker\":{\"colorbar\":{\"outlinewidth\":0,\"ticks\":\"\"}}}],\"scattercarpet\":[{\"type\":\"scattercarpet\",\"marker\":{\"colorbar\":{\"outlinewidth\":0,\"ticks\":\"\"}}}],\"carpet\":[{\"aaxis\":{\"endlinecolor\":\"#2a3f5f\",\"gridcolor\":\"white\",\"linecolor\":\"white\",\"minorgridcolor\":\"white\",\"startlinecolor\":\"#2a3f5f\"},\"baxis\":{\"endlinecolor\":\"#2a3f5f\",\"gridcolor\":\"white\",\"linecolor\":\"white\",\"minorgridcolor\":\"white\",\"startlinecolor\":\"#2a3f5f\"},\"type\":\"carpet\"}],\"table\":[{\"cells\":{\"fill\":{\"color\":\"#EBF0F8\"},\"line\":{\"color\":\"white\"}},\"header\":{\"fill\":{\"color\":\"#C8D4E3\"},\"line\":{\"color\":\"white\"}},\"type\":\"table\"}],\"barpolar\":[{\"marker\":{\"line\":{\"color\":\"#E5ECF6\",\"width\":0.5},\"pattern\":{\"fillmode\":\"overlay\",\"size\":10,\"solidity\":0.2}},\"type\":\"barpolar\"}],\"pie\":[{\"automargin\":true,\"type\":\"pie\"}]},\"layout\":{\"autotypenumbers\":\"strict\",\"colorway\":[\"#636efa\",\"#EF553B\",\"#00cc96\",\"#ab63fa\",\"#FFA15A\",\"#19d3f3\",\"#FF6692\",\"#B6E880\",\"#FF97FF\",\"#FECB52\"],\"font\":{\"color\":\"#2a3f5f\"},\"hovermode\":\"closest\",\"hoverlabel\":{\"align\":\"left\"},\"paper_bgcolor\":\"white\",\"plot_bgcolor\":\"#E5ECF6\",\"polar\":{\"bgcolor\":\"#E5ECF6\",\"angularaxis\":{\"gridcolor\":\"white\",\"linecolor\":\"white\",\"ticks\":\"\"},\"radialaxis\":{\"gridcolor\":\"white\",\"linecolor\":\"white\",\"ticks\":\"\"}},\"ternary\":{\"bgcolor\":\"#E5ECF6\",\"aaxis\":{\"gridcolor\":\"white\",\"linecolor\":\"white\",\"ticks\":\"\"},\"baxis\":{\"gridcolor\":\"white\",\"linecolor\":\"white\",\"ticks\":\"\"},\"caxis\":{\"gridcolor\":\"white\",\"linecolor\":\"white\",\"ticks\":\"\"}},\"coloraxis\":{\"colorbar\":{\"outlinewidth\":0,\"ticks\":\"\"}},\"colorscale\":{\"sequential\":[[0.0,\"#0d0887\"],[0.1111111111111111,\"#46039f\"],[0.2222222222222222,\"#7201a8\"],[0.3333333333333333,\"#9c179e\"],[0.4444444444444444,\"#bd3786\"],[0.5555555555555556,\"#d8576b\"],[0.6666666666666666,\"#ed7953\"],[0.7777777777777778,\"#fb9f3a\"],[0.8888888888888888,\"#fdca26\"],[1.0,\"#f0f921\"]],\"sequentialminus\":[[0.0,\"#0d0887\"],[0.1111111111111111,\"#46039f\"],[0.2222222222222222,\"#7201a8\"],[0.3333333333333333,\"#9c179e\"],[0.4444444444444444,\"#bd3786\"],[0.5555555555555556,\"#d8576b\"],[0.6666666666666666,\"#ed7953\"],[0.7777777777777778,\"#fb9f3a\"],[0.8888888888888888,\"#fdca26\"],[1.0,\"#f0f921\"]],\"diverging\":[[0,\"#8e0152\"],[0.1,\"#c51b7d\"],[0.2,\"#de77ae\"],[0.3,\"#f1b6da\"],[0.4,\"#fde0ef\"],[0.5,\"#f7f7f7\"],[0.6,\"#e6f5d0\"],[0.7,\"#b8e186\"],[0.8,\"#7fbc41\"],[0.9,\"#4d9221\"],[1,\"#276419\"]]},\"xaxis\":{\"gridcolor\":\"white\",\"linecolor\":\"white\",\"ticks\":\"\",\"title\":{\"standoff\":15},\"zerolinecolor\":\"white\",\"automargin\":true,\"zerolinewidth\":2},\"yaxis\":{\"gridcolor\":\"white\",\"linecolor\":\"white\",\"ticks\":\"\",\"title\":{\"standoff\":15},\"zerolinecolor\":\"white\",\"automargin\":true,\"zerolinewidth\":2},\"scene\":{\"xaxis\":{\"backgroundcolor\":\"#E5ECF6\",\"gridcolor\":\"white\",\"linecolor\":\"white\",\"showbackground\":true,\"ticks\":\"\",\"zerolinecolor\":\"white\",\"gridwidth\":2},\"yaxis\":{\"backgroundcolor\":\"#E5ECF6\",\"gridcolor\":\"white\",\"linecolor\":\"white\",\"showbackground\":true,\"ticks\":\"\",\"zerolinecolor\":\"white\",\"gridwidth\":2},\"zaxis\":{\"backgroundcolor\":\"#E5ECF6\",\"gridcolor\":\"white\",\"linecolor\":\"white\",\"showbackground\":true,\"ticks\":\"\",\"zerolinecolor\":\"white\",\"gridwidth\":2}},\"shapedefaults\":{\"line\":{\"color\":\"#2a3f5f\"}},\"annotationdefaults\":{\"arrowcolor\":\"#2a3f5f\",\"arrowhead\":0,\"arrowwidth\":1},\"geo\":{\"bgcolor\":\"white\",\"landcolor\":\"#E5ECF6\",\"subunitcolor\":\"white\",\"showland\":true,\"showlakes\":true,\"lakecolor\":\"white\"},\"title\":{\"x\":0.05},\"mapbox\":{\"style\":\"light\"}}},\"xaxis\":{\"anchor\":\"y\",\"domain\":[0.0,0.45]},\"yaxis\":{\"anchor\":\"x\",\"domain\":[0.575,1.0]},\"xaxis2\":{\"anchor\":\"y2\",\"domain\":[0.55,1.0]},\"yaxis2\":{\"anchor\":\"x2\",\"domain\":[0.575,1.0]},\"xaxis3\":{\"anchor\":\"y3\",\"domain\":[0.0,0.45]},\"yaxis3\":{\"anchor\":\"x3\",\"domain\":[0.0,0.425]},\"xaxis4\":{\"anchor\":\"y4\",\"domain\":[0.55,1.0]},\"yaxis4\":{\"anchor\":\"x4\",\"domain\":[0.0,0.425]}},                        {\"responsive\": true}                    ).then(function(){\n",
       "                            \n",
       "var gd = document.getElementById('84bc47d1-5b58-44cf-8e97-5ab5b1a5c95c');\n",
       "var x = new MutationObserver(function (mutations, observer) {{\n",
       "        var display = window.getComputedStyle(gd).display;\n",
       "        if (!display || display === 'none') {{\n",
       "            console.log([gd, 'removed!']);\n",
       "            Plotly.purge(gd);\n",
       "            observer.disconnect();\n",
       "        }}\n",
       "}});\n",
       "\n",
       "// Listen for the removal of the full notebook cells\n",
       "var notebookContainer = gd.closest('#notebook-container');\n",
       "if (notebookContainer) {{\n",
       "    x.observe(notebookContainer, {childList: true});\n",
       "}}\n",
       "\n",
       "// Listen for the clearing of the current output cell\n",
       "var outputEl = gd.closest('.output');\n",
       "if (outputEl) {{\n",
       "    x.observe(outputEl, {childList: true});\n",
       "}}\n",
       "\n",
       "                        })                };                });            </script>        </div>"
      ]
     },
     "metadata": {},
     "output_type": "display_data"
    }
   ],
   "source": [
    "# Plotly subplot with histogram (advanced)\n",
    "import plotly.graph_objects as go\n",
    "from plotly.subplots import make_subplots\n",
    "\n",
    "fig = make_subplots(rows=2, cols=2)\n",
    "h1 = go.Histogram(x=df['A'], name='A')\n",
    "h2 = go.Histogram(x=df['B'], name='B')\n",
    "h3 = go.Histogram(x=df['C'], name='C')\n",
    "h4 = go.Histogram(x=df['D'], name='D')\n",
    "\n",
    "fig.append_trace(h1, 1, 1)\n",
    "fig.append_trace(h2, 1, 2)\n",
    "fig.append_trace(h3, 2, 1)\n",
    "fig.append_trace(h4, 2, 2)\n",
    "fig.show()"
   ]
  },
  {
   "cell_type": "markdown",
   "metadata": {},
   "source": [
    "### 7. Bubble"
   ]
  },
  {
   "cell_type": "code",
   "execution_count": 65,
   "metadata": {
    "collapsed": false
   },
   "outputs": [
    {
     "data": {
      "application/vnd.plotly.v1+json": {
       "config": {
        "linkText": "Export to plot.ly",
        "plotlyServerURL": "https://plot.ly",
        "showLink": true
       },
       "data": [
        {
         "marker": {
          "color": [
           "rgb(255, 153, 51)",
           "rgb(55, 128, 191)",
           "rgb(50, 171, 96)",
           "rgb(128, 0, 128)",
           "rgb(219, 64, 82)",
           "rgb(0, 128, 128)",
           "rgb(255, 255, 51)",
           "rgb(128, 128, 0)",
           "rgb(251, 128, 114)",
           "rgb(128, 177, 211)"
          ],
          "line": {
           "width": 1.3
          },
          "size": [
           106,
           61,
           71,
           48,
           79,
           86,
           56,
           56,
           56,
           107,
           86,
           56,
           82,
           101,
           30,
           46,
           89,
           64,
           75,
           47,
           36,
           95,
           27,
           63,
           44,
           100,
           55,
           75,
           77,
           77,
           106,
           96,
           67,
           97,
           55,
           80,
           40,
           12,
           19,
           67,
           88,
           61,
           79,
           88,
           61,
           73,
           74,
           86,
           44,
           55,
           23,
           112,
           60,
           77,
           83,
           73,
           101,
           64,
           94,
           61,
           79,
           61,
           62,
           53,
           97,
           83,
           85,
           73,
           30,
           75,
           100,
           96,
           105,
           51,
           19,
           78,
           86,
           70,
           58,
           55,
           55,
           51,
           91,
           78,
           66,
           74,
           75,
           54,
           88,
           77,
           57,
           48,
           36,
           33,
           76,
           48,
           48,
           91,
           75,
           71
          ],
          "symbol": "circle"
         },
         "mode": "markers",
         "text": "",
         "type": "scatter",
         "x": [
          -1.4747380955937974,
          0.28725077112417235,
          -1.6568846794720122,
          1.381720942647079,
          0.3657833365094521,
          0.026008073073972172,
          -0.5109681143770874,
          -0.30968695071839253,
          0.08056276720583924,
          1.2206461655280683,
          -1.0044961445651543,
          -0.7086123871501985,
          -0.3032080480213653,
          -0.4681810010400497,
          0.4883380048432973,
          -1.0568975335865904,
          -0.6478951720409023,
          -1.1006335991216396,
          -1.1084672870151069,
          1.0115169993247746,
          0.8628879534962799,
          0.49107556584687034,
          -0.21460151922209592,
          -0.21167224031379164,
          -1.0868280793928702,
          0.1813077457259262,
          1.6048411477507714,
          -1.1129128593443407,
          0.13510904054871198,
          0.7363175261488993,
          0.30133889718720347,
          1.0968390103774157,
          -0.9215941053119098,
          1.1452096988910712,
          -0.0969211977387717,
          0.7832229582485118,
          1.0531791723051949,
          -0.6663370851946934,
          -0.7282508718905567,
          -1.688787692138687,
          0.2592955164616916,
          -0.35251940357111267,
          0.5255678646250175,
          0.1591013061134092,
          1.6392683058616393,
          -0.7594873429459711,
          0.3571677103292569,
          -1.9129516673080214,
          0.2812674212385775,
          2.9443484953104657,
          -1.2668238549208235,
          0.41322784242257693,
          1.206697949804835,
          1.0295637127428512,
          0.42415314431239537,
          -1.234242731046262,
          -0.005177234655683374,
          0.40215839443750323,
          0.5734568360798693,
          -0.981071428153688,
          -1.044181132406017,
          -0.5455429283558031,
          0.8723741296130654,
          -1.7382678852503126,
          -2.394203349842937,
          1.1200094352775187,
          -0.6221419105120386,
          0.28050386485521667,
          -0.21614849790735982,
          -0.5457390506690335,
          -2.3191277297140607,
          1.3524213867671204,
          0.12594824702172094,
          -0.02781084118179256,
          -1.0121863416508705,
          -0.1346075258918912,
          -0.2161185225683815,
          -1.4044793440674315,
          0.5103800616622387,
          -0.26035603985135364,
          0.7128604943441633,
          -0.09028399432601468,
          0.5214049330304661,
          -0.050307547047459246,
          -0.139890323143218,
          -1.2155801358748424,
          0.9627948608905095,
          0.8801238599064668,
          0.020185320431986706,
          1.6625023152013685,
          0.3816936279691013,
          0.34509760366963216,
          0.37972886845205844,
          0.4258913685657802,
          -0.22863620193291423,
          -1.4886214993845972,
          0.5486315743498743,
          -0.37552303459747266,
          -1.7087243821390654,
          -0.047214690067770786
         ],
         "y": [
          0.21816361565301612,
          -0.18311601650778261,
          -0.8722852429063794,
          0.7996321791414022,
          1.4830013794585655,
          -1.8513851087254878,
          1.613906454791288,
          -1.5827358120075996,
          -0.2852339752587739,
          -1.1655837011030066,
          -1.3316526305662248,
          -0.058152616565652196,
          0.06088486005099269,
          -1.8538715257905751,
          -0.10795630868630458,
          -0.5169453758367406,
          0.05896114763704862,
          1.937674579815131,
          -0.43586910750577423,
          0.6301701523533102,
          0.2487690009306954,
          -0.5768590175830137,
          -0.23048178855369697,
          1.5829241162079017,
          -0.7064465895575457,
          -0.07800414606637208,
          0.9267040564138606,
          -0.9945444848093137,
          1.5232090046065017,
          0.5724140410636237,
          -0.5824132253983889,
          1.4758903927481846,
          0.7894141470303264,
          -0.34231970058963407,
          -0.7810319671697296,
          0.2072844838228586,
          -0.5588365519503141,
          -0.38971140833812906,
          0.21785672555286356,
          1.0289889419787783,
          -1.3145327761543142,
          0.18482300394128667,
          0.325360903405271,
          0.8234367426244258,
          0.7549608081461314,
          -0.24592878896044312,
          -0.8898589213424684,
          1.1296498601309384,
          -0.7646354208473364,
          -1.7613727579525837,
          -0.007885085352440032,
          -0.6550676125914235,
          -1.5382251668563758,
          2.9664757064106833,
          0.05136220368240336,
          0.9053762889413747,
          -0.9014199037894448,
          0.14416787795095554,
          0.5772481753295273,
          1.00066627733789,
          -1.484677774151373,
          -1.0470748306972992,
          -1.0394473595670013,
          1.0139539314489332,
          -0.2266635690751747,
          -2.906894044978705,
          0.3866286493770684,
          -0.22145896800858503,
          0.2723182682770941,
          -0.23515963148068272,
          -0.8867866717522348,
          -0.017926170650252895,
          0.1202193588446371,
          0.5167784095259662,
          -1.1692508750791701,
          0.12401321928940981,
          -0.7738107387476351,
          -0.9566254708018384,
          -0.26444548631561315,
          -1.6766931874405588,
          -1.5626958822528276,
          -1.0537752027800056,
          0.01008372961374793,
          0.07867473793517019,
          -1.6967402907609725,
          -1.896581525083377,
          -0.9524305910705916,
          0.9152100476428011,
          0.5403263954180979,
          -1.1951744668940307,
          -0.7586988875890001,
          -2.764229500397465,
          -1.058834908427951,
          -1.211320125788323,
          -1.4017384442446392,
          0.31423912897978823,
          0.40750676142202613,
          -0.12272730770175873,
          -0.16912280770312685,
          -0.17788138935751074
         ]
        }
       ],
       "layout": {
        "legend": {
         "bgcolor": "#F5F6F9",
         "font": {
          "color": "#4D5663"
         }
        },
        "paper_bgcolor": "#F5F6F9",
        "plot_bgcolor": "#F5F6F9",
        "template": {
         "data": {
          "bar": [
           {
            "error_x": {
             "color": "#2a3f5f"
            },
            "error_y": {
             "color": "#2a3f5f"
            },
            "marker": {
             "line": {
              "color": "#E5ECF6",
              "width": 0.5
             },
             "pattern": {
              "fillmode": "overlay",
              "size": 10,
              "solidity": 0.2
             }
            },
            "type": "bar"
           }
          ],
          "barpolar": [
           {
            "marker": {
             "line": {
              "color": "#E5ECF6",
              "width": 0.5
             },
             "pattern": {
              "fillmode": "overlay",
              "size": 10,
              "solidity": 0.2
             }
            },
            "type": "barpolar"
           }
          ],
          "carpet": [
           {
            "aaxis": {
             "endlinecolor": "#2a3f5f",
             "gridcolor": "white",
             "linecolor": "white",
             "minorgridcolor": "white",
             "startlinecolor": "#2a3f5f"
            },
            "baxis": {
             "endlinecolor": "#2a3f5f",
             "gridcolor": "white",
             "linecolor": "white",
             "minorgridcolor": "white",
             "startlinecolor": "#2a3f5f"
            },
            "type": "carpet"
           }
          ],
          "choropleth": [
           {
            "colorbar": {
             "outlinewidth": 0,
             "ticks": ""
            },
            "type": "choropleth"
           }
          ],
          "contour": [
           {
            "colorbar": {
             "outlinewidth": 0,
             "ticks": ""
            },
            "colorscale": [
             [
              0,
              "#0d0887"
             ],
             [
              0.1111111111111111,
              "#46039f"
             ],
             [
              0.2222222222222222,
              "#7201a8"
             ],
             [
              0.3333333333333333,
              "#9c179e"
             ],
             [
              0.4444444444444444,
              "#bd3786"
             ],
             [
              0.5555555555555556,
              "#d8576b"
             ],
             [
              0.6666666666666666,
              "#ed7953"
             ],
             [
              0.7777777777777778,
              "#fb9f3a"
             ],
             [
              0.8888888888888888,
              "#fdca26"
             ],
             [
              1,
              "#f0f921"
             ]
            ],
            "type": "contour"
           }
          ],
          "contourcarpet": [
           {
            "colorbar": {
             "outlinewidth": 0,
             "ticks": ""
            },
            "type": "contourcarpet"
           }
          ],
          "heatmap": [
           {
            "colorbar": {
             "outlinewidth": 0,
             "ticks": ""
            },
            "colorscale": [
             [
              0,
              "#0d0887"
             ],
             [
              0.1111111111111111,
              "#46039f"
             ],
             [
              0.2222222222222222,
              "#7201a8"
             ],
             [
              0.3333333333333333,
              "#9c179e"
             ],
             [
              0.4444444444444444,
              "#bd3786"
             ],
             [
              0.5555555555555556,
              "#d8576b"
             ],
             [
              0.6666666666666666,
              "#ed7953"
             ],
             [
              0.7777777777777778,
              "#fb9f3a"
             ],
             [
              0.8888888888888888,
              "#fdca26"
             ],
             [
              1,
              "#f0f921"
             ]
            ],
            "type": "heatmap"
           }
          ],
          "heatmapgl": [
           {
            "colorbar": {
             "outlinewidth": 0,
             "ticks": ""
            },
            "colorscale": [
             [
              0,
              "#0d0887"
             ],
             [
              0.1111111111111111,
              "#46039f"
             ],
             [
              0.2222222222222222,
              "#7201a8"
             ],
             [
              0.3333333333333333,
              "#9c179e"
             ],
             [
              0.4444444444444444,
              "#bd3786"
             ],
             [
              0.5555555555555556,
              "#d8576b"
             ],
             [
              0.6666666666666666,
              "#ed7953"
             ],
             [
              0.7777777777777778,
              "#fb9f3a"
             ],
             [
              0.8888888888888888,
              "#fdca26"
             ],
             [
              1,
              "#f0f921"
             ]
            ],
            "type": "heatmapgl"
           }
          ],
          "histogram": [
           {
            "marker": {
             "pattern": {
              "fillmode": "overlay",
              "size": 10,
              "solidity": 0.2
             }
            },
            "type": "histogram"
           }
          ],
          "histogram2d": [
           {
            "colorbar": {
             "outlinewidth": 0,
             "ticks": ""
            },
            "colorscale": [
             [
              0,
              "#0d0887"
             ],
             [
              0.1111111111111111,
              "#46039f"
             ],
             [
              0.2222222222222222,
              "#7201a8"
             ],
             [
              0.3333333333333333,
              "#9c179e"
             ],
             [
              0.4444444444444444,
              "#bd3786"
             ],
             [
              0.5555555555555556,
              "#d8576b"
             ],
             [
              0.6666666666666666,
              "#ed7953"
             ],
             [
              0.7777777777777778,
              "#fb9f3a"
             ],
             [
              0.8888888888888888,
              "#fdca26"
             ],
             [
              1,
              "#f0f921"
             ]
            ],
            "type": "histogram2d"
           }
          ],
          "histogram2dcontour": [
           {
            "colorbar": {
             "outlinewidth": 0,
             "ticks": ""
            },
            "colorscale": [
             [
              0,
              "#0d0887"
             ],
             [
              0.1111111111111111,
              "#46039f"
             ],
             [
              0.2222222222222222,
              "#7201a8"
             ],
             [
              0.3333333333333333,
              "#9c179e"
             ],
             [
              0.4444444444444444,
              "#bd3786"
             ],
             [
              0.5555555555555556,
              "#d8576b"
             ],
             [
              0.6666666666666666,
              "#ed7953"
             ],
             [
              0.7777777777777778,
              "#fb9f3a"
             ],
             [
              0.8888888888888888,
              "#fdca26"
             ],
             [
              1,
              "#f0f921"
             ]
            ],
            "type": "histogram2dcontour"
           }
          ],
          "mesh3d": [
           {
            "colorbar": {
             "outlinewidth": 0,
             "ticks": ""
            },
            "type": "mesh3d"
           }
          ],
          "parcoords": [
           {
            "line": {
             "colorbar": {
              "outlinewidth": 0,
              "ticks": ""
             }
            },
            "type": "parcoords"
           }
          ],
          "pie": [
           {
            "automargin": true,
            "type": "pie"
           }
          ],
          "scatter": [
           {
            "fillpattern": {
             "fillmode": "overlay",
             "size": 10,
             "solidity": 0.2
            },
            "type": "scatter"
           }
          ],
          "scatter3d": [
           {
            "line": {
             "colorbar": {
              "outlinewidth": 0,
              "ticks": ""
             }
            },
            "marker": {
             "colorbar": {
              "outlinewidth": 0,
              "ticks": ""
             }
            },
            "type": "scatter3d"
           }
          ],
          "scattercarpet": [
           {
            "marker": {
             "colorbar": {
              "outlinewidth": 0,
              "ticks": ""
             }
            },
            "type": "scattercarpet"
           }
          ],
          "scattergeo": [
           {
            "marker": {
             "colorbar": {
              "outlinewidth": 0,
              "ticks": ""
             }
            },
            "type": "scattergeo"
           }
          ],
          "scattergl": [
           {
            "marker": {
             "colorbar": {
              "outlinewidth": 0,
              "ticks": ""
             }
            },
            "type": "scattergl"
           }
          ],
          "scattermapbox": [
           {
            "marker": {
             "colorbar": {
              "outlinewidth": 0,
              "ticks": ""
             }
            },
            "type": "scattermapbox"
           }
          ],
          "scatterpolar": [
           {
            "marker": {
             "colorbar": {
              "outlinewidth": 0,
              "ticks": ""
             }
            },
            "type": "scatterpolar"
           }
          ],
          "scatterpolargl": [
           {
            "marker": {
             "colorbar": {
              "outlinewidth": 0,
              "ticks": ""
             }
            },
            "type": "scatterpolargl"
           }
          ],
          "scatterternary": [
           {
            "marker": {
             "colorbar": {
              "outlinewidth": 0,
              "ticks": ""
             }
            },
            "type": "scatterternary"
           }
          ],
          "surface": [
           {
            "colorbar": {
             "outlinewidth": 0,
             "ticks": ""
            },
            "colorscale": [
             [
              0,
              "#0d0887"
             ],
             [
              0.1111111111111111,
              "#46039f"
             ],
             [
              0.2222222222222222,
              "#7201a8"
             ],
             [
              0.3333333333333333,
              "#9c179e"
             ],
             [
              0.4444444444444444,
              "#bd3786"
             ],
             [
              0.5555555555555556,
              "#d8576b"
             ],
             [
              0.6666666666666666,
              "#ed7953"
             ],
             [
              0.7777777777777778,
              "#fb9f3a"
             ],
             [
              0.8888888888888888,
              "#fdca26"
             ],
             [
              1,
              "#f0f921"
             ]
            ],
            "type": "surface"
           }
          ],
          "table": [
           {
            "cells": {
             "fill": {
              "color": "#EBF0F8"
             },
             "line": {
              "color": "white"
             }
            },
            "header": {
             "fill": {
              "color": "#C8D4E3"
             },
             "line": {
              "color": "white"
             }
            },
            "type": "table"
           }
          ]
         },
         "layout": {
          "annotationdefaults": {
           "arrowcolor": "#2a3f5f",
           "arrowhead": 0,
           "arrowwidth": 1
          },
          "autotypenumbers": "strict",
          "coloraxis": {
           "colorbar": {
            "outlinewidth": 0,
            "ticks": ""
           }
          },
          "colorscale": {
           "diverging": [
            [
             0,
             "#8e0152"
            ],
            [
             0.1,
             "#c51b7d"
            ],
            [
             0.2,
             "#de77ae"
            ],
            [
             0.3,
             "#f1b6da"
            ],
            [
             0.4,
             "#fde0ef"
            ],
            [
             0.5,
             "#f7f7f7"
            ],
            [
             0.6,
             "#e6f5d0"
            ],
            [
             0.7,
             "#b8e186"
            ],
            [
             0.8,
             "#7fbc41"
            ],
            [
             0.9,
             "#4d9221"
            ],
            [
             1,
             "#276419"
            ]
           ],
           "sequential": [
            [
             0,
             "#0d0887"
            ],
            [
             0.1111111111111111,
             "#46039f"
            ],
            [
             0.2222222222222222,
             "#7201a8"
            ],
            [
             0.3333333333333333,
             "#9c179e"
            ],
            [
             0.4444444444444444,
             "#bd3786"
            ],
            [
             0.5555555555555556,
             "#d8576b"
            ],
            [
             0.6666666666666666,
             "#ed7953"
            ],
            [
             0.7777777777777778,
             "#fb9f3a"
            ],
            [
             0.8888888888888888,
             "#fdca26"
            ],
            [
             1,
             "#f0f921"
            ]
           ],
           "sequentialminus": [
            [
             0,
             "#0d0887"
            ],
            [
             0.1111111111111111,
             "#46039f"
            ],
            [
             0.2222222222222222,
             "#7201a8"
            ],
            [
             0.3333333333333333,
             "#9c179e"
            ],
            [
             0.4444444444444444,
             "#bd3786"
            ],
            [
             0.5555555555555556,
             "#d8576b"
            ],
            [
             0.6666666666666666,
             "#ed7953"
            ],
            [
             0.7777777777777778,
             "#fb9f3a"
            ],
            [
             0.8888888888888888,
             "#fdca26"
            ],
            [
             1,
             "#f0f921"
            ]
           ]
          },
          "colorway": [
           "#636efa",
           "#EF553B",
           "#00cc96",
           "#ab63fa",
           "#FFA15A",
           "#19d3f3",
           "#FF6692",
           "#B6E880",
           "#FF97FF",
           "#FECB52"
          ],
          "font": {
           "color": "#2a3f5f"
          },
          "geo": {
           "bgcolor": "white",
           "lakecolor": "white",
           "landcolor": "#E5ECF6",
           "showlakes": true,
           "showland": true,
           "subunitcolor": "white"
          },
          "hoverlabel": {
           "align": "left"
          },
          "hovermode": "closest",
          "mapbox": {
           "style": "light"
          },
          "paper_bgcolor": "white",
          "plot_bgcolor": "#E5ECF6",
          "polar": {
           "angularaxis": {
            "gridcolor": "white",
            "linecolor": "white",
            "ticks": ""
           },
           "bgcolor": "#E5ECF6",
           "radialaxis": {
            "gridcolor": "white",
            "linecolor": "white",
            "ticks": ""
           }
          },
          "scene": {
           "xaxis": {
            "backgroundcolor": "#E5ECF6",
            "gridcolor": "white",
            "gridwidth": 2,
            "linecolor": "white",
            "showbackground": true,
            "ticks": "",
            "zerolinecolor": "white"
           },
           "yaxis": {
            "backgroundcolor": "#E5ECF6",
            "gridcolor": "white",
            "gridwidth": 2,
            "linecolor": "white",
            "showbackground": true,
            "ticks": "",
            "zerolinecolor": "white"
           },
           "zaxis": {
            "backgroundcolor": "#E5ECF6",
            "gridcolor": "white",
            "gridwidth": 2,
            "linecolor": "white",
            "showbackground": true,
            "ticks": "",
            "zerolinecolor": "white"
           }
          },
          "shapedefaults": {
           "line": {
            "color": "#2a3f5f"
           }
          },
          "ternary": {
           "aaxis": {
            "gridcolor": "white",
            "linecolor": "white",
            "ticks": ""
           },
           "baxis": {
            "gridcolor": "white",
            "linecolor": "white",
            "ticks": ""
           },
           "bgcolor": "#E5ECF6",
           "caxis": {
            "gridcolor": "white",
            "linecolor": "white",
            "ticks": ""
           }
          },
          "title": {
           "x": 0.05
          },
          "xaxis": {
           "automargin": true,
           "gridcolor": "white",
           "linecolor": "white",
           "ticks": "",
           "title": {
            "standoff": 15
           },
           "zerolinecolor": "white",
           "zerolinewidth": 2
          },
          "yaxis": {
           "automargin": true,
           "gridcolor": "white",
           "linecolor": "white",
           "ticks": "",
           "title": {
            "standoff": 15
           },
           "zerolinecolor": "white",
           "zerolinewidth": 2
          }
         }
        },
        "title": {
         "font": {
          "color": "#4D5663"
         }
        },
        "xaxis": {
         "gridcolor": "#E1E5ED",
         "showgrid": true,
         "tickfont": {
          "color": "#4D5663"
         },
         "title": {
          "font": {
           "color": "#4D5663"
          },
          "text": ""
         },
         "zerolinecolor": "#E1E5ED"
        },
        "yaxis": {
         "gridcolor": "#E1E5ED",
         "showgrid": true,
         "tickfont": {
          "color": "#4D5663"
         },
         "title": {
          "font": {
           "color": "#4D5663"
          },
          "text": ""
         },
         "zerolinecolor": "#E1E5ED"
        }
       }
      },
      "text/html": [
       "<div>                            <div id=\"56bc6646-ae23-4557-9711-a2112d77dc5c\" class=\"plotly-graph-div\" style=\"height:525px; width:100%;\"></div>            <script type=\"text/javascript\">                require([\"plotly\"], function(Plotly) {                    window.PLOTLYENV=window.PLOTLYENV || {};\n",
       "                    window.PLOTLYENV.BASE_URL='https://plot.ly';                                    if (document.getElementById(\"56bc6646-ae23-4557-9711-a2112d77dc5c\")) {                    Plotly.newPlot(                        \"56bc6646-ae23-4557-9711-a2112d77dc5c\",                        [{\"marker\":{\"color\":[\"rgb(255, 153, 51)\",\"rgb(55, 128, 191)\",\"rgb(50, 171, 96)\",\"rgb(128, 0, 128)\",\"rgb(219, 64, 82)\",\"rgb(0, 128, 128)\",\"rgb(255, 255, 51)\",\"rgb(128, 128, 0)\",\"rgb(251, 128, 114)\",\"rgb(128, 177, 211)\"],\"line\":{\"width\":1.3},\"size\":[106,61,71,48,79,86,56,56,56,107,86,56,82,101,30,46,89,64,75,47,36,95,27,63,44,100,55,75,77,77,106,96,67,97,55,80,40,12,19,67,88,61,79,88,61,73,74,86,44,55,23,112,60,77,83,73,101,64,94,61,79,61,62,53,97,83,85,73,30,75,100,96,105,51,19,78,86,70,58,55,55,51,91,78,66,74,75,54,88,77,57,48,36,33,76,48,48,91,75,71],\"symbol\":\"circle\"},\"mode\":\"markers\",\"text\":\"\",\"x\":[-1.4747380955937974,0.28725077112417235,-1.6568846794720122,1.381720942647079,0.3657833365094521,0.026008073073972172,-0.5109681143770874,-0.30968695071839253,0.08056276720583924,1.2206461655280683,-1.0044961445651543,-0.7086123871501985,-0.3032080480213653,-0.4681810010400497,0.4883380048432973,-1.0568975335865904,-0.6478951720409023,-1.1006335991216396,-1.1084672870151069,1.0115169993247746,0.8628879534962799,0.49107556584687034,-0.21460151922209592,-0.21167224031379164,-1.0868280793928702,0.1813077457259262,1.6048411477507714,-1.1129128593443407,0.13510904054871198,0.7363175261488993,0.30133889718720347,1.0968390103774157,-0.9215941053119098,1.1452096988910712,-0.0969211977387717,0.7832229582485118,1.0531791723051949,-0.6663370851946934,-0.7282508718905567,-1.688787692138687,0.2592955164616916,-0.35251940357111267,0.5255678646250175,0.1591013061134092,1.6392683058616393,-0.7594873429459711,0.3571677103292569,-1.9129516673080214,0.2812674212385775,2.9443484953104657,-1.2668238549208235,0.41322784242257693,1.206697949804835,1.0295637127428512,0.42415314431239537,-1.234242731046262,-0.005177234655683374,0.40215839443750323,0.5734568360798693,-0.981071428153688,-1.044181132406017,-0.5455429283558031,0.8723741296130654,-1.7382678852503126,-2.394203349842937,1.1200094352775187,-0.6221419105120386,0.28050386485521667,-0.21614849790735982,-0.5457390506690335,-2.3191277297140607,1.3524213867671204,0.12594824702172094,-0.02781084118179256,-1.0121863416508705,-0.1346075258918912,-0.2161185225683815,-1.4044793440674315,0.5103800616622387,-0.26035603985135364,0.7128604943441633,-0.09028399432601468,0.5214049330304661,-0.050307547047459246,-0.139890323143218,-1.2155801358748424,0.9627948608905095,0.8801238599064668,0.020185320431986706,1.6625023152013685,0.3816936279691013,0.34509760366963216,0.37972886845205844,0.4258913685657802,-0.22863620193291423,-1.4886214993845972,0.5486315743498743,-0.37552303459747266,-1.7087243821390654,-0.047214690067770786],\"y\":[0.21816361565301612,-0.18311601650778261,-0.8722852429063794,0.7996321791414022,1.4830013794585655,-1.8513851087254878,1.613906454791288,-1.5827358120075996,-0.2852339752587739,-1.1655837011030066,-1.3316526305662248,-0.058152616565652196,0.06088486005099269,-1.8538715257905751,-0.10795630868630458,-0.5169453758367406,0.05896114763704862,1.937674579815131,-0.43586910750577423,0.6301701523533102,0.2487690009306954,-0.5768590175830137,-0.23048178855369697,1.5829241162079017,-0.7064465895575457,-0.07800414606637208,0.9267040564138606,-0.9945444848093137,1.5232090046065017,0.5724140410636237,-0.5824132253983889,1.4758903927481846,0.7894141470303264,-0.34231970058963407,-0.7810319671697296,0.2072844838228586,-0.5588365519503141,-0.38971140833812906,0.21785672555286356,1.0289889419787783,-1.3145327761543142,0.18482300394128667,0.325360903405271,0.8234367426244258,0.7549608081461314,-0.24592878896044312,-0.8898589213424684,1.1296498601309384,-0.7646354208473364,-1.7613727579525837,-0.007885085352440032,-0.6550676125914235,-1.5382251668563758,2.9664757064106833,0.05136220368240336,0.9053762889413747,-0.9014199037894448,0.14416787795095554,0.5772481753295273,1.00066627733789,-1.484677774151373,-1.0470748306972992,-1.0394473595670013,1.0139539314489332,-0.2266635690751747,-2.906894044978705,0.3866286493770684,-0.22145896800858503,0.2723182682770941,-0.23515963148068272,-0.8867866717522348,-0.017926170650252895,0.1202193588446371,0.5167784095259662,-1.1692508750791701,0.12401321928940981,-0.7738107387476351,-0.9566254708018384,-0.26444548631561315,-1.6766931874405588,-1.5626958822528276,-1.0537752027800056,0.01008372961374793,0.07867473793517019,-1.6967402907609725,-1.896581525083377,-0.9524305910705916,0.9152100476428011,0.5403263954180979,-1.1951744668940307,-0.7586988875890001,-2.764229500397465,-1.058834908427951,-1.211320125788323,-1.4017384442446392,0.31423912897978823,0.40750676142202613,-0.12272730770175873,-0.16912280770312685,-0.17788138935751074],\"type\":\"scatter\"}],                        {\"legend\":{\"bgcolor\":\"#F5F6F9\",\"font\":{\"color\":\"#4D5663\"}},\"paper_bgcolor\":\"#F5F6F9\",\"plot_bgcolor\":\"#F5F6F9\",\"template\":{\"data\":{\"barpolar\":[{\"marker\":{\"line\":{\"color\":\"#E5ECF6\",\"width\":0.5},\"pattern\":{\"fillmode\":\"overlay\",\"size\":10,\"solidity\":0.2}},\"type\":\"barpolar\"}],\"bar\":[{\"error_x\":{\"color\":\"#2a3f5f\"},\"error_y\":{\"color\":\"#2a3f5f\"},\"marker\":{\"line\":{\"color\":\"#E5ECF6\",\"width\":0.5},\"pattern\":{\"fillmode\":\"overlay\",\"size\":10,\"solidity\":0.2}},\"type\":\"bar\"}],\"carpet\":[{\"aaxis\":{\"endlinecolor\":\"#2a3f5f\",\"gridcolor\":\"white\",\"linecolor\":\"white\",\"minorgridcolor\":\"white\",\"startlinecolor\":\"#2a3f5f\"},\"baxis\":{\"endlinecolor\":\"#2a3f5f\",\"gridcolor\":\"white\",\"linecolor\":\"white\",\"minorgridcolor\":\"white\",\"startlinecolor\":\"#2a3f5f\"},\"type\":\"carpet\"}],\"choropleth\":[{\"colorbar\":{\"outlinewidth\":0,\"ticks\":\"\"},\"type\":\"choropleth\"}],\"contourcarpet\":[{\"colorbar\":{\"outlinewidth\":0,\"ticks\":\"\"},\"type\":\"contourcarpet\"}],\"contour\":[{\"colorbar\":{\"outlinewidth\":0,\"ticks\":\"\"},\"colorscale\":[[0.0,\"#0d0887\"],[0.1111111111111111,\"#46039f\"],[0.2222222222222222,\"#7201a8\"],[0.3333333333333333,\"#9c179e\"],[0.4444444444444444,\"#bd3786\"],[0.5555555555555556,\"#d8576b\"],[0.6666666666666666,\"#ed7953\"],[0.7777777777777778,\"#fb9f3a\"],[0.8888888888888888,\"#fdca26\"],[1.0,\"#f0f921\"]],\"type\":\"contour\"}],\"heatmapgl\":[{\"colorbar\":{\"outlinewidth\":0,\"ticks\":\"\"},\"colorscale\":[[0.0,\"#0d0887\"],[0.1111111111111111,\"#46039f\"],[0.2222222222222222,\"#7201a8\"],[0.3333333333333333,\"#9c179e\"],[0.4444444444444444,\"#bd3786\"],[0.5555555555555556,\"#d8576b\"],[0.6666666666666666,\"#ed7953\"],[0.7777777777777778,\"#fb9f3a\"],[0.8888888888888888,\"#fdca26\"],[1.0,\"#f0f921\"]],\"type\":\"heatmapgl\"}],\"heatmap\":[{\"colorbar\":{\"outlinewidth\":0,\"ticks\":\"\"},\"colorscale\":[[0.0,\"#0d0887\"],[0.1111111111111111,\"#46039f\"],[0.2222222222222222,\"#7201a8\"],[0.3333333333333333,\"#9c179e\"],[0.4444444444444444,\"#bd3786\"],[0.5555555555555556,\"#d8576b\"],[0.6666666666666666,\"#ed7953\"],[0.7777777777777778,\"#fb9f3a\"],[0.8888888888888888,\"#fdca26\"],[1.0,\"#f0f921\"]],\"type\":\"heatmap\"}],\"histogram2dcontour\":[{\"colorbar\":{\"outlinewidth\":0,\"ticks\":\"\"},\"colorscale\":[[0.0,\"#0d0887\"],[0.1111111111111111,\"#46039f\"],[0.2222222222222222,\"#7201a8\"],[0.3333333333333333,\"#9c179e\"],[0.4444444444444444,\"#bd3786\"],[0.5555555555555556,\"#d8576b\"],[0.6666666666666666,\"#ed7953\"],[0.7777777777777778,\"#fb9f3a\"],[0.8888888888888888,\"#fdca26\"],[1.0,\"#f0f921\"]],\"type\":\"histogram2dcontour\"}],\"histogram2d\":[{\"colorbar\":{\"outlinewidth\":0,\"ticks\":\"\"},\"colorscale\":[[0.0,\"#0d0887\"],[0.1111111111111111,\"#46039f\"],[0.2222222222222222,\"#7201a8\"],[0.3333333333333333,\"#9c179e\"],[0.4444444444444444,\"#bd3786\"],[0.5555555555555556,\"#d8576b\"],[0.6666666666666666,\"#ed7953\"],[0.7777777777777778,\"#fb9f3a\"],[0.8888888888888888,\"#fdca26\"],[1.0,\"#f0f921\"]],\"type\":\"histogram2d\"}],\"histogram\":[{\"marker\":{\"pattern\":{\"fillmode\":\"overlay\",\"size\":10,\"solidity\":0.2}},\"type\":\"histogram\"}],\"mesh3d\":[{\"colorbar\":{\"outlinewidth\":0,\"ticks\":\"\"},\"type\":\"mesh3d\"}],\"parcoords\":[{\"line\":{\"colorbar\":{\"outlinewidth\":0,\"ticks\":\"\"}},\"type\":\"parcoords\"}],\"pie\":[{\"automargin\":true,\"type\":\"pie\"}],\"scatter3d\":[{\"line\":{\"colorbar\":{\"outlinewidth\":0,\"ticks\":\"\"}},\"marker\":{\"colorbar\":{\"outlinewidth\":0,\"ticks\":\"\"}},\"type\":\"scatter3d\"}],\"scattercarpet\":[{\"marker\":{\"colorbar\":{\"outlinewidth\":0,\"ticks\":\"\"}},\"type\":\"scattercarpet\"}],\"scattergeo\":[{\"marker\":{\"colorbar\":{\"outlinewidth\":0,\"ticks\":\"\"}},\"type\":\"scattergeo\"}],\"scattergl\":[{\"marker\":{\"colorbar\":{\"outlinewidth\":0,\"ticks\":\"\"}},\"type\":\"scattergl\"}],\"scattermapbox\":[{\"marker\":{\"colorbar\":{\"outlinewidth\":0,\"ticks\":\"\"}},\"type\":\"scattermapbox\"}],\"scatterpolargl\":[{\"marker\":{\"colorbar\":{\"outlinewidth\":0,\"ticks\":\"\"}},\"type\":\"scatterpolargl\"}],\"scatterpolar\":[{\"marker\":{\"colorbar\":{\"outlinewidth\":0,\"ticks\":\"\"}},\"type\":\"scatterpolar\"}],\"scatter\":[{\"fillpattern\":{\"fillmode\":\"overlay\",\"size\":10,\"solidity\":0.2},\"type\":\"scatter\"}],\"scatterternary\":[{\"marker\":{\"colorbar\":{\"outlinewidth\":0,\"ticks\":\"\"}},\"type\":\"scatterternary\"}],\"surface\":[{\"colorbar\":{\"outlinewidth\":0,\"ticks\":\"\"},\"colorscale\":[[0.0,\"#0d0887\"],[0.1111111111111111,\"#46039f\"],[0.2222222222222222,\"#7201a8\"],[0.3333333333333333,\"#9c179e\"],[0.4444444444444444,\"#bd3786\"],[0.5555555555555556,\"#d8576b\"],[0.6666666666666666,\"#ed7953\"],[0.7777777777777778,\"#fb9f3a\"],[0.8888888888888888,\"#fdca26\"],[1.0,\"#f0f921\"]],\"type\":\"surface\"}],\"table\":[{\"cells\":{\"fill\":{\"color\":\"#EBF0F8\"},\"line\":{\"color\":\"white\"}},\"header\":{\"fill\":{\"color\":\"#C8D4E3\"},\"line\":{\"color\":\"white\"}},\"type\":\"table\"}]},\"layout\":{\"annotationdefaults\":{\"arrowcolor\":\"#2a3f5f\",\"arrowhead\":0,\"arrowwidth\":1},\"autotypenumbers\":\"strict\",\"coloraxis\":{\"colorbar\":{\"outlinewidth\":0,\"ticks\":\"\"}},\"colorscale\":{\"diverging\":[[0,\"#8e0152\"],[0.1,\"#c51b7d\"],[0.2,\"#de77ae\"],[0.3,\"#f1b6da\"],[0.4,\"#fde0ef\"],[0.5,\"#f7f7f7\"],[0.6,\"#e6f5d0\"],[0.7,\"#b8e186\"],[0.8,\"#7fbc41\"],[0.9,\"#4d9221\"],[1,\"#276419\"]],\"sequential\":[[0.0,\"#0d0887\"],[0.1111111111111111,\"#46039f\"],[0.2222222222222222,\"#7201a8\"],[0.3333333333333333,\"#9c179e\"],[0.4444444444444444,\"#bd3786\"],[0.5555555555555556,\"#d8576b\"],[0.6666666666666666,\"#ed7953\"],[0.7777777777777778,\"#fb9f3a\"],[0.8888888888888888,\"#fdca26\"],[1.0,\"#f0f921\"]],\"sequentialminus\":[[0.0,\"#0d0887\"],[0.1111111111111111,\"#46039f\"],[0.2222222222222222,\"#7201a8\"],[0.3333333333333333,\"#9c179e\"],[0.4444444444444444,\"#bd3786\"],[0.5555555555555556,\"#d8576b\"],[0.6666666666666666,\"#ed7953\"],[0.7777777777777778,\"#fb9f3a\"],[0.8888888888888888,\"#fdca26\"],[1.0,\"#f0f921\"]]},\"colorway\":[\"#636efa\",\"#EF553B\",\"#00cc96\",\"#ab63fa\",\"#FFA15A\",\"#19d3f3\",\"#FF6692\",\"#B6E880\",\"#FF97FF\",\"#FECB52\"],\"font\":{\"color\":\"#2a3f5f\"},\"geo\":{\"bgcolor\":\"white\",\"lakecolor\":\"white\",\"landcolor\":\"#E5ECF6\",\"showlakes\":true,\"showland\":true,\"subunitcolor\":\"white\"},\"hoverlabel\":{\"align\":\"left\"},\"hovermode\":\"closest\",\"mapbox\":{\"style\":\"light\"},\"paper_bgcolor\":\"white\",\"plot_bgcolor\":\"#E5ECF6\",\"polar\":{\"angularaxis\":{\"gridcolor\":\"white\",\"linecolor\":\"white\",\"ticks\":\"\"},\"bgcolor\":\"#E5ECF6\",\"radialaxis\":{\"gridcolor\":\"white\",\"linecolor\":\"white\",\"ticks\":\"\"}},\"scene\":{\"xaxis\":{\"backgroundcolor\":\"#E5ECF6\",\"gridcolor\":\"white\",\"gridwidth\":2,\"linecolor\":\"white\",\"showbackground\":true,\"ticks\":\"\",\"zerolinecolor\":\"white\"},\"yaxis\":{\"backgroundcolor\":\"#E5ECF6\",\"gridcolor\":\"white\",\"gridwidth\":2,\"linecolor\":\"white\",\"showbackground\":true,\"ticks\":\"\",\"zerolinecolor\":\"white\"},\"zaxis\":{\"backgroundcolor\":\"#E5ECF6\",\"gridcolor\":\"white\",\"gridwidth\":2,\"linecolor\":\"white\",\"showbackground\":true,\"ticks\":\"\",\"zerolinecolor\":\"white\"}},\"shapedefaults\":{\"line\":{\"color\":\"#2a3f5f\"}},\"ternary\":{\"aaxis\":{\"gridcolor\":\"white\",\"linecolor\":\"white\",\"ticks\":\"\"},\"baxis\":{\"gridcolor\":\"white\",\"linecolor\":\"white\",\"ticks\":\"\"},\"bgcolor\":\"#E5ECF6\",\"caxis\":{\"gridcolor\":\"white\",\"linecolor\":\"white\",\"ticks\":\"\"}},\"title\":{\"x\":0.05},\"xaxis\":{\"automargin\":true,\"gridcolor\":\"white\",\"linecolor\":\"white\",\"ticks\":\"\",\"title\":{\"standoff\":15},\"zerolinecolor\":\"white\",\"zerolinewidth\":2},\"yaxis\":{\"automargin\":true,\"gridcolor\":\"white\",\"linecolor\":\"white\",\"ticks\":\"\",\"title\":{\"standoff\":15},\"zerolinecolor\":\"white\",\"zerolinewidth\":2}}},\"title\":{\"font\":{\"color\":\"#4D5663\"}},\"xaxis\":{\"gridcolor\":\"#E1E5ED\",\"showgrid\":true,\"tickfont\":{\"color\":\"#4D5663\"},\"title\":{\"font\":{\"color\":\"#4D5663\"},\"text\":\"\"},\"zerolinecolor\":\"#E1E5ED\"},\"yaxis\":{\"gridcolor\":\"#E1E5ED\",\"showgrid\":true,\"tickfont\":{\"color\":\"#4D5663\"},\"title\":{\"font\":{\"color\":\"#4D5663\"},\"text\":\"\"},\"zerolinecolor\":\"#E1E5ED\"}},                        {\"showLink\": true, \"linkText\": \"Export to plot.ly\", \"plotlyServerURL\": \"https://plot.ly\", \"responsive\": true}                    ).then(function(){\n",
       "                            \n",
       "var gd = document.getElementById('56bc6646-ae23-4557-9711-a2112d77dc5c');\n",
       "var x = new MutationObserver(function (mutations, observer) {{\n",
       "        var display = window.getComputedStyle(gd).display;\n",
       "        if (!display || display === 'none') {{\n",
       "            console.log([gd, 'removed!']);\n",
       "            Plotly.purge(gd);\n",
       "            observer.disconnect();\n",
       "        }}\n",
       "}});\n",
       "\n",
       "// Listen for the removal of the full notebook cells\n",
       "var notebookContainer = gd.closest('#notebook-container');\n",
       "if (notebookContainer) {{\n",
       "    x.observe(notebookContainer, {childList: true});\n",
       "}}\n",
       "\n",
       "// Listen for the clearing of the current output cell\n",
       "var outputEl = gd.closest('.output');\n",
       "if (outputEl) {{\n",
       "    x.observe(outputEl, {childList: true});\n",
       "}}\n",
       "\n",
       "                        })                };                });            </script>        </div>"
      ]
     },
     "metadata": {},
     "output_type": "display_data"
    }
   ],
   "source": [
    "df1.iplot(kind='bubble', x='A', y='B', size='C')"
   ]
  },
  {
   "cell_type": "markdown",
   "metadata": {},
   "source": [
    "### 8. scatter_matrix()\n",
    "* Similar to sns.pairplot()"
   ]
  },
  {
   "cell_type": "code",
   "execution_count": 73,
   "metadata": {
    "collapsed": false
   },
   "outputs": [
    {
     "data": {
      "application/vnd.plotly.v1+json": {
       "config": {
        "linkText": "Export to plot.ly",
        "plotlyServerURL": "https://plot.ly",
        "showLink": true
       },
       "data": [
        {
         "histfunc": "count",
         "histnorm": "",
         "marker": {
          "color": "rgba(255, 153, 51, 1.0)",
          "line": {
           "color": "#4D5663",
           "width": 1.3
          }
         },
         "name": "A",
         "nbinsx": 10,
         "opacity": 0.8,
         "orientation": "v",
         "type": "histogram",
         "x": [
          -1.4747380955937974,
          0.28725077112417235,
          -1.6568846794720122,
          1.381720942647079,
          0.3657833365094521,
          0.026008073073972172,
          -0.5109681143770874,
          -0.30968695071839253,
          0.08056276720583924,
          1.2206461655280683,
          -1.0044961445651543,
          -0.7086123871501985,
          -0.3032080480213653,
          -0.4681810010400497,
          0.4883380048432973,
          -1.0568975335865904,
          -0.6478951720409023,
          -1.1006335991216396,
          -1.1084672870151069,
          1.0115169993247746,
          0.8628879534962799,
          0.49107556584687034,
          -0.21460151922209592,
          -0.21167224031379164,
          -1.0868280793928702,
          0.1813077457259262,
          1.6048411477507714,
          -1.1129128593443407,
          0.13510904054871198,
          0.7363175261488993,
          0.30133889718720347,
          1.0968390103774157,
          -0.9215941053119098,
          1.1452096988910712,
          -0.0969211977387717,
          0.7832229582485118,
          1.0531791723051949,
          -0.6663370851946934,
          -0.7282508718905567,
          -1.688787692138687,
          0.2592955164616916,
          -0.35251940357111267,
          0.5255678646250175,
          0.1591013061134092,
          1.6392683058616393,
          -0.7594873429459711,
          0.3571677103292569,
          -1.9129516673080214,
          0.2812674212385775,
          2.9443484953104657,
          -1.2668238549208235,
          0.41322784242257693,
          1.206697949804835,
          1.0295637127428512,
          0.42415314431239537,
          -1.234242731046262,
          -0.005177234655683374,
          0.40215839443750323,
          0.5734568360798693,
          -0.981071428153688,
          -1.044181132406017,
          -0.5455429283558031,
          0.8723741296130654,
          -1.7382678852503126,
          -2.394203349842937,
          1.1200094352775187,
          -0.6221419105120386,
          0.28050386485521667,
          -0.21614849790735982,
          -0.5457390506690335,
          -2.3191277297140607,
          1.3524213867671204,
          0.12594824702172094,
          -0.02781084118179256,
          -1.0121863416508705,
          -0.1346075258918912,
          -0.2161185225683815,
          -1.4044793440674315,
          0.5103800616622387,
          -0.26035603985135364,
          0.7128604943441633,
          -0.09028399432601468,
          0.5214049330304661,
          -0.050307547047459246,
          -0.139890323143218,
          -1.2155801358748424,
          0.9627948608905095,
          0.8801238599064668,
          0.020185320431986706,
          1.6625023152013685,
          0.3816936279691013,
          0.34509760366963216,
          0.37972886845205844,
          0.4258913685657802,
          -0.22863620193291423,
          -1.4886214993845972,
          0.5486315743498743,
          -0.37552303459747266,
          -1.7087243821390654,
          -0.047214690067770786
         ],
         "xaxis": "x",
         "yaxis": "y"
        },
        {
         "line": {
          "color": "rgba(128, 128, 128, 1.0)",
          "dash": "solid",
          "shape": "linear",
          "width": 1.3
         },
         "marker": {
          "size": 2,
          "symbol": "circle"
         },
         "mode": "markers",
         "name": "A",
         "text": "",
         "type": "scatter",
         "x": [
          0.21816361565301612,
          -0.18311601650778261,
          -0.8722852429063794,
          0.7996321791414022,
          1.4830013794585655,
          -1.8513851087254878,
          1.613906454791288,
          -1.5827358120075996,
          -0.2852339752587739,
          -1.1655837011030066,
          -1.3316526305662248,
          -0.058152616565652196,
          0.06088486005099269,
          -1.8538715257905751,
          -0.10795630868630458,
          -0.5169453758367406,
          0.05896114763704862,
          1.937674579815131,
          -0.43586910750577423,
          0.6301701523533102,
          0.2487690009306954,
          -0.5768590175830137,
          -0.23048178855369697,
          1.5829241162079017,
          -0.7064465895575457,
          -0.07800414606637208,
          0.9267040564138606,
          -0.9945444848093137,
          1.5232090046065017,
          0.5724140410636237,
          -0.5824132253983889,
          1.4758903927481846,
          0.7894141470303264,
          -0.34231970058963407,
          -0.7810319671697296,
          0.2072844838228586,
          -0.5588365519503141,
          -0.38971140833812906,
          0.21785672555286356,
          1.0289889419787783,
          -1.3145327761543142,
          0.18482300394128667,
          0.325360903405271,
          0.8234367426244258,
          0.7549608081461314,
          -0.24592878896044312,
          -0.8898589213424684,
          1.1296498601309384,
          -0.7646354208473364,
          -1.7613727579525837,
          -0.007885085352440032,
          -0.6550676125914235,
          -1.5382251668563758,
          2.9664757064106833,
          0.05136220368240336,
          0.9053762889413747,
          -0.9014199037894448,
          0.14416787795095554,
          0.5772481753295273,
          1.00066627733789,
          -1.484677774151373,
          -1.0470748306972992,
          -1.0394473595670013,
          1.0139539314489332,
          -0.2266635690751747,
          -2.906894044978705,
          0.3866286493770684,
          -0.22145896800858503,
          0.2723182682770941,
          -0.23515963148068272,
          -0.8867866717522348,
          -0.017926170650252895,
          0.1202193588446371,
          0.5167784095259662,
          -1.1692508750791701,
          0.12401321928940981,
          -0.7738107387476351,
          -0.9566254708018384,
          -0.26444548631561315,
          -1.6766931874405588,
          -1.5626958822528276,
          -1.0537752027800056,
          0.01008372961374793,
          0.07867473793517019,
          -1.6967402907609725,
          -1.896581525083377,
          -0.9524305910705916,
          0.9152100476428011,
          0.5403263954180979,
          -1.1951744668940307,
          -0.7586988875890001,
          -2.764229500397465,
          -1.058834908427951,
          -1.211320125788323,
          -1.4017384442446392,
          0.31423912897978823,
          0.40750676142202613,
          -0.12272730770175873,
          -0.16912280770312685,
          -0.17788138935751074
         ],
         "xaxis": "x2",
         "y": [
          -1.4747380955937974,
          0.28725077112417235,
          -1.6568846794720122,
          1.381720942647079,
          0.3657833365094521,
          0.026008073073972172,
          -0.5109681143770874,
          -0.30968695071839253,
          0.08056276720583924,
          1.2206461655280683,
          -1.0044961445651543,
          -0.7086123871501985,
          -0.3032080480213653,
          -0.4681810010400497,
          0.4883380048432973,
          -1.0568975335865904,
          -0.6478951720409023,
          -1.1006335991216396,
          -1.1084672870151069,
          1.0115169993247746,
          0.8628879534962799,
          0.49107556584687034,
          -0.21460151922209592,
          -0.21167224031379164,
          -1.0868280793928702,
          0.1813077457259262,
          1.6048411477507714,
          -1.1129128593443407,
          0.13510904054871198,
          0.7363175261488993,
          0.30133889718720347,
          1.0968390103774157,
          -0.9215941053119098,
          1.1452096988910712,
          -0.0969211977387717,
          0.7832229582485118,
          1.0531791723051949,
          -0.6663370851946934,
          -0.7282508718905567,
          -1.688787692138687,
          0.2592955164616916,
          -0.35251940357111267,
          0.5255678646250175,
          0.1591013061134092,
          1.6392683058616393,
          -0.7594873429459711,
          0.3571677103292569,
          -1.9129516673080214,
          0.2812674212385775,
          2.9443484953104657,
          -1.2668238549208235,
          0.41322784242257693,
          1.206697949804835,
          1.0295637127428512,
          0.42415314431239537,
          -1.234242731046262,
          -0.005177234655683374,
          0.40215839443750323,
          0.5734568360798693,
          -0.981071428153688,
          -1.044181132406017,
          -0.5455429283558031,
          0.8723741296130654,
          -1.7382678852503126,
          -2.394203349842937,
          1.1200094352775187,
          -0.6221419105120386,
          0.28050386485521667,
          -0.21614849790735982,
          -0.5457390506690335,
          -2.3191277297140607,
          1.3524213867671204,
          0.12594824702172094,
          -0.02781084118179256,
          -1.0121863416508705,
          -0.1346075258918912,
          -0.2161185225683815,
          -1.4044793440674315,
          0.5103800616622387,
          -0.26035603985135364,
          0.7128604943441633,
          -0.09028399432601468,
          0.5214049330304661,
          -0.050307547047459246,
          -0.139890323143218,
          -1.2155801358748424,
          0.9627948608905095,
          0.8801238599064668,
          0.020185320431986706,
          1.6625023152013685,
          0.3816936279691013,
          0.34509760366963216,
          0.37972886845205844,
          0.4258913685657802,
          -0.22863620193291423,
          -1.4886214993845972,
          0.5486315743498743,
          -0.37552303459747266,
          -1.7087243821390654,
          -0.047214690067770786
         ],
         "yaxis": "y2"
        },
        {
         "line": {
          "color": "rgba(128, 128, 128, 1.0)",
          "dash": "solid",
          "shape": "linear",
          "width": 1.3
         },
         "marker": {
          "size": 2,
          "symbol": "circle"
         },
         "mode": "markers",
         "name": "A",
         "text": "",
         "type": "scatter",
         "x": [
          1.7377773904002787,
          -0.22395400729530127,
          0.1820734116872276,
          -0.7942279663986247,
          0.5582198101989171,
          0.8557186514611376,
          -0.4566546028122543,
          -0.4486886613225603,
          -0.462033243406978,
          1.7693450636612906,
          0.8493771531423921,
          -0.46690670588043465,
          0.6681701784956612,
          1.487470466970359,
          -1.592710230729672,
          -0.8893560759048776,
          0.9974415506640023,
          -0.11815807269381176,
          0.39085583078090946,
          -0.8678648114268143,
          -1.3232130718608561,
          1.2296438297962131,
          -1.7049252038650233,
          -0.1278833761359411,
          -0.9852621101243801,
          1.4511004245694241,
          -0.5107422042065087,
          0.35540352015450555,
          0.4608476569044969,
          0.4486668143051865,
          1.7038458179890796,
          1.2874981058355235,
          0.008172266049143288,
          1.3403757810053207,
          -0.48959248911528613,
          0.5761572892581875,
          -1.158663472942153,
          -2.3934735618828453,
          -2.0473455770351485,
          0.04363192875061731,
          0.9613481148956818,
          -0.23020568673440028,
          0.5268156949610865,
          0.9249023465550501,
          -0.23049076961016352,
          0.27160019016029285,
          0.34585203246608587,
          0.8663998050975331,
          -0.9774447107233512,
          -0.49791242970244515,
          -1.879355292075668,
          1.9648131850176263,
          -0.27336146294076935,
          0.4402545510186216,
          0.7274920462854855,
          0.26784305740453795,
          1.5272195480486723,
          -0.11650576271574038,
          1.203757674131996,
          -0.2400098004413862,
          0.5559898896596926,
          -0.25173079089603434,
          -0.17630458831284046,
          -0.584550466794726,
          1.3225811578308335,
          0.7294619170549295,
          0.7943615257625641,
          0.27209621340875817,
          -1.5785477719864265,
          0.3727682581763358,
          1.4550313417369363,
          1.3084602131497813,
          1.6908326835822265,
          -0.6751489947318258,
          -2.064870035828138,
          0.4935165233388467,
          0.8466278348395803,
          0.14975934344387587,
          -0.38709899368579576,
          -0.4914009940136751,
          -0.5018286362538411,
          -0.6533088785680246,
          1.054829047519902,
          0.49530987239203966,
          -0.021789443961921257,
          0.34301971407163234,
          0.384615463775324,
          -0.5202573280889718,
          0.955766575232318,
          0.47481063499827153,
          -0.4096097700355144,
          -0.7890433274251037,
          -1.3225480834101921,
          -1.4704335995087472,
          0.402125007984368,
          -0.7854528677118743,
          -0.8182638218352324,
          1.0890802638091794,
          0.39325131265035485,
          0.19159205137621324
         ],
         "xaxis": "x3",
         "y": [
          -1.4747380955937974,
          0.28725077112417235,
          -1.6568846794720122,
          1.381720942647079,
          0.3657833365094521,
          0.026008073073972172,
          -0.5109681143770874,
          -0.30968695071839253,
          0.08056276720583924,
          1.2206461655280683,
          -1.0044961445651543,
          -0.7086123871501985,
          -0.3032080480213653,
          -0.4681810010400497,
          0.4883380048432973,
          -1.0568975335865904,
          -0.6478951720409023,
          -1.1006335991216396,
          -1.1084672870151069,
          1.0115169993247746,
          0.8628879534962799,
          0.49107556584687034,
          -0.21460151922209592,
          -0.21167224031379164,
          -1.0868280793928702,
          0.1813077457259262,
          1.6048411477507714,
          -1.1129128593443407,
          0.13510904054871198,
          0.7363175261488993,
          0.30133889718720347,
          1.0968390103774157,
          -0.9215941053119098,
          1.1452096988910712,
          -0.0969211977387717,
          0.7832229582485118,
          1.0531791723051949,
          -0.6663370851946934,
          -0.7282508718905567,
          -1.688787692138687,
          0.2592955164616916,
          -0.35251940357111267,
          0.5255678646250175,
          0.1591013061134092,
          1.6392683058616393,
          -0.7594873429459711,
          0.3571677103292569,
          -1.9129516673080214,
          0.2812674212385775,
          2.9443484953104657,
          -1.2668238549208235,
          0.41322784242257693,
          1.206697949804835,
          1.0295637127428512,
          0.42415314431239537,
          -1.234242731046262,
          -0.005177234655683374,
          0.40215839443750323,
          0.5734568360798693,
          -0.981071428153688,
          -1.044181132406017,
          -0.5455429283558031,
          0.8723741296130654,
          -1.7382678852503126,
          -2.394203349842937,
          1.1200094352775187,
          -0.6221419105120386,
          0.28050386485521667,
          -0.21614849790735982,
          -0.5457390506690335,
          -2.3191277297140607,
          1.3524213867671204,
          0.12594824702172094,
          -0.02781084118179256,
          -1.0121863416508705,
          -0.1346075258918912,
          -0.2161185225683815,
          -1.4044793440674315,
          0.5103800616622387,
          -0.26035603985135364,
          0.7128604943441633,
          -0.09028399432601468,
          0.5214049330304661,
          -0.050307547047459246,
          -0.139890323143218,
          -1.2155801358748424,
          0.9627948608905095,
          0.8801238599064668,
          0.020185320431986706,
          1.6625023152013685,
          0.3816936279691013,
          0.34509760366963216,
          0.37972886845205844,
          0.4258913685657802,
          -0.22863620193291423,
          -1.4886214993845972,
          0.5486315743498743,
          -0.37552303459747266,
          -1.7087243821390654,
          -0.047214690067770786
         ],
         "yaxis": "y3"
        },
        {
         "line": {
          "color": "rgba(128, 128, 128, 1.0)",
          "dash": "solid",
          "shape": "linear",
          "width": 1.3
         },
         "marker": {
          "size": 2,
          "symbol": "circle"
         },
         "mode": "markers",
         "name": "A",
         "text": "",
         "type": "scatter",
         "x": [
          -0.9898978880621447,
          -0.15653251538155546,
          1.1350151984266963,
          0.4330113225398728,
          -0.22662361863857208,
          1.2147557315772484,
          -1.0954533355276945,
          0.056981130154462885,
          1.085174429985138,
          0.14699559311323226,
          -0.49897601646505985,
          1.1989909816632942,
          0.6333982183822553,
          -0.9858404019714517,
          0.9646473937157795,
          -0.29878447694620397,
          0.038219071625085144,
          -1.7977606542818454,
          2.4301625828708593,
          -1.4225971964401587,
          -2.0545116148098432,
          -0.5543603071865605,
          -0.6588505749295496,
          1.2513627887378793,
          -0.8137948207943052,
          1.0422064628802337,
          -0.45192461570495496,
          -0.6497801405399549,
          -1.056516347348047,
          0.20440307609406713,
          1.0548270254772918,
          -0.570416040564116,
          0.6746325877971175,
          -0.4756361340610073,
          -0.7551924202762499,
          0.78069243348289,
          0.16415385377231234,
          -0.28675334369218347,
          0.30529160399932065,
          -0.2862858687531363,
          0.823671579756582,
          0.009792660113371647,
          0.3733208164001366,
          1.1993466973961242,
          -0.6027492101400286,
          -0.27046930406674846,
          -0.27937197120297924,
          -0.04930455118166517,
          0.0722552739941226,
          -1.4694929069425693,
          -0.6746960168843232,
          -0.6104468398467007,
          0.31013922462091476,
          -0.13520219674899842,
          1.2810838143310053,
          0.6346761225549629,
          0.6660497298057801,
          0.56872629264876,
          -0.71933362951576,
          0.016502895779975293,
          -1.2366498860403936,
          0.8115178064397559,
          0.8837234466172698,
          0.8352577811979678,
          1.3232430932241368,
          0.47543627781600223,
          0.08657443799251735,
          -1.039525159095973,
          0.48091097057485427,
          0.127197970073491,
          -1.745338456585933,
          -1.0008593606324803,
          -1.2375741669575637,
          -0.2676094462039642,
          0.029590830119454816,
          0.09694160474868284,
          -0.3623762651099337,
          -1.687778267088628,
          0.36560118017894544,
          -1.0608584180118896,
          0.24275606912664235,
          1.2723543462803888,
          0.8959132253067817,
          0.38105128916243275,
          -0.13942542910659975,
          0.004690457201917903,
          -1.5323061194361465,
          1.2902201186984674,
          -0.1675177290969658,
          -1.099215093653179,
          0.38281596578233895,
          -0.398418999693859,
          0.32140117646225186,
          0.36649377203199307,
          0.08223321776600259,
          -2.552523055574907,
          -0.7806267829411238,
          -0.27503823292083457,
          -1.5121006401915777,
          -0.421854097454241
         ],
         "xaxis": "x4",
         "y": [
          -1.4747380955937974,
          0.28725077112417235,
          -1.6568846794720122,
          1.381720942647079,
          0.3657833365094521,
          0.026008073073972172,
          -0.5109681143770874,
          -0.30968695071839253,
          0.08056276720583924,
          1.2206461655280683,
          -1.0044961445651543,
          -0.7086123871501985,
          -0.3032080480213653,
          -0.4681810010400497,
          0.4883380048432973,
          -1.0568975335865904,
          -0.6478951720409023,
          -1.1006335991216396,
          -1.1084672870151069,
          1.0115169993247746,
          0.8628879534962799,
          0.49107556584687034,
          -0.21460151922209592,
          -0.21167224031379164,
          -1.0868280793928702,
          0.1813077457259262,
          1.6048411477507714,
          -1.1129128593443407,
          0.13510904054871198,
          0.7363175261488993,
          0.30133889718720347,
          1.0968390103774157,
          -0.9215941053119098,
          1.1452096988910712,
          -0.0969211977387717,
          0.7832229582485118,
          1.0531791723051949,
          -0.6663370851946934,
          -0.7282508718905567,
          -1.688787692138687,
          0.2592955164616916,
          -0.35251940357111267,
          0.5255678646250175,
          0.1591013061134092,
          1.6392683058616393,
          -0.7594873429459711,
          0.3571677103292569,
          -1.9129516673080214,
          0.2812674212385775,
          2.9443484953104657,
          -1.2668238549208235,
          0.41322784242257693,
          1.206697949804835,
          1.0295637127428512,
          0.42415314431239537,
          -1.234242731046262,
          -0.005177234655683374,
          0.40215839443750323,
          0.5734568360798693,
          -0.981071428153688,
          -1.044181132406017,
          -0.5455429283558031,
          0.8723741296130654,
          -1.7382678852503126,
          -2.394203349842937,
          1.1200094352775187,
          -0.6221419105120386,
          0.28050386485521667,
          -0.21614849790735982,
          -0.5457390506690335,
          -2.3191277297140607,
          1.3524213867671204,
          0.12594824702172094,
          -0.02781084118179256,
          -1.0121863416508705,
          -0.1346075258918912,
          -0.2161185225683815,
          -1.4044793440674315,
          0.5103800616622387,
          -0.26035603985135364,
          0.7128604943441633,
          -0.09028399432601468,
          0.5214049330304661,
          -0.050307547047459246,
          -0.139890323143218,
          -1.2155801358748424,
          0.9627948608905095,
          0.8801238599064668,
          0.020185320431986706,
          1.6625023152013685,
          0.3816936279691013,
          0.34509760366963216,
          0.37972886845205844,
          0.4258913685657802,
          -0.22863620193291423,
          -1.4886214993845972,
          0.5486315743498743,
          -0.37552303459747266,
          -1.7087243821390654,
          -0.047214690067770786
         ],
         "yaxis": "y4"
        },
        {
         "line": {
          "color": "rgba(128, 128, 128, 1.0)",
          "dash": "solid",
          "shape": "linear",
          "width": 1.3
         },
         "marker": {
          "size": 2,
          "symbol": "circle"
         },
         "mode": "markers",
         "name": "B",
         "text": "",
         "type": "scatter",
         "x": [
          -1.4747380955937974,
          0.28725077112417235,
          -1.6568846794720122,
          1.381720942647079,
          0.3657833365094521,
          0.026008073073972172,
          -0.5109681143770874,
          -0.30968695071839253,
          0.08056276720583924,
          1.2206461655280683,
          -1.0044961445651543,
          -0.7086123871501985,
          -0.3032080480213653,
          -0.4681810010400497,
          0.4883380048432973,
          -1.0568975335865904,
          -0.6478951720409023,
          -1.1006335991216396,
          -1.1084672870151069,
          1.0115169993247746,
          0.8628879534962799,
          0.49107556584687034,
          -0.21460151922209592,
          -0.21167224031379164,
          -1.0868280793928702,
          0.1813077457259262,
          1.6048411477507714,
          -1.1129128593443407,
          0.13510904054871198,
          0.7363175261488993,
          0.30133889718720347,
          1.0968390103774157,
          -0.9215941053119098,
          1.1452096988910712,
          -0.0969211977387717,
          0.7832229582485118,
          1.0531791723051949,
          -0.6663370851946934,
          -0.7282508718905567,
          -1.688787692138687,
          0.2592955164616916,
          -0.35251940357111267,
          0.5255678646250175,
          0.1591013061134092,
          1.6392683058616393,
          -0.7594873429459711,
          0.3571677103292569,
          -1.9129516673080214,
          0.2812674212385775,
          2.9443484953104657,
          -1.2668238549208235,
          0.41322784242257693,
          1.206697949804835,
          1.0295637127428512,
          0.42415314431239537,
          -1.234242731046262,
          -0.005177234655683374,
          0.40215839443750323,
          0.5734568360798693,
          -0.981071428153688,
          -1.044181132406017,
          -0.5455429283558031,
          0.8723741296130654,
          -1.7382678852503126,
          -2.394203349842937,
          1.1200094352775187,
          -0.6221419105120386,
          0.28050386485521667,
          -0.21614849790735982,
          -0.5457390506690335,
          -2.3191277297140607,
          1.3524213867671204,
          0.12594824702172094,
          -0.02781084118179256,
          -1.0121863416508705,
          -0.1346075258918912,
          -0.2161185225683815,
          -1.4044793440674315,
          0.5103800616622387,
          -0.26035603985135364,
          0.7128604943441633,
          -0.09028399432601468,
          0.5214049330304661,
          -0.050307547047459246,
          -0.139890323143218,
          -1.2155801358748424,
          0.9627948608905095,
          0.8801238599064668,
          0.020185320431986706,
          1.6625023152013685,
          0.3816936279691013,
          0.34509760366963216,
          0.37972886845205844,
          0.4258913685657802,
          -0.22863620193291423,
          -1.4886214993845972,
          0.5486315743498743,
          -0.37552303459747266,
          -1.7087243821390654,
          -0.047214690067770786
         ],
         "xaxis": "x5",
         "y": [
          0.21816361565301612,
          -0.18311601650778261,
          -0.8722852429063794,
          0.7996321791414022,
          1.4830013794585655,
          -1.8513851087254878,
          1.613906454791288,
          -1.5827358120075996,
          -0.2852339752587739,
          -1.1655837011030066,
          -1.3316526305662248,
          -0.058152616565652196,
          0.06088486005099269,
          -1.8538715257905751,
          -0.10795630868630458,
          -0.5169453758367406,
          0.05896114763704862,
          1.937674579815131,
          -0.43586910750577423,
          0.6301701523533102,
          0.2487690009306954,
          -0.5768590175830137,
          -0.23048178855369697,
          1.5829241162079017,
          -0.7064465895575457,
          -0.07800414606637208,
          0.9267040564138606,
          -0.9945444848093137,
          1.5232090046065017,
          0.5724140410636237,
          -0.5824132253983889,
          1.4758903927481846,
          0.7894141470303264,
          -0.34231970058963407,
          -0.7810319671697296,
          0.2072844838228586,
          -0.5588365519503141,
          -0.38971140833812906,
          0.21785672555286356,
          1.0289889419787783,
          -1.3145327761543142,
          0.18482300394128667,
          0.325360903405271,
          0.8234367426244258,
          0.7549608081461314,
          -0.24592878896044312,
          -0.8898589213424684,
          1.1296498601309384,
          -0.7646354208473364,
          -1.7613727579525837,
          -0.007885085352440032,
          -0.6550676125914235,
          -1.5382251668563758,
          2.9664757064106833,
          0.05136220368240336,
          0.9053762889413747,
          -0.9014199037894448,
          0.14416787795095554,
          0.5772481753295273,
          1.00066627733789,
          -1.484677774151373,
          -1.0470748306972992,
          -1.0394473595670013,
          1.0139539314489332,
          -0.2266635690751747,
          -2.906894044978705,
          0.3866286493770684,
          -0.22145896800858503,
          0.2723182682770941,
          -0.23515963148068272,
          -0.8867866717522348,
          -0.017926170650252895,
          0.1202193588446371,
          0.5167784095259662,
          -1.1692508750791701,
          0.12401321928940981,
          -0.7738107387476351,
          -0.9566254708018384,
          -0.26444548631561315,
          -1.6766931874405588,
          -1.5626958822528276,
          -1.0537752027800056,
          0.01008372961374793,
          0.07867473793517019,
          -1.6967402907609725,
          -1.896581525083377,
          -0.9524305910705916,
          0.9152100476428011,
          0.5403263954180979,
          -1.1951744668940307,
          -0.7586988875890001,
          -2.764229500397465,
          -1.058834908427951,
          -1.211320125788323,
          -1.4017384442446392,
          0.31423912897978823,
          0.40750676142202613,
          -0.12272730770175873,
          -0.16912280770312685,
          -0.17788138935751074
         ],
         "yaxis": "y5"
        },
        {
         "histfunc": "count",
         "histnorm": "",
         "marker": {
          "color": "rgba(55, 128, 191, 1.0)",
          "line": {
           "color": "#4D5663",
           "width": 1.3
          }
         },
         "name": "B",
         "nbinsx": 10,
         "opacity": 0.8,
         "orientation": "v",
         "type": "histogram",
         "x": [
          0.21816361565301612,
          -0.18311601650778261,
          -0.8722852429063794,
          0.7996321791414022,
          1.4830013794585655,
          -1.8513851087254878,
          1.613906454791288,
          -1.5827358120075996,
          -0.2852339752587739,
          -1.1655837011030066,
          -1.3316526305662248,
          -0.058152616565652196,
          0.06088486005099269,
          -1.8538715257905751,
          -0.10795630868630458,
          -0.5169453758367406,
          0.05896114763704862,
          1.937674579815131,
          -0.43586910750577423,
          0.6301701523533102,
          0.2487690009306954,
          -0.5768590175830137,
          -0.23048178855369697,
          1.5829241162079017,
          -0.7064465895575457,
          -0.07800414606637208,
          0.9267040564138606,
          -0.9945444848093137,
          1.5232090046065017,
          0.5724140410636237,
          -0.5824132253983889,
          1.4758903927481846,
          0.7894141470303264,
          -0.34231970058963407,
          -0.7810319671697296,
          0.2072844838228586,
          -0.5588365519503141,
          -0.38971140833812906,
          0.21785672555286356,
          1.0289889419787783,
          -1.3145327761543142,
          0.18482300394128667,
          0.325360903405271,
          0.8234367426244258,
          0.7549608081461314,
          -0.24592878896044312,
          -0.8898589213424684,
          1.1296498601309384,
          -0.7646354208473364,
          -1.7613727579525837,
          -0.007885085352440032,
          -0.6550676125914235,
          -1.5382251668563758,
          2.9664757064106833,
          0.05136220368240336,
          0.9053762889413747,
          -0.9014199037894448,
          0.14416787795095554,
          0.5772481753295273,
          1.00066627733789,
          -1.484677774151373,
          -1.0470748306972992,
          -1.0394473595670013,
          1.0139539314489332,
          -0.2266635690751747,
          -2.906894044978705,
          0.3866286493770684,
          -0.22145896800858503,
          0.2723182682770941,
          -0.23515963148068272,
          -0.8867866717522348,
          -0.017926170650252895,
          0.1202193588446371,
          0.5167784095259662,
          -1.1692508750791701,
          0.12401321928940981,
          -0.7738107387476351,
          -0.9566254708018384,
          -0.26444548631561315,
          -1.6766931874405588,
          -1.5626958822528276,
          -1.0537752027800056,
          0.01008372961374793,
          0.07867473793517019,
          -1.6967402907609725,
          -1.896581525083377,
          -0.9524305910705916,
          0.9152100476428011,
          0.5403263954180979,
          -1.1951744668940307,
          -0.7586988875890001,
          -2.764229500397465,
          -1.058834908427951,
          -1.211320125788323,
          -1.4017384442446392,
          0.31423912897978823,
          0.40750676142202613,
          -0.12272730770175873,
          -0.16912280770312685,
          -0.17788138935751074
         ],
         "xaxis": "x6",
         "yaxis": "y6"
        },
        {
         "line": {
          "color": "rgba(128, 128, 128, 1.0)",
          "dash": "solid",
          "shape": "linear",
          "width": 1.3
         },
         "marker": {
          "size": 2,
          "symbol": "circle"
         },
         "mode": "markers",
         "name": "B",
         "text": "",
         "type": "scatter",
         "x": [
          1.7377773904002787,
          -0.22395400729530127,
          0.1820734116872276,
          -0.7942279663986247,
          0.5582198101989171,
          0.8557186514611376,
          -0.4566546028122543,
          -0.4486886613225603,
          -0.462033243406978,
          1.7693450636612906,
          0.8493771531423921,
          -0.46690670588043465,
          0.6681701784956612,
          1.487470466970359,
          -1.592710230729672,
          -0.8893560759048776,
          0.9974415506640023,
          -0.11815807269381176,
          0.39085583078090946,
          -0.8678648114268143,
          -1.3232130718608561,
          1.2296438297962131,
          -1.7049252038650233,
          -0.1278833761359411,
          -0.9852621101243801,
          1.4511004245694241,
          -0.5107422042065087,
          0.35540352015450555,
          0.4608476569044969,
          0.4486668143051865,
          1.7038458179890796,
          1.2874981058355235,
          0.008172266049143288,
          1.3403757810053207,
          -0.48959248911528613,
          0.5761572892581875,
          -1.158663472942153,
          -2.3934735618828453,
          -2.0473455770351485,
          0.04363192875061731,
          0.9613481148956818,
          -0.23020568673440028,
          0.5268156949610865,
          0.9249023465550501,
          -0.23049076961016352,
          0.27160019016029285,
          0.34585203246608587,
          0.8663998050975331,
          -0.9774447107233512,
          -0.49791242970244515,
          -1.879355292075668,
          1.9648131850176263,
          -0.27336146294076935,
          0.4402545510186216,
          0.7274920462854855,
          0.26784305740453795,
          1.5272195480486723,
          -0.11650576271574038,
          1.203757674131996,
          -0.2400098004413862,
          0.5559898896596926,
          -0.25173079089603434,
          -0.17630458831284046,
          -0.584550466794726,
          1.3225811578308335,
          0.7294619170549295,
          0.7943615257625641,
          0.27209621340875817,
          -1.5785477719864265,
          0.3727682581763358,
          1.4550313417369363,
          1.3084602131497813,
          1.6908326835822265,
          -0.6751489947318258,
          -2.064870035828138,
          0.4935165233388467,
          0.8466278348395803,
          0.14975934344387587,
          -0.38709899368579576,
          -0.4914009940136751,
          -0.5018286362538411,
          -0.6533088785680246,
          1.054829047519902,
          0.49530987239203966,
          -0.021789443961921257,
          0.34301971407163234,
          0.384615463775324,
          -0.5202573280889718,
          0.955766575232318,
          0.47481063499827153,
          -0.4096097700355144,
          -0.7890433274251037,
          -1.3225480834101921,
          -1.4704335995087472,
          0.402125007984368,
          -0.7854528677118743,
          -0.8182638218352324,
          1.0890802638091794,
          0.39325131265035485,
          0.19159205137621324
         ],
         "xaxis": "x7",
         "y": [
          0.21816361565301612,
          -0.18311601650778261,
          -0.8722852429063794,
          0.7996321791414022,
          1.4830013794585655,
          -1.8513851087254878,
          1.613906454791288,
          -1.5827358120075996,
          -0.2852339752587739,
          -1.1655837011030066,
          -1.3316526305662248,
          -0.058152616565652196,
          0.06088486005099269,
          -1.8538715257905751,
          -0.10795630868630458,
          -0.5169453758367406,
          0.05896114763704862,
          1.937674579815131,
          -0.43586910750577423,
          0.6301701523533102,
          0.2487690009306954,
          -0.5768590175830137,
          -0.23048178855369697,
          1.5829241162079017,
          -0.7064465895575457,
          -0.07800414606637208,
          0.9267040564138606,
          -0.9945444848093137,
          1.5232090046065017,
          0.5724140410636237,
          -0.5824132253983889,
          1.4758903927481846,
          0.7894141470303264,
          -0.34231970058963407,
          -0.7810319671697296,
          0.2072844838228586,
          -0.5588365519503141,
          -0.38971140833812906,
          0.21785672555286356,
          1.0289889419787783,
          -1.3145327761543142,
          0.18482300394128667,
          0.325360903405271,
          0.8234367426244258,
          0.7549608081461314,
          -0.24592878896044312,
          -0.8898589213424684,
          1.1296498601309384,
          -0.7646354208473364,
          -1.7613727579525837,
          -0.007885085352440032,
          -0.6550676125914235,
          -1.5382251668563758,
          2.9664757064106833,
          0.05136220368240336,
          0.9053762889413747,
          -0.9014199037894448,
          0.14416787795095554,
          0.5772481753295273,
          1.00066627733789,
          -1.484677774151373,
          -1.0470748306972992,
          -1.0394473595670013,
          1.0139539314489332,
          -0.2266635690751747,
          -2.906894044978705,
          0.3866286493770684,
          -0.22145896800858503,
          0.2723182682770941,
          -0.23515963148068272,
          -0.8867866717522348,
          -0.017926170650252895,
          0.1202193588446371,
          0.5167784095259662,
          -1.1692508750791701,
          0.12401321928940981,
          -0.7738107387476351,
          -0.9566254708018384,
          -0.26444548631561315,
          -1.6766931874405588,
          -1.5626958822528276,
          -1.0537752027800056,
          0.01008372961374793,
          0.07867473793517019,
          -1.6967402907609725,
          -1.896581525083377,
          -0.9524305910705916,
          0.9152100476428011,
          0.5403263954180979,
          -1.1951744668940307,
          -0.7586988875890001,
          -2.764229500397465,
          -1.058834908427951,
          -1.211320125788323,
          -1.4017384442446392,
          0.31423912897978823,
          0.40750676142202613,
          -0.12272730770175873,
          -0.16912280770312685,
          -0.17788138935751074
         ],
         "yaxis": "y7"
        },
        {
         "line": {
          "color": "rgba(128, 128, 128, 1.0)",
          "dash": "solid",
          "shape": "linear",
          "width": 1.3
         },
         "marker": {
          "size": 2,
          "symbol": "circle"
         },
         "mode": "markers",
         "name": "B",
         "text": "",
         "type": "scatter",
         "x": [
          -0.9898978880621447,
          -0.15653251538155546,
          1.1350151984266963,
          0.4330113225398728,
          -0.22662361863857208,
          1.2147557315772484,
          -1.0954533355276945,
          0.056981130154462885,
          1.085174429985138,
          0.14699559311323226,
          -0.49897601646505985,
          1.1989909816632942,
          0.6333982183822553,
          -0.9858404019714517,
          0.9646473937157795,
          -0.29878447694620397,
          0.038219071625085144,
          -1.7977606542818454,
          2.4301625828708593,
          -1.4225971964401587,
          -2.0545116148098432,
          -0.5543603071865605,
          -0.6588505749295496,
          1.2513627887378793,
          -0.8137948207943052,
          1.0422064628802337,
          -0.45192461570495496,
          -0.6497801405399549,
          -1.056516347348047,
          0.20440307609406713,
          1.0548270254772918,
          -0.570416040564116,
          0.6746325877971175,
          -0.4756361340610073,
          -0.7551924202762499,
          0.78069243348289,
          0.16415385377231234,
          -0.28675334369218347,
          0.30529160399932065,
          -0.2862858687531363,
          0.823671579756582,
          0.009792660113371647,
          0.3733208164001366,
          1.1993466973961242,
          -0.6027492101400286,
          -0.27046930406674846,
          -0.27937197120297924,
          -0.04930455118166517,
          0.0722552739941226,
          -1.4694929069425693,
          -0.6746960168843232,
          -0.6104468398467007,
          0.31013922462091476,
          -0.13520219674899842,
          1.2810838143310053,
          0.6346761225549629,
          0.6660497298057801,
          0.56872629264876,
          -0.71933362951576,
          0.016502895779975293,
          -1.2366498860403936,
          0.8115178064397559,
          0.8837234466172698,
          0.8352577811979678,
          1.3232430932241368,
          0.47543627781600223,
          0.08657443799251735,
          -1.039525159095973,
          0.48091097057485427,
          0.127197970073491,
          -1.745338456585933,
          -1.0008593606324803,
          -1.2375741669575637,
          -0.2676094462039642,
          0.029590830119454816,
          0.09694160474868284,
          -0.3623762651099337,
          -1.687778267088628,
          0.36560118017894544,
          -1.0608584180118896,
          0.24275606912664235,
          1.2723543462803888,
          0.8959132253067817,
          0.38105128916243275,
          -0.13942542910659975,
          0.004690457201917903,
          -1.5323061194361465,
          1.2902201186984674,
          -0.1675177290969658,
          -1.099215093653179,
          0.38281596578233895,
          -0.398418999693859,
          0.32140117646225186,
          0.36649377203199307,
          0.08223321776600259,
          -2.552523055574907,
          -0.7806267829411238,
          -0.27503823292083457,
          -1.5121006401915777,
          -0.421854097454241
         ],
         "xaxis": "x8",
         "y": [
          0.21816361565301612,
          -0.18311601650778261,
          -0.8722852429063794,
          0.7996321791414022,
          1.4830013794585655,
          -1.8513851087254878,
          1.613906454791288,
          -1.5827358120075996,
          -0.2852339752587739,
          -1.1655837011030066,
          -1.3316526305662248,
          -0.058152616565652196,
          0.06088486005099269,
          -1.8538715257905751,
          -0.10795630868630458,
          -0.5169453758367406,
          0.05896114763704862,
          1.937674579815131,
          -0.43586910750577423,
          0.6301701523533102,
          0.2487690009306954,
          -0.5768590175830137,
          -0.23048178855369697,
          1.5829241162079017,
          -0.7064465895575457,
          -0.07800414606637208,
          0.9267040564138606,
          -0.9945444848093137,
          1.5232090046065017,
          0.5724140410636237,
          -0.5824132253983889,
          1.4758903927481846,
          0.7894141470303264,
          -0.34231970058963407,
          -0.7810319671697296,
          0.2072844838228586,
          -0.5588365519503141,
          -0.38971140833812906,
          0.21785672555286356,
          1.0289889419787783,
          -1.3145327761543142,
          0.18482300394128667,
          0.325360903405271,
          0.8234367426244258,
          0.7549608081461314,
          -0.24592878896044312,
          -0.8898589213424684,
          1.1296498601309384,
          -0.7646354208473364,
          -1.7613727579525837,
          -0.007885085352440032,
          -0.6550676125914235,
          -1.5382251668563758,
          2.9664757064106833,
          0.05136220368240336,
          0.9053762889413747,
          -0.9014199037894448,
          0.14416787795095554,
          0.5772481753295273,
          1.00066627733789,
          -1.484677774151373,
          -1.0470748306972992,
          -1.0394473595670013,
          1.0139539314489332,
          -0.2266635690751747,
          -2.906894044978705,
          0.3866286493770684,
          -0.22145896800858503,
          0.2723182682770941,
          -0.23515963148068272,
          -0.8867866717522348,
          -0.017926170650252895,
          0.1202193588446371,
          0.5167784095259662,
          -1.1692508750791701,
          0.12401321928940981,
          -0.7738107387476351,
          -0.9566254708018384,
          -0.26444548631561315,
          -1.6766931874405588,
          -1.5626958822528276,
          -1.0537752027800056,
          0.01008372961374793,
          0.07867473793517019,
          -1.6967402907609725,
          -1.896581525083377,
          -0.9524305910705916,
          0.9152100476428011,
          0.5403263954180979,
          -1.1951744668940307,
          -0.7586988875890001,
          -2.764229500397465,
          -1.058834908427951,
          -1.211320125788323,
          -1.4017384442446392,
          0.31423912897978823,
          0.40750676142202613,
          -0.12272730770175873,
          -0.16912280770312685,
          -0.17788138935751074
         ],
         "yaxis": "y8"
        },
        {
         "line": {
          "color": "rgba(128, 128, 128, 1.0)",
          "dash": "solid",
          "shape": "linear",
          "width": 1.3
         },
         "marker": {
          "size": 2,
          "symbol": "circle"
         },
         "mode": "markers",
         "name": "C",
         "text": "",
         "type": "scatter",
         "x": [
          -1.4747380955937974,
          0.28725077112417235,
          -1.6568846794720122,
          1.381720942647079,
          0.3657833365094521,
          0.026008073073972172,
          -0.5109681143770874,
          -0.30968695071839253,
          0.08056276720583924,
          1.2206461655280683,
          -1.0044961445651543,
          -0.7086123871501985,
          -0.3032080480213653,
          -0.4681810010400497,
          0.4883380048432973,
          -1.0568975335865904,
          -0.6478951720409023,
          -1.1006335991216396,
          -1.1084672870151069,
          1.0115169993247746,
          0.8628879534962799,
          0.49107556584687034,
          -0.21460151922209592,
          -0.21167224031379164,
          -1.0868280793928702,
          0.1813077457259262,
          1.6048411477507714,
          -1.1129128593443407,
          0.13510904054871198,
          0.7363175261488993,
          0.30133889718720347,
          1.0968390103774157,
          -0.9215941053119098,
          1.1452096988910712,
          -0.0969211977387717,
          0.7832229582485118,
          1.0531791723051949,
          -0.6663370851946934,
          -0.7282508718905567,
          -1.688787692138687,
          0.2592955164616916,
          -0.35251940357111267,
          0.5255678646250175,
          0.1591013061134092,
          1.6392683058616393,
          -0.7594873429459711,
          0.3571677103292569,
          -1.9129516673080214,
          0.2812674212385775,
          2.9443484953104657,
          -1.2668238549208235,
          0.41322784242257693,
          1.206697949804835,
          1.0295637127428512,
          0.42415314431239537,
          -1.234242731046262,
          -0.005177234655683374,
          0.40215839443750323,
          0.5734568360798693,
          -0.981071428153688,
          -1.044181132406017,
          -0.5455429283558031,
          0.8723741296130654,
          -1.7382678852503126,
          -2.394203349842937,
          1.1200094352775187,
          -0.6221419105120386,
          0.28050386485521667,
          -0.21614849790735982,
          -0.5457390506690335,
          -2.3191277297140607,
          1.3524213867671204,
          0.12594824702172094,
          -0.02781084118179256,
          -1.0121863416508705,
          -0.1346075258918912,
          -0.2161185225683815,
          -1.4044793440674315,
          0.5103800616622387,
          -0.26035603985135364,
          0.7128604943441633,
          -0.09028399432601468,
          0.5214049330304661,
          -0.050307547047459246,
          -0.139890323143218,
          -1.2155801358748424,
          0.9627948608905095,
          0.8801238599064668,
          0.020185320431986706,
          1.6625023152013685,
          0.3816936279691013,
          0.34509760366963216,
          0.37972886845205844,
          0.4258913685657802,
          -0.22863620193291423,
          -1.4886214993845972,
          0.5486315743498743,
          -0.37552303459747266,
          -1.7087243821390654,
          -0.047214690067770786
         ],
         "xaxis": "x9",
         "y": [
          1.7377773904002787,
          -0.22395400729530127,
          0.1820734116872276,
          -0.7942279663986247,
          0.5582198101989171,
          0.8557186514611376,
          -0.4566546028122543,
          -0.4486886613225603,
          -0.462033243406978,
          1.7693450636612906,
          0.8493771531423921,
          -0.46690670588043465,
          0.6681701784956612,
          1.487470466970359,
          -1.592710230729672,
          -0.8893560759048776,
          0.9974415506640023,
          -0.11815807269381176,
          0.39085583078090946,
          -0.8678648114268143,
          -1.3232130718608561,
          1.2296438297962131,
          -1.7049252038650233,
          -0.1278833761359411,
          -0.9852621101243801,
          1.4511004245694241,
          -0.5107422042065087,
          0.35540352015450555,
          0.4608476569044969,
          0.4486668143051865,
          1.7038458179890796,
          1.2874981058355235,
          0.008172266049143288,
          1.3403757810053207,
          -0.48959248911528613,
          0.5761572892581875,
          -1.158663472942153,
          -2.3934735618828453,
          -2.0473455770351485,
          0.04363192875061731,
          0.9613481148956818,
          -0.23020568673440028,
          0.5268156949610865,
          0.9249023465550501,
          -0.23049076961016352,
          0.27160019016029285,
          0.34585203246608587,
          0.8663998050975331,
          -0.9774447107233512,
          -0.49791242970244515,
          -1.879355292075668,
          1.9648131850176263,
          -0.27336146294076935,
          0.4402545510186216,
          0.7274920462854855,
          0.26784305740453795,
          1.5272195480486723,
          -0.11650576271574038,
          1.203757674131996,
          -0.2400098004413862,
          0.5559898896596926,
          -0.25173079089603434,
          -0.17630458831284046,
          -0.584550466794726,
          1.3225811578308335,
          0.7294619170549295,
          0.7943615257625641,
          0.27209621340875817,
          -1.5785477719864265,
          0.3727682581763358,
          1.4550313417369363,
          1.3084602131497813,
          1.6908326835822265,
          -0.6751489947318258,
          -2.064870035828138,
          0.4935165233388467,
          0.8466278348395803,
          0.14975934344387587,
          -0.38709899368579576,
          -0.4914009940136751,
          -0.5018286362538411,
          -0.6533088785680246,
          1.054829047519902,
          0.49530987239203966,
          -0.021789443961921257,
          0.34301971407163234,
          0.384615463775324,
          -0.5202573280889718,
          0.955766575232318,
          0.47481063499827153,
          -0.4096097700355144,
          -0.7890433274251037,
          -1.3225480834101921,
          -1.4704335995087472,
          0.402125007984368,
          -0.7854528677118743,
          -0.8182638218352324,
          1.0890802638091794,
          0.39325131265035485,
          0.19159205137621324
         ],
         "yaxis": "y9"
        },
        {
         "line": {
          "color": "rgba(128, 128, 128, 1.0)",
          "dash": "solid",
          "shape": "linear",
          "width": 1.3
         },
         "marker": {
          "size": 2,
          "symbol": "circle"
         },
         "mode": "markers",
         "name": "C",
         "text": "",
         "type": "scatter",
         "x": [
          0.21816361565301612,
          -0.18311601650778261,
          -0.8722852429063794,
          0.7996321791414022,
          1.4830013794585655,
          -1.8513851087254878,
          1.613906454791288,
          -1.5827358120075996,
          -0.2852339752587739,
          -1.1655837011030066,
          -1.3316526305662248,
          -0.058152616565652196,
          0.06088486005099269,
          -1.8538715257905751,
          -0.10795630868630458,
          -0.5169453758367406,
          0.05896114763704862,
          1.937674579815131,
          -0.43586910750577423,
          0.6301701523533102,
          0.2487690009306954,
          -0.5768590175830137,
          -0.23048178855369697,
          1.5829241162079017,
          -0.7064465895575457,
          -0.07800414606637208,
          0.9267040564138606,
          -0.9945444848093137,
          1.5232090046065017,
          0.5724140410636237,
          -0.5824132253983889,
          1.4758903927481846,
          0.7894141470303264,
          -0.34231970058963407,
          -0.7810319671697296,
          0.2072844838228586,
          -0.5588365519503141,
          -0.38971140833812906,
          0.21785672555286356,
          1.0289889419787783,
          -1.3145327761543142,
          0.18482300394128667,
          0.325360903405271,
          0.8234367426244258,
          0.7549608081461314,
          -0.24592878896044312,
          -0.8898589213424684,
          1.1296498601309384,
          -0.7646354208473364,
          -1.7613727579525837,
          -0.007885085352440032,
          -0.6550676125914235,
          -1.5382251668563758,
          2.9664757064106833,
          0.05136220368240336,
          0.9053762889413747,
          -0.9014199037894448,
          0.14416787795095554,
          0.5772481753295273,
          1.00066627733789,
          -1.484677774151373,
          -1.0470748306972992,
          -1.0394473595670013,
          1.0139539314489332,
          -0.2266635690751747,
          -2.906894044978705,
          0.3866286493770684,
          -0.22145896800858503,
          0.2723182682770941,
          -0.23515963148068272,
          -0.8867866717522348,
          -0.017926170650252895,
          0.1202193588446371,
          0.5167784095259662,
          -1.1692508750791701,
          0.12401321928940981,
          -0.7738107387476351,
          -0.9566254708018384,
          -0.26444548631561315,
          -1.6766931874405588,
          -1.5626958822528276,
          -1.0537752027800056,
          0.01008372961374793,
          0.07867473793517019,
          -1.6967402907609725,
          -1.896581525083377,
          -0.9524305910705916,
          0.9152100476428011,
          0.5403263954180979,
          -1.1951744668940307,
          -0.7586988875890001,
          -2.764229500397465,
          -1.058834908427951,
          -1.211320125788323,
          -1.4017384442446392,
          0.31423912897978823,
          0.40750676142202613,
          -0.12272730770175873,
          -0.16912280770312685,
          -0.17788138935751074
         ],
         "xaxis": "x10",
         "y": [
          1.7377773904002787,
          -0.22395400729530127,
          0.1820734116872276,
          -0.7942279663986247,
          0.5582198101989171,
          0.8557186514611376,
          -0.4566546028122543,
          -0.4486886613225603,
          -0.462033243406978,
          1.7693450636612906,
          0.8493771531423921,
          -0.46690670588043465,
          0.6681701784956612,
          1.487470466970359,
          -1.592710230729672,
          -0.8893560759048776,
          0.9974415506640023,
          -0.11815807269381176,
          0.39085583078090946,
          -0.8678648114268143,
          -1.3232130718608561,
          1.2296438297962131,
          -1.7049252038650233,
          -0.1278833761359411,
          -0.9852621101243801,
          1.4511004245694241,
          -0.5107422042065087,
          0.35540352015450555,
          0.4608476569044969,
          0.4486668143051865,
          1.7038458179890796,
          1.2874981058355235,
          0.008172266049143288,
          1.3403757810053207,
          -0.48959248911528613,
          0.5761572892581875,
          -1.158663472942153,
          -2.3934735618828453,
          -2.0473455770351485,
          0.04363192875061731,
          0.9613481148956818,
          -0.23020568673440028,
          0.5268156949610865,
          0.9249023465550501,
          -0.23049076961016352,
          0.27160019016029285,
          0.34585203246608587,
          0.8663998050975331,
          -0.9774447107233512,
          -0.49791242970244515,
          -1.879355292075668,
          1.9648131850176263,
          -0.27336146294076935,
          0.4402545510186216,
          0.7274920462854855,
          0.26784305740453795,
          1.5272195480486723,
          -0.11650576271574038,
          1.203757674131996,
          -0.2400098004413862,
          0.5559898896596926,
          -0.25173079089603434,
          -0.17630458831284046,
          -0.584550466794726,
          1.3225811578308335,
          0.7294619170549295,
          0.7943615257625641,
          0.27209621340875817,
          -1.5785477719864265,
          0.3727682581763358,
          1.4550313417369363,
          1.3084602131497813,
          1.6908326835822265,
          -0.6751489947318258,
          -2.064870035828138,
          0.4935165233388467,
          0.8466278348395803,
          0.14975934344387587,
          -0.38709899368579576,
          -0.4914009940136751,
          -0.5018286362538411,
          -0.6533088785680246,
          1.054829047519902,
          0.49530987239203966,
          -0.021789443961921257,
          0.34301971407163234,
          0.384615463775324,
          -0.5202573280889718,
          0.955766575232318,
          0.47481063499827153,
          -0.4096097700355144,
          -0.7890433274251037,
          -1.3225480834101921,
          -1.4704335995087472,
          0.402125007984368,
          -0.7854528677118743,
          -0.8182638218352324,
          1.0890802638091794,
          0.39325131265035485,
          0.19159205137621324
         ],
         "yaxis": "y10"
        },
        {
         "histfunc": "count",
         "histnorm": "",
         "marker": {
          "color": "rgba(50, 171, 96, 1.0)",
          "line": {
           "color": "#4D5663",
           "width": 1.3
          }
         },
         "name": "C",
         "nbinsx": 10,
         "opacity": 0.8,
         "orientation": "v",
         "type": "histogram",
         "x": [
          1.7377773904002787,
          -0.22395400729530127,
          0.1820734116872276,
          -0.7942279663986247,
          0.5582198101989171,
          0.8557186514611376,
          -0.4566546028122543,
          -0.4486886613225603,
          -0.462033243406978,
          1.7693450636612906,
          0.8493771531423921,
          -0.46690670588043465,
          0.6681701784956612,
          1.487470466970359,
          -1.592710230729672,
          -0.8893560759048776,
          0.9974415506640023,
          -0.11815807269381176,
          0.39085583078090946,
          -0.8678648114268143,
          -1.3232130718608561,
          1.2296438297962131,
          -1.7049252038650233,
          -0.1278833761359411,
          -0.9852621101243801,
          1.4511004245694241,
          -0.5107422042065087,
          0.35540352015450555,
          0.4608476569044969,
          0.4486668143051865,
          1.7038458179890796,
          1.2874981058355235,
          0.008172266049143288,
          1.3403757810053207,
          -0.48959248911528613,
          0.5761572892581875,
          -1.158663472942153,
          -2.3934735618828453,
          -2.0473455770351485,
          0.04363192875061731,
          0.9613481148956818,
          -0.23020568673440028,
          0.5268156949610865,
          0.9249023465550501,
          -0.23049076961016352,
          0.27160019016029285,
          0.34585203246608587,
          0.8663998050975331,
          -0.9774447107233512,
          -0.49791242970244515,
          -1.879355292075668,
          1.9648131850176263,
          -0.27336146294076935,
          0.4402545510186216,
          0.7274920462854855,
          0.26784305740453795,
          1.5272195480486723,
          -0.11650576271574038,
          1.203757674131996,
          -0.2400098004413862,
          0.5559898896596926,
          -0.25173079089603434,
          -0.17630458831284046,
          -0.584550466794726,
          1.3225811578308335,
          0.7294619170549295,
          0.7943615257625641,
          0.27209621340875817,
          -1.5785477719864265,
          0.3727682581763358,
          1.4550313417369363,
          1.3084602131497813,
          1.6908326835822265,
          -0.6751489947318258,
          -2.064870035828138,
          0.4935165233388467,
          0.8466278348395803,
          0.14975934344387587,
          -0.38709899368579576,
          -0.4914009940136751,
          -0.5018286362538411,
          -0.6533088785680246,
          1.054829047519902,
          0.49530987239203966,
          -0.021789443961921257,
          0.34301971407163234,
          0.384615463775324,
          -0.5202573280889718,
          0.955766575232318,
          0.47481063499827153,
          -0.4096097700355144,
          -0.7890433274251037,
          -1.3225480834101921,
          -1.4704335995087472,
          0.402125007984368,
          -0.7854528677118743,
          -0.8182638218352324,
          1.0890802638091794,
          0.39325131265035485,
          0.19159205137621324
         ],
         "xaxis": "x11",
         "yaxis": "y11"
        },
        {
         "line": {
          "color": "rgba(128, 128, 128, 1.0)",
          "dash": "solid",
          "shape": "linear",
          "width": 1.3
         },
         "marker": {
          "size": 2,
          "symbol": "circle"
         },
         "mode": "markers",
         "name": "C",
         "text": "",
         "type": "scatter",
         "x": [
          -0.9898978880621447,
          -0.15653251538155546,
          1.1350151984266963,
          0.4330113225398728,
          -0.22662361863857208,
          1.2147557315772484,
          -1.0954533355276945,
          0.056981130154462885,
          1.085174429985138,
          0.14699559311323226,
          -0.49897601646505985,
          1.1989909816632942,
          0.6333982183822553,
          -0.9858404019714517,
          0.9646473937157795,
          -0.29878447694620397,
          0.038219071625085144,
          -1.7977606542818454,
          2.4301625828708593,
          -1.4225971964401587,
          -2.0545116148098432,
          -0.5543603071865605,
          -0.6588505749295496,
          1.2513627887378793,
          -0.8137948207943052,
          1.0422064628802337,
          -0.45192461570495496,
          -0.6497801405399549,
          -1.056516347348047,
          0.20440307609406713,
          1.0548270254772918,
          -0.570416040564116,
          0.6746325877971175,
          -0.4756361340610073,
          -0.7551924202762499,
          0.78069243348289,
          0.16415385377231234,
          -0.28675334369218347,
          0.30529160399932065,
          -0.2862858687531363,
          0.823671579756582,
          0.009792660113371647,
          0.3733208164001366,
          1.1993466973961242,
          -0.6027492101400286,
          -0.27046930406674846,
          -0.27937197120297924,
          -0.04930455118166517,
          0.0722552739941226,
          -1.4694929069425693,
          -0.6746960168843232,
          -0.6104468398467007,
          0.31013922462091476,
          -0.13520219674899842,
          1.2810838143310053,
          0.6346761225549629,
          0.6660497298057801,
          0.56872629264876,
          -0.71933362951576,
          0.016502895779975293,
          -1.2366498860403936,
          0.8115178064397559,
          0.8837234466172698,
          0.8352577811979678,
          1.3232430932241368,
          0.47543627781600223,
          0.08657443799251735,
          -1.039525159095973,
          0.48091097057485427,
          0.127197970073491,
          -1.745338456585933,
          -1.0008593606324803,
          -1.2375741669575637,
          -0.2676094462039642,
          0.029590830119454816,
          0.09694160474868284,
          -0.3623762651099337,
          -1.687778267088628,
          0.36560118017894544,
          -1.0608584180118896,
          0.24275606912664235,
          1.2723543462803888,
          0.8959132253067817,
          0.38105128916243275,
          -0.13942542910659975,
          0.004690457201917903,
          -1.5323061194361465,
          1.2902201186984674,
          -0.1675177290969658,
          -1.099215093653179,
          0.38281596578233895,
          -0.398418999693859,
          0.32140117646225186,
          0.36649377203199307,
          0.08223321776600259,
          -2.552523055574907,
          -0.7806267829411238,
          -0.27503823292083457,
          -1.5121006401915777,
          -0.421854097454241
         ],
         "xaxis": "x12",
         "y": [
          1.7377773904002787,
          -0.22395400729530127,
          0.1820734116872276,
          -0.7942279663986247,
          0.5582198101989171,
          0.8557186514611376,
          -0.4566546028122543,
          -0.4486886613225603,
          -0.462033243406978,
          1.7693450636612906,
          0.8493771531423921,
          -0.46690670588043465,
          0.6681701784956612,
          1.487470466970359,
          -1.592710230729672,
          -0.8893560759048776,
          0.9974415506640023,
          -0.11815807269381176,
          0.39085583078090946,
          -0.8678648114268143,
          -1.3232130718608561,
          1.2296438297962131,
          -1.7049252038650233,
          -0.1278833761359411,
          -0.9852621101243801,
          1.4511004245694241,
          -0.5107422042065087,
          0.35540352015450555,
          0.4608476569044969,
          0.4486668143051865,
          1.7038458179890796,
          1.2874981058355235,
          0.008172266049143288,
          1.3403757810053207,
          -0.48959248911528613,
          0.5761572892581875,
          -1.158663472942153,
          -2.3934735618828453,
          -2.0473455770351485,
          0.04363192875061731,
          0.9613481148956818,
          -0.23020568673440028,
          0.5268156949610865,
          0.9249023465550501,
          -0.23049076961016352,
          0.27160019016029285,
          0.34585203246608587,
          0.8663998050975331,
          -0.9774447107233512,
          -0.49791242970244515,
          -1.879355292075668,
          1.9648131850176263,
          -0.27336146294076935,
          0.4402545510186216,
          0.7274920462854855,
          0.26784305740453795,
          1.5272195480486723,
          -0.11650576271574038,
          1.203757674131996,
          -0.2400098004413862,
          0.5559898896596926,
          -0.25173079089603434,
          -0.17630458831284046,
          -0.584550466794726,
          1.3225811578308335,
          0.7294619170549295,
          0.7943615257625641,
          0.27209621340875817,
          -1.5785477719864265,
          0.3727682581763358,
          1.4550313417369363,
          1.3084602131497813,
          1.6908326835822265,
          -0.6751489947318258,
          -2.064870035828138,
          0.4935165233388467,
          0.8466278348395803,
          0.14975934344387587,
          -0.38709899368579576,
          -0.4914009940136751,
          -0.5018286362538411,
          -0.6533088785680246,
          1.054829047519902,
          0.49530987239203966,
          -0.021789443961921257,
          0.34301971407163234,
          0.384615463775324,
          -0.5202573280889718,
          0.955766575232318,
          0.47481063499827153,
          -0.4096097700355144,
          -0.7890433274251037,
          -1.3225480834101921,
          -1.4704335995087472,
          0.402125007984368,
          -0.7854528677118743,
          -0.8182638218352324,
          1.0890802638091794,
          0.39325131265035485,
          0.19159205137621324
         ],
         "yaxis": "y12"
        },
        {
         "line": {
          "color": "rgba(128, 128, 128, 1.0)",
          "dash": "solid",
          "shape": "linear",
          "width": 1.3
         },
         "marker": {
          "size": 2,
          "symbol": "circle"
         },
         "mode": "markers",
         "name": "D",
         "text": "",
         "type": "scatter",
         "x": [
          -1.4747380955937974,
          0.28725077112417235,
          -1.6568846794720122,
          1.381720942647079,
          0.3657833365094521,
          0.026008073073972172,
          -0.5109681143770874,
          -0.30968695071839253,
          0.08056276720583924,
          1.2206461655280683,
          -1.0044961445651543,
          -0.7086123871501985,
          -0.3032080480213653,
          -0.4681810010400497,
          0.4883380048432973,
          -1.0568975335865904,
          -0.6478951720409023,
          -1.1006335991216396,
          -1.1084672870151069,
          1.0115169993247746,
          0.8628879534962799,
          0.49107556584687034,
          -0.21460151922209592,
          -0.21167224031379164,
          -1.0868280793928702,
          0.1813077457259262,
          1.6048411477507714,
          -1.1129128593443407,
          0.13510904054871198,
          0.7363175261488993,
          0.30133889718720347,
          1.0968390103774157,
          -0.9215941053119098,
          1.1452096988910712,
          -0.0969211977387717,
          0.7832229582485118,
          1.0531791723051949,
          -0.6663370851946934,
          -0.7282508718905567,
          -1.688787692138687,
          0.2592955164616916,
          -0.35251940357111267,
          0.5255678646250175,
          0.1591013061134092,
          1.6392683058616393,
          -0.7594873429459711,
          0.3571677103292569,
          -1.9129516673080214,
          0.2812674212385775,
          2.9443484953104657,
          -1.2668238549208235,
          0.41322784242257693,
          1.206697949804835,
          1.0295637127428512,
          0.42415314431239537,
          -1.234242731046262,
          -0.005177234655683374,
          0.40215839443750323,
          0.5734568360798693,
          -0.981071428153688,
          -1.044181132406017,
          -0.5455429283558031,
          0.8723741296130654,
          -1.7382678852503126,
          -2.394203349842937,
          1.1200094352775187,
          -0.6221419105120386,
          0.28050386485521667,
          -0.21614849790735982,
          -0.5457390506690335,
          -2.3191277297140607,
          1.3524213867671204,
          0.12594824702172094,
          -0.02781084118179256,
          -1.0121863416508705,
          -0.1346075258918912,
          -0.2161185225683815,
          -1.4044793440674315,
          0.5103800616622387,
          -0.26035603985135364,
          0.7128604943441633,
          -0.09028399432601468,
          0.5214049330304661,
          -0.050307547047459246,
          -0.139890323143218,
          -1.2155801358748424,
          0.9627948608905095,
          0.8801238599064668,
          0.020185320431986706,
          1.6625023152013685,
          0.3816936279691013,
          0.34509760366963216,
          0.37972886845205844,
          0.4258913685657802,
          -0.22863620193291423,
          -1.4886214993845972,
          0.5486315743498743,
          -0.37552303459747266,
          -1.7087243821390654,
          -0.047214690067770786
         ],
         "xaxis": "x13",
         "y": [
          -0.9898978880621447,
          -0.15653251538155546,
          1.1350151984266963,
          0.4330113225398728,
          -0.22662361863857208,
          1.2147557315772484,
          -1.0954533355276945,
          0.056981130154462885,
          1.085174429985138,
          0.14699559311323226,
          -0.49897601646505985,
          1.1989909816632942,
          0.6333982183822553,
          -0.9858404019714517,
          0.9646473937157795,
          -0.29878447694620397,
          0.038219071625085144,
          -1.7977606542818454,
          2.4301625828708593,
          -1.4225971964401587,
          -2.0545116148098432,
          -0.5543603071865605,
          -0.6588505749295496,
          1.2513627887378793,
          -0.8137948207943052,
          1.0422064628802337,
          -0.45192461570495496,
          -0.6497801405399549,
          -1.056516347348047,
          0.20440307609406713,
          1.0548270254772918,
          -0.570416040564116,
          0.6746325877971175,
          -0.4756361340610073,
          -0.7551924202762499,
          0.78069243348289,
          0.16415385377231234,
          -0.28675334369218347,
          0.30529160399932065,
          -0.2862858687531363,
          0.823671579756582,
          0.009792660113371647,
          0.3733208164001366,
          1.1993466973961242,
          -0.6027492101400286,
          -0.27046930406674846,
          -0.27937197120297924,
          -0.04930455118166517,
          0.0722552739941226,
          -1.4694929069425693,
          -0.6746960168843232,
          -0.6104468398467007,
          0.31013922462091476,
          -0.13520219674899842,
          1.2810838143310053,
          0.6346761225549629,
          0.6660497298057801,
          0.56872629264876,
          -0.71933362951576,
          0.016502895779975293,
          -1.2366498860403936,
          0.8115178064397559,
          0.8837234466172698,
          0.8352577811979678,
          1.3232430932241368,
          0.47543627781600223,
          0.08657443799251735,
          -1.039525159095973,
          0.48091097057485427,
          0.127197970073491,
          -1.745338456585933,
          -1.0008593606324803,
          -1.2375741669575637,
          -0.2676094462039642,
          0.029590830119454816,
          0.09694160474868284,
          -0.3623762651099337,
          -1.687778267088628,
          0.36560118017894544,
          -1.0608584180118896,
          0.24275606912664235,
          1.2723543462803888,
          0.8959132253067817,
          0.38105128916243275,
          -0.13942542910659975,
          0.004690457201917903,
          -1.5323061194361465,
          1.2902201186984674,
          -0.1675177290969658,
          -1.099215093653179,
          0.38281596578233895,
          -0.398418999693859,
          0.32140117646225186,
          0.36649377203199307,
          0.08223321776600259,
          -2.552523055574907,
          -0.7806267829411238,
          -0.27503823292083457,
          -1.5121006401915777,
          -0.421854097454241
         ],
         "yaxis": "y13"
        },
        {
         "line": {
          "color": "rgba(128, 128, 128, 1.0)",
          "dash": "solid",
          "shape": "linear",
          "width": 1.3
         },
         "marker": {
          "size": 2,
          "symbol": "circle"
         },
         "mode": "markers",
         "name": "D",
         "text": "",
         "type": "scatter",
         "x": [
          0.21816361565301612,
          -0.18311601650778261,
          -0.8722852429063794,
          0.7996321791414022,
          1.4830013794585655,
          -1.8513851087254878,
          1.613906454791288,
          -1.5827358120075996,
          -0.2852339752587739,
          -1.1655837011030066,
          -1.3316526305662248,
          -0.058152616565652196,
          0.06088486005099269,
          -1.8538715257905751,
          -0.10795630868630458,
          -0.5169453758367406,
          0.05896114763704862,
          1.937674579815131,
          -0.43586910750577423,
          0.6301701523533102,
          0.2487690009306954,
          -0.5768590175830137,
          -0.23048178855369697,
          1.5829241162079017,
          -0.7064465895575457,
          -0.07800414606637208,
          0.9267040564138606,
          -0.9945444848093137,
          1.5232090046065017,
          0.5724140410636237,
          -0.5824132253983889,
          1.4758903927481846,
          0.7894141470303264,
          -0.34231970058963407,
          -0.7810319671697296,
          0.2072844838228586,
          -0.5588365519503141,
          -0.38971140833812906,
          0.21785672555286356,
          1.0289889419787783,
          -1.3145327761543142,
          0.18482300394128667,
          0.325360903405271,
          0.8234367426244258,
          0.7549608081461314,
          -0.24592878896044312,
          -0.8898589213424684,
          1.1296498601309384,
          -0.7646354208473364,
          -1.7613727579525837,
          -0.007885085352440032,
          -0.6550676125914235,
          -1.5382251668563758,
          2.9664757064106833,
          0.05136220368240336,
          0.9053762889413747,
          -0.9014199037894448,
          0.14416787795095554,
          0.5772481753295273,
          1.00066627733789,
          -1.484677774151373,
          -1.0470748306972992,
          -1.0394473595670013,
          1.0139539314489332,
          -0.2266635690751747,
          -2.906894044978705,
          0.3866286493770684,
          -0.22145896800858503,
          0.2723182682770941,
          -0.23515963148068272,
          -0.8867866717522348,
          -0.017926170650252895,
          0.1202193588446371,
          0.5167784095259662,
          -1.1692508750791701,
          0.12401321928940981,
          -0.7738107387476351,
          -0.9566254708018384,
          -0.26444548631561315,
          -1.6766931874405588,
          -1.5626958822528276,
          -1.0537752027800056,
          0.01008372961374793,
          0.07867473793517019,
          -1.6967402907609725,
          -1.896581525083377,
          -0.9524305910705916,
          0.9152100476428011,
          0.5403263954180979,
          -1.1951744668940307,
          -0.7586988875890001,
          -2.764229500397465,
          -1.058834908427951,
          -1.211320125788323,
          -1.4017384442446392,
          0.31423912897978823,
          0.40750676142202613,
          -0.12272730770175873,
          -0.16912280770312685,
          -0.17788138935751074
         ],
         "xaxis": "x14",
         "y": [
          -0.9898978880621447,
          -0.15653251538155546,
          1.1350151984266963,
          0.4330113225398728,
          -0.22662361863857208,
          1.2147557315772484,
          -1.0954533355276945,
          0.056981130154462885,
          1.085174429985138,
          0.14699559311323226,
          -0.49897601646505985,
          1.1989909816632942,
          0.6333982183822553,
          -0.9858404019714517,
          0.9646473937157795,
          -0.29878447694620397,
          0.038219071625085144,
          -1.7977606542818454,
          2.4301625828708593,
          -1.4225971964401587,
          -2.0545116148098432,
          -0.5543603071865605,
          -0.6588505749295496,
          1.2513627887378793,
          -0.8137948207943052,
          1.0422064628802337,
          -0.45192461570495496,
          -0.6497801405399549,
          -1.056516347348047,
          0.20440307609406713,
          1.0548270254772918,
          -0.570416040564116,
          0.6746325877971175,
          -0.4756361340610073,
          -0.7551924202762499,
          0.78069243348289,
          0.16415385377231234,
          -0.28675334369218347,
          0.30529160399932065,
          -0.2862858687531363,
          0.823671579756582,
          0.009792660113371647,
          0.3733208164001366,
          1.1993466973961242,
          -0.6027492101400286,
          -0.27046930406674846,
          -0.27937197120297924,
          -0.04930455118166517,
          0.0722552739941226,
          -1.4694929069425693,
          -0.6746960168843232,
          -0.6104468398467007,
          0.31013922462091476,
          -0.13520219674899842,
          1.2810838143310053,
          0.6346761225549629,
          0.6660497298057801,
          0.56872629264876,
          -0.71933362951576,
          0.016502895779975293,
          -1.2366498860403936,
          0.8115178064397559,
          0.8837234466172698,
          0.8352577811979678,
          1.3232430932241368,
          0.47543627781600223,
          0.08657443799251735,
          -1.039525159095973,
          0.48091097057485427,
          0.127197970073491,
          -1.745338456585933,
          -1.0008593606324803,
          -1.2375741669575637,
          -0.2676094462039642,
          0.029590830119454816,
          0.09694160474868284,
          -0.3623762651099337,
          -1.687778267088628,
          0.36560118017894544,
          -1.0608584180118896,
          0.24275606912664235,
          1.2723543462803888,
          0.8959132253067817,
          0.38105128916243275,
          -0.13942542910659975,
          0.004690457201917903,
          -1.5323061194361465,
          1.2902201186984674,
          -0.1675177290969658,
          -1.099215093653179,
          0.38281596578233895,
          -0.398418999693859,
          0.32140117646225186,
          0.36649377203199307,
          0.08223321776600259,
          -2.552523055574907,
          -0.7806267829411238,
          -0.27503823292083457,
          -1.5121006401915777,
          -0.421854097454241
         ],
         "yaxis": "y14"
        },
        {
         "line": {
          "color": "rgba(128, 128, 128, 1.0)",
          "dash": "solid",
          "shape": "linear",
          "width": 1.3
         },
         "marker": {
          "size": 2,
          "symbol": "circle"
         },
         "mode": "markers",
         "name": "D",
         "text": "",
         "type": "scatter",
         "x": [
          1.7377773904002787,
          -0.22395400729530127,
          0.1820734116872276,
          -0.7942279663986247,
          0.5582198101989171,
          0.8557186514611376,
          -0.4566546028122543,
          -0.4486886613225603,
          -0.462033243406978,
          1.7693450636612906,
          0.8493771531423921,
          -0.46690670588043465,
          0.6681701784956612,
          1.487470466970359,
          -1.592710230729672,
          -0.8893560759048776,
          0.9974415506640023,
          -0.11815807269381176,
          0.39085583078090946,
          -0.8678648114268143,
          -1.3232130718608561,
          1.2296438297962131,
          -1.7049252038650233,
          -0.1278833761359411,
          -0.9852621101243801,
          1.4511004245694241,
          -0.5107422042065087,
          0.35540352015450555,
          0.4608476569044969,
          0.4486668143051865,
          1.7038458179890796,
          1.2874981058355235,
          0.008172266049143288,
          1.3403757810053207,
          -0.48959248911528613,
          0.5761572892581875,
          -1.158663472942153,
          -2.3934735618828453,
          -2.0473455770351485,
          0.04363192875061731,
          0.9613481148956818,
          -0.23020568673440028,
          0.5268156949610865,
          0.9249023465550501,
          -0.23049076961016352,
          0.27160019016029285,
          0.34585203246608587,
          0.8663998050975331,
          -0.9774447107233512,
          -0.49791242970244515,
          -1.879355292075668,
          1.9648131850176263,
          -0.27336146294076935,
          0.4402545510186216,
          0.7274920462854855,
          0.26784305740453795,
          1.5272195480486723,
          -0.11650576271574038,
          1.203757674131996,
          -0.2400098004413862,
          0.5559898896596926,
          -0.25173079089603434,
          -0.17630458831284046,
          -0.584550466794726,
          1.3225811578308335,
          0.7294619170549295,
          0.7943615257625641,
          0.27209621340875817,
          -1.5785477719864265,
          0.3727682581763358,
          1.4550313417369363,
          1.3084602131497813,
          1.6908326835822265,
          -0.6751489947318258,
          -2.064870035828138,
          0.4935165233388467,
          0.8466278348395803,
          0.14975934344387587,
          -0.38709899368579576,
          -0.4914009940136751,
          -0.5018286362538411,
          -0.6533088785680246,
          1.054829047519902,
          0.49530987239203966,
          -0.021789443961921257,
          0.34301971407163234,
          0.384615463775324,
          -0.5202573280889718,
          0.955766575232318,
          0.47481063499827153,
          -0.4096097700355144,
          -0.7890433274251037,
          -1.3225480834101921,
          -1.4704335995087472,
          0.402125007984368,
          -0.7854528677118743,
          -0.8182638218352324,
          1.0890802638091794,
          0.39325131265035485,
          0.19159205137621324
         ],
         "xaxis": "x15",
         "y": [
          -0.9898978880621447,
          -0.15653251538155546,
          1.1350151984266963,
          0.4330113225398728,
          -0.22662361863857208,
          1.2147557315772484,
          -1.0954533355276945,
          0.056981130154462885,
          1.085174429985138,
          0.14699559311323226,
          -0.49897601646505985,
          1.1989909816632942,
          0.6333982183822553,
          -0.9858404019714517,
          0.9646473937157795,
          -0.29878447694620397,
          0.038219071625085144,
          -1.7977606542818454,
          2.4301625828708593,
          -1.4225971964401587,
          -2.0545116148098432,
          -0.5543603071865605,
          -0.6588505749295496,
          1.2513627887378793,
          -0.8137948207943052,
          1.0422064628802337,
          -0.45192461570495496,
          -0.6497801405399549,
          -1.056516347348047,
          0.20440307609406713,
          1.0548270254772918,
          -0.570416040564116,
          0.6746325877971175,
          -0.4756361340610073,
          -0.7551924202762499,
          0.78069243348289,
          0.16415385377231234,
          -0.28675334369218347,
          0.30529160399932065,
          -0.2862858687531363,
          0.823671579756582,
          0.009792660113371647,
          0.3733208164001366,
          1.1993466973961242,
          -0.6027492101400286,
          -0.27046930406674846,
          -0.27937197120297924,
          -0.04930455118166517,
          0.0722552739941226,
          -1.4694929069425693,
          -0.6746960168843232,
          -0.6104468398467007,
          0.31013922462091476,
          -0.13520219674899842,
          1.2810838143310053,
          0.6346761225549629,
          0.6660497298057801,
          0.56872629264876,
          -0.71933362951576,
          0.016502895779975293,
          -1.2366498860403936,
          0.8115178064397559,
          0.8837234466172698,
          0.8352577811979678,
          1.3232430932241368,
          0.47543627781600223,
          0.08657443799251735,
          -1.039525159095973,
          0.48091097057485427,
          0.127197970073491,
          -1.745338456585933,
          -1.0008593606324803,
          -1.2375741669575637,
          -0.2676094462039642,
          0.029590830119454816,
          0.09694160474868284,
          -0.3623762651099337,
          -1.687778267088628,
          0.36560118017894544,
          -1.0608584180118896,
          0.24275606912664235,
          1.2723543462803888,
          0.8959132253067817,
          0.38105128916243275,
          -0.13942542910659975,
          0.004690457201917903,
          -1.5323061194361465,
          1.2902201186984674,
          -0.1675177290969658,
          -1.099215093653179,
          0.38281596578233895,
          -0.398418999693859,
          0.32140117646225186,
          0.36649377203199307,
          0.08223321776600259,
          -2.552523055574907,
          -0.7806267829411238,
          -0.27503823292083457,
          -1.5121006401915777,
          -0.421854097454241
         ],
         "yaxis": "y15"
        },
        {
         "histfunc": "count",
         "histnorm": "",
         "marker": {
          "color": "rgba(128, 0, 128, 1.0)",
          "line": {
           "color": "#4D5663",
           "width": 1.3
          }
         },
         "name": "D",
         "nbinsx": 10,
         "opacity": 0.8,
         "orientation": "v",
         "type": "histogram",
         "x": [
          -0.9898978880621447,
          -0.15653251538155546,
          1.1350151984266963,
          0.4330113225398728,
          -0.22662361863857208,
          1.2147557315772484,
          -1.0954533355276945,
          0.056981130154462885,
          1.085174429985138,
          0.14699559311323226,
          -0.49897601646505985,
          1.1989909816632942,
          0.6333982183822553,
          -0.9858404019714517,
          0.9646473937157795,
          -0.29878447694620397,
          0.038219071625085144,
          -1.7977606542818454,
          2.4301625828708593,
          -1.4225971964401587,
          -2.0545116148098432,
          -0.5543603071865605,
          -0.6588505749295496,
          1.2513627887378793,
          -0.8137948207943052,
          1.0422064628802337,
          -0.45192461570495496,
          -0.6497801405399549,
          -1.056516347348047,
          0.20440307609406713,
          1.0548270254772918,
          -0.570416040564116,
          0.6746325877971175,
          -0.4756361340610073,
          -0.7551924202762499,
          0.78069243348289,
          0.16415385377231234,
          -0.28675334369218347,
          0.30529160399932065,
          -0.2862858687531363,
          0.823671579756582,
          0.009792660113371647,
          0.3733208164001366,
          1.1993466973961242,
          -0.6027492101400286,
          -0.27046930406674846,
          -0.27937197120297924,
          -0.04930455118166517,
          0.0722552739941226,
          -1.4694929069425693,
          -0.6746960168843232,
          -0.6104468398467007,
          0.31013922462091476,
          -0.13520219674899842,
          1.2810838143310053,
          0.6346761225549629,
          0.6660497298057801,
          0.56872629264876,
          -0.71933362951576,
          0.016502895779975293,
          -1.2366498860403936,
          0.8115178064397559,
          0.8837234466172698,
          0.8352577811979678,
          1.3232430932241368,
          0.47543627781600223,
          0.08657443799251735,
          -1.039525159095973,
          0.48091097057485427,
          0.127197970073491,
          -1.745338456585933,
          -1.0008593606324803,
          -1.2375741669575637,
          -0.2676094462039642,
          0.029590830119454816,
          0.09694160474868284,
          -0.3623762651099337,
          -1.687778267088628,
          0.36560118017894544,
          -1.0608584180118896,
          0.24275606912664235,
          1.2723543462803888,
          0.8959132253067817,
          0.38105128916243275,
          -0.13942542910659975,
          0.004690457201917903,
          -1.5323061194361465,
          1.2902201186984674,
          -0.1675177290969658,
          -1.099215093653179,
          0.38281596578233895,
          -0.398418999693859,
          0.32140117646225186,
          0.36649377203199307,
          0.08223321776600259,
          -2.552523055574907,
          -0.7806267829411238,
          -0.27503823292083457,
          -1.5121006401915777,
          -0.421854097454241
         ],
         "xaxis": "x16",
         "yaxis": "y16"
        }
       ],
       "layout": {
        "bargap": 0.02,
        "legend": {
         "bgcolor": "#F5F6F9",
         "font": {
          "color": "#4D5663"
         }
        },
        "paper_bgcolor": "#F5F6F9",
        "plot_bgcolor": "#F5F6F9",
        "showlegend": false,
        "template": {
         "data": {
          "bar": [
           {
            "error_x": {
             "color": "#2a3f5f"
            },
            "error_y": {
             "color": "#2a3f5f"
            },
            "marker": {
             "line": {
              "color": "#E5ECF6",
              "width": 0.5
             },
             "pattern": {
              "fillmode": "overlay",
              "size": 10,
              "solidity": 0.2
             }
            },
            "type": "bar"
           }
          ],
          "barpolar": [
           {
            "marker": {
             "line": {
              "color": "#E5ECF6",
              "width": 0.5
             },
             "pattern": {
              "fillmode": "overlay",
              "size": 10,
              "solidity": 0.2
             }
            },
            "type": "barpolar"
           }
          ],
          "carpet": [
           {
            "aaxis": {
             "endlinecolor": "#2a3f5f",
             "gridcolor": "white",
             "linecolor": "white",
             "minorgridcolor": "white",
             "startlinecolor": "#2a3f5f"
            },
            "baxis": {
             "endlinecolor": "#2a3f5f",
             "gridcolor": "white",
             "linecolor": "white",
             "minorgridcolor": "white",
             "startlinecolor": "#2a3f5f"
            },
            "type": "carpet"
           }
          ],
          "choropleth": [
           {
            "colorbar": {
             "outlinewidth": 0,
             "ticks": ""
            },
            "type": "choropleth"
           }
          ],
          "contour": [
           {
            "colorbar": {
             "outlinewidth": 0,
             "ticks": ""
            },
            "colorscale": [
             [
              0,
              "#0d0887"
             ],
             [
              0.1111111111111111,
              "#46039f"
             ],
             [
              0.2222222222222222,
              "#7201a8"
             ],
             [
              0.3333333333333333,
              "#9c179e"
             ],
             [
              0.4444444444444444,
              "#bd3786"
             ],
             [
              0.5555555555555556,
              "#d8576b"
             ],
             [
              0.6666666666666666,
              "#ed7953"
             ],
             [
              0.7777777777777778,
              "#fb9f3a"
             ],
             [
              0.8888888888888888,
              "#fdca26"
             ],
             [
              1,
              "#f0f921"
             ]
            ],
            "type": "contour"
           }
          ],
          "contourcarpet": [
           {
            "colorbar": {
             "outlinewidth": 0,
             "ticks": ""
            },
            "type": "contourcarpet"
           }
          ],
          "heatmap": [
           {
            "colorbar": {
             "outlinewidth": 0,
             "ticks": ""
            },
            "colorscale": [
             [
              0,
              "#0d0887"
             ],
             [
              0.1111111111111111,
              "#46039f"
             ],
             [
              0.2222222222222222,
              "#7201a8"
             ],
             [
              0.3333333333333333,
              "#9c179e"
             ],
             [
              0.4444444444444444,
              "#bd3786"
             ],
             [
              0.5555555555555556,
              "#d8576b"
             ],
             [
              0.6666666666666666,
              "#ed7953"
             ],
             [
              0.7777777777777778,
              "#fb9f3a"
             ],
             [
              0.8888888888888888,
              "#fdca26"
             ],
             [
              1,
              "#f0f921"
             ]
            ],
            "type": "heatmap"
           }
          ],
          "heatmapgl": [
           {
            "colorbar": {
             "outlinewidth": 0,
             "ticks": ""
            },
            "colorscale": [
             [
              0,
              "#0d0887"
             ],
             [
              0.1111111111111111,
              "#46039f"
             ],
             [
              0.2222222222222222,
              "#7201a8"
             ],
             [
              0.3333333333333333,
              "#9c179e"
             ],
             [
              0.4444444444444444,
              "#bd3786"
             ],
             [
              0.5555555555555556,
              "#d8576b"
             ],
             [
              0.6666666666666666,
              "#ed7953"
             ],
             [
              0.7777777777777778,
              "#fb9f3a"
             ],
             [
              0.8888888888888888,
              "#fdca26"
             ],
             [
              1,
              "#f0f921"
             ]
            ],
            "type": "heatmapgl"
           }
          ],
          "histogram": [
           {
            "marker": {
             "pattern": {
              "fillmode": "overlay",
              "size": 10,
              "solidity": 0.2
             }
            },
            "type": "histogram"
           }
          ],
          "histogram2d": [
           {
            "colorbar": {
             "outlinewidth": 0,
             "ticks": ""
            },
            "colorscale": [
             [
              0,
              "#0d0887"
             ],
             [
              0.1111111111111111,
              "#46039f"
             ],
             [
              0.2222222222222222,
              "#7201a8"
             ],
             [
              0.3333333333333333,
              "#9c179e"
             ],
             [
              0.4444444444444444,
              "#bd3786"
             ],
             [
              0.5555555555555556,
              "#d8576b"
             ],
             [
              0.6666666666666666,
              "#ed7953"
             ],
             [
              0.7777777777777778,
              "#fb9f3a"
             ],
             [
              0.8888888888888888,
              "#fdca26"
             ],
             [
              1,
              "#f0f921"
             ]
            ],
            "type": "histogram2d"
           }
          ],
          "histogram2dcontour": [
           {
            "colorbar": {
             "outlinewidth": 0,
             "ticks": ""
            },
            "colorscale": [
             [
              0,
              "#0d0887"
             ],
             [
              0.1111111111111111,
              "#46039f"
             ],
             [
              0.2222222222222222,
              "#7201a8"
             ],
             [
              0.3333333333333333,
              "#9c179e"
             ],
             [
              0.4444444444444444,
              "#bd3786"
             ],
             [
              0.5555555555555556,
              "#d8576b"
             ],
             [
              0.6666666666666666,
              "#ed7953"
             ],
             [
              0.7777777777777778,
              "#fb9f3a"
             ],
             [
              0.8888888888888888,
              "#fdca26"
             ],
             [
              1,
              "#f0f921"
             ]
            ],
            "type": "histogram2dcontour"
           }
          ],
          "mesh3d": [
           {
            "colorbar": {
             "outlinewidth": 0,
             "ticks": ""
            },
            "type": "mesh3d"
           }
          ],
          "parcoords": [
           {
            "line": {
             "colorbar": {
              "outlinewidth": 0,
              "ticks": ""
             }
            },
            "type": "parcoords"
           }
          ],
          "pie": [
           {
            "automargin": true,
            "type": "pie"
           }
          ],
          "scatter": [
           {
            "fillpattern": {
             "fillmode": "overlay",
             "size": 10,
             "solidity": 0.2
            },
            "type": "scatter"
           }
          ],
          "scatter3d": [
           {
            "line": {
             "colorbar": {
              "outlinewidth": 0,
              "ticks": ""
             }
            },
            "marker": {
             "colorbar": {
              "outlinewidth": 0,
              "ticks": ""
             }
            },
            "type": "scatter3d"
           }
          ],
          "scattercarpet": [
           {
            "marker": {
             "colorbar": {
              "outlinewidth": 0,
              "ticks": ""
             }
            },
            "type": "scattercarpet"
           }
          ],
          "scattergeo": [
           {
            "marker": {
             "colorbar": {
              "outlinewidth": 0,
              "ticks": ""
             }
            },
            "type": "scattergeo"
           }
          ],
          "scattergl": [
           {
            "marker": {
             "colorbar": {
              "outlinewidth": 0,
              "ticks": ""
             }
            },
            "type": "scattergl"
           }
          ],
          "scattermapbox": [
           {
            "marker": {
             "colorbar": {
              "outlinewidth": 0,
              "ticks": ""
             }
            },
            "type": "scattermapbox"
           }
          ],
          "scatterpolar": [
           {
            "marker": {
             "colorbar": {
              "outlinewidth": 0,
              "ticks": ""
             }
            },
            "type": "scatterpolar"
           }
          ],
          "scatterpolargl": [
           {
            "marker": {
             "colorbar": {
              "outlinewidth": 0,
              "ticks": ""
             }
            },
            "type": "scatterpolargl"
           }
          ],
          "scatterternary": [
           {
            "marker": {
             "colorbar": {
              "outlinewidth": 0,
              "ticks": ""
             }
            },
            "type": "scatterternary"
           }
          ],
          "surface": [
           {
            "colorbar": {
             "outlinewidth": 0,
             "ticks": ""
            },
            "colorscale": [
             [
              0,
              "#0d0887"
             ],
             [
              0.1111111111111111,
              "#46039f"
             ],
             [
              0.2222222222222222,
              "#7201a8"
             ],
             [
              0.3333333333333333,
              "#9c179e"
             ],
             [
              0.4444444444444444,
              "#bd3786"
             ],
             [
              0.5555555555555556,
              "#d8576b"
             ],
             [
              0.6666666666666666,
              "#ed7953"
             ],
             [
              0.7777777777777778,
              "#fb9f3a"
             ],
             [
              0.8888888888888888,
              "#fdca26"
             ],
             [
              1,
              "#f0f921"
             ]
            ],
            "type": "surface"
           }
          ],
          "table": [
           {
            "cells": {
             "fill": {
              "color": "#EBF0F8"
             },
             "line": {
              "color": "white"
             }
            },
            "header": {
             "fill": {
              "color": "#C8D4E3"
             },
             "line": {
              "color": "white"
             }
            },
            "type": "table"
           }
          ]
         },
         "layout": {
          "annotationdefaults": {
           "arrowcolor": "#2a3f5f",
           "arrowhead": 0,
           "arrowwidth": 1
          },
          "autotypenumbers": "strict",
          "coloraxis": {
           "colorbar": {
            "outlinewidth": 0,
            "ticks": ""
           }
          },
          "colorscale": {
           "diverging": [
            [
             0,
             "#8e0152"
            ],
            [
             0.1,
             "#c51b7d"
            ],
            [
             0.2,
             "#de77ae"
            ],
            [
             0.3,
             "#f1b6da"
            ],
            [
             0.4,
             "#fde0ef"
            ],
            [
             0.5,
             "#f7f7f7"
            ],
            [
             0.6,
             "#e6f5d0"
            ],
            [
             0.7,
             "#b8e186"
            ],
            [
             0.8,
             "#7fbc41"
            ],
            [
             0.9,
             "#4d9221"
            ],
            [
             1,
             "#276419"
            ]
           ],
           "sequential": [
            [
             0,
             "#0d0887"
            ],
            [
             0.1111111111111111,
             "#46039f"
            ],
            [
             0.2222222222222222,
             "#7201a8"
            ],
            [
             0.3333333333333333,
             "#9c179e"
            ],
            [
             0.4444444444444444,
             "#bd3786"
            ],
            [
             0.5555555555555556,
             "#d8576b"
            ],
            [
             0.6666666666666666,
             "#ed7953"
            ],
            [
             0.7777777777777778,
             "#fb9f3a"
            ],
            [
             0.8888888888888888,
             "#fdca26"
            ],
            [
             1,
             "#f0f921"
            ]
           ],
           "sequentialminus": [
            [
             0,
             "#0d0887"
            ],
            [
             0.1111111111111111,
             "#46039f"
            ],
            [
             0.2222222222222222,
             "#7201a8"
            ],
            [
             0.3333333333333333,
             "#9c179e"
            ],
            [
             0.4444444444444444,
             "#bd3786"
            ],
            [
             0.5555555555555556,
             "#d8576b"
            ],
            [
             0.6666666666666666,
             "#ed7953"
            ],
            [
             0.7777777777777778,
             "#fb9f3a"
            ],
            [
             0.8888888888888888,
             "#fdca26"
            ],
            [
             1,
             "#f0f921"
            ]
           ]
          },
          "colorway": [
           "#636efa",
           "#EF553B",
           "#00cc96",
           "#ab63fa",
           "#FFA15A",
           "#19d3f3",
           "#FF6692",
           "#B6E880",
           "#FF97FF",
           "#FECB52"
          ],
          "font": {
           "color": "#2a3f5f"
          },
          "geo": {
           "bgcolor": "white",
           "lakecolor": "white",
           "landcolor": "#E5ECF6",
           "showlakes": true,
           "showland": true,
           "subunitcolor": "white"
          },
          "hoverlabel": {
           "align": "left"
          },
          "hovermode": "closest",
          "mapbox": {
           "style": "light"
          },
          "paper_bgcolor": "white",
          "plot_bgcolor": "#E5ECF6",
          "polar": {
           "angularaxis": {
            "gridcolor": "white",
            "linecolor": "white",
            "ticks": ""
           },
           "bgcolor": "#E5ECF6",
           "radialaxis": {
            "gridcolor": "white",
            "linecolor": "white",
            "ticks": ""
           }
          },
          "scene": {
           "xaxis": {
            "backgroundcolor": "#E5ECF6",
            "gridcolor": "white",
            "gridwidth": 2,
            "linecolor": "white",
            "showbackground": true,
            "ticks": "",
            "zerolinecolor": "white"
           },
           "yaxis": {
            "backgroundcolor": "#E5ECF6",
            "gridcolor": "white",
            "gridwidth": 2,
            "linecolor": "white",
            "showbackground": true,
            "ticks": "",
            "zerolinecolor": "white"
           },
           "zaxis": {
            "backgroundcolor": "#E5ECF6",
            "gridcolor": "white",
            "gridwidth": 2,
            "linecolor": "white",
            "showbackground": true,
            "ticks": "",
            "zerolinecolor": "white"
           }
          },
          "shapedefaults": {
           "line": {
            "color": "#2a3f5f"
           }
          },
          "ternary": {
           "aaxis": {
            "gridcolor": "white",
            "linecolor": "white",
            "ticks": ""
           },
           "baxis": {
            "gridcolor": "white",
            "linecolor": "white",
            "ticks": ""
           },
           "bgcolor": "#E5ECF6",
           "caxis": {
            "gridcolor": "white",
            "linecolor": "white",
            "ticks": ""
           }
          },
          "title": {
           "x": 0.05
          },
          "xaxis": {
           "automargin": true,
           "gridcolor": "white",
           "linecolor": "white",
           "ticks": "",
           "title": {
            "standoff": 15
           },
           "zerolinecolor": "white",
           "zerolinewidth": 2
          },
          "yaxis": {
           "automargin": true,
           "gridcolor": "white",
           "linecolor": "white",
           "ticks": "",
           "title": {
            "standoff": 15
           },
           "zerolinecolor": "white",
           "zerolinewidth": 2
          }
         }
        },
        "title": {
         "font": {
          "color": "#4D5663"
         }
        },
        "xaxis": {
         "anchor": "y",
         "domain": [
          0,
          0.2125
         ],
         "gridcolor": "#E1E5ED",
         "showgrid": false,
         "tickfont": {
          "color": "#4D5663"
         },
         "title": {
          "font": {
           "color": "#4D5663"
          },
          "text": ""
         },
         "zerolinecolor": "#E1E5ED"
        },
        "xaxis10": {
         "anchor": "y10",
         "domain": [
          0.2625,
          0.475
         ],
         "gridcolor": "#E1E5ED",
         "showgrid": false,
         "tickfont": {
          "color": "#4D5663"
         },
         "title": {
          "font": {
           "color": "#4D5663"
          },
          "text": ""
         },
         "zerolinecolor": "#E1E5ED"
        },
        "xaxis11": {
         "anchor": "y11",
         "domain": [
          0.525,
          0.7375
         ],
         "gridcolor": "#E1E5ED",
         "showgrid": false,
         "tickfont": {
          "color": "#4D5663"
         },
         "title": {
          "font": {
           "color": "#4D5663"
          },
          "text": ""
         },
         "zerolinecolor": "#E1E5ED"
        },
        "xaxis12": {
         "anchor": "y12",
         "domain": [
          0.7875,
          1
         ],
         "gridcolor": "#E1E5ED",
         "showgrid": false,
         "tickfont": {
          "color": "#4D5663"
         },
         "title": {
          "font": {
           "color": "#4D5663"
          },
          "text": ""
         },
         "zerolinecolor": "#E1E5ED"
        },
        "xaxis13": {
         "anchor": "y13",
         "domain": [
          0,
          0.2125
         ],
         "gridcolor": "#E1E5ED",
         "showgrid": false,
         "tickfont": {
          "color": "#4D5663"
         },
         "title": {
          "font": {
           "color": "#4D5663"
          },
          "text": ""
         },
         "zerolinecolor": "#E1E5ED"
        },
        "xaxis14": {
         "anchor": "y14",
         "domain": [
          0.2625,
          0.475
         ],
         "gridcolor": "#E1E5ED",
         "showgrid": false,
         "tickfont": {
          "color": "#4D5663"
         },
         "title": {
          "font": {
           "color": "#4D5663"
          },
          "text": ""
         },
         "zerolinecolor": "#E1E5ED"
        },
        "xaxis15": {
         "anchor": "y15",
         "domain": [
          0.525,
          0.7375
         ],
         "gridcolor": "#E1E5ED",
         "showgrid": false,
         "tickfont": {
          "color": "#4D5663"
         },
         "title": {
          "font": {
           "color": "#4D5663"
          },
          "text": ""
         },
         "zerolinecolor": "#E1E5ED"
        },
        "xaxis16": {
         "anchor": "y16",
         "domain": [
          0.7875,
          1
         ],
         "gridcolor": "#E1E5ED",
         "showgrid": false,
         "tickfont": {
          "color": "#4D5663"
         },
         "title": {
          "font": {
           "color": "#4D5663"
          },
          "text": ""
         },
         "zerolinecolor": "#E1E5ED"
        },
        "xaxis2": {
         "anchor": "y2",
         "domain": [
          0.2625,
          0.475
         ],
         "gridcolor": "#E1E5ED",
         "showgrid": false,
         "tickfont": {
          "color": "#4D5663"
         },
         "title": {
          "font": {
           "color": "#4D5663"
          },
          "text": ""
         },
         "zerolinecolor": "#E1E5ED"
        },
        "xaxis3": {
         "anchor": "y3",
         "domain": [
          0.525,
          0.7375
         ],
         "gridcolor": "#E1E5ED",
         "showgrid": false,
         "tickfont": {
          "color": "#4D5663"
         },
         "title": {
          "font": {
           "color": "#4D5663"
          },
          "text": ""
         },
         "zerolinecolor": "#E1E5ED"
        },
        "xaxis4": {
         "anchor": "y4",
         "domain": [
          0.7875,
          1
         ],
         "gridcolor": "#E1E5ED",
         "showgrid": false,
         "tickfont": {
          "color": "#4D5663"
         },
         "title": {
          "font": {
           "color": "#4D5663"
          },
          "text": ""
         },
         "zerolinecolor": "#E1E5ED"
        },
        "xaxis5": {
         "anchor": "y5",
         "domain": [
          0,
          0.2125
         ],
         "gridcolor": "#E1E5ED",
         "showgrid": false,
         "tickfont": {
          "color": "#4D5663"
         },
         "title": {
          "font": {
           "color": "#4D5663"
          },
          "text": ""
         },
         "zerolinecolor": "#E1E5ED"
        },
        "xaxis6": {
         "anchor": "y6",
         "domain": [
          0.2625,
          0.475
         ],
         "gridcolor": "#E1E5ED",
         "showgrid": false,
         "tickfont": {
          "color": "#4D5663"
         },
         "title": {
          "font": {
           "color": "#4D5663"
          },
          "text": ""
         },
         "zerolinecolor": "#E1E5ED"
        },
        "xaxis7": {
         "anchor": "y7",
         "domain": [
          0.525,
          0.7375
         ],
         "gridcolor": "#E1E5ED",
         "showgrid": false,
         "tickfont": {
          "color": "#4D5663"
         },
         "title": {
          "font": {
           "color": "#4D5663"
          },
          "text": ""
         },
         "zerolinecolor": "#E1E5ED"
        },
        "xaxis8": {
         "anchor": "y8",
         "domain": [
          0.7875,
          1
         ],
         "gridcolor": "#E1E5ED",
         "showgrid": false,
         "tickfont": {
          "color": "#4D5663"
         },
         "title": {
          "font": {
           "color": "#4D5663"
          },
          "text": ""
         },
         "zerolinecolor": "#E1E5ED"
        },
        "xaxis9": {
         "anchor": "y9",
         "domain": [
          0,
          0.2125
         ],
         "gridcolor": "#E1E5ED",
         "showgrid": false,
         "tickfont": {
          "color": "#4D5663"
         },
         "title": {
          "font": {
           "color": "#4D5663"
          },
          "text": ""
         },
         "zerolinecolor": "#E1E5ED"
        },
        "yaxis": {
         "anchor": "x",
         "domain": [
          0.8025,
          1
         ],
         "gridcolor": "#E1E5ED",
         "showgrid": false,
         "tickfont": {
          "color": "#4D5663"
         },
         "title": {
          "font": {
           "color": "#4D5663"
          },
          "text": ""
         },
         "zerolinecolor": "#E1E5ED"
        },
        "yaxis10": {
         "anchor": "x10",
         "domain": [
          0.2675,
          0.465
         ],
         "gridcolor": "#E1E5ED",
         "showgrid": false,
         "tickfont": {
          "color": "#4D5663"
         },
         "title": {
          "font": {
           "color": "#4D5663"
          },
          "text": ""
         },
         "zerolinecolor": "#E1E5ED"
        },
        "yaxis11": {
         "anchor": "x11",
         "domain": [
          0.2675,
          0.465
         ],
         "gridcolor": "#E1E5ED",
         "showgrid": false,
         "tickfont": {
          "color": "#4D5663"
         },
         "title": {
          "font": {
           "color": "#4D5663"
          },
          "text": ""
         },
         "zerolinecolor": "#E1E5ED"
        },
        "yaxis12": {
         "anchor": "x12",
         "domain": [
          0.2675,
          0.465
         ],
         "gridcolor": "#E1E5ED",
         "showgrid": false,
         "tickfont": {
          "color": "#4D5663"
         },
         "title": {
          "font": {
           "color": "#4D5663"
          },
          "text": ""
         },
         "zerolinecolor": "#E1E5ED"
        },
        "yaxis13": {
         "anchor": "x13",
         "domain": [
          0,
          0.1975
         ],
         "gridcolor": "#E1E5ED",
         "showgrid": false,
         "tickfont": {
          "color": "#4D5663"
         },
         "title": {
          "font": {
           "color": "#4D5663"
          },
          "text": ""
         },
         "zerolinecolor": "#E1E5ED"
        },
        "yaxis14": {
         "anchor": "x14",
         "domain": [
          0,
          0.1975
         ],
         "gridcolor": "#E1E5ED",
         "showgrid": false,
         "tickfont": {
          "color": "#4D5663"
         },
         "title": {
          "font": {
           "color": "#4D5663"
          },
          "text": ""
         },
         "zerolinecolor": "#E1E5ED"
        },
        "yaxis15": {
         "anchor": "x15",
         "domain": [
          0,
          0.1975
         ],
         "gridcolor": "#E1E5ED",
         "showgrid": false,
         "tickfont": {
          "color": "#4D5663"
         },
         "title": {
          "font": {
           "color": "#4D5663"
          },
          "text": ""
         },
         "zerolinecolor": "#E1E5ED"
        },
        "yaxis16": {
         "anchor": "x16",
         "domain": [
          0,
          0.1975
         ],
         "gridcolor": "#E1E5ED",
         "showgrid": false,
         "tickfont": {
          "color": "#4D5663"
         },
         "title": {
          "font": {
           "color": "#4D5663"
          },
          "text": ""
         },
         "zerolinecolor": "#E1E5ED"
        },
        "yaxis2": {
         "anchor": "x2",
         "domain": [
          0.8025,
          1
         ],
         "gridcolor": "#E1E5ED",
         "showgrid": false,
         "tickfont": {
          "color": "#4D5663"
         },
         "title": {
          "font": {
           "color": "#4D5663"
          },
          "text": ""
         },
         "zerolinecolor": "#E1E5ED"
        },
        "yaxis3": {
         "anchor": "x3",
         "domain": [
          0.8025,
          1
         ],
         "gridcolor": "#E1E5ED",
         "showgrid": false,
         "tickfont": {
          "color": "#4D5663"
         },
         "title": {
          "font": {
           "color": "#4D5663"
          },
          "text": ""
         },
         "zerolinecolor": "#E1E5ED"
        },
        "yaxis4": {
         "anchor": "x4",
         "domain": [
          0.8025,
          1
         ],
         "gridcolor": "#E1E5ED",
         "showgrid": false,
         "tickfont": {
          "color": "#4D5663"
         },
         "title": {
          "font": {
           "color": "#4D5663"
          },
          "text": ""
         },
         "zerolinecolor": "#E1E5ED"
        },
        "yaxis5": {
         "anchor": "x5",
         "domain": [
          0.535,
          0.7325
         ],
         "gridcolor": "#E1E5ED",
         "showgrid": false,
         "tickfont": {
          "color": "#4D5663"
         },
         "title": {
          "font": {
           "color": "#4D5663"
          },
          "text": ""
         },
         "zerolinecolor": "#E1E5ED"
        },
        "yaxis6": {
         "anchor": "x6",
         "domain": [
          0.535,
          0.7325
         ],
         "gridcolor": "#E1E5ED",
         "showgrid": false,
         "tickfont": {
          "color": "#4D5663"
         },
         "title": {
          "font": {
           "color": "#4D5663"
          },
          "text": ""
         },
         "zerolinecolor": "#E1E5ED"
        },
        "yaxis7": {
         "anchor": "x7",
         "domain": [
          0.535,
          0.7325
         ],
         "gridcolor": "#E1E5ED",
         "showgrid": false,
         "tickfont": {
          "color": "#4D5663"
         },
         "title": {
          "font": {
           "color": "#4D5663"
          },
          "text": ""
         },
         "zerolinecolor": "#E1E5ED"
        },
        "yaxis8": {
         "anchor": "x8",
         "domain": [
          0.535,
          0.7325
         ],
         "gridcolor": "#E1E5ED",
         "showgrid": false,
         "tickfont": {
          "color": "#4D5663"
         },
         "title": {
          "font": {
           "color": "#4D5663"
          },
          "text": ""
         },
         "zerolinecolor": "#E1E5ED"
        },
        "yaxis9": {
         "anchor": "x9",
         "domain": [
          0.2675,
          0.465
         ],
         "gridcolor": "#E1E5ED",
         "showgrid": false,
         "tickfont": {
          "color": "#4D5663"
         },
         "title": {
          "font": {
           "color": "#4D5663"
          },
          "text": ""
         },
         "zerolinecolor": "#E1E5ED"
        }
       }
      },
      "text/html": [
       "<div>                            <div id=\"7a2386d4-6b8e-4bd3-827e-8886af6ce5ed\" class=\"plotly-graph-div\" style=\"height:525px; width:100%;\"></div>            <script type=\"text/javascript\">                require([\"plotly\"], function(Plotly) {                    window.PLOTLYENV=window.PLOTLYENV || {};\n",
       "                    window.PLOTLYENV.BASE_URL='https://plot.ly';                                    if (document.getElementById(\"7a2386d4-6b8e-4bd3-827e-8886af6ce5ed\")) {                    Plotly.newPlot(                        \"7a2386d4-6b8e-4bd3-827e-8886af6ce5ed\",                        [{\"histfunc\":\"count\",\"histnorm\":\"\",\"marker\":{\"color\":\"rgba(255, 153, 51, 1.0)\",\"line\":{\"color\":\"#4D5663\",\"width\":1.3}},\"name\":\"A\",\"nbinsx\":10,\"opacity\":0.8,\"orientation\":\"v\",\"x\":[-1.4747380955937974,0.28725077112417235,-1.6568846794720122,1.381720942647079,0.3657833365094521,0.026008073073972172,-0.5109681143770874,-0.30968695071839253,0.08056276720583924,1.2206461655280683,-1.0044961445651543,-0.7086123871501985,-0.3032080480213653,-0.4681810010400497,0.4883380048432973,-1.0568975335865904,-0.6478951720409023,-1.1006335991216396,-1.1084672870151069,1.0115169993247746,0.8628879534962799,0.49107556584687034,-0.21460151922209592,-0.21167224031379164,-1.0868280793928702,0.1813077457259262,1.6048411477507714,-1.1129128593443407,0.13510904054871198,0.7363175261488993,0.30133889718720347,1.0968390103774157,-0.9215941053119098,1.1452096988910712,-0.0969211977387717,0.7832229582485118,1.0531791723051949,-0.6663370851946934,-0.7282508718905567,-1.688787692138687,0.2592955164616916,-0.35251940357111267,0.5255678646250175,0.1591013061134092,1.6392683058616393,-0.7594873429459711,0.3571677103292569,-1.9129516673080214,0.2812674212385775,2.9443484953104657,-1.2668238549208235,0.41322784242257693,1.206697949804835,1.0295637127428512,0.42415314431239537,-1.234242731046262,-0.005177234655683374,0.40215839443750323,0.5734568360798693,-0.981071428153688,-1.044181132406017,-0.5455429283558031,0.8723741296130654,-1.7382678852503126,-2.394203349842937,1.1200094352775187,-0.6221419105120386,0.28050386485521667,-0.21614849790735982,-0.5457390506690335,-2.3191277297140607,1.3524213867671204,0.12594824702172094,-0.02781084118179256,-1.0121863416508705,-0.1346075258918912,-0.2161185225683815,-1.4044793440674315,0.5103800616622387,-0.26035603985135364,0.7128604943441633,-0.09028399432601468,0.5214049330304661,-0.050307547047459246,-0.139890323143218,-1.2155801358748424,0.9627948608905095,0.8801238599064668,0.020185320431986706,1.6625023152013685,0.3816936279691013,0.34509760366963216,0.37972886845205844,0.4258913685657802,-0.22863620193291423,-1.4886214993845972,0.5486315743498743,-0.37552303459747266,-1.7087243821390654,-0.047214690067770786],\"xaxis\":\"x\",\"yaxis\":\"y\",\"type\":\"histogram\"},{\"line\":{\"color\":\"rgba(128, 128, 128, 1.0)\",\"dash\":\"solid\",\"shape\":\"linear\",\"width\":1.3},\"marker\":{\"size\":2,\"symbol\":\"circle\"},\"mode\":\"markers\",\"name\":\"A\",\"text\":\"\",\"x\":[0.21816361565301612,-0.18311601650778261,-0.8722852429063794,0.7996321791414022,1.4830013794585655,-1.8513851087254878,1.613906454791288,-1.5827358120075996,-0.2852339752587739,-1.1655837011030066,-1.3316526305662248,-0.058152616565652196,0.06088486005099269,-1.8538715257905751,-0.10795630868630458,-0.5169453758367406,0.05896114763704862,1.937674579815131,-0.43586910750577423,0.6301701523533102,0.2487690009306954,-0.5768590175830137,-0.23048178855369697,1.5829241162079017,-0.7064465895575457,-0.07800414606637208,0.9267040564138606,-0.9945444848093137,1.5232090046065017,0.5724140410636237,-0.5824132253983889,1.4758903927481846,0.7894141470303264,-0.34231970058963407,-0.7810319671697296,0.2072844838228586,-0.5588365519503141,-0.38971140833812906,0.21785672555286356,1.0289889419787783,-1.3145327761543142,0.18482300394128667,0.325360903405271,0.8234367426244258,0.7549608081461314,-0.24592878896044312,-0.8898589213424684,1.1296498601309384,-0.7646354208473364,-1.7613727579525837,-0.007885085352440032,-0.6550676125914235,-1.5382251668563758,2.9664757064106833,0.05136220368240336,0.9053762889413747,-0.9014199037894448,0.14416787795095554,0.5772481753295273,1.00066627733789,-1.484677774151373,-1.0470748306972992,-1.0394473595670013,1.0139539314489332,-0.2266635690751747,-2.906894044978705,0.3866286493770684,-0.22145896800858503,0.2723182682770941,-0.23515963148068272,-0.8867866717522348,-0.017926170650252895,0.1202193588446371,0.5167784095259662,-1.1692508750791701,0.12401321928940981,-0.7738107387476351,-0.9566254708018384,-0.26444548631561315,-1.6766931874405588,-1.5626958822528276,-1.0537752027800056,0.01008372961374793,0.07867473793517019,-1.6967402907609725,-1.896581525083377,-0.9524305910705916,0.9152100476428011,0.5403263954180979,-1.1951744668940307,-0.7586988875890001,-2.764229500397465,-1.058834908427951,-1.211320125788323,-1.4017384442446392,0.31423912897978823,0.40750676142202613,-0.12272730770175873,-0.16912280770312685,-0.17788138935751074],\"xaxis\":\"x2\",\"y\":[-1.4747380955937974,0.28725077112417235,-1.6568846794720122,1.381720942647079,0.3657833365094521,0.026008073073972172,-0.5109681143770874,-0.30968695071839253,0.08056276720583924,1.2206461655280683,-1.0044961445651543,-0.7086123871501985,-0.3032080480213653,-0.4681810010400497,0.4883380048432973,-1.0568975335865904,-0.6478951720409023,-1.1006335991216396,-1.1084672870151069,1.0115169993247746,0.8628879534962799,0.49107556584687034,-0.21460151922209592,-0.21167224031379164,-1.0868280793928702,0.1813077457259262,1.6048411477507714,-1.1129128593443407,0.13510904054871198,0.7363175261488993,0.30133889718720347,1.0968390103774157,-0.9215941053119098,1.1452096988910712,-0.0969211977387717,0.7832229582485118,1.0531791723051949,-0.6663370851946934,-0.7282508718905567,-1.688787692138687,0.2592955164616916,-0.35251940357111267,0.5255678646250175,0.1591013061134092,1.6392683058616393,-0.7594873429459711,0.3571677103292569,-1.9129516673080214,0.2812674212385775,2.9443484953104657,-1.2668238549208235,0.41322784242257693,1.206697949804835,1.0295637127428512,0.42415314431239537,-1.234242731046262,-0.005177234655683374,0.40215839443750323,0.5734568360798693,-0.981071428153688,-1.044181132406017,-0.5455429283558031,0.8723741296130654,-1.7382678852503126,-2.394203349842937,1.1200094352775187,-0.6221419105120386,0.28050386485521667,-0.21614849790735982,-0.5457390506690335,-2.3191277297140607,1.3524213867671204,0.12594824702172094,-0.02781084118179256,-1.0121863416508705,-0.1346075258918912,-0.2161185225683815,-1.4044793440674315,0.5103800616622387,-0.26035603985135364,0.7128604943441633,-0.09028399432601468,0.5214049330304661,-0.050307547047459246,-0.139890323143218,-1.2155801358748424,0.9627948608905095,0.8801238599064668,0.020185320431986706,1.6625023152013685,0.3816936279691013,0.34509760366963216,0.37972886845205844,0.4258913685657802,-0.22863620193291423,-1.4886214993845972,0.5486315743498743,-0.37552303459747266,-1.7087243821390654,-0.047214690067770786],\"yaxis\":\"y2\",\"type\":\"scatter\"},{\"line\":{\"color\":\"rgba(128, 128, 128, 1.0)\",\"dash\":\"solid\",\"shape\":\"linear\",\"width\":1.3},\"marker\":{\"size\":2,\"symbol\":\"circle\"},\"mode\":\"markers\",\"name\":\"A\",\"text\":\"\",\"x\":[1.7377773904002787,-0.22395400729530127,0.1820734116872276,-0.7942279663986247,0.5582198101989171,0.8557186514611376,-0.4566546028122543,-0.4486886613225603,-0.462033243406978,1.7693450636612906,0.8493771531423921,-0.46690670588043465,0.6681701784956612,1.487470466970359,-1.592710230729672,-0.8893560759048776,0.9974415506640023,-0.11815807269381176,0.39085583078090946,-0.8678648114268143,-1.3232130718608561,1.2296438297962131,-1.7049252038650233,-0.1278833761359411,-0.9852621101243801,1.4511004245694241,-0.5107422042065087,0.35540352015450555,0.4608476569044969,0.4486668143051865,1.7038458179890796,1.2874981058355235,0.008172266049143288,1.3403757810053207,-0.48959248911528613,0.5761572892581875,-1.158663472942153,-2.3934735618828453,-2.0473455770351485,0.04363192875061731,0.9613481148956818,-0.23020568673440028,0.5268156949610865,0.9249023465550501,-0.23049076961016352,0.27160019016029285,0.34585203246608587,0.8663998050975331,-0.9774447107233512,-0.49791242970244515,-1.879355292075668,1.9648131850176263,-0.27336146294076935,0.4402545510186216,0.7274920462854855,0.26784305740453795,1.5272195480486723,-0.11650576271574038,1.203757674131996,-0.2400098004413862,0.5559898896596926,-0.25173079089603434,-0.17630458831284046,-0.584550466794726,1.3225811578308335,0.7294619170549295,0.7943615257625641,0.27209621340875817,-1.5785477719864265,0.3727682581763358,1.4550313417369363,1.3084602131497813,1.6908326835822265,-0.6751489947318258,-2.064870035828138,0.4935165233388467,0.8466278348395803,0.14975934344387587,-0.38709899368579576,-0.4914009940136751,-0.5018286362538411,-0.6533088785680246,1.054829047519902,0.49530987239203966,-0.021789443961921257,0.34301971407163234,0.384615463775324,-0.5202573280889718,0.955766575232318,0.47481063499827153,-0.4096097700355144,-0.7890433274251037,-1.3225480834101921,-1.4704335995087472,0.402125007984368,-0.7854528677118743,-0.8182638218352324,1.0890802638091794,0.39325131265035485,0.19159205137621324],\"xaxis\":\"x3\",\"y\":[-1.4747380955937974,0.28725077112417235,-1.6568846794720122,1.381720942647079,0.3657833365094521,0.026008073073972172,-0.5109681143770874,-0.30968695071839253,0.08056276720583924,1.2206461655280683,-1.0044961445651543,-0.7086123871501985,-0.3032080480213653,-0.4681810010400497,0.4883380048432973,-1.0568975335865904,-0.6478951720409023,-1.1006335991216396,-1.1084672870151069,1.0115169993247746,0.8628879534962799,0.49107556584687034,-0.21460151922209592,-0.21167224031379164,-1.0868280793928702,0.1813077457259262,1.6048411477507714,-1.1129128593443407,0.13510904054871198,0.7363175261488993,0.30133889718720347,1.0968390103774157,-0.9215941053119098,1.1452096988910712,-0.0969211977387717,0.7832229582485118,1.0531791723051949,-0.6663370851946934,-0.7282508718905567,-1.688787692138687,0.2592955164616916,-0.35251940357111267,0.5255678646250175,0.1591013061134092,1.6392683058616393,-0.7594873429459711,0.3571677103292569,-1.9129516673080214,0.2812674212385775,2.9443484953104657,-1.2668238549208235,0.41322784242257693,1.206697949804835,1.0295637127428512,0.42415314431239537,-1.234242731046262,-0.005177234655683374,0.40215839443750323,0.5734568360798693,-0.981071428153688,-1.044181132406017,-0.5455429283558031,0.8723741296130654,-1.7382678852503126,-2.394203349842937,1.1200094352775187,-0.6221419105120386,0.28050386485521667,-0.21614849790735982,-0.5457390506690335,-2.3191277297140607,1.3524213867671204,0.12594824702172094,-0.02781084118179256,-1.0121863416508705,-0.1346075258918912,-0.2161185225683815,-1.4044793440674315,0.5103800616622387,-0.26035603985135364,0.7128604943441633,-0.09028399432601468,0.5214049330304661,-0.050307547047459246,-0.139890323143218,-1.2155801358748424,0.9627948608905095,0.8801238599064668,0.020185320431986706,1.6625023152013685,0.3816936279691013,0.34509760366963216,0.37972886845205844,0.4258913685657802,-0.22863620193291423,-1.4886214993845972,0.5486315743498743,-0.37552303459747266,-1.7087243821390654,-0.047214690067770786],\"yaxis\":\"y3\",\"type\":\"scatter\"},{\"line\":{\"color\":\"rgba(128, 128, 128, 1.0)\",\"dash\":\"solid\",\"shape\":\"linear\",\"width\":1.3},\"marker\":{\"size\":2,\"symbol\":\"circle\"},\"mode\":\"markers\",\"name\":\"A\",\"text\":\"\",\"x\":[-0.9898978880621447,-0.15653251538155546,1.1350151984266963,0.4330113225398728,-0.22662361863857208,1.2147557315772484,-1.0954533355276945,0.056981130154462885,1.085174429985138,0.14699559311323226,-0.49897601646505985,1.1989909816632942,0.6333982183822553,-0.9858404019714517,0.9646473937157795,-0.29878447694620397,0.038219071625085144,-1.7977606542818454,2.4301625828708593,-1.4225971964401587,-2.0545116148098432,-0.5543603071865605,-0.6588505749295496,1.2513627887378793,-0.8137948207943052,1.0422064628802337,-0.45192461570495496,-0.6497801405399549,-1.056516347348047,0.20440307609406713,1.0548270254772918,-0.570416040564116,0.6746325877971175,-0.4756361340610073,-0.7551924202762499,0.78069243348289,0.16415385377231234,-0.28675334369218347,0.30529160399932065,-0.2862858687531363,0.823671579756582,0.009792660113371647,0.3733208164001366,1.1993466973961242,-0.6027492101400286,-0.27046930406674846,-0.27937197120297924,-0.04930455118166517,0.0722552739941226,-1.4694929069425693,-0.6746960168843232,-0.6104468398467007,0.31013922462091476,-0.13520219674899842,1.2810838143310053,0.6346761225549629,0.6660497298057801,0.56872629264876,-0.71933362951576,0.016502895779975293,-1.2366498860403936,0.8115178064397559,0.8837234466172698,0.8352577811979678,1.3232430932241368,0.47543627781600223,0.08657443799251735,-1.039525159095973,0.48091097057485427,0.127197970073491,-1.745338456585933,-1.0008593606324803,-1.2375741669575637,-0.2676094462039642,0.029590830119454816,0.09694160474868284,-0.3623762651099337,-1.687778267088628,0.36560118017894544,-1.0608584180118896,0.24275606912664235,1.2723543462803888,0.8959132253067817,0.38105128916243275,-0.13942542910659975,0.004690457201917903,-1.5323061194361465,1.2902201186984674,-0.1675177290969658,-1.099215093653179,0.38281596578233895,-0.398418999693859,0.32140117646225186,0.36649377203199307,0.08223321776600259,-2.552523055574907,-0.7806267829411238,-0.27503823292083457,-1.5121006401915777,-0.421854097454241],\"xaxis\":\"x4\",\"y\":[-1.4747380955937974,0.28725077112417235,-1.6568846794720122,1.381720942647079,0.3657833365094521,0.026008073073972172,-0.5109681143770874,-0.30968695071839253,0.08056276720583924,1.2206461655280683,-1.0044961445651543,-0.7086123871501985,-0.3032080480213653,-0.4681810010400497,0.4883380048432973,-1.0568975335865904,-0.6478951720409023,-1.1006335991216396,-1.1084672870151069,1.0115169993247746,0.8628879534962799,0.49107556584687034,-0.21460151922209592,-0.21167224031379164,-1.0868280793928702,0.1813077457259262,1.6048411477507714,-1.1129128593443407,0.13510904054871198,0.7363175261488993,0.30133889718720347,1.0968390103774157,-0.9215941053119098,1.1452096988910712,-0.0969211977387717,0.7832229582485118,1.0531791723051949,-0.6663370851946934,-0.7282508718905567,-1.688787692138687,0.2592955164616916,-0.35251940357111267,0.5255678646250175,0.1591013061134092,1.6392683058616393,-0.7594873429459711,0.3571677103292569,-1.9129516673080214,0.2812674212385775,2.9443484953104657,-1.2668238549208235,0.41322784242257693,1.206697949804835,1.0295637127428512,0.42415314431239537,-1.234242731046262,-0.005177234655683374,0.40215839443750323,0.5734568360798693,-0.981071428153688,-1.044181132406017,-0.5455429283558031,0.8723741296130654,-1.7382678852503126,-2.394203349842937,1.1200094352775187,-0.6221419105120386,0.28050386485521667,-0.21614849790735982,-0.5457390506690335,-2.3191277297140607,1.3524213867671204,0.12594824702172094,-0.02781084118179256,-1.0121863416508705,-0.1346075258918912,-0.2161185225683815,-1.4044793440674315,0.5103800616622387,-0.26035603985135364,0.7128604943441633,-0.09028399432601468,0.5214049330304661,-0.050307547047459246,-0.139890323143218,-1.2155801358748424,0.9627948608905095,0.8801238599064668,0.020185320431986706,1.6625023152013685,0.3816936279691013,0.34509760366963216,0.37972886845205844,0.4258913685657802,-0.22863620193291423,-1.4886214993845972,0.5486315743498743,-0.37552303459747266,-1.7087243821390654,-0.047214690067770786],\"yaxis\":\"y4\",\"type\":\"scatter\"},{\"line\":{\"color\":\"rgba(128, 128, 128, 1.0)\",\"dash\":\"solid\",\"shape\":\"linear\",\"width\":1.3},\"marker\":{\"size\":2,\"symbol\":\"circle\"},\"mode\":\"markers\",\"name\":\"B\",\"text\":\"\",\"x\":[-1.4747380955937974,0.28725077112417235,-1.6568846794720122,1.381720942647079,0.3657833365094521,0.026008073073972172,-0.5109681143770874,-0.30968695071839253,0.08056276720583924,1.2206461655280683,-1.0044961445651543,-0.7086123871501985,-0.3032080480213653,-0.4681810010400497,0.4883380048432973,-1.0568975335865904,-0.6478951720409023,-1.1006335991216396,-1.1084672870151069,1.0115169993247746,0.8628879534962799,0.49107556584687034,-0.21460151922209592,-0.21167224031379164,-1.0868280793928702,0.1813077457259262,1.6048411477507714,-1.1129128593443407,0.13510904054871198,0.7363175261488993,0.30133889718720347,1.0968390103774157,-0.9215941053119098,1.1452096988910712,-0.0969211977387717,0.7832229582485118,1.0531791723051949,-0.6663370851946934,-0.7282508718905567,-1.688787692138687,0.2592955164616916,-0.35251940357111267,0.5255678646250175,0.1591013061134092,1.6392683058616393,-0.7594873429459711,0.3571677103292569,-1.9129516673080214,0.2812674212385775,2.9443484953104657,-1.2668238549208235,0.41322784242257693,1.206697949804835,1.0295637127428512,0.42415314431239537,-1.234242731046262,-0.005177234655683374,0.40215839443750323,0.5734568360798693,-0.981071428153688,-1.044181132406017,-0.5455429283558031,0.8723741296130654,-1.7382678852503126,-2.394203349842937,1.1200094352775187,-0.6221419105120386,0.28050386485521667,-0.21614849790735982,-0.5457390506690335,-2.3191277297140607,1.3524213867671204,0.12594824702172094,-0.02781084118179256,-1.0121863416508705,-0.1346075258918912,-0.2161185225683815,-1.4044793440674315,0.5103800616622387,-0.26035603985135364,0.7128604943441633,-0.09028399432601468,0.5214049330304661,-0.050307547047459246,-0.139890323143218,-1.2155801358748424,0.9627948608905095,0.8801238599064668,0.020185320431986706,1.6625023152013685,0.3816936279691013,0.34509760366963216,0.37972886845205844,0.4258913685657802,-0.22863620193291423,-1.4886214993845972,0.5486315743498743,-0.37552303459747266,-1.7087243821390654,-0.047214690067770786],\"xaxis\":\"x5\",\"y\":[0.21816361565301612,-0.18311601650778261,-0.8722852429063794,0.7996321791414022,1.4830013794585655,-1.8513851087254878,1.613906454791288,-1.5827358120075996,-0.2852339752587739,-1.1655837011030066,-1.3316526305662248,-0.058152616565652196,0.06088486005099269,-1.8538715257905751,-0.10795630868630458,-0.5169453758367406,0.05896114763704862,1.937674579815131,-0.43586910750577423,0.6301701523533102,0.2487690009306954,-0.5768590175830137,-0.23048178855369697,1.5829241162079017,-0.7064465895575457,-0.07800414606637208,0.9267040564138606,-0.9945444848093137,1.5232090046065017,0.5724140410636237,-0.5824132253983889,1.4758903927481846,0.7894141470303264,-0.34231970058963407,-0.7810319671697296,0.2072844838228586,-0.5588365519503141,-0.38971140833812906,0.21785672555286356,1.0289889419787783,-1.3145327761543142,0.18482300394128667,0.325360903405271,0.8234367426244258,0.7549608081461314,-0.24592878896044312,-0.8898589213424684,1.1296498601309384,-0.7646354208473364,-1.7613727579525837,-0.007885085352440032,-0.6550676125914235,-1.5382251668563758,2.9664757064106833,0.05136220368240336,0.9053762889413747,-0.9014199037894448,0.14416787795095554,0.5772481753295273,1.00066627733789,-1.484677774151373,-1.0470748306972992,-1.0394473595670013,1.0139539314489332,-0.2266635690751747,-2.906894044978705,0.3866286493770684,-0.22145896800858503,0.2723182682770941,-0.23515963148068272,-0.8867866717522348,-0.017926170650252895,0.1202193588446371,0.5167784095259662,-1.1692508750791701,0.12401321928940981,-0.7738107387476351,-0.9566254708018384,-0.26444548631561315,-1.6766931874405588,-1.5626958822528276,-1.0537752027800056,0.01008372961374793,0.07867473793517019,-1.6967402907609725,-1.896581525083377,-0.9524305910705916,0.9152100476428011,0.5403263954180979,-1.1951744668940307,-0.7586988875890001,-2.764229500397465,-1.058834908427951,-1.211320125788323,-1.4017384442446392,0.31423912897978823,0.40750676142202613,-0.12272730770175873,-0.16912280770312685,-0.17788138935751074],\"yaxis\":\"y5\",\"type\":\"scatter\"},{\"histfunc\":\"count\",\"histnorm\":\"\",\"marker\":{\"color\":\"rgba(55, 128, 191, 1.0)\",\"line\":{\"color\":\"#4D5663\",\"width\":1.3}},\"name\":\"B\",\"nbinsx\":10,\"opacity\":0.8,\"orientation\":\"v\",\"x\":[0.21816361565301612,-0.18311601650778261,-0.8722852429063794,0.7996321791414022,1.4830013794585655,-1.8513851087254878,1.613906454791288,-1.5827358120075996,-0.2852339752587739,-1.1655837011030066,-1.3316526305662248,-0.058152616565652196,0.06088486005099269,-1.8538715257905751,-0.10795630868630458,-0.5169453758367406,0.05896114763704862,1.937674579815131,-0.43586910750577423,0.6301701523533102,0.2487690009306954,-0.5768590175830137,-0.23048178855369697,1.5829241162079017,-0.7064465895575457,-0.07800414606637208,0.9267040564138606,-0.9945444848093137,1.5232090046065017,0.5724140410636237,-0.5824132253983889,1.4758903927481846,0.7894141470303264,-0.34231970058963407,-0.7810319671697296,0.2072844838228586,-0.5588365519503141,-0.38971140833812906,0.21785672555286356,1.0289889419787783,-1.3145327761543142,0.18482300394128667,0.325360903405271,0.8234367426244258,0.7549608081461314,-0.24592878896044312,-0.8898589213424684,1.1296498601309384,-0.7646354208473364,-1.7613727579525837,-0.007885085352440032,-0.6550676125914235,-1.5382251668563758,2.9664757064106833,0.05136220368240336,0.9053762889413747,-0.9014199037894448,0.14416787795095554,0.5772481753295273,1.00066627733789,-1.484677774151373,-1.0470748306972992,-1.0394473595670013,1.0139539314489332,-0.2266635690751747,-2.906894044978705,0.3866286493770684,-0.22145896800858503,0.2723182682770941,-0.23515963148068272,-0.8867866717522348,-0.017926170650252895,0.1202193588446371,0.5167784095259662,-1.1692508750791701,0.12401321928940981,-0.7738107387476351,-0.9566254708018384,-0.26444548631561315,-1.6766931874405588,-1.5626958822528276,-1.0537752027800056,0.01008372961374793,0.07867473793517019,-1.6967402907609725,-1.896581525083377,-0.9524305910705916,0.9152100476428011,0.5403263954180979,-1.1951744668940307,-0.7586988875890001,-2.764229500397465,-1.058834908427951,-1.211320125788323,-1.4017384442446392,0.31423912897978823,0.40750676142202613,-0.12272730770175873,-0.16912280770312685,-0.17788138935751074],\"xaxis\":\"x6\",\"yaxis\":\"y6\",\"type\":\"histogram\"},{\"line\":{\"color\":\"rgba(128, 128, 128, 1.0)\",\"dash\":\"solid\",\"shape\":\"linear\",\"width\":1.3},\"marker\":{\"size\":2,\"symbol\":\"circle\"},\"mode\":\"markers\",\"name\":\"B\",\"text\":\"\",\"x\":[1.7377773904002787,-0.22395400729530127,0.1820734116872276,-0.7942279663986247,0.5582198101989171,0.8557186514611376,-0.4566546028122543,-0.4486886613225603,-0.462033243406978,1.7693450636612906,0.8493771531423921,-0.46690670588043465,0.6681701784956612,1.487470466970359,-1.592710230729672,-0.8893560759048776,0.9974415506640023,-0.11815807269381176,0.39085583078090946,-0.8678648114268143,-1.3232130718608561,1.2296438297962131,-1.7049252038650233,-0.1278833761359411,-0.9852621101243801,1.4511004245694241,-0.5107422042065087,0.35540352015450555,0.4608476569044969,0.4486668143051865,1.7038458179890796,1.2874981058355235,0.008172266049143288,1.3403757810053207,-0.48959248911528613,0.5761572892581875,-1.158663472942153,-2.3934735618828453,-2.0473455770351485,0.04363192875061731,0.9613481148956818,-0.23020568673440028,0.5268156949610865,0.9249023465550501,-0.23049076961016352,0.27160019016029285,0.34585203246608587,0.8663998050975331,-0.9774447107233512,-0.49791242970244515,-1.879355292075668,1.9648131850176263,-0.27336146294076935,0.4402545510186216,0.7274920462854855,0.26784305740453795,1.5272195480486723,-0.11650576271574038,1.203757674131996,-0.2400098004413862,0.5559898896596926,-0.25173079089603434,-0.17630458831284046,-0.584550466794726,1.3225811578308335,0.7294619170549295,0.7943615257625641,0.27209621340875817,-1.5785477719864265,0.3727682581763358,1.4550313417369363,1.3084602131497813,1.6908326835822265,-0.6751489947318258,-2.064870035828138,0.4935165233388467,0.8466278348395803,0.14975934344387587,-0.38709899368579576,-0.4914009940136751,-0.5018286362538411,-0.6533088785680246,1.054829047519902,0.49530987239203966,-0.021789443961921257,0.34301971407163234,0.384615463775324,-0.5202573280889718,0.955766575232318,0.47481063499827153,-0.4096097700355144,-0.7890433274251037,-1.3225480834101921,-1.4704335995087472,0.402125007984368,-0.7854528677118743,-0.8182638218352324,1.0890802638091794,0.39325131265035485,0.19159205137621324],\"xaxis\":\"x7\",\"y\":[0.21816361565301612,-0.18311601650778261,-0.8722852429063794,0.7996321791414022,1.4830013794585655,-1.8513851087254878,1.613906454791288,-1.5827358120075996,-0.2852339752587739,-1.1655837011030066,-1.3316526305662248,-0.058152616565652196,0.06088486005099269,-1.8538715257905751,-0.10795630868630458,-0.5169453758367406,0.05896114763704862,1.937674579815131,-0.43586910750577423,0.6301701523533102,0.2487690009306954,-0.5768590175830137,-0.23048178855369697,1.5829241162079017,-0.7064465895575457,-0.07800414606637208,0.9267040564138606,-0.9945444848093137,1.5232090046065017,0.5724140410636237,-0.5824132253983889,1.4758903927481846,0.7894141470303264,-0.34231970058963407,-0.7810319671697296,0.2072844838228586,-0.5588365519503141,-0.38971140833812906,0.21785672555286356,1.0289889419787783,-1.3145327761543142,0.18482300394128667,0.325360903405271,0.8234367426244258,0.7549608081461314,-0.24592878896044312,-0.8898589213424684,1.1296498601309384,-0.7646354208473364,-1.7613727579525837,-0.007885085352440032,-0.6550676125914235,-1.5382251668563758,2.9664757064106833,0.05136220368240336,0.9053762889413747,-0.9014199037894448,0.14416787795095554,0.5772481753295273,1.00066627733789,-1.484677774151373,-1.0470748306972992,-1.0394473595670013,1.0139539314489332,-0.2266635690751747,-2.906894044978705,0.3866286493770684,-0.22145896800858503,0.2723182682770941,-0.23515963148068272,-0.8867866717522348,-0.017926170650252895,0.1202193588446371,0.5167784095259662,-1.1692508750791701,0.12401321928940981,-0.7738107387476351,-0.9566254708018384,-0.26444548631561315,-1.6766931874405588,-1.5626958822528276,-1.0537752027800056,0.01008372961374793,0.07867473793517019,-1.6967402907609725,-1.896581525083377,-0.9524305910705916,0.9152100476428011,0.5403263954180979,-1.1951744668940307,-0.7586988875890001,-2.764229500397465,-1.058834908427951,-1.211320125788323,-1.4017384442446392,0.31423912897978823,0.40750676142202613,-0.12272730770175873,-0.16912280770312685,-0.17788138935751074],\"yaxis\":\"y7\",\"type\":\"scatter\"},{\"line\":{\"color\":\"rgba(128, 128, 128, 1.0)\",\"dash\":\"solid\",\"shape\":\"linear\",\"width\":1.3},\"marker\":{\"size\":2,\"symbol\":\"circle\"},\"mode\":\"markers\",\"name\":\"B\",\"text\":\"\",\"x\":[-0.9898978880621447,-0.15653251538155546,1.1350151984266963,0.4330113225398728,-0.22662361863857208,1.2147557315772484,-1.0954533355276945,0.056981130154462885,1.085174429985138,0.14699559311323226,-0.49897601646505985,1.1989909816632942,0.6333982183822553,-0.9858404019714517,0.9646473937157795,-0.29878447694620397,0.038219071625085144,-1.7977606542818454,2.4301625828708593,-1.4225971964401587,-2.0545116148098432,-0.5543603071865605,-0.6588505749295496,1.2513627887378793,-0.8137948207943052,1.0422064628802337,-0.45192461570495496,-0.6497801405399549,-1.056516347348047,0.20440307609406713,1.0548270254772918,-0.570416040564116,0.6746325877971175,-0.4756361340610073,-0.7551924202762499,0.78069243348289,0.16415385377231234,-0.28675334369218347,0.30529160399932065,-0.2862858687531363,0.823671579756582,0.009792660113371647,0.3733208164001366,1.1993466973961242,-0.6027492101400286,-0.27046930406674846,-0.27937197120297924,-0.04930455118166517,0.0722552739941226,-1.4694929069425693,-0.6746960168843232,-0.6104468398467007,0.31013922462091476,-0.13520219674899842,1.2810838143310053,0.6346761225549629,0.6660497298057801,0.56872629264876,-0.71933362951576,0.016502895779975293,-1.2366498860403936,0.8115178064397559,0.8837234466172698,0.8352577811979678,1.3232430932241368,0.47543627781600223,0.08657443799251735,-1.039525159095973,0.48091097057485427,0.127197970073491,-1.745338456585933,-1.0008593606324803,-1.2375741669575637,-0.2676094462039642,0.029590830119454816,0.09694160474868284,-0.3623762651099337,-1.687778267088628,0.36560118017894544,-1.0608584180118896,0.24275606912664235,1.2723543462803888,0.8959132253067817,0.38105128916243275,-0.13942542910659975,0.004690457201917903,-1.5323061194361465,1.2902201186984674,-0.1675177290969658,-1.099215093653179,0.38281596578233895,-0.398418999693859,0.32140117646225186,0.36649377203199307,0.08223321776600259,-2.552523055574907,-0.7806267829411238,-0.27503823292083457,-1.5121006401915777,-0.421854097454241],\"xaxis\":\"x8\",\"y\":[0.21816361565301612,-0.18311601650778261,-0.8722852429063794,0.7996321791414022,1.4830013794585655,-1.8513851087254878,1.613906454791288,-1.5827358120075996,-0.2852339752587739,-1.1655837011030066,-1.3316526305662248,-0.058152616565652196,0.06088486005099269,-1.8538715257905751,-0.10795630868630458,-0.5169453758367406,0.05896114763704862,1.937674579815131,-0.43586910750577423,0.6301701523533102,0.2487690009306954,-0.5768590175830137,-0.23048178855369697,1.5829241162079017,-0.7064465895575457,-0.07800414606637208,0.9267040564138606,-0.9945444848093137,1.5232090046065017,0.5724140410636237,-0.5824132253983889,1.4758903927481846,0.7894141470303264,-0.34231970058963407,-0.7810319671697296,0.2072844838228586,-0.5588365519503141,-0.38971140833812906,0.21785672555286356,1.0289889419787783,-1.3145327761543142,0.18482300394128667,0.325360903405271,0.8234367426244258,0.7549608081461314,-0.24592878896044312,-0.8898589213424684,1.1296498601309384,-0.7646354208473364,-1.7613727579525837,-0.007885085352440032,-0.6550676125914235,-1.5382251668563758,2.9664757064106833,0.05136220368240336,0.9053762889413747,-0.9014199037894448,0.14416787795095554,0.5772481753295273,1.00066627733789,-1.484677774151373,-1.0470748306972992,-1.0394473595670013,1.0139539314489332,-0.2266635690751747,-2.906894044978705,0.3866286493770684,-0.22145896800858503,0.2723182682770941,-0.23515963148068272,-0.8867866717522348,-0.017926170650252895,0.1202193588446371,0.5167784095259662,-1.1692508750791701,0.12401321928940981,-0.7738107387476351,-0.9566254708018384,-0.26444548631561315,-1.6766931874405588,-1.5626958822528276,-1.0537752027800056,0.01008372961374793,0.07867473793517019,-1.6967402907609725,-1.896581525083377,-0.9524305910705916,0.9152100476428011,0.5403263954180979,-1.1951744668940307,-0.7586988875890001,-2.764229500397465,-1.058834908427951,-1.211320125788323,-1.4017384442446392,0.31423912897978823,0.40750676142202613,-0.12272730770175873,-0.16912280770312685,-0.17788138935751074],\"yaxis\":\"y8\",\"type\":\"scatter\"},{\"line\":{\"color\":\"rgba(128, 128, 128, 1.0)\",\"dash\":\"solid\",\"shape\":\"linear\",\"width\":1.3},\"marker\":{\"size\":2,\"symbol\":\"circle\"},\"mode\":\"markers\",\"name\":\"C\",\"text\":\"\",\"x\":[-1.4747380955937974,0.28725077112417235,-1.6568846794720122,1.381720942647079,0.3657833365094521,0.026008073073972172,-0.5109681143770874,-0.30968695071839253,0.08056276720583924,1.2206461655280683,-1.0044961445651543,-0.7086123871501985,-0.3032080480213653,-0.4681810010400497,0.4883380048432973,-1.0568975335865904,-0.6478951720409023,-1.1006335991216396,-1.1084672870151069,1.0115169993247746,0.8628879534962799,0.49107556584687034,-0.21460151922209592,-0.21167224031379164,-1.0868280793928702,0.1813077457259262,1.6048411477507714,-1.1129128593443407,0.13510904054871198,0.7363175261488993,0.30133889718720347,1.0968390103774157,-0.9215941053119098,1.1452096988910712,-0.0969211977387717,0.7832229582485118,1.0531791723051949,-0.6663370851946934,-0.7282508718905567,-1.688787692138687,0.2592955164616916,-0.35251940357111267,0.5255678646250175,0.1591013061134092,1.6392683058616393,-0.7594873429459711,0.3571677103292569,-1.9129516673080214,0.2812674212385775,2.9443484953104657,-1.2668238549208235,0.41322784242257693,1.206697949804835,1.0295637127428512,0.42415314431239537,-1.234242731046262,-0.005177234655683374,0.40215839443750323,0.5734568360798693,-0.981071428153688,-1.044181132406017,-0.5455429283558031,0.8723741296130654,-1.7382678852503126,-2.394203349842937,1.1200094352775187,-0.6221419105120386,0.28050386485521667,-0.21614849790735982,-0.5457390506690335,-2.3191277297140607,1.3524213867671204,0.12594824702172094,-0.02781084118179256,-1.0121863416508705,-0.1346075258918912,-0.2161185225683815,-1.4044793440674315,0.5103800616622387,-0.26035603985135364,0.7128604943441633,-0.09028399432601468,0.5214049330304661,-0.050307547047459246,-0.139890323143218,-1.2155801358748424,0.9627948608905095,0.8801238599064668,0.020185320431986706,1.6625023152013685,0.3816936279691013,0.34509760366963216,0.37972886845205844,0.4258913685657802,-0.22863620193291423,-1.4886214993845972,0.5486315743498743,-0.37552303459747266,-1.7087243821390654,-0.047214690067770786],\"xaxis\":\"x9\",\"y\":[1.7377773904002787,-0.22395400729530127,0.1820734116872276,-0.7942279663986247,0.5582198101989171,0.8557186514611376,-0.4566546028122543,-0.4486886613225603,-0.462033243406978,1.7693450636612906,0.8493771531423921,-0.46690670588043465,0.6681701784956612,1.487470466970359,-1.592710230729672,-0.8893560759048776,0.9974415506640023,-0.11815807269381176,0.39085583078090946,-0.8678648114268143,-1.3232130718608561,1.2296438297962131,-1.7049252038650233,-0.1278833761359411,-0.9852621101243801,1.4511004245694241,-0.5107422042065087,0.35540352015450555,0.4608476569044969,0.4486668143051865,1.7038458179890796,1.2874981058355235,0.008172266049143288,1.3403757810053207,-0.48959248911528613,0.5761572892581875,-1.158663472942153,-2.3934735618828453,-2.0473455770351485,0.04363192875061731,0.9613481148956818,-0.23020568673440028,0.5268156949610865,0.9249023465550501,-0.23049076961016352,0.27160019016029285,0.34585203246608587,0.8663998050975331,-0.9774447107233512,-0.49791242970244515,-1.879355292075668,1.9648131850176263,-0.27336146294076935,0.4402545510186216,0.7274920462854855,0.26784305740453795,1.5272195480486723,-0.11650576271574038,1.203757674131996,-0.2400098004413862,0.5559898896596926,-0.25173079089603434,-0.17630458831284046,-0.584550466794726,1.3225811578308335,0.7294619170549295,0.7943615257625641,0.27209621340875817,-1.5785477719864265,0.3727682581763358,1.4550313417369363,1.3084602131497813,1.6908326835822265,-0.6751489947318258,-2.064870035828138,0.4935165233388467,0.8466278348395803,0.14975934344387587,-0.38709899368579576,-0.4914009940136751,-0.5018286362538411,-0.6533088785680246,1.054829047519902,0.49530987239203966,-0.021789443961921257,0.34301971407163234,0.384615463775324,-0.5202573280889718,0.955766575232318,0.47481063499827153,-0.4096097700355144,-0.7890433274251037,-1.3225480834101921,-1.4704335995087472,0.402125007984368,-0.7854528677118743,-0.8182638218352324,1.0890802638091794,0.39325131265035485,0.19159205137621324],\"yaxis\":\"y9\",\"type\":\"scatter\"},{\"line\":{\"color\":\"rgba(128, 128, 128, 1.0)\",\"dash\":\"solid\",\"shape\":\"linear\",\"width\":1.3},\"marker\":{\"size\":2,\"symbol\":\"circle\"},\"mode\":\"markers\",\"name\":\"C\",\"text\":\"\",\"x\":[0.21816361565301612,-0.18311601650778261,-0.8722852429063794,0.7996321791414022,1.4830013794585655,-1.8513851087254878,1.613906454791288,-1.5827358120075996,-0.2852339752587739,-1.1655837011030066,-1.3316526305662248,-0.058152616565652196,0.06088486005099269,-1.8538715257905751,-0.10795630868630458,-0.5169453758367406,0.05896114763704862,1.937674579815131,-0.43586910750577423,0.6301701523533102,0.2487690009306954,-0.5768590175830137,-0.23048178855369697,1.5829241162079017,-0.7064465895575457,-0.07800414606637208,0.9267040564138606,-0.9945444848093137,1.5232090046065017,0.5724140410636237,-0.5824132253983889,1.4758903927481846,0.7894141470303264,-0.34231970058963407,-0.7810319671697296,0.2072844838228586,-0.5588365519503141,-0.38971140833812906,0.21785672555286356,1.0289889419787783,-1.3145327761543142,0.18482300394128667,0.325360903405271,0.8234367426244258,0.7549608081461314,-0.24592878896044312,-0.8898589213424684,1.1296498601309384,-0.7646354208473364,-1.7613727579525837,-0.007885085352440032,-0.6550676125914235,-1.5382251668563758,2.9664757064106833,0.05136220368240336,0.9053762889413747,-0.9014199037894448,0.14416787795095554,0.5772481753295273,1.00066627733789,-1.484677774151373,-1.0470748306972992,-1.0394473595670013,1.0139539314489332,-0.2266635690751747,-2.906894044978705,0.3866286493770684,-0.22145896800858503,0.2723182682770941,-0.23515963148068272,-0.8867866717522348,-0.017926170650252895,0.1202193588446371,0.5167784095259662,-1.1692508750791701,0.12401321928940981,-0.7738107387476351,-0.9566254708018384,-0.26444548631561315,-1.6766931874405588,-1.5626958822528276,-1.0537752027800056,0.01008372961374793,0.07867473793517019,-1.6967402907609725,-1.896581525083377,-0.9524305910705916,0.9152100476428011,0.5403263954180979,-1.1951744668940307,-0.7586988875890001,-2.764229500397465,-1.058834908427951,-1.211320125788323,-1.4017384442446392,0.31423912897978823,0.40750676142202613,-0.12272730770175873,-0.16912280770312685,-0.17788138935751074],\"xaxis\":\"x10\",\"y\":[1.7377773904002787,-0.22395400729530127,0.1820734116872276,-0.7942279663986247,0.5582198101989171,0.8557186514611376,-0.4566546028122543,-0.4486886613225603,-0.462033243406978,1.7693450636612906,0.8493771531423921,-0.46690670588043465,0.6681701784956612,1.487470466970359,-1.592710230729672,-0.8893560759048776,0.9974415506640023,-0.11815807269381176,0.39085583078090946,-0.8678648114268143,-1.3232130718608561,1.2296438297962131,-1.7049252038650233,-0.1278833761359411,-0.9852621101243801,1.4511004245694241,-0.5107422042065087,0.35540352015450555,0.4608476569044969,0.4486668143051865,1.7038458179890796,1.2874981058355235,0.008172266049143288,1.3403757810053207,-0.48959248911528613,0.5761572892581875,-1.158663472942153,-2.3934735618828453,-2.0473455770351485,0.04363192875061731,0.9613481148956818,-0.23020568673440028,0.5268156949610865,0.9249023465550501,-0.23049076961016352,0.27160019016029285,0.34585203246608587,0.8663998050975331,-0.9774447107233512,-0.49791242970244515,-1.879355292075668,1.9648131850176263,-0.27336146294076935,0.4402545510186216,0.7274920462854855,0.26784305740453795,1.5272195480486723,-0.11650576271574038,1.203757674131996,-0.2400098004413862,0.5559898896596926,-0.25173079089603434,-0.17630458831284046,-0.584550466794726,1.3225811578308335,0.7294619170549295,0.7943615257625641,0.27209621340875817,-1.5785477719864265,0.3727682581763358,1.4550313417369363,1.3084602131497813,1.6908326835822265,-0.6751489947318258,-2.064870035828138,0.4935165233388467,0.8466278348395803,0.14975934344387587,-0.38709899368579576,-0.4914009940136751,-0.5018286362538411,-0.6533088785680246,1.054829047519902,0.49530987239203966,-0.021789443961921257,0.34301971407163234,0.384615463775324,-0.5202573280889718,0.955766575232318,0.47481063499827153,-0.4096097700355144,-0.7890433274251037,-1.3225480834101921,-1.4704335995087472,0.402125007984368,-0.7854528677118743,-0.8182638218352324,1.0890802638091794,0.39325131265035485,0.19159205137621324],\"yaxis\":\"y10\",\"type\":\"scatter\"},{\"histfunc\":\"count\",\"histnorm\":\"\",\"marker\":{\"color\":\"rgba(50, 171, 96, 1.0)\",\"line\":{\"color\":\"#4D5663\",\"width\":1.3}},\"name\":\"C\",\"nbinsx\":10,\"opacity\":0.8,\"orientation\":\"v\",\"x\":[1.7377773904002787,-0.22395400729530127,0.1820734116872276,-0.7942279663986247,0.5582198101989171,0.8557186514611376,-0.4566546028122543,-0.4486886613225603,-0.462033243406978,1.7693450636612906,0.8493771531423921,-0.46690670588043465,0.6681701784956612,1.487470466970359,-1.592710230729672,-0.8893560759048776,0.9974415506640023,-0.11815807269381176,0.39085583078090946,-0.8678648114268143,-1.3232130718608561,1.2296438297962131,-1.7049252038650233,-0.1278833761359411,-0.9852621101243801,1.4511004245694241,-0.5107422042065087,0.35540352015450555,0.4608476569044969,0.4486668143051865,1.7038458179890796,1.2874981058355235,0.008172266049143288,1.3403757810053207,-0.48959248911528613,0.5761572892581875,-1.158663472942153,-2.3934735618828453,-2.0473455770351485,0.04363192875061731,0.9613481148956818,-0.23020568673440028,0.5268156949610865,0.9249023465550501,-0.23049076961016352,0.27160019016029285,0.34585203246608587,0.8663998050975331,-0.9774447107233512,-0.49791242970244515,-1.879355292075668,1.9648131850176263,-0.27336146294076935,0.4402545510186216,0.7274920462854855,0.26784305740453795,1.5272195480486723,-0.11650576271574038,1.203757674131996,-0.2400098004413862,0.5559898896596926,-0.25173079089603434,-0.17630458831284046,-0.584550466794726,1.3225811578308335,0.7294619170549295,0.7943615257625641,0.27209621340875817,-1.5785477719864265,0.3727682581763358,1.4550313417369363,1.3084602131497813,1.6908326835822265,-0.6751489947318258,-2.064870035828138,0.4935165233388467,0.8466278348395803,0.14975934344387587,-0.38709899368579576,-0.4914009940136751,-0.5018286362538411,-0.6533088785680246,1.054829047519902,0.49530987239203966,-0.021789443961921257,0.34301971407163234,0.384615463775324,-0.5202573280889718,0.955766575232318,0.47481063499827153,-0.4096097700355144,-0.7890433274251037,-1.3225480834101921,-1.4704335995087472,0.402125007984368,-0.7854528677118743,-0.8182638218352324,1.0890802638091794,0.39325131265035485,0.19159205137621324],\"xaxis\":\"x11\",\"yaxis\":\"y11\",\"type\":\"histogram\"},{\"line\":{\"color\":\"rgba(128, 128, 128, 1.0)\",\"dash\":\"solid\",\"shape\":\"linear\",\"width\":1.3},\"marker\":{\"size\":2,\"symbol\":\"circle\"},\"mode\":\"markers\",\"name\":\"C\",\"text\":\"\",\"x\":[-0.9898978880621447,-0.15653251538155546,1.1350151984266963,0.4330113225398728,-0.22662361863857208,1.2147557315772484,-1.0954533355276945,0.056981130154462885,1.085174429985138,0.14699559311323226,-0.49897601646505985,1.1989909816632942,0.6333982183822553,-0.9858404019714517,0.9646473937157795,-0.29878447694620397,0.038219071625085144,-1.7977606542818454,2.4301625828708593,-1.4225971964401587,-2.0545116148098432,-0.5543603071865605,-0.6588505749295496,1.2513627887378793,-0.8137948207943052,1.0422064628802337,-0.45192461570495496,-0.6497801405399549,-1.056516347348047,0.20440307609406713,1.0548270254772918,-0.570416040564116,0.6746325877971175,-0.4756361340610073,-0.7551924202762499,0.78069243348289,0.16415385377231234,-0.28675334369218347,0.30529160399932065,-0.2862858687531363,0.823671579756582,0.009792660113371647,0.3733208164001366,1.1993466973961242,-0.6027492101400286,-0.27046930406674846,-0.27937197120297924,-0.04930455118166517,0.0722552739941226,-1.4694929069425693,-0.6746960168843232,-0.6104468398467007,0.31013922462091476,-0.13520219674899842,1.2810838143310053,0.6346761225549629,0.6660497298057801,0.56872629264876,-0.71933362951576,0.016502895779975293,-1.2366498860403936,0.8115178064397559,0.8837234466172698,0.8352577811979678,1.3232430932241368,0.47543627781600223,0.08657443799251735,-1.039525159095973,0.48091097057485427,0.127197970073491,-1.745338456585933,-1.0008593606324803,-1.2375741669575637,-0.2676094462039642,0.029590830119454816,0.09694160474868284,-0.3623762651099337,-1.687778267088628,0.36560118017894544,-1.0608584180118896,0.24275606912664235,1.2723543462803888,0.8959132253067817,0.38105128916243275,-0.13942542910659975,0.004690457201917903,-1.5323061194361465,1.2902201186984674,-0.1675177290969658,-1.099215093653179,0.38281596578233895,-0.398418999693859,0.32140117646225186,0.36649377203199307,0.08223321776600259,-2.552523055574907,-0.7806267829411238,-0.27503823292083457,-1.5121006401915777,-0.421854097454241],\"xaxis\":\"x12\",\"y\":[1.7377773904002787,-0.22395400729530127,0.1820734116872276,-0.7942279663986247,0.5582198101989171,0.8557186514611376,-0.4566546028122543,-0.4486886613225603,-0.462033243406978,1.7693450636612906,0.8493771531423921,-0.46690670588043465,0.6681701784956612,1.487470466970359,-1.592710230729672,-0.8893560759048776,0.9974415506640023,-0.11815807269381176,0.39085583078090946,-0.8678648114268143,-1.3232130718608561,1.2296438297962131,-1.7049252038650233,-0.1278833761359411,-0.9852621101243801,1.4511004245694241,-0.5107422042065087,0.35540352015450555,0.4608476569044969,0.4486668143051865,1.7038458179890796,1.2874981058355235,0.008172266049143288,1.3403757810053207,-0.48959248911528613,0.5761572892581875,-1.158663472942153,-2.3934735618828453,-2.0473455770351485,0.04363192875061731,0.9613481148956818,-0.23020568673440028,0.5268156949610865,0.9249023465550501,-0.23049076961016352,0.27160019016029285,0.34585203246608587,0.8663998050975331,-0.9774447107233512,-0.49791242970244515,-1.879355292075668,1.9648131850176263,-0.27336146294076935,0.4402545510186216,0.7274920462854855,0.26784305740453795,1.5272195480486723,-0.11650576271574038,1.203757674131996,-0.2400098004413862,0.5559898896596926,-0.25173079089603434,-0.17630458831284046,-0.584550466794726,1.3225811578308335,0.7294619170549295,0.7943615257625641,0.27209621340875817,-1.5785477719864265,0.3727682581763358,1.4550313417369363,1.3084602131497813,1.6908326835822265,-0.6751489947318258,-2.064870035828138,0.4935165233388467,0.8466278348395803,0.14975934344387587,-0.38709899368579576,-0.4914009940136751,-0.5018286362538411,-0.6533088785680246,1.054829047519902,0.49530987239203966,-0.021789443961921257,0.34301971407163234,0.384615463775324,-0.5202573280889718,0.955766575232318,0.47481063499827153,-0.4096097700355144,-0.7890433274251037,-1.3225480834101921,-1.4704335995087472,0.402125007984368,-0.7854528677118743,-0.8182638218352324,1.0890802638091794,0.39325131265035485,0.19159205137621324],\"yaxis\":\"y12\",\"type\":\"scatter\"},{\"line\":{\"color\":\"rgba(128, 128, 128, 1.0)\",\"dash\":\"solid\",\"shape\":\"linear\",\"width\":1.3},\"marker\":{\"size\":2,\"symbol\":\"circle\"},\"mode\":\"markers\",\"name\":\"D\",\"text\":\"\",\"x\":[-1.4747380955937974,0.28725077112417235,-1.6568846794720122,1.381720942647079,0.3657833365094521,0.026008073073972172,-0.5109681143770874,-0.30968695071839253,0.08056276720583924,1.2206461655280683,-1.0044961445651543,-0.7086123871501985,-0.3032080480213653,-0.4681810010400497,0.4883380048432973,-1.0568975335865904,-0.6478951720409023,-1.1006335991216396,-1.1084672870151069,1.0115169993247746,0.8628879534962799,0.49107556584687034,-0.21460151922209592,-0.21167224031379164,-1.0868280793928702,0.1813077457259262,1.6048411477507714,-1.1129128593443407,0.13510904054871198,0.7363175261488993,0.30133889718720347,1.0968390103774157,-0.9215941053119098,1.1452096988910712,-0.0969211977387717,0.7832229582485118,1.0531791723051949,-0.6663370851946934,-0.7282508718905567,-1.688787692138687,0.2592955164616916,-0.35251940357111267,0.5255678646250175,0.1591013061134092,1.6392683058616393,-0.7594873429459711,0.3571677103292569,-1.9129516673080214,0.2812674212385775,2.9443484953104657,-1.2668238549208235,0.41322784242257693,1.206697949804835,1.0295637127428512,0.42415314431239537,-1.234242731046262,-0.005177234655683374,0.40215839443750323,0.5734568360798693,-0.981071428153688,-1.044181132406017,-0.5455429283558031,0.8723741296130654,-1.7382678852503126,-2.394203349842937,1.1200094352775187,-0.6221419105120386,0.28050386485521667,-0.21614849790735982,-0.5457390506690335,-2.3191277297140607,1.3524213867671204,0.12594824702172094,-0.02781084118179256,-1.0121863416508705,-0.1346075258918912,-0.2161185225683815,-1.4044793440674315,0.5103800616622387,-0.26035603985135364,0.7128604943441633,-0.09028399432601468,0.5214049330304661,-0.050307547047459246,-0.139890323143218,-1.2155801358748424,0.9627948608905095,0.8801238599064668,0.020185320431986706,1.6625023152013685,0.3816936279691013,0.34509760366963216,0.37972886845205844,0.4258913685657802,-0.22863620193291423,-1.4886214993845972,0.5486315743498743,-0.37552303459747266,-1.7087243821390654,-0.047214690067770786],\"xaxis\":\"x13\",\"y\":[-0.9898978880621447,-0.15653251538155546,1.1350151984266963,0.4330113225398728,-0.22662361863857208,1.2147557315772484,-1.0954533355276945,0.056981130154462885,1.085174429985138,0.14699559311323226,-0.49897601646505985,1.1989909816632942,0.6333982183822553,-0.9858404019714517,0.9646473937157795,-0.29878447694620397,0.038219071625085144,-1.7977606542818454,2.4301625828708593,-1.4225971964401587,-2.0545116148098432,-0.5543603071865605,-0.6588505749295496,1.2513627887378793,-0.8137948207943052,1.0422064628802337,-0.45192461570495496,-0.6497801405399549,-1.056516347348047,0.20440307609406713,1.0548270254772918,-0.570416040564116,0.6746325877971175,-0.4756361340610073,-0.7551924202762499,0.78069243348289,0.16415385377231234,-0.28675334369218347,0.30529160399932065,-0.2862858687531363,0.823671579756582,0.009792660113371647,0.3733208164001366,1.1993466973961242,-0.6027492101400286,-0.27046930406674846,-0.27937197120297924,-0.04930455118166517,0.0722552739941226,-1.4694929069425693,-0.6746960168843232,-0.6104468398467007,0.31013922462091476,-0.13520219674899842,1.2810838143310053,0.6346761225549629,0.6660497298057801,0.56872629264876,-0.71933362951576,0.016502895779975293,-1.2366498860403936,0.8115178064397559,0.8837234466172698,0.8352577811979678,1.3232430932241368,0.47543627781600223,0.08657443799251735,-1.039525159095973,0.48091097057485427,0.127197970073491,-1.745338456585933,-1.0008593606324803,-1.2375741669575637,-0.2676094462039642,0.029590830119454816,0.09694160474868284,-0.3623762651099337,-1.687778267088628,0.36560118017894544,-1.0608584180118896,0.24275606912664235,1.2723543462803888,0.8959132253067817,0.38105128916243275,-0.13942542910659975,0.004690457201917903,-1.5323061194361465,1.2902201186984674,-0.1675177290969658,-1.099215093653179,0.38281596578233895,-0.398418999693859,0.32140117646225186,0.36649377203199307,0.08223321776600259,-2.552523055574907,-0.7806267829411238,-0.27503823292083457,-1.5121006401915777,-0.421854097454241],\"yaxis\":\"y13\",\"type\":\"scatter\"},{\"line\":{\"color\":\"rgba(128, 128, 128, 1.0)\",\"dash\":\"solid\",\"shape\":\"linear\",\"width\":1.3},\"marker\":{\"size\":2,\"symbol\":\"circle\"},\"mode\":\"markers\",\"name\":\"D\",\"text\":\"\",\"x\":[0.21816361565301612,-0.18311601650778261,-0.8722852429063794,0.7996321791414022,1.4830013794585655,-1.8513851087254878,1.613906454791288,-1.5827358120075996,-0.2852339752587739,-1.1655837011030066,-1.3316526305662248,-0.058152616565652196,0.06088486005099269,-1.8538715257905751,-0.10795630868630458,-0.5169453758367406,0.05896114763704862,1.937674579815131,-0.43586910750577423,0.6301701523533102,0.2487690009306954,-0.5768590175830137,-0.23048178855369697,1.5829241162079017,-0.7064465895575457,-0.07800414606637208,0.9267040564138606,-0.9945444848093137,1.5232090046065017,0.5724140410636237,-0.5824132253983889,1.4758903927481846,0.7894141470303264,-0.34231970058963407,-0.7810319671697296,0.2072844838228586,-0.5588365519503141,-0.38971140833812906,0.21785672555286356,1.0289889419787783,-1.3145327761543142,0.18482300394128667,0.325360903405271,0.8234367426244258,0.7549608081461314,-0.24592878896044312,-0.8898589213424684,1.1296498601309384,-0.7646354208473364,-1.7613727579525837,-0.007885085352440032,-0.6550676125914235,-1.5382251668563758,2.9664757064106833,0.05136220368240336,0.9053762889413747,-0.9014199037894448,0.14416787795095554,0.5772481753295273,1.00066627733789,-1.484677774151373,-1.0470748306972992,-1.0394473595670013,1.0139539314489332,-0.2266635690751747,-2.906894044978705,0.3866286493770684,-0.22145896800858503,0.2723182682770941,-0.23515963148068272,-0.8867866717522348,-0.017926170650252895,0.1202193588446371,0.5167784095259662,-1.1692508750791701,0.12401321928940981,-0.7738107387476351,-0.9566254708018384,-0.26444548631561315,-1.6766931874405588,-1.5626958822528276,-1.0537752027800056,0.01008372961374793,0.07867473793517019,-1.6967402907609725,-1.896581525083377,-0.9524305910705916,0.9152100476428011,0.5403263954180979,-1.1951744668940307,-0.7586988875890001,-2.764229500397465,-1.058834908427951,-1.211320125788323,-1.4017384442446392,0.31423912897978823,0.40750676142202613,-0.12272730770175873,-0.16912280770312685,-0.17788138935751074],\"xaxis\":\"x14\",\"y\":[-0.9898978880621447,-0.15653251538155546,1.1350151984266963,0.4330113225398728,-0.22662361863857208,1.2147557315772484,-1.0954533355276945,0.056981130154462885,1.085174429985138,0.14699559311323226,-0.49897601646505985,1.1989909816632942,0.6333982183822553,-0.9858404019714517,0.9646473937157795,-0.29878447694620397,0.038219071625085144,-1.7977606542818454,2.4301625828708593,-1.4225971964401587,-2.0545116148098432,-0.5543603071865605,-0.6588505749295496,1.2513627887378793,-0.8137948207943052,1.0422064628802337,-0.45192461570495496,-0.6497801405399549,-1.056516347348047,0.20440307609406713,1.0548270254772918,-0.570416040564116,0.6746325877971175,-0.4756361340610073,-0.7551924202762499,0.78069243348289,0.16415385377231234,-0.28675334369218347,0.30529160399932065,-0.2862858687531363,0.823671579756582,0.009792660113371647,0.3733208164001366,1.1993466973961242,-0.6027492101400286,-0.27046930406674846,-0.27937197120297924,-0.04930455118166517,0.0722552739941226,-1.4694929069425693,-0.6746960168843232,-0.6104468398467007,0.31013922462091476,-0.13520219674899842,1.2810838143310053,0.6346761225549629,0.6660497298057801,0.56872629264876,-0.71933362951576,0.016502895779975293,-1.2366498860403936,0.8115178064397559,0.8837234466172698,0.8352577811979678,1.3232430932241368,0.47543627781600223,0.08657443799251735,-1.039525159095973,0.48091097057485427,0.127197970073491,-1.745338456585933,-1.0008593606324803,-1.2375741669575637,-0.2676094462039642,0.029590830119454816,0.09694160474868284,-0.3623762651099337,-1.687778267088628,0.36560118017894544,-1.0608584180118896,0.24275606912664235,1.2723543462803888,0.8959132253067817,0.38105128916243275,-0.13942542910659975,0.004690457201917903,-1.5323061194361465,1.2902201186984674,-0.1675177290969658,-1.099215093653179,0.38281596578233895,-0.398418999693859,0.32140117646225186,0.36649377203199307,0.08223321776600259,-2.552523055574907,-0.7806267829411238,-0.27503823292083457,-1.5121006401915777,-0.421854097454241],\"yaxis\":\"y14\",\"type\":\"scatter\"},{\"line\":{\"color\":\"rgba(128, 128, 128, 1.0)\",\"dash\":\"solid\",\"shape\":\"linear\",\"width\":1.3},\"marker\":{\"size\":2,\"symbol\":\"circle\"},\"mode\":\"markers\",\"name\":\"D\",\"text\":\"\",\"x\":[1.7377773904002787,-0.22395400729530127,0.1820734116872276,-0.7942279663986247,0.5582198101989171,0.8557186514611376,-0.4566546028122543,-0.4486886613225603,-0.462033243406978,1.7693450636612906,0.8493771531423921,-0.46690670588043465,0.6681701784956612,1.487470466970359,-1.592710230729672,-0.8893560759048776,0.9974415506640023,-0.11815807269381176,0.39085583078090946,-0.8678648114268143,-1.3232130718608561,1.2296438297962131,-1.7049252038650233,-0.1278833761359411,-0.9852621101243801,1.4511004245694241,-0.5107422042065087,0.35540352015450555,0.4608476569044969,0.4486668143051865,1.7038458179890796,1.2874981058355235,0.008172266049143288,1.3403757810053207,-0.48959248911528613,0.5761572892581875,-1.158663472942153,-2.3934735618828453,-2.0473455770351485,0.04363192875061731,0.9613481148956818,-0.23020568673440028,0.5268156949610865,0.9249023465550501,-0.23049076961016352,0.27160019016029285,0.34585203246608587,0.8663998050975331,-0.9774447107233512,-0.49791242970244515,-1.879355292075668,1.9648131850176263,-0.27336146294076935,0.4402545510186216,0.7274920462854855,0.26784305740453795,1.5272195480486723,-0.11650576271574038,1.203757674131996,-0.2400098004413862,0.5559898896596926,-0.25173079089603434,-0.17630458831284046,-0.584550466794726,1.3225811578308335,0.7294619170549295,0.7943615257625641,0.27209621340875817,-1.5785477719864265,0.3727682581763358,1.4550313417369363,1.3084602131497813,1.6908326835822265,-0.6751489947318258,-2.064870035828138,0.4935165233388467,0.8466278348395803,0.14975934344387587,-0.38709899368579576,-0.4914009940136751,-0.5018286362538411,-0.6533088785680246,1.054829047519902,0.49530987239203966,-0.021789443961921257,0.34301971407163234,0.384615463775324,-0.5202573280889718,0.955766575232318,0.47481063499827153,-0.4096097700355144,-0.7890433274251037,-1.3225480834101921,-1.4704335995087472,0.402125007984368,-0.7854528677118743,-0.8182638218352324,1.0890802638091794,0.39325131265035485,0.19159205137621324],\"xaxis\":\"x15\",\"y\":[-0.9898978880621447,-0.15653251538155546,1.1350151984266963,0.4330113225398728,-0.22662361863857208,1.2147557315772484,-1.0954533355276945,0.056981130154462885,1.085174429985138,0.14699559311323226,-0.49897601646505985,1.1989909816632942,0.6333982183822553,-0.9858404019714517,0.9646473937157795,-0.29878447694620397,0.038219071625085144,-1.7977606542818454,2.4301625828708593,-1.4225971964401587,-2.0545116148098432,-0.5543603071865605,-0.6588505749295496,1.2513627887378793,-0.8137948207943052,1.0422064628802337,-0.45192461570495496,-0.6497801405399549,-1.056516347348047,0.20440307609406713,1.0548270254772918,-0.570416040564116,0.6746325877971175,-0.4756361340610073,-0.7551924202762499,0.78069243348289,0.16415385377231234,-0.28675334369218347,0.30529160399932065,-0.2862858687531363,0.823671579756582,0.009792660113371647,0.3733208164001366,1.1993466973961242,-0.6027492101400286,-0.27046930406674846,-0.27937197120297924,-0.04930455118166517,0.0722552739941226,-1.4694929069425693,-0.6746960168843232,-0.6104468398467007,0.31013922462091476,-0.13520219674899842,1.2810838143310053,0.6346761225549629,0.6660497298057801,0.56872629264876,-0.71933362951576,0.016502895779975293,-1.2366498860403936,0.8115178064397559,0.8837234466172698,0.8352577811979678,1.3232430932241368,0.47543627781600223,0.08657443799251735,-1.039525159095973,0.48091097057485427,0.127197970073491,-1.745338456585933,-1.0008593606324803,-1.2375741669575637,-0.2676094462039642,0.029590830119454816,0.09694160474868284,-0.3623762651099337,-1.687778267088628,0.36560118017894544,-1.0608584180118896,0.24275606912664235,1.2723543462803888,0.8959132253067817,0.38105128916243275,-0.13942542910659975,0.004690457201917903,-1.5323061194361465,1.2902201186984674,-0.1675177290969658,-1.099215093653179,0.38281596578233895,-0.398418999693859,0.32140117646225186,0.36649377203199307,0.08223321776600259,-2.552523055574907,-0.7806267829411238,-0.27503823292083457,-1.5121006401915777,-0.421854097454241],\"yaxis\":\"y15\",\"type\":\"scatter\"},{\"histfunc\":\"count\",\"histnorm\":\"\",\"marker\":{\"color\":\"rgba(128, 0, 128, 1.0)\",\"line\":{\"color\":\"#4D5663\",\"width\":1.3}},\"name\":\"D\",\"nbinsx\":10,\"opacity\":0.8,\"orientation\":\"v\",\"x\":[-0.9898978880621447,-0.15653251538155546,1.1350151984266963,0.4330113225398728,-0.22662361863857208,1.2147557315772484,-1.0954533355276945,0.056981130154462885,1.085174429985138,0.14699559311323226,-0.49897601646505985,1.1989909816632942,0.6333982183822553,-0.9858404019714517,0.9646473937157795,-0.29878447694620397,0.038219071625085144,-1.7977606542818454,2.4301625828708593,-1.4225971964401587,-2.0545116148098432,-0.5543603071865605,-0.6588505749295496,1.2513627887378793,-0.8137948207943052,1.0422064628802337,-0.45192461570495496,-0.6497801405399549,-1.056516347348047,0.20440307609406713,1.0548270254772918,-0.570416040564116,0.6746325877971175,-0.4756361340610073,-0.7551924202762499,0.78069243348289,0.16415385377231234,-0.28675334369218347,0.30529160399932065,-0.2862858687531363,0.823671579756582,0.009792660113371647,0.3733208164001366,1.1993466973961242,-0.6027492101400286,-0.27046930406674846,-0.27937197120297924,-0.04930455118166517,0.0722552739941226,-1.4694929069425693,-0.6746960168843232,-0.6104468398467007,0.31013922462091476,-0.13520219674899842,1.2810838143310053,0.6346761225549629,0.6660497298057801,0.56872629264876,-0.71933362951576,0.016502895779975293,-1.2366498860403936,0.8115178064397559,0.8837234466172698,0.8352577811979678,1.3232430932241368,0.47543627781600223,0.08657443799251735,-1.039525159095973,0.48091097057485427,0.127197970073491,-1.745338456585933,-1.0008593606324803,-1.2375741669575637,-0.2676094462039642,0.029590830119454816,0.09694160474868284,-0.3623762651099337,-1.687778267088628,0.36560118017894544,-1.0608584180118896,0.24275606912664235,1.2723543462803888,0.8959132253067817,0.38105128916243275,-0.13942542910659975,0.004690457201917903,-1.5323061194361465,1.2902201186984674,-0.1675177290969658,-1.099215093653179,0.38281596578233895,-0.398418999693859,0.32140117646225186,0.36649377203199307,0.08223321776600259,-2.552523055574907,-0.7806267829411238,-0.27503823292083457,-1.5121006401915777,-0.421854097454241],\"xaxis\":\"x16\",\"yaxis\":\"y16\",\"type\":\"histogram\"}],                        {\"bargap\":0.02,\"legend\":{\"bgcolor\":\"#F5F6F9\",\"font\":{\"color\":\"#4D5663\"}},\"paper_bgcolor\":\"#F5F6F9\",\"plot_bgcolor\":\"#F5F6F9\",\"showlegend\":false,\"template\":{\"data\":{\"barpolar\":[{\"marker\":{\"line\":{\"color\":\"#E5ECF6\",\"width\":0.5},\"pattern\":{\"fillmode\":\"overlay\",\"size\":10,\"solidity\":0.2}},\"type\":\"barpolar\"}],\"bar\":[{\"error_x\":{\"color\":\"#2a3f5f\"},\"error_y\":{\"color\":\"#2a3f5f\"},\"marker\":{\"line\":{\"color\":\"#E5ECF6\",\"width\":0.5},\"pattern\":{\"fillmode\":\"overlay\",\"size\":10,\"solidity\":0.2}},\"type\":\"bar\"}],\"carpet\":[{\"aaxis\":{\"endlinecolor\":\"#2a3f5f\",\"gridcolor\":\"white\",\"linecolor\":\"white\",\"minorgridcolor\":\"white\",\"startlinecolor\":\"#2a3f5f\"},\"baxis\":{\"endlinecolor\":\"#2a3f5f\",\"gridcolor\":\"white\",\"linecolor\":\"white\",\"minorgridcolor\":\"white\",\"startlinecolor\":\"#2a3f5f\"},\"type\":\"carpet\"}],\"choropleth\":[{\"colorbar\":{\"outlinewidth\":0,\"ticks\":\"\"},\"type\":\"choropleth\"}],\"contourcarpet\":[{\"colorbar\":{\"outlinewidth\":0,\"ticks\":\"\"},\"type\":\"contourcarpet\"}],\"contour\":[{\"colorbar\":{\"outlinewidth\":0,\"ticks\":\"\"},\"colorscale\":[[0.0,\"#0d0887\"],[0.1111111111111111,\"#46039f\"],[0.2222222222222222,\"#7201a8\"],[0.3333333333333333,\"#9c179e\"],[0.4444444444444444,\"#bd3786\"],[0.5555555555555556,\"#d8576b\"],[0.6666666666666666,\"#ed7953\"],[0.7777777777777778,\"#fb9f3a\"],[0.8888888888888888,\"#fdca26\"],[1.0,\"#f0f921\"]],\"type\":\"contour\"}],\"heatmapgl\":[{\"colorbar\":{\"outlinewidth\":0,\"ticks\":\"\"},\"colorscale\":[[0.0,\"#0d0887\"],[0.1111111111111111,\"#46039f\"],[0.2222222222222222,\"#7201a8\"],[0.3333333333333333,\"#9c179e\"],[0.4444444444444444,\"#bd3786\"],[0.5555555555555556,\"#d8576b\"],[0.6666666666666666,\"#ed7953\"],[0.7777777777777778,\"#fb9f3a\"],[0.8888888888888888,\"#fdca26\"],[1.0,\"#f0f921\"]],\"type\":\"heatmapgl\"}],\"heatmap\":[{\"colorbar\":{\"outlinewidth\":0,\"ticks\":\"\"},\"colorscale\":[[0.0,\"#0d0887\"],[0.1111111111111111,\"#46039f\"],[0.2222222222222222,\"#7201a8\"],[0.3333333333333333,\"#9c179e\"],[0.4444444444444444,\"#bd3786\"],[0.5555555555555556,\"#d8576b\"],[0.6666666666666666,\"#ed7953\"],[0.7777777777777778,\"#fb9f3a\"],[0.8888888888888888,\"#fdca26\"],[1.0,\"#f0f921\"]],\"type\":\"heatmap\"}],\"histogram2dcontour\":[{\"colorbar\":{\"outlinewidth\":0,\"ticks\":\"\"},\"colorscale\":[[0.0,\"#0d0887\"],[0.1111111111111111,\"#46039f\"],[0.2222222222222222,\"#7201a8\"],[0.3333333333333333,\"#9c179e\"],[0.4444444444444444,\"#bd3786\"],[0.5555555555555556,\"#d8576b\"],[0.6666666666666666,\"#ed7953\"],[0.7777777777777778,\"#fb9f3a\"],[0.8888888888888888,\"#fdca26\"],[1.0,\"#f0f921\"]],\"type\":\"histogram2dcontour\"}],\"histogram2d\":[{\"colorbar\":{\"outlinewidth\":0,\"ticks\":\"\"},\"colorscale\":[[0.0,\"#0d0887\"],[0.1111111111111111,\"#46039f\"],[0.2222222222222222,\"#7201a8\"],[0.3333333333333333,\"#9c179e\"],[0.4444444444444444,\"#bd3786\"],[0.5555555555555556,\"#d8576b\"],[0.6666666666666666,\"#ed7953\"],[0.7777777777777778,\"#fb9f3a\"],[0.8888888888888888,\"#fdca26\"],[1.0,\"#f0f921\"]],\"type\":\"histogram2d\"}],\"histogram\":[{\"marker\":{\"pattern\":{\"fillmode\":\"overlay\",\"size\":10,\"solidity\":0.2}},\"type\":\"histogram\"}],\"mesh3d\":[{\"colorbar\":{\"outlinewidth\":0,\"ticks\":\"\"},\"type\":\"mesh3d\"}],\"parcoords\":[{\"line\":{\"colorbar\":{\"outlinewidth\":0,\"ticks\":\"\"}},\"type\":\"parcoords\"}],\"pie\":[{\"automargin\":true,\"type\":\"pie\"}],\"scatter3d\":[{\"line\":{\"colorbar\":{\"outlinewidth\":0,\"ticks\":\"\"}},\"marker\":{\"colorbar\":{\"outlinewidth\":0,\"ticks\":\"\"}},\"type\":\"scatter3d\"}],\"scattercarpet\":[{\"marker\":{\"colorbar\":{\"outlinewidth\":0,\"ticks\":\"\"}},\"type\":\"scattercarpet\"}],\"scattergeo\":[{\"marker\":{\"colorbar\":{\"outlinewidth\":0,\"ticks\":\"\"}},\"type\":\"scattergeo\"}],\"scattergl\":[{\"marker\":{\"colorbar\":{\"outlinewidth\":0,\"ticks\":\"\"}},\"type\":\"scattergl\"}],\"scattermapbox\":[{\"marker\":{\"colorbar\":{\"outlinewidth\":0,\"ticks\":\"\"}},\"type\":\"scattermapbox\"}],\"scatterpolargl\":[{\"marker\":{\"colorbar\":{\"outlinewidth\":0,\"ticks\":\"\"}},\"type\":\"scatterpolargl\"}],\"scatterpolar\":[{\"marker\":{\"colorbar\":{\"outlinewidth\":0,\"ticks\":\"\"}},\"type\":\"scatterpolar\"}],\"scatter\":[{\"fillpattern\":{\"fillmode\":\"overlay\",\"size\":10,\"solidity\":0.2},\"type\":\"scatter\"}],\"scatterternary\":[{\"marker\":{\"colorbar\":{\"outlinewidth\":0,\"ticks\":\"\"}},\"type\":\"scatterternary\"}],\"surface\":[{\"colorbar\":{\"outlinewidth\":0,\"ticks\":\"\"},\"colorscale\":[[0.0,\"#0d0887\"],[0.1111111111111111,\"#46039f\"],[0.2222222222222222,\"#7201a8\"],[0.3333333333333333,\"#9c179e\"],[0.4444444444444444,\"#bd3786\"],[0.5555555555555556,\"#d8576b\"],[0.6666666666666666,\"#ed7953\"],[0.7777777777777778,\"#fb9f3a\"],[0.8888888888888888,\"#fdca26\"],[1.0,\"#f0f921\"]],\"type\":\"surface\"}],\"table\":[{\"cells\":{\"fill\":{\"color\":\"#EBF0F8\"},\"line\":{\"color\":\"white\"}},\"header\":{\"fill\":{\"color\":\"#C8D4E3\"},\"line\":{\"color\":\"white\"}},\"type\":\"table\"}]},\"layout\":{\"annotationdefaults\":{\"arrowcolor\":\"#2a3f5f\",\"arrowhead\":0,\"arrowwidth\":1},\"autotypenumbers\":\"strict\",\"coloraxis\":{\"colorbar\":{\"outlinewidth\":0,\"ticks\":\"\"}},\"colorscale\":{\"diverging\":[[0,\"#8e0152\"],[0.1,\"#c51b7d\"],[0.2,\"#de77ae\"],[0.3,\"#f1b6da\"],[0.4,\"#fde0ef\"],[0.5,\"#f7f7f7\"],[0.6,\"#e6f5d0\"],[0.7,\"#b8e186\"],[0.8,\"#7fbc41\"],[0.9,\"#4d9221\"],[1,\"#276419\"]],\"sequential\":[[0.0,\"#0d0887\"],[0.1111111111111111,\"#46039f\"],[0.2222222222222222,\"#7201a8\"],[0.3333333333333333,\"#9c179e\"],[0.4444444444444444,\"#bd3786\"],[0.5555555555555556,\"#d8576b\"],[0.6666666666666666,\"#ed7953\"],[0.7777777777777778,\"#fb9f3a\"],[0.8888888888888888,\"#fdca26\"],[1.0,\"#f0f921\"]],\"sequentialminus\":[[0.0,\"#0d0887\"],[0.1111111111111111,\"#46039f\"],[0.2222222222222222,\"#7201a8\"],[0.3333333333333333,\"#9c179e\"],[0.4444444444444444,\"#bd3786\"],[0.5555555555555556,\"#d8576b\"],[0.6666666666666666,\"#ed7953\"],[0.7777777777777778,\"#fb9f3a\"],[0.8888888888888888,\"#fdca26\"],[1.0,\"#f0f921\"]]},\"colorway\":[\"#636efa\",\"#EF553B\",\"#00cc96\",\"#ab63fa\",\"#FFA15A\",\"#19d3f3\",\"#FF6692\",\"#B6E880\",\"#FF97FF\",\"#FECB52\"],\"font\":{\"color\":\"#2a3f5f\"},\"geo\":{\"bgcolor\":\"white\",\"lakecolor\":\"white\",\"landcolor\":\"#E5ECF6\",\"showlakes\":true,\"showland\":true,\"subunitcolor\":\"white\"},\"hoverlabel\":{\"align\":\"left\"},\"hovermode\":\"closest\",\"mapbox\":{\"style\":\"light\"},\"paper_bgcolor\":\"white\",\"plot_bgcolor\":\"#E5ECF6\",\"polar\":{\"angularaxis\":{\"gridcolor\":\"white\",\"linecolor\":\"white\",\"ticks\":\"\"},\"bgcolor\":\"#E5ECF6\",\"radialaxis\":{\"gridcolor\":\"white\",\"linecolor\":\"white\",\"ticks\":\"\"}},\"scene\":{\"xaxis\":{\"backgroundcolor\":\"#E5ECF6\",\"gridcolor\":\"white\",\"gridwidth\":2,\"linecolor\":\"white\",\"showbackground\":true,\"ticks\":\"\",\"zerolinecolor\":\"white\"},\"yaxis\":{\"backgroundcolor\":\"#E5ECF6\",\"gridcolor\":\"white\",\"gridwidth\":2,\"linecolor\":\"white\",\"showbackground\":true,\"ticks\":\"\",\"zerolinecolor\":\"white\"},\"zaxis\":{\"backgroundcolor\":\"#E5ECF6\",\"gridcolor\":\"white\",\"gridwidth\":2,\"linecolor\":\"white\",\"showbackground\":true,\"ticks\":\"\",\"zerolinecolor\":\"white\"}},\"shapedefaults\":{\"line\":{\"color\":\"#2a3f5f\"}},\"ternary\":{\"aaxis\":{\"gridcolor\":\"white\",\"linecolor\":\"white\",\"ticks\":\"\"},\"baxis\":{\"gridcolor\":\"white\",\"linecolor\":\"white\",\"ticks\":\"\"},\"bgcolor\":\"#E5ECF6\",\"caxis\":{\"gridcolor\":\"white\",\"linecolor\":\"white\",\"ticks\":\"\"}},\"title\":{\"x\":0.05},\"xaxis\":{\"automargin\":true,\"gridcolor\":\"white\",\"linecolor\":\"white\",\"ticks\":\"\",\"title\":{\"standoff\":15},\"zerolinecolor\":\"white\",\"zerolinewidth\":2},\"yaxis\":{\"automargin\":true,\"gridcolor\":\"white\",\"linecolor\":\"white\",\"ticks\":\"\",\"title\":{\"standoff\":15},\"zerolinecolor\":\"white\",\"zerolinewidth\":2}}},\"title\":{\"font\":{\"color\":\"#4D5663\"}},\"xaxis\":{\"anchor\":\"y\",\"domain\":[0.0,0.2125],\"gridcolor\":\"#E1E5ED\",\"showgrid\":false,\"tickfont\":{\"color\":\"#4D5663\"},\"title\":{\"font\":{\"color\":\"#4D5663\"},\"text\":\"\"},\"zerolinecolor\":\"#E1E5ED\"},\"yaxis\":{\"anchor\":\"x\",\"domain\":[0.8025,1.0],\"gridcolor\":\"#E1E5ED\",\"showgrid\":false,\"tickfont\":{\"color\":\"#4D5663\"},\"title\":{\"font\":{\"color\":\"#4D5663\"},\"text\":\"\"},\"zerolinecolor\":\"#E1E5ED\"},\"xaxis2\":{\"anchor\":\"y2\",\"domain\":[0.2625,0.475],\"gridcolor\":\"#E1E5ED\",\"showgrid\":false,\"tickfont\":{\"color\":\"#4D5663\"},\"title\":{\"font\":{\"color\":\"#4D5663\"},\"text\":\"\"},\"zerolinecolor\":\"#E1E5ED\"},\"yaxis2\":{\"anchor\":\"x2\",\"domain\":[0.8025,1.0],\"gridcolor\":\"#E1E5ED\",\"showgrid\":false,\"tickfont\":{\"color\":\"#4D5663\"},\"title\":{\"font\":{\"color\":\"#4D5663\"},\"text\":\"\"},\"zerolinecolor\":\"#E1E5ED\"},\"xaxis3\":{\"anchor\":\"y3\",\"domain\":[0.525,0.7375],\"gridcolor\":\"#E1E5ED\",\"showgrid\":false,\"tickfont\":{\"color\":\"#4D5663\"},\"title\":{\"font\":{\"color\":\"#4D5663\"},\"text\":\"\"},\"zerolinecolor\":\"#E1E5ED\"},\"yaxis3\":{\"anchor\":\"x3\",\"domain\":[0.8025,1.0],\"gridcolor\":\"#E1E5ED\",\"showgrid\":false,\"tickfont\":{\"color\":\"#4D5663\"},\"title\":{\"font\":{\"color\":\"#4D5663\"},\"text\":\"\"},\"zerolinecolor\":\"#E1E5ED\"},\"xaxis4\":{\"anchor\":\"y4\",\"domain\":[0.7875,1.0],\"gridcolor\":\"#E1E5ED\",\"showgrid\":false,\"tickfont\":{\"color\":\"#4D5663\"},\"title\":{\"font\":{\"color\":\"#4D5663\"},\"text\":\"\"},\"zerolinecolor\":\"#E1E5ED\"},\"yaxis4\":{\"anchor\":\"x4\",\"domain\":[0.8025,1.0],\"gridcolor\":\"#E1E5ED\",\"showgrid\":false,\"tickfont\":{\"color\":\"#4D5663\"},\"title\":{\"font\":{\"color\":\"#4D5663\"},\"text\":\"\"},\"zerolinecolor\":\"#E1E5ED\"},\"xaxis5\":{\"anchor\":\"y5\",\"domain\":[0.0,0.2125],\"gridcolor\":\"#E1E5ED\",\"showgrid\":false,\"tickfont\":{\"color\":\"#4D5663\"},\"title\":{\"font\":{\"color\":\"#4D5663\"},\"text\":\"\"},\"zerolinecolor\":\"#E1E5ED\"},\"yaxis5\":{\"anchor\":\"x5\",\"domain\":[0.535,0.7325],\"gridcolor\":\"#E1E5ED\",\"showgrid\":false,\"tickfont\":{\"color\":\"#4D5663\"},\"title\":{\"font\":{\"color\":\"#4D5663\"},\"text\":\"\"},\"zerolinecolor\":\"#E1E5ED\"},\"xaxis6\":{\"anchor\":\"y6\",\"domain\":[0.2625,0.475],\"gridcolor\":\"#E1E5ED\",\"showgrid\":false,\"tickfont\":{\"color\":\"#4D5663\"},\"title\":{\"font\":{\"color\":\"#4D5663\"},\"text\":\"\"},\"zerolinecolor\":\"#E1E5ED\"},\"yaxis6\":{\"anchor\":\"x6\",\"domain\":[0.535,0.7325],\"gridcolor\":\"#E1E5ED\",\"showgrid\":false,\"tickfont\":{\"color\":\"#4D5663\"},\"title\":{\"font\":{\"color\":\"#4D5663\"},\"text\":\"\"},\"zerolinecolor\":\"#E1E5ED\"},\"xaxis7\":{\"anchor\":\"y7\",\"domain\":[0.525,0.7375],\"gridcolor\":\"#E1E5ED\",\"showgrid\":false,\"tickfont\":{\"color\":\"#4D5663\"},\"title\":{\"font\":{\"color\":\"#4D5663\"},\"text\":\"\"},\"zerolinecolor\":\"#E1E5ED\"},\"yaxis7\":{\"anchor\":\"x7\",\"domain\":[0.535,0.7325],\"gridcolor\":\"#E1E5ED\",\"showgrid\":false,\"tickfont\":{\"color\":\"#4D5663\"},\"title\":{\"font\":{\"color\":\"#4D5663\"},\"text\":\"\"},\"zerolinecolor\":\"#E1E5ED\"},\"xaxis8\":{\"anchor\":\"y8\",\"domain\":[0.7875,1.0],\"gridcolor\":\"#E1E5ED\",\"showgrid\":false,\"tickfont\":{\"color\":\"#4D5663\"},\"title\":{\"font\":{\"color\":\"#4D5663\"},\"text\":\"\"},\"zerolinecolor\":\"#E1E5ED\"},\"yaxis8\":{\"anchor\":\"x8\",\"domain\":[0.535,0.7325],\"gridcolor\":\"#E1E5ED\",\"showgrid\":false,\"tickfont\":{\"color\":\"#4D5663\"},\"title\":{\"font\":{\"color\":\"#4D5663\"},\"text\":\"\"},\"zerolinecolor\":\"#E1E5ED\"},\"xaxis9\":{\"anchor\":\"y9\",\"domain\":[0.0,0.2125],\"gridcolor\":\"#E1E5ED\",\"showgrid\":false,\"tickfont\":{\"color\":\"#4D5663\"},\"title\":{\"font\":{\"color\":\"#4D5663\"},\"text\":\"\"},\"zerolinecolor\":\"#E1E5ED\"},\"yaxis9\":{\"anchor\":\"x9\",\"domain\":[0.2675,0.465],\"gridcolor\":\"#E1E5ED\",\"showgrid\":false,\"tickfont\":{\"color\":\"#4D5663\"},\"title\":{\"font\":{\"color\":\"#4D5663\"},\"text\":\"\"},\"zerolinecolor\":\"#E1E5ED\"},\"xaxis10\":{\"anchor\":\"y10\",\"domain\":[0.2625,0.475],\"gridcolor\":\"#E1E5ED\",\"showgrid\":false,\"tickfont\":{\"color\":\"#4D5663\"},\"title\":{\"font\":{\"color\":\"#4D5663\"},\"text\":\"\"},\"zerolinecolor\":\"#E1E5ED\"},\"yaxis10\":{\"anchor\":\"x10\",\"domain\":[0.2675,0.465],\"gridcolor\":\"#E1E5ED\",\"showgrid\":false,\"tickfont\":{\"color\":\"#4D5663\"},\"title\":{\"font\":{\"color\":\"#4D5663\"},\"text\":\"\"},\"zerolinecolor\":\"#E1E5ED\"},\"xaxis11\":{\"anchor\":\"y11\",\"domain\":[0.525,0.7375],\"gridcolor\":\"#E1E5ED\",\"showgrid\":false,\"tickfont\":{\"color\":\"#4D5663\"},\"title\":{\"font\":{\"color\":\"#4D5663\"},\"text\":\"\"},\"zerolinecolor\":\"#E1E5ED\"},\"yaxis11\":{\"anchor\":\"x11\",\"domain\":[0.2675,0.465],\"gridcolor\":\"#E1E5ED\",\"showgrid\":false,\"tickfont\":{\"color\":\"#4D5663\"},\"title\":{\"font\":{\"color\":\"#4D5663\"},\"text\":\"\"},\"zerolinecolor\":\"#E1E5ED\"},\"xaxis12\":{\"anchor\":\"y12\",\"domain\":[0.7875,1.0],\"gridcolor\":\"#E1E5ED\",\"showgrid\":false,\"tickfont\":{\"color\":\"#4D5663\"},\"title\":{\"font\":{\"color\":\"#4D5663\"},\"text\":\"\"},\"zerolinecolor\":\"#E1E5ED\"},\"yaxis12\":{\"anchor\":\"x12\",\"domain\":[0.2675,0.465],\"gridcolor\":\"#E1E5ED\",\"showgrid\":false,\"tickfont\":{\"color\":\"#4D5663\"},\"title\":{\"font\":{\"color\":\"#4D5663\"},\"text\":\"\"},\"zerolinecolor\":\"#E1E5ED\"},\"xaxis13\":{\"anchor\":\"y13\",\"domain\":[0.0,0.2125],\"gridcolor\":\"#E1E5ED\",\"showgrid\":false,\"tickfont\":{\"color\":\"#4D5663\"},\"title\":{\"font\":{\"color\":\"#4D5663\"},\"text\":\"\"},\"zerolinecolor\":\"#E1E5ED\"},\"yaxis13\":{\"anchor\":\"x13\",\"domain\":[0.0,0.1975],\"gridcolor\":\"#E1E5ED\",\"showgrid\":false,\"tickfont\":{\"color\":\"#4D5663\"},\"title\":{\"font\":{\"color\":\"#4D5663\"},\"text\":\"\"},\"zerolinecolor\":\"#E1E5ED\"},\"xaxis14\":{\"anchor\":\"y14\",\"domain\":[0.2625,0.475],\"gridcolor\":\"#E1E5ED\",\"showgrid\":false,\"tickfont\":{\"color\":\"#4D5663\"},\"title\":{\"font\":{\"color\":\"#4D5663\"},\"text\":\"\"},\"zerolinecolor\":\"#E1E5ED\"},\"yaxis14\":{\"anchor\":\"x14\",\"domain\":[0.0,0.1975],\"gridcolor\":\"#E1E5ED\",\"showgrid\":false,\"tickfont\":{\"color\":\"#4D5663\"},\"title\":{\"font\":{\"color\":\"#4D5663\"},\"text\":\"\"},\"zerolinecolor\":\"#E1E5ED\"},\"xaxis15\":{\"anchor\":\"y15\",\"domain\":[0.525,0.7375],\"gridcolor\":\"#E1E5ED\",\"showgrid\":false,\"tickfont\":{\"color\":\"#4D5663\"},\"title\":{\"font\":{\"color\":\"#4D5663\"},\"text\":\"\"},\"zerolinecolor\":\"#E1E5ED\"},\"yaxis15\":{\"anchor\":\"x15\",\"domain\":[0.0,0.1975],\"gridcolor\":\"#E1E5ED\",\"showgrid\":false,\"tickfont\":{\"color\":\"#4D5663\"},\"title\":{\"font\":{\"color\":\"#4D5663\"},\"text\":\"\"},\"zerolinecolor\":\"#E1E5ED\"},\"xaxis16\":{\"anchor\":\"y16\",\"domain\":[0.7875,1.0],\"gridcolor\":\"#E1E5ED\",\"showgrid\":false,\"tickfont\":{\"color\":\"#4D5663\"},\"title\":{\"font\":{\"color\":\"#4D5663\"},\"text\":\"\"},\"zerolinecolor\":\"#E1E5ED\"},\"yaxis16\":{\"anchor\":\"x16\",\"domain\":[0.0,0.1975],\"gridcolor\":\"#E1E5ED\",\"showgrid\":false,\"tickfont\":{\"color\":\"#4D5663\"},\"title\":{\"font\":{\"color\":\"#4D5663\"},\"text\":\"\"},\"zerolinecolor\":\"#E1E5ED\"}},                        {\"showLink\": true, \"linkText\": \"Export to plot.ly\", \"plotlyServerURL\": \"https://plot.ly\", \"responsive\": true}                    ).then(function(){\n",
       "                            \n",
       "var gd = document.getElementById('7a2386d4-6b8e-4bd3-827e-8886af6ce5ed');\n",
       "var x = new MutationObserver(function (mutations, observer) {{\n",
       "        var display = window.getComputedStyle(gd).display;\n",
       "        if (!display || display === 'none') {{\n",
       "            console.log([gd, 'removed!']);\n",
       "            Plotly.purge(gd);\n",
       "            observer.disconnect();\n",
       "        }}\n",
       "}});\n",
       "\n",
       "// Listen for the removal of the full notebook cells\n",
       "var notebookContainer = gd.closest('#notebook-container');\n",
       "if (notebookContainer) {{\n",
       "    x.observe(notebookContainer, {childList: true});\n",
       "}}\n",
       "\n",
       "// Listen for the clearing of the current output cell\n",
       "var outputEl = gd.closest('.output');\n",
       "if (outputEl) {{\n",
       "    x.observe(outputEl, {childList: true});\n",
       "}}\n",
       "\n",
       "                        })                };                });            </script>        </div>"
      ]
     },
     "metadata": {},
     "output_type": "display_data"
    }
   ],
   "source": [
    "df1.scatter_matrix()"
   ]
  },
  {
   "cell_type": "markdown",
   "metadata": {},
   "source": [
    "### 9. Heatmap"
   ]
  },
  {
   "cell_type": "code",
   "execution_count": 74,
   "metadata": {},
   "outputs": [
    {
     "data": {
      "application/vnd.plotly.v1+json": {
       "config": {
        "linkText": "Export to plot.ly",
        "plotlyServerURL": "https://plot.ly",
        "showLink": true
       },
       "data": [
        {
         "colorscale": [
          [
           0,
           "rgb(255, 153, 51)"
          ],
          [
           0.1111111111111111,
           "rgb(55, 128, 191)"
          ],
          [
           0.2222222222222222,
           "rgb(50, 171, 96)"
          ],
          [
           0.3333333333333333,
           "rgb(128, 0, 128)"
          ],
          [
           0.4444444444444444,
           "rgb(219, 64, 82)"
          ],
          [
           0.5555555555555556,
           "rgb(0, 128, 128)"
          ],
          [
           0.6666666666666666,
           "rgb(255, 255, 51)"
          ],
          [
           0.7777777777777778,
           "rgb(128, 128, 0)"
          ],
          [
           0.8888888888888888,
           "rgb(251, 128, 114)"
          ],
          [
           1,
           "rgb(128, 177, 211)"
          ]
         ],
         "type": "heatmap",
         "x": [
          "A",
          "B",
          "C",
          "D"
         ],
         "y": [
          "A",
          "B",
          "C",
          "D"
         ],
         "z": [
          [
           1,
           -0.05352750244955699,
           -0.0010848494716994123,
           0.007597323087236292
          ],
          [
           -0.05352750244955699,
           1,
           0.0028285298164807044,
           -0.021944218330959966
          ],
          [
           -0.0010848494716994123,
           0.0028285298164807044,
           1,
           0.021462882615409296
          ],
          [
           0.007597323087236292,
           -0.021944218330959966,
           0.021462882615409296,
           1
          ]
         ],
         "zmax": 1,
         "zmin": -0.05352750244955699
        }
       ],
       "layout": {
        "legend": {
         "bgcolor": "#F5F6F9",
         "font": {
          "color": "#4D5663"
         }
        },
        "paper_bgcolor": "#F5F6F9",
        "plot_bgcolor": "#F5F6F9",
        "template": {
         "data": {
          "bar": [
           {
            "error_x": {
             "color": "#2a3f5f"
            },
            "error_y": {
             "color": "#2a3f5f"
            },
            "marker": {
             "line": {
              "color": "#E5ECF6",
              "width": 0.5
             },
             "pattern": {
              "fillmode": "overlay",
              "size": 10,
              "solidity": 0.2
             }
            },
            "type": "bar"
           }
          ],
          "barpolar": [
           {
            "marker": {
             "line": {
              "color": "#E5ECF6",
              "width": 0.5
             },
             "pattern": {
              "fillmode": "overlay",
              "size": 10,
              "solidity": 0.2
             }
            },
            "type": "barpolar"
           }
          ],
          "carpet": [
           {
            "aaxis": {
             "endlinecolor": "#2a3f5f",
             "gridcolor": "white",
             "linecolor": "white",
             "minorgridcolor": "white",
             "startlinecolor": "#2a3f5f"
            },
            "baxis": {
             "endlinecolor": "#2a3f5f",
             "gridcolor": "white",
             "linecolor": "white",
             "minorgridcolor": "white",
             "startlinecolor": "#2a3f5f"
            },
            "type": "carpet"
           }
          ],
          "choropleth": [
           {
            "colorbar": {
             "outlinewidth": 0,
             "ticks": ""
            },
            "type": "choropleth"
           }
          ],
          "contour": [
           {
            "colorbar": {
             "outlinewidth": 0,
             "ticks": ""
            },
            "colorscale": [
             [
              0,
              "#0d0887"
             ],
             [
              0.1111111111111111,
              "#46039f"
             ],
             [
              0.2222222222222222,
              "#7201a8"
             ],
             [
              0.3333333333333333,
              "#9c179e"
             ],
             [
              0.4444444444444444,
              "#bd3786"
             ],
             [
              0.5555555555555556,
              "#d8576b"
             ],
             [
              0.6666666666666666,
              "#ed7953"
             ],
             [
              0.7777777777777778,
              "#fb9f3a"
             ],
             [
              0.8888888888888888,
              "#fdca26"
             ],
             [
              1,
              "#f0f921"
             ]
            ],
            "type": "contour"
           }
          ],
          "contourcarpet": [
           {
            "colorbar": {
             "outlinewidth": 0,
             "ticks": ""
            },
            "type": "contourcarpet"
           }
          ],
          "heatmap": [
           {
            "colorbar": {
             "outlinewidth": 0,
             "ticks": ""
            },
            "colorscale": [
             [
              0,
              "#0d0887"
             ],
             [
              0.1111111111111111,
              "#46039f"
             ],
             [
              0.2222222222222222,
              "#7201a8"
             ],
             [
              0.3333333333333333,
              "#9c179e"
             ],
             [
              0.4444444444444444,
              "#bd3786"
             ],
             [
              0.5555555555555556,
              "#d8576b"
             ],
             [
              0.6666666666666666,
              "#ed7953"
             ],
             [
              0.7777777777777778,
              "#fb9f3a"
             ],
             [
              0.8888888888888888,
              "#fdca26"
             ],
             [
              1,
              "#f0f921"
             ]
            ],
            "type": "heatmap"
           }
          ],
          "heatmapgl": [
           {
            "colorbar": {
             "outlinewidth": 0,
             "ticks": ""
            },
            "colorscale": [
             [
              0,
              "#0d0887"
             ],
             [
              0.1111111111111111,
              "#46039f"
             ],
             [
              0.2222222222222222,
              "#7201a8"
             ],
             [
              0.3333333333333333,
              "#9c179e"
             ],
             [
              0.4444444444444444,
              "#bd3786"
             ],
             [
              0.5555555555555556,
              "#d8576b"
             ],
             [
              0.6666666666666666,
              "#ed7953"
             ],
             [
              0.7777777777777778,
              "#fb9f3a"
             ],
             [
              0.8888888888888888,
              "#fdca26"
             ],
             [
              1,
              "#f0f921"
             ]
            ],
            "type": "heatmapgl"
           }
          ],
          "histogram": [
           {
            "marker": {
             "pattern": {
              "fillmode": "overlay",
              "size": 10,
              "solidity": 0.2
             }
            },
            "type": "histogram"
           }
          ],
          "histogram2d": [
           {
            "colorbar": {
             "outlinewidth": 0,
             "ticks": ""
            },
            "colorscale": [
             [
              0,
              "#0d0887"
             ],
             [
              0.1111111111111111,
              "#46039f"
             ],
             [
              0.2222222222222222,
              "#7201a8"
             ],
             [
              0.3333333333333333,
              "#9c179e"
             ],
             [
              0.4444444444444444,
              "#bd3786"
             ],
             [
              0.5555555555555556,
              "#d8576b"
             ],
             [
              0.6666666666666666,
              "#ed7953"
             ],
             [
              0.7777777777777778,
              "#fb9f3a"
             ],
             [
              0.8888888888888888,
              "#fdca26"
             ],
             [
              1,
              "#f0f921"
             ]
            ],
            "type": "histogram2d"
           }
          ],
          "histogram2dcontour": [
           {
            "colorbar": {
             "outlinewidth": 0,
             "ticks": ""
            },
            "colorscale": [
             [
              0,
              "#0d0887"
             ],
             [
              0.1111111111111111,
              "#46039f"
             ],
             [
              0.2222222222222222,
              "#7201a8"
             ],
             [
              0.3333333333333333,
              "#9c179e"
             ],
             [
              0.4444444444444444,
              "#bd3786"
             ],
             [
              0.5555555555555556,
              "#d8576b"
             ],
             [
              0.6666666666666666,
              "#ed7953"
             ],
             [
              0.7777777777777778,
              "#fb9f3a"
             ],
             [
              0.8888888888888888,
              "#fdca26"
             ],
             [
              1,
              "#f0f921"
             ]
            ],
            "type": "histogram2dcontour"
           }
          ],
          "mesh3d": [
           {
            "colorbar": {
             "outlinewidth": 0,
             "ticks": ""
            },
            "type": "mesh3d"
           }
          ],
          "parcoords": [
           {
            "line": {
             "colorbar": {
              "outlinewidth": 0,
              "ticks": ""
             }
            },
            "type": "parcoords"
           }
          ],
          "pie": [
           {
            "automargin": true,
            "type": "pie"
           }
          ],
          "scatter": [
           {
            "fillpattern": {
             "fillmode": "overlay",
             "size": 10,
             "solidity": 0.2
            },
            "type": "scatter"
           }
          ],
          "scatter3d": [
           {
            "line": {
             "colorbar": {
              "outlinewidth": 0,
              "ticks": ""
             }
            },
            "marker": {
             "colorbar": {
              "outlinewidth": 0,
              "ticks": ""
             }
            },
            "type": "scatter3d"
           }
          ],
          "scattercarpet": [
           {
            "marker": {
             "colorbar": {
              "outlinewidth": 0,
              "ticks": ""
             }
            },
            "type": "scattercarpet"
           }
          ],
          "scattergeo": [
           {
            "marker": {
             "colorbar": {
              "outlinewidth": 0,
              "ticks": ""
             }
            },
            "type": "scattergeo"
           }
          ],
          "scattergl": [
           {
            "marker": {
             "colorbar": {
              "outlinewidth": 0,
              "ticks": ""
             }
            },
            "type": "scattergl"
           }
          ],
          "scattermapbox": [
           {
            "marker": {
             "colorbar": {
              "outlinewidth": 0,
              "ticks": ""
             }
            },
            "type": "scattermapbox"
           }
          ],
          "scatterpolar": [
           {
            "marker": {
             "colorbar": {
              "outlinewidth": 0,
              "ticks": ""
             }
            },
            "type": "scatterpolar"
           }
          ],
          "scatterpolargl": [
           {
            "marker": {
             "colorbar": {
              "outlinewidth": 0,
              "ticks": ""
             }
            },
            "type": "scatterpolargl"
           }
          ],
          "scatterternary": [
           {
            "marker": {
             "colorbar": {
              "outlinewidth": 0,
              "ticks": ""
             }
            },
            "type": "scatterternary"
           }
          ],
          "surface": [
           {
            "colorbar": {
             "outlinewidth": 0,
             "ticks": ""
            },
            "colorscale": [
             [
              0,
              "#0d0887"
             ],
             [
              0.1111111111111111,
              "#46039f"
             ],
             [
              0.2222222222222222,
              "#7201a8"
             ],
             [
              0.3333333333333333,
              "#9c179e"
             ],
             [
              0.4444444444444444,
              "#bd3786"
             ],
             [
              0.5555555555555556,
              "#d8576b"
             ],
             [
              0.6666666666666666,
              "#ed7953"
             ],
             [
              0.7777777777777778,
              "#fb9f3a"
             ],
             [
              0.8888888888888888,
              "#fdca26"
             ],
             [
              1,
              "#f0f921"
             ]
            ],
            "type": "surface"
           }
          ],
          "table": [
           {
            "cells": {
             "fill": {
              "color": "#EBF0F8"
             },
             "line": {
              "color": "white"
             }
            },
            "header": {
             "fill": {
              "color": "#C8D4E3"
             },
             "line": {
              "color": "white"
             }
            },
            "type": "table"
           }
          ]
         },
         "layout": {
          "annotationdefaults": {
           "arrowcolor": "#2a3f5f",
           "arrowhead": 0,
           "arrowwidth": 1
          },
          "autotypenumbers": "strict",
          "coloraxis": {
           "colorbar": {
            "outlinewidth": 0,
            "ticks": ""
           }
          },
          "colorscale": {
           "diverging": [
            [
             0,
             "#8e0152"
            ],
            [
             0.1,
             "#c51b7d"
            ],
            [
             0.2,
             "#de77ae"
            ],
            [
             0.3,
             "#f1b6da"
            ],
            [
             0.4,
             "#fde0ef"
            ],
            [
             0.5,
             "#f7f7f7"
            ],
            [
             0.6,
             "#e6f5d0"
            ],
            [
             0.7,
             "#b8e186"
            ],
            [
             0.8,
             "#7fbc41"
            ],
            [
             0.9,
             "#4d9221"
            ],
            [
             1,
             "#276419"
            ]
           ],
           "sequential": [
            [
             0,
             "#0d0887"
            ],
            [
             0.1111111111111111,
             "#46039f"
            ],
            [
             0.2222222222222222,
             "#7201a8"
            ],
            [
             0.3333333333333333,
             "#9c179e"
            ],
            [
             0.4444444444444444,
             "#bd3786"
            ],
            [
             0.5555555555555556,
             "#d8576b"
            ],
            [
             0.6666666666666666,
             "#ed7953"
            ],
            [
             0.7777777777777778,
             "#fb9f3a"
            ],
            [
             0.8888888888888888,
             "#fdca26"
            ],
            [
             1,
             "#f0f921"
            ]
           ],
           "sequentialminus": [
            [
             0,
             "#0d0887"
            ],
            [
             0.1111111111111111,
             "#46039f"
            ],
            [
             0.2222222222222222,
             "#7201a8"
            ],
            [
             0.3333333333333333,
             "#9c179e"
            ],
            [
             0.4444444444444444,
             "#bd3786"
            ],
            [
             0.5555555555555556,
             "#d8576b"
            ],
            [
             0.6666666666666666,
             "#ed7953"
            ],
            [
             0.7777777777777778,
             "#fb9f3a"
            ],
            [
             0.8888888888888888,
             "#fdca26"
            ],
            [
             1,
             "#f0f921"
            ]
           ]
          },
          "colorway": [
           "#636efa",
           "#EF553B",
           "#00cc96",
           "#ab63fa",
           "#FFA15A",
           "#19d3f3",
           "#FF6692",
           "#B6E880",
           "#FF97FF",
           "#FECB52"
          ],
          "font": {
           "color": "#2a3f5f"
          },
          "geo": {
           "bgcolor": "white",
           "lakecolor": "white",
           "landcolor": "#E5ECF6",
           "showlakes": true,
           "showland": true,
           "subunitcolor": "white"
          },
          "hoverlabel": {
           "align": "left"
          },
          "hovermode": "closest",
          "mapbox": {
           "style": "light"
          },
          "paper_bgcolor": "white",
          "plot_bgcolor": "#E5ECF6",
          "polar": {
           "angularaxis": {
            "gridcolor": "white",
            "linecolor": "white",
            "ticks": ""
           },
           "bgcolor": "#E5ECF6",
           "radialaxis": {
            "gridcolor": "white",
            "linecolor": "white",
            "ticks": ""
           }
          },
          "scene": {
           "xaxis": {
            "backgroundcolor": "#E5ECF6",
            "gridcolor": "white",
            "gridwidth": 2,
            "linecolor": "white",
            "showbackground": true,
            "ticks": "",
            "zerolinecolor": "white"
           },
           "yaxis": {
            "backgroundcolor": "#E5ECF6",
            "gridcolor": "white",
            "gridwidth": 2,
            "linecolor": "white",
            "showbackground": true,
            "ticks": "",
            "zerolinecolor": "white"
           },
           "zaxis": {
            "backgroundcolor": "#E5ECF6",
            "gridcolor": "white",
            "gridwidth": 2,
            "linecolor": "white",
            "showbackground": true,
            "ticks": "",
            "zerolinecolor": "white"
           }
          },
          "shapedefaults": {
           "line": {
            "color": "#2a3f5f"
           }
          },
          "ternary": {
           "aaxis": {
            "gridcolor": "white",
            "linecolor": "white",
            "ticks": ""
           },
           "baxis": {
            "gridcolor": "white",
            "linecolor": "white",
            "ticks": ""
           },
           "bgcolor": "#E5ECF6",
           "caxis": {
            "gridcolor": "white",
            "linecolor": "white",
            "ticks": ""
           }
          },
          "title": {
           "x": 0.05
          },
          "xaxis": {
           "automargin": true,
           "gridcolor": "white",
           "linecolor": "white",
           "ticks": "",
           "title": {
            "standoff": 15
           },
           "zerolinecolor": "white",
           "zerolinewidth": 2
          },
          "yaxis": {
           "automargin": true,
           "gridcolor": "white",
           "linecolor": "white",
           "ticks": "",
           "title": {
            "standoff": 15
           },
           "zerolinecolor": "white",
           "zerolinewidth": 2
          }
         }
        },
        "title": {
         "font": {
          "color": "#4D5663"
         }
        },
        "xaxis": {
         "gridcolor": "#E1E5ED",
         "showgrid": true,
         "tickfont": {
          "color": "#4D5663"
         },
         "title": {
          "font": {
           "color": "#4D5663"
          },
          "text": ""
         },
         "zerolinecolor": "#E1E5ED"
        },
        "yaxis": {
         "gridcolor": "#E1E5ED",
         "showgrid": true,
         "tickfont": {
          "color": "#4D5663"
         },
         "title": {
          "font": {
           "color": "#4D5663"
          },
          "text": ""
         },
         "zerolinecolor": "#E1E5ED"
        }
       }
      },
      "text/html": [
       "<div>                            <div id=\"20a4c537-3ef1-4894-a84a-df7bf153ac2f\" class=\"plotly-graph-div\" style=\"height:525px; width:100%;\"></div>            <script type=\"text/javascript\">                require([\"plotly\"], function(Plotly) {                    window.PLOTLYENV=window.PLOTLYENV || {};\n",
       "                    window.PLOTLYENV.BASE_URL='https://plot.ly';                                    if (document.getElementById(\"20a4c537-3ef1-4894-a84a-df7bf153ac2f\")) {                    Plotly.newPlot(                        \"20a4c537-3ef1-4894-a84a-df7bf153ac2f\",                        [{\"colorscale\":[[0.0,\"rgb(255, 153, 51)\"],[0.1111111111111111,\"rgb(55, 128, 191)\"],[0.2222222222222222,\"rgb(50, 171, 96)\"],[0.3333333333333333,\"rgb(128, 0, 128)\"],[0.4444444444444444,\"rgb(219, 64, 82)\"],[0.5555555555555556,\"rgb(0, 128, 128)\"],[0.6666666666666666,\"rgb(255, 255, 51)\"],[0.7777777777777778,\"rgb(128, 128, 0)\"],[0.8888888888888888,\"rgb(251, 128, 114)\"],[1.0,\"rgb(128, 177, 211)\"]],\"x\":[\"A\",\"B\",\"C\",\"D\"],\"y\":[\"A\",\"B\",\"C\",\"D\"],\"z\":[[1.0,-0.05352750244955699,-0.0010848494716994123,0.007597323087236292],[-0.05352750244955699,1.0,0.0028285298164807044,-0.021944218330959966],[-0.0010848494716994123,0.0028285298164807044,1.0,0.021462882615409296],[0.007597323087236292,-0.021944218330959966,0.021462882615409296,1.0]],\"zmax\":1.0,\"zmin\":-0.05352750244955699,\"type\":\"heatmap\"}],                        {\"legend\":{\"bgcolor\":\"#F5F6F9\",\"font\":{\"color\":\"#4D5663\"}},\"paper_bgcolor\":\"#F5F6F9\",\"plot_bgcolor\":\"#F5F6F9\",\"template\":{\"data\":{\"barpolar\":[{\"marker\":{\"line\":{\"color\":\"#E5ECF6\",\"width\":0.5},\"pattern\":{\"fillmode\":\"overlay\",\"size\":10,\"solidity\":0.2}},\"type\":\"barpolar\"}],\"bar\":[{\"error_x\":{\"color\":\"#2a3f5f\"},\"error_y\":{\"color\":\"#2a3f5f\"},\"marker\":{\"line\":{\"color\":\"#E5ECF6\",\"width\":0.5},\"pattern\":{\"fillmode\":\"overlay\",\"size\":10,\"solidity\":0.2}},\"type\":\"bar\"}],\"carpet\":[{\"aaxis\":{\"endlinecolor\":\"#2a3f5f\",\"gridcolor\":\"white\",\"linecolor\":\"white\",\"minorgridcolor\":\"white\",\"startlinecolor\":\"#2a3f5f\"},\"baxis\":{\"endlinecolor\":\"#2a3f5f\",\"gridcolor\":\"white\",\"linecolor\":\"white\",\"minorgridcolor\":\"white\",\"startlinecolor\":\"#2a3f5f\"},\"type\":\"carpet\"}],\"choropleth\":[{\"colorbar\":{\"outlinewidth\":0,\"ticks\":\"\"},\"type\":\"choropleth\"}],\"contourcarpet\":[{\"colorbar\":{\"outlinewidth\":0,\"ticks\":\"\"},\"type\":\"contourcarpet\"}],\"contour\":[{\"colorbar\":{\"outlinewidth\":0,\"ticks\":\"\"},\"colorscale\":[[0.0,\"#0d0887\"],[0.1111111111111111,\"#46039f\"],[0.2222222222222222,\"#7201a8\"],[0.3333333333333333,\"#9c179e\"],[0.4444444444444444,\"#bd3786\"],[0.5555555555555556,\"#d8576b\"],[0.6666666666666666,\"#ed7953\"],[0.7777777777777778,\"#fb9f3a\"],[0.8888888888888888,\"#fdca26\"],[1.0,\"#f0f921\"]],\"type\":\"contour\"}],\"heatmapgl\":[{\"colorbar\":{\"outlinewidth\":0,\"ticks\":\"\"},\"colorscale\":[[0.0,\"#0d0887\"],[0.1111111111111111,\"#46039f\"],[0.2222222222222222,\"#7201a8\"],[0.3333333333333333,\"#9c179e\"],[0.4444444444444444,\"#bd3786\"],[0.5555555555555556,\"#d8576b\"],[0.6666666666666666,\"#ed7953\"],[0.7777777777777778,\"#fb9f3a\"],[0.8888888888888888,\"#fdca26\"],[1.0,\"#f0f921\"]],\"type\":\"heatmapgl\"}],\"heatmap\":[{\"colorbar\":{\"outlinewidth\":0,\"ticks\":\"\"},\"colorscale\":[[0.0,\"#0d0887\"],[0.1111111111111111,\"#46039f\"],[0.2222222222222222,\"#7201a8\"],[0.3333333333333333,\"#9c179e\"],[0.4444444444444444,\"#bd3786\"],[0.5555555555555556,\"#d8576b\"],[0.6666666666666666,\"#ed7953\"],[0.7777777777777778,\"#fb9f3a\"],[0.8888888888888888,\"#fdca26\"],[1.0,\"#f0f921\"]],\"type\":\"heatmap\"}],\"histogram2dcontour\":[{\"colorbar\":{\"outlinewidth\":0,\"ticks\":\"\"},\"colorscale\":[[0.0,\"#0d0887\"],[0.1111111111111111,\"#46039f\"],[0.2222222222222222,\"#7201a8\"],[0.3333333333333333,\"#9c179e\"],[0.4444444444444444,\"#bd3786\"],[0.5555555555555556,\"#d8576b\"],[0.6666666666666666,\"#ed7953\"],[0.7777777777777778,\"#fb9f3a\"],[0.8888888888888888,\"#fdca26\"],[1.0,\"#f0f921\"]],\"type\":\"histogram2dcontour\"}],\"histogram2d\":[{\"colorbar\":{\"outlinewidth\":0,\"ticks\":\"\"},\"colorscale\":[[0.0,\"#0d0887\"],[0.1111111111111111,\"#46039f\"],[0.2222222222222222,\"#7201a8\"],[0.3333333333333333,\"#9c179e\"],[0.4444444444444444,\"#bd3786\"],[0.5555555555555556,\"#d8576b\"],[0.6666666666666666,\"#ed7953\"],[0.7777777777777778,\"#fb9f3a\"],[0.8888888888888888,\"#fdca26\"],[1.0,\"#f0f921\"]],\"type\":\"histogram2d\"}],\"histogram\":[{\"marker\":{\"pattern\":{\"fillmode\":\"overlay\",\"size\":10,\"solidity\":0.2}},\"type\":\"histogram\"}],\"mesh3d\":[{\"colorbar\":{\"outlinewidth\":0,\"ticks\":\"\"},\"type\":\"mesh3d\"}],\"parcoords\":[{\"line\":{\"colorbar\":{\"outlinewidth\":0,\"ticks\":\"\"}},\"type\":\"parcoords\"}],\"pie\":[{\"automargin\":true,\"type\":\"pie\"}],\"scatter3d\":[{\"line\":{\"colorbar\":{\"outlinewidth\":0,\"ticks\":\"\"}},\"marker\":{\"colorbar\":{\"outlinewidth\":0,\"ticks\":\"\"}},\"type\":\"scatter3d\"}],\"scattercarpet\":[{\"marker\":{\"colorbar\":{\"outlinewidth\":0,\"ticks\":\"\"}},\"type\":\"scattercarpet\"}],\"scattergeo\":[{\"marker\":{\"colorbar\":{\"outlinewidth\":0,\"ticks\":\"\"}},\"type\":\"scattergeo\"}],\"scattergl\":[{\"marker\":{\"colorbar\":{\"outlinewidth\":0,\"ticks\":\"\"}},\"type\":\"scattergl\"}],\"scattermapbox\":[{\"marker\":{\"colorbar\":{\"outlinewidth\":0,\"ticks\":\"\"}},\"type\":\"scattermapbox\"}],\"scatterpolargl\":[{\"marker\":{\"colorbar\":{\"outlinewidth\":0,\"ticks\":\"\"}},\"type\":\"scatterpolargl\"}],\"scatterpolar\":[{\"marker\":{\"colorbar\":{\"outlinewidth\":0,\"ticks\":\"\"}},\"type\":\"scatterpolar\"}],\"scatter\":[{\"fillpattern\":{\"fillmode\":\"overlay\",\"size\":10,\"solidity\":0.2},\"type\":\"scatter\"}],\"scatterternary\":[{\"marker\":{\"colorbar\":{\"outlinewidth\":0,\"ticks\":\"\"}},\"type\":\"scatterternary\"}],\"surface\":[{\"colorbar\":{\"outlinewidth\":0,\"ticks\":\"\"},\"colorscale\":[[0.0,\"#0d0887\"],[0.1111111111111111,\"#46039f\"],[0.2222222222222222,\"#7201a8\"],[0.3333333333333333,\"#9c179e\"],[0.4444444444444444,\"#bd3786\"],[0.5555555555555556,\"#d8576b\"],[0.6666666666666666,\"#ed7953\"],[0.7777777777777778,\"#fb9f3a\"],[0.8888888888888888,\"#fdca26\"],[1.0,\"#f0f921\"]],\"type\":\"surface\"}],\"table\":[{\"cells\":{\"fill\":{\"color\":\"#EBF0F8\"},\"line\":{\"color\":\"white\"}},\"header\":{\"fill\":{\"color\":\"#C8D4E3\"},\"line\":{\"color\":\"white\"}},\"type\":\"table\"}]},\"layout\":{\"annotationdefaults\":{\"arrowcolor\":\"#2a3f5f\",\"arrowhead\":0,\"arrowwidth\":1},\"autotypenumbers\":\"strict\",\"coloraxis\":{\"colorbar\":{\"outlinewidth\":0,\"ticks\":\"\"}},\"colorscale\":{\"diverging\":[[0,\"#8e0152\"],[0.1,\"#c51b7d\"],[0.2,\"#de77ae\"],[0.3,\"#f1b6da\"],[0.4,\"#fde0ef\"],[0.5,\"#f7f7f7\"],[0.6,\"#e6f5d0\"],[0.7,\"#b8e186\"],[0.8,\"#7fbc41\"],[0.9,\"#4d9221\"],[1,\"#276419\"]],\"sequential\":[[0.0,\"#0d0887\"],[0.1111111111111111,\"#46039f\"],[0.2222222222222222,\"#7201a8\"],[0.3333333333333333,\"#9c179e\"],[0.4444444444444444,\"#bd3786\"],[0.5555555555555556,\"#d8576b\"],[0.6666666666666666,\"#ed7953\"],[0.7777777777777778,\"#fb9f3a\"],[0.8888888888888888,\"#fdca26\"],[1.0,\"#f0f921\"]],\"sequentialminus\":[[0.0,\"#0d0887\"],[0.1111111111111111,\"#46039f\"],[0.2222222222222222,\"#7201a8\"],[0.3333333333333333,\"#9c179e\"],[0.4444444444444444,\"#bd3786\"],[0.5555555555555556,\"#d8576b\"],[0.6666666666666666,\"#ed7953\"],[0.7777777777777778,\"#fb9f3a\"],[0.8888888888888888,\"#fdca26\"],[1.0,\"#f0f921\"]]},\"colorway\":[\"#636efa\",\"#EF553B\",\"#00cc96\",\"#ab63fa\",\"#FFA15A\",\"#19d3f3\",\"#FF6692\",\"#B6E880\",\"#FF97FF\",\"#FECB52\"],\"font\":{\"color\":\"#2a3f5f\"},\"geo\":{\"bgcolor\":\"white\",\"lakecolor\":\"white\",\"landcolor\":\"#E5ECF6\",\"showlakes\":true,\"showland\":true,\"subunitcolor\":\"white\"},\"hoverlabel\":{\"align\":\"left\"},\"hovermode\":\"closest\",\"mapbox\":{\"style\":\"light\"},\"paper_bgcolor\":\"white\",\"plot_bgcolor\":\"#E5ECF6\",\"polar\":{\"angularaxis\":{\"gridcolor\":\"white\",\"linecolor\":\"white\",\"ticks\":\"\"},\"bgcolor\":\"#E5ECF6\",\"radialaxis\":{\"gridcolor\":\"white\",\"linecolor\":\"white\",\"ticks\":\"\"}},\"scene\":{\"xaxis\":{\"backgroundcolor\":\"#E5ECF6\",\"gridcolor\":\"white\",\"gridwidth\":2,\"linecolor\":\"white\",\"showbackground\":true,\"ticks\":\"\",\"zerolinecolor\":\"white\"},\"yaxis\":{\"backgroundcolor\":\"#E5ECF6\",\"gridcolor\":\"white\",\"gridwidth\":2,\"linecolor\":\"white\",\"showbackground\":true,\"ticks\":\"\",\"zerolinecolor\":\"white\"},\"zaxis\":{\"backgroundcolor\":\"#E5ECF6\",\"gridcolor\":\"white\",\"gridwidth\":2,\"linecolor\":\"white\",\"showbackground\":true,\"ticks\":\"\",\"zerolinecolor\":\"white\"}},\"shapedefaults\":{\"line\":{\"color\":\"#2a3f5f\"}},\"ternary\":{\"aaxis\":{\"gridcolor\":\"white\",\"linecolor\":\"white\",\"ticks\":\"\"},\"baxis\":{\"gridcolor\":\"white\",\"linecolor\":\"white\",\"ticks\":\"\"},\"bgcolor\":\"#E5ECF6\",\"caxis\":{\"gridcolor\":\"white\",\"linecolor\":\"white\",\"ticks\":\"\"}},\"title\":{\"x\":0.05},\"xaxis\":{\"automargin\":true,\"gridcolor\":\"white\",\"linecolor\":\"white\",\"ticks\":\"\",\"title\":{\"standoff\":15},\"zerolinecolor\":\"white\",\"zerolinewidth\":2},\"yaxis\":{\"automargin\":true,\"gridcolor\":\"white\",\"linecolor\":\"white\",\"ticks\":\"\",\"title\":{\"standoff\":15},\"zerolinecolor\":\"white\",\"zerolinewidth\":2}}},\"title\":{\"font\":{\"color\":\"#4D5663\"}},\"xaxis\":{\"gridcolor\":\"#E1E5ED\",\"showgrid\":true,\"tickfont\":{\"color\":\"#4D5663\"},\"title\":{\"font\":{\"color\":\"#4D5663\"},\"text\":\"\"},\"zerolinecolor\":\"#E1E5ED\"},\"yaxis\":{\"gridcolor\":\"#E1E5ED\",\"showgrid\":true,\"tickfont\":{\"color\":\"#4D5663\"},\"title\":{\"font\":{\"color\":\"#4D5663\"},\"text\":\"\"},\"zerolinecolor\":\"#E1E5ED\"}},                        {\"showLink\": true, \"linkText\": \"Export to plot.ly\", \"plotlyServerURL\": \"https://plot.ly\", \"responsive\": true}                    ).then(function(){\n",
       "                            \n",
       "var gd = document.getElementById('20a4c537-3ef1-4894-a84a-df7bf153ac2f');\n",
       "var x = new MutationObserver(function (mutations, observer) {{\n",
       "        var display = window.getComputedStyle(gd).display;\n",
       "        if (!display || display === 'none') {{\n",
       "            console.log([gd, 'removed!']);\n",
       "            Plotly.purge(gd);\n",
       "            observer.disconnect();\n",
       "        }}\n",
       "}});\n",
       "\n",
       "// Listen for the removal of the full notebook cells\n",
       "var notebookContainer = gd.closest('#notebook-container');\n",
       "if (notebookContainer) {{\n",
       "    x.observe(notebookContainer, {childList: true});\n",
       "}}\n",
       "\n",
       "// Listen for the clearing of the current output cell\n",
       "var outputEl = gd.closest('.output');\n",
       "if (outputEl) {{\n",
       "    x.observe(outputEl, {childList: true});\n",
       "}}\n",
       "\n",
       "                        })                };                });            </script>        </div>"
      ]
     },
     "metadata": {},
     "output_type": "display_data"
    }
   ],
   "source": [
    "x = df1.corr()\n",
    "x.iplot(kind='heatmap')"
   ]
  },
  {
   "cell_type": "code",
   "execution_count": 82,
   "metadata": {},
   "outputs": [
    {
     "data": {
      "application/vnd.plotly.v1+json": {
       "config": {
        "plotlyServerURL": "https://plot.ly"
       },
       "data": [
        {
         "coloraxis": "coloraxis",
         "hovertemplate": "A=%{x}<br>B=%{y}<br>count=%{z}<extra></extra>",
         "name": "",
         "texttemplate": "%{z}",
         "type": "histogram2d",
         "x": [
          -1.4747380955937974,
          0.28725077112417235,
          -1.6568846794720122,
          1.381720942647079,
          0.3657833365094521,
          0.026008073073972172,
          -0.5109681143770874,
          -0.30968695071839253,
          0.08056276720583924,
          1.2206461655280683,
          -1.0044961445651543,
          -0.7086123871501985,
          -0.3032080480213653,
          -0.4681810010400497,
          0.4883380048432973,
          -1.0568975335865904,
          -0.6478951720409023,
          -1.1006335991216396,
          -1.1084672870151069,
          1.0115169993247746,
          0.8628879534962799,
          0.49107556584687034,
          -0.21460151922209592,
          -0.21167224031379164,
          -1.0868280793928702,
          0.1813077457259262,
          1.6048411477507714,
          -1.1129128593443407,
          0.13510904054871198,
          0.7363175261488993,
          0.30133889718720347,
          1.0968390103774157,
          -0.9215941053119098,
          1.1452096988910712,
          -0.0969211977387717,
          0.7832229582485118,
          1.0531791723051949,
          -0.6663370851946934,
          -0.7282508718905567,
          -1.688787692138687,
          0.2592955164616916,
          -0.35251940357111267,
          0.5255678646250175,
          0.1591013061134092,
          1.6392683058616393,
          -0.7594873429459711,
          0.3571677103292569,
          -1.9129516673080214,
          0.2812674212385775,
          2.9443484953104657,
          -1.2668238549208235,
          0.41322784242257693,
          1.206697949804835,
          1.0295637127428512,
          0.42415314431239537,
          -1.234242731046262,
          -0.005177234655683374,
          0.40215839443750323,
          0.5734568360798693,
          -0.981071428153688,
          -1.044181132406017,
          -0.5455429283558031,
          0.8723741296130654,
          -1.7382678852503126,
          -2.394203349842937,
          1.1200094352775187,
          -0.6221419105120386,
          0.28050386485521667,
          -0.21614849790735982,
          -0.5457390506690335,
          -2.3191277297140607,
          1.3524213867671204,
          0.12594824702172094,
          -0.02781084118179256,
          -1.0121863416508705,
          -0.1346075258918912,
          -0.2161185225683815,
          -1.4044793440674315,
          0.5103800616622387,
          -0.26035603985135364,
          0.7128604943441633,
          -0.09028399432601468,
          0.5214049330304661,
          -0.050307547047459246,
          -0.139890323143218,
          -1.2155801358748424,
          0.9627948608905095,
          0.8801238599064668,
          0.020185320431986706,
          1.6625023152013685,
          0.3816936279691013,
          0.34509760366963216,
          0.37972886845205844,
          0.4258913685657802,
          -0.22863620193291423,
          -1.4886214993845972,
          0.5486315743498743,
          -0.37552303459747266,
          -1.7087243821390654,
          -0.047214690067770786
         ],
         "xaxis": "x",
         "xbingroup": "x",
         "y": [
          0.21816361565301612,
          -0.18311601650778261,
          -0.8722852429063794,
          0.7996321791414022,
          1.4830013794585655,
          -1.8513851087254878,
          1.613906454791288,
          -1.5827358120075996,
          -0.2852339752587739,
          -1.1655837011030066,
          -1.3316526305662248,
          -0.058152616565652196,
          0.06088486005099269,
          -1.8538715257905751,
          -0.10795630868630458,
          -0.5169453758367406,
          0.05896114763704862,
          1.937674579815131,
          -0.43586910750577423,
          0.6301701523533102,
          0.2487690009306954,
          -0.5768590175830137,
          -0.23048178855369697,
          1.5829241162079017,
          -0.7064465895575457,
          -0.07800414606637208,
          0.9267040564138606,
          -0.9945444848093137,
          1.5232090046065017,
          0.5724140410636237,
          -0.5824132253983889,
          1.4758903927481846,
          0.7894141470303264,
          -0.34231970058963407,
          -0.7810319671697296,
          0.2072844838228586,
          -0.5588365519503141,
          -0.38971140833812906,
          0.21785672555286356,
          1.0289889419787783,
          -1.3145327761543142,
          0.18482300394128667,
          0.325360903405271,
          0.8234367426244258,
          0.7549608081461314,
          -0.24592878896044312,
          -0.8898589213424684,
          1.1296498601309384,
          -0.7646354208473364,
          -1.7613727579525837,
          -0.007885085352440032,
          -0.6550676125914235,
          -1.5382251668563758,
          2.9664757064106833,
          0.05136220368240336,
          0.9053762889413747,
          -0.9014199037894448,
          0.14416787795095554,
          0.5772481753295273,
          1.00066627733789,
          -1.484677774151373,
          -1.0470748306972992,
          -1.0394473595670013,
          1.0139539314489332,
          -0.2266635690751747,
          -2.906894044978705,
          0.3866286493770684,
          -0.22145896800858503,
          0.2723182682770941,
          -0.23515963148068272,
          -0.8867866717522348,
          -0.017926170650252895,
          0.1202193588446371,
          0.5167784095259662,
          -1.1692508750791701,
          0.12401321928940981,
          -0.7738107387476351,
          -0.9566254708018384,
          -0.26444548631561315,
          -1.6766931874405588,
          -1.5626958822528276,
          -1.0537752027800056,
          0.01008372961374793,
          0.07867473793517019,
          -1.6967402907609725,
          -1.896581525083377,
          -0.9524305910705916,
          0.9152100476428011,
          0.5403263954180979,
          -1.1951744668940307,
          -0.7586988875890001,
          -2.764229500397465,
          -1.058834908427951,
          -1.211320125788323,
          -1.4017384442446392,
          0.31423912897978823,
          0.40750676142202613,
          -0.12272730770175873,
          -0.16912280770312685,
          -0.17788138935751074
         ],
         "yaxis": "y",
         "ybingroup": "y"
        }
       ],
       "layout": {
        "coloraxis": {
         "colorbar": {
          "title": {
           "text": "count"
          }
         },
         "colorscale": [
          [
           0,
           "#0d0887"
          ],
          [
           0.1111111111111111,
           "#46039f"
          ],
          [
           0.2222222222222222,
           "#7201a8"
          ],
          [
           0.3333333333333333,
           "#9c179e"
          ],
          [
           0.4444444444444444,
           "#bd3786"
          ],
          [
           0.5555555555555556,
           "#d8576b"
          ],
          [
           0.6666666666666666,
           "#ed7953"
          ],
          [
           0.7777777777777778,
           "#fb9f3a"
          ],
          [
           0.8888888888888888,
           "#fdca26"
          ],
          [
           1,
           "#f0f921"
          ]
         ]
        },
        "legend": {
         "tracegroupgap": 0
        },
        "template": {
         "data": {
          "bar": [
           {
            "error_x": {
             "color": "#2a3f5f"
            },
            "error_y": {
             "color": "#2a3f5f"
            },
            "marker": {
             "line": {
              "color": "#E5ECF6",
              "width": 0.5
             },
             "pattern": {
              "fillmode": "overlay",
              "size": 10,
              "solidity": 0.2
             }
            },
            "type": "bar"
           }
          ],
          "barpolar": [
           {
            "marker": {
             "line": {
              "color": "#E5ECF6",
              "width": 0.5
             },
             "pattern": {
              "fillmode": "overlay",
              "size": 10,
              "solidity": 0.2
             }
            },
            "type": "barpolar"
           }
          ],
          "carpet": [
           {
            "aaxis": {
             "endlinecolor": "#2a3f5f",
             "gridcolor": "white",
             "linecolor": "white",
             "minorgridcolor": "white",
             "startlinecolor": "#2a3f5f"
            },
            "baxis": {
             "endlinecolor": "#2a3f5f",
             "gridcolor": "white",
             "linecolor": "white",
             "minorgridcolor": "white",
             "startlinecolor": "#2a3f5f"
            },
            "type": "carpet"
           }
          ],
          "choropleth": [
           {
            "colorbar": {
             "outlinewidth": 0,
             "ticks": ""
            },
            "type": "choropleth"
           }
          ],
          "contour": [
           {
            "colorbar": {
             "outlinewidth": 0,
             "ticks": ""
            },
            "colorscale": [
             [
              0,
              "#0d0887"
             ],
             [
              0.1111111111111111,
              "#46039f"
             ],
             [
              0.2222222222222222,
              "#7201a8"
             ],
             [
              0.3333333333333333,
              "#9c179e"
             ],
             [
              0.4444444444444444,
              "#bd3786"
             ],
             [
              0.5555555555555556,
              "#d8576b"
             ],
             [
              0.6666666666666666,
              "#ed7953"
             ],
             [
              0.7777777777777778,
              "#fb9f3a"
             ],
             [
              0.8888888888888888,
              "#fdca26"
             ],
             [
              1,
              "#f0f921"
             ]
            ],
            "type": "contour"
           }
          ],
          "contourcarpet": [
           {
            "colorbar": {
             "outlinewidth": 0,
             "ticks": ""
            },
            "type": "contourcarpet"
           }
          ],
          "heatmap": [
           {
            "colorbar": {
             "outlinewidth": 0,
             "ticks": ""
            },
            "colorscale": [
             [
              0,
              "#0d0887"
             ],
             [
              0.1111111111111111,
              "#46039f"
             ],
             [
              0.2222222222222222,
              "#7201a8"
             ],
             [
              0.3333333333333333,
              "#9c179e"
             ],
             [
              0.4444444444444444,
              "#bd3786"
             ],
             [
              0.5555555555555556,
              "#d8576b"
             ],
             [
              0.6666666666666666,
              "#ed7953"
             ],
             [
              0.7777777777777778,
              "#fb9f3a"
             ],
             [
              0.8888888888888888,
              "#fdca26"
             ],
             [
              1,
              "#f0f921"
             ]
            ],
            "type": "heatmap"
           }
          ],
          "heatmapgl": [
           {
            "colorbar": {
             "outlinewidth": 0,
             "ticks": ""
            },
            "colorscale": [
             [
              0,
              "#0d0887"
             ],
             [
              0.1111111111111111,
              "#46039f"
             ],
             [
              0.2222222222222222,
              "#7201a8"
             ],
             [
              0.3333333333333333,
              "#9c179e"
             ],
             [
              0.4444444444444444,
              "#bd3786"
             ],
             [
              0.5555555555555556,
              "#d8576b"
             ],
             [
              0.6666666666666666,
              "#ed7953"
             ],
             [
              0.7777777777777778,
              "#fb9f3a"
             ],
             [
              0.8888888888888888,
              "#fdca26"
             ],
             [
              1,
              "#f0f921"
             ]
            ],
            "type": "heatmapgl"
           }
          ],
          "histogram": [
           {
            "marker": {
             "pattern": {
              "fillmode": "overlay",
              "size": 10,
              "solidity": 0.2
             }
            },
            "type": "histogram"
           }
          ],
          "histogram2d": [
           {
            "colorbar": {
             "outlinewidth": 0,
             "ticks": ""
            },
            "colorscale": [
             [
              0,
              "#0d0887"
             ],
             [
              0.1111111111111111,
              "#46039f"
             ],
             [
              0.2222222222222222,
              "#7201a8"
             ],
             [
              0.3333333333333333,
              "#9c179e"
             ],
             [
              0.4444444444444444,
              "#bd3786"
             ],
             [
              0.5555555555555556,
              "#d8576b"
             ],
             [
              0.6666666666666666,
              "#ed7953"
             ],
             [
              0.7777777777777778,
              "#fb9f3a"
             ],
             [
              0.8888888888888888,
              "#fdca26"
             ],
             [
              1,
              "#f0f921"
             ]
            ],
            "type": "histogram2d"
           }
          ],
          "histogram2dcontour": [
           {
            "colorbar": {
             "outlinewidth": 0,
             "ticks": ""
            },
            "colorscale": [
             [
              0,
              "#0d0887"
             ],
             [
              0.1111111111111111,
              "#46039f"
             ],
             [
              0.2222222222222222,
              "#7201a8"
             ],
             [
              0.3333333333333333,
              "#9c179e"
             ],
             [
              0.4444444444444444,
              "#bd3786"
             ],
             [
              0.5555555555555556,
              "#d8576b"
             ],
             [
              0.6666666666666666,
              "#ed7953"
             ],
             [
              0.7777777777777778,
              "#fb9f3a"
             ],
             [
              0.8888888888888888,
              "#fdca26"
             ],
             [
              1,
              "#f0f921"
             ]
            ],
            "type": "histogram2dcontour"
           }
          ],
          "mesh3d": [
           {
            "colorbar": {
             "outlinewidth": 0,
             "ticks": ""
            },
            "type": "mesh3d"
           }
          ],
          "parcoords": [
           {
            "line": {
             "colorbar": {
              "outlinewidth": 0,
              "ticks": ""
             }
            },
            "type": "parcoords"
           }
          ],
          "pie": [
           {
            "automargin": true,
            "type": "pie"
           }
          ],
          "scatter": [
           {
            "fillpattern": {
             "fillmode": "overlay",
             "size": 10,
             "solidity": 0.2
            },
            "type": "scatter"
           }
          ],
          "scatter3d": [
           {
            "line": {
             "colorbar": {
              "outlinewidth": 0,
              "ticks": ""
             }
            },
            "marker": {
             "colorbar": {
              "outlinewidth": 0,
              "ticks": ""
             }
            },
            "type": "scatter3d"
           }
          ],
          "scattercarpet": [
           {
            "marker": {
             "colorbar": {
              "outlinewidth": 0,
              "ticks": ""
             }
            },
            "type": "scattercarpet"
           }
          ],
          "scattergeo": [
           {
            "marker": {
             "colorbar": {
              "outlinewidth": 0,
              "ticks": ""
             }
            },
            "type": "scattergeo"
           }
          ],
          "scattergl": [
           {
            "marker": {
             "colorbar": {
              "outlinewidth": 0,
              "ticks": ""
             }
            },
            "type": "scattergl"
           }
          ],
          "scattermapbox": [
           {
            "marker": {
             "colorbar": {
              "outlinewidth": 0,
              "ticks": ""
             }
            },
            "type": "scattermapbox"
           }
          ],
          "scatterpolar": [
           {
            "marker": {
             "colorbar": {
              "outlinewidth": 0,
              "ticks": ""
             }
            },
            "type": "scatterpolar"
           }
          ],
          "scatterpolargl": [
           {
            "marker": {
             "colorbar": {
              "outlinewidth": 0,
              "ticks": ""
             }
            },
            "type": "scatterpolargl"
           }
          ],
          "scatterternary": [
           {
            "marker": {
             "colorbar": {
              "outlinewidth": 0,
              "ticks": ""
             }
            },
            "type": "scatterternary"
           }
          ],
          "surface": [
           {
            "colorbar": {
             "outlinewidth": 0,
             "ticks": ""
            },
            "colorscale": [
             [
              0,
              "#0d0887"
             ],
             [
              0.1111111111111111,
              "#46039f"
             ],
             [
              0.2222222222222222,
              "#7201a8"
             ],
             [
              0.3333333333333333,
              "#9c179e"
             ],
             [
              0.4444444444444444,
              "#bd3786"
             ],
             [
              0.5555555555555556,
              "#d8576b"
             ],
             [
              0.6666666666666666,
              "#ed7953"
             ],
             [
              0.7777777777777778,
              "#fb9f3a"
             ],
             [
              0.8888888888888888,
              "#fdca26"
             ],
             [
              1,
              "#f0f921"
             ]
            ],
            "type": "surface"
           }
          ],
          "table": [
           {
            "cells": {
             "fill": {
              "color": "#EBF0F8"
             },
             "line": {
              "color": "white"
             }
            },
            "header": {
             "fill": {
              "color": "#C8D4E3"
             },
             "line": {
              "color": "white"
             }
            },
            "type": "table"
           }
          ]
         },
         "layout": {
          "annotationdefaults": {
           "arrowcolor": "#2a3f5f",
           "arrowhead": 0,
           "arrowwidth": 1
          },
          "autotypenumbers": "strict",
          "coloraxis": {
           "colorbar": {
            "outlinewidth": 0,
            "ticks": ""
           }
          },
          "colorscale": {
           "diverging": [
            [
             0,
             "#8e0152"
            ],
            [
             0.1,
             "#c51b7d"
            ],
            [
             0.2,
             "#de77ae"
            ],
            [
             0.3,
             "#f1b6da"
            ],
            [
             0.4,
             "#fde0ef"
            ],
            [
             0.5,
             "#f7f7f7"
            ],
            [
             0.6,
             "#e6f5d0"
            ],
            [
             0.7,
             "#b8e186"
            ],
            [
             0.8,
             "#7fbc41"
            ],
            [
             0.9,
             "#4d9221"
            ],
            [
             1,
             "#276419"
            ]
           ],
           "sequential": [
            [
             0,
             "#0d0887"
            ],
            [
             0.1111111111111111,
             "#46039f"
            ],
            [
             0.2222222222222222,
             "#7201a8"
            ],
            [
             0.3333333333333333,
             "#9c179e"
            ],
            [
             0.4444444444444444,
             "#bd3786"
            ],
            [
             0.5555555555555556,
             "#d8576b"
            ],
            [
             0.6666666666666666,
             "#ed7953"
            ],
            [
             0.7777777777777778,
             "#fb9f3a"
            ],
            [
             0.8888888888888888,
             "#fdca26"
            ],
            [
             1,
             "#f0f921"
            ]
           ],
           "sequentialminus": [
            [
             0,
             "#0d0887"
            ],
            [
             0.1111111111111111,
             "#46039f"
            ],
            [
             0.2222222222222222,
             "#7201a8"
            ],
            [
             0.3333333333333333,
             "#9c179e"
            ],
            [
             0.4444444444444444,
             "#bd3786"
            ],
            [
             0.5555555555555556,
             "#d8576b"
            ],
            [
             0.6666666666666666,
             "#ed7953"
            ],
            [
             0.7777777777777778,
             "#fb9f3a"
            ],
            [
             0.8888888888888888,
             "#fdca26"
            ],
            [
             1,
             "#f0f921"
            ]
           ]
          },
          "colorway": [
           "#636efa",
           "#EF553B",
           "#00cc96",
           "#ab63fa",
           "#FFA15A",
           "#19d3f3",
           "#FF6692",
           "#B6E880",
           "#FF97FF",
           "#FECB52"
          ],
          "font": {
           "color": "#2a3f5f"
          },
          "geo": {
           "bgcolor": "white",
           "lakecolor": "white",
           "landcolor": "#E5ECF6",
           "showlakes": true,
           "showland": true,
           "subunitcolor": "white"
          },
          "hoverlabel": {
           "align": "left"
          },
          "hovermode": "closest",
          "mapbox": {
           "style": "light"
          },
          "paper_bgcolor": "white",
          "plot_bgcolor": "#E5ECF6",
          "polar": {
           "angularaxis": {
            "gridcolor": "white",
            "linecolor": "white",
            "ticks": ""
           },
           "bgcolor": "#E5ECF6",
           "radialaxis": {
            "gridcolor": "white",
            "linecolor": "white",
            "ticks": ""
           }
          },
          "scene": {
           "xaxis": {
            "backgroundcolor": "#E5ECF6",
            "gridcolor": "white",
            "gridwidth": 2,
            "linecolor": "white",
            "showbackground": true,
            "ticks": "",
            "zerolinecolor": "white"
           },
           "yaxis": {
            "backgroundcolor": "#E5ECF6",
            "gridcolor": "white",
            "gridwidth": 2,
            "linecolor": "white",
            "showbackground": true,
            "ticks": "",
            "zerolinecolor": "white"
           },
           "zaxis": {
            "backgroundcolor": "#E5ECF6",
            "gridcolor": "white",
            "gridwidth": 2,
            "linecolor": "white",
            "showbackground": true,
            "ticks": "",
            "zerolinecolor": "white"
           }
          },
          "shapedefaults": {
           "line": {
            "color": "#2a3f5f"
           }
          },
          "ternary": {
           "aaxis": {
            "gridcolor": "white",
            "linecolor": "white",
            "ticks": ""
           },
           "baxis": {
            "gridcolor": "white",
            "linecolor": "white",
            "ticks": ""
           },
           "bgcolor": "#E5ECF6",
           "caxis": {
            "gridcolor": "white",
            "linecolor": "white",
            "ticks": ""
           }
          },
          "title": {
           "x": 0.05
          },
          "xaxis": {
           "automargin": true,
           "gridcolor": "white",
           "linecolor": "white",
           "ticks": "",
           "title": {
            "standoff": 15
           },
           "zerolinecolor": "white",
           "zerolinewidth": 2
          },
          "yaxis": {
           "automargin": true,
           "gridcolor": "white",
           "linecolor": "white",
           "ticks": "",
           "title": {
            "standoff": 15
           },
           "zerolinecolor": "white",
           "zerolinewidth": 2
          }
         }
        },
        "title": {
         "text": "Column A vs B"
        },
        "xaxis": {
         "anchor": "y",
         "domain": [
          0,
          1
         ],
         "title": {
          "text": "A"
         }
        },
        "yaxis": {
         "anchor": "x",
         "domain": [
          0,
          1
         ],
         "title": {
          "text": "B"
         }
        }
       }
      },
      "text/html": [
       "<div>                            <div id=\"88d103ed-5635-4eac-96b2-c7cf007fbf22\" class=\"plotly-graph-div\" style=\"height:525px; width:100%;\"></div>            <script type=\"text/javascript\">                require([\"plotly\"], function(Plotly) {                    window.PLOTLYENV=window.PLOTLYENV || {};                                    if (document.getElementById(\"88d103ed-5635-4eac-96b2-c7cf007fbf22\")) {                    Plotly.newPlot(                        \"88d103ed-5635-4eac-96b2-c7cf007fbf22\",                        [{\"coloraxis\":\"coloraxis\",\"hovertemplate\":\"A=%{x}\\u003cbr\\u003eB=%{y}\\u003cbr\\u003ecount=%{z}\\u003cextra\\u003e\\u003c\\u002fextra\\u003e\",\"name\":\"\",\"texttemplate\":\"%{z}\",\"x\":[-1.4747380955937974,0.28725077112417235,-1.6568846794720122,1.381720942647079,0.3657833365094521,0.026008073073972172,-0.5109681143770874,-0.30968695071839253,0.08056276720583924,1.2206461655280683,-1.0044961445651543,-0.7086123871501985,-0.3032080480213653,-0.4681810010400497,0.4883380048432973,-1.0568975335865904,-0.6478951720409023,-1.1006335991216396,-1.1084672870151069,1.0115169993247746,0.8628879534962799,0.49107556584687034,-0.21460151922209592,-0.21167224031379164,-1.0868280793928702,0.1813077457259262,1.6048411477507714,-1.1129128593443407,0.13510904054871198,0.7363175261488993,0.30133889718720347,1.0968390103774157,-0.9215941053119098,1.1452096988910712,-0.0969211977387717,0.7832229582485118,1.0531791723051949,-0.6663370851946934,-0.7282508718905567,-1.688787692138687,0.2592955164616916,-0.35251940357111267,0.5255678646250175,0.1591013061134092,1.6392683058616393,-0.7594873429459711,0.3571677103292569,-1.9129516673080214,0.2812674212385775,2.9443484953104657,-1.2668238549208235,0.41322784242257693,1.206697949804835,1.0295637127428512,0.42415314431239537,-1.234242731046262,-0.005177234655683374,0.40215839443750323,0.5734568360798693,-0.981071428153688,-1.044181132406017,-0.5455429283558031,0.8723741296130654,-1.7382678852503126,-2.394203349842937,1.1200094352775187,-0.6221419105120386,0.28050386485521667,-0.21614849790735982,-0.5457390506690335,-2.3191277297140607,1.3524213867671204,0.12594824702172094,-0.02781084118179256,-1.0121863416508705,-0.1346075258918912,-0.2161185225683815,-1.4044793440674315,0.5103800616622387,-0.26035603985135364,0.7128604943441633,-0.09028399432601468,0.5214049330304661,-0.050307547047459246,-0.139890323143218,-1.2155801358748424,0.9627948608905095,0.8801238599064668,0.020185320431986706,1.6625023152013685,0.3816936279691013,0.34509760366963216,0.37972886845205844,0.4258913685657802,-0.22863620193291423,-1.4886214993845972,0.5486315743498743,-0.37552303459747266,-1.7087243821390654,-0.047214690067770786],\"xaxis\":\"x\",\"xbingroup\":\"x\",\"y\":[0.21816361565301612,-0.18311601650778261,-0.8722852429063794,0.7996321791414022,1.4830013794585655,-1.8513851087254878,1.613906454791288,-1.5827358120075996,-0.2852339752587739,-1.1655837011030066,-1.3316526305662248,-0.058152616565652196,0.06088486005099269,-1.8538715257905751,-0.10795630868630458,-0.5169453758367406,0.05896114763704862,1.937674579815131,-0.43586910750577423,0.6301701523533102,0.2487690009306954,-0.5768590175830137,-0.23048178855369697,1.5829241162079017,-0.7064465895575457,-0.07800414606637208,0.9267040564138606,-0.9945444848093137,1.5232090046065017,0.5724140410636237,-0.5824132253983889,1.4758903927481846,0.7894141470303264,-0.34231970058963407,-0.7810319671697296,0.2072844838228586,-0.5588365519503141,-0.38971140833812906,0.21785672555286356,1.0289889419787783,-1.3145327761543142,0.18482300394128667,0.325360903405271,0.8234367426244258,0.7549608081461314,-0.24592878896044312,-0.8898589213424684,1.1296498601309384,-0.7646354208473364,-1.7613727579525837,-0.007885085352440032,-0.6550676125914235,-1.5382251668563758,2.9664757064106833,0.05136220368240336,0.9053762889413747,-0.9014199037894448,0.14416787795095554,0.5772481753295273,1.00066627733789,-1.484677774151373,-1.0470748306972992,-1.0394473595670013,1.0139539314489332,-0.2266635690751747,-2.906894044978705,0.3866286493770684,-0.22145896800858503,0.2723182682770941,-0.23515963148068272,-0.8867866717522348,-0.017926170650252895,0.1202193588446371,0.5167784095259662,-1.1692508750791701,0.12401321928940981,-0.7738107387476351,-0.9566254708018384,-0.26444548631561315,-1.6766931874405588,-1.5626958822528276,-1.0537752027800056,0.01008372961374793,0.07867473793517019,-1.6967402907609725,-1.896581525083377,-0.9524305910705916,0.9152100476428011,0.5403263954180979,-1.1951744668940307,-0.7586988875890001,-2.764229500397465,-1.058834908427951,-1.211320125788323,-1.4017384442446392,0.31423912897978823,0.40750676142202613,-0.12272730770175873,-0.16912280770312685,-0.17788138935751074],\"yaxis\":\"y\",\"ybingroup\":\"y\",\"type\":\"histogram2d\"}],                        {\"template\":{\"data\":{\"histogram2dcontour\":[{\"type\":\"histogram2dcontour\",\"colorbar\":{\"outlinewidth\":0,\"ticks\":\"\"},\"colorscale\":[[0.0,\"#0d0887\"],[0.1111111111111111,\"#46039f\"],[0.2222222222222222,\"#7201a8\"],[0.3333333333333333,\"#9c179e\"],[0.4444444444444444,\"#bd3786\"],[0.5555555555555556,\"#d8576b\"],[0.6666666666666666,\"#ed7953\"],[0.7777777777777778,\"#fb9f3a\"],[0.8888888888888888,\"#fdca26\"],[1.0,\"#f0f921\"]]}],\"choropleth\":[{\"type\":\"choropleth\",\"colorbar\":{\"outlinewidth\":0,\"ticks\":\"\"}}],\"histogram2d\":[{\"type\":\"histogram2d\",\"colorbar\":{\"outlinewidth\":0,\"ticks\":\"\"},\"colorscale\":[[0.0,\"#0d0887\"],[0.1111111111111111,\"#46039f\"],[0.2222222222222222,\"#7201a8\"],[0.3333333333333333,\"#9c179e\"],[0.4444444444444444,\"#bd3786\"],[0.5555555555555556,\"#d8576b\"],[0.6666666666666666,\"#ed7953\"],[0.7777777777777778,\"#fb9f3a\"],[0.8888888888888888,\"#fdca26\"],[1.0,\"#f0f921\"]]}],\"heatmap\":[{\"type\":\"heatmap\",\"colorbar\":{\"outlinewidth\":0,\"ticks\":\"\"},\"colorscale\":[[0.0,\"#0d0887\"],[0.1111111111111111,\"#46039f\"],[0.2222222222222222,\"#7201a8\"],[0.3333333333333333,\"#9c179e\"],[0.4444444444444444,\"#bd3786\"],[0.5555555555555556,\"#d8576b\"],[0.6666666666666666,\"#ed7953\"],[0.7777777777777778,\"#fb9f3a\"],[0.8888888888888888,\"#fdca26\"],[1.0,\"#f0f921\"]]}],\"heatmapgl\":[{\"type\":\"heatmapgl\",\"colorbar\":{\"outlinewidth\":0,\"ticks\":\"\"},\"colorscale\":[[0.0,\"#0d0887\"],[0.1111111111111111,\"#46039f\"],[0.2222222222222222,\"#7201a8\"],[0.3333333333333333,\"#9c179e\"],[0.4444444444444444,\"#bd3786\"],[0.5555555555555556,\"#d8576b\"],[0.6666666666666666,\"#ed7953\"],[0.7777777777777778,\"#fb9f3a\"],[0.8888888888888888,\"#fdca26\"],[1.0,\"#f0f921\"]]}],\"contourcarpet\":[{\"type\":\"contourcarpet\",\"colorbar\":{\"outlinewidth\":0,\"ticks\":\"\"}}],\"contour\":[{\"type\":\"contour\",\"colorbar\":{\"outlinewidth\":0,\"ticks\":\"\"},\"colorscale\":[[0.0,\"#0d0887\"],[0.1111111111111111,\"#46039f\"],[0.2222222222222222,\"#7201a8\"],[0.3333333333333333,\"#9c179e\"],[0.4444444444444444,\"#bd3786\"],[0.5555555555555556,\"#d8576b\"],[0.6666666666666666,\"#ed7953\"],[0.7777777777777778,\"#fb9f3a\"],[0.8888888888888888,\"#fdca26\"],[1.0,\"#f0f921\"]]}],\"surface\":[{\"type\":\"surface\",\"colorbar\":{\"outlinewidth\":0,\"ticks\":\"\"},\"colorscale\":[[0.0,\"#0d0887\"],[0.1111111111111111,\"#46039f\"],[0.2222222222222222,\"#7201a8\"],[0.3333333333333333,\"#9c179e\"],[0.4444444444444444,\"#bd3786\"],[0.5555555555555556,\"#d8576b\"],[0.6666666666666666,\"#ed7953\"],[0.7777777777777778,\"#fb9f3a\"],[0.8888888888888888,\"#fdca26\"],[1.0,\"#f0f921\"]]}],\"mesh3d\":[{\"type\":\"mesh3d\",\"colorbar\":{\"outlinewidth\":0,\"ticks\":\"\"}}],\"scatter\":[{\"fillpattern\":{\"fillmode\":\"overlay\",\"size\":10,\"solidity\":0.2},\"type\":\"scatter\"}],\"parcoords\":[{\"type\":\"parcoords\",\"line\":{\"colorbar\":{\"outlinewidth\":0,\"ticks\":\"\"}}}],\"scatterpolargl\":[{\"type\":\"scatterpolargl\",\"marker\":{\"colorbar\":{\"outlinewidth\":0,\"ticks\":\"\"}}}],\"bar\":[{\"error_x\":{\"color\":\"#2a3f5f\"},\"error_y\":{\"color\":\"#2a3f5f\"},\"marker\":{\"line\":{\"color\":\"#E5ECF6\",\"width\":0.5},\"pattern\":{\"fillmode\":\"overlay\",\"size\":10,\"solidity\":0.2}},\"type\":\"bar\"}],\"scattergeo\":[{\"type\":\"scattergeo\",\"marker\":{\"colorbar\":{\"outlinewidth\":0,\"ticks\":\"\"}}}],\"scatterpolar\":[{\"type\":\"scatterpolar\",\"marker\":{\"colorbar\":{\"outlinewidth\":0,\"ticks\":\"\"}}}],\"histogram\":[{\"marker\":{\"pattern\":{\"fillmode\":\"overlay\",\"size\":10,\"solidity\":0.2}},\"type\":\"histogram\"}],\"scattergl\":[{\"type\":\"scattergl\",\"marker\":{\"colorbar\":{\"outlinewidth\":0,\"ticks\":\"\"}}}],\"scatter3d\":[{\"type\":\"scatter3d\",\"line\":{\"colorbar\":{\"outlinewidth\":0,\"ticks\":\"\"}},\"marker\":{\"colorbar\":{\"outlinewidth\":0,\"ticks\":\"\"}}}],\"scattermapbox\":[{\"type\":\"scattermapbox\",\"marker\":{\"colorbar\":{\"outlinewidth\":0,\"ticks\":\"\"}}}],\"scatterternary\":[{\"type\":\"scatterternary\",\"marker\":{\"colorbar\":{\"outlinewidth\":0,\"ticks\":\"\"}}}],\"scattercarpet\":[{\"type\":\"scattercarpet\",\"marker\":{\"colorbar\":{\"outlinewidth\":0,\"ticks\":\"\"}}}],\"carpet\":[{\"aaxis\":{\"endlinecolor\":\"#2a3f5f\",\"gridcolor\":\"white\",\"linecolor\":\"white\",\"minorgridcolor\":\"white\",\"startlinecolor\":\"#2a3f5f\"},\"baxis\":{\"endlinecolor\":\"#2a3f5f\",\"gridcolor\":\"white\",\"linecolor\":\"white\",\"minorgridcolor\":\"white\",\"startlinecolor\":\"#2a3f5f\"},\"type\":\"carpet\"}],\"table\":[{\"cells\":{\"fill\":{\"color\":\"#EBF0F8\"},\"line\":{\"color\":\"white\"}},\"header\":{\"fill\":{\"color\":\"#C8D4E3\"},\"line\":{\"color\":\"white\"}},\"type\":\"table\"}],\"barpolar\":[{\"marker\":{\"line\":{\"color\":\"#E5ECF6\",\"width\":0.5},\"pattern\":{\"fillmode\":\"overlay\",\"size\":10,\"solidity\":0.2}},\"type\":\"barpolar\"}],\"pie\":[{\"automargin\":true,\"type\":\"pie\"}]},\"layout\":{\"autotypenumbers\":\"strict\",\"colorway\":[\"#636efa\",\"#EF553B\",\"#00cc96\",\"#ab63fa\",\"#FFA15A\",\"#19d3f3\",\"#FF6692\",\"#B6E880\",\"#FF97FF\",\"#FECB52\"],\"font\":{\"color\":\"#2a3f5f\"},\"hovermode\":\"closest\",\"hoverlabel\":{\"align\":\"left\"},\"paper_bgcolor\":\"white\",\"plot_bgcolor\":\"#E5ECF6\",\"polar\":{\"bgcolor\":\"#E5ECF6\",\"angularaxis\":{\"gridcolor\":\"white\",\"linecolor\":\"white\",\"ticks\":\"\"},\"radialaxis\":{\"gridcolor\":\"white\",\"linecolor\":\"white\",\"ticks\":\"\"}},\"ternary\":{\"bgcolor\":\"#E5ECF6\",\"aaxis\":{\"gridcolor\":\"white\",\"linecolor\":\"white\",\"ticks\":\"\"},\"baxis\":{\"gridcolor\":\"white\",\"linecolor\":\"white\",\"ticks\":\"\"},\"caxis\":{\"gridcolor\":\"white\",\"linecolor\":\"white\",\"ticks\":\"\"}},\"coloraxis\":{\"colorbar\":{\"outlinewidth\":0,\"ticks\":\"\"}},\"colorscale\":{\"sequential\":[[0.0,\"#0d0887\"],[0.1111111111111111,\"#46039f\"],[0.2222222222222222,\"#7201a8\"],[0.3333333333333333,\"#9c179e\"],[0.4444444444444444,\"#bd3786\"],[0.5555555555555556,\"#d8576b\"],[0.6666666666666666,\"#ed7953\"],[0.7777777777777778,\"#fb9f3a\"],[0.8888888888888888,\"#fdca26\"],[1.0,\"#f0f921\"]],\"sequentialminus\":[[0.0,\"#0d0887\"],[0.1111111111111111,\"#46039f\"],[0.2222222222222222,\"#7201a8\"],[0.3333333333333333,\"#9c179e\"],[0.4444444444444444,\"#bd3786\"],[0.5555555555555556,\"#d8576b\"],[0.6666666666666666,\"#ed7953\"],[0.7777777777777778,\"#fb9f3a\"],[0.8888888888888888,\"#fdca26\"],[1.0,\"#f0f921\"]],\"diverging\":[[0,\"#8e0152\"],[0.1,\"#c51b7d\"],[0.2,\"#de77ae\"],[0.3,\"#f1b6da\"],[0.4,\"#fde0ef\"],[0.5,\"#f7f7f7\"],[0.6,\"#e6f5d0\"],[0.7,\"#b8e186\"],[0.8,\"#7fbc41\"],[0.9,\"#4d9221\"],[1,\"#276419\"]]},\"xaxis\":{\"gridcolor\":\"white\",\"linecolor\":\"white\",\"ticks\":\"\",\"title\":{\"standoff\":15},\"zerolinecolor\":\"white\",\"automargin\":true,\"zerolinewidth\":2},\"yaxis\":{\"gridcolor\":\"white\",\"linecolor\":\"white\",\"ticks\":\"\",\"title\":{\"standoff\":15},\"zerolinecolor\":\"white\",\"automargin\":true,\"zerolinewidth\":2},\"scene\":{\"xaxis\":{\"backgroundcolor\":\"#E5ECF6\",\"gridcolor\":\"white\",\"linecolor\":\"white\",\"showbackground\":true,\"ticks\":\"\",\"zerolinecolor\":\"white\",\"gridwidth\":2},\"yaxis\":{\"backgroundcolor\":\"#E5ECF6\",\"gridcolor\":\"white\",\"linecolor\":\"white\",\"showbackground\":true,\"ticks\":\"\",\"zerolinecolor\":\"white\",\"gridwidth\":2},\"zaxis\":{\"backgroundcolor\":\"#E5ECF6\",\"gridcolor\":\"white\",\"linecolor\":\"white\",\"showbackground\":true,\"ticks\":\"\",\"zerolinecolor\":\"white\",\"gridwidth\":2}},\"shapedefaults\":{\"line\":{\"color\":\"#2a3f5f\"}},\"annotationdefaults\":{\"arrowcolor\":\"#2a3f5f\",\"arrowhead\":0,\"arrowwidth\":1},\"geo\":{\"bgcolor\":\"white\",\"landcolor\":\"#E5ECF6\",\"subunitcolor\":\"white\",\"showland\":true,\"showlakes\":true,\"lakecolor\":\"white\"},\"title\":{\"x\":0.05},\"mapbox\":{\"style\":\"light\"}}},\"xaxis\":{\"anchor\":\"y\",\"domain\":[0.0,1.0],\"title\":{\"text\":\"A\"}},\"yaxis\":{\"anchor\":\"x\",\"domain\":[0.0,1.0],\"title\":{\"text\":\"B\"}},\"coloraxis\":{\"colorbar\":{\"title\":{\"text\":\"count\"}},\"colorscale\":[[0.0,\"#0d0887\"],[0.1111111111111111,\"#46039f\"],[0.2222222222222222,\"#7201a8\"],[0.3333333333333333,\"#9c179e\"],[0.4444444444444444,\"#bd3786\"],[0.5555555555555556,\"#d8576b\"],[0.6666666666666666,\"#ed7953\"],[0.7777777777777778,\"#fb9f3a\"],[0.8888888888888888,\"#fdca26\"],[1.0,\"#f0f921\"]]},\"legend\":{\"tracegroupgap\":0},\"title\":{\"text\":\"Column A vs B\"}},                        {\"responsive\": true}                    ).then(function(){\n",
       "                            \n",
       "var gd = document.getElementById('88d103ed-5635-4eac-96b2-c7cf007fbf22');\n",
       "var x = new MutationObserver(function (mutations, observer) {{\n",
       "        var display = window.getComputedStyle(gd).display;\n",
       "        if (!display || display === 'none') {{\n",
       "            console.log([gd, 'removed!']);\n",
       "            Plotly.purge(gd);\n",
       "            observer.disconnect();\n",
       "        }}\n",
       "}});\n",
       "\n",
       "// Listen for the removal of the full notebook cells\n",
       "var notebookContainer = gd.closest('#notebook-container');\n",
       "if (notebookContainer) {{\n",
       "    x.observe(notebookContainer, {childList: true});\n",
       "}}\n",
       "\n",
       "// Listen for the clearing of the current output cell\n",
       "var outputEl = gd.closest('.output');\n",
       "if (outputEl) {{\n",
       "    x.observe(outputEl, {childList: true});\n",
       "}}\n",
       "\n",
       "                        })                };                });            </script>        </div>"
      ]
     },
     "metadata": {},
     "output_type": "display_data"
    }
   ],
   "source": [
    "# Alternative method: px.density_heatmap() for column A versus B\n",
    "fig = px.density_heatmap(df1, x='A', y='B', title=\"Column A vs B\", text_auto=True)\n",
    "fig.show()"
   ]
  }
 ],
 "metadata": {
  "kernelspec": {
   "display_name": "Python 3",
   "language": "python",
   "name": "python3"
  },
  "language_info": {
   "codemirror_mode": {
    "name": "ipython",
    "version": 3
   },
   "file_extension": ".py",
   "mimetype": "text/x-python",
   "name": "python",
   "nbconvert_exporter": "python",
   "pygments_lexer": "ipython3",
   "version": "3.11.2"
  }
 },
 "nbformat": 4,
 "nbformat_minor": 0
}
