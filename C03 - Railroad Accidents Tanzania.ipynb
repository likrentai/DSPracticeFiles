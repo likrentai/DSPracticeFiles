{
 "cells": [
  {
   "cell_type": "markdown",
   "metadata": {},
   "source": [
    "# RAILROAD ACCIDENTS (TANZANIA) 2021-2022\n",
    "___"
   ]
  },
  {
   "cell_type": "code",
   "execution_count": 24,
   "metadata": {},
   "outputs": [
    {
     "name": "stdout",
     "output_type": "stream",
     "text": [
      "Number of rows and columns in the dataset:  (791, 13)\n"
     ]
    }
   ],
   "source": [
    "import pandas as pd\n",
    "import numpy as np\n",
    "import matplotlib.pyplot as plt\n",
    "import seaborn as sns\n",
    "%matplotlib inline\n",
    "\n",
    "df = pd.read_csv('E:/IT Training/DatasetsForLearning/DS/Railway_Accident_TZ_CSV.csv')\n",
    "print('Number of rows and columns in the dataset: ', df.shape)"
   ]
  },
  {
   "cell_type": "code",
   "execution_count": 25,
   "metadata": {},
   "outputs": [
    {
     "data": {
      "text/plain": [
       "Index(['ID', 'REF_NO', 'OCCURED_AT', 'LOCATION', 'FROM(KM)', 'TO(KM)',\n",
       "       'SEC_ID', 'TRAIN', 'LOCO/TROLLEY', 'ACCIDENT_SUBJECT', 'DEATH/INJURY',\n",
       "       'ACCIDENT_CAUSE', 'RESPONSIBLE_DESIGNATION'],\n",
       "      dtype='object')"
      ]
     },
     "execution_count": 25,
     "metadata": {},
     "output_type": "execute_result"
    }
   ],
   "source": [
    "# Show column names\n",
    "df.columns"
   ]
  },
  {
   "cell_type": "code",
   "execution_count": 26,
   "metadata": {},
   "outputs": [
    {
     "data": {
      "text/html": [
       "<div>\n",
       "<style scoped>\n",
       "    .dataframe tbody tr th:only-of-type {\n",
       "        vertical-align: middle;\n",
       "    }\n",
       "\n",
       "    .dataframe tbody tr th {\n",
       "        vertical-align: top;\n",
       "    }\n",
       "\n",
       "    .dataframe thead th {\n",
       "        text-align: right;\n",
       "    }\n",
       "</style>\n",
       "<table border=\"1\" class=\"dataframe\">\n",
       "  <thead>\n",
       "    <tr style=\"text-align: right;\">\n",
       "      <th></th>\n",
       "      <th>ID</th>\n",
       "      <th>REF_NO</th>\n",
       "      <th>OCCURED_AT</th>\n",
       "      <th>LOCATION</th>\n",
       "      <th>FROM(KM)</th>\n",
       "      <th>TO(KM)</th>\n",
       "      <th>SEC_ID</th>\n",
       "      <th>TRAIN</th>\n",
       "      <th>LOCO/TROLLEY</th>\n",
       "      <th>ACCIDENT_SUBJECT</th>\n",
       "      <th>DEATH/INJURY</th>\n",
       "      <th>ACCIDENT_CAUSE</th>\n",
       "      <th>RESPONSIBLE_DESIGNATION</th>\n",
       "    </tr>\n",
       "  </thead>\n",
       "  <tbody>\n",
       "    <tr>\n",
       "      <th>0</th>\n",
       "      <td>1</td>\n",
       "      <td>MAI.ACC.32.2022</td>\n",
       "      <td>6/14/22 19:30</td>\n",
       "      <td>TCMB</td>\n",
       "      <td>NaN</td>\n",
       "      <td>NaN</td>\n",
       "      <td>NaN</td>\n",
       "      <td>S/E</td>\n",
       "      <td>64U06</td>\n",
       "      <td>LOCO FAILURE</td>\n",
       "      <td>NaN</td>\n",
       "      <td>MECHANICAL</td>\n",
       "      <td>ROLLING STOCK</td>\n",
       "    </tr>\n",
       "    <tr>\n",
       "      <th>1</th>\n",
       "      <td>2</td>\n",
       "      <td>LUC.ACC.06.2022</td>\n",
       "      <td>6/14/22 18:25</td>\n",
       "      <td>NaN</td>\n",
       "      <td>11234.2</td>\n",
       "      <td>NaN</td>\n",
       "      <td>E-LUC-KGM</td>\n",
       "      <td>Y14</td>\n",
       "      <td>9006</td>\n",
       "      <td>DERAILMENT</td>\n",
       "      <td>NaN</td>\n",
       "      <td>TO BE STATED</td>\n",
       "      <td>NaN</td>\n",
       "    </tr>\n",
       "    <tr>\n",
       "      <th>2</th>\n",
       "      <td>3</td>\n",
       "      <td>FLA.ACC.05.2022</td>\n",
       "      <td>5/31/22 22:10</td>\n",
       "      <td>NaN</td>\n",
       "      <td>12333.0</td>\n",
       "      <td>NaN</td>\n",
       "      <td>D-MTE-FLA</td>\n",
       "      <td>A361</td>\n",
       "      <td>9007</td>\n",
       "      <td>LOCO FAILURE</td>\n",
       "      <td>NaN</td>\n",
       "      <td>EXCESSIVE WHEEL SLIP</td>\n",
       "      <td>ROLLING STOCK</td>\n",
       "    </tr>\n",
       "    <tr>\n",
       "      <th>3</th>\n",
       "      <td>4</td>\n",
       "      <td>TUR.ACC.02.2022</td>\n",
       "      <td>5/31/22 15:10</td>\n",
       "      <td>NaN</td>\n",
       "      <td>10694.0</td>\n",
       "      <td>NaN</td>\n",
       "      <td>C-KGX-TUR</td>\n",
       "      <td>NaN</td>\n",
       "      <td>NaN</td>\n",
       "      <td>BROKEN/BUCKLED RAIL</td>\n",
       "      <td>NaN</td>\n",
       "      <td>LORRY CROSSING OVER THE TRACK</td>\n",
       "      <td>HUMAN ERROR</td>\n",
       "    </tr>\n",
       "    <tr>\n",
       "      <th>4</th>\n",
       "      <td>5</td>\n",
       "      <td>URM.ACC.04.2022</td>\n",
       "      <td>5/30/22 18:00</td>\n",
       "      <td>URM</td>\n",
       "      <td>NaN</td>\n",
       "      <td>NaN</td>\n",
       "      <td>NaN</td>\n",
       "      <td>Y631</td>\n",
       "      <td>9020</td>\n",
       "      <td>LOCO FAILURE</td>\n",
       "      <td>NaN</td>\n",
       "      <td>SHORTAGE OF FUEL</td>\n",
       "      <td>NaN</td>\n",
       "    </tr>\n",
       "  </tbody>\n",
       "</table>\n",
       "</div>"
      ],
      "text/plain": [
       "   ID           REF_NO     OCCURED_AT LOCATION  FROM(KM)  TO(KM)     SEC_ID  \\\n",
       "0   1  MAI.ACC.32.2022  6/14/22 19:30     TCMB       NaN     NaN        NaN   \n",
       "1   2  LUC.ACC.06.2022  6/14/22 18:25      NaN   11234.2     NaN  E-LUC-KGM   \n",
       "2   3  FLA.ACC.05.2022  5/31/22 22:10      NaN   12333.0     NaN  D-MTE-FLA   \n",
       "3   4  TUR.ACC.02.2022  5/31/22 15:10      NaN   10694.0     NaN  C-KGX-TUR   \n",
       "4   5  URM.ACC.04.2022  5/30/22 18:00      URM       NaN     NaN        NaN   \n",
       "\n",
       "  TRAIN LOCO/TROLLEY     ACCIDENT_SUBJECT DEATH/INJURY  \\\n",
       "0   S/E        64U06         LOCO FAILURE          NaN   \n",
       "1   Y14         9006           DERAILMENT          NaN   \n",
       "2  A361         9007         LOCO FAILURE          NaN   \n",
       "3   NaN          NaN  BROKEN/BUCKLED RAIL          NaN   \n",
       "4  Y631         9020         LOCO FAILURE          NaN   \n",
       "\n",
       "                  ACCIDENT_CAUSE RESPONSIBLE_DESIGNATION  \n",
       "0                     MECHANICAL           ROLLING STOCK  \n",
       "1                   TO BE STATED                     NaN  \n",
       "2           EXCESSIVE WHEEL SLIP           ROLLING STOCK  \n",
       "3  LORRY CROSSING OVER THE TRACK             HUMAN ERROR  \n",
       "4               SHORTAGE OF FUEL                     NaN  "
      ]
     },
     "execution_count": 26,
     "metadata": {},
     "output_type": "execute_result"
    }
   ],
   "source": [
    "# Show the first 5 rows\n",
    "df.head()"
   ]
  },
  {
   "cell_type": "code",
   "execution_count": 6,
   "metadata": {},
   "outputs": [
    {
     "data": {
      "text/html": [
       "<div>\n",
       "<style scoped>\n",
       "    .dataframe tbody tr th:only-of-type {\n",
       "        vertical-align: middle;\n",
       "    }\n",
       "\n",
       "    .dataframe tbody tr th {\n",
       "        vertical-align: top;\n",
       "    }\n",
       "\n",
       "    .dataframe thead th {\n",
       "        text-align: right;\n",
       "    }\n",
       "</style>\n",
       "<table border=\"1\" class=\"dataframe\">\n",
       "  <thead>\n",
       "    <tr style=\"text-align: right;\">\n",
       "      <th></th>\n",
       "      <th>ID</th>\n",
       "      <th>REF_NO</th>\n",
       "      <th>OCCURED_AT</th>\n",
       "      <th>LOCATION</th>\n",
       "      <th>FROM(KM)</th>\n",
       "      <th>TO(KM)</th>\n",
       "      <th>SEC_ID</th>\n",
       "      <th>TRAIN</th>\n",
       "      <th>LOCO/TROLLEY</th>\n",
       "      <th>ACCIDENT_SUBJECT</th>\n",
       "      <th>DEATH/INJURY</th>\n",
       "      <th>ACCIDENT_CAUSE</th>\n",
       "      <th>RESPONSIBLE_DESIGNATION</th>\n",
       "    </tr>\n",
       "  </thead>\n",
       "  <tbody>\n",
       "    <tr>\n",
       "      <th>0</th>\n",
       "      <td>1</td>\n",
       "      <td>MAI.ACC.32.2022</td>\n",
       "      <td>6/14/22 19:30</td>\n",
       "      <td>TCMB</td>\n",
       "      <td>NaN</td>\n",
       "      <td>NaN</td>\n",
       "      <td>NaN</td>\n",
       "      <td>S/E</td>\n",
       "      <td>64U06</td>\n",
       "      <td>LOCO FAILURE</td>\n",
       "      <td>NaN</td>\n",
       "      <td>MECHANICAL</td>\n",
       "      <td>ROLLING STOCK</td>\n",
       "    </tr>\n",
       "    <tr>\n",
       "      <th>1</th>\n",
       "      <td>2</td>\n",
       "      <td>LUC.ACC.06.2022</td>\n",
       "      <td>6/14/22 18:25</td>\n",
       "      <td>NaN</td>\n",
       "      <td>11234.2</td>\n",
       "      <td>NaN</td>\n",
       "      <td>E-LUC-KGM</td>\n",
       "      <td>Y14</td>\n",
       "      <td>9006</td>\n",
       "      <td>DERAILMENT</td>\n",
       "      <td>NaN</td>\n",
       "      <td>TO BE STATED</td>\n",
       "      <td>NaN</td>\n",
       "    </tr>\n",
       "    <tr>\n",
       "      <th>2</th>\n",
       "      <td>3</td>\n",
       "      <td>FLA.ACC.05.2022</td>\n",
       "      <td>5/31/22 22:10</td>\n",
       "      <td>NaN</td>\n",
       "      <td>12333.0</td>\n",
       "      <td>NaN</td>\n",
       "      <td>D-MTE-FLA</td>\n",
       "      <td>A361</td>\n",
       "      <td>9007</td>\n",
       "      <td>LOCO FAILURE</td>\n",
       "      <td>NaN</td>\n",
       "      <td>EXCESSIVE WHEEL SLIP</td>\n",
       "      <td>ROLLING STOCK</td>\n",
       "    </tr>\n",
       "    <tr>\n",
       "      <th>3</th>\n",
       "      <td>4</td>\n",
       "      <td>TUR.ACC.02.2022</td>\n",
       "      <td>5/31/22 15:10</td>\n",
       "      <td>NaN</td>\n",
       "      <td>10694.0</td>\n",
       "      <td>NaN</td>\n",
       "      <td>C-KGX-TUR</td>\n",
       "      <td>NaN</td>\n",
       "      <td>NaN</td>\n",
       "      <td>BROKEN/BUCKLED RAIL</td>\n",
       "      <td>NaN</td>\n",
       "      <td>LORRY CROSSING OVER THE TRACK</td>\n",
       "      <td>HUMAN ERROR</td>\n",
       "    </tr>\n",
       "    <tr>\n",
       "      <th>4</th>\n",
       "      <td>5</td>\n",
       "      <td>URM.ACC.04.2022</td>\n",
       "      <td>5/30/22 18:00</td>\n",
       "      <td>URM</td>\n",
       "      <td>NaN</td>\n",
       "      <td>NaN</td>\n",
       "      <td>NaN</td>\n",
       "      <td>Y631</td>\n",
       "      <td>9020</td>\n",
       "      <td>LOCO FAILURE</td>\n",
       "      <td>NaN</td>\n",
       "      <td>SHORTAGE OF FUEL</td>\n",
       "      <td>NaN</td>\n",
       "    </tr>\n",
       "    <tr>\n",
       "      <th>...</th>\n",
       "      <td>...</td>\n",
       "      <td>...</td>\n",
       "      <td>...</td>\n",
       "      <td>...</td>\n",
       "      <td>...</td>\n",
       "      <td>...</td>\n",
       "      <td>...</td>\n",
       "      <td>...</td>\n",
       "      <td>...</td>\n",
       "      <td>...</td>\n",
       "      <td>...</td>\n",
       "      <td>...</td>\n",
       "      <td>...</td>\n",
       "    </tr>\n",
       "    <tr>\n",
       "      <th>786</th>\n",
       "      <td>787</td>\n",
       "      <td>LUC.ACC.14.2021</td>\n",
       "      <td>7/1/21 13:00</td>\n",
       "      <td>NaN</td>\n",
       "      <td>11214.3</td>\n",
       "      <td>11215.3</td>\n",
       "      <td>E-KZM-LUC</td>\n",
       "      <td>B211</td>\n",
       "      <td>88U02</td>\n",
       "      <td>DERAILMENT</td>\n",
       "      <td>NaN</td>\n",
       "      <td>TIGHT GAUGE</td>\n",
       "      <td>TRACK</td>\n",
       "    </tr>\n",
       "    <tr>\n",
       "      <th>787</th>\n",
       "      <td>788</td>\n",
       "      <td>LUC.ACC.14.21</td>\n",
       "      <td>7/1/21 13:00</td>\n",
       "      <td>NaN</td>\n",
       "      <td>1214.3</td>\n",
       "      <td>1215.3</td>\n",
       "      <td>E-KZM-LUC</td>\n",
       "      <td>B211</td>\n",
       "      <td>88U02</td>\n",
       "      <td>DERAILMENT</td>\n",
       "      <td>NaN</td>\n",
       "      <td>BRAKE BEAM DROPPED</td>\n",
       "      <td>ROLLING STOCK</td>\n",
       "    </tr>\n",
       "    <tr>\n",
       "      <th>788</th>\n",
       "      <td>789</td>\n",
       "      <td>LAB.ACC.14.2021</td>\n",
       "      <td>7/1/21 5:55</td>\n",
       "      <td>MWANANCHI LEVEL CROSSING</td>\n",
       "      <td>NaN</td>\n",
       "      <td>NaN</td>\n",
       "      <td>NaN</td>\n",
       "      <td>F161</td>\n",
       "      <td>88U08</td>\n",
       "      <td>MOTOR VEHICLE KNOCKED TRAIN</td>\n",
       "      <td>NaN</td>\n",
       "      <td>NEGLIGENCY OF ROAD VEHICLE DRIVER</td>\n",
       "      <td>NaN</td>\n",
       "    </tr>\n",
       "    <tr>\n",
       "      <th>789</th>\n",
       "      <td>790</td>\n",
       "      <td>LAB.ACC.14.21</td>\n",
       "      <td>7/1/21 5:55</td>\n",
       "      <td>MWANANCHI</td>\n",
       "      <td>NaN</td>\n",
       "      <td>NaN</td>\n",
       "      <td>A-LAB-UBO</td>\n",
       "      <td>F161</td>\n",
       "      <td>88U08</td>\n",
       "      <td>MOTOR VEHICLE KNOCKED TRAIN</td>\n",
       "      <td>INJURY</td>\n",
       "      <td>NEGLIGENCY OF ROAD VEHICLE DRIVER</td>\n",
       "      <td>NONE</td>\n",
       "    </tr>\n",
       "    <tr>\n",
       "      <th>790</th>\n",
       "      <td>791</td>\n",
       "      <td>UGR.ACC.05.21</td>\n",
       "      <td>7/1/21 2:10</td>\n",
       "      <td>NaN</td>\n",
       "      <td>132.7</td>\n",
       "      <td>132.5</td>\n",
       "      <td>E1-UGR-KTB</td>\n",
       "      <td>N56</td>\n",
       "      <td>9008</td>\n",
       "      <td>DERAILMENT</td>\n",
       "      <td>NaN</td>\n",
       "      <td>JERKING</td>\n",
       "      <td>UNRESOLVED</td>\n",
       "    </tr>\n",
       "  </tbody>\n",
       "</table>\n",
       "<p>791 rows × 13 columns</p>\n",
       "</div>"
      ],
      "text/plain": [
       "      ID           REF_NO     OCCURED_AT                  LOCATION  FROM(KM)  \\\n",
       "0      1  MAI.ACC.32.2022  6/14/22 19:30                      TCMB       NaN   \n",
       "1      2  LUC.ACC.06.2022  6/14/22 18:25                       NaN   11234.2   \n",
       "2      3  FLA.ACC.05.2022  5/31/22 22:10                       NaN   12333.0   \n",
       "3      4  TUR.ACC.02.2022  5/31/22 15:10                       NaN   10694.0   \n",
       "4      5  URM.ACC.04.2022  5/30/22 18:00                       URM       NaN   \n",
       "..   ...              ...            ...                       ...       ...   \n",
       "786  787  LUC.ACC.14.2021   7/1/21 13:00                       NaN   11214.3   \n",
       "787  788    LUC.ACC.14.21   7/1/21 13:00                       NaN    1214.3   \n",
       "788  789  LAB.ACC.14.2021    7/1/21 5:55  MWANANCHI LEVEL CROSSING       NaN   \n",
       "789  790    LAB.ACC.14.21    7/1/21 5:55                 MWANANCHI       NaN   \n",
       "790  791    UGR.ACC.05.21    7/1/21 2:10                       NaN     132.7   \n",
       "\n",
       "      TO(KM)      SEC_ID TRAIN LOCO/TROLLEY             ACCIDENT_SUBJECT  \\\n",
       "0        NaN         NaN   S/E        64U06                 LOCO FAILURE   \n",
       "1        NaN   E-LUC-KGM   Y14         9006                   DERAILMENT   \n",
       "2        NaN   D-MTE-FLA  A361         9007                 LOCO FAILURE   \n",
       "3        NaN   C-KGX-TUR   NaN          NaN          BROKEN/BUCKLED RAIL   \n",
       "4        NaN         NaN  Y631         9020                 LOCO FAILURE   \n",
       "..       ...         ...   ...          ...                          ...   \n",
       "786  11215.3   E-KZM-LUC  B211        88U02                   DERAILMENT   \n",
       "787   1215.3   E-KZM-LUC  B211        88U02                   DERAILMENT   \n",
       "788      NaN         NaN  F161        88U08  MOTOR VEHICLE KNOCKED TRAIN   \n",
       "789      NaN   A-LAB-UBO  F161        88U08  MOTOR VEHICLE KNOCKED TRAIN   \n",
       "790    132.5  E1-UGR-KTB   N56         9008                   DERAILMENT   \n",
       "\n",
       "    DEATH/INJURY                     ACCIDENT_CAUSE RESPONSIBLE_DESIGNATION  \n",
       "0            NaN                         MECHANICAL           ROLLING STOCK  \n",
       "1            NaN                       TO BE STATED                     NaN  \n",
       "2            NaN               EXCESSIVE WHEEL SLIP           ROLLING STOCK  \n",
       "3            NaN      LORRY CROSSING OVER THE TRACK             HUMAN ERROR  \n",
       "4            NaN                   SHORTAGE OF FUEL                     NaN  \n",
       "..           ...                                ...                     ...  \n",
       "786          NaN                        TIGHT GAUGE                   TRACK  \n",
       "787          NaN                 BRAKE BEAM DROPPED           ROLLING STOCK  \n",
       "788          NaN  NEGLIGENCY OF ROAD VEHICLE DRIVER                     NaN  \n",
       "789       INJURY  NEGLIGENCY OF ROAD VEHICLE DRIVER                    NONE  \n",
       "790          NaN                            JERKING              UNRESOLVED  \n",
       "\n",
       "[791 rows x 13 columns]"
      ]
     },
     "execution_count": 6,
     "metadata": {},
     "output_type": "execute_result"
    }
   ],
   "source": [
    "# Remove duplicates if any\n",
    "df.drop_duplicates()"
   ]
  },
  {
   "cell_type": "code",
   "execution_count": 7,
   "metadata": {},
   "outputs": [
    {
     "name": "stdout",
     "output_type": "stream",
     "text": [
      "<class 'pandas.core.frame.DataFrame'>\n",
      "RangeIndex: 791 entries, 0 to 790\n",
      "Data columns (total 13 columns):\n",
      " #   Column                   Non-Null Count  Dtype  \n",
      "---  ------                   --------------  -----  \n",
      " 0   ID                       791 non-null    int64  \n",
      " 1   REF_NO                   791 non-null    object \n",
      " 2   OCCURED_AT               791 non-null    object \n",
      " 3   LOCATION                 284 non-null    object \n",
      " 4   FROM(KM)                 531 non-null    float64\n",
      " 5   TO(KM)                   204 non-null    float64\n",
      " 6   SEC_ID                   534 non-null    object \n",
      " 7   TRAIN                    560 non-null    object \n",
      " 8   LOCO/TROLLEY             566 non-null    object \n",
      " 9   ACCIDENT_SUBJECT         791 non-null    object \n",
      " 10  DEATH/INJURY             11 non-null     object \n",
      " 11  ACCIDENT_CAUSE           776 non-null    object \n",
      " 12  RESPONSIBLE_DESIGNATION  560 non-null    object \n",
      "dtypes: float64(2), int64(1), object(10)\n",
      "memory usage: 80.5+ KB\n"
     ]
    }
   ],
   "source": [
    "# The info() method to show the datatype\n",
    "df.info()"
   ]
  },
  {
   "cell_type": "code",
   "execution_count": 8,
   "metadata": {},
   "outputs": [
    {
     "data": {
      "text/plain": [
       "ID                           0\n",
       "REF_NO                       0\n",
       "OCCURED_AT                   0\n",
       "LOCATION                   507\n",
       "FROM(KM)                   260\n",
       "TO(KM)                     587\n",
       "SEC_ID                     257\n",
       "TRAIN                      231\n",
       "LOCO/TROLLEY               225\n",
       "ACCIDENT_SUBJECT             0\n",
       "DEATH/INJURY               780\n",
       "ACCIDENT_CAUSE              15\n",
       "RESPONSIBLE_DESIGNATION    231\n",
       "dtype: int64"
      ]
     },
     "execution_count": 8,
     "metadata": {},
     "output_type": "execute_result"
    }
   ],
   "source": [
    "# .isnull().sum() returns the number of missing values in the dataset.\n",
    "df.isnull().sum()"
   ]
  },
  {
   "cell_type": "code",
   "execution_count": 23,
   "metadata": {},
   "outputs": [
    {
     "data": {
      "text/plain": [
       "Text(0.5, 1.0, 'Missing values in the dataset')"
      ]
     },
     "execution_count": 23,
     "metadata": {},
     "output_type": "execute_result"
    },
    {
     "data": {
      "image/png": "[encoded data removed]",
      "text/plain": [
       "<Figure size 1400x300 with 1 Axes>"
      ]
     },
     "metadata": {},
     "output_type": "display_data"
    }
   ],
   "source": [
    "# Show a heatmap of the missing values\n",
    "plt.figure(figsize=(14,3))\n",
    "sns.heatmap(df.isnull(), cbar=False, cmap='crest', yticklabels=False)\n",
    "plt.title('Missing values in the dataset')"
   ]
  },
  {
   "cell_type": "code",
   "execution_count": 20,
   "metadata": {},
   "outputs": [
    {
     "data": {
      "text/plain": [
       "0      UNKNOWN\n",
       "1      UNKNOWN\n",
       "2      UNKNOWN\n",
       "3      UNKNOWN\n",
       "4      UNKNOWN\n",
       "        ...   \n",
       "786    UNKNOWN\n",
       "787    UNKNOWN\n",
       "788    UNKNOWN\n",
       "789     INJURY\n",
       "790    UNKNOWN\n",
       "Name: DEATH/INJURY, Length: 791, dtype: object"
      ]
     },
     "execution_count": 20,
     "metadata": {},
     "output_type": "execute_result"
    }
   ],
   "source": [
    "# For the 'DEATH/INJURY' column, the missing values are filled with 'UNKNOWN' \n",
    "df['DEATH/INJURY'].fillna(value='UNKNOWN')"
   ]
  },
  {
   "cell_type": "code",
   "execution_count": 49,
   "metadata": {},
   "outputs": [
    {
     "data": {
      "text/plain": [
       "589    KKU.ACC.03.2021\n",
       "Name: REF_NO, dtype: object"
      ]
     },
     "execution_count": 49,
     "metadata": {},
     "output_type": "execute_result"
    }
   ],
   "source": [
    "# Show the reference number of the accident which occurred on 9/9/21 at 9:20 (This can be found at row 589)\n",
    "df[df['OCCURED_AT']=='9/9/21 9:20']['REF_NO']"
   ]
  },
  {
   "cell_type": "code",
   "execution_count": 39,
   "metadata": {},
   "outputs": [
    {
     "data": {
      "text/plain": [
       "TRAIN\n",
       "011      13125.75\n",
       "64U07         NaN\n",
       "650      14020.80\n",
       "660      10638.90\n",
       "661      10012.80\n",
       "           ...   \n",
       "Z321     10347.40\n",
       "Z341     10587.90\n",
       "Z361          NaN\n",
       "Z371     10577.70\n",
       "Z611     10578.20\n",
       "Name: FROM(KM), Length: 218, dtype: float64"
      ]
     },
     "execution_count": 39,
     "metadata": {},
     "output_type": "execute_result"
    }
   ],
   "source": [
    "# Show the futherest distances of accident for each train type\n",
    "df.groupby('TRAIN').max('FROM(KM)')['FROM(KM)']"
   ]
  },
  {
   "cell_type": "code",
   "execution_count": 75,
   "metadata": {},
   "outputs": [
    {
     "data": {
      "text/html": [
       "<div>\n",
       "<style scoped>\n",
       "    .dataframe tbody tr th:only-of-type {\n",
       "        vertical-align: middle;\n",
       "    }\n",
       "\n",
       "    .dataframe tbody tr th {\n",
       "        vertical-align: top;\n",
       "    }\n",
       "\n",
       "    .dataframe thead th {\n",
       "        text-align: right;\n",
       "    }\n",
       "</style>\n",
       "<table border=\"1\" class=\"dataframe\">\n",
       "  <thead>\n",
       "    <tr style=\"text-align: right;\">\n",
       "      <th></th>\n",
       "      <th>ID</th>\n",
       "      <th>REF_NO</th>\n",
       "      <th>OCCURED_AT</th>\n",
       "      <th>LOCATION</th>\n",
       "      <th>FROM(KM)</th>\n",
       "      <th>TO(KM)</th>\n",
       "      <th>SEC_ID</th>\n",
       "      <th>TRAIN</th>\n",
       "      <th>LOCO/TROLLEY</th>\n",
       "      <th>ACCIDENT_SUBJECT</th>\n",
       "      <th>DEATH/INJURY</th>\n",
       "      <th>ACCIDENT_CAUSE</th>\n",
       "      <th>RESPONSIBLE_DESIGNATION</th>\n",
       "    </tr>\n",
       "  </thead>\n",
       "  <tbody>\n",
       "    <tr>\n",
       "      <th>430</th>\n",
       "      <td>431</td>\n",
       "      <td>MAI.ACC.48.21</td>\n",
       "      <td>11/28/21 11:35</td>\n",
       "      <td>KUN SIDING</td>\n",
       "      <td>1.9</td>\n",
       "      <td>NaN</td>\n",
       "      <td>NaN</td>\n",
       "      <td>NaN</td>\n",
       "      <td>NaN</td>\n",
       "      <td>SAND COVERED THE TRACK</td>\n",
       "      <td>NaN</td>\n",
       "      <td>HEAVY RAIN</td>\n",
       "      <td>NaN</td>\n",
       "    </tr>\n",
       "  </tbody>\n",
       "</table>\n",
       "</div>"
      ],
      "text/plain": [
       "      ID         REF_NO      OCCURED_AT    LOCATION  FROM(KM)  TO(KM) SEC_ID  \\\n",
       "430  431  MAI.ACC.48.21  11/28/21 11:35  KUN SIDING       1.9     NaN    NaN   \n",
       "\n",
       "    TRAIN LOCO/TROLLEY        ACCIDENT_SUBJECT DEATH/INJURY ACCIDENT_CAUSE  \\\n",
       "430   NaN          NaN  SAND COVERED THE TRACK          NaN     HEAVY RAIN   \n",
       "\n",
       "    RESPONSIBLE_DESIGNATION  \n",
       "430                     NaN  "
      ]
     },
     "execution_count": 75,
     "metadata": {},
     "output_type": "execute_result"
    }
   ],
   "source": [
    "# Show the row for the accident occurred closest to the location\n",
    "df[df['FROM(KM)']==df['FROM(KM)'].min()]"
   ]
  },
  {
   "cell_type": "code",
   "execution_count": 44,
   "metadata": {},
   "outputs": [
    {
     "data": {
      "text/plain": [
       "48"
      ]
     },
     "execution_count": 44,
     "metadata": {},
     "output_type": "execute_result"
    }
   ],
   "source": [
    "# Show the number of accident cause by mechanical fault\n",
    "# df[df['ACCIDENT_CAUSE']=='MECHANICAL'].count()\n",
    "sum(df['ACCIDENT_CAUSE']=='MECHANICAL')"
   ]
  },
  {
   "cell_type": "code",
   "execution_count": 45,
   "metadata": {},
   "outputs": [
    {
     "data": {
      "text/plain": [
       "4"
      ]
     },
     "execution_count": 45,
     "metadata": {},
     "output_type": "execute_result"
    }
   ],
   "source": [
    "# Show the number of accident death\n",
    "sum(df['DEATH/INJURY']=='DEATH')"
   ]
  },
  {
   "cell_type": "code",
   "execution_count": 58,
   "metadata": {},
   "outputs": [
    {
     "data": {
      "text/plain": [
       "ACCIDENT_CAUSE\n",
       "TO BE STATED     93\n",
       "TEAR AND WEAR    84\n",
       "HEAVY RAIN       82\n",
       "Name: count, dtype: int64"
      ]
     },
     "execution_count": 58,
     "metadata": {},
     "output_type": "execute_result"
    }
   ],
   "source": [
    "# Show top three accident causes\n",
    "df['ACCIDENT_CAUSE'].value_counts().head(3)"
   ]
  },
  {
   "cell_type": "code",
   "execution_count": 48,
   "metadata": {},
   "outputs": [
    {
     "data": {
      "text/plain": [
       "LOCO/TROLLEY\n",
       "9010     24\n",
       "9015     22\n",
       "9017     21\n",
       "9016     21\n",
       "88U10    21\n",
       "9008     20\n",
       "9004     19\n",
       "9012     19\n",
       "9006     18\n",
       "9007     18\n",
       "Name: count, dtype: int64"
      ]
     },
     "execution_count": 48,
     "metadata": {},
     "output_type": "execute_result"
    }
   ],
   "source": [
    "# Show top ten trollies involved in accidents (descending order)\n",
    "df['LOCO/TROLLEY'].value_counts().head(10)"
   ]
  },
  {
   "cell_type": "code",
   "execution_count": 42,
   "metadata": {},
   "outputs": [
    {
     "data": {
      "text/plain": [
       "77"
      ]
     },
     "execution_count": 42,
     "metadata": {},
     "output_type": "execute_result"
    }
   ],
   "source": [
    "# Show the number of locations for the train S/E\n",
    "sum(df[df['TRAIN']=='S/E']['LOCATION'].value_counts())"
   ]
  },
  {
   "cell_type": "code",
   "execution_count": 55,
   "metadata": {},
   "outputs": [
    {
     "data": {
      "text/plain": [
       "41"
      ]
     },
     "execution_count": 55,
     "metadata": {},
     "output_type": "execute_result"
    }
   ],
   "source": [
    "# Show the number of accidents occurred from more than 16000 km\n",
    "len(df[df['FROM(KM)']>16000])"
   ]
  },
  {
   "cell_type": "code",
   "execution_count": 60,
   "metadata": {},
   "outputs": [
    {
     "data": {
      "text/plain": [
       "<Axes: xlabel='FROM(KM)', ylabel='Count'>"
      ]
     },
     "execution_count": 60,
     "metadata": {},
     "output_type": "execute_result"
    },
    {
     "data": {
      "image/png": "[encoded data removed]",
      "text/plain": [
       "<Figure size 1200x600 with 1 Axes>"
      ]
     },
     "metadata": {},
     "output_type": "display_data"
    }
   ],
   "source": [
    "# Occurrence of accidents distances via histogram plot\n",
    "plt.figure(figsize=(12,6))\n",
    "sns.histplot(df['FROM(KM)'])"
   ]
  },
  {
   "cell_type": "code",
   "execution_count": 67,
   "metadata": {},
   "outputs": [
    {
     "data": {
      "text/plain": [
       "<seaborn.axisgrid.FacetGrid at 0x29b16ac2150>"
      ]
     },
     "execution_count": 67,
     "metadata": {},
     "output_type": "execute_result"
    },
    {
     "data": {
      "text/plain": [
       "<Figure size 1200x600 with 0 Axes>"
      ]
     },
     "metadata": {},
     "output_type": "display_data"
    },
    {
     "data": {
      "image/png": "[encoded data removed]",
      "text/plain": [
       "<Figure size 500x500 with 1 Axes>"
      ]
     },
     "metadata": {},
     "output_type": "display_data"
    }
   ],
   "source": [
    "# Occurrence of accidents distances via distribution plot\n",
    "plt.figure(figsize=(12,6))\n",
    "sns.displot(df['FROM(KM)'],kde=True,bins=50)"
   ]
  }
 ],
 "metadata": {
  "kernelspec": {
   "display_name": "Python 3",
   "language": "python",
   "name": "python3"
  },
  "language_info": {
   "codemirror_mode": {
    "name": "ipython",
    "version": 3
   },
   "file_extension": ".py",
   "mimetype": "text/x-python",
   "name": "python",
   "nbconvert_exporter": "python",
   "pygments_lexer": "ipython3",
   "version": "3.12.0"
  }
 },
 "nbformat": 4,
 "nbformat_minor": 2
}
