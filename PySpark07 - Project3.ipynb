{
 "cells": [
  {
   "cell_type": "markdown",
   "metadata": {},
   "source": [
    "# PYSPARK PROJECT THREE\n",
    "* Dataset filename: exercise1.csv\n",
    "* License Type: Fake Database\n",
    "* Internet log mock data\n",
    "* Data columns: IP Address, Country, Domain Name, Bytes Used\n",
    "\n",
    "Aims:\n",
    "* Create a new column to indicate YES/NO for the country: Japan.\n",
    "* Croup the newly created column based on the sum of bytes used.\n",
    "* Group by countries and use the sqlfunc.countDistinct method to count the number of unique IP addresses observed for each country.\n",
    "___"
   ]
  },
  {
   "cell_type": "markdown",
   "metadata": {},
   "source": [
    "#### 1) Start a Spark Session"
   ]
  },
  {
   "cell_type": "code",
   "execution_count": 1,
   "metadata": {
    "collapsed": true
   },
   "outputs": [],
   "source": []
  },
  {
   "cell_type": "markdown",
   "metadata": {},
   "source": [
    "#### 2) Load the dataset file + Infer schema type + Show the dataset schema + Show the first 20 rows"
   ]
  },
  {
   "cell_type": "code",
   "execution_count": null,
   "metadata": {
    "collapsed": true
   },
   "outputs": [],
   "source": []
  },
  {
   "cell_type": "markdown",
   "metadata": {},
   "source": [
    "#### 3) Import SQL functions + Link all functions to the library"
   ]
  },
  {
   "cell_type": "code",
   "execution_count": 5,
   "metadata": {
    "collapsed": false
   },
   "outputs": [],
   "source": []
  },
  {
   "cell_type": "markdown",
   "metadata": {},
   "source": [
    "#### 4) Create a new column named as 'JAPAN' and indicate YES/NO based on the 'Country' column"
   ]
  },
  {
   "cell_type": "code",
   "execution_count": null,
   "metadata": {},
   "outputs": [],
   "source": []
  },
  {
   "cell_type": "markdown",
   "metadata": {},
   "source": [
    "#### 5) Group the new 'JAPAN' column + Show the sum for the 'Bytes_used' column in a new column named as 'TotalBytes'"
   ]
  },
  {
   "cell_type": "code",
   "execution_count": null,
   "metadata": {
    "collapsed": false
   },
   "outputs": [],
   "source": []
  },
  {
   "cell_type": "markdown",
   "metadata": {},
   "source": [
    "#### 6) Group by countries to count the number of unique IP addresses"
   ]
  },
  {
   "cell_type": "code",
   "execution_count": null,
   "metadata": {
    "collapsed": true
   },
   "outputs": [],
   "source": []
  },
  {
   "cell_type": "markdown",
   "metadata": {},
   "source": [
    "#### 7) Sort the result from step 6 in a descending order"
   ]
  },
  {
   "cell_type": "code",
   "execution_count": 16,
   "metadata": {},
   "outputs": [
    {
     "name": "stdout",
     "output_type": "stream",
     "text": [
      "+--------------+---------+\n",
      "|       Country|UniqueIPs|\n",
      "+--------------+---------+\n",
      "|         China|      172|\n",
      "|     Indonesia|      114|\n",
      "|   Philippines|       65|\n",
      "|        Russia|       56|\n",
      "|        Brazil|       35|\n",
      "|        Poland|       31|\n",
      "|        Sweden|       28|\n",
      "|         Japan|       25|\n",
      "|Czech Republic|       23|\n",
      "|      Portugal|       23|\n",
      "|        France|       21|\n",
      "|          Peru|       19|\n",
      "|      Colombia|       17|\n",
      "| United States|       15|\n",
      "|     Argentina|       14|\n",
      "|       Ukraine|       14|\n",
      "|        Mexico|       13|\n",
      "|      Thailand|       12|\n",
      "|       Nigeria|       11|\n",
      "|        Canada|       11|\n",
      "+--------------+---------+\n",
      "only showing top 20 rows\n",
      "\n"
     ]
    }
   ],
   "source": []
  },
  {
   "cell_type": "markdown",
   "metadata": {},
   "source": [
    "___"
   ]
  }
 ],
 "metadata": {
  "anaconda-cloud": {},
  "kernelspec": {
   "display_name": "Python 3",
   "language": "python",
   "name": "python3"
  },
  "language_info": {
   "codemirror_mode": {
    "name": "ipython",
    "version": 3
   },
   "file_extension": ".py",
   "mimetype": "text/x-python",
   "name": "python",
   "nbconvert_exporter": "python",
   "pygments_lexer": "ipython3",
   "version": "3.11.2"
  }
 },
 "nbformat": 4,
 "nbformat_minor": 0
}
